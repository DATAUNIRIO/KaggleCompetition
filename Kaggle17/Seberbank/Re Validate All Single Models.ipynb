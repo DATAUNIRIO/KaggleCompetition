{
 "cells": [
  {
   "cell_type": "code",
   "execution_count": 1,
   "metadata": {},
   "outputs": [
    {
     "name": "stderr",
     "output_type": "stream",
     "text": [
      "/home/jiashen/env3/lib/python3.5/site-packages/sklearn/cross_validation.py:44: DeprecationWarning: This module was deprecated in version 0.18 in favor of the model_selection module into which all the refactored classes and functions are moved. Also note that the interface of the new CV iterators are different from that of this module. This module will be removed in 0.20.\n",
      "  \"This module will be removed in 0.20.\", DeprecationWarning)\n"
     ]
    }
   ],
   "source": [
    "%matplotlib inline\n",
    "import pandas as pd\n",
    "import numpy as np\n",
    "import xgboost as xgb"
   ]
  },
  {
   "cell_type": "markdown",
   "metadata": {},
   "source": [
    "# XGBoost CV Framework"
   ]
  },
  {
   "cell_type": "code",
   "execution_count": 13,
   "metadata": {
    "collapsed": true
   },
   "outputs": [],
   "source": [
    "from sklearn.model_selection import KFold\n",
    "from sklearn.metrics import mean_squared_error as mse"
   ]
  },
  {
   "cell_type": "code",
   "execution_count": 33,
   "metadata": {
    "collapsed": true
   },
   "outputs": [],
   "source": [
    "def xgb_cv(train,label,params,rounds,col):\n",
    "    train = train.reset_index(drop=True)\n",
    "    kf = KFold(n_splits=5,shuffle=False)\n",
    "    i = 0\n",
    "    for train_index, test_index in kf.split(train):\n",
    "        i+=1\n",
    "        print(\"TRAIN:\", train_index, \"TEST:\", test_index)\n",
    "        X_train, X_test = train.iloc[train_index,:], train.iloc[test_index,:]\n",
    "        y_train, y_test = label[train_index],label[test_index]\n",
    "        dtrain = xgb.DMatrix(X_train[col],y_train)\n",
    "        dtest = xgb.DMatrix(X_test[col])\n",
    "        model = xgb.train(params,dtrain,num_boost_round=rounds)\n",
    "        print('training done')\n",
    "        pred = model.predict(dtest)\n",
    "        RMSLE = mse(np.log(y_test+1),np.log(pred+1))**0.5\n",
    "        print('RMSLE: '+str(RMSLE))\n",
    "        if i ==5:\n",
    "            print('Check RMSE of same model in different time period')\n",
    "            num_pred = round(len(y_test)/3)\n",
    "            y_test1,y_test2,y_test3 = y_test[:num_pred],y_test[num_pred:num_pred*2],y_test[num_pred*2:]\n",
    "            pred1,pred2,pred3 = pred[:num_pred],pred[num_pred:num_pred*2],pred[num_pred*2:]\n",
    "            print(mse(np.log(y_test1+1),np.log(pred1+1))**0.5)\n",
    "            print(mse(np.log(y_test2+1),np.log(pred1+2))**0.5)\n",
    "            print(mse(np.log(y_test3+1),np.log(pred3+1))**0.5)"
   ]
  },
  {
   "cell_type": "markdown",
   "metadata": {},
   "source": [
    "# 1. XGboost Inputs"
   ]
  },
  {
   "cell_type": "markdown",
   "metadata": {},
   "source": [
    "## 1. Best Model: Original Feature Set + 0.95 Label"
   ]
  },
  {
   "cell_type": "code",
   "execution_count": 21,
   "metadata": {
    "collapsed": true
   },
   "outputs": [],
   "source": [
    "train = pd.read_csv('train_c.csv')\n",
    "test = pd.read_csv('test_c.csv')"
   ]
  },
  {
   "cell_type": "code",
   "execution_count": 22,
   "metadata": {
    "collapsed": true
   },
   "outputs": [],
   "source": [
    "label = train['price_doc']*0.95+10\n",
    "col = list(test.columns)[2:]"
   ]
  },
  {
   "cell_type": "code",
   "execution_count": 23,
   "metadata": {},
   "outputs": [],
   "source": [
    "dtrain = xgb.DMatrix(train[col],label)\n",
    "dtest = xgb.DMatrix(test[col])\n",
    "params = {\n",
    "    'eta': 0.05, ## Try 0.01,3,5\n",
    "    'max_depth': 5,## Try 4,5,6\n",
    "    'subsample': 0.7,\n",
    "    'colsample_bytree': 0.7,\n",
    "    'objective': 'reg:linear',\n",
    "    'eval_metric': 'rmse',\n",
    "    'silent': 1\n",
    "}"
   ]
  },
  {
   "cell_type": "code",
   "execution_count": 24,
   "metadata": {},
   "outputs": [
    {
     "name": "stdout",
     "output_type": "stream",
     "text": [
      "[0]\ttrain-rmse:7.7958e+06\ttest-rmse:7.80037e+06\n",
      "[50]\ttrain-rmse:2.39694e+06\ttest-rmse:2.76631e+06\n",
      "[100]\ttrain-rmse:2.07912e+06\ttest-rmse:2.59791e+06\n",
      "[150]\ttrain-rmse:1.97156e+06\ttest-rmse:2.56523e+06\n",
      "[200]\ttrain-rmse:1.89038e+06\ttest-rmse:2.54726e+06\n",
      "[250]\ttrain-rmse:1.82037e+06\ttest-rmse:2.53597e+06\n",
      "[300]\ttrain-rmse:1.76422e+06\ttest-rmse:2.53101e+06\n",
      "[350]\ttrain-rmse:1.7127e+06\ttest-rmse:2.52498e+06\n",
      "Performance does not improve from 372 rounds\n"
     ]
    },
    {
     "data": {
      "image/png": "[encoded data removed]",
      "text/plain": [
       "<matplotlib.figure.Figure at 0x7f62198959e8>"
      ]
     },
     "metadata": {},
     "output_type": "display_data"
    }
   ],
   "source": [
    "xgb_cvalid = xgb.cv(params, dtrain, num_boost_round=1000, early_stopping_rounds=20,\n",
    "    verbose_eval=50, show_stdv=False,seed=42)\n",
    "xgb_cvalid[['train-rmse-mean', 'test-rmse-mean']].plot()\n",
    "print('Performance does not improve from '+str(len(xgb_cvalid))+' rounds')"
   ]
  },
  {
   "cell_type": "markdown",
   "metadata": {},
   "source": [
    "Re-Cross Validating Them"
   ]
  },
  {
   "cell_type": "code",
   "execution_count": 34,
   "metadata": {},
   "outputs": [
    {
     "name": "stdout",
     "output_type": "stream",
     "text": [
      "TRAIN: [ 6095  6096  6097 ..., 30468 30469 30470] TEST: [   0    1    2 ..., 6092 6093 6094]\n",
      "training done\n",
      "RMSLE: 0.590809882695\n",
      "TRAIN: [    0     1     2 ..., 30468 30469 30470] TEST: [ 6095  6096  6097 ..., 12186 12187 12188]\n",
      "training done\n",
      "RMSLE: 0.429947470386\n",
      "TRAIN: [    0     1     2 ..., 30468 30469 30470] TEST: [12189 12190 12191 ..., 18280 18281 18282]\n",
      "training done\n",
      "RMSLE: 0.476029789245\n",
      "TRAIN: [    0     1     2 ..., 30468 30469 30470] TEST: [18283 18284 18285 ..., 24374 24375 24376]\n",
      "training done\n",
      "RMSLE: 0.449391124542\n",
      "TRAIN: [    0     1     2 ..., 24374 24375 24376] TEST: [24377 24378 24379 ..., 30468 30469 30470]\n",
      "training done\n",
      "RMSLE: 0.412451758223\n",
      "Check RMSE of same model in different time period\n",
      "0.43429368646\n",
      "0.729096407802\n",
      "0.387951909708\n"
     ]
    }
   ],
   "source": [
    "xgb_cv(train,label,params,372,col)"
   ]
  },
  {
   "cell_type": "markdown",
   "metadata": {},
   "source": [
    "## 2. Base Model With Subsampled Dataset and original label"
   ]
  },
  {
   "cell_type": "code",
   "execution_count": 41,
   "metadata": {
    "collapsed": true
   },
   "outputs": [],
   "source": [
    "train = pd.read_csv('train_adjusted.csv')\n",
    "col = list(test.columns)[2:]\n",
    "for each in col:\n",
    "    if train[each].dtype == 'object':\n",
    "        train[each] = pd.factorize(train[each], sort=True)[0]\n",
    "        test[each]=pd.factorize(test[each], sort=True)[0]"
   ]
  },
  {
   "cell_type": "code",
   "execution_count": 47,
   "metadata": {
    "collapsed": true
   },
   "outputs": [],
   "source": [
    "dtrain = xgb.DMatrix(train[col],label)\n",
    "label = train['price_doc']\n",
    "params = {\n",
    "    'eta': 0.05, ## Try 0.01,3,5\n",
    "    'max_depth': 5,## Try 4,5,6\n",
    "    'subsample': 0.7,\n",
    "    'colsample_bytree': 0.7,\n",
    "    'objective': 'reg:linear',\n",
    "    'eval_metric': 'rmse',\n",
    "    'silent': 1\n",
    "}"
   ]
  },
  {
   "cell_type": "code",
   "execution_count": 48,
   "metadata": {},
   "outputs": [
    {
     "name": "stdout",
     "output_type": "stream",
     "text": [
      "[0]\ttrain-rmse:8.36082e+06\ttest-rmse:8.36776e+06\n",
      "[50]\ttrain-rmse:2.27264e+06\ttest-rmse:2.71923e+06\n",
      "[100]\ttrain-rmse:1.91405e+06\ttest-rmse:2.53384e+06\n",
      "[150]\ttrain-rmse:1.78773e+06\ttest-rmse:2.49972e+06\n",
      "[200]\ttrain-rmse:1.70157e+06\ttest-rmse:2.47908e+06\n",
      "[250]\ttrain-rmse:1.63074e+06\ttest-rmse:2.46875e+06\n",
      "[300]\ttrain-rmse:1.57054e+06\ttest-rmse:2.46074e+06\n",
      "[350]\ttrain-rmse:1.51669e+06\ttest-rmse:2.45707e+06\n",
      "[400]\ttrain-rmse:1.46812e+06\ttest-rmse:2.45506e+06\n",
      "[450]\ttrain-rmse:1.42741e+06\ttest-rmse:2.453e+06\n",
      "Performance does not improve from 450 rounds\n"
     ]
    },
    {
     "data": {
      "image/png": "[encoded data removed]",
      "text/plain": [
       "<matplotlib.figure.Figure at 0x7f62196e4908>"
      ]
     },
     "metadata": {},
     "output_type": "display_data"
    }
   ],
   "source": [
    "xgb_cvalid = xgb.cv(params, dtrain, num_boost_round=1000, early_stopping_rounds=20,\n",
    "    verbose_eval=50, show_stdv=False,seed=42)\n",
    "xgb_cvalid[['train-rmse-mean', 'test-rmse-mean']].plot()\n",
    "print('Performance does not improve from '+str(len(xgb_cvalid))+' rounds')"
   ]
  },
  {
   "cell_type": "code",
   "execution_count": 51,
   "metadata": {},
   "outputs": [
    {
     "name": "stdout",
     "output_type": "stream",
     "text": [
      "TRAIN: [ 5853  5854  5855 ..., 29259 29260 29261] TEST: [   0    1    2 ..., 5850 5851 5852]\n",
      "training done\n",
      "RMSLE: 0.39423641369\n",
      "TRAIN: [    0     1     2 ..., 29259 29260 29261] TEST: [ 5853  5854  5855 ..., 11703 11704 11705]\n",
      "training done\n",
      "RMSLE: 0.321154354061\n",
      "TRAIN: [    0     1     2 ..., 29259 29260 29261] TEST: [11706 11707 11708 ..., 17555 17556 17557]\n",
      "training done\n",
      "RMSLE: 0.339004823352\n",
      "TRAIN: [    0     1     2 ..., 29259 29260 29261] TEST: [17558 17559 17560 ..., 23407 23408 23409]\n",
      "training done\n",
      "RMSLE: 0.320998590207\n",
      "TRAIN: [    0     1     2 ..., 23407 23408 23409] TEST: [23410 23411 23412 ..., 29259 29260 29261]\n",
      "training done\n",
      "RMSLE: 0.298932529875\n",
      "Check RMSE of same model in different time period\n",
      "0.286272398875\n",
      "0.666838420045\n",
      "0.286828532838\n"
     ]
    }
   ],
   "source": [
    "xgb_cv(train,label,params,len(xgb_cvalid),col)"
   ]
  },
  {
   "cell_type": "code",
   "execution_count": null,
   "metadata": {
    "collapsed": true
   },
   "outputs": [],
   "source": []
  }
 ],
 "metadata": {
  "kernelspec": {
   "display_name": "Python 3",
   "language": "python",
   "name": "python3"
  },
  "language_info": {
   "codemirror_mode": {
    "name": "ipython",
    "version": 3
   },
   "file_extension": ".py",
   "mimetype": "text/x-python",
   "name": "python",
   "nbconvert_exporter": "python",
   "pygments_lexer": "ipython3",
   "version": "3.5.2"
  }
 },
 "nbformat": 4,
 "nbformat_minor": 2
}
