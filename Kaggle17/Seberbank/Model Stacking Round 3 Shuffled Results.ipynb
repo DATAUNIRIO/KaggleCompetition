{
 "cells": [
  {
   "cell_type": "code",
   "execution_count": 27,
   "metadata": {},
   "outputs": [],
   "source": [
    "%run Functions.py\n",
    "import warnings\n",
    "warnings.filterwarnings('ignore')"
   ]
  },
  {
   "cell_type": "markdown",
   "metadata": {},
   "source": [
    "## M1"
   ]
  },
  {
   "cell_type": "code",
   "execution_count": 38,
   "metadata": {
    "collapsed": true
   },
   "outputs": [],
   "source": [
    "train = pd.read_csv('train_c.csv')\n",
    "test = pd.read_csv('test_c.csv')"
   ]
  },
  {
   "cell_type": "code",
   "execution_count": 39,
   "metadata": {
    "collapsed": true
   },
   "outputs": [],
   "source": [
    "train = train.sample(frac=1).reset_index(drop=True)"
   ]
  },
  {
   "cell_type": "code",
   "execution_count": 40,
   "metadata": {
    "collapsed": true
   },
   "outputs": [],
   "source": [
    "label1 = train['price_doc']*0.95 + 10.5"
   ]
  },
  {
   "cell_type": "code",
   "execution_count": 41,
   "metadata": {
    "collapsed": true
   },
   "outputs": [],
   "source": [
    "col1 = list(test.columns)[2:]"
   ]
  },
  {
   "cell_type": "code",
   "execution_count": 42,
   "metadata": {
    "collapsed": true
   },
   "outputs": [],
   "source": [
    "rounds1 = 372\n",
    "params1 = {\n",
    "    'eta': 0.05, ## Try 0.01,3,5\n",
    "    'max_depth': 5,## Try 4,5,6\n",
    "    'subsample': 0.7,\n",
    "    'colsample_bytree': 0.7,\n",
    "    'objective': 'reg:linear',\n",
    "    'eval_metric': 'rmse',\n",
    "    'silent': 1\n",
    "} "
   ]
  },
  {
   "cell_type": "code",
   "execution_count": 43,
   "metadata": {},
   "outputs": [
    {
     "name": "stdout",
     "output_type": "stream",
     "text": [
      "TRAIN: [ 6095  6096  6097 ..., 30468 30469 30470] TEST: [   0    1    2 ..., 6092 6093 6094]\n",
      "TRAIN: [    0     1     2 ..., 30468 30469 30470] TEST: [ 6095  6096  6097 ..., 12186 12187 12188]\n",
      "TRAIN: [    0     1     2 ..., 30468 30469 30470] TEST: [12189 12190 12191 ..., 18280 18281 18282]\n",
      "TRAIN: [    0     1     2 ..., 30468 30469 30470] TEST: [18283 18284 18285 ..., 24374 24375 24376]\n",
      "TRAIN: [    0     1     2 ..., 24374 24375 24376] TEST: [24377 24378 24379 ..., 30468 30469 30470]\n",
      "Start Training\n"
     ]
    }
   ],
   "source": [
    "model1_input,model1_predict = get_xgb_stack_data(params1,rounds1,train,col1,label1,test)"
   ]
  },
  {
   "cell_type": "markdown",
   "metadata": {},
   "source": [
    "## M2"
   ]
  },
  {
   "cell_type": "code",
   "execution_count": 59,
   "metadata": {
    "collapsed": true
   },
   "outputs": [],
   "source": [
    "train = pd.read_csv('train_clean.csv')\n",
    "test = pd.read_csv('test_clean.csv')\n",
    "macro = pd.read_csv('macro_c.csv')"
   ]
  },
  {
   "cell_type": "code",
   "execution_count": 60,
   "metadata": {
    "collapsed": true
   },
   "outputs": [],
   "source": [
    "train,test = get_additional_features(train,test,macro)\n",
    "col = list(test.columns)[2:]\n",
    "train = train.sample(frac=1).reset_index(drop=True)"
   ]
  },
  {
   "cell_type": "code",
   "execution_count": 61,
   "metadata": {
    "collapsed": true
   },
   "outputs": [],
   "source": [
    "train['life_sq_ratio'] = train['life_sq']/train['full_sq']\n",
    "train['kitch_sq_ratio'] = train['kitch_sq']/train['full_sq']\n",
    "test['life_sq_ratio'] = test['life_sq']/test['full_sq']\n",
    "test['kitch_sq_ratio'] = test['kitch_sq']/test['full_sq']"
   ]
  },
  {
   "cell_type": "code",
   "execution_count": 62,
   "metadata": {
    "collapsed": true
   },
   "outputs": [],
   "source": [
    "Price_sqm = [x/y for x,y in zip(list(train['price_doc']*0.95+10),list(train['full_sq']))]\n",
    "col = list(test.columns)[2:]\n",
    "col = [each for each in col if each not in ['full_sq','life_sq','kitch_sq']]\n",
    "train['price_sqm'] = Price_sqm\n",
    "label = train['price_sqm']"
   ]
  },
  {
   "cell_type": "code",
   "execution_count": 32,
   "metadata": {
    "collapsed": true
   },
   "outputs": [],
   "source": [
    "train2 = train\n",
    "feature2 = col\n",
    "label2 = label\n",
    "params2 = {\n",
    "   'eta': 0.05, ## Try 0.01,3,5\n",
    "   'max_depth': 5,## Try 4,5,6\n",
    "   'subsample': 0.7,\n",
    "   'colsample_bytree': 0.7,\n",
    "   'objective': 'reg:linear',\n",
    "    'eval_metric': 'rmse',\n",
    "    'silent': 1\n",
    "}\n",
    "rounds2 = 400"
   ]
  },
  {
   "cell_type": "code",
   "execution_count": 34,
   "metadata": {},
   "outputs": [
    {
     "name": "stdout",
     "output_type": "stream",
     "text": [
      "TRAIN: [ 5853  5854  5855 ..., 29259 29260 29261] TEST: [   0    1    2 ..., 5850 5851 5852]\n",
      "TRAIN: [    0     1     2 ..., 29259 29260 29261] TEST: [ 5853  5854  5855 ..., 11703 11704 11705]\n",
      "TRAIN: [    0     1     2 ..., 29259 29260 29261] TEST: [11706 11707 11708 ..., 17555 17556 17557]\n",
      "TRAIN: [    0     1     2 ..., 29259 29260 29261] TEST: [17558 17559 17560 ..., 23407 23408 23409]\n",
      "TRAIN: [    0     1     2 ..., 23407 23408 23409] TEST: [23410 23411 23412 ..., 29259 29260 29261]\n",
      "Start Training\n"
     ]
    }
   ],
   "source": [
    "model2_input,model2_predict = get_xgb_stack_data(params2,rounds2,train2,feature2,label2,test)"
   ]
  },
  {
   "cell_type": "code",
   "execution_count": 35,
   "metadata": {
    "collapsed": true
   },
   "outputs": [],
   "source": [
    "model2_input_backup = model2_input"
   ]
  },
  {
   "cell_type": "code",
   "execution_count": 36,
   "metadata": {
    "collapsed": true
   },
   "outputs": [],
   "source": [
    "model2_input['predicted'] = model2_input['predicted']*model2_input['full_sq']\n",
    "model2_predict = model2_predict*test['full_sq']\n",
    "model2_input['label'] = train2['price_doc']*0.95+10"
   ]
  },
  {
   "cell_type": "markdown",
   "metadata": {},
   "source": [
    "# M3"
   ]
  },
  {
   "cell_type": "code",
   "execution_count": 63,
   "metadata": {
    "collapsed": true
   },
   "outputs": [],
   "source": [
    "def quarter_cal(Month):\n",
    "    if Month>=1 and Month <=3:\n",
    "        return 'Q1'\n",
    "    elif Month >3 and Month <=6:\n",
    "        return 'Q2'\n",
    "    elif Month >6 and Month <=9:\n",
    "        return 'Q3'\n",
    "    else:\n",
    "        return 'Q4'"
   ]
  },
  {
   "cell_type": "code",
   "execution_count": 64,
   "metadata": {},
   "outputs": [],
   "source": [
    "train_quarter = [str(x)+quarter_cal(y) for x,y in zip(list(train.timestamp.dt.year),list(train.month))]\n",
    "test_quarter = [str(x)+quarter_cal(y) for x,y in zip(list(test.timestamp.dt.year),list(test.month))]"
   ]
  },
  {
   "cell_type": "code",
   "execution_count": 65,
   "metadata": {
    "collapsed": true
   },
   "outputs": [],
   "source": [
    "train['Quarter'] = train_quarter\n",
    "test['Quarter'] = test_quarter"
   ]
  },
  {
   "cell_type": "code",
   "execution_count": 66,
   "metadata": {
    "collapsed": true
   },
   "outputs": [],
   "source": [
    "quarter_data = pd.read_csv('Quaterly Data.csv',sep=';')[['Quarter','Primary Average']]\n",
    "train = train.merge(quarter_data,on='Quarter',how='left')\n",
    "test = test.merge(quarter_data,on='Quarter',how='left')\n",
    "del train['Quarter']\n",
    "del test['Quarter']"
   ]
  },
  {
   "cell_type": "code",
   "execution_count": 67,
   "metadata": {
    "collapsed": true
   },
   "outputs": [],
   "source": [
    "Price_gap = Price_sqm - train['Primary Average']\n",
    "train['Gap'] = Price_gap"
   ]
  },
  {
   "cell_type": "code",
   "execution_count": 68,
   "metadata": {
    "collapsed": true
   },
   "outputs": [],
   "source": [
    "del train['price_sqm']"
   ]
  },
  {
   "cell_type": "code",
   "execution_count": 69,
   "metadata": {
    "collapsed": true
   },
   "outputs": [],
   "source": [
    "params3 = {\n",
    "   'eta': 0.05, ## Try 0.01,3,5\n",
    "   'max_depth': 5,## Try 4,5,6\n",
    "   'subsample': 0.7,\n",
    "   'colsample_bytree': 0.7,\n",
    "   'objective': 'reg:linear',\n",
    "    'eval_metric': 'rmse',\n",
    "    'silent': 1,\n",
    "    'lambda':5,\n",
    "    'min_child_weight':5\n",
    "}\n",
    "train3 = train\n",
    "feature3 = list(test.columns)[2:]\n",
    "label3 = train['Gap']\n",
    "round3 = 400\n",
    "feature3.remove(\"Primary Average\")"
   ]
  },
  {
   "cell_type": "code",
   "execution_count": 70,
   "metadata": {},
   "outputs": [
    {
     "name": "stdout",
     "output_type": "stream",
     "text": [
      "TRAIN: [ 5853  5854  5855 ..., 29259 29260 29261] TEST: [   0    1    2 ..., 5850 5851 5852]\n",
      "TRAIN: [    0     1     2 ..., 29259 29260 29261] TEST: [ 5853  5854  5855 ..., 11703 11704 11705]\n",
      "TRAIN: [    0     1     2 ..., 29259 29260 29261] TEST: [11706 11707 11708 ..., 17555 17556 17557]\n",
      "TRAIN: [    0     1     2 ..., 29259 29260 29261] TEST: [17558 17559 17560 ..., 23407 23408 23409]\n",
      "TRAIN: [    0     1     2 ..., 23407 23408 23409] TEST: [23410 23411 23412 ..., 29259 29260 29261]\n",
      "Start Training\n"
     ]
    }
   ],
   "source": [
    "model3_input,model3_predict = get_xgb_stack_data(params3,round3,train3,feature3,label3,test)"
   ]
  },
  {
   "cell_type": "code",
   "execution_count": 71,
   "metadata": {
    "collapsed": true
   },
   "outputs": [],
   "source": [
    "model3_input_bakup = model3_input"
   ]
  },
  {
   "cell_type": "code",
   "execution_count": 72,
   "metadata": {
    "collapsed": true
   },
   "outputs": [],
   "source": [
    "model3_input['predicted'] = (model3_input['predicted'] + model3_input['Primary Average'])*model3_input['full_sq']\n",
    "model3_input['label'] = train3['price_doc']*0.95+10"
   ]
  },
  {
   "cell_type": "code",
   "execution_count": 73,
   "metadata": {
    "collapsed": true
   },
   "outputs": [],
   "source": [
    "model3_predict = (model3_predict+test['Primary Average'])*test['full_sq']"
   ]
  },
  {
   "cell_type": "markdown",
   "metadata": {},
   "source": [
    "## Together"
   ]
  },
  {
   "cell_type": "code",
   "execution_count": 133,
   "metadata": {},
   "outputs": [],
   "source": [
    "model1_in = model1_input[['id','predicted','label','timestamp']]\n",
    "model1_in.columns = ['id','model1','label1','timestamp']"
   ]
  },
  {
   "cell_type": "code",
   "execution_count": 134,
   "metadata": {
    "collapsed": true
   },
   "outputs": [],
   "source": [
    "model2_in = model2_input[['id','predicted','label']]\n",
    "model3_in = model3_input[['id','predicted','label']]\n",
    "model2_in.columns = ['id','model2','label2']\n",
    "model3_in.columns = ['id','model3','label3']"
   ]
  },
  {
   "cell_type": "code",
   "execution_count": 135,
   "metadata": {
    "collapsed": true
   },
   "outputs": [],
   "source": [
    "model_input = model2_in.merge(model3_in,on='id',how='left')"
   ]
  },
  {
   "cell_type": "code",
   "execution_count": 136,
   "metadata": {
    "collapsed": true
   },
   "outputs": [],
   "source": [
    "model_input = model_input.merge(model1_in,on='id',how='left')"
   ]
  },
  {
   "cell_type": "code",
   "execution_count": 137,
   "metadata": {},
   "outputs": [],
   "source": [
    "model_input = model_input[['id','model1','model2','model3','label1','timestamp']]"
   ]
  },
  {
   "cell_type": "code",
   "execution_count": 138,
   "metadata": {
    "collapsed": true
   },
   "outputs": [],
   "source": [
    "model_output = pd.DataFrame({'model1':model1_predict,'model2':model2_predict,'model3':model3_predict})"
   ]
  },
  {
   "cell_type": "code",
   "execution_count": 139,
   "metadata": {
    "collapsed": true
   },
   "outputs": [],
   "source": [
    "model_output['timestamp'] = test['timestamp']"
   ]
  },
  {
   "cell_type": "code",
   "execution_count": 140,
   "metadata": {
    "collapsed": true
   },
   "outputs": [],
   "source": [
    "cols = list(model_output.columns)\n",
    "cols.remove('timestamp')"
   ]
  },
  {
   "cell_type": "code",
   "execution_count": 141,
   "metadata": {},
   "outputs": [
    {
     "name": "stdout",
     "output_type": "stream",
     "text": [
      "2273785.12717\n",
      "2285810.27173\n",
      "2262386.20152\n"
     ]
    }
   ],
   "source": [
    "from sklearn.metrics import mean_squared_error as mse\n",
    "for each in cols:\n",
    "    print(mse(model_input['label1'],model_input[each])**0.5)"
   ]
  },
  {
   "cell_type": "code",
   "execution_count": 142,
   "metadata": {},
   "outputs": [],
   "source": [
    "model_input = model_input.sort_values(['id'],ascending=1)"
   ]
  },
  {
   "cell_type": "code",
   "execution_count": 143,
   "metadata": {},
   "outputs": [],
   "source": [
    "model_input = model_input.reset_index(drop=True)"
   ]
  },
  {
   "cell_type": "code",
   "execution_count": 144,
   "metadata": {
    "collapsed": true
   },
   "outputs": [],
   "source": [
    "price = pd.read_csv('moscow_avg_price.csv')"
   ]
  },
  {
   "cell_type": "code",
   "execution_count": 145,
   "metadata": {
    "collapsed": true
   },
   "outputs": [],
   "source": [
    "price = price[['timestamp','moscow_avg_price_low_rub']]\n",
    "price['timestamp'] = pd.to_datetime(price['timestamp'])"
   ]
  },
  {
   "cell_type": "code",
   "execution_count": 146,
   "metadata": {},
   "outputs": [],
   "source": [
    "model_input = model_input.merge(price,on='timestamp',how='left')\n",
    "model_output = model_output.merge(price,on = 'timestamp',how = 'left')"
   ]
  },
  {
   "cell_type": "code",
   "execution_count": 148,
   "metadata": {},
   "outputs": [],
   "source": [
    "features = list(model_output)\n",
    "features.remove('timestamp')"
   ]
  },
  {
   "cell_type": "code",
   "execution_count": 149,
   "metadata": {
    "collapsed": true
   },
   "outputs": [],
   "source": [
    "params = {\n",
    "   'eta': 0.05, ## Try 0.01,3,5\n",
    "   'max_depth': 2,## Try 4,5,6\n",
    "   'subsample': 1,\n",
    "   'colsample_bytree':1,\n",
    "   'objective': 'reg:linear',\n",
    "    'eval_metric': 'rmse',\n",
    "    'silent': 1\n",
    "}"
   ]
  },
  {
   "cell_type": "code",
   "execution_count": 153,
   "metadata": {},
   "outputs": [
    {
     "name": "stdout",
     "output_type": "stream",
     "text": [
      "[0]\ttrain-rmse:7.94037e+06+13825.6\ttest-rmse:7.94047e+06+24608.5\n",
      "[50]\ttrain-rmse:2.27101e+06+35021.8\ttest-rmse:2.36433e+06+81089.3\n",
      "[100]\ttrain-rmse:2.11186e+06+34799.9\ttest-rmse:2.25612e+06+74219.7\n",
      "103\n"
     ]
    }
   ],
   "source": [
    "dtrain = xgb.DMatrix(model_input[features],model_input['label1'])\n",
    "dtest = xgb.DMatrix(model_output[features])\n",
    "xgb_cv = xgb.cv(params,dtrain,num_boost_round=1000,early_stopping_rounds=20,\n",
    "     verbose_eval=50, show_stdv=True,seed=42)\n",
    "print(len(xgb_cv))"
   ]
  },
  {
   "cell_type": "code",
   "execution_count": 160,
   "metadata": {
    "collapsed": true
   },
   "outputs": [],
   "source": [
    "model_level2 = xgb.train(params,dtrain,num_boost_round=103)"
   ]
  },
  {
   "cell_type": "code",
   "execution_count": 161,
   "metadata": {
    "collapsed": true
   },
   "outputs": [],
   "source": [
    "pred = model_level2.predict(dtest)\n",
    "sub = pd.DataFrame({'id':test['id'],'price_doc':pred})"
   ]
  },
  {
   "cell_type": "code",
   "execution_count": 163,
   "metadata": {},
   "outputs": [],
   "source": [
    "sub.to_csv('Stacking_Three_Shuffled_Models.csv',index=False)"
   ]
  },
  {
   "cell_type": "code",
   "execution_count": null,
   "metadata": {
    "collapsed": true
   },
   "outputs": [],
   "source": []
  },
  {
   "cell_type": "code",
   "execution_count": null,
   "metadata": {
    "collapsed": true
   },
   "outputs": [],
   "source": []
  },
  {
   "cell_type": "code",
   "execution_count": 155,
   "metadata": {},
   "outputs": [],
   "source": [
    "kf = KFold(n_splits=5)"
   ]
  },
  {
   "cell_type": "code",
   "execution_count": 159,
   "metadata": {},
   "outputs": [
    {
     "name": "stdout",
     "output_type": "stream",
     "text": [
      "[   0    1    2 ..., 5850 5851 5852]\n",
      "2680951.9575\n",
      "2663748.6802\n",
      "2675655.17657\n",
      "[ 5853  5854  5855 ..., 11703 11704 11705]\n",
      "2175288.18557\n",
      "2203528.52866\n",
      "2157402.14502\n",
      "[11706 11707 11708 ..., 17555 17556 17557]\n",
      "2167360.14743\n",
      "2209611.9036\n",
      "2196438.09484\n",
      "[17558 17559 17560 ..., 23407 23408 23409]\n",
      "2056502.33624\n",
      "2131969.76274\n",
      "2067661.24259\n",
      "[23410 23411 23412 ..., 29259 29260 29261]\n",
      "2237004.74132\n",
      "2178442.4748\n",
      "2163009.2999\n"
     ]
    }
   ],
   "source": [
    "for train_index,test_index in kf.split(model_input):\n",
    "    print(test_index)\n",
    "    Label = model_input.iloc[test_index,:]['label1']\n",
    "    for each in ['model1','model2','model3']:\n",
    "        Pred = model_input.iloc[test_index,:][each]\n",
    "        print(mse(Pred,Label)**0.5)"
   ]
  },
  {
   "cell_type": "code",
   "execution_count": null,
   "metadata": {
    "collapsed": true
   },
   "outputs": [],
   "source": []
  }
 ],
 "metadata": {
  "kernelspec": {
   "display_name": "Python 3",
   "language": "python",
   "name": "python3"
  },
  "language_info": {
   "codemirror_mode": {
    "name": "ipython",
    "version": 3
   },
   "file_extension": ".py",
   "mimetype": "text/x-python",
   "name": "python",
   "nbconvert_exporter": "python",
   "pygments_lexer": "ipython3",
   "version": "3.5.2"
  }
 },
 "nbformat": 4,
 "nbformat_minor": 2
}
