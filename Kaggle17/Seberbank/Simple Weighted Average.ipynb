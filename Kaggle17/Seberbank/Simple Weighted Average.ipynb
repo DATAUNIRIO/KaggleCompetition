{
 "cells": [
  {
   "cell_type": "markdown",
   "metadata": {},
   "source": [
    "# Explore different submissions yet"
   ]
  },
  {
   "cell_type": "code",
   "execution_count": 1,
   "metadata": {
    "collapsed": true
   },
   "outputs": [],
   "source": [
    "%matplotlib inline\n",
    "import pandas as pd\n",
    "import numpy as np"
   ]
  },
  {
   "cell_type": "markdown",
   "metadata": {},
   "source": [
    "## Import different results"
   ]
  },
  {
   "cell_type": "code",
   "execution_count": 2,
   "metadata": {
    "collapsed": true
   },
   "outputs": [],
   "source": [
    "LB031199 = pd.read_csv('xgb_0.95label.csv')['price_doc']\n",
    "LB031743 = pd.read_csv('xgb_0.95label_tsne.csv')['price_doc']\n",
    "LB031671 = pd.read_csv('xgb_0.95label_tsne_kremlin_others.csv')['price_doc']\n",
    "LB031932 = pd.read_csv('xgb_0.95label_tsne_kremlin_others_macro_feature.csv')['price_doc']\n",
    "LB031638 = pd.read_csv('xgb_0.95label_tsne_kremlin_others_param_tuning.csv')['price_doc']\n",
    "LB031340 = pd.read_csv('Submission_xgb2.csv')['price_doc']"
   ]
  },
  {
   "cell_type": "code",
   "execution_count": 8,
   "metadata": {
    "collapsed": true
   },
   "outputs": [],
   "source": [
    "id_ = pd.read_csv('xgb_0.95label.csv')['id']"
   ]
  },
  {
   "cell_type": "code",
   "execution_count": 21,
   "metadata": {
    "collapsed": true
   },
   "outputs": [],
   "source": [
    "Average = (np.log(LB031199)+np.log(LB031743)+np.log(LB031671)+np.log(LB031932)+np.log(LB031638)+np.log(LB031340))/6"
   ]
  },
  {
   "cell_type": "code",
   "execution_count": 22,
   "metadata": {
    "collapsed": true
   },
   "outputs": [],
   "source": [
    "Smoothed = np.exp(Average)"
   ]
  },
  {
   "cell_type": "code",
   "execution_count": 19,
   "metadata": {
    "collapsed": true
   },
   "outputs": [],
   "source": [
    "pre = pd.read_csv('AverageSixIndividualResults.csv')['price_doc']"
   ]
  },
  {
   "cell_type": "code",
   "execution_count": 23,
   "metadata": {},
   "outputs": [],
   "source": [
    "sub = pd.DataFrame({'id':id_,'price_doc':Smoothed})"
   ]
  },
  {
   "cell_type": "code",
   "execution_count": 24,
   "metadata": {
    "collapsed": true
   },
   "outputs": [],
   "source": [
    "sub.to_csv('AverageSixIndividualResultsLogEach.csv',index=False)"
   ]
  },
  {
   "cell_type": "code",
   "execution_count": 18,
   "metadata": {},
   "outputs": [
    {
     "data": {
      "text/plain": [
       "0       5.295588e+06\n",
       "1       8.054135e+06\n",
       "2       5.307273e+06\n",
       "3       5.711174e+06\n",
       "4       5.005023e+06\n",
       "5       9.596716e+06\n",
       "6       4.186028e+06\n",
       "7       4.160887e+06\n",
       "8       4.704270e+06\n",
       "9       4.651643e+06\n",
       "10      6.394423e+06\n",
       "11      5.031101e+06\n",
       "12      3.648274e+06\n",
       "13      3.820144e+06\n",
       "14      6.062065e+06\n",
       "15      6.038054e+06\n",
       "16      2.233047e+07\n",
       "17      1.955094e+07\n",
       "18      5.652739e+06\n",
       "19      1.339433e+07\n",
       "20      6.751254e+06\n",
       "21      1.057175e+07\n",
       "22      8.332545e+06\n",
       "23      8.097894e+06\n",
       "24      4.461835e+06\n",
       "25      7.625878e+06\n",
       "26      1.109574e+07\n",
       "27      6.773823e+06\n",
       "28      3.137230e+06\n",
       "29      6.328764e+06\n",
       "            ...     \n",
       "7632    6.124113e+06\n",
       "7633    3.372628e+06\n",
       "7634    1.071158e+07\n",
       "7635    5.311587e+06\n",
       "7636    4.430035e+06\n",
       "7637    4.850944e+06\n",
       "7638    3.534947e+06\n",
       "7639    7.388348e+06\n",
       "7640    8.092410e+06\n",
       "7641    3.546751e+06\n",
       "7642    6.894693e+06\n",
       "7643    5.831360e+06\n",
       "7644    6.946985e+06\n",
       "7645    3.427357e+06\n",
       "7646    6.261092e+06\n",
       "7647    4.787975e+06\n",
       "7648    7.447623e+06\n",
       "7649    5.768870e+06\n",
       "7650    6.815950e+06\n",
       "7651    7.890990e+06\n",
       "7652    8.994356e+06\n",
       "7653    6.372504e+06\n",
       "7654    2.150156e+06\n",
       "7655    3.503693e+06\n",
       "7656    4.649117e+06\n",
       "7657    7.951794e+06\n",
       "7658    4.975726e+06\n",
       "7659    4.912601e+06\n",
       "7660    5.269395e+06\n",
       "7661    8.468432e+06\n",
       "Name: price_doc, dtype: float64"
      ]
     },
     "execution_count": 18,
     "metadata": {},
     "output_type": "execute_result"
    }
   ],
   "source": [
    "Smoothed"
   ]
  },
  {
   "cell_type": "code",
   "execution_count": 12,
   "metadata": {},
   "outputs": [
    {
     "data": {
      "text/plain": [
       "0       5.297645e+06\n",
       "1       8.058310e+06\n",
       "2       5.310271e+06\n",
       "3       5.713907e+06\n",
       "4       5.005957e+06\n",
       "5       9.604438e+06\n",
       "6       4.187163e+06\n",
       "7       4.162250e+06\n",
       "8       4.705952e+06\n",
       "9       4.655111e+06\n",
       "10      6.395784e+06\n",
       "11      5.033206e+06\n",
       "12      3.651109e+06\n",
       "13      3.822526e+06\n",
       "14      6.062862e+06\n",
       "15      6.039475e+06\n",
       "16      2.233688e+07\n",
       "17      1.955672e+07\n",
       "18      5.654408e+06\n",
       "19      1.339734e+07\n",
       "20      6.753771e+06\n",
       "21      1.057572e+07\n",
       "22      8.334009e+06\n",
       "23      8.101786e+06\n",
       "24      4.463185e+06\n",
       "25      7.641344e+06\n",
       "26      1.109707e+07\n",
       "27      6.774779e+06\n",
       "28      3.138711e+06\n",
       "29      6.339455e+06\n",
       "            ...     \n",
       "7632    6.126353e+06\n",
       "7633    3.374422e+06\n",
       "7634    1.072082e+07\n",
       "7635    5.323068e+06\n",
       "7636    4.431932e+06\n",
       "7637    4.851966e+06\n",
       "7638    3.538499e+06\n",
       "7639    7.390012e+06\n",
       "7640    8.097807e+06\n",
       "7641    3.548699e+06\n",
       "7642    6.898181e+06\n",
       "7643    5.833647e+06\n",
       "7644    6.958550e+06\n",
       "7645    3.435025e+06\n",
       "7646    6.270788e+06\n",
       "7647    4.816094e+06\n",
       "7648    7.484087e+06\n",
       "7649    5.847173e+06\n",
       "7650    6.817258e+06\n",
       "7651    7.892221e+06\n",
       "7652    9.007578e+06\n",
       "7653    6.397954e+06\n",
       "7654    2.154051e+06\n",
       "7655    3.504217e+06\n",
       "7656    4.652910e+06\n",
       "7657    7.955287e+06\n",
       "7658    4.977076e+06\n",
       "7659    4.920387e+06\n",
       "7660    5.271404e+06\n",
       "7661    8.471663e+06\n",
       "Name: price_doc, dtype: float64"
      ]
     },
     "execution_count": 12,
     "metadata": {},
     "output_type": "execute_result"
    }
   ],
   "source": [
    "Smoothed"
   ]
  },
  {
   "cell_type": "code",
   "execution_count": null,
   "metadata": {
    "collapsed": true
   },
   "outputs": [],
   "source": []
  }
 ],
 "metadata": {
  "kernelspec": {
   "display_name": "Python 3",
   "language": "python",
   "name": "python3"
  },
  "language_info": {
   "codemirror_mode": {
    "name": "ipython",
    "version": 3
   },
   "file_extension": ".py",
   "mimetype": "text/x-python",
   "name": "python",
   "nbconvert_exporter": "python",
   "pygments_lexer": "ipython3",
   "version": "3.5.2"
  }
 },
 "nbformat": 4,
 "nbformat_minor": 2
}
