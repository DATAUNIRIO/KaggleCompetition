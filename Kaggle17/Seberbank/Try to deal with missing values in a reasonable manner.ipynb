{
 "cells": [
  {
   "cell_type": "code",
   "execution_count": 523,
   "metadata": {
    "collapsed": true
   },
   "outputs": [],
   "source": [
    "%matplotlib inline\n",
    "import pandas as pd\n",
    "import numpy as np\n",
    "import matplotlib.pyplot as plt\n",
    "import warnings\n",
    "warnings.filterwarnings('ignore')"
   ]
  },
  {
   "cell_type": "code",
   "execution_count": 524,
   "metadata": {
    "collapsed": true
   },
   "outputs": [],
   "source": [
    "train = pd.read_csv('train_c.csv')\n",
    "test = pd.read_csv('test_c.csv')"
   ]
  },
  {
   "cell_type": "markdown",
   "metadata": {},
   "source": [
    "# Count How Many Missing Values in Train and Test Set"
   ]
  },
  {
   "cell_type": "code",
   "execution_count": 525,
   "metadata": {},
   "outputs": [],
   "source": [
    "train_na = pd.DataFrame({'Sum of NA':train.isnull().sum()}).sort(['Sum of NA'],ascending=[0])\n",
    "train_na['Percentage'] = train_na['Sum of NA']/train.shape[1]\n",
    "train_na = train_na[train_na['Percentage']>0]\n",
    "test_na = pd.DataFrame({'Sum of NA':test.isnull().sum()}).sort(['Sum of NA'],ascending=[0])\n",
    "test_na['Percentage'] = test_na['Sum of NA']/test.shape[1]\n",
    "test_na = test_na[test_na['Percentage']>0]"
   ]
  },
  {
   "cell_type": "code",
   "execution_count": 526,
   "metadata": {},
   "outputs": [
    {
     "name": "stdout",
     "output_type": "stream",
     "text": [
      "(51, 2)\n",
      "(47, 2)\n"
     ]
    }
   ],
   "source": [
    "print(train_na.shape)\n",
    "print(test_na.shape)"
   ]
  },
  {
   "cell_type": "code",
   "execution_count": 527,
   "metadata": {},
   "outputs": [
    {
     "data": {
      "text/html": [
       "<div>\n",
       "<table border=\"1\" class=\"dataframe\">\n",
       "  <thead>\n",
       "    <tr style=\"text-align: right;\">\n",
       "      <th></th>\n",
       "      <th>Sum of NA</th>\n",
       "      <th>Percentage</th>\n",
       "    </tr>\n",
       "  </thead>\n",
       "  <tbody>\n",
       "    <tr>\n",
       "      <th>hospital_beds_raion</th>\n",
       "      <td>14441</td>\n",
       "      <td>49.455479</td>\n",
       "    </tr>\n",
       "    <tr>\n",
       "      <th>build_year</th>\n",
       "      <td>13605</td>\n",
       "      <td>46.592466</td>\n",
       "    </tr>\n",
       "    <tr>\n",
       "      <th>state</th>\n",
       "      <td>13559</td>\n",
       "      <td>46.434932</td>\n",
       "    </tr>\n",
       "    <tr>\n",
       "      <th>cafe_avg_price_500</th>\n",
       "      <td>13281</td>\n",
       "      <td>45.482877</td>\n",
       "    </tr>\n",
       "    <tr>\n",
       "      <th>cafe_sum_500_max_price_avg</th>\n",
       "      <td>13281</td>\n",
       "      <td>45.482877</td>\n",
       "    </tr>\n",
       "    <tr>\n",
       "      <th>cafe_sum_500_min_price_avg</th>\n",
       "      <td>13281</td>\n",
       "      <td>45.482877</td>\n",
       "    </tr>\n",
       "    <tr>\n",
       "      <th>max_floor</th>\n",
       "      <td>9572</td>\n",
       "      <td>32.780822</td>\n",
       "    </tr>\n",
       "    <tr>\n",
       "      <th>material</th>\n",
       "      <td>9572</td>\n",
       "      <td>32.780822</td>\n",
       "    </tr>\n",
       "    <tr>\n",
       "      <th>num_room</th>\n",
       "      <td>9572</td>\n",
       "      <td>32.780822</td>\n",
       "    </tr>\n",
       "    <tr>\n",
       "      <th>kitch_sq</th>\n",
       "      <td>9572</td>\n",
       "      <td>32.780822</td>\n",
       "    </tr>\n",
       "    <tr>\n",
       "      <th>preschool_quota</th>\n",
       "      <td>6688</td>\n",
       "      <td>22.904110</td>\n",
       "    </tr>\n",
       "    <tr>\n",
       "      <th>school_quota</th>\n",
       "      <td>6685</td>\n",
       "      <td>22.893836</td>\n",
       "    </tr>\n",
       "    <tr>\n",
       "      <th>cafe_sum_1000_max_price_avg</th>\n",
       "      <td>6524</td>\n",
       "      <td>22.342466</td>\n",
       "    </tr>\n",
       "    <tr>\n",
       "      <th>cafe_avg_price_1000</th>\n",
       "      <td>6524</td>\n",
       "      <td>22.342466</td>\n",
       "    </tr>\n",
       "    <tr>\n",
       "      <th>cafe_sum_1000_min_price_avg</th>\n",
       "      <td>6524</td>\n",
       "      <td>22.342466</td>\n",
       "    </tr>\n",
       "    <tr>\n",
       "      <th>life_sq</th>\n",
       "      <td>6383</td>\n",
       "      <td>21.859589</td>\n",
       "    </tr>\n",
       "    <tr>\n",
       "      <th>build_count_wood</th>\n",
       "      <td>4991</td>\n",
       "      <td>17.092466</td>\n",
       "    </tr>\n",
       "    <tr>\n",
       "      <th>build_count_frame</th>\n",
       "      <td>4991</td>\n",
       "      <td>17.092466</td>\n",
       "    </tr>\n",
       "    <tr>\n",
       "      <th>build_count_brick</th>\n",
       "      <td>4991</td>\n",
       "      <td>17.092466</td>\n",
       "    </tr>\n",
       "    <tr>\n",
       "      <th>build_count_monolith</th>\n",
       "      <td>4991</td>\n",
       "      <td>17.092466</td>\n",
       "    </tr>\n",
       "    <tr>\n",
       "      <th>build_count_foam</th>\n",
       "      <td>4991</td>\n",
       "      <td>17.092466</td>\n",
       "    </tr>\n",
       "    <tr>\n",
       "      <th>build_count_panel</th>\n",
       "      <td>4991</td>\n",
       "      <td>17.092466</td>\n",
       "    </tr>\n",
       "    <tr>\n",
       "      <th>build_count_1971-1995</th>\n",
       "      <td>4991</td>\n",
       "      <td>17.092466</td>\n",
       "    </tr>\n",
       "    <tr>\n",
       "      <th>build_count_slag</th>\n",
       "      <td>4991</td>\n",
       "      <td>17.092466</td>\n",
       "    </tr>\n",
       "    <tr>\n",
       "      <th>build_count_mix</th>\n",
       "      <td>4991</td>\n",
       "      <td>17.092466</td>\n",
       "    </tr>\n",
       "    <tr>\n",
       "      <th>raion_build_count_with_builddate_info</th>\n",
       "      <td>4991</td>\n",
       "      <td>17.092466</td>\n",
       "    </tr>\n",
       "    <tr>\n",
       "      <th>build_count_before_1920</th>\n",
       "      <td>4991</td>\n",
       "      <td>17.092466</td>\n",
       "    </tr>\n",
       "    <tr>\n",
       "      <th>build_count_1921-1945</th>\n",
       "      <td>4991</td>\n",
       "      <td>17.092466</td>\n",
       "    </tr>\n",
       "    <tr>\n",
       "      <th>raion_build_count_with_material_info</th>\n",
       "      <td>4991</td>\n",
       "      <td>17.092466</td>\n",
       "    </tr>\n",
       "    <tr>\n",
       "      <th>build_count_after_1995</th>\n",
       "      <td>4991</td>\n",
       "      <td>17.092466</td>\n",
       "    </tr>\n",
       "    <tr>\n",
       "      <th>build_count_block</th>\n",
       "      <td>4991</td>\n",
       "      <td>17.092466</td>\n",
       "    </tr>\n",
       "    <tr>\n",
       "      <th>build_count_1946-1970</th>\n",
       "      <td>4991</td>\n",
       "      <td>17.092466</td>\n",
       "    </tr>\n",
       "    <tr>\n",
       "      <th>cafe_sum_1500_min_price_avg</th>\n",
       "      <td>4199</td>\n",
       "      <td>14.380137</td>\n",
       "    </tr>\n",
       "    <tr>\n",
       "      <th>cafe_sum_1500_max_price_avg</th>\n",
       "      <td>4199</td>\n",
       "      <td>14.380137</td>\n",
       "    </tr>\n",
       "    <tr>\n",
       "      <th>cafe_avg_price_1500</th>\n",
       "      <td>4199</td>\n",
       "      <td>14.380137</td>\n",
       "    </tr>\n",
       "    <tr>\n",
       "      <th>cafe_sum_2000_min_price_avg</th>\n",
       "      <td>1725</td>\n",
       "      <td>5.907534</td>\n",
       "    </tr>\n",
       "    <tr>\n",
       "      <th>cafe_avg_price_2000</th>\n",
       "      <td>1725</td>\n",
       "      <td>5.907534</td>\n",
       "    </tr>\n",
       "    <tr>\n",
       "      <th>cafe_sum_2000_max_price_avg</th>\n",
       "      <td>1725</td>\n",
       "      <td>5.907534</td>\n",
       "    </tr>\n",
       "    <tr>\n",
       "      <th>cafe_sum_3000_min_price_avg</th>\n",
       "      <td>991</td>\n",
       "      <td>3.393836</td>\n",
       "    </tr>\n",
       "    <tr>\n",
       "      <th>cafe_sum_3000_max_price_avg</th>\n",
       "      <td>991</td>\n",
       "      <td>3.393836</td>\n",
       "    </tr>\n",
       "    <tr>\n",
       "      <th>cafe_avg_price_3000</th>\n",
       "      <td>991</td>\n",
       "      <td>3.393836</td>\n",
       "    </tr>\n",
       "    <tr>\n",
       "      <th>cafe_avg_price_5000</th>\n",
       "      <td>297</td>\n",
       "      <td>1.017123</td>\n",
       "    </tr>\n",
       "    <tr>\n",
       "      <th>cafe_sum_5000_min_price_avg</th>\n",
       "      <td>297</td>\n",
       "      <td>1.017123</td>\n",
       "    </tr>\n",
       "    <tr>\n",
       "      <th>cafe_sum_5000_max_price_avg</th>\n",
       "      <td>297</td>\n",
       "      <td>1.017123</td>\n",
       "    </tr>\n",
       "    <tr>\n",
       "      <th>prom_part_5000</th>\n",
       "      <td>178</td>\n",
       "      <td>0.609589</td>\n",
       "    </tr>\n",
       "    <tr>\n",
       "      <th>floor</th>\n",
       "      <td>167</td>\n",
       "      <td>0.571918</td>\n",
       "    </tr>\n",
       "    <tr>\n",
       "      <th>railroad_station_walk_km</th>\n",
       "      <td>25</td>\n",
       "      <td>0.085616</td>\n",
       "    </tr>\n",
       "    <tr>\n",
       "      <th>railroad_station_walk_min</th>\n",
       "      <td>25</td>\n",
       "      <td>0.085616</td>\n",
       "    </tr>\n",
       "    <tr>\n",
       "      <th>ID_railroad_station_walk</th>\n",
       "      <td>25</td>\n",
       "      <td>0.085616</td>\n",
       "    </tr>\n",
       "    <tr>\n",
       "      <th>metro_km_walk</th>\n",
       "      <td>25</td>\n",
       "      <td>0.085616</td>\n",
       "    </tr>\n",
       "    <tr>\n",
       "      <th>metro_min_walk</th>\n",
       "      <td>25</td>\n",
       "      <td>0.085616</td>\n",
       "    </tr>\n",
       "  </tbody>\n",
       "</table>\n",
       "</div>"
      ],
      "text/plain": [
       "                                       Sum of NA  Percentage\n",
       "hospital_beds_raion                        14441   49.455479\n",
       "build_year                                 13605   46.592466\n",
       "state                                      13559   46.434932\n",
       "cafe_avg_price_500                         13281   45.482877\n",
       "cafe_sum_500_max_price_avg                 13281   45.482877\n",
       "cafe_sum_500_min_price_avg                 13281   45.482877\n",
       "max_floor                                   9572   32.780822\n",
       "material                                    9572   32.780822\n",
       "num_room                                    9572   32.780822\n",
       "kitch_sq                                    9572   32.780822\n",
       "preschool_quota                             6688   22.904110\n",
       "school_quota                                6685   22.893836\n",
       "cafe_sum_1000_max_price_avg                 6524   22.342466\n",
       "cafe_avg_price_1000                         6524   22.342466\n",
       "cafe_sum_1000_min_price_avg                 6524   22.342466\n",
       "life_sq                                     6383   21.859589\n",
       "build_count_wood                            4991   17.092466\n",
       "build_count_frame                           4991   17.092466\n",
       "build_count_brick                           4991   17.092466\n",
       "build_count_monolith                        4991   17.092466\n",
       "build_count_foam                            4991   17.092466\n",
       "build_count_panel                           4991   17.092466\n",
       "build_count_1971-1995                       4991   17.092466\n",
       "build_count_slag                            4991   17.092466\n",
       "build_count_mix                             4991   17.092466\n",
       "raion_build_count_with_builddate_info       4991   17.092466\n",
       "build_count_before_1920                     4991   17.092466\n",
       "build_count_1921-1945                       4991   17.092466\n",
       "raion_build_count_with_material_info        4991   17.092466\n",
       "build_count_after_1995                      4991   17.092466\n",
       "build_count_block                           4991   17.092466\n",
       "build_count_1946-1970                       4991   17.092466\n",
       "cafe_sum_1500_min_price_avg                 4199   14.380137\n",
       "cafe_sum_1500_max_price_avg                 4199   14.380137\n",
       "cafe_avg_price_1500                         4199   14.380137\n",
       "cafe_sum_2000_min_price_avg                 1725    5.907534\n",
       "cafe_avg_price_2000                         1725    5.907534\n",
       "cafe_sum_2000_max_price_avg                 1725    5.907534\n",
       "cafe_sum_3000_min_price_avg                  991    3.393836\n",
       "cafe_sum_3000_max_price_avg                  991    3.393836\n",
       "cafe_avg_price_3000                          991    3.393836\n",
       "cafe_avg_price_5000                          297    1.017123\n",
       "cafe_sum_5000_min_price_avg                  297    1.017123\n",
       "cafe_sum_5000_max_price_avg                  297    1.017123\n",
       "prom_part_5000                               178    0.609589\n",
       "floor                                        167    0.571918\n",
       "railroad_station_walk_km                      25    0.085616\n",
       "railroad_station_walk_min                     25    0.085616\n",
       "ID_railroad_station_walk                      25    0.085616\n",
       "metro_km_walk                                 25    0.085616\n",
       "metro_min_walk                                25    0.085616"
      ]
     },
     "execution_count": 527,
     "metadata": {},
     "output_type": "execute_result"
    }
   ],
   "source": [
    "train_na"
   ]
  },
  {
   "cell_type": "markdown",
   "metadata": {},
   "source": [
    "# Involve Apartment Data to help on Missing Value Handling"
   ]
  },
  {
   "cell_type": "code",
   "execution_count": 528,
   "metadata": {
    "collapsed": true
   },
   "outputs": [],
   "source": [
    "train['km_sign'] = train['metro_km_avto'].apply(lambda x: str(round(x,2)))\n",
    "test['km_sign']=test['metro_km_avto'].apply(lambda x: str(round(x,2)))"
   ]
  },
  {
   "cell_type": "code",
   "execution_count": 529,
   "metadata": {
    "collapsed": true
   },
   "outputs": [],
   "source": [
    "train['apartment_name']= train.apply(lambda x:str(x['sub_area'])+x['km_sign'],axis=1)\n",
    "test['apartment_name'] = test.apply(lambda x:str(x['sub_area'])+x['km_sign'],axis=1)"
   ]
  },
  {
   "cell_type": "code",
   "execution_count": 530,
   "metadata": {},
   "outputs": [],
   "source": [
    "del train['km_sign']\n",
    "del test['km_sign']"
   ]
  },
  {
   "cell_type": "code",
   "execution_count": 531,
   "metadata": {},
   "outputs": [
    {
     "name": "stdout",
     "output_type": "stream",
     "text": [
      "Unique apartment: 9438\n"
     ]
    }
   ],
   "source": [
    "print('Unique apartment: '+str(len(list(set(train['apartment_name'])))))"
   ]
  },
  {
   "cell_type": "code",
   "execution_count": 532,
   "metadata": {
    "collapsed": true
   },
   "outputs": [],
   "source": [
    "Feature_Importance = pd.read_csv('FScore_xgb.csv')"
   ]
  },
  {
   "cell_type": "code",
   "execution_count": 533,
   "metadata": {},
   "outputs": [
    {
     "data": {
      "text/html": [
       "<div>\n",
       "<table border=\"1\" class=\"dataframe\">\n",
       "  <thead>\n",
       "    <tr style=\"text-align: right;\">\n",
       "      <th></th>\n",
       "      <th>Feature</th>\n",
       "      <th>Score</th>\n",
       "    </tr>\n",
       "  </thead>\n",
       "  <tbody>\n",
       "    <tr>\n",
       "      <th>0</th>\n",
       "      <td>full_sq</td>\n",
       "      <td>1185</td>\n",
       "    </tr>\n",
       "    <tr>\n",
       "      <th>1</th>\n",
       "      <td>life_sq</td>\n",
       "      <td>473</td>\n",
       "    </tr>\n",
       "    <tr>\n",
       "      <th>2</th>\n",
       "      <td>floor</td>\n",
       "      <td>359</td>\n",
       "    </tr>\n",
       "    <tr>\n",
       "      <th>3</th>\n",
       "      <td>build_year</td>\n",
       "      <td>291</td>\n",
       "    </tr>\n",
       "    <tr>\n",
       "      <th>4</th>\n",
       "      <td>max_floor</td>\n",
       "      <td>275</td>\n",
       "    </tr>\n",
       "    <tr>\n",
       "      <th>5</th>\n",
       "      <td>kitch_sq</td>\n",
       "      <td>163</td>\n",
       "    </tr>\n",
       "    <tr>\n",
       "      <th>6</th>\n",
       "      <td>num_room</td>\n",
       "      <td>129</td>\n",
       "    </tr>\n",
       "    <tr>\n",
       "      <th>7</th>\n",
       "      <td>state</td>\n",
       "      <td>119</td>\n",
       "    </tr>\n",
       "    <tr>\n",
       "      <th>8</th>\n",
       "      <td>kindergarten_km</td>\n",
       "      <td>102</td>\n",
       "    </tr>\n",
       "    <tr>\n",
       "      <th>9</th>\n",
       "      <td>railroad_km</td>\n",
       "      <td>101</td>\n",
       "    </tr>\n",
       "    <tr>\n",
       "      <th>10</th>\n",
       "      <td>green_zone_km</td>\n",
       "      <td>95</td>\n",
       "    </tr>\n",
       "    <tr>\n",
       "      <th>11</th>\n",
       "      <td>radiation_km</td>\n",
       "      <td>85</td>\n",
       "    </tr>\n",
       "    <tr>\n",
       "      <th>12</th>\n",
       "      <td>material</td>\n",
       "      <td>80</td>\n",
       "    </tr>\n",
       "    <tr>\n",
       "      <th>13</th>\n",
       "      <td>sub_area</td>\n",
       "      <td>78</td>\n",
       "    </tr>\n",
       "    <tr>\n",
       "      <th>14</th>\n",
       "      <td>public_transport_station_km</td>\n",
       "      <td>77</td>\n",
       "    </tr>\n",
       "    <tr>\n",
       "      <th>15</th>\n",
       "      <td>ttk_km</td>\n",
       "      <td>76</td>\n",
       "    </tr>\n",
       "    <tr>\n",
       "      <th>16</th>\n",
       "      <td>metro_min_avto</td>\n",
       "      <td>75</td>\n",
       "    </tr>\n",
       "    <tr>\n",
       "      <th>17</th>\n",
       "      <td>industrial_km</td>\n",
       "      <td>73</td>\n",
       "    </tr>\n",
       "    <tr>\n",
       "      <th>18</th>\n",
       "      <td>mosque_km</td>\n",
       "      <td>69</td>\n",
       "    </tr>\n",
       "    <tr>\n",
       "      <th>19</th>\n",
       "      <td>metro_km_avto</td>\n",
       "      <td>66</td>\n",
       "    </tr>\n",
       "  </tbody>\n",
       "</table>\n",
       "</div>"
      ],
      "text/plain": [
       "                        Feature  Score\n",
       "0                       full_sq   1185\n",
       "1                       life_sq    473\n",
       "2                         floor    359\n",
       "3                    build_year    291\n",
       "4                     max_floor    275\n",
       "5                      kitch_sq    163\n",
       "6                      num_room    129\n",
       "7                         state    119\n",
       "8               kindergarten_km    102\n",
       "9                   railroad_km    101\n",
       "10                green_zone_km     95\n",
       "11                 radiation_km     85\n",
       "12                     material     80\n",
       "13                     sub_area     78\n",
       "14  public_transport_station_km     77\n",
       "15                       ttk_km     76\n",
       "16               metro_min_avto     75\n",
       "17                industrial_km     73\n",
       "18                    mosque_km     69\n",
       "19                metro_km_avto     66"
      ]
     },
     "execution_count": 533,
     "metadata": {},
     "output_type": "execute_result"
    }
   ],
   "source": [
    "Feature_Importance.iloc[0:20,:]"
   ]
  },
  {
   "cell_type": "markdown",
   "metadata": {},
   "source": [
    "# Handling Missing Values on some columns"
   ]
  },
  {
   "cell_type": "markdown",
   "metadata": {},
   "source": [
    "## 1: Life-sq"
   ]
  },
  {
   "cell_type": "markdown",
   "metadata": {},
   "source": [
    "**Hypothesis: Apartment in the same building may have similar ratio of life space.**"
   ]
  },
  {
   "cell_type": "code",
   "execution_count": 534,
   "metadata": {},
   "outputs": [
    {
     "name": "stdout",
     "output_type": "stream",
     "text": [
      "(23846, 293)\n",
      "(140, 293)\n"
     ]
    }
   ],
   "source": [
    "LS_non_NA = train[train['life_sq'].notnull()]\n",
    "LS_non_NA_apartment = LS_non_NA[LS_non_NA['floor'].notnull()]\n",
    "LS_non_NA_apartment = LS_non_NA_apartment[LS_non_NA_apartment['full_sq']<1000]\n",
    "LS_non_NA_apartment = LS_non_NA_apartment[LS_non_NA_apartment['life_sq']<1000]\n",
    "LS_non_NA_apartment = LS_non_NA_apartment[LS_non_NA_apartment['full_sq']>5]\n",
    "LS_non_NA_apartment = LS_non_NA_apartment[LS_non_NA_apartment['life_sq']>0]\n",
    "LS_non_NA_apartment = LS_non_NA_apartment.query('full_sq>=life_sq')\n",
    "LS_non_NA_house = LS_non_NA[LS_non_NA['floor'].isnull()]\n",
    "print(LS_non_NA_apartment.shape)\n",
    "print(LS_non_NA_house.shape)"
   ]
  },
  {
   "cell_type": "code",
   "execution_count": 535,
   "metadata": {
    "collapsed": true
   },
   "outputs": [],
   "source": [
    "## Same thing for test data\n",
    "LS_non_NA_test = test[test['life_sq'].notnull()]\n",
    "LS_non_NA_apartment_test = LS_non_NA_test[LS_non_NA_test['floor'].notnull()]\n",
    "LS_non_NA_apartment_test = LS_non_NA_apartment_test[LS_non_NA_apartment_test['full_sq']<1000]\n",
    "LS_non_NA_apartment_test = LS_non_NA_apartment_test[LS_non_NA_apartment_test['life_sq']<1000]\n",
    "LS_non_NA_apartment_test = LS_non_NA_apartment_test[LS_non_NA_apartment_test['full_sq']>5]\n",
    "LS_non_NA_apartment_test = LS_non_NA_apartment_test[LS_non_NA_apartment_test['full_sq']>0]\n",
    "LS_non_NA_apartment_test = LS_non_NA_apartment_test.query('full_sq>=life_sq')\n",
    "LS_non_NA_house_test = LS_non_NA_test[LS_non_NA_test['floor'].isnull()]"
   ]
  },
  {
   "cell_type": "code",
   "execution_count": 536,
   "metadata": {},
   "outputs": [],
   "source": [
    "LS_non_NA_apartment = pd.concat([LS_non_NA_apartment,LS_non_NA_apartment_test])\n",
    "LS_non_NA_house = pd.concat([LS_non_NA_house,LS_non_NA_house_test])"
   ]
  },
  {
   "cell_type": "code",
   "execution_count": 537,
   "metadata": {},
   "outputs": [],
   "source": [
    "## Group By Apartment \n",
    "train_by_apartment = LS_non_NA_apartment[['full_sq','life_sq','apartment_name']]\n",
    "train_by_apartment['ratio'] = train_by_apartment['life_sq']/train_by_apartment['full_sq']\n",
    "## For Avoiding Annoying Data\n",
    "train_by_apartment = train_by_apartment[train_by_apartment['ratio']<1]"
   ]
  },
  {
   "cell_type": "code",
   "execution_count": 538,
   "metadata": {},
   "outputs": [],
   "source": [
    "ratio_by_apartment = train_by_apartment.groupby('apartment_name')['ratio'].mean().to_frame()"
   ]
  },
  {
   "cell_type": "code",
   "execution_count": 539,
   "metadata": {},
   "outputs": [],
   "source": [
    "ratio_by_apartment = pd.DataFrame({'apartment_name':ratio_by_apartment.index,'ratio':ratio_by_apartment['ratio']}).reset_index(drop=True)"
   ]
  },
  {
   "cell_type": "code",
   "execution_count": 540,
   "metadata": {},
   "outputs": [],
   "source": [
    "## Do not let weird ratio influence the data cleansing\n",
    "ratio_by_apartment = ratio_by_apartment[ratio_by_apartment['ratio']>0.1]"
   ]
  },
  {
   "cell_type": "code",
   "execution_count": 541,
   "metadata": {
    "collapsed": true
   },
   "outputs": [],
   "source": [
    "train = train.merge(ratio_by_apartment,how='left',on='apartment_name')\n",
    "test = test.merge(ratio_by_apartment,how='left',on='apartment_name')\n",
    "train['life_sq'] = train['life_sq'].fillna(-1)\n",
    "test['life_sq'] = test['life_sq'].fillna(-1)"
   ]
  },
  {
   "cell_type": "code",
   "execution_count": 542,
   "metadata": {},
   "outputs": [],
   "source": [
    "train['ratio'] = train['ratio'].fillna(-1)"
   ]
  },
  {
   "cell_type": "code",
   "execution_count": 543,
   "metadata": {},
   "outputs": [],
   "source": [
    "## First deal with the properties that have a recognized ratio\n",
    "for i in range(len(train)):\n",
    "    if train.iloc[i,3]<0 and train['ratio'][i]>0:\n",
    "        ratio = train['ratio'][i]\n",
    "        train.iloc[i,3] = train.iloc[i,2]*ratio"
   ]
  },
  {
   "cell_type": "code",
   "execution_count": 544,
   "metadata": {
    "collapsed": true
   },
   "outputs": [],
   "source": [
    "## Same thing for test set\n",
    "for i in range(len(test)):\n",
    "    if test.iloc[i,3]<0 and test['ratio'][i]>0:\n",
    "        ratio = test['ratio'][i]\n",
    "        test.iloc[i,3] = test.iloc[i,2]*ratio"
   ]
  },
  {
   "cell_type": "markdown",
   "metadata": {},
   "source": [
    "**For the other properties that cannot find a corresponding apartment, we fill the ratio with the 'closest apartment', and get the life sq for them**"
   ]
  },
  {
   "cell_type": "code",
   "execution_count": 545,
   "metadata": {
    "collapsed": true
   },
   "outputs": [],
   "source": [
    "train['apartment_name'] = pd.to_numeric(train['apartment_name'])\n",
    "test['apartment_name'] = pd.to_numeric(test['apartment_name'])"
   ]
  },
  {
   "cell_type": "code",
   "execution_count": 546,
   "metadata": {},
   "outputs": [],
   "source": [
    "train = train.sort_values(by ='apartment_name',ascending = 1).reset_index(drop=True)\n",
    "test = test.sort_values(by = 'apartment_name',ascending =1).reset_index(drop=True)"
   ]
  },
  {
   "cell_type": "code",
   "execution_count": 547,
   "metadata": {},
   "outputs": [],
   "source": [
    "unique_apartment_train = list(set(train[train['life_sq']<0]['apartment_name']))\n",
    "unique_apartment_test = list(set(test[test['life_sq']<0]['apartment_name']))"
   ]
  },
  {
   "cell_type": "code",
   "execution_count": 548,
   "metadata": {
    "collapsed": true
   },
   "outputs": [],
   "source": [
    "apartment_list = list(ratio_by_apartment['apartment_name'])\n",
    "apartment_list = [float(each) for each in apartment_list]"
   ]
  },
  {
   "cell_type": "code",
   "execution_count": 549,
   "metadata": {
    "collapsed": true
   },
   "outputs": [],
   "source": [
    "def find_closest(list1,list2):\n",
    "    ratio = []\n",
    "    closest = []\n",
    "    gap = []\n",
    "    for each in list1:\n",
    "        gap_list = [np.abs(ii - each) for ii in list2]\n",
    "        min_gap = min(gap_list)\n",
    "        index = gap_list.index(min_gap)\n",
    "        #print(index)\n",
    "        ratio.append(list(ratio_by_apartment['ratio'])[index])\n",
    "        closest.append(list2[index])\n",
    "        gap.append(min_gap)\n",
    "    return ratio,closest,gap"
   ]
  },
  {
   "cell_type": "code",
   "execution_count": 550,
   "metadata": {},
   "outputs": [],
   "source": [
    "train_close_traio,train_closest_apartment,gap_train = find_closest(unique_apartment_train,apartment_list)"
   ]
  },
  {
   "cell_type": "code",
   "execution_count": 551,
   "metadata": {},
   "outputs": [],
   "source": [
    "test_close_traio,test_closest_apartment,gap_test = find_closest(unique_apartment_test,apartment_list)"
   ]
  },
  {
   "cell_type": "code",
   "execution_count": 552,
   "metadata": {
    "collapsed": true
   },
   "outputs": [],
   "source": [
    "train_still_missing = pd.DataFrame({'apartment_name':unique_apartment_train,'ratio_close':train_close_traio,'gap':gap_train})"
   ]
  },
  {
   "cell_type": "code",
   "execution_count": 553,
   "metadata": {
    "collapsed": true
   },
   "outputs": [],
   "source": [
    "test_still_missing = pd.DataFrame({'apartment_name':unique_apartment_test,'ratio_close':test_close_traio,'gap':gap_test})"
   ]
  },
  {
   "cell_type": "code",
   "execution_count": 555,
   "metadata": {
    "collapsed": true
   },
   "outputs": [],
   "source": [
    "del train_still_missing['gap']\n",
    "del test_still_missing['gap']"
   ]
  },
  {
   "cell_type": "code",
   "execution_count": 556,
   "metadata": {
    "collapsed": true
   },
   "outputs": [],
   "source": [
    "train = train.merge(train_still_missing,how='left',on='apartment_name')\n",
    "test = test.merge(test_still_missing,how='left',on='apartment_name')"
   ]
  },
  {
   "cell_type": "code",
   "execution_count": 558,
   "metadata": {
    "collapsed": true
   },
   "outputs": [],
   "source": [
    "for i in range(len(train)):\n",
    "    if train.iloc[i,3]<0:\n",
    "        train.iloc[i,3] = train['full_sq'][i]*train['ratio_close'][i]"
   ]
  },
  {
   "cell_type": "code",
   "execution_count": 559,
   "metadata": {
    "collapsed": true
   },
   "outputs": [],
   "source": [
    "for i in range(len(test)):\n",
    "    if test.iloc[i,3]<0:\n",
    "        test.iloc[i,3] = test['full_sq'][i]*test['ratio_close'][i]"
   ]
  },
  {
   "cell_type": "code",
   "execution_count": 560,
   "metadata": {
    "collapsed": true
   },
   "outputs": [],
   "source": [
    "del train['ratio']\n",
    "del train['ratio_close']\n",
    "del test['ratio']\n",
    "del test['ratio_close']"
   ]
  },
  {
   "cell_type": "code",
   "execution_count": 561,
   "metadata": {},
   "outputs": [],
   "source": [
    "tmp = train[train['full_sq']>0]\n",
    "tmp['ratio_valid'] = tmp['life_sq']/tmp['full_sq']\n",
    "tmp = tmp[tmp['ratio_valid']<1]"
   ]
  },
  {
   "cell_type": "code",
   "execution_count": 562,
   "metadata": {
    "collapsed": true
   },
   "outputs": [],
   "source": [
    "from ggplot import *"
   ]
  },
  {
   "cell_type": "code",
   "execution_count": 563,
   "metadata": {},
   "outputs": [
    {
     "data": {
      "image/png": "[encoded data removed]",
      "text/plain": [
       "<matplotlib.figure.Figure at 0x7fd0424147f0>"
      ]
     },
     "metadata": {},
     "output_type": "display_data"
    },
    {
     "name": "stdout",
     "output_type": "stream",
     "text": [
      "<ggplot: (-9223363253577184694)>\n"
     ]
    }
   ],
   "source": [
    "g = ggplot(tmp,aes(x='ratio_valid')) + geom_histogram() +theme_bw()\n",
    "print(g)"
   ]
  },
  {
   "cell_type": "markdown",
   "metadata": {},
   "source": [
    "## 2: Build Year"
   ]
  },
  {
   "cell_type": "markdown",
   "metadata": {},
   "source": [
    "**Hythesis: Same building got the same build year. And, if the building are surrounded by mostly build in a certain period, then we can fill it in.**"
   ]
  },
  {
   "cell_type": "code",
   "execution_count": 564,
   "metadata": {
    "collapsed": true
   },
   "outputs": [],
   "source": [
    "BY_good_train = train[train['build_year'].notnull()]\n",
    "BY_good_train = BY_good_train[BY_good_train['build_year']<2020]\n",
    "BY_good_train = BY_good_train[BY_good_train['build_year']>1000]\n",
    "BY_good_test = test[test['build_year'].notnull()]\n",
    "BY_good_test = BY_good_test[BY_good_test['build_year']<2020]\n",
    "BY_good_test= BY_good_test[BY_good_test['build_year']>1000]"
   ]
  },
  {
   "cell_type": "code",
   "execution_count": 565,
   "metadata": {
    "collapsed": true
   },
   "outputs": [],
   "source": [
    "BY_good = pd.concat([BY_good_train,BY_good_test])"
   ]
  },
  {
   "cell_type": "markdown",
   "metadata": {},
   "source": [
    "See whether an apartment has only one build-year in this case."
   ]
  },
  {
   "cell_type": "code",
   "execution_count": 566,
   "metadata": {},
   "outputs": [],
   "source": [
    "Test_BY = BY_good.groupby(['apartment_name','build_year'])['build_year'].size().to_frame()"
   ]
  },
  {
   "cell_type": "code",
   "execution_count": 567,
   "metadata": {
    "collapsed": true
   },
   "outputs": [],
   "source": [
    "Test_BY.columns = ['Count']"
   ]
  },
  {
   "cell_type": "code",
   "execution_count": 568,
   "metadata": {},
   "outputs": [],
   "source": [
    "Test_BY = Test_BY.reset_index(level=['apartment_name', 'build_year'])"
   ]
  },
  {
   "cell_type": "markdown",
   "metadata": {},
   "source": [
    "We calculate the average value of build year for each apartment and calculate the gap. If the gap is not huge then we just use the average as the value for filling NA."
   ]
  },
  {
   "cell_type": "code",
   "execution_count": 569,
   "metadata": {
    "collapsed": true
   },
   "outputs": [],
   "source": [
    "Average_BY = Test_BY.groupby('apartment_name')['build_year'].mean().to_frame().reset_index(level='apartment_name')"
   ]
  },
  {
   "cell_type": "code",
   "execution_count": 570,
   "metadata": {},
   "outputs": [],
   "source": [
    "Average_BY.columns=['apartment_name','Average_Yr']"
   ]
  },
  {
   "cell_type": "code",
   "execution_count": 571,
   "metadata": {},
   "outputs": [],
   "source": [
    "Test_BY = Test_BY.merge(Average_BY,how='left',on='apartment_name')"
   ]
  },
  {
   "cell_type": "code",
   "execution_count": 572,
   "metadata": {},
   "outputs": [],
   "source": [
    "Test_BY['Gap'] = np.abs(Test_BY['Average_Yr'] - Test_BY['build_year'])"
   ]
  },
  {
   "cell_type": "code",
   "execution_count": 573,
   "metadata": {},
   "outputs": [
    {
     "data": {
      "image/png": "[encoded data removed]",
      "text/plain": [
       "<matplotlib.figure.Figure at 0x7fd042451550>"
      ]
     },
     "metadata": {},
     "output_type": "display_data"
    },
    {
     "name": "stdout",
     "output_type": "stream",
     "text": [
      "<ggplot: (-9223363253611952426)>\n"
     ]
    }
   ],
   "source": [
    "g = ggplot(Test_BY,aes(x='Gap')) + geom_histogram() + theme_bw()\n",
    "print(g)"
   ]
  },
  {
   "cell_type": "markdown",
   "metadata": {},
   "source": [
    "**Only keep the apartment with reasonable gap**"
   ]
  },
  {
   "cell_type": "code",
   "execution_count": 574,
   "metadata": {
    "collapsed": true
   },
   "outputs": [],
   "source": [
    "Test_BY = Test_BY[Test_BY['Gap']<=3]"
   ]
  },
  {
   "cell_type": "code",
   "execution_count": 575,
   "metadata": {},
   "outputs": [],
   "source": [
    "Test_BY = Test_BY[['apartment_name','Average_Yr']]"
   ]
  },
  {
   "cell_type": "code",
   "execution_count": 576,
   "metadata": {},
   "outputs": [
    {
     "data": {
      "text/plain": [
       "(9752, 2)"
      ]
     },
     "execution_count": 576,
     "metadata": {},
     "output_type": "execute_result"
    }
   ],
   "source": [
    "Test_BY.shape"
   ]
  },
  {
   "cell_type": "code",
   "execution_count": 577,
   "metadata": {},
   "outputs": [],
   "source": [
    "Test_BY = Test_BY.drop_duplicates()"
   ]
  },
  {
   "cell_type": "code",
   "execution_count": 578,
   "metadata": {
    "collapsed": true
   },
   "outputs": [],
   "source": [
    "train = train.merge(Test_BY,how='left',on='apartment_name')\n",
    "test = test.merge(Test_BY,how = 'left',on='apartment_name')"
   ]
  },
  {
   "cell_type": "code",
   "execution_count": 579,
   "metadata": {},
   "outputs": [
    {
     "data": {
      "text/plain": [
       "(30471, 294)"
      ]
     },
     "execution_count": 579,
     "metadata": {},
     "output_type": "execute_result"
    }
   ],
   "source": [
    "train.shape"
   ]
  },
  {
   "cell_type": "code",
   "execution_count": 580,
   "metadata": {
    "collapsed": true
   },
   "outputs": [],
   "source": [
    "train['build_year'] = train['build_year'].fillna(-1)\n",
    "test['build_year'] = test['build_year'].fillna(-1)\n",
    "train['Average_Yr'] = train['Average_Yr'].fillna(-1)\n",
    "test['Average_Yr'] = test['Average_Yr'].fillna(-1)"
   ]
  },
  {
   "cell_type": "code",
   "execution_count": 581,
   "metadata": {},
   "outputs": [
    {
     "name": "stdout",
     "output_type": "stream",
     "text": [
      "13605\n",
      "1049\n"
     ]
    }
   ],
   "source": [
    "print(len(train[train['build_year']<0]))\n",
    "print(len(test[test['build_year']<0]))"
   ]
  },
  {
   "cell_type": "code",
   "execution_count": 582,
   "metadata": {},
   "outputs": [
    {
     "data": {
      "text/plain": [
       "1934.0"
      ]
     },
     "execution_count": 582,
     "metadata": {},
     "output_type": "execute_result"
    }
   ],
   "source": [
    "train.iloc[0,7]"
   ]
  },
  {
   "cell_type": "code",
   "execution_count": 585,
   "metadata": {},
   "outputs": [],
   "source": [
    "for i in range(len(train)):\n",
    "    if train['build_year'][i]<0 and train['Average_Yr'][i]>0 :\n",
    "        train.iloc[i,7] = round(train['Average_Yr'][i])"
   ]
  },
  {
   "cell_type": "code",
   "execution_count": 586,
   "metadata": {},
   "outputs": [],
   "source": [
    "for i in range(len(test)):\n",
    "    if test['build_year'][i]<0 and test['Average_Yr'][i]>0:\n",
    "        test.iloc[i,7] = round(test['Average_Yr'][i])"
   ]
  },
  {
   "cell_type": "markdown",
   "metadata": {},
   "source": [
    "We can fill the most of missing values by grouping the properties by buildings."
   ]
  },
  {
   "cell_type": "markdown",
   "metadata": {},
   "source": [
    "For the rest, the strategy is still, to find the build_year of apartment which is closest to the building, and fill them in with that."
   ]
  },
  {
   "cell_type": "code",
   "execution_count": 595,
   "metadata": {
    "collapsed": true
   },
   "outputs": [],
   "source": [
    "def find_closest_2(list1,list2):\n",
    "    built_year = []\n",
    "    for each in list1:\n",
    "        gap_list = [np.abs(ii - each) for ii in list2]\n",
    "        min_gap = min(gap_list)\n",
    "        index = gap_list.index(min_gap)\n",
    "        #print(index)\n",
    "        built_year.append(round(list(Test_BY['Average_Yr'])[index]))\n",
    "    return built_year"
   ]
  },
  {
   "cell_type": "code",
   "execution_count": 597,
   "metadata": {},
   "outputs": [],
   "source": [
    "Still_no_BY_train = list(set(train[train['build_year']<0]['apartment_name']))\n",
    "Still_no_BY_test = list(set(test[test['build_year']<0]['apartment_name']))"
   ]
  },
  {
   "cell_type": "code",
   "execution_count": 598,
   "metadata": {
    "collapsed": true
   },
   "outputs": [],
   "source": [
    "buildyear_train = find_closest_2(Still_no_BY_train,list(Test_BY['apartment_name']))"
   ]
  },
  {
   "cell_type": "code",
   "execution_count": 599,
   "metadata": {
    "collapsed": true
   },
   "outputs": [],
   "source": [
    "buildyear_test = find_closest_2(Still_no_BY_test,list(Test_BY['apartment_name']))"
   ]
  },
  {
   "cell_type": "code",
   "execution_count": 601,
   "metadata": {
    "collapsed": true
   },
   "outputs": [],
   "source": [
    "buildyr_train = pd.DataFrame({'apartment_name':Still_no_BY_train,'build_year_close':buildyear_train})\n",
    "buildyr_test = pd.DataFrame({'apartment_name':Still_no_BY_test,'build_year_close':buildyear_test})"
   ]
  },
  {
   "cell_type": "code",
   "execution_count": 602,
   "metadata": {},
   "outputs": [],
   "source": [
    "train = train.merge(buildyr_train,how='left',on='apartment_name')\n",
    "test = test.merge(buildyr_test,how='left',on='apartment_name')"
   ]
  },
  {
   "cell_type": "code",
   "execution_count": 603,
   "metadata": {
    "collapsed": true
   },
   "outputs": [],
   "source": [
    "for i in range(len(train)):\n",
    "    if train['build_year'][i]<0:\n",
    "        train.iloc[i,7] = train['build_year_close'][i]"
   ]
  },
  {
   "cell_type": "code",
   "execution_count": 604,
   "metadata": {
    "collapsed": true
   },
   "outputs": [],
   "source": [
    "for i in range(len(test)):\n",
    "    if test['build_year'][i]<0:\n",
    "        test.iloc[i,7] = test['build_year_close'][i]"
   ]
  },
  {
   "cell_type": "code",
   "execution_count": 605,
   "metadata": {
    "collapsed": true
   },
   "outputs": [],
   "source": [
    "del train['build_year_close']\n",
    "del test['build_year_close']"
   ]
  },
  {
   "cell_type": "code",
   "execution_count": 616,
   "metadata": {
    "collapsed": true
   },
   "outputs": [],
   "source": [
    "train.to_csv('train_fillna_lsby.csv',index=False)\n",
    "test.to_csv('test_fillna_lsby.csv',index=False)"
   ]
  },
  {
   "cell_type": "markdown",
   "metadata": {},
   "source": [
    "## 3. State"
   ]
  },
  {
   "cell_type": "code",
   "execution_count": 615,
   "metadata": {},
   "outputs": [],
   "source": [
    "train_state_nonna = train[train['state'].notnull()]\n",
    "train_state_nonna = train_state_nonna[train_state_nonna['state']<5]\n",
    "test_state_nonna = test[test['state'].notnull()]\n",
    "test_state_nonna = test_state_nonna[test_state_nonna['state']<5]\n",
    "state_nonna = pd.concat([train_state_nonna,test_state_nonna])"
   ]
  },
  {
   "cell_type": "markdown",
   "metadata": {},
   "source": [
    "**Hypothesis: properties in same building and builts around the same age may have similar state with each other.**"
   ]
  },
  {
   "cell_type": "code",
   "execution_count": null,
   "metadata": {
    "collapsed": true
   },
   "outputs": [],
   "source": []
  }
 ],
 "metadata": {
  "kernelspec": {
   "display_name": "Python 3",
   "language": "python",
   "name": "python3"
  },
  "language_info": {
   "codemirror_mode": {
    "name": "ipython",
    "version": 3
   },
   "file_extension": ".py",
   "mimetype": "text/x-python",
   "name": "python",
   "nbconvert_exporter": "python",
   "pygments_lexer": "ipython3",
   "version": "3.5.2"
  }
 },
 "nbformat": 4,
 "nbformat_minor": 2
}
