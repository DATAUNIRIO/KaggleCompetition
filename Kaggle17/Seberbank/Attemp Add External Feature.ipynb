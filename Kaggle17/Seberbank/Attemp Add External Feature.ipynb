{
 "cells": [
  {
   "cell_type": "code",
   "execution_count": 157,
   "metadata": {},
   "outputs": [],
   "source": [
    "%matplotlib inline\n",
    "import pandas as pd\n",
    "import numpy as np\n",
    "import xgboost as xgb"
   ]
  },
  {
   "cell_type": "code",
   "execution_count": 158,
   "metadata": {
    "collapsed": true
   },
   "outputs": [],
   "source": [
    "train = pd.read_csv('train_clean.csv')\n",
    "test = pd.read_csv('test_clean.csv')"
   ]
  },
  {
   "cell_type": "markdown",
   "metadata": {},
   "source": [
    "## Add additional Feature"
   ]
  },
  {
   "cell_type": "code",
   "execution_count": 159,
   "metadata": {},
   "outputs": [],
   "source": [
    "# Add month-year\n",
    "train['timestamp'] = pd.to_datetime(train['timestamp'])\n",
    "month_year = (train.timestamp.dt.month + train.timestamp.dt.year * 100)\n",
    "month_year_cnt_map = month_year.value_counts().to_dict()\n",
    "train['month_year_cnt'] = month_year.map(month_year_cnt_map)\n",
    "test['timestamp'] = pd.to_datetime(test['timestamp'])\n",
    "month_year = (test.timestamp.dt.month + test.timestamp.dt.year * 100)\n",
    "month_year_cnt_map = month_year.value_counts().to_dict()\n",
    "test['month_year_cnt'] = month_year.map(month_year_cnt_map)\n",
    "# Add week-year count\n",
    "week_year = (train.timestamp.dt.weekofyear + train.timestamp.dt.year * 100)\n",
    "week_year_cnt_map = week_year.value_counts().to_dict()\n",
    "train['week_year_cnt'] = week_year.map(week_year_cnt_map)\n",
    "week_year = (test.timestamp.dt.weekofyear + test.timestamp.dt.year * 100)\n",
    "week_year_cnt_map = week_year.value_counts().to_dict()\n",
    "test['week_year_cnt'] = week_year.map(week_year_cnt_map)\n",
    "# Add month and day-of-week\n",
    "train['month'] = train.timestamp.dt.month\n",
    "train['dow'] = train.timestamp.dt.dayofweek\n",
    "test['month'] = test.timestamp.dt.month\n",
    "test['dow'] = test.timestamp.dt.dayofweek\n",
    "# Other feature engineering\n",
    "train['rel_floor'] = train['floor'] / train['max_floor'].astype(float)\n",
    "train['rel_kitch_sq'] = train['kitch_sq'] / train['full_sq'].astype(float)\n",
    "test['rel_floor'] = test['floor'] / test['max_floor'].astype(float)\n",
    "test['rel_kitch_sq'] = test['kitch_sq'] / test['full_sq'].astype(float)\n",
    "train.apartment_name=train.sub_area.astype(str) + train['metro_km_avto'].astype(str)\n",
    "test.apartment_name=test.sub_area.astype(str) + train['metro_km_avto'].astype(str)\n",
    "train['room_size'] = train['life_sq'] / train['num_room'].astype(float)\n",
    "test['room_size'] = test['life_sq'] / test['num_room'].astype(float)"
   ]
  },
  {
   "cell_type": "code",
   "execution_count": 160,
   "metadata": {
    "collapsed": true
   },
   "outputs": [],
   "source": [
    "macro_cols = ['timestamp',\"balance_trade\", \"balance_trade_growth\", \"eurrub\", \"average_provision_of_build_contract\",\n",
    "\"micex_rgbi_tr\", \"micex_cbi_tr\", \"deposits_rate\", \"mortgage_value\", \"mortgage_rate\",\n",
    "\"income_per_cap\", \"rent_price_4+room_bus\", \"museum_visitis_per_100_cap\", \"apartment_build\"]\n",
    "macro = pd.read_csv('macro_c.csv')[macro_cols]"
   ]
  },
  {
   "cell_type": "code",
   "execution_count": 161,
   "metadata": {
    "collapsed": true
   },
   "outputs": [],
   "source": [
    "train = train.merge(macro,how='left',on='timestamp')\n",
    "test = test.merge(macro,how='left',on='timestamp')"
   ]
  },
  {
   "cell_type": "code",
   "execution_count": 162,
   "metadata": {
    "collapsed": true
   },
   "outputs": [],
   "source": [
    "def get_ratio_preschool(df):\n",
    "    df['ratio_preschool'] = df['children_preschool'] / (df['children_school'] + 1)\n",
    "    return df\n",
    "\n",
    "train = get_ratio_preschool(train)\n",
    "test = get_ratio_preschool(test)\n",
    "\n",
    "def get_extra_area(df):\n",
    "    df['extra_area'] = df['full_sq'] - df['life_sq']\n",
    "    return df\n",
    "\n",
    "train = get_extra_area(train)\n",
    "test = get_extra_area(test)\n",
    "\n",
    "def get_floor_ratio(df):\n",
    "    df['floor_ratio'] = df['max_floor'] - df['floor']\n",
    "    return df\n",
    "\n",
    "train = get_floor_ratio(train)\n",
    "test = get_floor_ratio(test)\n",
    "\n",
    "def get_room_avg_size(df):\n",
    "    df['room_avg_size'] = (df['life_sq'] - df['kitch_sq']) / (df['num_room'] + 1)\n",
    "    return df\n",
    "\n",
    "train = get_room_avg_size(train)\n",
    "test = get_room_avg_size(test)"
   ]
  },
  {
   "cell_type": "code",
   "execution_count": 163,
   "metadata": {},
   "outputs": [],
   "source": [
    "def quarter_cal(Month):\n",
    "    if Month>=1 and Month <=3:\n",
    "        return 'Q1'\n",
    "    elif Month >3 and Month <=6:\n",
    "        return 'Q2'\n",
    "    elif Month >6 and Month <=9:\n",
    "        return 'Q3'\n",
    "    else:\n",
    "        return 'Q4'"
   ]
  },
  {
   "cell_type": "code",
   "execution_count": 164,
   "metadata": {},
   "outputs": [],
   "source": [
    "train_quarter = [str(x)+quarter_cal(y) for x,y in zip(list(train.timestamp.dt.year),list(train.month))]\n",
    "test_quarter = [str(x)+quarter_cal(y) for x,y in zip(list(test.timestamp.dt.year),list(test.month))]"
   ]
  },
  {
   "cell_type": "code",
   "execution_count": 165,
   "metadata": {
    "collapsed": true
   },
   "outputs": [],
   "source": [
    "train['Quarter'] = train_quarter\n",
    "test['Quarter'] = test_quarter"
   ]
  },
  {
   "cell_type": "markdown",
   "metadata": {},
   "source": [
    "Join External Data"
   ]
  },
  {
   "cell_type": "code",
   "execution_count": 166,
   "metadata": {},
   "outputs": [],
   "source": [
    "quarter_data = pd.read_csv('Quaterly Data.csv',sep=';')[['Quarter','Primary Average']]"
   ]
  },
  {
   "cell_type": "code",
   "execution_count": 167,
   "metadata": {},
   "outputs": [],
   "source": [
    "train = train.merge(quarter_data,on='Quarter',how='left')\n",
    "test = test.merge(quarter_data,on='Quarter',how='left')"
   ]
  },
  {
   "cell_type": "code",
   "execution_count": 168,
   "metadata": {
    "collapsed": true
   },
   "outputs": [],
   "source": [
    "del train['Quarter']\n",
    "del test['Quarter']"
   ]
  },
  {
   "cell_type": "markdown",
   "metadata": {},
   "source": [
    "## Idea: Predict Gap Between Prices instead of Price Directly"
   ]
  },
  {
   "cell_type": "code",
   "execution_count": 169,
   "metadata": {},
   "outputs": [],
   "source": [
    "fullsq_fill = np.mean(train[train['full_sq'].notnull()]['full_sq'])\n",
    "train['full_sq'] = train['full_sq'].fillna(fullsq_fill)\n",
    "test['full_sq'] = test['full_sq'].fillna(fullsq_fill)"
   ]
  },
  {
   "cell_type": "code",
   "execution_count": 170,
   "metadata": {},
   "outputs": [],
   "source": [
    "Price_sqm = [x/y for x,y in zip(list(train['price_doc']),list(train['full_sq']))]\n",
    "Price_gap = Price_sqm - train['Primary Average']"
   ]
  },
  {
   "cell_type": "code",
   "execution_count": 171,
   "metadata": {},
   "outputs": [],
   "source": [
    "train['Gap'] = Price_gap"
   ]
  },
  {
   "cell_type": "markdown",
   "metadata": {},
   "source": [
    "**Create New Features of SQ and Drop Redundant Ones**"
   ]
  },
  {
   "cell_type": "code",
   "execution_count": 172,
   "metadata": {
    "collapsed": true
   },
   "outputs": [],
   "source": [
    "train['life_sq_ratio'] = train['life_sq']/train['full_sq']\n",
    "train['kitch_sq_ratio'] = train['kitch_sq']/train['full_sq']\n",
    "test['life_sq_ratio'] = test['life_sq']/test['full_sq']\n",
    "test['kitch_sq_ratio'] = test['kitch_sq']/test['full_sq']"
   ]
  },
  {
   "cell_type": "code",
   "execution_count": 173,
   "metadata": {},
   "outputs": [],
   "source": [
    "col = list(test.columns)[2:]\n",
    "col = [each for each in col if each not in ['full_sq','life_sq','kitch_sq','Primary Average']]\n",
    "label = train['Gap']"
   ]
  },
  {
   "cell_type": "code",
   "execution_count": 175,
   "metadata": {
    "collapsed": true
   },
   "outputs": [],
   "source": [
    "def get_feature_importance(model):\n",
    "    Importance = model.get_fscore()\n",
    "    Importance = list(Importance.items())\n",
    "    Feature= []\n",
    "    Score = []\n",
    "    for each in Importance:\n",
    "        Feature.append(each[0])\n",
    "        Score.append(each[1])\n",
    "    df = pd.DataFrame({'Feature':Feature,'Score':Score}).sort_values(by=['Score'],ascending=[0])\n",
    "    return df  "
   ]
  },
  {
   "cell_type": "code",
   "execution_count": 140,
   "metadata": {
    "collapsed": true
   },
   "outputs": [],
   "source": [
    "dtrain = xgb.DMatrix(train[col],label)"
   ]
  },
  {
   "cell_type": "code",
   "execution_count": 145,
   "metadata": {},
   "outputs": [
    {
     "name": "stdout",
     "output_type": "stream",
     "text": [
      "[0]\ttrain-rmse:76820.8+796.256\ttest-rmse:76820.5+1597.85\n",
      "[50]\ttrain-rmse:36399.8+921.416\ttest-rmse:38080.7+1966.77\n",
      "[100]\ttrain-rmse:33444.8+798.356\ttest-rmse:36762.8+1971.74\n",
      "[150]\ttrain-rmse:31870.2+761.324\ttest-rmse:36426.2+1911.36\n",
      "[200]\ttrain-rmse:30659.7+710.495\ttest-rmse:36220.5+1937.27\n",
      "[250]\ttrain-rmse:29648.8+684.414\ttest-rmse:36113.6+1947.95\n",
      "[300]\ttrain-rmse:28775.5+745.087\ttest-rmse:36077.2+1951.24\n",
      "[350]\ttrain-rmse:27933.2+740.11\ttest-rmse:36034.8+1947.67\n",
      "375\n"
     ]
    }
   ],
   "source": [
    "params = {\n",
    "   'eta': 0.05, ## Try 0.01,3,5\n",
    "   'max_depth': 5,## Try 4,5,6\n",
    "   'subsample': 0.7,\n",
    "   'colsample_bytree': 0.7,\n",
    "   'objective': 'reg:linear',\n",
    "    'eval_metric': 'rmse',\n",
    "    'silent': 1,\n",
    "    'lambda':5,\n",
    "    'min_child_weight':5\n",
    "}\n",
    "xgb_cvalid = xgb.cv(params, dtrain, num_boost_round=1000, early_stopping_rounds=20,\n",
    "     verbose_eval=50, show_stdv=True,seed=42)\n",
    "print(len(xgb_cvalid))"
   ]
  },
  {
   "cell_type": "markdown",
   "metadata": {},
   "source": [
    "**Create Five Fold CV**"
   ]
  },
  {
   "cell_type": "code",
   "execution_count": 176,
   "metadata": {
    "collapsed": true
   },
   "outputs": [],
   "source": [
    "from sklearn.model_selection import KFold\n",
    "from sklearn.metrics import mean_squared_error as mse"
   ]
  },
  {
   "cell_type": "code",
   "execution_count": 177,
   "metadata": {},
   "outputs": [],
   "source": [
    "kf = KFold(n_splits=5,shuffle=False)"
   ]
  },
  {
   "cell_type": "code",
   "execution_count": 178,
   "metadata": {
    "collapsed": true
   },
   "outputs": [],
   "source": [
    "train = train.reset_index(drop=True)"
   ]
  },
  {
   "cell_type": "code",
   "execution_count": 191,
   "metadata": {},
   "outputs": [
    {
     "name": "stdout",
     "output_type": "stream",
     "text": [
      "TRAIN: [ 5853  5854  5855 ..., 29259 29260 29261] TEST: [   0    1    2 ..., 5850 5851 5852]\n",
      "training done\n",
      "RMSLE: 0.403819306815\n",
      "TRAIN: [    0     1     2 ..., 29259 29260 29261] TEST: [ 5853  5854  5855 ..., 11703 11704 11705]\n",
      "training done\n",
      "RMSLE: 0.320027073813\n",
      "TRAIN: [    0     1     2 ..., 29259 29260 29261] TEST: [11706 11707 11708 ..., 17555 17556 17557]\n",
      "training done\n",
      "RMSLE: 0.334029444864\n",
      "TRAIN: [    0     1     2 ..., 29259 29260 29261] TEST: [17558 17559 17560 ..., 23407 23408 23409]\n",
      "training done\n",
      "RMSLE: 0.324464626265\n",
      "TRAIN: [    0     1     2 ..., 23407 23408 23409] TEST: [23410 23411 23412 ..., 29259 29260 29261]\n",
      "training done\n",
      "RMSLE: 0.295966289126\n"
     ]
    }
   ],
   "source": [
    "Accuracy = []\n",
    "for train_index, test_index in kf.split(Features):\n",
    "    print(\"TRAIN:\", train_index, \"TEST:\", test_index)\n",
    "    X_train, X_test = train.iloc[train_index,:], train.iloc[test_index,:]\n",
    "    y_train, y_test = label[train_index], label[test_index]\n",
    "    dtrain = xgb.DMatrix(X_train[col],y_train)\n",
    "    dtest = xgb.DMatrix(X_test[col])\n",
    "    model = xgb.train(params,dtrain,num_boost_round=375)\n",
    "    print('training done')\n",
    "    pred = model.predict(dtest)\n",
    "    actual_pred = (X_test['Primary Average'] + pred)*X_test['full_sq']\n",
    "    RMSLE = mse(np.log(price_doc[test_index]+1),np.log(actual_pred+1))**0.5\n",
    "    print('RMSLE: '+str(RMSLE))\n",
    "    Accuracy.append(RMSLE)"
   ]
  },
  {
   "cell_type": "code",
   "execution_count": 192,
   "metadata": {},
   "outputs": [
    {
     "data": {
      "text/plain": [
       "0.33566134817671123"
      ]
     },
     "execution_count": 192,
     "metadata": {},
     "output_type": "execute_result"
    }
   ],
   "source": [
    "np.mean(Accuracy)"
   ]
  },
  {
   "cell_type": "markdown",
   "metadata": {},
   "source": [
    "**Test New Method**"
   ]
  },
  {
   "cell_type": "code",
   "execution_count": 193,
   "metadata": {
    "collapsed": true
   },
   "outputs": [],
   "source": [
    "dtrain = xgb.DMatrix(train[col],label)\n",
    "model = xgb.train(params,dtrain,num_boost_round=375)"
   ]
  },
  {
   "cell_type": "code",
   "execution_count": 194,
   "metadata": {
    "collapsed": true
   },
   "outputs": [],
   "source": [
    "dtest = xgb.DMatrix(test[col])"
   ]
  },
  {
   "cell_type": "code",
   "execution_count": 195,
   "metadata": {
    "collapsed": true
   },
   "outputs": [],
   "source": [
    "feature_importance = get_feature_importance(model)"
   ]
  },
  {
   "cell_type": "code",
   "execution_count": 196,
   "metadata": {},
   "outputs": [
    {
     "data": {
      "text/html": [
       "<div>\n",
       "<table border=\"1\" class=\"dataframe\">\n",
       "  <thead>\n",
       "    <tr style=\"text-align: right;\">\n",
       "      <th></th>\n",
       "      <th>Feature</th>\n",
       "      <th>Score</th>\n",
       "    </tr>\n",
       "  </thead>\n",
       "  <tbody>\n",
       "    <tr>\n",
       "      <th>153</th>\n",
       "      <td>extra_area</td>\n",
       "      <td>384</td>\n",
       "    </tr>\n",
       "    <tr>\n",
       "      <th>160</th>\n",
       "      <td>build_year</td>\n",
       "      <td>286</td>\n",
       "    </tr>\n",
       "    <tr>\n",
       "      <th>80</th>\n",
       "      <td>life_sq_ratio</td>\n",
       "      <td>226</td>\n",
       "    </tr>\n",
       "    <tr>\n",
       "      <th>178</th>\n",
       "      <td>week_year_cnt</td>\n",
       "      <td>168</td>\n",
       "    </tr>\n",
       "    <tr>\n",
       "      <th>165</th>\n",
       "      <td>floor</td>\n",
       "      <td>167</td>\n",
       "    </tr>\n",
       "    <tr>\n",
       "      <th>19</th>\n",
       "      <td>max_floor</td>\n",
       "      <td>139</td>\n",
       "    </tr>\n",
       "    <tr>\n",
       "      <th>14</th>\n",
       "      <td>rel_kitch_sq</td>\n",
       "      <td>132</td>\n",
       "    </tr>\n",
       "    <tr>\n",
       "      <th>203</th>\n",
       "      <td>num_room</td>\n",
       "      <td>125</td>\n",
       "    </tr>\n",
       "    <tr>\n",
       "      <th>37</th>\n",
       "      <td>radiation_km</td>\n",
       "      <td>124</td>\n",
       "    </tr>\n",
       "    <tr>\n",
       "      <th>217</th>\n",
       "      <td>month_year_cnt</td>\n",
       "      <td>123</td>\n",
       "    </tr>\n",
       "    <tr>\n",
       "      <th>30</th>\n",
       "      <td>room_avg_size</td>\n",
       "      <td>117</td>\n",
       "    </tr>\n",
       "    <tr>\n",
       "      <th>172</th>\n",
       "      <td>rel_floor</td>\n",
       "      <td>97</td>\n",
       "    </tr>\n",
       "    <tr>\n",
       "      <th>176</th>\n",
       "      <td>water_km</td>\n",
       "      <td>90</td>\n",
       "    </tr>\n",
       "    <tr>\n",
       "      <th>126</th>\n",
       "      <td>public_transport_station_km</td>\n",
       "      <td>89</td>\n",
       "    </tr>\n",
       "    <tr>\n",
       "      <th>171</th>\n",
       "      <td>green_zone_km</td>\n",
       "      <td>87</td>\n",
       "    </tr>\n",
       "    <tr>\n",
       "      <th>40</th>\n",
       "      <td>room_size</td>\n",
       "      <td>84</td>\n",
       "    </tr>\n",
       "    <tr>\n",
       "      <th>150</th>\n",
       "      <td>workplaces_km</td>\n",
       "      <td>83</td>\n",
       "    </tr>\n",
       "    <tr>\n",
       "      <th>134</th>\n",
       "      <td>month</td>\n",
       "      <td>81</td>\n",
       "    </tr>\n",
       "    <tr>\n",
       "      <th>254</th>\n",
       "      <td>mosque_km</td>\n",
       "      <td>81</td>\n",
       "    </tr>\n",
       "    <tr>\n",
       "      <th>277</th>\n",
       "      <td>church_synagogue_km</td>\n",
       "      <td>78</td>\n",
       "    </tr>\n",
       "    <tr>\n",
       "      <th>230</th>\n",
       "      <td>railroad_km</td>\n",
       "      <td>76</td>\n",
       "    </tr>\n",
       "    <tr>\n",
       "      <th>142</th>\n",
       "      <td>additional_education_km</td>\n",
       "      <td>75</td>\n",
       "    </tr>\n",
       "    <tr>\n",
       "      <th>79</th>\n",
       "      <td>power_transmission_line_km</td>\n",
       "      <td>75</td>\n",
       "    </tr>\n",
       "    <tr>\n",
       "      <th>82</th>\n",
       "      <td>green_part_1000</td>\n",
       "      <td>74</td>\n",
       "    </tr>\n",
       "    <tr>\n",
       "      <th>146</th>\n",
       "      <td>swim_pool_km</td>\n",
       "      <td>73</td>\n",
       "    </tr>\n",
       "    <tr>\n",
       "      <th>84</th>\n",
       "      <td>kindergarten_km</td>\n",
       "      <td>73</td>\n",
       "    </tr>\n",
       "    <tr>\n",
       "      <th>282</th>\n",
       "      <td>fitness_km</td>\n",
       "      <td>70</td>\n",
       "    </tr>\n",
       "    <tr>\n",
       "      <th>174</th>\n",
       "      <td>state</td>\n",
       "      <td>70</td>\n",
       "    </tr>\n",
       "    <tr>\n",
       "      <th>85</th>\n",
       "      <td>big_road1_km</td>\n",
       "      <td>70</td>\n",
       "    </tr>\n",
       "    <tr>\n",
       "      <th>114</th>\n",
       "      <td>catering_km</td>\n",
       "      <td>68</td>\n",
       "    </tr>\n",
       "    <tr>\n",
       "      <th>222</th>\n",
       "      <td>ttk_km</td>\n",
       "      <td>66</td>\n",
       "    </tr>\n",
       "    <tr>\n",
       "      <th>111</th>\n",
       "      <td>metro_min_avto</td>\n",
       "      <td>66</td>\n",
       "    </tr>\n",
       "    <tr>\n",
       "      <th>13</th>\n",
       "      <td>public_healthcare_km</td>\n",
       "      <td>66</td>\n",
       "    </tr>\n",
       "    <tr>\n",
       "      <th>130</th>\n",
       "      <td>industrial_km</td>\n",
       "      <td>65</td>\n",
       "    </tr>\n",
       "    <tr>\n",
       "      <th>123</th>\n",
       "      <td>metro_min_walk</td>\n",
       "      <td>64</td>\n",
       "    </tr>\n",
       "    <tr>\n",
       "      <th>214</th>\n",
       "      <td>cemetery_km</td>\n",
       "      <td>64</td>\n",
       "    </tr>\n",
       "    <tr>\n",
       "      <th>151</th>\n",
       "      <td>preschool_km</td>\n",
       "      <td>64</td>\n",
       "    </tr>\n",
       "    <tr>\n",
       "      <th>206</th>\n",
       "      <td>metro_km_avto</td>\n",
       "      <td>60</td>\n",
       "    </tr>\n",
       "    <tr>\n",
       "      <th>148</th>\n",
       "      <td>office_km</td>\n",
       "      <td>59</td>\n",
       "    </tr>\n",
       "    <tr>\n",
       "      <th>198</th>\n",
       "      <td>ts_km</td>\n",
       "      <td>58</td>\n",
       "    </tr>\n",
       "    <tr>\n",
       "      <th>61</th>\n",
       "      <td>theater_km</td>\n",
       "      <td>58</td>\n",
       "    </tr>\n",
       "    <tr>\n",
       "      <th>233</th>\n",
       "      <td>hospital_beds_raion</td>\n",
       "      <td>57</td>\n",
       "    </tr>\n",
       "    <tr>\n",
       "      <th>228</th>\n",
       "      <td>thermal_power_plant_km</td>\n",
       "      <td>56</td>\n",
       "    </tr>\n",
       "    <tr>\n",
       "      <th>116</th>\n",
       "      <td>stadium_km</td>\n",
       "      <td>56</td>\n",
       "    </tr>\n",
       "    <tr>\n",
       "      <th>187</th>\n",
       "      <td>university_km</td>\n",
       "      <td>55</td>\n",
       "    </tr>\n",
       "    <tr>\n",
       "      <th>60</th>\n",
       "      <td>shopping_centers_km</td>\n",
       "      <td>55</td>\n",
       "    </tr>\n",
       "    <tr>\n",
       "      <th>1</th>\n",
       "      <td>basketball_km</td>\n",
       "      <td>55</td>\n",
       "    </tr>\n",
       "    <tr>\n",
       "      <th>188</th>\n",
       "      <td>material</td>\n",
       "      <td>54</td>\n",
       "    </tr>\n",
       "    <tr>\n",
       "      <th>120</th>\n",
       "      <td>park_km</td>\n",
       "      <td>54</td>\n",
       "    </tr>\n",
       "    <tr>\n",
       "      <th>249</th>\n",
       "      <td>ice_rink_km</td>\n",
       "      <td>53</td>\n",
       "    </tr>\n",
       "  </tbody>\n",
       "</table>\n",
       "</div>"
      ],
      "text/plain": [
       "                         Feature  Score\n",
       "153                   extra_area    384\n",
       "160                   build_year    286\n",
       "80                 life_sq_ratio    226\n",
       "178                week_year_cnt    168\n",
       "165                        floor    167\n",
       "19                     max_floor    139\n",
       "14                  rel_kitch_sq    132\n",
       "203                     num_room    125\n",
       "37                  radiation_km    124\n",
       "217               month_year_cnt    123\n",
       "30                 room_avg_size    117\n",
       "172                    rel_floor     97\n",
       "176                     water_km     90\n",
       "126  public_transport_station_km     89\n",
       "171                green_zone_km     87\n",
       "40                     room_size     84\n",
       "150                workplaces_km     83\n",
       "134                        month     81\n",
       "254                    mosque_km     81\n",
       "277          church_synagogue_km     78\n",
       "230                  railroad_km     76\n",
       "142      additional_education_km     75\n",
       "79    power_transmission_line_km     75\n",
       "82               green_part_1000     74\n",
       "146                 swim_pool_km     73\n",
       "84               kindergarten_km     73\n",
       "282                   fitness_km     70\n",
       "174                        state     70\n",
       "85                  big_road1_km     70\n",
       "114                  catering_km     68\n",
       "222                       ttk_km     66\n",
       "111               metro_min_avto     66\n",
       "13          public_healthcare_km     66\n",
       "130                industrial_km     65\n",
       "123               metro_min_walk     64\n",
       "214                  cemetery_km     64\n",
       "151                 preschool_km     64\n",
       "206                metro_km_avto     60\n",
       "148                    office_km     59\n",
       "198                        ts_km     58\n",
       "61                    theater_km     58\n",
       "233          hospital_beds_raion     57\n",
       "228       thermal_power_plant_km     56\n",
       "116                   stadium_km     56\n",
       "187                university_km     55\n",
       "60           shopping_centers_km     55\n",
       "1                  basketball_km     55\n",
       "188                     material     54\n",
       "120                      park_km     54\n",
       "249                  ice_rink_km     53"
      ]
     },
     "execution_count": 196,
     "metadata": {},
     "output_type": "execute_result"
    }
   ],
   "source": [
    "feature_importance.iloc[0:50,]"
   ]
  },
  {
   "cell_type": "code",
   "execution_count": 197,
   "metadata": {
    "collapsed": true
   },
   "outputs": [],
   "source": [
    "pred = model.predict(dtest)"
   ]
  },
  {
   "cell_type": "code",
   "execution_count": 198,
   "metadata": {
    "collapsed": true
   },
   "outputs": [],
   "source": [
    "Actual_predict = (pred + test['Primary Average'])*test['full_sq']"
   ]
  },
  {
   "cell_type": "code",
   "execution_count": 201,
   "metadata": {},
   "outputs": [],
   "source": [
    "sub = pd.DataFrame({'id':test['id'],'price_doc':Actual_predict})"
   ]
  },
  {
   "cell_type": "code",
   "execution_count": 202,
   "metadata": {
    "collapsed": true
   },
   "outputs": [],
   "source": [
    "sub.to_csv('Test_UseGapAsTarget.csv',index=False)"
   ]
  },
  {
   "cell_type": "code",
   "execution_count": null,
   "metadata": {
    "collapsed": true
   },
   "outputs": [],
   "source": []
  }
 ],
 "metadata": {
  "kernelspec": {
   "display_name": "Python 3",
   "language": "python",
   "name": "python3"
  },
  "language_info": {
   "codemirror_mode": {
    "name": "ipython",
    "version": 3
   },
   "file_extension": ".py",
   "mimetype": "text/x-python",
   "name": "python",
   "nbconvert_exporter": "python",
   "pygments_lexer": "ipython3",
   "version": "3.5.2"
  }
 },
 "nbformat": 4,
 "nbformat_minor": 2
}
