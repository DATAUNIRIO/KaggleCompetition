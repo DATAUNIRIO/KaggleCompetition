{
 "cells": [
  {
   "cell_type": "code",
   "execution_count": 400,
   "metadata": {},
   "outputs": [],
   "source": [
    "import pandas as pd\n",
    "import numpy as np\n",
    "import xgboost as xgb\n",
    "from ggplot import *\n",
    "import matplotlib.pyplot as plt\n",
    "import seaborn as sns\n",
    "%matplotlib inline"
   ]
  },
  {
   "cell_type": "code",
   "execution_count": 430,
   "metadata": {},
   "outputs": [],
   "source": [
    "train = pd.read_csv('train_c.csv')\n",
    "test = pd.read_csv('test_c.csv')"
   ]
  },
  {
   "cell_type": "code",
   "execution_count": 465,
   "metadata": {
    "collapsed": true
   },
   "outputs": [],
   "source": [
    "def get_feature_importance(model):\n",
    "    Importance = model.get_fscore()\n",
    "    Importance = list(Importance.items())\n",
    "    Feature= []\n",
    "    Score = []\n",
    "    for each in Importance:\n",
    "        Feature.append(each[0])\n",
    "        Score.append(each[1])\n",
    "    df = pd.DataFrame({'Feature':Feature,'Score':Score}).sort_values(by=['Score'],ascending=[0])\n",
    "    return df  \n",
    "\n",
    "def plot_importance(model):\n",
    "    FImportance = get_feature_importance(model).iloc[0:50,]\n",
    "    plt.figure()\n",
    "    FImportance.plot(kind='barh', x='Feature', y='Score', legend=False, figsize=(6, 10))\n",
    "    plt.title('XGBoost Feature Importance')\n",
    "    plt.show()\n",
    "    "
   ]
  },
  {
   "cell_type": "markdown",
   "metadata": {},
   "source": [
    "# Current best result. No other feature"
   ]
  },
  {
   "cell_type": "code",
   "execution_count": 431,
   "metadata": {},
   "outputs": [],
   "source": [
    "# params = {\n",
    "#     'eta': 0.05, ## Try 0.01,3,5\n",
    "#     'max_depth': 5,## Try 4,5,6\n",
    "#     'subsample': 0.7,\n",
    "#     'colsample_bytree': 0.7,\n",
    "#     'objective': 'reg:linear',\n",
    "#     'eval_metric': 'rmse',\n",
    "#     'silent': 1\n",
    "# }\n",
    "# xgb_cvalid = xgb.cv(params, dtrain, num_boost_round=1000, early_stopping_rounds=20,\n",
    "#     verbose_eval=50, show_stdv=False,seed=42)\n",
    "# xgb_cvalid[['train-rmse-mean', 'test-rmse-mean']].plot()\n",
    "# print('Performance does not improve from '+str(len(xgb_cvalid))+' rounds')"
   ]
  },
  {
   "cell_type": "markdown",
   "metadata": {},
   "source": [
    "# Add T-SNE features"
   ]
  },
  {
   "cell_type": "code",
   "execution_count": 432,
   "metadata": {},
   "outputs": [],
   "source": [
    "tsne_results = np.load('tsne_all.npy')\n",
    "train['tsne_1'] = tsne_results[:train.shape[0],0]\n",
    "train['tsne_2'] = tsne_results[:train.shape[0],1]\n",
    "test['tsne_1'] = tsne_results[train.shape[0]:,0]\n",
    "test['tsne_2'] = tsne_results[train.shape[0]:,1]"
   ]
  },
  {
   "cell_type": "markdown",
   "metadata": {},
   "source": [
    "# data cleaning accoring to https://www.kaggle.com/gunjaagarwal/final-xgboost-try/code"
   ]
  },
  {
   "cell_type": "code",
   "execution_count": 433,
   "metadata": {
    "scrolled": true
   },
   "outputs": [
    {
     "name": "stderr",
     "output_type": "stream",
     "text": [
      "/Users/zhesun/.virtualenvs/venv2/lib/python2.7/site-packages/ipykernel/__main__.py:2: DeprecationWarning: \n",
      ".ix is deprecated. Please use\n",
      ".loc for label based indexing or\n",
      ".iloc for positional indexing\n",
      "\n",
      "See the documentation here:\n",
      "http://pandas.pydata.org/pandas-docs/stable/indexing.html#deprecate_ix\n",
      "  from ipykernel import kernelapp as app\n",
      "/Users/zhesun/.virtualenvs/venv2/lib/python2.7/site-packages/ipykernel/__main__.py:8: DeprecationWarning: \n",
      ".ix is deprecated. Please use\n",
      ".loc for label based indexing or\n",
      ".iloc for positional indexing\n",
      "\n",
      "See the documentation here:\n",
      "http://pandas.pydata.org/pandas-docs/stable/indexing.html#deprecate_ix\n"
     ]
    }
   ],
   "source": [
    "bad_index = train[train.life_sq > train.full_sq].index\n",
    "train.ix[bad_index, \"life_sq\"] = np.NaN\n",
    "\n",
    "# equal_index = [601,1896,2791]\n",
    "# test.ix[equal_index, \"life_sq\"] = test.ix[equal_index, \"full_sq\"]\n",
    "\n",
    "bad_index = test[test.life_sq > test.full_sq].index\n",
    "test.ix[bad_index, \"life_sq\"] = np.NaN"
   ]
  },
  {
   "cell_type": "code",
   "execution_count": 434,
   "metadata": {
    "collapsed": true
   },
   "outputs": [],
   "source": [
    "bad_index = train[train.life_sq < 5].index\n",
    "train.ix[bad_index, \"life_sq\"] = np.NaN\n",
    "bad_index = test[test.life_sq < 5].index\n",
    "test.ix[bad_index, \"life_sq\"] = np.NaN\n",
    "\n",
    "bad_index = train[train.full_sq < 5].index\n",
    "train.ix[bad_index, \"full_sq\"] = np.NaN\n",
    "bad_index = test[test.full_sq < 5].index\n",
    "test.ix[bad_index, \"full_sq\"] = np.NaN"
   ]
  },
  {
   "cell_type": "code",
   "execution_count": 435,
   "metadata": {
    "collapsed": true
   },
   "outputs": [],
   "source": [
    "# kitch_is_build_year = [13117]\n",
    "# train.ix[kitch_is_build_year, \"build_year\"] = train.ix[kitch_is_build_year, \"kitch_sq\"]"
   ]
  },
  {
   "cell_type": "code",
   "execution_count": 436,
   "metadata": {
    "collapsed": true
   },
   "outputs": [],
   "source": [
    "bad_index = train[train.kitch_sq >= train.life_sq].index\n",
    "train.ix[bad_index, \"kitch_sq\"] = np.NaN\n",
    "bad_index = test[test.kitch_sq >= test.life_sq].index\n",
    "test.ix[bad_index, \"kitch_sq\"] = np.NaN"
   ]
  },
  {
   "cell_type": "code",
   "execution_count": 437,
   "metadata": {
    "collapsed": true
   },
   "outputs": [],
   "source": [
    "bad_index = train[(train.kitch_sq == 0).values + (train.kitch_sq == 1).values].index\n",
    "train.ix[bad_index, \"kitch_sq\"] = np.NaN\n",
    "bad_index = test[(test.kitch_sq == 0).values + (test.kitch_sq == 1).values].index\n",
    "test.ix[bad_index, \"kitch_sq\"] = np.NaN"
   ]
  },
  {
   "cell_type": "code",
   "execution_count": 438,
   "metadata": {
    "collapsed": true
   },
   "outputs": [],
   "source": [
    "bad_index = train[(train.full_sq > 210) & (train.life_sq / train.full_sq < 0.3)].index\n",
    "train.ix[bad_index, \"full_sq\"] = np.NaN\n",
    "bad_index = test[(test.full_sq > 150) & (test.life_sq / test.full_sq < 0.3)].index\n",
    "test.ix[bad_index, \"full_sq\"] = np.NaN"
   ]
  },
  {
   "cell_type": "code",
   "execution_count": 439,
   "metadata": {
    "collapsed": true
   },
   "outputs": [],
   "source": [
    "bad_index = train[train.life_sq > 300].index\n",
    "train.ix[bad_index, [\"life_sq\", \"full_sq\"]] = np.NaN\n",
    "bad_index = test[test.life_sq > 200].index\n",
    "test.ix[bad_index, [\"life_sq\", \"full_sq\"]] = np.NaN"
   ]
  },
  {
   "cell_type": "code",
   "execution_count": 440,
   "metadata": {},
   "outputs": [
    {
     "data": {
      "text/plain": [
       "0    0.638246\n",
       "1    0.361754\n",
       "Name: product_type, dtype: float64"
      ]
     },
     "execution_count": 440,
     "metadata": {},
     "output_type": "execute_result"
    }
   ],
   "source": [
    "train.product_type.value_counts(normalize= True)"
   ]
  },
  {
   "cell_type": "code",
   "execution_count": 441,
   "metadata": {},
   "outputs": [
    {
     "data": {
      "text/plain": [
       " 0    0.652310\n",
       " 1    0.343383\n",
       "-1    0.004307\n",
       "Name: product_type, dtype: float64"
      ]
     },
     "execution_count": 441,
     "metadata": {},
     "output_type": "execute_result"
    }
   ],
   "source": [
    "test.product_type.value_counts(normalize= True)"
   ]
  },
  {
   "cell_type": "code",
   "execution_count": 442,
   "metadata": {
    "collapsed": true
   },
   "outputs": [],
   "source": [
    "bad_index = train[train.build_year < 1500].index\n",
    "train.ix[bad_index, \"build_year\"] = np.NaN\n",
    "bad_index = test[test.build_year < 1500].index\n",
    "test.ix[bad_index, \"build_year\"] = np.NaN\n",
    "\n",
    "bad_index = train[train.build_year > 2050].index\n",
    "train.ix[bad_index, \"build_year\"] = np.NaN\n",
    "bad_index = test[test.build_year > 2050].index\n",
    "test.ix[bad_index, \"build_year\"] = np.NaN"
   ]
  },
  {
   "cell_type": "code",
   "execution_count": 443,
   "metadata": {
    "collapsed": true
   },
   "outputs": [],
   "source": [
    "bad_index = train[train.num_room == 0].index \n",
    "train.ix[bad_index, \"num_room\"] = np.NaN\n",
    "bad_index = test[test.num_room == 0].index \n",
    "test.ix[bad_index, \"num_room\"] = np.NaN"
   ]
  },
  {
   "cell_type": "code",
   "execution_count": 444,
   "metadata": {
    "collapsed": true
   },
   "outputs": [],
   "source": [
    "# bad_index = [10076, 11621, 17764, 19390, 24007, 26713, 29172]\n",
    "# train.ix[bad_index, \"num_room\"] = np.NaN\n",
    "# bad_index = [3174, 7313]\n",
    "# test.ix[bad_index, \"num_room\"] = np.NaN"
   ]
  },
  {
   "cell_type": "code",
   "execution_count": 445,
   "metadata": {
    "collapsed": true
   },
   "outputs": [],
   "source": [
    "bad_index = train[(train.floor == 0).values * (train.max_floor == 0).values].index\n",
    "train.ix[bad_index, [\"max_floor\", \"floor\"]] = np.NaN\n",
    "bad_index = train[train.floor == 0].index\n",
    "train.ix[bad_index, \"floor\"] = np.NaN\n",
    "bad_index = train[train.max_floor == 0].index\n",
    "train.ix[bad_index, \"max_floor\"] = np.NaN\n",
    "bad_index = test[test.max_floor == 0].index\n",
    "test.ix[bad_index, \"max_floor\"] = np.NaN\n",
    "bad_index = train[train.floor > train.max_floor].index\n",
    "train.ix[bad_index, \"max_floor\"] = np.NaN\n",
    "bad_index = test[test.floor > test.max_floor].index\n",
    "test.ix[bad_index, \"max_floor\"] = np.NaN"
   ]
  },
  {
   "cell_type": "code",
   "execution_count": 446,
   "metadata": {},
   "outputs": [
    {
     "data": {
      "text/plain": [
       "count     30295.000000\n",
       "mean          7.673081\n",
       "std           5.319135\n",
       "min           1.000000\n",
       "50%           7.000000\n",
       "99.99%       40.911800\n",
       "max          77.000000\n",
       "Name: floor, dtype: float64"
      ]
     },
     "execution_count": 446,
     "metadata": {},
     "output_type": "execute_result"
    }
   ],
   "source": [
    "train.floor.describe(percentiles= [0.9999])"
   ]
  },
  {
   "cell_type": "code",
   "execution_count": 447,
   "metadata": {},
   "outputs": [],
   "source": [
    "# bad_index = [23584]\n",
    "# train.ix[bad_index, \"floor\"] = np.NaN"
   ]
  },
  {
   "cell_type": "code",
   "execution_count": 448,
   "metadata": {},
   "outputs": [
    {
     "data": {
      "text/plain": [
       "2.0    2662\n",
       "1.0    2266\n",
       "3.0    1913\n",
       "4.0     127\n",
       "Name: state, dtype: int64"
      ]
     },
     "execution_count": 448,
     "metadata": {},
     "output_type": "execute_result"
    }
   ],
   "source": [
    "train.material.value_counts()\n",
    "test.material.value_counts()\n",
    "train.state.value_counts()\n",
    "bad_index = train[train.state == 33].index\n",
    "train.ix[bad_index, \"state\"] = np.NaN\n",
    "test.state.value_counts()"
   ]
  },
  {
   "cell_type": "code",
   "execution_count": 449,
   "metadata": {
    "collapsed": true
   },
   "outputs": [],
   "source": [
    "# brings error down a lot by removing extreme price per sqm\n",
    "train.loc[train.full_sq == 0, 'full_sq'] = 50\n",
    "train = train[train.price_doc/train.full_sq <= 600000]\n",
    "train = train[train.price_doc/train.full_sq >= 10000]"
   ]
  },
  {
   "cell_type": "code",
   "execution_count": 450,
   "metadata": {},
   "outputs": [],
   "source": [
    "# Add month-year\n",
    "train['timestamp'] = pd.to_datetime(train['timestamp'])\n",
    "month_year = (train.timestamp.dt.month + train.timestamp.dt.year * 100)\n",
    "month_year_cnt_map = month_year.value_counts().to_dict()\n",
    "train['month_year_cnt'] = month_year.map(month_year_cnt_map)\n",
    "\n",
    "test['timestamp'] = pd.to_datetime(test['timestamp'])\n",
    "month_year = (test.timestamp.dt.month + test.timestamp.dt.year * 100)\n",
    "month_year_cnt_map = month_year.value_counts().to_dict()\n",
    "test['month_year_cnt'] = month_year.map(month_year_cnt_map)"
   ]
  },
  {
   "cell_type": "code",
   "execution_count": 451,
   "metadata": {},
   "outputs": [],
   "source": [
    "# Add week-year count\n",
    "week_year = (train.timestamp.dt.weekofyear + train.timestamp.dt.year * 100)\n",
    "week_year_cnt_map = week_year.value_counts().to_dict()\n",
    "train['week_year_cnt'] = week_year.map(week_year_cnt_map)\n",
    "\n",
    "week_year = (test.timestamp.dt.weekofyear + test.timestamp.dt.year * 100)\n",
    "week_year_cnt_map = week_year.value_counts().to_dict()\n",
    "test['week_year_cnt'] = week_year.map(week_year_cnt_map)"
   ]
  },
  {
   "cell_type": "code",
   "execution_count": 452,
   "metadata": {
    "collapsed": true
   },
   "outputs": [],
   "source": [
    "# Add month and day-of-week\n",
    "train['month'] = train.timestamp.dt.month\n",
    "train['dow'] = train.timestamp.dt.dayofweek\n",
    "\n",
    "test['month'] = test.timestamp.dt.month\n",
    "test['dow'] = test.timestamp.dt.dayofweek"
   ]
  },
  {
   "cell_type": "code",
   "execution_count": 453,
   "metadata": {},
   "outputs": [],
   "source": [
    "# Other feature engineering\n",
    "train['rel_floor'] = train['floor'] / train['max_floor'].astype(float)\n",
    "train['rel_kitch_sq'] = train['kitch_sq'] / train['full_sq'].astype(float)\n",
    "\n",
    "test['rel_floor'] = test['floor'] / test['max_floor'].astype(float)\n",
    "test['rel_kitch_sq'] = test['kitch_sq'] / test['full_sq'].astype(float)\n",
    "\n",
    "train.apartment_name=train.sub_area.astype(str) + train['metro_km_avto'].astype(str)\n",
    "test.apartment_name=test.sub_area.astype(str) + train['metro_km_avto'].astype(str)\n",
    "\n",
    "train['room_size'] = train['life_sq'] / train['num_room'].astype(float)\n",
    "test['room_size'] = test['life_sq'] / test['num_room'].astype(float)"
   ]
  },
  {
   "cell_type": "markdown",
   "metadata": {},
   "source": [
    "# Add hand made feature, and tsne"
   ]
  },
  {
   "cell_type": "code",
   "execution_count": 454,
   "metadata": {
    "collapsed": true
   },
   "outputs": [],
   "source": [
    "def get_ratio_preschool(df):\n",
    "    df['ratio_preschool'] = df['children_preschool'] / (df['children_school'] + 1)\n",
    "    return df\n",
    "\n",
    "train = get_ratio_preschool(train)\n",
    "test = get_ratio_preschool(test)"
   ]
  },
  {
   "cell_type": "code",
   "execution_count": 455,
   "metadata": {
    "collapsed": true
   },
   "outputs": [],
   "source": [
    "def get_extra_area(df):\n",
    "    df['extra_area'] = df['full_sq'] - df['life_sq']\n",
    "    return df\n",
    "\n",
    "train = get_extra_area(train)\n",
    "test = get_extra_area(test)"
   ]
  },
  {
   "cell_type": "code",
   "execution_count": 456,
   "metadata": {
    "collapsed": true
   },
   "outputs": [],
   "source": [
    "def get_floor_ratio(df):\n",
    "    df['floor_ratio'] = df['max_floor'] - df['floor']\n",
    "    return df\n",
    "\n",
    "train = get_floor_ratio(train)\n",
    "test = get_floor_ratio(test)"
   ]
  },
  {
   "cell_type": "code",
   "execution_count": 457,
   "metadata": {
    "collapsed": true
   },
   "outputs": [],
   "source": [
    "def get_room_avg_size(df):\n",
    "    df['room_avg_size'] = (df['life_sq'] - df['kitch_sq']) / (df['num_room'] + 1)\n",
    "    return df\n",
    "\n",
    "train = get_room_avg_size(train)\n",
    "test = get_room_avg_size(test)"
   ]
  },
  {
   "cell_type": "code",
   "execution_count": 458,
   "metadata": {
    "collapsed": true
   },
   "outputs": [],
   "source": [
    "df_kremlin = pd.read_csv('subarea_from_kremlin.csv')\n",
    "df_kremlin = df_kremlin[['sub_area', 'distance_from_kremlin']]"
   ]
  },
  {
   "cell_type": "code",
   "execution_count": 459,
   "metadata": {},
   "outputs": [],
   "source": [
    "train_raw = pd.read_csv('train.csv')\n",
    "test_raw = pd.read_csv('test.csv')\n",
    "train_raw = pd.merge(train_raw, df_kremlin,how='left', on='sub_area')\n",
    "test_raw = pd.merge(test_raw, df_kremlin,how='left', on='sub_area')\n",
    "train['distance_from_kremlin'] = train_raw['distance_from_kremlin']\n",
    "test['distance_from_kremlin'] = test_raw['distance_from_kremlin']"
   ]
  },
  {
   "cell_type": "markdown",
   "metadata": {},
   "source": [
    "# Processing after feature analysis"
   ]
  },
  {
   "cell_type": "code",
   "execution_count": 462,
   "metadata": {},
   "outputs": [],
   "source": [
    "bad_index = train[train.build_year > 2050].index\n",
    "train.ix[bad_index, \"build_year\"] = np.NaN\n",
    "bad_index = test[test.build_year > 2050].index\n",
    "test.ix[bad_index, \"build_year\"] = np.NaN\n",
    "\n",
    "bad_index = train[train['extra_area']<0].index\n",
    "train.ix[bad_index, \"extra_area\"] = np.NaN\n",
    "bad_index = test[test['extra_area']<0].index\n",
    "test.ix[bad_index, \"extra_area\"] = np.NaN\n",
    "\n",
    "\n",
    "bad_index = train[train['room_avg_size']<0].index\n",
    "train.ix[bad_index, \"room_avg_size\"] = np.NaN\n",
    "bad_index = test[test['room_avg_size']<0].index\n",
    "test.ix[bad_index, \"room_avg_size\"] = np.NaN\n",
    "\n",
    "\n",
    "bad_index = train[train['floor_ratio']<0].index\n",
    "train.ix[bad_index, \"floor_ratio\"] = np.NaN\n",
    "bad_index = test[test['floor_ratio']<0].index\n",
    "test.ix[bad_index, \"floor_ratio\"] = np.NaN\n"
   ]
  },
  {
   "cell_type": "markdown",
   "metadata": {},
   "source": [
    "## Add macro features"
   ]
  },
  {
   "cell_type": "code",
   "execution_count": 460,
   "metadata": {},
   "outputs": [],
   "source": [
    "# macro_cols = [\"balance_trade\", \"balance_trade_growth\", \"eurrub\", \"average_provision_of_build_contract\",\n",
    "# \"micex_rgbi_tr\", \"micex_cbi_tr\", \"deposits_rate\", \"mortgage_value\", \"mortgage_rate\",\n",
    "# \"income_per_cap\", \"rent_price_4+room_bus\", \"museum_visitis_per_100_cap\", \"apartment_build\"]\n",
    "\n",
    "# df_macro = pd.read_csv(\"macro_c.csv\",  usecols=['timestamp'] + macro_cols)\n",
    "\n",
    "# train = pd.merge_ordered(train, df_macro, on='timestamp', how='left')\n",
    "# test = pd.merge_ordered(test, df_macro, on='timestamp', how='left')\n",
    "\n",
    "# drop_lst = ['museum_visitis_per_100_cap']\n",
    "# train = train.drop(drop_lst, axis=1)\n",
    "# test = test.drop(drop_lst, axis=1)"
   ]
  },
  {
   "cell_type": "markdown",
   "metadata": {},
   "source": [
    "# Add interaction term"
   ]
  },
  {
   "cell_type": "code",
   "execution_count": 468,
   "metadata": {
    "collapsed": true
   },
   "outputs": [],
   "source": [
    "col = list(test.columns)[2:]\n",
    "label = train['price_doc']* .968 + 10\n",
    "dtrain = xgb.DMatrix(train[col],label)\n",
    "model = xgb.train(params,dtrain,num_boost_round=300)"
   ]
  },
  {
   "cell_type": "markdown",
   "metadata": {},
   "source": [
    "## First get top 30 features"
   ]
  },
  {
   "cell_type": "code",
   "execution_count": 475,
   "metadata": {},
   "outputs": [],
   "source": [
    "feature_importance = get_feature_importance(model)\n",
    "N = 30\n",
    "topN_features = feature_importance.head(N).Feature.tolist()"
   ]
  },
  {
   "cell_type": "code",
   "execution_count": 476,
   "metadata": {},
   "outputs": [],
   "source": [
    "from sklearn import preprocessing\n",
    "for f in topN_features:\n",
    "    train['norm_'+f] = (train[f] - train[f].min())/(train[f].max() - train[f].min())\n",
    "    test['norm_'+f] = (test[f] - test[f].min())/(test[f].max() - test[f].min())"
   ]
  },
  {
   "cell_type": "code",
   "execution_count": 477,
   "metadata": {},
   "outputs": [],
   "source": [
    "import itertools\n",
    "for f_1, f_2 in itertools.combinations(topN_features, 2):\n",
    "    train['x_'+f_1+'_'+f_2] = train['norm_'+f_1] * train['norm_'+f_2]\n",
    "    test['x_'+f_1+'_'+f_2] = test['norm_'+f_1] * test['norm_'+f_2]"
   ]
  },
  {
   "cell_type": "code",
   "execution_count": 478,
   "metadata": {},
   "outputs": [],
   "source": [
    "norm_feature_name_list = ['norm_'+f for f in topN_features]\n",
    "train = train.drop(norm_feature_name_list, axis=1)\n",
    "test = test.drop(norm_feature_name_list, axis=1)"
   ]
  },
  {
   "cell_type": "markdown",
   "metadata": {},
   "source": [
    "## only keep `x_` feature in top 200"
   ]
  },
  {
   "cell_type": "code",
   "execution_count": 479,
   "metadata": {
    "collapsed": true
   },
   "outputs": [],
   "source": [
    "col = list(test.columns)[2:]\n",
    "label = train['price_doc']* .968 + 10\n",
    "dtrain = xgb.DMatrix(train[col],label)\n",
    "model = xgb.train(params,dtrain,num_boost_round=400)"
   ]
  },
  {
   "cell_type": "code",
   "execution_count": 481,
   "metadata": {},
   "outputs": [],
   "source": [
    "feature_importance = get_feature_importance(model)\n",
    "N = 200\n",
    "top_x_features = feature_importance.head(N).Feature.tolist()\n",
    "\n",
    "drop_x_feature_list = ['x_'+f_1+'_'+f_2 for f_1, f_2 in itertools.combinations(topN_features, 2) if 'x_'+f_1+'_'+f_2 not in top_x_features]\n",
    "\n",
    "train = train.drop(drop_x_feature_list, axis=1)\n",
    "test = test.drop(drop_x_feature_list, axis=1)"
   ]
  },
  {
   "cell_type": "markdown",
   "metadata": {
    "collapsed": true
   },
   "source": [
    "# Remove the least important features"
   ]
  },
  {
   "cell_type": "code",
   "execution_count": 483,
   "metadata": {
    "collapsed": true
   },
   "outputs": [],
   "source": [
    "col = list(test.columns)[2:]\n",
    "label = train['price_doc']* .968 + 10\n",
    "dtrain = xgb.DMatrix(train[col],label)\n",
    "model = xgb.train(params,dtrain,num_boost_round=250)"
   ]
  },
  {
   "cell_type": "code",
   "execution_count": 484,
   "metadata": {},
   "outputs": [],
   "source": [
    "feature_scores = get_feature_importance(model)\n",
    "feature_scores['cumsum_percentage'] = np.cumsum(feature_scores.Score) / np.sum(feature_scores.Score)"
   ]
  },
  {
   "cell_type": "code",
   "execution_count": 485,
   "metadata": {},
   "outputs": [],
   "source": [
    "drop_20_percentage_features_list = feature_scores[feature_scores.cumsum_percentage > 0.8].Feature.tolist()"
   ]
  },
  {
   "cell_type": "code",
   "execution_count": 486,
   "metadata": {},
   "outputs": [],
   "source": [
    "train = train.drop(drop_20_percentage_features_list, axis=1)\n",
    "test = test.drop(drop_20_percentage_features_list, axis=1)"
   ]
  },
  {
   "cell_type": "code",
   "execution_count": 487,
   "metadata": {
    "collapsed": true
   },
   "outputs": [],
   "source": [
    "train.to_csv('all_features_train_2.csv', index=False)\n",
    "test.to_csv('all_features_test_2.csv', index=False)"
   ]
  },
  {
   "cell_type": "markdown",
   "metadata": {},
   "source": [
    "# Run CV"
   ]
  },
  {
   "cell_type": "code",
   "execution_count": 491,
   "metadata": {
    "collapsed": true
   },
   "outputs": [],
   "source": [
    "col = list(test.columns)[2:]\n",
    "\n",
    "label = train['price_doc']* .95 + 10\n",
    "label = np.log1p(label)\n",
    "\n",
    "\n",
    "dtrain = xgb.DMatrix(train[col],label)\n",
    "dtest = xgb.DMatrix(test[col])"
   ]
  },
  {
   "cell_type": "code",
   "execution_count": 492,
   "metadata": {},
   "outputs": [
    {
     "name": "stdout",
     "output_type": "stream",
     "text": [
      "[0]\ttrain-rmse:14.32+0.00140156\ttest-rmse:14.32+0.00591581\n",
      "[20]\ttrain-rmse:5.15573+0.000727581\ttest-rmse:5.15599+0.00494908\n",
      "[40]\ttrain-rmse:1.89919+0.000439878\ttest-rmse:1.90161+0.00429974\n",
      "[60]\ttrain-rmse:0.79796+0.00108876\ttest-rmse:0.807313+0.00317113\n",
      "[80]\ttrain-rmse:0.496007+0.00147301\ttest-rmse:0.516318+0.00388083\n",
      "[100]\ttrain-rmse:0.435342+0.0015832\ttest-rmse:0.463603+0.00585324\n",
      "[120]\ttrain-rmse:0.420611+0.00149849\ttest-rmse:0.454956+0.00647972\n",
      "[140]\ttrain-rmse:0.412791+0.00156369\ttest-rmse:0.453146+0.00653302\n",
      "[160]\ttrain-rmse:0.40671+0.00153411\ttest-rmse:0.452409+0.00661809\n",
      "[180]\ttrain-rmse:0.401129+0.00166397\ttest-rmse:0.451889+0.0065689\n",
      "[200]\ttrain-rmse:0.396048+0.00145323\ttest-rmse:0.451399+0.00669457\n",
      "[220]\ttrain-rmse:0.391152+0.00164367\ttest-rmse:0.451272+0.00673572\n",
      "[240]\ttrain-rmse:0.386055+0.00168526\ttest-rmse:0.451254+0.00682955\n",
      "[260]\ttrain-rmse:0.381648+0.00162744\ttest-rmse:0.451262+0.00699754\n",
      "[280]\ttrain-rmse:0.377268+0.00151922\ttest-rmse:0.451247+0.00711687\n",
      "[300]\ttrain-rmse:0.372798+0.00145688\ttest-rmse:0.451252+0.00714677\n",
      "[320]\ttrain-rmse:0.368394+0.00136947\ttest-rmse:0.451308+0.00721614\n",
      "Performance does not improve from 276 rounds\n"
     ]
    },
    {
     "data": {
      "image/png": "[encoded data removed]",
      "text/plain": [
       "<matplotlib.figure.Figure at 0x10f753b50>"
      ]
     },
     "metadata": {},
     "output_type": "display_data"
    }
   ],
   "source": [
    "params = {\n",
    "    'eta': 0.05, ## Try 0.01,3,5\n",
    "    'max_depth': 5,## Try 4,5,6\n",
    "    'subsample': 0.7,\n",
    "    'colsample_bytree': 0.7,\n",
    "    'objective': 'reg:linear',\n",
    "    'eval_metric': 'rmse',\n",
    "    'silent': 1,\n",
    "    'n_job': 8\n",
    "}\n",
    "\n",
    "xgb_cvalid = xgb.cv(params, dtrain, nfold=5, num_boost_round=2000, early_stopping_rounds=50,\n",
    "    verbose_eval=20, show_stdv=True,seed=42)\n",
    "xgb_cvalid[['train-rmse-mean', 'test-rmse-mean']].plot()\n",
    "print('Performance does not improve from '+str(len(xgb_cvalid))+' rounds')\n"
   ]
  },
  {
   "cell_type": "code",
   "execution_count": 494,
   "metadata": {
    "collapsed": true
   },
   "outputs": [],
   "source": [
    "model = xgb.train(params,dtrain,num_boost_round=276)\n",
    "prediction = model.predict(dtest)\n",
    "prediction = np.exp(prediction) - 1\n",
    "sub = pd.DataFrame({'id':test['id'],'price_doc':prediction})\n",
    "sub.to_csv('xgb_0.95_best_log1p.csv',index=False) "
   ]
  },
  {
   "cell_type": "markdown",
   "metadata": {},
   "source": [
    "# Linear scale"
   ]
  },
  {
   "cell_type": "code",
   "execution_count": 503,
   "metadata": {
    "scrolled": true
   },
   "outputs": [
    {
     "name": "stdout",
     "output_type": "stream",
     "text": [
      "[0]\ttrain-rmse:7.77729e+06+34964.4\ttest-rmse:7.7828e+06+139960\n",
      "[20]\ttrain-rmse:3.66423e+06+17750.2\ttest-rmse:3.79751e+06+90788.9\n",
      "[40]\ttrain-rmse:2.49723e+06+11709.9\ttest-rmse:2.7753e+06+55028.6\n"
     ]
    },
    {
     "ename": "KeyboardInterrupt",
     "evalue": "",
     "output_type": "error",
     "traceback": [
      "\u001b[0;31m---------------------------------------------------------------------------\u001b[0m",
      "\u001b[0;31mKeyboardInterrupt\u001b[0m                         Traceback (most recent call last)",
      "\u001b[0;32m<ipython-input-503-26bd06040b60>\u001b[0m in \u001b[0;36m<module>\u001b[0;34m()\u001b[0m\n\u001b[1;32m     18\u001b[0m \u001b[0;34m\u001b[0m\u001b[0m\n\u001b[1;32m     19\u001b[0m xgb_cvalid = xgb.cv(params, dtrain, nfold=5, num_boost_round=2000, early_stopping_rounds=50,\n\u001b[0;32m---> 20\u001b[0;31m     verbose_eval=20, show_stdv=True,seed=42)\n\u001b[0m\u001b[1;32m     21\u001b[0m \u001b[0mxgb_cvalid\u001b[0m\u001b[0;34m[\u001b[0m\u001b[0;34m[\u001b[0m\u001b[0;34m'train-rmse-mean'\u001b[0m\u001b[0;34m,\u001b[0m \u001b[0;34m'test-rmse-mean'\u001b[0m\u001b[0;34m]\u001b[0m\u001b[0;34m]\u001b[0m\u001b[0;34m.\u001b[0m\u001b[0mplot\u001b[0m\u001b[0;34m(\u001b[0m\u001b[0;34m)\u001b[0m\u001b[0;34m\u001b[0m\u001b[0m\n\u001b[1;32m     22\u001b[0m \u001b[0;32mprint\u001b[0m\u001b[0;34m(\u001b[0m\u001b[0;34m'Performance does not improve from '\u001b[0m\u001b[0;34m+\u001b[0m\u001b[0mstr\u001b[0m\u001b[0;34m(\u001b[0m\u001b[0mlen\u001b[0m\u001b[0;34m(\u001b[0m\u001b[0mxgb_cvalid\u001b[0m\u001b[0;34m)\u001b[0m\u001b[0;34m)\u001b[0m\u001b[0;34m+\u001b[0m\u001b[0;34m' rounds'\u001b[0m\u001b[0;34m)\u001b[0m\u001b[0;34m\u001b[0m\u001b[0m\n",
      "\u001b[0;32m/Users/zhesun/.virtualenvs/venv2/lib/python2.7/site-packages/xgboost/training.pyc\u001b[0m in \u001b[0;36mcv\u001b[0;34m(params, dtrain, num_boost_round, nfold, stratified, folds, metrics, obj, feval, maximize, early_stopping_rounds, fpreproc, as_pandas, verbose_eval, show_stdv, seed, callbacks)\u001b[0m\n\u001b[1;32m    398\u001b[0m                            evaluation_result_list=None))\n\u001b[1;32m    399\u001b[0m         \u001b[0;32mfor\u001b[0m \u001b[0mfold\u001b[0m \u001b[0;32min\u001b[0m \u001b[0mcvfolds\u001b[0m\u001b[0;34m:\u001b[0m\u001b[0;34m\u001b[0m\u001b[0m\n\u001b[0;32m--> 400\u001b[0;31m             \u001b[0mfold\u001b[0m\u001b[0;34m.\u001b[0m\u001b[0mupdate\u001b[0m\u001b[0;34m(\u001b[0m\u001b[0mi\u001b[0m\u001b[0;34m,\u001b[0m \u001b[0mobj\u001b[0m\u001b[0;34m)\u001b[0m\u001b[0;34m\u001b[0m\u001b[0m\n\u001b[0m\u001b[1;32m    401\u001b[0m         \u001b[0mres\u001b[0m \u001b[0;34m=\u001b[0m \u001b[0maggcv\u001b[0m\u001b[0;34m(\u001b[0m\u001b[0;34m[\u001b[0m\u001b[0mf\u001b[0m\u001b[0;34m.\u001b[0m\u001b[0meval\u001b[0m\u001b[0;34m(\u001b[0m\u001b[0mi\u001b[0m\u001b[0;34m,\u001b[0m \u001b[0mfeval\u001b[0m\u001b[0;34m)\u001b[0m \u001b[0;32mfor\u001b[0m \u001b[0mf\u001b[0m \u001b[0;32min\u001b[0m \u001b[0mcvfolds\u001b[0m\u001b[0;34m]\u001b[0m\u001b[0;34m)\u001b[0m\u001b[0;34m\u001b[0m\u001b[0m\n\u001b[1;32m    402\u001b[0m \u001b[0;34m\u001b[0m\u001b[0m\n",
      "\u001b[0;32m/Users/zhesun/.virtualenvs/venv2/lib/python2.7/site-packages/xgboost/training.pyc\u001b[0m in \u001b[0;36mupdate\u001b[0;34m(self, iteration, fobj)\u001b[0m\n\u001b[1;32m    217\u001b[0m     \u001b[0;32mdef\u001b[0m \u001b[0mupdate\u001b[0m\u001b[0;34m(\u001b[0m\u001b[0mself\u001b[0m\u001b[0;34m,\u001b[0m \u001b[0miteration\u001b[0m\u001b[0;34m,\u001b[0m \u001b[0mfobj\u001b[0m\u001b[0;34m)\u001b[0m\u001b[0;34m:\u001b[0m\u001b[0;34m\u001b[0m\u001b[0m\n\u001b[1;32m    218\u001b[0m         \u001b[0;34m\"\"\"\"Update the boosters for one iteration\"\"\"\u001b[0m\u001b[0;34m\u001b[0m\u001b[0m\n\u001b[0;32m--> 219\u001b[0;31m         \u001b[0mself\u001b[0m\u001b[0;34m.\u001b[0m\u001b[0mbst\u001b[0m\u001b[0;34m.\u001b[0m\u001b[0mupdate\u001b[0m\u001b[0;34m(\u001b[0m\u001b[0mself\u001b[0m\u001b[0;34m.\u001b[0m\u001b[0mdtrain\u001b[0m\u001b[0;34m,\u001b[0m \u001b[0miteration\u001b[0m\u001b[0;34m,\u001b[0m \u001b[0mfobj\u001b[0m\u001b[0;34m)\u001b[0m\u001b[0;34m\u001b[0m\u001b[0m\n\u001b[0m\u001b[1;32m    220\u001b[0m \u001b[0;34m\u001b[0m\u001b[0m\n\u001b[1;32m    221\u001b[0m     \u001b[0;32mdef\u001b[0m \u001b[0meval\u001b[0m\u001b[0;34m(\u001b[0m\u001b[0mself\u001b[0m\u001b[0;34m,\u001b[0m \u001b[0miteration\u001b[0m\u001b[0;34m,\u001b[0m \u001b[0mfeval\u001b[0m\u001b[0;34m)\u001b[0m\u001b[0;34m:\u001b[0m\u001b[0;34m\u001b[0m\u001b[0m\n",
      "\u001b[0;32m/Users/zhesun/.virtualenvs/venv2/lib/python2.7/site-packages/xgboost/core.pyc\u001b[0m in \u001b[0;36mupdate\u001b[0;34m(self, dtrain, iteration, fobj)\u001b[0m\n\u001b[1;32m    804\u001b[0m \u001b[0;34m\u001b[0m\u001b[0m\n\u001b[1;32m    805\u001b[0m         \u001b[0;32mif\u001b[0m \u001b[0mfobj\u001b[0m \u001b[0;32mis\u001b[0m \u001b[0mNone\u001b[0m\u001b[0;34m:\u001b[0m\u001b[0;34m\u001b[0m\u001b[0m\n\u001b[0;32m--> 806\u001b[0;31m             \u001b[0m_check_call\u001b[0m\u001b[0;34m(\u001b[0m\u001b[0m_LIB\u001b[0m\u001b[0;34m.\u001b[0m\u001b[0mXGBoosterUpdateOneIter\u001b[0m\u001b[0;34m(\u001b[0m\u001b[0mself\u001b[0m\u001b[0;34m.\u001b[0m\u001b[0mhandle\u001b[0m\u001b[0;34m,\u001b[0m \u001b[0miteration\u001b[0m\u001b[0;34m,\u001b[0m \u001b[0mdtrain\u001b[0m\u001b[0;34m.\u001b[0m\u001b[0mhandle\u001b[0m\u001b[0;34m)\u001b[0m\u001b[0;34m)\u001b[0m\u001b[0;34m\u001b[0m\u001b[0m\n\u001b[0m\u001b[1;32m    807\u001b[0m         \u001b[0;32melse\u001b[0m\u001b[0;34m:\u001b[0m\u001b[0;34m\u001b[0m\u001b[0m\n\u001b[1;32m    808\u001b[0m             \u001b[0mpred\u001b[0m \u001b[0;34m=\u001b[0m \u001b[0mself\u001b[0m\u001b[0;34m.\u001b[0m\u001b[0mpredict\u001b[0m\u001b[0;34m(\u001b[0m\u001b[0mdtrain\u001b[0m\u001b[0;34m)\u001b[0m\u001b[0;34m\u001b[0m\u001b[0m\n",
      "\u001b[0;31mKeyboardInterrupt\u001b[0m: "
     ]
    }
   ],
   "source": [
    "col = list(test.columns)[2:]\n",
    "\n",
    "label = train['price_doc']* .94\n",
    "\n",
    "dtrain = xgb.DMatrix(train[col],label)\n",
    "dtest = xgb.DMatrix(test[col])\n",
    "\n",
    "params = {\n",
    "    'eta': 0.05, ## Try 0.01,3,5\n",
    "    'max_depth': 5,## Try 4,5,6\n",
    "    'subsample': 0.7,\n",
    "    'colsample_bytree': 0.7,\n",
    "    'objective': 'reg:linear',\n",
    "    'eval_metric': 'rmse',\n",
    "    'silent': 1,\n",
    "    'n_job': 8\n",
    "}\n",
    "\n",
    "xgb_cvalid = xgb.cv(params, dtrain, nfold=5, num_boost_round=2000, early_stopping_rounds=50,\n",
    "    verbose_eval=20, show_stdv=True,seed=42)\n",
    "xgb_cvalid[['train-rmse-mean', 'test-rmse-mean']].plot()\n",
    "print('Performance does not improve from '+str(len(xgb_cvalid))+' rounds')\n"
   ]
  },
  {
   "cell_type": "code",
   "execution_count": 502,
   "metadata": {
    "collapsed": true
   },
   "outputs": [],
   "source": [
    "model = xgb.train(params,dtrain,num_boost_round=815)\n",
    "prediction = model.predict(dtest)\n",
    "sub = pd.DataFrame({'id':test['id'],'price_doc':prediction})\n",
    "sub.to_csv('xgb_0.945_all_features.csv',index=False) "
   ]
  },
  {
   "cell_type": "markdown",
   "metadata": {},
   "source": [
    "# Truncate time"
   ]
  },
  {
   "cell_type": "code",
   "execution_count": 506,
   "metadata": {},
   "outputs": [
    {
     "name": "stdout",
     "output_type": "stream",
     "text": [
      "[0]\ttrain-rmse:7.83321e+06+38497.1\ttest-rmse:7.83758e+06+156411\n",
      "[20]\ttrain-rmse:3.64343e+06+26489.3\ttest-rmse:3.78368e+06+127307\n",
      "[40]\ttrain-rmse:2.43264e+06+19827.9\ttest-rmse:2.72755e+06+138126\n",
      "[60]\ttrain-rmse:2.10593e+06+20890\ttest-rmse:2.49528e+06+140740\n",
      "[80]\ttrain-rmse:1.98562e+06+19639.3\ttest-rmse:2.42767e+06+139653\n",
      "[100]\ttrain-rmse:1.91487e+06+18457.5\ttest-rmse:2.40013e+06+139940\n",
      "[120]\ttrain-rmse:1.8612e+06+17589.1\ttest-rmse:2.37861e+06+139409\n",
      "[140]\ttrain-rmse:1.81449e+06+16628.4\ttest-rmse:2.36627e+06+141679\n",
      "[160]\ttrain-rmse:1.77123e+06+15691.6\ttest-rmse:2.35299e+06+144333\n",
      "[180]\ttrain-rmse:1.73408e+06+14431\ttest-rmse:2.34321e+06+143754\n",
      "[200]\ttrain-rmse:1.70079e+06+14182.7\ttest-rmse:2.33669e+06+142323\n",
      "[220]\ttrain-rmse:1.67031e+06+13039.5\ttest-rmse:2.33065e+06+142878\n",
      "[240]\ttrain-rmse:1.64423e+06+11929.2\ttest-rmse:2.32718e+06+143299\n",
      "[260]\ttrain-rmse:1.61787e+06+13304.3\ttest-rmse:2.32474e+06+142225\n",
      "[280]\ttrain-rmse:1.59298e+06+13308.1\ttest-rmse:2.32116e+06+140496\n",
      "[300]\ttrain-rmse:1.56847e+06+13644.7\ttest-rmse:2.31984e+06+141175\n",
      "[320]\ttrain-rmse:1.54548e+06+12617.9\ttest-rmse:2.31629e+06+141379\n",
      "[340]\ttrain-rmse:1.52339e+06+13263.6\ttest-rmse:2.31382e+06+141860\n",
      "[360]\ttrain-rmse:1.50169e+06+12067.9\ttest-rmse:2.31172e+06+141961\n",
      "[380]\ttrain-rmse:1.48103e+06+12092.5\ttest-rmse:2.31002e+06+140441\n",
      "[400]\ttrain-rmse:1.46129e+06+12210.7\ttest-rmse:2.3087e+06+139761\n",
      "[420]\ttrain-rmse:1.44138e+06+12475.1\ttest-rmse:2.30777e+06+140347\n",
      "[440]\ttrain-rmse:1.42272e+06+11570.7\ttest-rmse:2.30749e+06+140689\n",
      "[460]\ttrain-rmse:1.40287e+06+12595.4\ttest-rmse:2.30736e+06+140336\n",
      "[480]\ttrain-rmse:1.38413e+06+12237.2\ttest-rmse:2.30653e+06+140468\n",
      "[500]\ttrain-rmse:1.36605e+06+11683.1\ttest-rmse:2.30632e+06+139632\n",
      "[520]\ttrain-rmse:1.34933e+06+11538.4\ttest-rmse:2.30654e+06+140100\n",
      "[540]\ttrain-rmse:1.33271e+06+11579.6\ttest-rmse:2.30644e+06+139919\n",
      "[560]\ttrain-rmse:1.3167e+06+11391.3\ttest-rmse:2.30667e+06+140872\n",
      "Performance does not improve from 530 rounds\n"
     ]
    },
    {
     "data": {
      "image/png": "[encoded data removed]",
      "text/plain": [
       "<matplotlib.figure.Figure at 0x10f3cee50>"
      ]
     },
     "metadata": {},
     "output_type": "display_data"
    }
   ],
   "source": [
    "train = pd.read_csv('all_features_train_2.csv')\n",
    "test = pd.read_csv('all_features_test_2.csv')\n",
    "\n",
    "train = train[train['timestamp']>'2012-08-01']\n",
    "\n",
    "col = list(test.columns)[2:]\n",
    "\n",
    "label = train['price_doc']* .95\n",
    "\n",
    "dtrain = xgb.DMatrix(train[col],label)\n",
    "dtest = xgb.DMatrix(test[col])\n",
    "\n",
    "\n",
    "params = {\n",
    "    'eta': 0.05, ## Try 0.01,3,5\n",
    "    'max_depth': 5,## Try 4,5,6\n",
    "    'subsample': 0.7,\n",
    "    'colsample_bytree': 0.7,\n",
    "    'objective': 'reg:linear',\n",
    "    'eval_metric': 'rmse',\n",
    "    'silent': 1,\n",
    "    'n_job': 8\n",
    "}\n",
    "\n",
    "xgb_cvalid = xgb.cv(params, dtrain, nfold=5, num_boost_round=2000, early_stopping_rounds=50,\n",
    "    verbose_eval=20, show_stdv=True,seed=42)\n",
    "xgb_cvalid[['train-rmse-mean', 'test-rmse-mean']].plot()\n",
    "print('Performance does not improve from '+str(len(xgb_cvalid))+' rounds')\n"
   ]
  },
  {
   "cell_type": "code",
   "execution_count": 507,
   "metadata": {
    "collapsed": true
   },
   "outputs": [],
   "source": [
    "model = xgb.train(params,dtrain,num_boost_round=530)\n",
    "prediction = model.predict(dtest)\n",
    "sub = pd.DataFrame({'id':test['id'],'price_doc':prediction})\n",
    "sub.to_csv('xgb_all_features_remove_before_201208.csv',index=False) "
   ]
  },
  {
   "cell_type": "code",
   "execution_count": null,
   "metadata": {
    "collapsed": true
   },
   "outputs": [],
   "source": []
  },
  {
   "cell_type": "code",
   "execution_count": null,
   "metadata": {
    "collapsed": true
   },
   "outputs": [],
   "source": []
  },
  {
   "cell_type": "code",
   "execution_count": null,
   "metadata": {
    "collapsed": true
   },
   "outputs": [],
   "source": []
  },
  {
   "cell_type": "code",
   "execution_count": null,
   "metadata": {
    "collapsed": true
   },
   "outputs": [],
   "source": []
  },
  {
   "cell_type": "code",
   "execution_count": null,
   "metadata": {
    "collapsed": true
   },
   "outputs": [],
   "source": []
  },
  {
   "cell_type": "code",
   "execution_count": null,
   "metadata": {
    "collapsed": true
   },
   "outputs": [],
   "source": []
  },
  {
   "cell_type": "code",
   "execution_count": null,
   "metadata": {
    "collapsed": true
   },
   "outputs": [],
   "source": []
  },
  {
   "cell_type": "code",
   "execution_count": null,
   "metadata": {
    "collapsed": true
   },
   "outputs": [],
   "source": []
  },
  {
   "cell_type": "code",
   "execution_count": 140,
   "metadata": {},
   "outputs": [
    {
     "name": "stdout",
     "output_type": "stream",
     "text": [
      "[0]\ttrain-rmse:7.96778e+06\ttest-rmse:7.96841e+06\n",
      "[50]\ttrain-rmse:2.9151e+06\ttest-rmse:3.01806e+06\n",
      "[100]\ttrain-rmse:2.45485e+06\ttest-rmse:2.65856e+06\n",
      "[150]\ttrain-rmse:2.28651e+06\ttest-rmse:2.55767e+06\n",
      "[200]\ttrain-rmse:2.18458e+06\ttest-rmse:2.50884e+06\n",
      "[250]\ttrain-rmse:2.10551e+06\ttest-rmse:2.47594e+06\n",
      "[300]\ttrain-rmse:2.04253e+06\ttest-rmse:2.45535e+06\n",
      "[350]\ttrain-rmse:1.98934e+06\ttest-rmse:2.4399e+06\n",
      "[400]\ttrain-rmse:1.93963e+06\ttest-rmse:2.42937e+06\n",
      "[450]\ttrain-rmse:1.89432e+06\ttest-rmse:2.4211e+06\n",
      "[500]\ttrain-rmse:1.8517e+06\ttest-rmse:2.41344e+06\n",
      "[550]\ttrain-rmse:1.81209e+06\ttest-rmse:2.4079e+06\n",
      "[600]\ttrain-rmse:1.77401e+06\ttest-rmse:2.4036e+06\n",
      "[650]\ttrain-rmse:1.73729e+06\ttest-rmse:2.39956e+06\n",
      "[700]\ttrain-rmse:1.7006e+06\ttest-rmse:2.39691e+06\n",
      "[750]\ttrain-rmse:1.66724e+06\ttest-rmse:2.39406e+06\n",
      "[800]\ttrain-rmse:1.63503e+06\ttest-rmse:2.39149e+06\n",
      "[850]\ttrain-rmse:1.60219e+06\ttest-rmse:2.38818e+06\n",
      "[900]\ttrain-rmse:1.57231e+06\ttest-rmse:2.38715e+06\n",
      "[950]\ttrain-rmse:1.54262e+06\ttest-rmse:2.38654e+06\n",
      "[1000]\ttrain-rmse:1.51455e+06\ttest-rmse:2.38518e+06\n",
      "[1050]\ttrain-rmse:1.4865e+06\ttest-rmse:2.38462e+06\n",
      "[1100]\ttrain-rmse:1.46208e+06\ttest-rmse:2.38442e+06\n",
      "[1150]\ttrain-rmse:1.43569e+06\ttest-rmse:2.38405e+06\n",
      "Performance does not improve from 1124 rounds\n"
     ]
    },
    {
     "data": {
      "image/png": "[encoded data removed]",
      "text/plain": [
       "<matplotlib.figure.Figure at 0x10f86a810>"
      ]
     },
     "metadata": {},
     "output_type": "display_data"
    }
   ],
   "source": [
    "params = {\n",
    "    'eta': 0.05, ## Try 0.01,3,5\n",
    "    'max_depth': 5,## Try 4,5,6\n",
    "    'subsample': 0.5,\n",
    "    'colsample_bytree': 0.7,\n",
    "    'objective': 'reg:linear',\n",
    "    'eval_metric': 'rmse',\n",
    "    'silent': 1,\n",
    "    'alpha' : 0.9,\n",
    "    'lambda' : 100,\n",
    "    'n_job': 8\n",
    "}\n",
    "\n",
    "xgb_cvalid = xgb.cv(params, dtrain, num_boost_round=2000, early_stopping_rounds=50,\n",
    "    verbose_eval=50, show_stdv=True,seed=42)\n",
    "xgb_cvalid[['train-rmse-mean', 'test-rmse-mean']].plot()\n",
    "print('Performance does not improve from '+str(len(xgb_cvalid))+' rounds')\n"
   ]
  },
  {
   "cell_type": "code",
   "execution_count": 138,
   "metadata": {},
   "outputs": [
    {
     "name": "stdout",
     "output_type": "stream",
     "text": [
      "[0]\ttrain-rmse:7.96405e+06\ttest-rmse:7.96456e+06\n",
      "[50]\ttrain-rmse:2.86125e+06\ttest-rmse:2.9744e+06\n",
      "[100]\ttrain-rmse:2.4107e+06\ttest-rmse:2.63121e+06\n",
      "[150]\ttrain-rmse:2.24628e+06\ttest-rmse:2.53764e+06\n",
      "[200]\ttrain-rmse:2.1466e+06\ttest-rmse:2.4938e+06\n",
      "[250]\ttrain-rmse:2.07075e+06\ttest-rmse:2.4658e+06\n",
      "[300]\ttrain-rmse:2.00786e+06\ttest-rmse:2.44548e+06\n",
      "[350]\ttrain-rmse:1.95284e+06\ttest-rmse:2.43006e+06\n",
      "[400]\ttrain-rmse:1.90214e+06\ttest-rmse:2.42028e+06\n",
      "[450]\ttrain-rmse:1.85629e+06\ttest-rmse:2.41258e+06\n",
      "[500]\ttrain-rmse:1.81411e+06\ttest-rmse:2.40664e+06\n",
      "[550]\ttrain-rmse:1.77376e+06\ttest-rmse:2.40104e+06\n",
      "[600]\ttrain-rmse:1.73616e+06\ttest-rmse:2.3972e+06\n",
      "[650]\ttrain-rmse:1.69862e+06\ttest-rmse:2.39327e+06\n",
      "[700]\ttrain-rmse:1.66235e+06\ttest-rmse:2.39062e+06\n",
      "[750]\ttrain-rmse:1.62889e+06\ttest-rmse:2.38735e+06\n",
      "[800]\ttrain-rmse:1.59564e+06\ttest-rmse:2.38469e+06\n",
      "[850]\ttrain-rmse:1.56373e+06\ttest-rmse:2.38235e+06\n",
      "[900]\ttrain-rmse:1.53485e+06\ttest-rmse:2.38186e+06\n",
      "[950]\ttrain-rmse:1.50453e+06\ttest-rmse:2.38072e+06\n",
      "Performance does not improve from 1000 rounds\n"
     ]
    },
    {
     "data": {
      "image/png": "[encoded data removed]",
      "text/plain": [
       "<matplotlib.figure.Figure at 0x10f462a10>"
      ]
     },
     "metadata": {},
     "output_type": "display_data"
    }
   ],
   "source": [
    "params = {\n",
    "    'eta': 0.05, ## Try 0.01,3,5\n",
    "    'max_depth': 5,## Try 4,5,6\n",
    "    'subsample': 0.5,\n",
    "    'colsample_bytree': 0.7,\n",
    "    'objective': 'reg:linear',\n",
    "    'eval_metric': 'rmse',\n",
    "    'silent': 1,\n",
    "    'alpha' : 0.9,\n",
    "    'lambda' : 100,\n",
    "    'n_job': -1\n",
    "}\n",
    "\n",
    "xgb_cvalid = xgb.cv(params, dtrain, num_boost_round=1000, early_stopping_rounds=50,\n",
    "    verbose_eval=50, show_stdv=True,seed=42)\n",
    "xgb_cvalid[['train-rmse-mean', 'test-rmse-mean']].plot()\n",
    "print('Performance does not improve from '+str(len(xgb_cvalid))+' rounds')\n"
   ]
  },
  {
   "cell_type": "code",
   "execution_count": null,
   "metadata": {
    "collapsed": true
   },
   "outputs": [],
   "source": []
  },
  {
   "cell_type": "code",
   "execution_count": 100,
   "metadata": {},
   "outputs": [
    {
     "name": "stdout",
     "output_type": "stream",
     "text": [
      "[0]\ttrain-rmse:7.93437e+06+46371.4\ttest-rmse:7.93742e+06+94836.6\n",
      "[50]\ttrain-rmse:2.82809e+06+30238.7\ttest-rmse:3.15218e+06+71720.4\n",
      "[100]\ttrain-rmse:2.02853e+06+27931.5\ttest-rmse:2.6027e+06+91500.6\n",
      "[150]\ttrain-rmse:1.86849e+06+26584.8\ttest-rmse:2.53804e+06+103588\n",
      "[200]\ttrain-rmse:1.77811e+06+23202.6\ttest-rmse:2.51469e+06+108773\n",
      "[250]\ttrain-rmse:1.70137e+06+18822\ttest-rmse:2.50231e+06+108897\n",
      "[300]\ttrain-rmse:1.63476e+06+18074.9\ttest-rmse:2.49391e+06+107601\n",
      "[350]\ttrain-rmse:1.57220e+06+18086.2\ttest-rmse:2.48873e+06+105337\n",
      "[400]\ttrain-rmse:1.51661e+06+18890.8\ttest-rmse:2.48483e+06+105472\n",
      "[450]\ttrain-rmse:1.46414e+06+19988.1\ttest-rmse:2.48266e+06+105385\n",
      "[500]\ttrain-rmse:1.41787e+06+19345.5\ttest-rmse:2.48093e+06+105291\n",
      "[550]\ttrain-rmse:1.3725e+06+18970.9\ttest-rmse:2.47909e+06+104735\n",
      "[600]\ttrain-rmse:1.32643e+06+20164.9\ttest-rmse:2.47763e+06+103774\n",
      "[650]\ttrain-rmse:1.28553e+06+17863.9\ttest-rmse:2.47675e+06+103079\n",
      "Performance does not improve from 681 rounds\n"
     ]
    },
    {
     "data": {
      "image/png": "[encoded data removed]",
      "text/plain": [
       "<matplotlib.figure.Figure at 0x11a4e3090>"
      ]
     },
     "metadata": {},
     "output_type": "display_data"
    }
   ],
   "source": [
    "params = {\n",
    "    'eta': 0.03, ## Try 0.01,3,5\n",
    "    'max_depth': 6,## Try 4,5,6\n",
    "    'subsample': 0.7,\n",
    "    'colsample_bytree': 0.7,\n",
    "    'objective': 'reg:linear',\n",
    "    'eval_metric': 'rmse',\n",
    "    'silent': 1\n",
    "}\n"
   ]
  },
  {
   "cell_type": "code",
   "execution_count": 74,
   "metadata": {},
   "outputs": [
    {
     "name": "stdout",
     "output_type": "stream",
     "text": [
      "[0]\ttrain-rmse:7.86292e+06\ttest-rmse:7.86719e+06\n",
      "[50]\ttrain-rmse:2.37853e+06\ttest-rmse:2.81317e+06\n",
      "[100]\ttrain-rmse:1.90356e+06\ttest-rmse:2.54983e+06\n",
      "[150]\ttrain-rmse:1.78313e+06\ttest-rmse:2.51574e+06\n",
      "[200]\ttrain-rmse:1.68427e+06\ttest-rmse:2.49999e+06\n",
      "[250]\ttrain-rmse:1.59795e+06\ttest-rmse:2.49049e+06\n",
      "[300]\ttrain-rmse:1.52828e+06\ttest-rmse:2.48426e+06\n",
      "[350]\ttrain-rmse:1.45752e+06\ttest-rmse:2.48072e+06\n",
      "[400]\ttrain-rmse:1.39464e+06\ttest-rmse:2.47812e+06\n",
      "[450]\ttrain-rmse:1.33556e+06\ttest-rmse:2.47628e+06\n",
      "[500]\ttrain-rmse:1.28238e+06\ttest-rmse:2.47591e+06\n",
      "Performance does not improve from 482 rounds\n"
     ]
    },
    {
     "data": {
      "image/png": "[encoded data removed]",
      "text/plain": [
       "<matplotlib.figure.Figure at 0x11a88a190>"
      ]
     },
     "metadata": {},
     "output_type": "display_data"
    }
   ],
   "source": [
    "params = {\n",
    "    'eta': 0.04, ## Try 0.01,3,5\n",
    "    'max_depth': 6,## Try 4,5,6\n",
    "    'subsample': 0.7,\n",
    "    'colsample_bytree': 0.7,\n",
    "    'objective': 'reg:linear',\n",
    "    'eval_metric': 'rmse',\n",
    "    'silent': 1\n",
    "}\n"
   ]
  },
  {
   "cell_type": "code",
   "execution_count": null,
   "metadata": {},
   "outputs": [],
   "source": [
    "# xgb_0.95label_tsne_kremlin_others_macro_feature.csv     \n",
    "\n",
    "# train-rmse:7.86393e+06\ttest-rmse:7.87001e+06[50]\t\n",
    "# train-rmse:2.42942e+06\ttest-rmse:2.86217e+06[100]\t\n",
    "# train-rmse:1.93432e+06\ttest-rmse:2.57665e+06[150]\t\n",
    "# train-rmse:1.79341e+06\ttest-rmse:2.53049e+06[200]\n",
    "# train-rmse:1.7012e+06\ttest-rmse:2.50865e+06[250]\t\n",
    "# train-rmse:1.62239e+06\ttest-rmse:2.49908e+06[300]\t\n",
    "# train-rmse:1.55594e+06\ttest-rmse:2.49399e+06[350]\t\n",
    "# train-rmse:1.49592e+06\ttest-rmse:2.4913e+06[400]\t\n",
    "# train-rmse:1.44098e+06\ttest-rmse:2.48815e+06\n",
    "        \n",
    "# Performance does not improve from 410 rounds\n",
    "\n"
   ]
  },
  {
   "cell_type": "code",
   "execution_count": 79,
   "metadata": {
    "collapsed": true
   },
   "outputs": [],
   "source": [
    "params = {\n",
    "    'eta': 0.04, ## Try 0.01,3,5\n",
    "    'max_depth': 5,## Try 4,5,6\n",
    "    'subsample': 0.7,\n",
    "    'colsample_bytree': 0.7,\n",
    "    'objective': 'reg:linear',\n",
    "    'eval_metric': 'rmse',\n",
    "    'silent': 1\n",
    "}\n",
    "\n",
    "# [0]\ttrain-rmse:7.86611e+06\ttest-rmse:7.8694e+06\n",
    "# [50]\ttrain-rmse:2.59709e+06\ttest-rmse:2.90699e+06\n",
    "# [100]\ttrain-rmse:2.13925e+06\ttest-rmse:2.61148e+06\n",
    "# [150]\ttrain-rmse:2.011e+06\ttest-rmse:2.56209e+06\n",
    "# [200]\ttrain-rmse:1.93349e+06\ttest-rmse:2.54176e+06\n",
    "# [250]\ttrain-rmse:1.87026e+06\ttest-rmse:2.52803e+06\n",
    "# [300]\ttrain-rmse:1.81406e+06\ttest-rmse:2.52078e+06\n",
    "# [350]\ttrain-rmse:1.76709e+06\ttest-rmse:2.51479e+06\n",
    "# [400]\ttrain-rmse:1.72375e+06\ttest-rmse:2.51177e+06\n",
    "# [450]\ttrain-rmse:1.68409e+06\ttest-rmse:2.50767e+06\n",
    "# Performance does not improve from 459 rounds"
   ]
  },
  {
   "cell_type": "code",
   "execution_count": 85,
   "metadata": {},
   "outputs": [
    {
     "name": "stdout",
     "output_type": "stream",
     "text": [
      "[0]\ttrain-rmse:7.86327e+06\ttest-rmse:7.86786e+06\n",
      "[50]\ttrain-rmse:2.43489e+06\ttest-rmse:2.8573e+06\n",
      "[100]\ttrain-rmse:1.94815e+06\ttest-rmse:2.57587e+06\n",
      "[150]\ttrain-rmse:1.82107e+06\ttest-rmse:2.53656e+06\n",
      "[200]\ttrain-rmse:1.74036e+06\ttest-rmse:2.51955e+06\n",
      "[250]\ttrain-rmse:1.67146e+06\ttest-rmse:2.51104e+06\n",
      "[300]\ttrain-rmse:1.60932e+06\ttest-rmse:2.50646e+06\n",
      "[350]\ttrain-rmse:1.55534e+06\ttest-rmse:2.50359e+06\n",
      "[400]\ttrain-rmse:1.50669e+06\ttest-rmse:2.50226e+06\n",
      "[450]\ttrain-rmse:1.45907e+06\ttest-rmse:2.49994e+06\n",
      "Performance does not improve from 455 rounds\n"
     ]
    },
    {
     "data": {
      "image/png": "[encoded data removed]",
      "text/plain": [
       "<matplotlib.figure.Figure at 0x10e561750>"
      ]
     },
     "metadata": {},
     "output_type": "display_data"
    }
   ],
   "source": [
    "params = {\n",
    "    'eta': 0.04, ## Try 0.01,3,5\n",
    "    'max_depth': 6,## Try 4,5,6\n",
    "    'subsample': 0.7,\n",
    "    'colsample_bytree': 0.7,\n",
    "    'objective': 'reg:linear',\n",
    "    'eval_metric': 'rmse',\n",
    "    'silent': 1\n",
    "}\n",
    "\n",
    "xgb_cvalid = xgb.cv(params, dtrain, num_boost_round=1000, early_stopping_rounds=20,\n",
    "    verbose_eval=50, show_stdv=True,seed=42)\n",
    "xgb_cvalid[['train-rmse-mean', 'test-rmse-mean']].plot()\n",
    "print('Performance does not improve from '+str(len(xgb_cvalid))+' rounds')\n",
    "\n",
    "\n",
    "# all features\n",
    "# [0]\ttrain-rmse:7.86327e+06\ttest-rmse:7.86786e+06\n",
    "# [50]\ttrain-rmse:2.43489e+06\ttest-rmse:2.8573e+06\n",
    "# [100]\ttrain-rmse:1.94815e+06\ttest-rmse:2.57587e+06\n",
    "# [150]\ttrain-rmse:1.82107e+06\ttest-rmse:2.53656e+06\n",
    "# [200]\ttrain-rmse:1.74036e+06\ttest-rmse:2.51955e+06\n",
    "# [250]\ttrain-rmse:1.67146e+06\ttest-rmse:2.51104e+06\n",
    "# [300]\ttrain-rmse:1.60932e+06\ttest-rmse:2.50646e+06\n",
    "# [350]\ttrain-rmse:1.55534e+06\ttest-rmse:2.50359e+06\n",
    "# [400]\ttrain-rmse:1.50669e+06\ttest-rmse:2.50226e+06\n",
    "# [450]\ttrain-rmse:1.45907e+06\ttest-rmse:2.49994e+06\n",
    "# Performance does not improve from 455 rounds"
   ]
  },
  {
   "cell_type": "code",
   "execution_count": 146,
   "metadata": {
    "collapsed": true
   },
   "outputs": [],
   "source": [
    "model = xgb.train(params,dtrain,num_boost_round=len(xgb_cvalid))\n",
    "#model = xgb.train(params,dtrain,num_boost_round=700)"
   ]
  },
  {
   "cell_type": "code",
   "execution_count": 147,
   "metadata": {
    "collapsed": true
   },
   "outputs": [],
   "source": [
    "prediction = model.predict(dtest)\n",
    "sub = pd.DataFrame({'id':test['id'],'price_doc':prediction})"
   ]
  },
  {
   "cell_type": "code",
   "execution_count": 148,
   "metadata": {
    "collapsed": true
   },
   "outputs": [],
   "source": [
    "sub.to_csv('xgb_0.95label_all_feature_data_clean_interactive_big_lambda_sample_05_1124_round.csv',index=False)"
   ]
  },
  {
   "cell_type": "code",
   "execution_count": 149,
   "metadata": {
    "scrolled": true
   },
   "outputs": [
    {
     "data": {
      "text/plain": [
       "<matplotlib.figure.Figure at 0x10f86a6d0>"
      ]
     },
     "metadata": {},
     "output_type": "display_data"
    },
    {
     "data": {
      "image/png": "[encoded data removed]",
      "text/plain": [
       "<matplotlib.figure.Figure at 0x10d76aad0>"
      ]
     },
     "metadata": {},
     "output_type": "display_data"
    }
   ],
   "source": [
    "def get_feature_importance(model):\n",
    "    Importance = model.get_fscore()\n",
    "    Importance = list(Importance.items())\n",
    "    Feature= []\n",
    "    Score = []\n",
    "    for each in Importance:\n",
    "        Feature.append(each[0])\n",
    "        Score.append(each[1])\n",
    "    df = pd.DataFrame({'Feature':Feature,'Score':Score}).sort_values(by=['Score'],ascending=[0])\n",
    "    return df  \n",
    "\n",
    "def plot_importance(model):\n",
    "    FImportance = get_feature_importance(model).iloc[0:50,]\n",
    "    plt.figure()\n",
    "    FImportance.plot(kind='barh', x='Feature', y='Score', legend=False, figsize=(6, 10))\n",
    "    plt.title('XGBoost Feature Importance')\n",
    "    plt.show()\n",
    "    \n",
    "plot_importance(model)"
   ]
  },
  {
   "cell_type": "code",
   "execution_count": 395,
   "metadata": {},
   "outputs": [],
   "source": [
    "get_feature_importance(model).to_csv('feature_importance.csv', index=False)"
   ]
  },
  {
   "cell_type": "code",
   "execution_count": 398,
   "metadata": {},
   "outputs": [
    {
     "data": {
      "text/plain": [
       "(123, 2)"
      ]
     },
     "execution_count": 398,
     "metadata": {},
     "output_type": "execute_result"
    }
   ],
   "source": [
    "feature_importance = get_feature_importance(model)\n",
    "feature_importance[feature_importance['Score'] > 100].shape"
   ]
  },
  {
   "cell_type": "code",
   "execution_count": 399,
   "metadata": {},
   "outputs": [
    {
     "data": {
      "text/html": [
       "<div>\n",
       "<style>\n",
       "    .dataframe thead tr:only-child th {\n",
       "        text-align: right;\n",
       "    }\n",
       "\n",
       "    .dataframe thead th {\n",
       "        text-align: left;\n",
       "    }\n",
       "\n",
       "    .dataframe tbody tr th {\n",
       "        vertical-align: top;\n",
       "    }\n",
       "</style>\n",
       "<table border=\"1\" class=\"dataframe\">\n",
       "  <thead>\n",
       "    <tr style=\"text-align: right;\">\n",
       "      <th></th>\n",
       "      <th>Feature</th>\n",
       "      <th>Score</th>\n",
       "    </tr>\n",
       "  </thead>\n",
       "  <tbody>\n",
       "    <tr>\n",
       "      <th>248</th>\n",
       "      <td>full_sq</td>\n",
       "      <td>813</td>\n",
       "    </tr>\n",
       "    <tr>\n",
       "      <th>163</th>\n",
       "      <td>x_full_sq_extra_area</td>\n",
       "      <td>375</td>\n",
       "    </tr>\n",
       "    <tr>\n",
       "      <th>75</th>\n",
       "      <td>life_sq</td>\n",
       "      <td>359</td>\n",
       "    </tr>\n",
       "    <tr>\n",
       "      <th>79</th>\n",
       "      <td>extra_area</td>\n",
       "      <td>336</td>\n",
       "    </tr>\n",
       "    <tr>\n",
       "      <th>218</th>\n",
       "      <td>x_full_sq_tsne_2</td>\n",
       "      <td>322</td>\n",
       "    </tr>\n",
       "    <tr>\n",
       "      <th>145</th>\n",
       "      <td>x_full_sq_micex_rgbi_tr</td>\n",
       "      <td>286</td>\n",
       "    </tr>\n",
       "    <tr>\n",
       "      <th>20</th>\n",
       "      <td>x_full_sq_micex_cbi_tr</td>\n",
       "      <td>271</td>\n",
       "    </tr>\n",
       "    <tr>\n",
       "      <th>309</th>\n",
       "      <td>x_full_sq_balance_trade</td>\n",
       "      <td>270</td>\n",
       "    </tr>\n",
       "    <tr>\n",
       "      <th>403</th>\n",
       "      <td>floor</td>\n",
       "      <td>249</td>\n",
       "    </tr>\n",
       "    <tr>\n",
       "      <th>233</th>\n",
       "      <td>x_full_sq_floor</td>\n",
       "      <td>240</td>\n",
       "    </tr>\n",
       "    <tr>\n",
       "      <th>202</th>\n",
       "      <td>x_extra_area_build_year</td>\n",
       "      <td>229</td>\n",
       "    </tr>\n",
       "    <tr>\n",
       "      <th>219</th>\n",
       "      <td>x_full_sq_tsne_1</td>\n",
       "      <td>216</td>\n",
       "    </tr>\n",
       "    <tr>\n",
       "      <th>150</th>\n",
       "      <td>x_life_sq_micex_rgbi_tr</td>\n",
       "      <td>193</td>\n",
       "    </tr>\n",
       "    <tr>\n",
       "      <th>299</th>\n",
       "      <td>x_floor_railroad_km</td>\n",
       "      <td>191</td>\n",
       "    </tr>\n",
       "    <tr>\n",
       "      <th>290</th>\n",
       "      <td>x_full_sq_life_sq</td>\n",
       "      <td>185</td>\n",
       "    </tr>\n",
       "    <tr>\n",
       "      <th>216</th>\n",
       "      <td>max_floor</td>\n",
       "      <td>176</td>\n",
       "    </tr>\n",
       "    <tr>\n",
       "      <th>34</th>\n",
       "      <td>x_life_sq_school_km</td>\n",
       "      <td>174</td>\n",
       "    </tr>\n",
       "    <tr>\n",
       "      <th>68</th>\n",
       "      <td>public_transport_station_km</td>\n",
       "      <td>170</td>\n",
       "    </tr>\n",
       "    <tr>\n",
       "      <th>301</th>\n",
       "      <td>x_full_sq_cemetery_km</td>\n",
       "      <td>164</td>\n",
       "    </tr>\n",
       "    <tr>\n",
       "      <th>281</th>\n",
       "      <td>x_life_sq_tsne_1</td>\n",
       "      <td>163</td>\n",
       "    </tr>\n",
       "    <tr>\n",
       "      <th>168</th>\n",
       "      <td>x_life_sq_floor</td>\n",
       "      <td>162</td>\n",
       "    </tr>\n",
       "    <tr>\n",
       "      <th>129</th>\n",
       "      <td>x_life_sq_hospice_morgue_km</td>\n",
       "      <td>162</td>\n",
       "    </tr>\n",
       "    <tr>\n",
       "      <th>151</th>\n",
       "      <td>x_full_sq_max_floor</td>\n",
       "      <td>161</td>\n",
       "    </tr>\n",
       "    <tr>\n",
       "      <th>277</th>\n",
       "      <td>build_year</td>\n",
       "      <td>161</td>\n",
       "    </tr>\n",
       "    <tr>\n",
       "      <th>122</th>\n",
       "      <td>x_micex_cbi_tr_micex_rgbi_tr</td>\n",
       "      <td>160</td>\n",
       "    </tr>\n",
       "    <tr>\n",
       "      <th>253</th>\n",
       "      <td>tsne_2</td>\n",
       "      <td>158</td>\n",
       "    </tr>\n",
       "    <tr>\n",
       "      <th>404</th>\n",
       "      <td>x_full_sq_floor_ratio</td>\n",
       "      <td>157</td>\n",
       "    </tr>\n",
       "    <tr>\n",
       "      <th>148</th>\n",
       "      <td>x_floor_hospice_morgue_km</td>\n",
       "      <td>157</td>\n",
       "    </tr>\n",
       "    <tr>\n",
       "      <th>387</th>\n",
       "      <td>x_full_sq_state</td>\n",
       "      <td>156</td>\n",
       "    </tr>\n",
       "    <tr>\n",
       "      <th>31</th>\n",
       "      <td>x_micex_cbi_tr_workplaces_km</td>\n",
       "      <td>152</td>\n",
       "    </tr>\n",
       "    <tr>\n",
       "      <th>...</th>\n",
       "      <td>...</td>\n",
       "      <td>...</td>\n",
       "    </tr>\n",
       "    <tr>\n",
       "      <th>49</th>\n",
       "      <td>museum_visitis_per_100_cap</td>\n",
       "      <td>5</td>\n",
       "    </tr>\n",
       "    <tr>\n",
       "      <th>297</th>\n",
       "      <td>big_church_count_500</td>\n",
       "      <td>5</td>\n",
       "    </tr>\n",
       "    <tr>\n",
       "      <th>324</th>\n",
       "      <td>leisure_count_2000</td>\n",
       "      <td>5</td>\n",
       "    </tr>\n",
       "    <tr>\n",
       "      <th>136</th>\n",
       "      <td>nuclear_reactor_raion</td>\n",
       "      <td>5</td>\n",
       "    </tr>\n",
       "    <tr>\n",
       "      <th>237</th>\n",
       "      <td>cafe_count_1000_price_4000</td>\n",
       "      <td>5</td>\n",
       "    </tr>\n",
       "    <tr>\n",
       "      <th>222</th>\n",
       "      <td>leisure_count_1000</td>\n",
       "      <td>5</td>\n",
       "    </tr>\n",
       "    <tr>\n",
       "      <th>85</th>\n",
       "      <td>young_female</td>\n",
       "      <td>4</td>\n",
       "    </tr>\n",
       "    <tr>\n",
       "      <th>315</th>\n",
       "      <td>0_17_male</td>\n",
       "      <td>4</td>\n",
       "    </tr>\n",
       "    <tr>\n",
       "      <th>40</th>\n",
       "      <td>7_14_male</td>\n",
       "      <td>4</td>\n",
       "    </tr>\n",
       "    <tr>\n",
       "      <th>180</th>\n",
       "      <td>cafe_count_2000_price_high</td>\n",
       "      <td>4</td>\n",
       "    </tr>\n",
       "    <tr>\n",
       "      <th>46</th>\n",
       "      <td>market_count_2000</td>\n",
       "      <td>4</td>\n",
       "    </tr>\n",
       "    <tr>\n",
       "      <th>342</th>\n",
       "      <td>ecology</td>\n",
       "      <td>4</td>\n",
       "    </tr>\n",
       "    <tr>\n",
       "      <th>226</th>\n",
       "      <td>leisure_count_500</td>\n",
       "      <td>3</td>\n",
       "    </tr>\n",
       "    <tr>\n",
       "      <th>6</th>\n",
       "      <td>big_road1_1line</td>\n",
       "      <td>3</td>\n",
       "    </tr>\n",
       "    <tr>\n",
       "      <th>328</th>\n",
       "      <td>0_6_male</td>\n",
       "      <td>3</td>\n",
       "    </tr>\n",
       "    <tr>\n",
       "      <th>235</th>\n",
       "      <td>cafe_count_500_price_4000</td>\n",
       "      <td>3</td>\n",
       "    </tr>\n",
       "    <tr>\n",
       "      <th>334</th>\n",
       "      <td>big_market_raion</td>\n",
       "      <td>3</td>\n",
       "    </tr>\n",
       "    <tr>\n",
       "      <th>141</th>\n",
       "      <td>7_14_all</td>\n",
       "      <td>3</td>\n",
       "    </tr>\n",
       "    <tr>\n",
       "      <th>91</th>\n",
       "      <td>0_17_female</td>\n",
       "      <td>2</td>\n",
       "    </tr>\n",
       "    <tr>\n",
       "      <th>195</th>\n",
       "      <td>mosque_count_1500</td>\n",
       "      <td>2</td>\n",
       "    </tr>\n",
       "    <tr>\n",
       "      <th>228</th>\n",
       "      <td>young_male</td>\n",
       "      <td>2</td>\n",
       "    </tr>\n",
       "    <tr>\n",
       "      <th>74</th>\n",
       "      <td>0_6_all</td>\n",
       "      <td>2</td>\n",
       "    </tr>\n",
       "    <tr>\n",
       "      <th>323</th>\n",
       "      <td>0_6_female</td>\n",
       "      <td>2</td>\n",
       "    </tr>\n",
       "    <tr>\n",
       "      <th>173</th>\n",
       "      <td>railroad_terminal_raion</td>\n",
       "      <td>2</td>\n",
       "    </tr>\n",
       "    <tr>\n",
       "      <th>394</th>\n",
       "      <td>mosque_count_3000</td>\n",
       "      <td>1</td>\n",
       "    </tr>\n",
       "    <tr>\n",
       "      <th>56</th>\n",
       "      <td>0_13_all</td>\n",
       "      <td>1</td>\n",
       "    </tr>\n",
       "    <tr>\n",
       "      <th>366</th>\n",
       "      <td>thermal_power_plant_raion</td>\n",
       "      <td>1</td>\n",
       "    </tr>\n",
       "    <tr>\n",
       "      <th>321</th>\n",
       "      <td>0_17_all</td>\n",
       "      <td>1</td>\n",
       "    </tr>\n",
       "    <tr>\n",
       "      <th>132</th>\n",
       "      <td>railroad_1line</td>\n",
       "      <td>1</td>\n",
       "    </tr>\n",
       "    <tr>\n",
       "      <th>115</th>\n",
       "      <td>radiation_raion</td>\n",
       "      <td>1</td>\n",
       "    </tr>\n",
       "  </tbody>\n",
       "</table>\n",
       "<p>413 rows × 2 columns</p>\n",
       "</div>"
      ],
      "text/plain": [
       "                          Feature  Score\n",
       "248                       full_sq    813\n",
       "163          x_full_sq_extra_area    375\n",
       "75                        life_sq    359\n",
       "79                     extra_area    336\n",
       "218              x_full_sq_tsne_2    322\n",
       "145       x_full_sq_micex_rgbi_tr    286\n",
       "20         x_full_sq_micex_cbi_tr    271\n",
       "309       x_full_sq_balance_trade    270\n",
       "403                         floor    249\n",
       "233               x_full_sq_floor    240\n",
       "202       x_extra_area_build_year    229\n",
       "219              x_full_sq_tsne_1    216\n",
       "150       x_life_sq_micex_rgbi_tr    193\n",
       "299           x_floor_railroad_km    191\n",
       "290             x_full_sq_life_sq    185\n",
       "216                     max_floor    176\n",
       "34            x_life_sq_school_km    174\n",
       "68    public_transport_station_km    170\n",
       "301         x_full_sq_cemetery_km    164\n",
       "281              x_life_sq_tsne_1    163\n",
       "168               x_life_sq_floor    162\n",
       "129   x_life_sq_hospice_morgue_km    162\n",
       "151           x_full_sq_max_floor    161\n",
       "277                    build_year    161\n",
       "122  x_micex_cbi_tr_micex_rgbi_tr    160\n",
       "253                        tsne_2    158\n",
       "404         x_full_sq_floor_ratio    157\n",
       "148     x_floor_hospice_morgue_km    157\n",
       "387               x_full_sq_state    156\n",
       "31   x_micex_cbi_tr_workplaces_km    152\n",
       "..                            ...    ...\n",
       "49     museum_visitis_per_100_cap      5\n",
       "297          big_church_count_500      5\n",
       "324            leisure_count_2000      5\n",
       "136         nuclear_reactor_raion      5\n",
       "237    cafe_count_1000_price_4000      5\n",
       "222            leisure_count_1000      5\n",
       "85                   young_female      4\n",
       "315                     0_17_male      4\n",
       "40                      7_14_male      4\n",
       "180    cafe_count_2000_price_high      4\n",
       "46              market_count_2000      4\n",
       "342                       ecology      4\n",
       "226             leisure_count_500      3\n",
       "6                 big_road1_1line      3\n",
       "328                      0_6_male      3\n",
       "235     cafe_count_500_price_4000      3\n",
       "334              big_market_raion      3\n",
       "141                      7_14_all      3\n",
       "91                    0_17_female      2\n",
       "195             mosque_count_1500      2\n",
       "228                    young_male      2\n",
       "74                        0_6_all      2\n",
       "323                    0_6_female      2\n",
       "173       railroad_terminal_raion      2\n",
       "394             mosque_count_3000      1\n",
       "56                       0_13_all      1\n",
       "366     thermal_power_plant_raion      1\n",
       "321                      0_17_all      1\n",
       "132                railroad_1line      1\n",
       "115               radiation_raion      1\n",
       "\n",
       "[413 rows x 2 columns]"
      ]
     },
     "execution_count": 399,
     "metadata": {},
     "output_type": "execute_result"
    }
   ],
   "source": [
    "feature_importance"
   ]
  },
  {
   "cell_type": "code",
   "execution_count": null,
   "metadata": {
    "collapsed": true
   },
   "outputs": [],
   "source": []
  }
 ],
 "metadata": {
  "kernelspec": {
   "display_name": "Python 3",
   "language": "python",
   "name": "python3"
  },
  "language_info": {
   "codemirror_mode": {
    "name": "ipython",
    "version": 3
   },
   "file_extension": ".py",
   "mimetype": "text/x-python",
   "name": "python",
   "nbconvert_exporter": "python",
   "pygments_lexer": "ipython3",
   "version": "3.5.2"
  },
  "toc": {
   "nav_menu": {
    "height": "49px",
    "width": "252px"
   },
   "navigate_menu": true,
   "number_sections": true,
   "sideBar": true,
   "threshold": 4,
   "toc_cell": false,
   "toc_section_display": "block",
   "toc_window_display": false
  }
 },
 "nbformat": 4,
 "nbformat_minor": 2
}
