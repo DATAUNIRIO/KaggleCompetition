{
 "cells": [
  {
   "cell_type": "code",
   "execution_count": 1,
   "metadata": {},
   "outputs": [
    {
     "name": "stderr",
     "output_type": "stream",
     "text": [
      "/home/jiashen/env3/lib/python3.5/site-packages/sklearn/cross_validation.py:44: DeprecationWarning: This module was deprecated in version 0.18 in favor of the model_selection module into which all the refactored classes and functions are moved. Also note that the interface of the new CV iterators are different from that of this module. This module will be removed in 0.20.\n",
      "  \"This module will be removed in 0.20.\", DeprecationWarning)\n"
     ]
    }
   ],
   "source": [
    "%matplotlib inline\n",
    "import pandas as pd\n",
    "import numpy as np\n",
    "import xgboost as xgb"
   ]
  },
  {
   "cell_type": "code",
   "execution_count": 2,
   "metadata": {
    "collapsed": true
   },
   "outputs": [],
   "source": [
    "train = pd.read_csv('train_c.csv')\n",
    "test = pd.read_csv('test_c.csv')"
   ]
  },
  {
   "cell_type": "code",
   "execution_count": 12,
   "metadata": {
    "collapsed": true
   },
   "outputs": [],
   "source": [
    "col = list(test.columns)[2:]\n",
    "label = train['price_doc']*.969+10"
   ]
  },
  {
   "cell_type": "code",
   "execution_count": 13,
   "metadata": {
    "collapsed": true
   },
   "outputs": [],
   "source": [
    "dtrain = xgb.DMatrix(train[col],label)\n",
    "dtest = xgb.DMatrix(test[col])"
   ]
  },
  {
   "cell_type": "code",
   "execution_count": 14,
   "metadata": {},
   "outputs": [],
   "source": [
    "params = {\n",
    "    'eta': 0.05, ## Try 0.01,3,5\n",
    "    'max_depth': 5,## Try 4,5,6\n",
    "    'subsample': 0.7,\n",
    "    'colsample_bytree': 0.7,\n",
    "    'objective': 'reg:linear',\n",
    "    'eval_metric': 'rmse',\n",
    "    'silent': 1,\n",
    "    'lambda':10,\n",
    "    'min_child_weight':5\n",
    "}"
   ]
  },
  {
   "cell_type": "code",
   "execution_count": 15,
   "metadata": {},
   "outputs": [
    {
     "name": "stdout",
     "output_type": "stream",
     "text": [
      "[0]\ttrain-rmse:7.96267e+06\ttest-rmse:7.96559e+06\n",
      "[50]\ttrain-rmse:2.60514e+06\ttest-rmse:2.8689e+06\n",
      "[100]\ttrain-rmse:2.2568e+06\ttest-rmse:2.66611e+06\n",
      "[150]\ttrain-rmse:2.14422e+06\ttest-rmse:2.62511e+06\n",
      "[200]\ttrain-rmse:2.06025e+06\ttest-rmse:2.60009e+06\n",
      "[250]\ttrain-rmse:1.99182e+06\ttest-rmse:2.58521e+06\n",
      "[300]\ttrain-rmse:1.93196e+06\ttest-rmse:2.57704e+06\n",
      "[350]\ttrain-rmse:1.88212e+06\ttest-rmse:2.57088e+06\n",
      "Performance does not improve from 364 rounds\n"
     ]
    },
    {
     "data": {
      "image/png": "[encoded data removed]",
      "text/plain": [
       "<matplotlib.figure.Figure at 0x7f112a62dfd0>"
      ]
     },
     "metadata": {},
     "output_type": "display_data"
    }
   ],
   "source": [
    "xgb_cvalid = xgb.cv(params, dtrain, num_boost_round=1000, early_stopping_rounds=20,\n",
    "    verbose_eval=50, show_stdv=False,seed=42)\n",
    "xgb_cvalid[['train-rmse-mean', 'test-rmse-mean']].plot()\n",
    "print('Performance does not improve from '+str(len(xgb_cvalid))+' rounds')"
   ]
  },
  {
   "cell_type": "code",
   "execution_count": null,
   "metadata": {
    "collapsed": true
   },
   "outputs": [],
   "source": [
    "#params = {\n",
    " #   'eta': 0.05, ## Try 0.01,3,5\n",
    "  #  'max_depth': 5,## Try 4,5,6\n",
    "  #  'subsample': 0.7,\n",
    "  #  'colsample_bytree': 0.7,\n",
    "  #  'objective': 'reg:linear',\n",
    "  #  'eval_metric': 'rmse',\n",
    "  #  'silent': 1,\n",
    "  #  'lambda':10,\n",
    "  #  'min_child_weight':5\n",
    "#}\n",
    "#[0]\ttrain-rmse:7.80654e+06\ttest-rmse:7.8094e+06\n",
    "#[50]\ttrain-rmse:2.55406e+06\ttest-rmse:2.81265e+06\n",
    "#[100]\ttrain-rmse:2.21255e+06\ttest-rmse:2.61384e+06\n",
    "#[150]\ttrain-rmse:2.10217e+06\ttest-rmse:2.57364e+06\n",
    "#[200]\ttrain-rmse:2.01985e+06\ttest-rmse:2.54911e+06\n",
    "#[250]\ttrain-rmse:1.95276e+06\ttest-rmse:2.53452e+06\n",
    "#[300]\ttrain-rmse:1.89408e+06\ttest-rmse:2.52650e+06\n",
    "#[350]\ttrain-rmse:1.84521e+06\ttest-rmse:2.52047e+06\n",
    "#Performance does not improve from 364 rounds\n",
    "\n",
    "#params = {\n",
    " #   'eta': 0.05, ## Try 0.01,3,5\n",
    " #   'max_depth': 5,## Try 4,5,6\n",
    " #   'subsample': 0.7,\n",
    " #   'colsample_bytree': 0.7,\n",
    " #   'objective': 'reg:linear',\n",
    " #   'eval_metric': 'rmse',\n",
    " #   'silent': 1,\n",
    " #   'lambda':90,\n",
    " #   'min_child_weight':5\n",
    "#}\n",
    "#[0]\ttrain-rmse:7.83357e+06\ttest-rmse:7.83367e+06\n",
    "#[50]\ttrain-rmse:2.89283e+06\ttest-rmse:3.01259e+06\n",
    "#[100]\ttrain-rmse:2.47324e+06\ttest-rmse:2.71492e+06\n",
    "#[150]\ttrain-rmse:2.33258e+06\ttest-rmse:2.63791e+06\n",
    "#[200]\ttrain-rmse:2.24237e+06\ttest-rmse:2.59875e+06\n",
    "#[250]\ttrain-rmse:2.1708e+06\ttest-rmse:2.57325e+06\n",
    "#[300]\ttrain-rmse:2.11301e+06\ttest-rmse:2.55746e+06\n",
    "#[350]\ttrain-rmse:2.06434e+06\ttest-rmse:2.546e+06\n",
    "#[400]\ttrain-rmse:2.02051e+06\ttest-rmse:2.53766e+06\n",
    "#[450]\ttrain-rmse:1.9807e+06\ttest-rmse:2.53069e+06\n",
    "#[500]\ttrain-rmse:1.94442e+06\ttest-rmse:2.52496e+06\n",
    "#[550]\ttrain-rmse:1.90954e+06\ttest-rmse:2.52092e+06\n",
    "#[600]\ttrain-rmse:1.87611e+06\ttest-rmse:2.51673e+06\n",
    "#[650]\ttrain-rmse:1.84536e+06\ttest-rmse:2.51521e+06\n",
    "#[700]\ttrain-rmse:1.81493e+06\ttest-rmse:2.51316e+06\n",
    "#[750]\ttrain-rmse:1.78755e+06\ttest-rmse:2.51299e+06\n",
    "#Performance does not improve from 737 rounds\n",
    "\n",
    "#0.969\n",
    "#[0]\ttrain-rmse:7.96267e+06\ttest-rmse:7.96559e+06\n",
    "#[50]\ttrain-rmse:2.60514e+06\ttest-rmse:2.8689e+06\n",
    "#[100]\ttrain-rmse:2.2568e+06\ttest-rmse:2.66611e+06\n",
    "#[150]\ttrain-rmse:2.14422e+06\ttest-rmse:2.62511e+06\n",
    "#[200]\ttrain-rmse:2.06025e+06\ttest-rmse:2.60009e+06\n",
    "#[250]\ttrain-rmse:1.99182e+06\ttest-rmse:2.58521e+06\n",
    "#[300]\ttrain-rmse:1.93196e+06\ttest-rmse:2.57704e+06\n",
    "#[350]\ttrain-rmse:1.88212e+06\ttest-rmse:2.57088e+06\n",
    "#Performance does not improve from 364 rounds\n"
   ]
  },
  {
   "cell_type": "code",
   "execution_count": 17,
   "metadata": {},
   "outputs": [],
   "source": [
    "model1 =xgb.train(params,dtrain,num_boost_round=364)"
   ]
  },
  {
   "cell_type": "code",
   "execution_count": 18,
   "metadata": {
    "collapsed": true
   },
   "outputs": [],
   "source": [
    "pred_adjust = model1.predict(dtest)"
   ]
  },
  {
   "cell_type": "code",
   "execution_count": 19,
   "metadata": {
    "collapsed": true
   },
   "outputs": [],
   "source": [
    "sub = pd.DataFrame({'id':test['id'],'price_doc':pred_adjust})"
   ]
  },
  {
   "cell_type": "code",
   "execution_count": 20,
   "metadata": {
    "collapsed": true
   },
   "outputs": [],
   "source": [
    "sub.to_csv('AdjustParamsTry.csv',index=False)"
   ]
  },
  {
   "cell_type": "code",
   "execution_count": null,
   "metadata": {
    "collapsed": true
   },
   "outputs": [],
   "source": []
  }
 ],
 "metadata": {
  "kernelspec": {
   "display_name": "Python 3",
   "language": "python",
   "name": "python3"
  },
  "language_info": {
   "codemirror_mode": {
    "name": "ipython",
    "version": 3
   },
   "file_extension": ".py",
   "mimetype": "text/x-python",
   "name": "python",
   "nbconvert_exporter": "python",
   "pygments_lexer": "ipython3",
   "version": "3.5.2"
  }
 },
 "nbformat": 4,
 "nbformat_minor": 2
}
