{
 "cells": [
  {
   "cell_type": "markdown",
   "metadata": {},
   "source": [
    "## Re_test Single Model"
   ]
  },
  {
   "cell_type": "code",
   "execution_count": 76,
   "metadata": {},
   "outputs": [],
   "source": [
    "%run Functions.py\n",
    "import warnings\n",
    "warnings.filterwarnings('ignore')"
   ]
  },
  {
   "cell_type": "code",
   "execution_count": 60,
   "metadata": {
    "collapsed": true
   },
   "outputs": [],
   "source": [
    "train = pd.read_csv('train_clean.csv')\n",
    "test = pd.read_csv('test_clean.csv')\n",
    "macro = pd.read_csv('macro_c.csv')"
   ]
  },
  {
   "cell_type": "code",
   "execution_count": 61,
   "metadata": {
    "collapsed": true
   },
   "outputs": [],
   "source": [
    "train,test = get_additional_features2(train,test)"
   ]
  },
  {
   "cell_type": "markdown",
   "metadata": {},
   "source": [
    "## Price SQM as Target"
   ]
  },
  {
   "cell_type": "code",
   "execution_count": 62,
   "metadata": {
    "collapsed": true
   },
   "outputs": [],
   "source": [
    "train['life_sq_ratio'] = train['life_sq']/train['full_sq']\n",
    "train['kitch_sq_ratio'] = train['kitch_sq']/train['full_sq']\n",
    "test['life_sq_ratio'] = test['life_sq']/test['full_sq']\n",
    "test['kitch_sq_ratio'] = test['kitch_sq']/test['full_sq']"
   ]
  },
  {
   "cell_type": "code",
   "execution_count": 44,
   "metadata": {
    "collapsed": true
   },
   "outputs": [],
   "source": [
    "Price_sqm = [x/y for x,y in zip(list(train['price_doc']*0.95+10),list(train['full_sq']))]"
   ]
  },
  {
   "cell_type": "code",
   "execution_count": 45,
   "metadata": {
    "collapsed": true
   },
   "outputs": [],
   "source": [
    "col = list(test.columns)[2:]\n",
    "col = [each for each in col if each not in ['full_sq','life_sq','kitch_sq']]\n",
    "train['price_sqm'] = Price_sqm\n",
    "label = train['price_sqm']"
   ]
  },
  {
   "cell_type": "code",
   "execution_count": 21,
   "metadata": {
    "collapsed": true
   },
   "outputs": [],
   "source": [
    "dtrain = xgb.DMatrix(train[col],train['price_sqm'])"
   ]
  },
  {
   "cell_type": "code",
   "execution_count": 13,
   "metadata": {},
   "outputs": [
    {
     "name": "stdout",
     "output_type": "stream",
     "text": [
      "[0]\ttrain-rmse:133513+614.837\ttest-rmse:133514+1251.8\n",
      "[50]\ttrain-rmse:34749.9+362.496\ttest-rmse:37396.1+1828.55\n",
      "[100]\ttrain-rmse:30665.1+342.071\ttest-rmse:35201.6+1791.8\n",
      "[150]\ttrain-rmse:29086+269.026\ttest-rmse:34881.4+1834.53\n",
      "[200]\ttrain-rmse:27856.7+264.026\ttest-rmse:34727.2+1822.09\n",
      "[250]\ttrain-rmse:26773+252.794\ttest-rmse:34665.8+1827.22\n",
      "[300]\ttrain-rmse:25856.5+275.036\ttest-rmse:34597.8+1823.6\n",
      "[350]\ttrain-rmse:25017.1+275.499\ttest-rmse:34568.2+1875.36\n",
      "[400]\ttrain-rmse:24257.9+281.502\ttest-rmse:34547.2+1871.69\n",
      "400\n"
     ]
    }
   ],
   "source": [
    "params = {\n",
    "   'eta': 0.05, ## Try 0.01,3,5\n",
    "   'max_depth': 5,## Try 4,5,6\n",
    "   'subsample': 0.7,\n",
    "   'colsample_bytree': 0.7,\n",
    "   'objective': 'reg:linear',\n",
    "    'eval_metric': 'rmse',\n",
    "    'silent': 1\n",
    "}\n",
    "xgb_cvalid = xgb.cv(params, dtrain, num_boost_round=1000, early_stopping_rounds=20,\n",
    "     verbose_eval=50, show_stdv=True,seed=42)\n",
    "print(len(xgb_cvalid))"
   ]
  },
  {
   "cell_type": "code",
   "execution_count": 26,
   "metadata": {},
   "outputs": [
    {
     "name": "stdout",
     "output_type": "stream",
     "text": [
      "TRAIN: [ 5853  5854  5855 ..., 29259 29260 29261] TEST: [   0    1    2 ..., 5850 5851 5852]\n",
      "TRAIN: [    0     1     2 ..., 29259 29260 29261] TEST: [ 5853  5854  5855 ..., 11703 11704 11705]\n",
      "TRAIN: [    0     1     2 ..., 29259 29260 29261] TEST: [11706 11707 11708 ..., 17555 17556 17557]\n",
      "TRAIN: [    0     1     2 ..., 29259 29260 29261] TEST: [17558 17559 17560 ..., 23407 23408 23409]\n",
      "TRAIN: [    0     1     2 ..., 23407 23408 23409] TEST: [23410 23411 23412 ..., 29259 29260 29261]\n",
      "Start Training\n"
     ]
    }
   ],
   "source": [
    "Model1_feature,Model1_test,indexs = get_xgb_stack_data(params,400,train,col,label,test)"
   ]
  },
  {
   "cell_type": "code",
   "execution_count": 136,
   "metadata": {
    "collapsed": true
   },
   "outputs": [],
   "source": [
    "bakup = Model1_test"
   ]
  },
  {
   "cell_type": "code",
   "execution_count": 137,
   "metadata": {
    "collapsed": true
   },
   "outputs": [],
   "source": [
    "Model1_test = Model1_test*test['full_sq']"
   ]
  },
  {
   "cell_type": "code",
   "execution_count": 29,
   "metadata": {},
   "outputs": [],
   "source": [
    "indexs = indexs[1:]"
   ]
  },
  {
   "cell_type": "code",
   "execution_count": 33,
   "metadata": {},
   "outputs": [
    {
     "name": "stdout",
     "output_type": "stream",
     "text": [
      "0.322588065986\n",
      "0.337926213036\n",
      "0.322001773804\n",
      "0.298429765688\n"
     ]
    }
   ],
   "source": [
    "from sklearn.metrics import mean_squared_error as MSE\n",
    "accu = []\n",
    "for each in indexs:\n",
    "    features = Model1_feature.iloc[each,:]\n",
    "    predicted = features['predicted']*features['full_sq']\n",
    "    label = features['label']*features['full_sq']\n",
    "    accuracy=MSE(np.log(predicted+1),np.log(label+1))**0.5\n",
    "    accu.append(accuracy)\n",
    "    print(accuracy)"
   ]
  },
  {
   "cell_type": "code",
   "execution_count": 34,
   "metadata": {},
   "outputs": [
    {
     "name": "stdout",
     "output_type": "stream",
     "text": [
      "0.320236454628\n"
     ]
    }
   ],
   "source": [
    "print(np.mean(accu))"
   ]
  },
  {
   "cell_type": "markdown",
   "metadata": {},
   "source": [
    "## Price SQM as Target --Remve first 5000"
   ]
  },
  {
   "cell_type": "code",
   "execution_count": 73,
   "metadata": {
    "collapsed": true
   },
   "outputs": [],
   "source": [
    "train = pd.read_csv('train_clean.csv')\n",
    "train = train.iloc[5000:,:]\n",
    "test = pd.read_csv('test_clean.csv')\n",
    "macro = pd.read_csv('macro_c.csv')\n",
    "train,test = get_additional_features2(train,test)\n",
    "train['life_sq_ratio'] = train['life_sq']/train['full_sq']\n",
    "train['kitch_sq_ratio'] = train['kitch_sq']/train['full_sq']\n",
    "test['life_sq_ratio'] = test['life_sq']/test['full_sq']\n",
    "test['kitch_sq_ratio'] = test['kitch_sq']/test['full_sq']"
   ]
  },
  {
   "cell_type": "code",
   "execution_count": 74,
   "metadata": {},
   "outputs": [],
   "source": [
    "Price_sqm = [x/y for x,y in zip(list(train['price_doc']*0.95+10),list(train['full_sq']))]\n",
    "col = list(test.columns)[2:]\n",
    "col = [each for each in col if each not in ['full_sq','life_sq','kitch_sq']]\n",
    "train['price_sqm'] = Price_sqm\n",
    "label = train['price_sqm']\n",
    "dtrain = xgb.DMatrix(train[col],train['price_sqm'])"
   ]
  },
  {
   "cell_type": "code",
   "execution_count": 75,
   "metadata": {},
   "outputs": [
    {
     "name": "stdout",
     "output_type": "stream",
     "text": [
      "[0]\ttrain-rmse:134097+248.75\ttest-rmse:134103+511.083\n",
      "[50]\ttrain-rmse:32946.1+311.399\ttest-rmse:34832.1+624.058\n",
      "[100]\ttrain-rmse:28726.5+224.466\ttest-rmse:32365.8+633.555\n",
      "[150]\ttrain-rmse:27127.1+201.852\ttest-rmse:32013.9+616.942\n",
      "[200]\ttrain-rmse:25818.4+141.12\ttest-rmse:31830.7+569.746\n",
      "[250]\ttrain-rmse:24764.9+178.537\ttest-rmse:31716.2+552.022\n",
      "[300]\ttrain-rmse:23805+178.769\ttest-rmse:31649.8+516.069\n",
      "[350]\ttrain-rmse:22977.5+115.397\ttest-rmse:31630.1+506.791\n",
      "379\n"
     ]
    }
   ],
   "source": [
    "xgb_cvalid = xgb.cv(params, dtrain, num_boost_round=1000, early_stopping_rounds=20,\n",
    "     verbose_eval=50, show_stdv=True,seed=42)\n",
    "print(len(xgb_cvalid))"
   ]
  },
  {
   "cell_type": "code",
   "execution_count": 77,
   "metadata": {},
   "outputs": [
    {
     "name": "stdout",
     "output_type": "stream",
     "text": [
      "TRAIN: [ 4853  4854  4855 ..., 24259 24260 24261] TEST: [   0    1    2 ..., 4850 4851 4852]\n",
      "TRAIN: [    0     1     2 ..., 24259 24260 24261] TEST: [4853 4854 4855 ..., 9703 9704 9705]\n",
      "TRAIN: [    0     1     2 ..., 24259 24260 24261] TEST: [ 9706  9707  9708 ..., 14555 14556 14557]\n",
      "TRAIN: [    0     1     2 ..., 24259 24260 24261] TEST: [14558 14559 14560 ..., 19407 19408 19409]\n",
      "TRAIN: [    0     1     2 ..., 19407 19408 19409] TEST: [19410 19411 19412 ..., 24259 24260 24261]\n",
      "Start Training\n"
     ]
    }
   ],
   "source": [
    "Model1_feature2,Model1_test2,indexs2 = get_xgb_stack_data(params,379,train,col,train['price_sqm'],test)"
   ]
  },
  {
   "cell_type": "code",
   "execution_count": 134,
   "metadata": {
    "collapsed": true
   },
   "outputs": [],
   "source": [
    "Model1_test2=Model1_test2*test['full_sq']"
   ]
  },
  {
   "cell_type": "code",
   "execution_count": 86,
   "metadata": {},
   "outputs": [
    {
     "name": "stdout",
     "output_type": "stream",
     "text": [
      "0.330499890798\n",
      "0.33008175114\n",
      "0.344211435143\n",
      "0.307070079518\n",
      "0.301070450625\n"
     ]
    }
   ],
   "source": [
    "accu = []\n",
    "for each in indexs2:\n",
    "    features = Model1_feature2.iloc[each,:]\n",
    "    predicted = features['predicted']*features['full_sq']\n",
    "    label = features['price_sqm']*features['full_sq']\n",
    "    accuracy=MSE(np.log(predicted+1),np.log(label+1))**0.5\n",
    "    accu.append(accuracy)\n",
    "    print(accuracy)"
   ]
  },
  {
   "cell_type": "code",
   "execution_count": 87,
   "metadata": {},
   "outputs": [
    {
     "data": {
      "text/plain": [
       "0.3225867214448751"
      ]
     },
     "execution_count": 87,
     "metadata": {},
     "output_type": "execute_result"
    }
   ],
   "source": [
    "np.mean(accu)"
   ]
  },
  {
   "cell_type": "markdown",
   "metadata": {},
   "source": [
    "# Price Gap Quarterly As Label"
   ]
  },
  {
   "cell_type": "code",
   "execution_count": 116,
   "metadata": {
    "collapsed": true
   },
   "outputs": [],
   "source": [
    "train = pd.read_csv('train_clean.csv')\n",
    "test = pd.read_csv('test_clean.csv')\n",
    "macro = pd.read_csv('macro_c.csv')\n",
    "quarter= pd.read_csv('Quaterly Data.csv')"
   ]
  },
  {
   "cell_type": "code",
   "execution_count": 117,
   "metadata": {
    "collapsed": true
   },
   "outputs": [],
   "source": [
    "train,test = get_additional_features2(train,test)"
   ]
  },
  {
   "cell_type": "code",
   "execution_count": 118,
   "metadata": {
    "collapsed": true
   },
   "outputs": [],
   "source": [
    "train['life_sq_ratio'] = train['life_sq']/train['full_sq']\n",
    "train['kitch_sq_ratio'] = train['kitch_sq']/train['full_sq']\n",
    "test['life_sq_ratio'] = test['life_sq']/test['full_sq']\n",
    "test['kitch_sq_ratio'] = test['kitch_sq']/test['full_sq']"
   ]
  },
  {
   "cell_type": "code",
   "execution_count": 119,
   "metadata": {
    "collapsed": true
   },
   "outputs": [],
   "source": [
    "def quarter_cal(Month):\n",
    "    if Month>=1 and Month <=3:\n",
    "        return 'Q1'\n",
    "    elif Month >3 and Month <=6:\n",
    "        return 'Q2'\n",
    "    elif Month >6 and Month <=9:\n",
    "        return 'Q3'\n",
    "    else:\n",
    "        return 'Q4'"
   ]
  },
  {
   "cell_type": "code",
   "execution_count": 120,
   "metadata": {
    "collapsed": true
   },
   "outputs": [],
   "source": [
    "train_quarter = [str(x)+quarter_cal(y) for x,y in zip(list(train.timestamp.dt.year),list(train.month))]\n",
    "test_quarter = [str(x)+quarter_cal(y) for x,y in zip(list(test.timestamp.dt.year),list(test.month))]\n",
    "train['Quarter'] = train_quarter\n",
    "test['Quarter'] = test_quarter\n",
    "quarter_data = pd.read_csv('Quaterly Data.csv',sep=';')[['Quarter','Primary Average']]\n",
    "train = train.merge(quarter_data,on='Quarter',how='left')\n",
    "test = test.merge(quarter_data,on='Quarter',how='left')\n",
    "Price_sqm = [x/y for x,y in zip(list(train['price_doc']*0.95+10),list(train['full_sq']))]"
   ]
  },
  {
   "cell_type": "code",
   "execution_count": 121,
   "metadata": {},
   "outputs": [],
   "source": [
    "del train['Quarter']\n",
    "del test['Quarter']\n",
    "Price_gap = Price_sqm - train['Primary Average']\n",
    "train['Gap'] = Price_gap\n",
    "col = list(test.columns)[2:]\n",
    "col = [each for each in col if each not in ['full_sq','life_sq','kitch_sq','Primary Average']]"
   ]
  },
  {
   "cell_type": "code",
   "execution_count": 122,
   "metadata": {
    "collapsed": true
   },
   "outputs": [],
   "source": [
    "label = train['Gap']\n",
    "dtrain = xgb.DMatrix(train[col],train['Gap'])"
   ]
  },
  {
   "cell_type": "code",
   "execution_count": 123,
   "metadata": {
    "collapsed": true
   },
   "outputs": [],
   "source": [
    "params = {\n",
    "   'eta': 0.05, ## Try 0.01,3,5\n",
    "   'max_depth': 5,## Try 4,5,6\n",
    "   'subsample': 0.7,\n",
    "   'colsample_bytree': 0.7,\n",
    "   'objective': 'reg:linear',\n",
    "    'eval_metric': 'rmse',\n",
    "    'silent': 1,\n",
    "    'lambda':5\n",
    "}"
   ]
  },
  {
   "cell_type": "code",
   "execution_count": 124,
   "metadata": {},
   "outputs": [
    {
     "name": "stdout",
     "output_type": "stream",
     "text": [
      "[0]\ttrain-rmse:70304.4+766.808\ttest-rmse:70304.3+1536.41\n",
      "[50]\ttrain-rmse:34370.3+740.636\ttest-rmse:36184.6+1864.08\n",
      "[100]\ttrain-rmse:31421.2+541.575\ttest-rmse:34910.7+1861.02\n",
      "[150]\ttrain-rmse:29832.7+485.793\ttest-rmse:34572.1+1852.52\n",
      "[200]\ttrain-rmse:28640.4+432.476\ttest-rmse:34417.8+1848.99\n",
      "[250]\ttrain-rmse:27645.7+372.604\ttest-rmse:34334.6+1864.77\n",
      "[300]\ttrain-rmse:26731.8+397.347\ttest-rmse:34274.2+1859.95\n",
      "326\n"
     ]
    }
   ],
   "source": [
    "xgb_cvalid = xgb.cv(params, dtrain, num_boost_round=1000, early_stopping_rounds=20,\n",
    "     verbose_eval=50, show_stdv=True,seed=42)\n",
    "print(len(xgb_cvalid))"
   ]
  },
  {
   "cell_type": "code",
   "execution_count": 125,
   "metadata": {},
   "outputs": [
    {
     "name": "stdout",
     "output_type": "stream",
     "text": [
      "TRAIN: [ 5853  5854  5855 ..., 29259 29260 29261] TEST: [   0    1    2 ..., 5850 5851 5852]\n",
      "TRAIN: [    0     1     2 ..., 29259 29260 29261] TEST: [ 5853  5854  5855 ..., 11703 11704 11705]\n",
      "TRAIN: [    0     1     2 ..., 29259 29260 29261] TEST: [11706 11707 11708 ..., 17555 17556 17557]\n",
      "TRAIN: [    0     1     2 ..., 29259 29260 29261] TEST: [17558 17559 17560 ..., 23407 23408 23409]\n",
      "TRAIN: [    0     1     2 ..., 23407 23408 23409] TEST: [23410 23411 23412 ..., 29259 29260 29261]\n",
      "Start Training\n"
     ]
    }
   ],
   "source": [
    "Model2_feature,Model2_test,indexs2 = get_xgb_stack_data(params,326,train,col,label,test)"
   ]
  },
  {
   "cell_type": "code",
   "execution_count": 141,
   "metadata": {},
   "outputs": [],
   "source": [
    "bakup = Model2_test"
   ]
  },
  {
   "cell_type": "code",
   "execution_count": 143,
   "metadata": {},
   "outputs": [],
   "source": [
    "Model2_test = (Model2_test+test['Primary Average'])*test['full_sq']"
   ]
  },
  {
   "cell_type": "code",
   "execution_count": 115,
   "metadata": {
    "collapsed": true
   },
   "outputs": [],
   "source": [
    "Model2_feature['Price_sqm'] = Price_sqm"
   ]
  },
  {
   "cell_type": "code",
   "execution_count": 126,
   "metadata": {},
   "outputs": [
    {
     "name": "stdout",
     "output_type": "stream",
     "text": [
      "0.319675484273\n",
      "0.334657222225\n",
      "0.325784710517\n",
      "0.296904911606\n"
     ]
    }
   ],
   "source": [
    "indexs = indexs2[1:]\n",
    "accu = []\n",
    "for each in indexs:\n",
    "    features = Model2_feature.iloc[each,:]\n",
    "    predicted = (features['predicted']+features['Primary Average'])*features['full_sq']\n",
    "    label = (features['label']+features['Primary Average'])*features['full_sq']\n",
    "    accuracy=MSE(np.log(predicted+1),np.log(label+1))**0.5\n",
    "    accu.append(accuracy)\n",
    "    print(accuracy)"
   ]
  },
  {
   "cell_type": "code",
   "execution_count": 127,
   "metadata": {},
   "outputs": [
    {
     "data": {
      "text/plain": [
       "0.31925558215514638"
      ]
     },
     "execution_count": 127,
     "metadata": {},
     "output_type": "execute_result"
    }
   ],
   "source": [
    "np.mean(accu)"
   ]
  },
  {
   "cell_type": "markdown",
   "metadata": {},
   "source": [
    "## Price Gap Quarterly- Remove First 5000"
   ]
  },
  {
   "cell_type": "code",
   "execution_count": 128,
   "metadata": {
    "collapsed": true
   },
   "outputs": [],
   "source": [
    "train = pd.read_csv('train_clean.csv')\n",
    "train = train.iloc[5000:,:]\n",
    "test = pd.read_csv('test_clean.csv')\n",
    "macro = pd.read_csv('macro_c.csv')\n",
    "quarter= pd.read_csv('Quaterly Data.csv')\n",
    "train,test = get_additional_features2(train,test)\n",
    "train['life_sq_ratio'] = train['life_sq']/train['full_sq']\n",
    "train['kitch_sq_ratio'] = train['kitch_sq']/train['full_sq']\n",
    "test['life_sq_ratio'] = test['life_sq']/test['full_sq']\n",
    "test['kitch_sq_ratio'] = test['kitch_sq']/test['full_sq']\n",
    "train_quarter = [str(x)+quarter_cal(y) for x,y in zip(list(train.timestamp.dt.year),list(train.month))]\n",
    "test_quarter = [str(x)+quarter_cal(y) for x,y in zip(list(test.timestamp.dt.year),list(test.month))]\n",
    "train['Quarter'] = train_quarter\n",
    "test['Quarter'] = test_quarter\n",
    "quarter_data = pd.read_csv('Quaterly Data.csv',sep=';')[['Quarter','Primary Average']]\n",
    "train = train.merge(quarter_data,on='Quarter',how='left')\n",
    "test = test.merge(quarter_data,on='Quarter',how='left')\n",
    "Price_sqm = [x/y for x,y in zip(list(train['price_doc']*0.95+10),list(train['full_sq']))]\n",
    "del train['Quarter']\n",
    "del test['Quarter']\n",
    "Price_gap = Price_sqm - train['Primary Average']\n",
    "train['Gap'] = Price_gap\n",
    "col = list(test.columns)[2:]\n",
    "col = [each for each in col if each not in ['full_sq','life_sq','kitch_sq','Primary Average']]\n",
    "label = train['Gap']\n",
    "dtrain = xgb.DMatrix(train[col],train['Gap'])"
   ]
  },
  {
   "cell_type": "code",
   "execution_count": 129,
   "metadata": {},
   "outputs": [
    {
     "name": "stdout",
     "output_type": "stream",
     "text": [
      "[0]\ttrain-rmse:69803.8+319.757\ttest-rmse:69826.6+634.547\n",
      "[50]\ttrain-rmse:31870+336.974\ttest-rmse:33572.8+671.578\n",
      "[100]\ttrain-rmse:29029.8+296.651\ttest-rmse:32195.2+668.897\n",
      "[150]\ttrain-rmse:27558+309.143\ttest-rmse:31837.2+617.63\n",
      "[200]\ttrain-rmse:26343.4+287.524\ttest-rmse:31658.1+591.336\n",
      "[250]\ttrain-rmse:25345.1+291.14\ttest-rmse:31559.4+539.513\n",
      "[300]\ttrain-rmse:24454.4+285.749\ttest-rmse:31484.3+511.714\n",
      "[350]\ttrain-rmse:23606.1+260.568\ttest-rmse:31436.6+505.319\n",
      "376\n"
     ]
    }
   ],
   "source": [
    "xgb_cvalid = xgb.cv(params, dtrain, num_boost_round=1000, early_stopping_rounds=20,\n",
    "     verbose_eval=50, show_stdv=True,seed=42)\n",
    "print(len(xgb_cvalid))"
   ]
  },
  {
   "cell_type": "code",
   "execution_count": 130,
   "metadata": {},
   "outputs": [
    {
     "name": "stdout",
     "output_type": "stream",
     "text": [
      "TRAIN: [ 4853  4854  4855 ..., 24259 24260 24261] TEST: [   0    1    2 ..., 4850 4851 4852]\n",
      "TRAIN: [    0     1     2 ..., 24259 24260 24261] TEST: [4853 4854 4855 ..., 9703 9704 9705]\n",
      "TRAIN: [    0     1     2 ..., 24259 24260 24261] TEST: [ 9706  9707  9708 ..., 14555 14556 14557]\n",
      "TRAIN: [    0     1     2 ..., 24259 24260 24261] TEST: [14558 14559 14560 ..., 19407 19408 19409]\n",
      "TRAIN: [    0     1     2 ..., 19407 19408 19409] TEST: [19410 19411 19412 ..., 24259 24260 24261]\n",
      "Start Training\n"
     ]
    }
   ],
   "source": [
    "Model2_feature2,Model2_test2,indexs2 = get_xgb_stack_data(params,376,train,col,label,test)"
   ]
  },
  {
   "cell_type": "code",
   "execution_count": 145,
   "metadata": {
    "collapsed": true
   },
   "outputs": [],
   "source": [
    "bakup = Model2_test2"
   ]
  },
  {
   "cell_type": "code",
   "execution_count": 146,
   "metadata": {
    "collapsed": true
   },
   "outputs": [],
   "source": [
    "Model2_test2 = (Model2_test2+test['Primary Average'])*test['full_sq']"
   ]
  },
  {
   "cell_type": "code",
   "execution_count": 131,
   "metadata": {},
   "outputs": [
    {
     "name": "stdout",
     "output_type": "stream",
     "text": [
      "0.325166678408\n",
      "0.323444295119\n",
      "0.344661626878\n",
      "0.307476193444\n",
      "0.295349659968\n"
     ]
    }
   ],
   "source": [
    "indexs = indexs2\n",
    "accu = []\n",
    "for each in indexs:\n",
    "    features = Model2_feature2.iloc[each,:]\n",
    "    predicted = (features['predicted']+features['Primary Average'])*features['full_sq']\n",
    "    label = (features['label']+features['Primary Average'])*features['full_sq']\n",
    "    accuracy=MSE(np.log(predicted+1),np.log(label+1))**0.5\n",
    "    accu.append(accuracy)\n",
    "    print(accuracy)"
   ]
  },
  {
   "cell_type": "code",
   "execution_count": 132,
   "metadata": {},
   "outputs": [
    {
     "data": {
      "text/plain": [
       "0.31921969076365164"
      ]
     },
     "execution_count": 132,
     "metadata": {},
     "output_type": "execute_result"
    }
   ],
   "source": [
    "np.mean(accu)"
   ]
  },
  {
   "cell_type": "markdown",
   "metadata": {},
   "source": [
    "## Tide Up Results"
   ]
  },
  {
   "cell_type": "code",
   "execution_count": 183,
   "metadata": {
    "collapsed": true
   },
   "outputs": [],
   "source": [
    "train_stacking = pd.DataFrame({'Price_SQM':Model1_feature['predicted']*Model1_feature['full_sq'],'Price_Gap':(Model2_feature['predicted']+Model2_feature['Primary Average'])*Model2_feature['full_sq']})"
   ]
  },
  {
   "cell_type": "code",
   "execution_count": 184,
   "metadata": {},
   "outputs": [],
   "source": [
    "train_stacking['label'] = Model1_feature['price_doc']\n",
    "train_stacking['id'] = Model1_feature['id']"
   ]
  },
  {
   "cell_type": "code",
   "execution_count": 185,
   "metadata": {
    "collapsed": true
   },
   "outputs": [],
   "source": [
    "train_stacking.to_csv('Stacking_Input_SQMGap_Complete.csv',index=False)"
   ]
  },
  {
   "cell_type": "code",
   "execution_count": 186,
   "metadata": {},
   "outputs": [],
   "source": [
    "train_stacking['timestamp'] = Model1_feature['timestamp']"
   ]
  },
  {
   "cell_type": "code",
   "execution_count": 187,
   "metadata": {
    "collapsed": true
   },
   "outputs": [],
   "source": [
    "train_stacking2 = pd.DataFrame({'Price_SQM':Model1_feature2['predicted']*Model1_feature2['full_sq'],'Price_Gap':(Model2_feature2['predicted']+Model2_feature2['Primary Average'])*Model2_feature2['full_sq']})"
   ]
  },
  {
   "cell_type": "code",
   "execution_count": 188,
   "metadata": {
    "collapsed": true
   },
   "outputs": [],
   "source": [
    "train_stacking2['label'] = Model1_feature2['price_doc']\n",
    "train_stacking2['id'] = Model1_feature2['id']\n",
    "train_stacking2['timestamp'] = Model1_feature2['timestamp']"
   ]
  },
  {
   "cell_type": "code",
   "execution_count": 189,
   "metadata": {},
   "outputs": [],
   "source": [
    "train_stacking2.to_csv('Stacking_Input_SQMGap_non5000.csv',index=False)"
   ]
  },
  {
   "cell_type": "code",
   "execution_count": 190,
   "metadata": {
    "collapsed": true
   },
   "outputs": [],
   "source": [
    "test_stacking = pd.DataFrame({'Price_SQM':Model1_test,'Price_Gap':Model2_test})"
   ]
  },
  {
   "cell_type": "code",
   "execution_count": 191,
   "metadata": {},
   "outputs": [],
   "source": [
    "test_stacking['id'] = test['id']\n",
    "test_stacking['timestamp'] = test['timestamp']"
   ]
  },
  {
   "cell_type": "code",
   "execution_count": 192,
   "metadata": {},
   "outputs": [],
   "source": [
    "test_stacking2 = pd.DataFrame({'Price_SQM':Model1_test2,'Price_Gap':Model2_test2})"
   ]
  },
  {
   "cell_type": "code",
   "execution_count": 193,
   "metadata": {
    "collapsed": true
   },
   "outputs": [],
   "source": [
    "test_stacking2['id'] = test['id']\n",
    "test_stacking2['timestamp'] = test['timestamp']"
   ]
  },
  {
   "cell_type": "code",
   "execution_count": 194,
   "metadata": {},
   "outputs": [],
   "source": [
    "test_stacking.to_csv('Stacking_Predict_SQMGap_Complete.csv',index=False)\n",
    "test_stacking2.to_csv('Stacking_Predict_SQMGap_non5000.csv',index=False)"
   ]
  },
  {
   "cell_type": "code",
   "execution_count": null,
   "metadata": {
    "collapsed": true
   },
   "outputs": [],
   "source": []
  }
 ],
 "metadata": {
  "kernelspec": {
   "display_name": "Python 3",
   "language": "python",
   "name": "python3"
  },
  "language_info": {
   "codemirror_mode": {
    "name": "ipython",
    "version": 3
   },
   "file_extension": ".py",
   "mimetype": "text/x-python",
   "name": "python",
   "nbconvert_exporter": "python",
   "pygments_lexer": "ipython3",
   "version": "3.5.2"
  }
 },
 "nbformat": 4,
 "nbformat_minor": 2
}
