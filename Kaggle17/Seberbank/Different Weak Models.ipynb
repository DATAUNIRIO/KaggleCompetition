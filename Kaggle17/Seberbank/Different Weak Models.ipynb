{
 "cells": [
  {
   "cell_type": "code",
   "execution_count": 3,
   "metadata": {},
   "outputs": [],
   "source": [
    "%matplotlib inline\n",
    "import pandas as pd\n",
    "import numpy as np\n",
    "from ggplot import *\n",
    "from sklearn.model_selection import train_test_split\n",
    "from sklearn.linear_model import LinearRegression\n",
    "from sklearn.ensemble import RandomForestRegressor\n",
    "from sklearn.ensemble import GradientBoostingRegressor\n",
    "import xgboost as xgb\n",
    "from sklearn.metrics import mean_squared_error as MSE\n",
    "from sklearn.preprocessing import Imputer"
   ]
  },
  {
   "cell_type": "markdown",
   "metadata": {},
   "source": [
    "# Load Data"
   ]
  },
  {
   "cell_type": "code",
   "execution_count": 4,
   "metadata": {
    "collapsed": true
   },
   "outputs": [],
   "source": [
    "train_c = pd.read_csv('all_features_train_2.csv')\n",
    "test_c = pd.read_csv('all_features_test_2.csv')\n",
    "train_o = pd.read_csv('train_c.csv')\n",
    "test_o = pd.read_csv('test_c.csv')"
   ]
  },
  {
   "cell_type": "code",
   "execution_count": 5,
   "metadata": {
    "collapsed": true
   },
   "outputs": [],
   "source": [
    "## Split data 4:1 Ration: 5-fold CV\n",
    "training_c,testing_c = train_test_split(train_c,test_size = 0.2,random_state = 42)\n",
    "training_o,testing_o = train_test_split(train_o,test_size = 0.2,random_state = 42)"
   ]
  },
  {
   "cell_type": "code",
   "execution_count": 6,
   "metadata": {
    "collapsed": true
   },
   "outputs": [],
   "source": [
    "col_c = list(test_c.columns)[2:]\n",
    "col_o = list(test_o.columns)[2:]\n",
    "label_c = training_c['price_doc']*0.95+10\n",
    "label_o = training_o['price_doc']*0.95+10\n",
    "test_label_c = testing_c['price_doc']*0.95+10\n",
    "test_label_o = testing_o['price_doc']*0.95+10"
   ]
  },
  {
   "cell_type": "markdown",
   "metadata": {},
   "source": [
    "# Create Imputed Data For Sklearn"
   ]
  },
  {
   "cell_type": "code",
   "execution_count": 8,
   "metadata": {
    "collapsed": true
   },
   "outputs": [],
   "source": [
    "## For Original\n",
    "Imputer_o = Imputer()\n",
    "train_set_o = Imputer_o.fit_transform(training_o[col_o])\n",
    "test_set_o = Imputer_o.transform(testing_o[col_o])\n",
    "Final_test_o = Imputer_o.transform(test_o[col_o])"
   ]
  },
  {
   "cell_type": "code",
   "execution_count": 9,
   "metadata": {
    "collapsed": true
   },
   "outputs": [],
   "source": [
    "## For Cleaned\n",
    "Imputer_c = Imputer()\n",
    "train_set_c = Imputer_c.fit_transform(training_c[col_c])\n",
    "test_set_c = Imputer_c.transform(testing_c[col_c])\n",
    "Final_test_c = Imputer_c.transform(test_c[col_c])"
   ]
  },
  {
   "cell_type": "markdown",
   "metadata": {},
   "source": [
    "# Fit Base Model: Linear Regression"
   ]
  },
  {
   "cell_type": "code",
   "execution_count": 42,
   "metadata": {},
   "outputs": [
    {
     "name": "stdout",
     "output_type": "stream",
     "text": [
      "3.41e+06\n",
      "3.31e+06\n"
     ]
    }
   ],
   "source": [
    "## For Original Dataset\n",
    "LR_Original = LinearRegression()\n",
    "LR_Original.fit(train_set_o,label_o)\n",
    "inbag_predict = LR_Original.predict(train_set_o)\n",
    "outbag_predict = LR_Original.predict(test_set_o)\n",
    "Inbag_RMSE = MSE(inbag_predict,label_o)**0.5\n",
    "Outbag_RMSE = MSE(outbag_predict,test_label_o)**0.5\n",
    "print(\"{:.2e}\".format(Inbag_RMSE))\n",
    "print(\"{:.2e}\".format(Outbag_RMSE))"
   ]
  },
  {
   "cell_type": "code",
   "execution_count": 44,
   "metadata": {},
   "outputs": [
    {
     "name": "stdout",
     "output_type": "stream",
     "text": [
      "2.60e+06\n",
      "2.78e+06\n"
     ]
    }
   ],
   "source": [
    "## For Clean Dataset\n",
    "LR_Clean = LinearRegression()\n",
    "LR_Clean.fit(train_set_c,label_c)\n",
    "inbag_predict = LR_Clean.predict(train_set_c)\n",
    "outbag_predict = LR_Clean.predict(test_set_c)\n",
    "Inbag_RMSE = MSE(inbag_predict,label_c)**0.5\n",
    "Outbag_RMSE = MSE(outbag_predict,test_label_c)**0.5\n",
    "print(\"{:.2e}\".format(Inbag_RMSE))\n",
    "print(\"{:.2e}\".format(Outbag_RMSE))"
   ]
  },
  {
   "cell_type": "markdown",
   "metadata": {},
   "source": [
    "## Fit RF Regressor"
   ]
  },
  {
   "cell_type": "code",
   "execution_count": 11,
   "metadata": {},
   "outputs": [
    {
     "name": "stderr",
     "output_type": "stream",
     "text": [
      "[Parallel(n_jobs=1)]: Done 1000 out of 1000 | elapsed: 12.9min finished\n"
     ]
    },
    {
     "data": {
      "text/plain": [
       "RandomForestRegressor(bootstrap=True, criterion='mse', max_depth=5,\n",
       "           max_features=0.7, max_leaf_nodes=None, min_impurity_split=1e-07,\n",
       "           min_samples_leaf=1, min_samples_split=2,\n",
       "           min_weight_fraction_leaf=0.0, n_estimators=1000, n_jobs=1,\n",
       "           oob_score=False, random_state=42, verbose=1, warm_start=False)"
      ]
     },
     "execution_count": 11,
     "metadata": {},
     "output_type": "execute_result"
    }
   ],
   "source": [
    "## For Original Dataset\n",
    "RF_Original = RandomForestRegressor(n_estimators=1000,max_features =0.7,max_depth =5,random_state=42,verbose=1)\n",
    "RF_Original.fit(train_set_o,label_o)"
   ]
  },
  {
   "cell_type": "code",
   "execution_count": 12,
   "metadata": {},
   "outputs": [
    {
     "name": "stderr",
     "output_type": "stream",
     "text": [
      "[Parallel(n_jobs=1)]: Done 1000 out of 1000 | elapsed:    1.7s finished\n"
     ]
    },
    {
     "name": "stdout",
     "output_type": "stream",
     "text": [
      "2.69e+06\n",
      "2.67e+06\n"
     ]
    },
    {
     "name": "stderr",
     "output_type": "stream",
     "text": [
      "[Parallel(n_jobs=1)]: Done 1000 out of 1000 | elapsed:    0.4s finished\n"
     ]
    }
   ],
   "source": [
    "inbag_predict = RF_Original.predict(train_set_o)\n",
    "outbag_predict = RF_Original.predict(test_set_o)\n",
    "Inbag_RMSE = MSE(inbag_predict,label_o)**0.5\n",
    "Outbag_RMSE = MSE(outbag_predict,test_label_o)**0.5\n",
    "print(\"{:.2e}\".format(Inbag_RMSE))\n",
    "print(\"{:.2e}\".format(Outbag_RMSE))"
   ]
  },
  {
   "cell_type": "code",
   "execution_count": null,
   "metadata": {
    "collapsed": true
   },
   "outputs": [],
   "source": []
  }
 ],
 "metadata": {
  "kernelspec": {
   "display_name": "Python 3",
   "language": "python",
   "name": "python3"
  },
  "language_info": {
   "codemirror_mode": {
    "name": "ipython",
    "version": 3
   },
   "file_extension": ".py",
   "mimetype": "text/x-python",
   "name": "python",
   "nbconvert_exporter": "python",
   "pygments_lexer": "ipython3",
   "version": "3.5.2"
  }
 },
 "nbformat": 4,
 "nbformat_minor": 2
}
