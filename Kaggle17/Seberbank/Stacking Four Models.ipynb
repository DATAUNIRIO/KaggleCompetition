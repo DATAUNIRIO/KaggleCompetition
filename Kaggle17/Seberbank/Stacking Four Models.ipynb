{
 "cells": [
  {
   "cell_type": "code",
   "execution_count": 38,
   "metadata": {},
   "outputs": [],
   "source": [
    "import pandas as pd\n",
    "import numpy as np\n",
    "import xgboost as xgb"
   ]
  },
  {
   "cell_type": "code",
   "execution_count": 9,
   "metadata": {
    "collapsed": true
   },
   "outputs": [],
   "source": [
    "model1_train = pd.read_csv('price_related_type3_stacking_train.csv')\n",
    "model1_test = pd.read_csv('price_related_type3_stacking_test.csv')"
   ]
  },
  {
   "cell_type": "code",
   "execution_count": 10,
   "metadata": {
    "collapsed": true
   },
   "outputs": [],
   "source": [
    "model23_train = pd.read_csv('Stacking_Input_SQMGap_non5000.csv')\n",
    "model23_test = pd.read_csv('Stacking_Predict_SQMGap_non5000.csv')"
   ]
  },
  {
   "cell_type": "code",
   "execution_count": 11,
   "metadata": {
    "collapsed": true
   },
   "outputs": [],
   "source": [
    "train_stacking = pd.DataFrame({'model1':model1_train['predicted'],'model2':np.log1p(model23_train['Price_SQM']),'model3':np.log1p(model23_train['Price_Gap'])})"
   ]
  },
  {
   "cell_type": "code",
   "execution_count": 12,
   "metadata": {
    "collapsed": true
   },
   "outputs": [],
   "source": [
    "train_stacking['label'] = np.log1p(model23_train['label'])"
   ]
  },
  {
   "cell_type": "markdown",
   "metadata": {},
   "source": [
    "## Rebuild Best Model"
   ]
  },
  {
   "cell_type": "code",
   "execution_count": 15,
   "metadata": {},
   "outputs": [],
   "source": [
    "train = pd.read_csv('train_c.csv')\n",
    "test = pd.read_csv('test_c.csv')"
   ]
  },
  {
   "cell_type": "code",
   "execution_count": 16,
   "metadata": {},
   "outputs": [],
   "source": [
    "col = list(test.columns)[2:]\n",
    "label = train['price_doc']*0.95+10"
   ]
  },
  {
   "cell_type": "code",
   "execution_count": 17,
   "metadata": {
    "collapsed": true
   },
   "outputs": [],
   "source": [
    "dtrain = xgb.DMatrix(train[col],label)\n",
    "dtest = xgb.DMatrix(test[col])"
   ]
  },
  {
   "cell_type": "code",
   "execution_count": 21,
   "metadata": {},
   "outputs": [],
   "source": [
    "params = {\n",
    "    'eta': 0.05, ## Try 0.01,3,5\n",
    "    'max_depth': 5,## Try 4,5,6\n",
    "    'subsample': 0.7,\n",
    "    'colsample_bytree': 0.7,\n",
    "    'objective': 'reg:linear',\n",
    "    'eval_metric': 'rmse',\n",
    "    'silent': 1\n",
    "}\n",
    "#xgb_cvalid = xgb.cv(params, dtrain, num_boost_round=1000, early_stopping_rounds=20,\n",
    " #   verbose_eval=50, show_stdv=False,seed=42)\n",
    "#xgb_cvalid[['train-rmse-mean', 'test-rmse-mean']].plot()\n",
    "#print('Performance does not improve from '+str(len(xgb_cvalid))+' rounds')"
   ]
  },
  {
   "cell_type": "code",
   "execution_count": 22,
   "metadata": {
    "collapsed": true
   },
   "outputs": [],
   "source": [
    "%run Functions.py"
   ]
  },
  {
   "cell_type": "code",
   "execution_count": 23,
   "metadata": {
    "collapsed": true
   },
   "outputs": [],
   "source": [
    "import warnings\n",
    "warnings.filterwarnings('ignore')"
   ]
  },
  {
   "cell_type": "code",
   "execution_count": 24,
   "metadata": {},
   "outputs": [
    {
     "name": "stdout",
     "output_type": "stream",
     "text": [
      "TRAIN: [ 6095  6096  6097 ..., 30468 30469 30470] TEST: [   0    1    2 ..., 6092 6093 6094]\n",
      "TRAIN: [    0     1     2 ..., 30468 30469 30470] TEST: [ 6095  6096  6097 ..., 12186 12187 12188]\n",
      "TRAIN: [    0     1     2 ..., 30468 30469 30470] TEST: [12189 12190 12191 ..., 18280 18281 18282]\n",
      "TRAIN: [    0     1     2 ..., 30468 30469 30470] TEST: [18283 18284 18285 ..., 24374 24375 24376]\n",
      "TRAIN: [    0     1     2 ..., 24374 24375 24376] TEST: [24377 24378 24379 ..., 30468 30469 30470]\n",
      "Start Training\n"
     ]
    }
   ],
   "source": [
    "Best_Stack_Input,Best_Stack_Output,ii = get_xgb_stack_data(params,372,train,col,label,test)"
   ]
  },
  {
   "cell_type": "code",
   "execution_count": 39,
   "metadata": {
    "collapsed": true
   },
   "outputs": [],
   "source": [
    "id_ = list(model1_train['id'])\n",
    "Best_Stack_Input = Best_Stack_Input[Best_Stack_Input['id'].isin(id_)]"
   ]
  },
  {
   "cell_type": "code",
   "execution_count": 40,
   "metadata": {
    "collapsed": true
   },
   "outputs": [],
   "source": [
    "model4= list(np.log1p(Best_Stack_Input['predicted']))"
   ]
  },
  {
   "cell_type": "code",
   "execution_count": 41,
   "metadata": {
    "collapsed": true
   },
   "outputs": [],
   "source": [
    "test_stacking = pd.DataFrame({'model1':np.log1p(model1_test['price_doc']),'model2':np.log1p(model23_test['Price_SQM']),'model3':np.log1p(model23_test['Price_Gap']),'model4':np.log1p(Best_Stack_Output)})"
   ]
  },
  {
   "cell_type": "code",
   "execution_count": 42,
   "metadata": {
    "collapsed": true
   },
   "outputs": [],
   "source": [
    "train_stacking['model4'] = model4"
   ]
  },
  {
   "cell_type": "code",
   "execution_count": 43,
   "metadata": {
    "collapsed": true
   },
   "outputs": [],
   "source": [
    "model5_train = pd.read_csv('price_difference_type_2_stacking_train.csv')\n",
    "model5_test = pd.read_csv('price_difference_type_2_stacking_test.csv')"
   ]
  },
  {
   "cell_type": "code",
   "execution_count": 44,
   "metadata": {
    "collapsed": true
   },
   "outputs": [],
   "source": [
    "model5 = np.log1p(model5_train['predicted'])\n",
    "model5_test = np.log1p(model5_test['price_doc'])"
   ]
  },
  {
   "cell_type": "code",
   "execution_count": 45,
   "metadata": {
    "collapsed": true
   },
   "outputs": [],
   "source": [
    "model6= pd.read_csv('aaa.csv')\n",
    "model6_t = pd.read_csv('price_difference_type_2_stacking_test.csv')['price_doc']"
   ]
  },
  {
   "cell_type": "code",
   "execution_count": 46,
   "metadata": {},
   "outputs": [],
   "source": [
    "train_stacking['model6'] = np.log1p(model6['predicted'])"
   ]
  },
  {
   "cell_type": "code",
   "execution_count": 47,
   "metadata": {
    "collapsed": true
   },
   "outputs": [],
   "source": [
    "model6_t = np.log1p(model6_t)"
   ]
  },
  {
   "cell_type": "code",
   "execution_count": 48,
   "metadata": {
    "collapsed": true
   },
   "outputs": [],
   "source": [
    "train_stacking['model5'] = list(model5)\n",
    "test_stacking['model5'] = list(model5_test)"
   ]
  },
  {
   "cell_type": "code",
   "execution_count": 49,
   "metadata": {},
   "outputs": [],
   "source": [
    "#train_stacking['model6'] = list(model5)\n",
    "#del test_stacking['model6']\n",
    "test_stacking['model6'] = list(model6_t)"
   ]
  },
  {
   "cell_type": "markdown",
   "metadata": {},
   "source": [
    "## Stacking"
   ]
  },
  {
   "cell_type": "code",
   "execution_count": 52,
   "metadata": {
    "collapsed": true
   },
   "outputs": [],
   "source": [
    "params = {\n",
    "   'eta': 0.03, ## Try 0.01,3,5\n",
    "   'max_depth': 3,## Try 4,5,6\n",
    "   'subsample': 1,\n",
    "   'colsample_bytree':1,\n",
    "   'objective': 'reg:linear',\n",
    "    'eval_metric': 'rmse',\n",
    "    'silent': 1\n",
    "}"
   ]
  },
  {
   "cell_type": "code",
   "execution_count": 53,
   "metadata": {
    "collapsed": true
   },
   "outputs": [],
   "source": [
    "col = list(test_stacking.columns)"
   ]
  },
  {
   "cell_type": "code",
   "execution_count": 54,
   "metadata": {
    "collapsed": true
   },
   "outputs": [],
   "source": [
    "#col.remove('model6')"
   ]
  },
  {
   "cell_type": "code",
   "execution_count": 55,
   "metadata": {
    "collapsed": true
   },
   "outputs": [],
   "source": [
    "dtrain = xgb.DMatrix(train_stacking[col],train_stacking['label'])\n",
    "dtest = xgb.DMatrix(test_stacking[col])"
   ]
  },
  {
   "cell_type": "code",
   "execution_count": 56,
   "metadata": {},
   "outputs": [
    {
     "name": "stdout",
     "output_type": "stream",
     "text": [
      "[0]\ttrain-rmse:14.7482+0.00194326\ttest-rmse:14.7482+0.00394647\n",
      "[50]\ttrain-rmse:3.23245+0.000623996\ttest-rmse:3.23269+0.00368006\n",
      "[100]\ttrain-rmse:0.766481+0.00109003\ttest-rmse:0.768551+0.00491695\n",
      "[150]\ttrain-rmse:0.341523+0.00240941\ttest-rmse:0.347567+0.00634209\n",
      "[200]\ttrain-rmse:0.30572+0.00271623\ttest-rmse:0.313616+0.00594436\n",
      "[250]\ttrain-rmse:0.303116+0.00281995\ttest-rmse:0.31188+0.00578332\n",
      "280\n"
     ]
    }
   ],
   "source": [
    "xgb_cv = xgb.cv(params,dtrain,num_boost_round=1000,early_stopping_rounds=20,\n",
    "     verbose_eval=50, show_stdv=True,seed=42)\n",
    "print(len(xgb_cv))"
   ]
  },
  {
   "cell_type": "code",
   "execution_count": 57,
   "metadata": {
    "collapsed": true
   },
   "outputs": [],
   "source": [
    "model = xgb.train(params,dtrain,num_boost_round=280)\n",
    "pred = model.predict(dtest)\n",
    "actual_pred = np.exp(pred)-1"
   ]
  },
  {
   "cell_type": "code",
   "execution_count": 60,
   "metadata": {},
   "outputs": [],
   "source": [
    "sub1 = pd.DataFrame({'id':test['id'],'price_doc':actual_pred})\n",
    "sub1.to_csv('Stacking_AllSix_OKOKOKOKOKOKO.csv',index=False)"
   ]
  },
  {
   "cell_type": "code",
   "execution_count": 49,
   "metadata": {},
   "outputs": [
    {
     "name": "stdout",
     "output_type": "stream",
     "text": [
      "model1\n",
      "0.318448577699\n",
      "model2\n",
      "0.32124092489\n",
      "model3\n",
      "0.318468044488\n",
      "model4\n",
      "0.324042848694\n"
     ]
    }
   ],
   "source": [
    "for each in col:\n",
    "    print(each)\n",
    "    print(MSE(train_stacking[each],train_stacking['label'])**0.5)"
   ]
  },
  {
   "cell_type": "code",
   "execution_count": null,
   "metadata": {
    "collapsed": true
   },
   "outputs": [],
   "source": []
  },
  {
   "cell_type": "markdown",
   "metadata": {},
   "source": [
    "## Weighted Average"
   ]
  },
  {
   "cell_type": "code",
   "execution_count": 75,
   "metadata": {
    "collapsed": true
   },
   "outputs": [],
   "source": [
    "WA1 = 0.5*test_stacking['model3'] + 0.5*test_stacking['model2']"
   ]
  },
  {
   "cell_type": "code",
   "execution_count": 76,
   "metadata": {
    "collapsed": true
   },
   "outputs": [],
   "source": [
    "WA2 = 0.7*WA1 + 0.3*test_stacking['model1']"
   ]
  },
  {
   "cell_type": "code",
   "execution_count": 77,
   "metadata": {
    "collapsed": true
   },
   "outputs": [],
   "source": [
    "WA3 = 0.7*WA2 + 0.3*test_stacking['model4']"
   ]
  },
  {
   "cell_type": "code",
   "execution_count": 82,
   "metadata": {
    "collapsed": true
   },
   "outputs": [],
   "source": [
    "sub2 = pd.DataFrame({'id':test['id'],'price_doc':np.exp(WA3)-1})\n",
    "sub.to_csv('WeightedAverage_201706301225.csv',index=False)"
   ]
  },
  {
   "cell_type": "code",
   "execution_count": 89,
   "metadata": {
    "collapsed": true
   },
   "outputs": [],
   "source": [
    "diff = Current_Best['price_doc'] - sub2['price_doc']"
   ]
  },
  {
   "cell_type": "code",
   "execution_count": 98,
   "metadata": {
    "collapsed": true
   },
   "outputs": [],
   "source": [
    "from sklearn.metrics import mean_absolute_error as MAE\n",
    "from sklearn.metrics import mean_squared_error as MSE "
   ]
  },
  {
   "cell_type": "code",
   "execution_count": 102,
   "metadata": {},
   "outputs": [
    {
     "data": {
      "text/plain": [
       "207877.59716187353"
      ]
     },
     "execution_count": 102,
     "metadata": {},
     "output_type": "execute_result"
    }
   ],
   "source": [
    "MAE(Current_Best['price_doc'],sub2['price_doc'])"
   ]
  },
  {
   "cell_type": "code",
   "execution_count": null,
   "metadata": {
    "collapsed": true
   },
   "outputs": [],
   "source": []
  },
  {
   "cell_type": "code",
   "execution_count": 90,
   "metadata": {
    "collapsed": true
   },
   "outputs": [],
   "source": [
    "from ggplot import *"
   ]
  },
  {
   "cell_type": "code",
   "execution_count": 91,
   "metadata": {
    "collapsed": true
   },
   "outputs": [],
   "source": [
    "tmp = pd.DataFrame({'id':test['id'],'diff':diff})"
   ]
  },
  {
   "cell_type": "code",
   "execution_count": 92,
   "metadata": {
    "collapsed": true
   },
   "outputs": [],
   "source": [
    "g = ggplot(tmp,aes(x='id',y='diff'))+geom_line()"
   ]
  },
  {
   "cell_type": "code",
   "execution_count": 93,
   "metadata": {},
   "outputs": [
    {
     "data": {
      "image/png": "[encoded data removed]",
      "text/plain": [
       "<matplotlib.figure.Figure at 0x7f799712f5c0>"
      ]
     },
     "metadata": {},
     "output_type": "display_data"
    },
    {
     "name": "stdout",
     "output_type": "stream",
     "text": [
      "<ggplot: (8760012639436)>\n"
     ]
    }
   ],
   "source": [
    "print(g)"
   ]
  },
  {
   "cell_type": "code",
   "execution_count": 88,
   "metadata": {
    "collapsed": true
   },
   "outputs": [],
   "source": [
    "Current_Best = pd.read_csv('Log_Average_Best_Single_And_Gap_And_Area_Price.csv')"
   ]
  },
  {
   "cell_type": "code",
   "execution_count": null,
   "metadata": {
    "collapsed": true
   },
   "outputs": [],
   "source": []
  },
  {
   "cell_type": "code",
   "execution_count": null,
   "metadata": {
    "collapsed": true
   },
   "outputs": [],
   "source": []
  },
  {
   "cell_type": "code",
   "execution_count": null,
   "metadata": {
    "collapsed": true
   },
   "outputs": [],
   "source": []
  },
  {
   "cell_type": "code",
   "execution_count": null,
   "metadata": {
    "collapsed": true
   },
   "outputs": [],
   "source": []
  },
  {
   "cell_type": "code",
   "execution_count": 160,
   "metadata": {
    "collapsed": true
   },
   "outputs": [],
   "source": [
    "Second_Best = pd.read_csv('Log_Average_Best_Single_And_Gap.csv')"
   ]
  },
  {
   "cell_type": "code",
   "execution_count": 161,
   "metadata": {
    "collapsed": true
   },
   "outputs": [],
   "source": [
    "p0 = Second_Best['price_doc']"
   ]
  },
  {
   "cell_type": "code",
   "execution_count": 162,
   "metadata": {
    "collapsed": true
   },
   "outputs": [],
   "source": [
    "p0 = np.log1p(p0)"
   ]
  },
  {
   "cell_type": "code",
   "execution_count": 163,
   "metadata": {
    "collapsed": true
   },
   "outputs": [],
   "source": [
    "p5 = test_stacking['model5']\n",
    "p1 = test_stacking['model1']\n",
    "p3 = test_stacking['model3']"
   ]
  },
  {
   "cell_type": "code",
   "execution_count": 169,
   "metadata": {
    "collapsed": true
   },
   "outputs": [],
   "source": [
    "Average = np.exp(0.7*p0+0.1*p5+0.1*p3+0.1*p1)"
   ]
  },
  {
   "cell_type": "code",
   "execution_count": 170,
   "metadata": {},
   "outputs": [
    {
     "data": {
      "text/plain": [
       "0       5.507304e+06\n",
       "1       8.412690e+06\n",
       "2       5.395804e+06\n",
       "3       5.853802e+06\n",
       "4       4.938654e+06\n",
       "5       9.086583e+06\n",
       "6       4.153339e+06\n",
       "7       4.280447e+06\n",
       "8       4.722215e+06\n",
       "9       4.794963e+06\n",
       "10      6.313202e+06\n",
       "11      4.676831e+06\n",
       "12      3.685463e+06\n",
       "13      4.042210e+06\n",
       "14      6.314864e+06\n",
       "15      6.105799e+06\n",
       "16      2.147008e+07\n",
       "17      1.902543e+07\n",
       "18      5.865122e+06\n",
       "19      1.334586e+07\n",
       "20      7.006402e+06\n",
       "21      1.023154e+07\n",
       "22      8.412383e+06\n",
       "23      8.497570e+06\n",
       "24      4.677978e+06\n",
       "25      8.263655e+06\n",
       "26      1.103720e+07\n",
       "27      7.102243e+06\n",
       "28      3.005682e+06\n",
       "29      6.656188e+06\n",
       "            ...     \n",
       "7632    6.110307e+06\n",
       "7633    3.156704e+06\n",
       "7634    1.032901e+07\n",
       "7635    5.249379e+06\n",
       "7636    4.354740e+06\n",
       "7637    4.771488e+06\n",
       "7638    3.628690e+06\n",
       "7639    6.990893e+06\n",
       "7640    7.894706e+06\n",
       "7641    3.480989e+06\n",
       "7642    6.890199e+06\n",
       "7643    6.416098e+06\n",
       "7644    6.867485e+06\n",
       "7645    3.394081e+06\n",
       "7646    6.582621e+06\n",
       "7647    4.917296e+06\n",
       "7648    6.613855e+06\n",
       "7649    5.025238e+06\n",
       "7650    7.008202e+06\n",
       "7651    7.655760e+06\n",
       "7652    9.171554e+06\n",
       "7653    5.061755e+06\n",
       "7654    1.857656e+06\n",
       "7655    3.465972e+06\n",
       "7656    5.016203e+06\n",
       "7657    8.751890e+06\n",
       "7658    5.016583e+06\n",
       "7659    4.648361e+06\n",
       "7660    5.421236e+06\n",
       "7661    7.814938e+06\n",
       "dtype: float64"
      ]
     },
     "execution_count": 170,
     "metadata": {},
     "output_type": "execute_result"
    }
   ],
   "source": [
    "Average"
   ]
  },
  {
   "cell_type": "code",
   "execution_count": 171,
   "metadata": {
    "collapsed": true
   },
   "outputs": [],
   "source": [
    "sub = pd.DataFrame({'id':test['id'],'price_doc':Average})"
   ]
  },
  {
   "cell_type": "code",
   "execution_count": 172,
   "metadata": {
    "collapsed": true
   },
   "outputs": [],
   "source": [
    "sub.to_csv('Final_Submit_015320160630Finallllllllllll.csv',index=False)"
   ]
  },
  {
   "cell_type": "code",
   "execution_count": null,
   "metadata": {
    "collapsed": true
   },
   "outputs": [],
   "source": [
    "pd.DataFrame({'model1':np.log1p(model1_test['price_doc']),'model2':np.log1p(model23_test['Price_SQM']),'model3':np.log1p(model23_test['Price_Gap']),'model4':np.log1p(Best_Stack_Output)})"
   ]
  }
 ],
 "metadata": {
  "kernelspec": {
   "display_name": "Python 3",
   "language": "python",
   "name": "python3"
  },
  "language_info": {
   "codemirror_mode": {
    "name": "ipython",
    "version": 3
   },
   "file_extension": ".py",
   "mimetype": "text/x-python",
   "name": "python",
   "nbconvert_exporter": "python",
   "pygments_lexer": "ipython3",
   "version": "3.5.2"
  }
 },
 "nbformat": 4,
 "nbformat_minor": 2
}
