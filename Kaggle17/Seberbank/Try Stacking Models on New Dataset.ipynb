{
 "cells": [
  {
   "cell_type": "markdown",
   "metadata": {},
   "source": [
    "# Stack different models on new feature sets"
   ]
  },
  {
   "cell_type": "markdown",
   "metadata": {},
   "source": [
    "**It seems to be true that strong overfitting is spotted in this competition. I suspect that this is caused by multicolinearity among different variables. Therefore, I propose a solution that fit different regressors with different feature sets and then stack them together. **"
   ]
  },
  {
   "cell_type": "markdown",
   "metadata": {},
   "source": [
    "## Load Packages and Dataset"
   ]
  },
  {
   "cell_type": "code",
   "execution_count": 153,
   "metadata": {
    "collapsed": true
   },
   "outputs": [],
   "source": [
    "%matplotlib inline\n",
    "import pandas as pd\n",
    "import numpy as np\n",
    "from ggplot import *\n",
    "import datetime"
   ]
  },
  {
   "cell_type": "code",
   "execution_count": 154,
   "metadata": {
    "collapsed": true
   },
   "outputs": [],
   "source": [
    "train = pd.read_csv('train_c.csv',parse_dates=['timestamp'])\n",
    "test = pd.read_csv('test_c.csv',parse_dates=['timestamp'])"
   ]
  },
  {
   "cell_type": "markdown",
   "metadata": {},
   "source": [
    "## Extra Feature Engineering From Kernel"
   ]
  },
  {
   "cell_type": "code",
   "execution_count": 155,
   "metadata": {
    "collapsed": true
   },
   "outputs": [],
   "source": [
    "# Add month-year\n",
    "month_year = (train.timestamp.dt.month + train.timestamp.dt.year * 100)\n",
    "month_year_cnt_map = month_year.value_counts().to_dict()\n",
    "train['month_year_cnt'] = month_year.map(month_year_cnt_map)\n",
    "\n",
    "month_year = (test.timestamp.dt.month + test.timestamp.dt.year * 100)\n",
    "month_year_cnt_map = month_year.value_counts().to_dict()\n",
    "test['month_year_cnt'] = month_year.map(month_year_cnt_map)\n",
    "\n",
    "# Add week-year count\n",
    "week_year = (train.timestamp.dt.weekofyear + train.timestamp.dt.year * 100)\n",
    "week_year_cnt_map = week_year.value_counts().to_dict()\n",
    "train['week_year_cnt'] = week_year.map(week_year_cnt_map)\n",
    "\n",
    "week_year = (test.timestamp.dt.weekofyear + test.timestamp.dt.year * 100)\n",
    "week_year_cnt_map = week_year.value_counts().to_dict()\n",
    "test['week_year_cnt'] = week_year.map(week_year_cnt_map)\n",
    "\n",
    "# Add month and day-of-week\n",
    "train['month'] = train.timestamp.dt.month\n",
    "train['dow'] = train.timestamp.dt.dayofweek\n",
    "\n",
    "test['month'] = test.timestamp.dt.month\n",
    "test['dow'] = test.timestamp.dt.dayofweek\n",
    "\n",
    "# Other feature engineering\n",
    "train['rel_floor'] = train['floor'] / train['max_floor'].astype(float)\n",
    "train['rel_kitch_sq'] = train['kitch_sq'] / train['full_sq'].astype(float)\n",
    "\n",
    "test['rel_floor'] = test['floor'] / test['max_floor'].astype(float)\n",
    "test['rel_kitch_sq'] = test['kitch_sq'] / test['full_sq'].astype(float)\n",
    "\n",
    "train['apartment_name']=train.sub_area.astype(str) + train['metro_km_avto'].astype(str)\n",
    "test['apartment_name']=test.sub_area.astype(str) + train['metro_km_avto'].astype(str)\n",
    "\n",
    "train['room_size'] = train['life_sq'] / train['num_room'].astype(float)\n",
    "test['room_size'] = test['life_sq'] / test['num_room'].astype(float)"
   ]
  },
  {
   "cell_type": "code",
   "execution_count": 156,
   "metadata": {
    "collapsed": true
   },
   "outputs": [],
   "source": [
    "train['apartment_name'] = pd.factorize(train['apartment_name'],sort=True)[0]\n",
    "test['apartment_name'] = pd.factorize(test['apartment_name'],sort=True)[0]"
   ]
  },
  {
   "cell_type": "markdown",
   "metadata": {},
   "source": [
    "## Fit new dataset into base model and get feature importance"
   ]
  },
  {
   "cell_type": "code",
   "execution_count": 15,
   "metadata": {
    "collapsed": true
   },
   "outputs": [],
   "source": [
    "def get_feature_importance(model):\n",
    "    Importance = model.get_fscore()\n",
    "    Importance = list(Importance.items())\n",
    "    Feature= []\n",
    "    Score = []\n",
    "    for each in Importance:\n",
    "        Feature.append(each[0])\n",
    "        Score.append(each[1])\n",
    "    df = pd.DataFrame({'Feature':Feature,'Score':Score}).sort_values(by=['Score'],ascending=[0])\n",
    "    return df  \n",
    "\n",
    "def plot_importance(model):\n",
    "    FImportance = get_feature_importance(model).iloc[0:50,]\n",
    "    plt.figure()\n",
    "    FImportance.plot(kind='barh', x='Feature', y='Score', legend=False, figsize=(6, 10))\n",
    "    plt.title('XGBoost Feature Importance')\n",
    "    plt.show()"
   ]
  },
  {
   "cell_type": "code",
   "execution_count": 16,
   "metadata": {
    "collapsed": true
   },
   "outputs": [],
   "source": [
    "import xgboost as xgb"
   ]
  },
  {
   "cell_type": "code",
   "execution_count": 17,
   "metadata": {
    "collapsed": true
   },
   "outputs": [],
   "source": [
    "col = list(test.columns)[2:]\n",
    "label = train['price_doc']*0.96+10\n",
    "dtrain = xgb.DMatrix(train[col],label)"
   ]
  },
  {
   "cell_type": "code",
   "execution_count": 18,
   "metadata": {
    "collapsed": true
   },
   "outputs": [],
   "source": [
    "params = {\n",
    "    'eta': 0.05, ## Try 0.01,3,5\n",
    "    'max_depth': 5,## Try 4,5,6\n",
    "    'subsample': 0.7,\n",
    "    'colsample_bytree': 0.7,\n",
    "    'objective': 'reg:linear',\n",
    "    'eval_metric': 'rmse',\n",
    "    'silent': 1\n",
    "}"
   ]
  },
  {
   "cell_type": "code",
   "execution_count": 19,
   "metadata": {},
   "outputs": [
    {
     "name": "stdout",
     "output_type": "stream",
     "text": [
      "[0]\ttrain-rmse:7.87765e+06+46531.2\ttest-rmse:7.88203e+06+96069.7\n",
      "[50]\ttrain-rmse:2.425e+06+44946\ttest-rmse:2.79644e+06+75533.6\n",
      "[100]\ttrain-rmse:2.09686e+06+27260.8\ttest-rmse:2.62078e+06+91571\n",
      "[150]\ttrain-rmse:1.98294e+06+28897.9\ttest-rmse:2.58362e+06+92456.2\n",
      "[200]\ttrain-rmse:1.88973e+06+21045.5\ttest-rmse:2.56321e+06+89828.9\n",
      "[250]\ttrain-rmse:1.81596e+06+17044.9\ttest-rmse:2.55066e+06+92214.2\n",
      "[300]\ttrain-rmse:1.75133e+06+19981.8\ttest-rmse:2.54075e+06+90672.9\n",
      "[350]\ttrain-rmse:1.69512e+06+16837.2\ttest-rmse:2.5359e+06+87148.3\n",
      "[400]\ttrain-rmse:1.64411e+06+15321.6\ttest-rmse:2.53282e+06+88298.9\n",
      "Performance does not improve from 384 rounds\n"
     ]
    },
    {
     "data": {
      "image/png": "[encoded data removed]",
      "text/plain": [
       "<matplotlib.figure.Figure at 0x7f08f2fdcd68>"
      ]
     },
     "metadata": {},
     "output_type": "display_data"
    }
   ],
   "source": [
    "xgb_cvalid = xgb.cv(params, dtrain, num_boost_round=1000, early_stopping_rounds=20,\n",
    "    verbose_eval=50, show_stdv=True,seed=42)\n",
    "xgb_cvalid[['train-rmse-mean', 'test-rmse-mean']].plot()\n",
    "print('Performance does not improve from '+str(len(xgb_cvalid))+' rounds')"
   ]
  },
  {
   "cell_type": "code",
   "execution_count": 20,
   "metadata": {
    "collapsed": true
   },
   "outputs": [],
   "source": [
    "model = xgb.train(params,dtrain,num_boost_round=len(xgb_cvalid))"
   ]
  },
  {
   "cell_type": "code",
   "execution_count": 22,
   "metadata": {
    "collapsed": true
   },
   "outputs": [],
   "source": [
    "feature_importance = get_feature_importance(model)\n",
    "feature_importance.to_csv('Feature_Importance_Base+InFeature.csv',index=False)"
   ]
  },
  {
   "cell_type": "code",
   "execution_count": 29,
   "metadata": {},
   "outputs": [
    {
     "data": {
      "text/html": [
       "<div>\n",
       "<table border=\"1\" class=\"dataframe\">\n",
       "  <thead>\n",
       "    <tr style=\"text-align: right;\">\n",
       "      <th></th>\n",
       "      <th>Feature</th>\n",
       "      <th>Score</th>\n",
       "    </tr>\n",
       "  </thead>\n",
       "  <tbody>\n",
       "    <tr>\n",
       "      <th>13</th>\n",
       "      <td>full_sq</td>\n",
       "      <td>1127</td>\n",
       "    </tr>\n",
       "    <tr>\n",
       "      <th>209</th>\n",
       "      <td>life_sq</td>\n",
       "      <td>446</td>\n",
       "    </tr>\n",
       "    <tr>\n",
       "      <th>16</th>\n",
       "      <td>floor</td>\n",
       "      <td>273</td>\n",
       "    </tr>\n",
       "    <tr>\n",
       "      <th>44</th>\n",
       "      <td>build_year</td>\n",
       "      <td>254</td>\n",
       "    </tr>\n",
       "    <tr>\n",
       "      <th>121</th>\n",
       "      <td>max_floor</td>\n",
       "      <td>201</td>\n",
       "    </tr>\n",
       "    <tr>\n",
       "      <th>191</th>\n",
       "      <td>month_year_cnt</td>\n",
       "      <td>171</td>\n",
       "    </tr>\n",
       "    <tr>\n",
       "      <th>105</th>\n",
       "      <td>week_year_cnt</td>\n",
       "      <td>119</td>\n",
       "    </tr>\n",
       "    <tr>\n",
       "      <th>182</th>\n",
       "      <td>rel_floor</td>\n",
       "      <td>118</td>\n",
       "    </tr>\n",
       "    <tr>\n",
       "      <th>61</th>\n",
       "      <td>kitch_sq</td>\n",
       "      <td>118</td>\n",
       "    </tr>\n",
       "    <tr>\n",
       "      <th>141</th>\n",
       "      <td>rel_kitch_sq</td>\n",
       "      <td>117</td>\n",
       "    </tr>\n",
       "    <tr>\n",
       "      <th>102</th>\n",
       "      <td>num_room</td>\n",
       "      <td>101</td>\n",
       "    </tr>\n",
       "    <tr>\n",
       "      <th>7</th>\n",
       "      <td>state</td>\n",
       "      <td>99</td>\n",
       "    </tr>\n",
       "    <tr>\n",
       "      <th>104</th>\n",
       "      <td>kindergarten_km</td>\n",
       "      <td>97</td>\n",
       "    </tr>\n",
       "    <tr>\n",
       "      <th>142</th>\n",
       "      <td>railroad_km</td>\n",
       "      <td>92</td>\n",
       "    </tr>\n",
       "    <tr>\n",
       "      <th>112</th>\n",
       "      <td>month</td>\n",
       "      <td>88</td>\n",
       "    </tr>\n",
       "    <tr>\n",
       "      <th>22</th>\n",
       "      <td>room_size</td>\n",
       "      <td>86</td>\n",
       "    </tr>\n",
       "    <tr>\n",
       "      <th>26</th>\n",
       "      <td>industrial_km</td>\n",
       "      <td>79</td>\n",
       "    </tr>\n",
       "    <tr>\n",
       "      <th>225</th>\n",
       "      <td>green_zone_km</td>\n",
       "      <td>75</td>\n",
       "    </tr>\n",
       "    <tr>\n",
       "      <th>276</th>\n",
       "      <td>water_km</td>\n",
       "      <td>75</td>\n",
       "    </tr>\n",
       "    <tr>\n",
       "      <th>183</th>\n",
       "      <td>radiation_km</td>\n",
       "      <td>74</td>\n",
       "    </tr>\n",
       "    <tr>\n",
       "      <th>268</th>\n",
       "      <td>ttk_km</td>\n",
       "      <td>71</td>\n",
       "    </tr>\n",
       "    <tr>\n",
       "      <th>17</th>\n",
       "      <td>mosque_km</td>\n",
       "      <td>71</td>\n",
       "    </tr>\n",
       "    <tr>\n",
       "      <th>149</th>\n",
       "      <td>workplaces_km</td>\n",
       "      <td>70</td>\n",
       "    </tr>\n",
       "    <tr>\n",
       "      <th>258</th>\n",
       "      <td>sub_area</td>\n",
       "      <td>68</td>\n",
       "    </tr>\n",
       "    <tr>\n",
       "      <th>196</th>\n",
       "      <td>public_healthcare_km</td>\n",
       "      <td>68</td>\n",
       "    </tr>\n",
       "    <tr>\n",
       "      <th>154</th>\n",
       "      <td>fitness_km</td>\n",
       "      <td>67</td>\n",
       "    </tr>\n",
       "    <tr>\n",
       "      <th>122</th>\n",
       "      <td>hospice_morgue_km</td>\n",
       "      <td>62</td>\n",
       "    </tr>\n",
       "    <tr>\n",
       "      <th>8</th>\n",
       "      <td>theater_km</td>\n",
       "      <td>61</td>\n",
       "    </tr>\n",
       "    <tr>\n",
       "      <th>77</th>\n",
       "      <td>additional_education_km</td>\n",
       "      <td>61</td>\n",
       "    </tr>\n",
       "    <tr>\n",
       "      <th>237</th>\n",
       "      <td>swim_pool_km</td>\n",
       "      <td>60</td>\n",
       "    </tr>\n",
       "    <tr>\n",
       "      <th>...</th>\n",
       "      <td>...</td>\n",
       "      <td>...</td>\n",
       "    </tr>\n",
       "    <tr>\n",
       "      <th>184</th>\n",
       "      <td>0_6_male</td>\n",
       "      <td>4</td>\n",
       "    </tr>\n",
       "    <tr>\n",
       "      <th>269</th>\n",
       "      <td>16_29_female</td>\n",
       "      <td>4</td>\n",
       "    </tr>\n",
       "    <tr>\n",
       "      <th>80</th>\n",
       "      <td>cafe_count_2000_price_high</td>\n",
       "      <td>3</td>\n",
       "    </tr>\n",
       "    <tr>\n",
       "      <th>157</th>\n",
       "      <td>leisure_count_1000</td>\n",
       "      <td>3</td>\n",
       "    </tr>\n",
       "    <tr>\n",
       "      <th>271</th>\n",
       "      <td>church_count_500</td>\n",
       "      <td>3</td>\n",
       "    </tr>\n",
       "    <tr>\n",
       "      <th>265</th>\n",
       "      <td>16_29_all</td>\n",
       "      <td>3</td>\n",
       "    </tr>\n",
       "    <tr>\n",
       "      <th>197</th>\n",
       "      <td>market_count_3000</td>\n",
       "      <td>3</td>\n",
       "    </tr>\n",
       "    <tr>\n",
       "      <th>253</th>\n",
       "      <td>build_count_frame</td>\n",
       "      <td>3</td>\n",
       "    </tr>\n",
       "    <tr>\n",
       "      <th>30</th>\n",
       "      <td>leisure_count_5000</td>\n",
       "      <td>3</td>\n",
       "    </tr>\n",
       "    <tr>\n",
       "      <th>62</th>\n",
       "      <td>16_29_male</td>\n",
       "      <td>3</td>\n",
       "    </tr>\n",
       "    <tr>\n",
       "      <th>145</th>\n",
       "      <td>big_church_count_1000</td>\n",
       "      <td>3</td>\n",
       "    </tr>\n",
       "    <tr>\n",
       "      <th>70</th>\n",
       "      <td>big_church_count_5000</td>\n",
       "      <td>3</td>\n",
       "    </tr>\n",
       "    <tr>\n",
       "      <th>169</th>\n",
       "      <td>market_count_500</td>\n",
       "      <td>3</td>\n",
       "    </tr>\n",
       "    <tr>\n",
       "      <th>239</th>\n",
       "      <td>detention_facility_raion</td>\n",
       "      <td>2</td>\n",
       "    </tr>\n",
       "    <tr>\n",
       "      <th>171</th>\n",
       "      <td>female_f</td>\n",
       "      <td>2</td>\n",
       "    </tr>\n",
       "    <tr>\n",
       "      <th>91</th>\n",
       "      <td>work_male</td>\n",
       "      <td>2</td>\n",
       "    </tr>\n",
       "    <tr>\n",
       "      <th>160</th>\n",
       "      <td>water_1line</td>\n",
       "      <td>2</td>\n",
       "    </tr>\n",
       "    <tr>\n",
       "      <th>131</th>\n",
       "      <td>ecology</td>\n",
       "      <td>2</td>\n",
       "    </tr>\n",
       "    <tr>\n",
       "      <th>36</th>\n",
       "      <td>big_church_count_2000</td>\n",
       "      <td>2</td>\n",
       "    </tr>\n",
       "    <tr>\n",
       "      <th>236</th>\n",
       "      <td>cafe_count_500_price_4000</td>\n",
       "      <td>2</td>\n",
       "    </tr>\n",
       "    <tr>\n",
       "      <th>130</th>\n",
       "      <td>big_road1_1line</td>\n",
       "      <td>1</td>\n",
       "    </tr>\n",
       "    <tr>\n",
       "      <th>40</th>\n",
       "      <td>thermal_power_plant_raion</td>\n",
       "      <td>1</td>\n",
       "    </tr>\n",
       "    <tr>\n",
       "      <th>168</th>\n",
       "      <td>work_female</td>\n",
       "      <td>1</td>\n",
       "    </tr>\n",
       "    <tr>\n",
       "      <th>245</th>\n",
       "      <td>radiation_raion</td>\n",
       "      <td>1</td>\n",
       "    </tr>\n",
       "    <tr>\n",
       "      <th>92</th>\n",
       "      <td>7_14_all</td>\n",
       "      <td>1</td>\n",
       "    </tr>\n",
       "    <tr>\n",
       "      <th>85</th>\n",
       "      <td>university_top_20_raion</td>\n",
       "      <td>1</td>\n",
       "    </tr>\n",
       "    <tr>\n",
       "      <th>192</th>\n",
       "      <td>ekder_female</td>\n",
       "      <td>1</td>\n",
       "    </tr>\n",
       "    <tr>\n",
       "      <th>249</th>\n",
       "      <td>culture_objects_top_25_raion</td>\n",
       "      <td>1</td>\n",
       "    </tr>\n",
       "    <tr>\n",
       "      <th>151</th>\n",
       "      <td>0_17_male</td>\n",
       "      <td>1</td>\n",
       "    </tr>\n",
       "    <tr>\n",
       "      <th>53</th>\n",
       "      <td>build_count_mix</td>\n",
       "      <td>1</td>\n",
       "    </tr>\n",
       "  </tbody>\n",
       "</table>\n",
       "<p>278 rows × 2 columns</p>\n",
       "</div>"
      ],
      "text/plain": [
       "                          Feature  Score\n",
       "13                        full_sq   1127\n",
       "209                       life_sq    446\n",
       "16                          floor    273\n",
       "44                     build_year    254\n",
       "121                     max_floor    201\n",
       "191                month_year_cnt    171\n",
       "105                 week_year_cnt    119\n",
       "182                     rel_floor    118\n",
       "61                       kitch_sq    118\n",
       "141                  rel_kitch_sq    117\n",
       "102                      num_room    101\n",
       "7                           state     99\n",
       "104               kindergarten_km     97\n",
       "142                   railroad_km     92\n",
       "112                         month     88\n",
       "22                      room_size     86\n",
       "26                  industrial_km     79\n",
       "225                 green_zone_km     75\n",
       "276                      water_km     75\n",
       "183                  radiation_km     74\n",
       "268                        ttk_km     71\n",
       "17                      mosque_km     71\n",
       "149                 workplaces_km     70\n",
       "258                      sub_area     68\n",
       "196          public_healthcare_km     68\n",
       "154                    fitness_km     67\n",
       "122             hospice_morgue_km     62\n",
       "8                      theater_km     61\n",
       "77        additional_education_km     61\n",
       "237                  swim_pool_km     60\n",
       "..                            ...    ...\n",
       "184                      0_6_male      4\n",
       "269                  16_29_female      4\n",
       "80     cafe_count_2000_price_high      3\n",
       "157            leisure_count_1000      3\n",
       "271              church_count_500      3\n",
       "265                     16_29_all      3\n",
       "197             market_count_3000      3\n",
       "253             build_count_frame      3\n",
       "30             leisure_count_5000      3\n",
       "62                     16_29_male      3\n",
       "145         big_church_count_1000      3\n",
       "70          big_church_count_5000      3\n",
       "169              market_count_500      3\n",
       "239      detention_facility_raion      2\n",
       "171                      female_f      2\n",
       "91                      work_male      2\n",
       "160                   water_1line      2\n",
       "131                       ecology      2\n",
       "36          big_church_count_2000      2\n",
       "236     cafe_count_500_price_4000      2\n",
       "130               big_road1_1line      1\n",
       "40      thermal_power_plant_raion      1\n",
       "168                   work_female      1\n",
       "245               radiation_raion      1\n",
       "92                       7_14_all      1\n",
       "85        university_top_20_raion      1\n",
       "192                  ekder_female      1\n",
       "249  culture_objects_top_25_raion      1\n",
       "151                     0_17_male      1\n",
       "53                build_count_mix      1\n",
       "\n",
       "[278 rows x 2 columns]"
      ]
     },
     "execution_count": 29,
     "metadata": {},
     "output_type": "execute_result"
    }
   ],
   "source": [
    "feature_importance"
   ]
  },
  {
   "cell_type": "markdown",
   "metadata": {},
   "source": [
    "## Build three feature sets"
   ]
  },
  {
   "cell_type": "code",
   "execution_count": 41,
   "metadata": {},
   "outputs": [
    {
     "name": "stdout",
     "output_type": "stream",
     "text": [
      "(16, 2)\n"
     ]
    }
   ],
   "source": [
    "first_tier_feature = feature_importance[feature_importance['Score']>=80]\n",
    "print(first_tier_feature.shape)"
   ]
  },
  {
   "cell_type": "code",
   "execution_count": 42,
   "metadata": {},
   "outputs": [
    {
     "name": "stdout",
     "output_type": "stream",
     "text": [
      "(84, 2)\n"
     ]
    }
   ],
   "source": [
    "second_tier_feature = feature_importance.loc[(feature_importance[\"Score\"] >= 30) & (feature_importance[\"Score\"] <80),]\n",
    "print(second_tier_feature.shape)"
   ]
  },
  {
   "cell_type": "code",
   "execution_count": 44,
   "metadata": {},
   "outputs": [
    {
     "name": "stdout",
     "output_type": "stream",
     "text": [
      "(178, 2)\n"
     ]
    }
   ],
   "source": [
    "third_tier_feature = feature_importance[feature_importance['Score']<30]\n",
    "print(third_tier_feature.shape)"
   ]
  },
  {
   "cell_type": "markdown",
   "metadata": {},
   "source": [
    "**First-tier features are divided into three groups based on the following criteria: Need to have a sq_feature, a time feature, a house-state feature and a geographical features in each sub-group. Try to balance the total feature importance in first tier features.**"
   ]
  },
  {
   "cell_type": "code",
   "execution_count": 62,
   "metadata": {},
   "outputs": [
    {
     "data": {
      "text/html": [
       "<div>\n",
       "<table border=\"1\" class=\"dataframe\">\n",
       "  <thead>\n",
       "    <tr style=\"text-align: right;\">\n",
       "      <th></th>\n",
       "      <th>Feature</th>\n",
       "      <th>Score</th>\n",
       "    </tr>\n",
       "  </thead>\n",
       "  <tbody>\n",
       "    <tr>\n",
       "      <th>13</th>\n",
       "      <td>full_sq</td>\n",
       "      <td>1127</td>\n",
       "    </tr>\n",
       "    <tr>\n",
       "      <th>209</th>\n",
       "      <td>life_sq</td>\n",
       "      <td>446</td>\n",
       "    </tr>\n",
       "    <tr>\n",
       "      <th>16</th>\n",
       "      <td>floor</td>\n",
       "      <td>273</td>\n",
       "    </tr>\n",
       "    <tr>\n",
       "      <th>44</th>\n",
       "      <td>build_year</td>\n",
       "      <td>254</td>\n",
       "    </tr>\n",
       "    <tr>\n",
       "      <th>121</th>\n",
       "      <td>max_floor</td>\n",
       "      <td>201</td>\n",
       "    </tr>\n",
       "    <tr>\n",
       "      <th>191</th>\n",
       "      <td>month_year_cnt</td>\n",
       "      <td>171</td>\n",
       "    </tr>\n",
       "    <tr>\n",
       "      <th>105</th>\n",
       "      <td>week_year_cnt</td>\n",
       "      <td>119</td>\n",
       "    </tr>\n",
       "    <tr>\n",
       "      <th>182</th>\n",
       "      <td>rel_floor</td>\n",
       "      <td>118</td>\n",
       "    </tr>\n",
       "    <tr>\n",
       "      <th>61</th>\n",
       "      <td>kitch_sq</td>\n",
       "      <td>118</td>\n",
       "    </tr>\n",
       "    <tr>\n",
       "      <th>141</th>\n",
       "      <td>rel_kitch_sq</td>\n",
       "      <td>117</td>\n",
       "    </tr>\n",
       "    <tr>\n",
       "      <th>102</th>\n",
       "      <td>num_room</td>\n",
       "      <td>101</td>\n",
       "    </tr>\n",
       "    <tr>\n",
       "      <th>7</th>\n",
       "      <td>state</td>\n",
       "      <td>99</td>\n",
       "    </tr>\n",
       "    <tr>\n",
       "      <th>104</th>\n",
       "      <td>kindergarten_km</td>\n",
       "      <td>97</td>\n",
       "    </tr>\n",
       "    <tr>\n",
       "      <th>142</th>\n",
       "      <td>railroad_km</td>\n",
       "      <td>92</td>\n",
       "    </tr>\n",
       "    <tr>\n",
       "      <th>112</th>\n",
       "      <td>month</td>\n",
       "      <td>88</td>\n",
       "    </tr>\n",
       "    <tr>\n",
       "      <th>22</th>\n",
       "      <td>room_size</td>\n",
       "      <td>86</td>\n",
       "    </tr>\n",
       "  </tbody>\n",
       "</table>\n",
       "</div>"
      ],
      "text/plain": [
       "             Feature  Score\n",
       "13           full_sq   1127\n",
       "209          life_sq    446\n",
       "16             floor    273\n",
       "44        build_year    254\n",
       "121        max_floor    201\n",
       "191   month_year_cnt    171\n",
       "105    week_year_cnt    119\n",
       "182        rel_floor    118\n",
       "61          kitch_sq    118\n",
       "141     rel_kitch_sq    117\n",
       "102         num_room    101\n",
       "7              state     99\n",
       "104  kindergarten_km     97\n",
       "142      railroad_km     92\n",
       "112            month     88\n",
       "22         room_size     86"
      ]
     },
     "execution_count": 62,
     "metadata": {},
     "output_type": "execute_result"
    }
   ],
   "source": [
    "first_tier_feature"
   ]
  },
  {
   "cell_type": "code",
   "execution_count": 85,
   "metadata": {
    "collapsed": true
   },
   "outputs": [],
   "source": [
    "first_tier_group1 = ['full_sq','railroad_km','month','room_size']\n",
    "first_tier_group2 = ['life_sq','week_year_cnt','max_floor','state','kindergarten_km','kitch_sq']\n",
    "first_tier_group3 = [each for each in first_tier_feature['Feature'] if each not in first_tier_group1+first_tier_group2]"
   ]
  },
  {
   "cell_type": "code",
   "execution_count": 86,
   "metadata": {},
   "outputs": [
    {
     "name": "stdout",
     "output_type": "stream",
     "text": [
      "1393\n",
      "1080\n",
      "1034\n"
     ]
    }
   ],
   "source": [
    "print(sum(first_tier_feature[first_tier_feature['Feature'].isin(first_tier_group1)]['Score']))\n",
    "print(sum(first_tier_feature[first_tier_feature['Feature'].isin(first_tier_group2)]['Score']))\n",
    "print(sum(first_tier_feature[first_tier_feature['Feature'].isin(first_tier_group3)]['Score']))"
   ]
  },
  {
   "cell_type": "markdown",
   "metadata": {},
   "source": [
    "**Second and third features are always telling similar stories. Therefore, we just divide them by making sure the feature importances are balanced.**"
   ]
  },
  {
   "cell_type": "code",
   "execution_count": 99,
   "metadata": {},
   "outputs": [
    {
     "name": "stderr",
     "output_type": "stream",
     "text": [
      "/home/jiashen/env3/lib/python3.5/site-packages/ipykernel_launcher.py:8: SettingWithCopyWarning: \n",
      "A value is trying to be set on a copy of a slice from a DataFrame.\n",
      "Try using .loc[row_indexer,col_indexer] = value instead\n",
      "\n",
      "See the caveats in the documentation: http://pandas.pydata.org/pandas-docs/stable/indexing.html#indexing-view-versus-copy\n",
      "  \n"
     ]
    }
   ],
   "source": [
    "Cum_score = []\n",
    "for i in range(len(second_tier_feature)):\n",
    "    if i ==0:\n",
    "        Cum_score.append(list(second_tier_feature['Score'])[i])\n",
    "    else:\n",
    "        Cum_score.append(list(second_tier_feature['Score'])[i]+Cum_score[i-1])\n",
    "Percentile = Cum_score/sum(second_tier_feature['Score'])\n",
    "second_tier_feature['Percentile'] = Percentile\n",
    "second_tier_feature = second_tier_feature.reset_index(drop=True)"
   ]
  },
  {
   "cell_type": "code",
   "execution_count": 130,
   "metadata": {},
   "outputs": [],
   "source": [
    "second_tier_group1 = list(second_tier_feature['Feature'])[:20]\n",
    "second_tier_group2 = list(second_tier_feature['Feature'])[20:48]\n",
    "second_tier_group3 = list(second_tier_feature['Feature'])[48:]"
   ]
  },
  {
   "cell_type": "markdown",
   "metadata": {},
   "source": [
    "**Same thing for third tier**"
   ]
  },
  {
   "cell_type": "code",
   "execution_count": 115,
   "metadata": {},
   "outputs": [
    {
     "name": "stderr",
     "output_type": "stream",
     "text": [
      "/home/jiashen/env3/lib/python3.5/site-packages/ipykernel_launcher.py:8: SettingWithCopyWarning: \n",
      "A value is trying to be set on a copy of a slice from a DataFrame.\n",
      "Try using .loc[row_indexer,col_indexer] = value instead\n",
      "\n",
      "See the caveats in the documentation: http://pandas.pydata.org/pandas-docs/stable/indexing.html#indexing-view-versus-copy\n",
      "  \n"
     ]
    }
   ],
   "source": [
    "Cum_score = []\n",
    "for i in range(len(third_tier_feature)):\n",
    "    if i ==0:\n",
    "        Cum_score.append(list(third_tier_feature['Score'])[i])\n",
    "    else:\n",
    "        Cum_score.append(list(third_tier_feature['Score'])[i]+Cum_score[i-1])\n",
    "Percentile = Cum_score/sum(third_tier_feature['Score'])\n",
    "third_tier_feature['Percentile'] = Percentile\n",
    "third_tier_feature = third_tier_feature.reset_index(drop=True)"
   ]
  },
  {
   "cell_type": "code",
   "execution_count": 121,
   "metadata": {},
   "outputs": [],
   "source": [
    "third_tier_group1 = list(third_tier_feature['Feature'])[:28]\n",
    "third_tier_group2 = list(third_tier_feature['Feature'])[28:72]\n",
    "third_tier_group3 = list(third_tier_feature['Feature'])[72:]"
   ]
  },
  {
   "cell_type": "markdown",
   "metadata": {},
   "source": [
    "**Put Features Together**"
   ]
  },
  {
   "cell_type": "code",
   "execution_count": 131,
   "metadata": {},
   "outputs": [],
   "source": [
    "Group1 = first_tier_group1 + second_tier_group1 + third_tier_group1\n",
    "Group2 = first_tier_group2 + second_tier_group2 + third_tier_group2\n",
    "Group3 = first_tier_group3 + second_tier_group3 + third_tier_group3"
   ]
  },
  {
   "cell_type": "markdown",
   "metadata": {},
   "source": [
    "**Now we can start building three models on different groups of features.**"
   ]
  },
  {
   "cell_type": "markdown",
   "metadata": {},
   "source": [
    "## xgboost on Group 1"
   ]
  },
  {
   "cell_type": "code",
   "execution_count": 157,
   "metadata": {},
   "outputs": [],
   "source": [
    "train_group1 = train[Group1]\n",
    "label = train['price_doc']*0.96+10"
   ]
  },
  {
   "cell_type": "code",
   "execution_count": 243,
   "metadata": {
    "collapsed": true
   },
   "outputs": [],
   "source": [
    "dtrain1 = xgb.DMatrix(train_group1,label)\n",
    "dtest1 = xgb.DMatrix(test[Group1])"
   ]
  },
  {
   "cell_type": "code",
   "execution_count": 244,
   "metadata": {
    "collapsed": true
   },
   "outputs": [],
   "source": [
    "params_xgb = {\n",
    "    'eta': 0.05, ## Try 0.01,3,5\n",
    "    'max_depth': 5,## Try 4,5,6\n",
    "    'subsample': 0.7,\n",
    "    'colsample_bytree': 0.7,\n",
    "    'objective': 'reg:linear',\n",
    "    'eval_metric': 'rmse',\n",
    "    'silent': 1\n",
    "}"
   ]
  },
  {
   "cell_type": "code",
   "execution_count": 160,
   "metadata": {},
   "outputs": [
    {
     "name": "stdout",
     "output_type": "stream",
     "text": [
      "[0]\ttrain-rmse:7.92219e+06+47021.3\ttest-rmse:7.92467e+06+97026.8\n",
      "[50]\ttrain-rmse:2.5238e+06+29801.5\ttest-rmse:2.83103e+06+73956.8\n",
      "[100]\ttrain-rmse:2.20615e+06+25044.3\ttest-rmse:2.66751e+06+74886.1\n",
      "[150]\ttrain-rmse:2.10578e+06+22213.6\ttest-rmse:2.64747e+06+77206.6\n",
      "[200]\ttrain-rmse:2.02956e+06+15558.8\ttest-rmse:2.64076e+06+77908.7\n",
      "[250]\ttrain-rmse:1.96551e+06+14072.6\ttest-rmse:2.63723e+06+77158.5\n",
      "[300]\ttrain-rmse:1.90797e+06+10071.2\ttest-rmse:2.63367e+06+76589.1\n",
      "Performance does not improve from 307 rounds\n"
     ]
    },
    {
     "data": {
      "image/png": "[encoded data removed]",
      "text/plain": [
       "<matplotlib.figure.Figure at 0x7f08ede78f28>"
      ]
     },
     "metadata": {},
     "output_type": "display_data"
    }
   ],
   "source": [
    "xgb_cvalid = xgb.cv(params_xgb, dtrain1, num_boost_round=1000, early_stopping_rounds=20,\n",
    "    verbose_eval=50, show_stdv=True,seed=42)\n",
    "xgb_cvalid[['train-rmse-mean', 'test-rmse-mean']].plot()\n",
    "print('Performance does not improve from '+str(len(xgb_cvalid))+' rounds')"
   ]
  },
  {
   "cell_type": "code",
   "execution_count": 245,
   "metadata": {
    "collapsed": true
   },
   "outputs": [],
   "source": [
    "model1 = xgb.train(params_xgb,dtrain1,num_boost_round=307)"
   ]
  },
  {
   "cell_type": "code",
   "execution_count": 162,
   "metadata": {},
   "outputs": [
    {
     "data": {
      "text/plain": [
       "<matplotlib.figure.Figure at 0x7f08edb750b8>"
      ]
     },
     "metadata": {},
     "output_type": "display_data"
    },
    {
     "data": {
      "image/png": "[encoded data removed]",
      "text/plain": [
       "<matplotlib.figure.Figure at 0x7f08edd3f240>"
      ]
     },
     "metadata": {},
     "output_type": "display_data"
    }
   ],
   "source": [
    "import matplotlib.pyplot as plt\n",
    "plot_importance(model1)"
   ]
  },
  {
   "cell_type": "code",
   "execution_count": 246,
   "metadata": {
    "collapsed": true
   },
   "outputs": [],
   "source": [
    "xgb_feature = model1.predict(dtrain1)\n",
    "xgb_predict = model1.predict(dtest1)"
   ]
  },
  {
   "cell_type": "markdown",
   "metadata": {},
   "source": [
    "## Random Forest on Group 2"
   ]
  },
  {
   "cell_type": "code",
   "execution_count": 247,
   "metadata": {
    "collapsed": true
   },
   "outputs": [],
   "source": [
    "train_group2 = train[Group2]\n",
    "label = train['price_doc']*0.96+10\n",
    "train_group2 = train_group2.fillna(-999)\n",
    "test_group2 = test[Group2]\n",
    "test_group2 = test_group2.fillna(-999)"
   ]
  },
  {
   "cell_type": "code",
   "execution_count": 177,
   "metadata": {
    "collapsed": true
   },
   "outputs": [],
   "source": [
    "from sklearn.ensemble import RandomForestRegressor\n",
    "from sklearn.metrics import mean_squared_error as MSE"
   ]
  },
  {
   "cell_type": "code",
   "execution_count": 170,
   "metadata": {
    "collapsed": true
   },
   "outputs": [],
   "source": [
    "training = train_group2.iloc[:round(len(train_group2)*0.8),]\n",
    "testing = train_group2.iloc[round(len(train_group2)*0.8):,]"
   ]
  },
  {
   "cell_type": "code",
   "execution_count": 174,
   "metadata": {},
   "outputs": [],
   "source": [
    "label_train = label[:round(len(train_group2)*0.8)]\n",
    "label_test =  label[round(len(train_group2)*0.8):]"
   ]
  },
  {
   "cell_type": "code",
   "execution_count": 193,
   "metadata": {},
   "outputs": [
    {
     "data": {
      "text/plain": [
       "RandomForestRegressor(bootstrap=True, criterion='mse', max_depth=9,\n",
       "           max_features='auto', max_leaf_nodes=None,\n",
       "           min_impurity_split=1e-07, min_samples_leaf=1,\n",
       "           min_samples_split=2, min_weight_fraction_leaf=0.0,\n",
       "           n_estimators=500, n_jobs=-1, oob_score=False, random_state=42,\n",
       "           verbose=0, warm_start=False)"
      ]
     },
     "execution_count": 193,
     "metadata": {},
     "output_type": "execute_result"
    }
   ],
   "source": [
    "reg = RandomForestRegressor(n_estimators= 500,max_features= 'auto',max_depth=8,random_state=42,n_jobs=-1)\n",
    "reg.fit(training,label_train)"
   ]
  },
  {
   "cell_type": "code",
   "execution_count": 194,
   "metadata": {},
   "outputs": [
    {
     "name": "stdout",
     "output_type": "stream",
     "text": [
      "2.27e+06\n",
      "3.29e+06\n"
     ]
    }
   ],
   "source": [
    "intrain_predict = reg.predict(training)\n",
    "outtrain_predict = reg.predict(testing)\n",
    "intrain_RMSE = MSE(intrain_predict,label_train)**0.5\n",
    "outtrain_RMSE = MSE(outtrain_predict,label_test)**0.5\n",
    "print('%.2e' %intrain_RMSE)\n",
    "print('%.2e' %outtrain_RMSE)\n",
    "#RandomForestRegressor(n_estimators= 1000,max_features=0.7,max_depth=5,random_state=42,n_jobs=-1)\n",
    "#3.03e+06\n",
    "#3.74e+06\n",
    "#RandomForestRegressor(n_estimators= 500,max_features=0.7,max_depth=6,random_state=42,n_jobs=-1)\n",
    "#2.80e+06\n",
    "#3.54e+06\n",
    "#RandomForestRegressor(n_estimators= 1000,max_features=0.7,max_depth=6,random_state=42,n_jobs=-1)\n",
    "#2.80e+06\n",
    "#3.55e+06\n",
    "#RandomForestRegressor(n_estimators= 500,max_features= 'auto',max_depth=6,random_state=42,n_jobs=-1)\n",
    "#2.79e+06\n",
    "#3.52e+06\n",
    "#RandomForestRegressor(n_estimators= 500,max_features= 'auto',max_depth=7,random_state=42,n_jobs=-1)\n",
    "#2.59e+06\n",
    "#3.40e+06\n",
    "#RandomForestRegressor(n_estimators= 500,max_features= 'auto',max_depth=8,random_state=42,n_jobs=-1)\n",
    "#2.42e+06\n",
    "#3.33e+06"
   ]
  },
  {
   "cell_type": "code",
   "execution_count": 248,
   "metadata": {},
   "outputs": [
    {
     "data": {
      "text/plain": [
       "RandomForestRegressor(bootstrap=True, criterion='mse', max_depth=8,\n",
       "           max_features='auto', max_leaf_nodes=None,\n",
       "           min_impurity_split=1e-07, min_samples_leaf=1,\n",
       "           min_samples_split=2, min_weight_fraction_leaf=0.0,\n",
       "           n_estimators=500, n_jobs=-1, oob_score=False, random_state=42,\n",
       "           verbose=0, warm_start=False)"
      ]
     },
     "execution_count": 248,
     "metadata": {},
     "output_type": "execute_result"
    }
   ],
   "source": [
    "reg = RandomForestRegressor(n_estimators= 500,max_features= 'auto',max_depth=8,random_state=42,n_jobs=-1)\n",
    "reg.fit(train_group2,label)"
   ]
  },
  {
   "cell_type": "code",
   "execution_count": 249,
   "metadata": {
    "collapsed": true
   },
   "outputs": [],
   "source": [
    "rf_feature = reg.predict(train_group2)\n",
    "rf_predict = reg.predict(test_group2)"
   ]
  },
  {
   "cell_type": "code",
   "execution_count": 199,
   "metadata": {},
   "outputs": [],
   "source": [
    "feature_rf = list(train_group2.columns)\n",
    "feature_imp = list(reg.feature_importances_)"
   ]
  },
  {
   "cell_type": "code",
   "execution_count": 202,
   "metadata": {
    "collapsed": true
   },
   "outputs": [],
   "source": [
    "RF_importance = pd.DataFrame({'feature':feature_rf,'Score':feature_imp}).sort_values(by='Score',ascending=[0])"
   ]
  },
  {
   "cell_type": "code",
   "execution_count": 203,
   "metadata": {},
   "outputs": [
    {
     "data": {
      "text/html": [
       "<div>\n",
       "<table border=\"1\" class=\"dataframe\">\n",
       "  <thead>\n",
       "    <tr style=\"text-align: right;\">\n",
       "      <th></th>\n",
       "      <th>Score</th>\n",
       "      <th>feature</th>\n",
       "    </tr>\n",
       "  </thead>\n",
       "  <tbody>\n",
       "    <tr>\n",
       "      <th>0</th>\n",
       "      <td>0.350421</td>\n",
       "      <td>life_sq</td>\n",
       "    </tr>\n",
       "    <tr>\n",
       "      <th>38</th>\n",
       "      <td>0.114628</td>\n",
       "      <td>cafe_count_3000</td>\n",
       "    </tr>\n",
       "    <tr>\n",
       "      <th>5</th>\n",
       "      <td>0.073601</td>\n",
       "      <td>kitch_sq</td>\n",
       "    </tr>\n",
       "    <tr>\n",
       "      <th>4</th>\n",
       "      <td>0.038677</td>\n",
       "      <td>kindergarten_km</td>\n",
       "    </tr>\n",
       "    <tr>\n",
       "      <th>57</th>\n",
       "      <td>0.027777</td>\n",
       "      <td>cafe_count_3000_price_1500</td>\n",
       "    </tr>\n",
       "    <tr>\n",
       "      <th>46</th>\n",
       "      <td>0.026499</td>\n",
       "      <td>cafe_count_1500_price_2500</td>\n",
       "    </tr>\n",
       "    <tr>\n",
       "      <th>26</th>\n",
       "      <td>0.025118</td>\n",
       "      <td>zd_vokzaly_avto_km</td>\n",
       "    </tr>\n",
       "    <tr>\n",
       "      <th>17</th>\n",
       "      <td>0.019900</td>\n",
       "      <td>nuclear_reactor_km</td>\n",
       "    </tr>\n",
       "    <tr>\n",
       "      <th>15</th>\n",
       "      <td>0.016961</td>\n",
       "      <td>university_km</td>\n",
       "    </tr>\n",
       "    <tr>\n",
       "      <th>3</th>\n",
       "      <td>0.015584</td>\n",
       "      <td>state</td>\n",
       "    </tr>\n",
       "    <tr>\n",
       "      <th>7</th>\n",
       "      <td>0.011165</td>\n",
       "      <td>catering_km</td>\n",
       "    </tr>\n",
       "    <tr>\n",
       "      <th>43</th>\n",
       "      <td>0.010549</td>\n",
       "      <td>cafe_sum_2000_max_price_avg</td>\n",
       "    </tr>\n",
       "    <tr>\n",
       "      <th>1</th>\n",
       "      <td>0.010171</td>\n",
       "      <td>week_year_cnt</td>\n",
       "    </tr>\n",
       "    <tr>\n",
       "      <th>10</th>\n",
       "      <td>0.008790</td>\n",
       "      <td>stadium_km</td>\n",
       "    </tr>\n",
       "    <tr>\n",
       "      <th>2</th>\n",
       "      <td>0.008657</td>\n",
       "      <td>max_floor</td>\n",
       "    </tr>\n",
       "    <tr>\n",
       "      <th>23</th>\n",
       "      <td>0.008598</td>\n",
       "      <td>green_part_1000</td>\n",
       "    </tr>\n",
       "    <tr>\n",
       "      <th>71</th>\n",
       "      <td>0.008248</td>\n",
       "      <td>cafe_count_5000_na_price</td>\n",
       "    </tr>\n",
       "    <tr>\n",
       "      <th>34</th>\n",
       "      <td>0.008014</td>\n",
       "      <td>public_transport_station_min_walk</td>\n",
       "    </tr>\n",
       "    <tr>\n",
       "      <th>20</th>\n",
       "      <td>0.007716</td>\n",
       "      <td>ID_metro</td>\n",
       "    </tr>\n",
       "    <tr>\n",
       "      <th>19</th>\n",
       "      <td>0.006936</td>\n",
       "      <td>indust_part</td>\n",
       "    </tr>\n",
       "    <tr>\n",
       "      <th>36</th>\n",
       "      <td>0.006884</td>\n",
       "      <td>sport_objects_raion</td>\n",
       "    </tr>\n",
       "    <tr>\n",
       "      <th>51</th>\n",
       "      <td>0.006835</td>\n",
       "      <td>raion_build_count_with_material_info</td>\n",
       "    </tr>\n",
       "    <tr>\n",
       "      <th>12</th>\n",
       "      <td>0.006640</td>\n",
       "      <td>market_shop_km</td>\n",
       "    </tr>\n",
       "    <tr>\n",
       "      <th>40</th>\n",
       "      <td>0.006577</td>\n",
       "      <td>cafe_count_3000_price_1000</td>\n",
       "    </tr>\n",
       "    <tr>\n",
       "      <th>6</th>\n",
       "      <td>0.006575</td>\n",
       "      <td>big_road1_km</td>\n",
       "    </tr>\n",
       "    <tr>\n",
       "      <th>54</th>\n",
       "      <td>0.006463</td>\n",
       "      <td>cafe_count_3000_price_4000</td>\n",
       "    </tr>\n",
       "    <tr>\n",
       "      <th>30</th>\n",
       "      <td>0.006154</td>\n",
       "      <td>prom_part_5000</td>\n",
       "    </tr>\n",
       "    <tr>\n",
       "      <th>18</th>\n",
       "      <td>0.005943</td>\n",
       "      <td>big_church_km</td>\n",
       "    </tr>\n",
       "    <tr>\n",
       "      <th>24</th>\n",
       "      <td>0.005610</td>\n",
       "      <td>thermal_power_plant_km</td>\n",
       "    </tr>\n",
       "    <tr>\n",
       "      <th>13</th>\n",
       "      <td>0.005515</td>\n",
       "      <td>park_km</td>\n",
       "    </tr>\n",
       "    <tr>\n",
       "      <th>...</th>\n",
       "      <td>...</td>\n",
       "      <td>...</td>\n",
       "    </tr>\n",
       "    <tr>\n",
       "      <th>21</th>\n",
       "      <td>0.003159</td>\n",
       "      <td>metro_min_avto</td>\n",
       "    </tr>\n",
       "    <tr>\n",
       "      <th>55</th>\n",
       "      <td>0.002992</td>\n",
       "      <td>church_count_3000</td>\n",
       "    </tr>\n",
       "    <tr>\n",
       "      <th>49</th>\n",
       "      <td>0.002990</td>\n",
       "      <td>cafe_avg_price_1000</td>\n",
       "    </tr>\n",
       "    <tr>\n",
       "      <th>60</th>\n",
       "      <td>0.002941</td>\n",
       "      <td>trc_count_2000</td>\n",
       "    </tr>\n",
       "    <tr>\n",
       "      <th>68</th>\n",
       "      <td>0.002910</td>\n",
       "      <td>cafe_count_3000_price_high</td>\n",
       "    </tr>\n",
       "    <tr>\n",
       "      <th>41</th>\n",
       "      <td>0.002871</td>\n",
       "      <td>cafe_count_1000_price_2500</td>\n",
       "    </tr>\n",
       "    <tr>\n",
       "      <th>66</th>\n",
       "      <td>0.002861</td>\n",
       "      <td>cafe_count_500</td>\n",
       "    </tr>\n",
       "    <tr>\n",
       "      <th>48</th>\n",
       "      <td>0.002701</td>\n",
       "      <td>cafe_count_1000_price_1500</td>\n",
       "    </tr>\n",
       "    <tr>\n",
       "      <th>11</th>\n",
       "      <td>0.002611</td>\n",
       "      <td>office_km</td>\n",
       "    </tr>\n",
       "    <tr>\n",
       "      <th>14</th>\n",
       "      <td>0.002555</td>\n",
       "      <td>dow</td>\n",
       "    </tr>\n",
       "    <tr>\n",
       "      <th>74</th>\n",
       "      <td>0.002553</td>\n",
       "      <td>cafe_count_1500_price_1500</td>\n",
       "    </tr>\n",
       "    <tr>\n",
       "      <th>39</th>\n",
       "      <td>0.002495</td>\n",
       "      <td>trc_count_1500</td>\n",
       "    </tr>\n",
       "    <tr>\n",
       "      <th>56</th>\n",
       "      <td>0.002405</td>\n",
       "      <td>office_count_1500</td>\n",
       "    </tr>\n",
       "    <tr>\n",
       "      <th>63</th>\n",
       "      <td>0.002384</td>\n",
       "      <td>cafe_count_1500_price_500</td>\n",
       "    </tr>\n",
       "    <tr>\n",
       "      <th>27</th>\n",
       "      <td>0.002274</td>\n",
       "      <td>material</td>\n",
       "    </tr>\n",
       "    <tr>\n",
       "      <th>64</th>\n",
       "      <td>0.002157</td>\n",
       "      <td>office_raion</td>\n",
       "    </tr>\n",
       "    <tr>\n",
       "      <th>28</th>\n",
       "      <td>0.002143</td>\n",
       "      <td>metro_min_walk</td>\n",
       "    </tr>\n",
       "    <tr>\n",
       "      <th>37</th>\n",
       "      <td>0.001858</td>\n",
       "      <td>office_count_1000</td>\n",
       "    </tr>\n",
       "    <tr>\n",
       "      <th>58</th>\n",
       "      <td>0.001846</td>\n",
       "      <td>sport_count_1500</td>\n",
       "    </tr>\n",
       "    <tr>\n",
       "      <th>53</th>\n",
       "      <td>0.001840</td>\n",
       "      <td>cafe_count_1000_price_1000</td>\n",
       "    </tr>\n",
       "    <tr>\n",
       "      <th>61</th>\n",
       "      <td>0.001799</td>\n",
       "      <td>metro_km_walk</td>\n",
       "    </tr>\n",
       "    <tr>\n",
       "      <th>52</th>\n",
       "      <td>0.001455</td>\n",
       "      <td>cafe_count_500_price_2500</td>\n",
       "    </tr>\n",
       "    <tr>\n",
       "      <th>22</th>\n",
       "      <td>0.001347</td>\n",
       "      <td>cafe_sum_500_min_price_avg</td>\n",
       "    </tr>\n",
       "    <tr>\n",
       "      <th>77</th>\n",
       "      <td>0.001341</td>\n",
       "      <td>church_count_1500</td>\n",
       "    </tr>\n",
       "    <tr>\n",
       "      <th>69</th>\n",
       "      <td>0.001339</td>\n",
       "      <td>shopping_centers_raion</td>\n",
       "    </tr>\n",
       "    <tr>\n",
       "      <th>72</th>\n",
       "      <td>0.001317</td>\n",
       "      <td>cafe_count_1000_price_4000</td>\n",
       "    </tr>\n",
       "    <tr>\n",
       "      <th>45</th>\n",
       "      <td>0.001237</td>\n",
       "      <td>cafe_avg_price_500</td>\n",
       "    </tr>\n",
       "    <tr>\n",
       "      <th>70</th>\n",
       "      <td>0.000841</td>\n",
       "      <td>cafe_count_1000_na_price</td>\n",
       "    </tr>\n",
       "    <tr>\n",
       "      <th>62</th>\n",
       "      <td>0.000408</td>\n",
       "      <td>market_count_1500</td>\n",
       "    </tr>\n",
       "    <tr>\n",
       "      <th>47</th>\n",
       "      <td>0.000347</td>\n",
       "      <td>market_count_1000</td>\n",
       "    </tr>\n",
       "  </tbody>\n",
       "</table>\n",
       "<p>78 rows × 2 columns</p>\n",
       "</div>"
      ],
      "text/plain": [
       "       Score                               feature\n",
       "0   0.350421                               life_sq\n",
       "38  0.114628                       cafe_count_3000\n",
       "5   0.073601                              kitch_sq\n",
       "4   0.038677                       kindergarten_km\n",
       "57  0.027777            cafe_count_3000_price_1500\n",
       "46  0.026499            cafe_count_1500_price_2500\n",
       "26  0.025118                    zd_vokzaly_avto_km\n",
       "17  0.019900                    nuclear_reactor_km\n",
       "15  0.016961                         university_km\n",
       "3   0.015584                                 state\n",
       "7   0.011165                           catering_km\n",
       "43  0.010549           cafe_sum_2000_max_price_avg\n",
       "1   0.010171                         week_year_cnt\n",
       "10  0.008790                            stadium_km\n",
       "2   0.008657                             max_floor\n",
       "23  0.008598                       green_part_1000\n",
       "71  0.008248              cafe_count_5000_na_price\n",
       "34  0.008014     public_transport_station_min_walk\n",
       "20  0.007716                              ID_metro\n",
       "19  0.006936                           indust_part\n",
       "36  0.006884                   sport_objects_raion\n",
       "51  0.006835  raion_build_count_with_material_info\n",
       "12  0.006640                        market_shop_km\n",
       "40  0.006577            cafe_count_3000_price_1000\n",
       "6   0.006575                          big_road1_km\n",
       "54  0.006463            cafe_count_3000_price_4000\n",
       "30  0.006154                        prom_part_5000\n",
       "18  0.005943                         big_church_km\n",
       "24  0.005610                thermal_power_plant_km\n",
       "13  0.005515                               park_km\n",
       "..       ...                                   ...\n",
       "21  0.003159                        metro_min_avto\n",
       "55  0.002992                     church_count_3000\n",
       "49  0.002990                   cafe_avg_price_1000\n",
       "60  0.002941                        trc_count_2000\n",
       "68  0.002910            cafe_count_3000_price_high\n",
       "41  0.002871            cafe_count_1000_price_2500\n",
       "66  0.002861                        cafe_count_500\n",
       "48  0.002701            cafe_count_1000_price_1500\n",
       "11  0.002611                             office_km\n",
       "14  0.002555                                   dow\n",
       "74  0.002553            cafe_count_1500_price_1500\n",
       "39  0.002495                        trc_count_1500\n",
       "56  0.002405                     office_count_1500\n",
       "63  0.002384             cafe_count_1500_price_500\n",
       "27  0.002274                              material\n",
       "64  0.002157                          office_raion\n",
       "28  0.002143                        metro_min_walk\n",
       "37  0.001858                     office_count_1000\n",
       "58  0.001846                      sport_count_1500\n",
       "53  0.001840            cafe_count_1000_price_1000\n",
       "61  0.001799                         metro_km_walk\n",
       "52  0.001455             cafe_count_500_price_2500\n",
       "22  0.001347            cafe_sum_500_min_price_avg\n",
       "77  0.001341                     church_count_1500\n",
       "69  0.001339                shopping_centers_raion\n",
       "72  0.001317            cafe_count_1000_price_4000\n",
       "45  0.001237                    cafe_avg_price_500\n",
       "70  0.000841              cafe_count_1000_na_price\n",
       "62  0.000408                     market_count_1500\n",
       "47  0.000347                     market_count_1000\n",
       "\n",
       "[78 rows x 2 columns]"
      ]
     },
     "execution_count": 203,
     "metadata": {},
     "output_type": "execute_result"
    }
   ],
   "source": [
    "RF_importance"
   ]
  },
  {
   "cell_type": "markdown",
   "metadata": {},
   "source": [
    "## Gradient Boosting on Group 3"
   ]
  },
  {
   "cell_type": "code",
   "execution_count": 250,
   "metadata": {
    "collapsed": true
   },
   "outputs": [],
   "source": [
    "train_group3 = train[Group3]\n",
    "label = train['price_doc']*0.96+10\n",
    "train_group3 = train_group3.replace([np.inf, -np.inf], np.nan)\n",
    "train_group3 = train_group3.fillna(-999)\n",
    "test_group3 = test[Group3]\n",
    "test_group3 = test_group3.replace([np.inf, -np.inf], np.nan)\n",
    "test_group3 = test_group3.fillna(-999)"
   ]
  },
  {
   "cell_type": "code",
   "execution_count": 211,
   "metadata": {
    "collapsed": true
   },
   "outputs": [],
   "source": [
    "from sklearn.ensemble import GradientBoostingRegressor"
   ]
  },
  {
   "cell_type": "code",
   "execution_count": 217,
   "metadata": {
    "collapsed": true
   },
   "outputs": [],
   "source": [
    "label_train = label[:round(len(train_group3)*0.8)]\n",
    "label_test =  label[round(len(train_group3)*0.8):]"
   ]
  },
  {
   "cell_type": "code",
   "execution_count": 218,
   "metadata": {
    "collapsed": true
   },
   "outputs": [],
   "source": [
    "training = train_group3.iloc[:round(len(train_group3)*0.8),]\n",
    "testing = train_group3.iloc[round(len(train_group3)*0.8):,]"
   ]
  },
  {
   "cell_type": "code",
   "execution_count": 225,
   "metadata": {},
   "outputs": [
    {
     "data": {
      "text/plain": [
       "GradientBoostingRegressor(alpha=0.9, criterion='friedman_mse', init=None,\n",
       "             learning_rate=0.05, loss='ls', max_depth=6,\n",
       "             max_features='auto', max_leaf_nodes=None,\n",
       "             min_impurity_split=1e-07, min_samples_leaf=1,\n",
       "             min_samples_split=2, min_weight_fraction_leaf=0.0,\n",
       "             n_estimators=800, presort='auto', random_state=None,\n",
       "             subsample=1, verbose=0, warm_start=False)"
      ]
     },
     "execution_count": 225,
     "metadata": {},
     "output_type": "execute_result"
    }
   ],
   "source": [
    "reg = GradientBoostingRegressor(learning_rate=0.05,n_estimators=800,max_depth=6,max_features = 'auto',subsample = 1)\n",
    "reg.fit(training,label_train)"
   ]
  },
  {
   "cell_type": "code",
   "execution_count": 226,
   "metadata": {},
   "outputs": [
    {
     "name": "stdout",
     "output_type": "stream",
     "text": [
      "1.65e+06\n",
      "3.07e+06\n"
     ]
    }
   ],
   "source": [
    "intrain_predict = reg.predict(training)\n",
    "outtrain_predict = reg.predict(testing)\n",
    "intrain_RMSE = MSE(intrain_predict,label_train)**0.5\n",
    "outtrain_RMSE = MSE(outtrain_predict,label_test)**0.5\n",
    "print('%.2e' %intrain_RMSE)\n",
    "print('%.2e' %outtrain_RMSE)\n",
    "#GradientBoostingRegressor(learning_rate=0.05,n_estimators=500,max_depth=5,max_features = 'auto',subsample = 1)\n",
    "#2.13e+06\n",
    "#3.11e+06\n",
    "#GradientBoostingRegressor(learning_rate=0.05,n_estimators=500,max_depth=6,max_features = 'auto',subsample = 1)\n",
    "#1.89e+06\n",
    "#3.08e+06\n",
    "#GradientBoostingRegressor(learning_rate=0.1,n_estimators=500,max_depth=6,max_features = 'auto',subsample = 1)\n",
    "#1.49e+06\n",
    "#3.15e+06\n",
    "#GradientBoostingRegressor(learning_rate=0.05,n_estimators=800,max_depth=6,max_features = 'auto',subsample = 1)\n",
    "#1.65e+06\n",
    "#3.07e+06"
   ]
  },
  {
   "cell_type": "code",
   "execution_count": 227,
   "metadata": {
    "collapsed": true
   },
   "outputs": [],
   "source": [
    "reg = GradientBoostingRegressor(learning_rate=0.05,n_estimators=800,max_depth=6,max_features = 'auto',subsample = 1)"
   ]
  },
  {
   "cell_type": "code",
   "execution_count": 251,
   "metadata": {},
   "outputs": [
    {
     "data": {
      "text/plain": [
       "RandomForestRegressor(bootstrap=True, criterion='mse', max_depth=8,\n",
       "           max_features='auto', max_leaf_nodes=None,\n",
       "           min_impurity_split=1e-07, min_samples_leaf=1,\n",
       "           min_samples_split=2, min_weight_fraction_leaf=0.0,\n",
       "           n_estimators=500, n_jobs=-1, oob_score=False, random_state=42,\n",
       "           verbose=0, warm_start=False)"
      ]
     },
     "execution_count": 251,
     "metadata": {},
     "output_type": "execute_result"
    }
   ],
   "source": [
    "reg.fit(train_group3,label)"
   ]
  },
  {
   "cell_type": "code",
   "execution_count": 252,
   "metadata": {
    "collapsed": true
   },
   "outputs": [],
   "source": [
    "GBM_feature = reg.predict(train_group3)\n",
    "GBM_predict = reg.predict(test_group3)"
   ]
  },
  {
   "cell_type": "code",
   "execution_count": 230,
   "metadata": {
    "collapsed": true
   },
   "outputs": [],
   "source": [
    "feature_GBM = list(train_group3.columns)\n",
    "feature_imp = list(reg.feature_importances_)"
   ]
  },
  {
   "cell_type": "code",
   "execution_count": 231,
   "metadata": {
    "collapsed": true
   },
   "outputs": [],
   "source": [
    "GBM_importance = pd.DataFrame({'feature':feature_GBM,'Score':feature_imp}).sort_values(by='Score',ascending=[0])"
   ]
  },
  {
   "cell_type": "code",
   "execution_count": 232,
   "metadata": {},
   "outputs": [
    {
     "data": {
      "text/html": [
       "<div>\n",
       "<table border=\"1\" class=\"dataframe\">\n",
       "  <thead>\n",
       "    <tr style=\"text-align: right;\">\n",
       "      <th></th>\n",
       "      <th>Score</th>\n",
       "      <th>feature</th>\n",
       "    </tr>\n",
       "  </thead>\n",
       "  <tbody>\n",
       "    <tr>\n",
       "      <th>2</th>\n",
       "      <td>0.053180</td>\n",
       "      <td>month_year_cnt</td>\n",
       "    </tr>\n",
       "    <tr>\n",
       "      <th>0</th>\n",
       "      <td>0.047496</td>\n",
       "      <td>floor</td>\n",
       "    </tr>\n",
       "    <tr>\n",
       "      <th>4</th>\n",
       "      <td>0.040120</td>\n",
       "      <td>rel_kitch_sq</td>\n",
       "    </tr>\n",
       "    <tr>\n",
       "      <th>1</th>\n",
       "      <td>0.035038</td>\n",
       "      <td>build_year</td>\n",
       "    </tr>\n",
       "    <tr>\n",
       "      <th>5</th>\n",
       "      <td>0.034652</td>\n",
       "      <td>num_room</td>\n",
       "    </tr>\n",
       "    <tr>\n",
       "      <th>32</th>\n",
       "      <td>0.028240</td>\n",
       "      <td>big_market_km</td>\n",
       "    </tr>\n",
       "    <tr>\n",
       "      <th>18</th>\n",
       "      <td>0.026197</td>\n",
       "      <td>shopping_centers_km</td>\n",
       "    </tr>\n",
       "    <tr>\n",
       "      <th>3</th>\n",
       "      <td>0.024184</td>\n",
       "      <td>rel_floor</td>\n",
       "    </tr>\n",
       "    <tr>\n",
       "      <th>31</th>\n",
       "      <td>0.022056</td>\n",
       "      <td>apartment_name</td>\n",
       "    </tr>\n",
       "    <tr>\n",
       "      <th>16</th>\n",
       "      <td>0.020171</td>\n",
       "      <td>green_part_500</td>\n",
       "    </tr>\n",
       "    <tr>\n",
       "      <th>9</th>\n",
       "      <td>0.018769</td>\n",
       "      <td>exhibition_km</td>\n",
       "    </tr>\n",
       "    <tr>\n",
       "      <th>24</th>\n",
       "      <td>0.018096</td>\n",
       "      <td>ice_rink_km</td>\n",
       "    </tr>\n",
       "    <tr>\n",
       "      <th>7</th>\n",
       "      <td>0.018004</td>\n",
       "      <td>green_part_1500</td>\n",
       "    </tr>\n",
       "    <tr>\n",
       "      <th>13</th>\n",
       "      <td>0.017914</td>\n",
       "      <td>church_synagogue_km</td>\n",
       "    </tr>\n",
       "    <tr>\n",
       "      <th>12</th>\n",
       "      <td>0.017342</td>\n",
       "      <td>ts_km</td>\n",
       "    </tr>\n",
       "    <tr>\n",
       "      <th>29</th>\n",
       "      <td>0.016692</td>\n",
       "      <td>prom_part_3000</td>\n",
       "    </tr>\n",
       "    <tr>\n",
       "      <th>19</th>\n",
       "      <td>0.015121</td>\n",
       "      <td>green_part_3000</td>\n",
       "    </tr>\n",
       "    <tr>\n",
       "      <th>21</th>\n",
       "      <td>0.015045</td>\n",
       "      <td>incineration_km</td>\n",
       "    </tr>\n",
       "    <tr>\n",
       "      <th>110</th>\n",
       "      <td>0.014837</td>\n",
       "      <td>cafe_avg_price_2000</td>\n",
       "    </tr>\n",
       "    <tr>\n",
       "      <th>10</th>\n",
       "      <td>0.013859</td>\n",
       "      <td>water_treatment_km</td>\n",
       "    </tr>\n",
       "    <tr>\n",
       "      <th>30</th>\n",
       "      <td>0.013772</td>\n",
       "      <td>trc_sqm_5000</td>\n",
       "    </tr>\n",
       "    <tr>\n",
       "      <th>14</th>\n",
       "      <td>0.013696</td>\n",
       "      <td>railroad_station_avto_min</td>\n",
       "    </tr>\n",
       "    <tr>\n",
       "      <th>15</th>\n",
       "      <td>0.013064</td>\n",
       "      <td>cafe_sum_5000_min_price_avg</td>\n",
       "    </tr>\n",
       "    <tr>\n",
       "      <th>28</th>\n",
       "      <td>0.012536</td>\n",
       "      <td>railroad_station_avto_km</td>\n",
       "    </tr>\n",
       "    <tr>\n",
       "      <th>20</th>\n",
       "      <td>0.012501</td>\n",
       "      <td>railroad_station_walk_km</td>\n",
       "    </tr>\n",
       "    <tr>\n",
       "      <th>11</th>\n",
       "      <td>0.011228</td>\n",
       "      <td>mkad_km</td>\n",
       "    </tr>\n",
       "    <tr>\n",
       "      <th>39</th>\n",
       "      <td>0.010506</td>\n",
       "      <td>office_sqm_5000</td>\n",
       "    </tr>\n",
       "    <tr>\n",
       "      <th>61</th>\n",
       "      <td>0.010292</td>\n",
       "      <td>cafe_sum_3000_max_price_avg</td>\n",
       "    </tr>\n",
       "    <tr>\n",
       "      <th>23</th>\n",
       "      <td>0.009788</td>\n",
       "      <td>cafe_count_2000</td>\n",
       "    </tr>\n",
       "    <tr>\n",
       "      <th>34</th>\n",
       "      <td>0.009680</td>\n",
       "      <td>green_part_5000</td>\n",
       "    </tr>\n",
       "    <tr>\n",
       "      <th>...</th>\n",
       "      <td>...</td>\n",
       "      <td>...</td>\n",
       "    </tr>\n",
       "    <tr>\n",
       "      <th>45</th>\n",
       "      <td>0.001387</td>\n",
       "      <td>school_education_centers_raion</td>\n",
       "    </tr>\n",
       "    <tr>\n",
       "      <th>123</th>\n",
       "      <td>0.001265</td>\n",
       "      <td>16_29_all</td>\n",
       "    </tr>\n",
       "    <tr>\n",
       "      <th>105</th>\n",
       "      <td>0.001042</td>\n",
       "      <td>build_count_wood</td>\n",
       "    </tr>\n",
       "    <tr>\n",
       "      <th>85</th>\n",
       "      <td>0.001039</td>\n",
       "      <td>build_count_slag</td>\n",
       "    </tr>\n",
       "    <tr>\n",
       "      <th>67</th>\n",
       "      <td>0.001015</td>\n",
       "      <td>ID_bus_terminal</td>\n",
       "    </tr>\n",
       "    <tr>\n",
       "      <th>120</th>\n",
       "      <td>0.000961</td>\n",
       "      <td>cafe_count_2000_price_high</td>\n",
       "    </tr>\n",
       "    <tr>\n",
       "      <th>143</th>\n",
       "      <td>0.000941</td>\n",
       "      <td>university_top_20_raion</td>\n",
       "    </tr>\n",
       "    <tr>\n",
       "      <th>138</th>\n",
       "      <td>0.000932</td>\n",
       "      <td>big_road1_1line</td>\n",
       "    </tr>\n",
       "    <tr>\n",
       "      <th>103</th>\n",
       "      <td>0.000906</td>\n",
       "      <td>cafe_count_500_price_high</td>\n",
       "    </tr>\n",
       "    <tr>\n",
       "      <th>54</th>\n",
       "      <td>0.000859</td>\n",
       "      <td>preschool_education_centers_raion</td>\n",
       "    </tr>\n",
       "    <tr>\n",
       "      <th>79</th>\n",
       "      <td>0.000825</td>\n",
       "      <td>children_school</td>\n",
       "    </tr>\n",
       "    <tr>\n",
       "      <th>133</th>\n",
       "      <td>0.000817</td>\n",
       "      <td>work_male</td>\n",
       "    </tr>\n",
       "    <tr>\n",
       "      <th>134</th>\n",
       "      <td>0.000806</td>\n",
       "      <td>water_1line</td>\n",
       "    </tr>\n",
       "    <tr>\n",
       "      <th>107</th>\n",
       "      <td>0.000804</td>\n",
       "      <td>big_church_count_500</td>\n",
       "    </tr>\n",
       "    <tr>\n",
       "      <th>141</th>\n",
       "      <td>0.000732</td>\n",
       "      <td>radiation_raion</td>\n",
       "    </tr>\n",
       "    <tr>\n",
       "      <th>100</th>\n",
       "      <td>0.000713</td>\n",
       "      <td>7_14_female</td>\n",
       "    </tr>\n",
       "    <tr>\n",
       "      <th>125</th>\n",
       "      <td>0.000712</td>\n",
       "      <td>build_count_frame</td>\n",
       "    </tr>\n",
       "    <tr>\n",
       "      <th>142</th>\n",
       "      <td>0.000702</td>\n",
       "      <td>7_14_all</td>\n",
       "    </tr>\n",
       "    <tr>\n",
       "      <th>111</th>\n",
       "      <td>0.000681</td>\n",
       "      <td>mosque_count_5000</td>\n",
       "    </tr>\n",
       "    <tr>\n",
       "      <th>145</th>\n",
       "      <td>0.000567</td>\n",
       "      <td>culture_objects_top_25_raion</td>\n",
       "    </tr>\n",
       "    <tr>\n",
       "      <th>146</th>\n",
       "      <td>0.000566</td>\n",
       "      <td>0_17_male</td>\n",
       "    </tr>\n",
       "    <tr>\n",
       "      <th>108</th>\n",
       "      <td>0.000547</td>\n",
       "      <td>ID_railroad_terminal</td>\n",
       "    </tr>\n",
       "    <tr>\n",
       "      <th>139</th>\n",
       "      <td>0.000413</td>\n",
       "      <td>thermal_power_plant_raion</td>\n",
       "    </tr>\n",
       "    <tr>\n",
       "      <th>112</th>\n",
       "      <td>0.000409</td>\n",
       "      <td>work_all</td>\n",
       "    </tr>\n",
       "    <tr>\n",
       "      <th>99</th>\n",
       "      <td>0.000404</td>\n",
       "      <td>young_male</td>\n",
       "    </tr>\n",
       "    <tr>\n",
       "      <th>95</th>\n",
       "      <td>0.000242</td>\n",
       "      <td>culture_objects_top_25</td>\n",
       "    </tr>\n",
       "    <tr>\n",
       "      <th>104</th>\n",
       "      <td>0.000192</td>\n",
       "      <td>railroad_terminal_raion</td>\n",
       "    </tr>\n",
       "    <tr>\n",
       "      <th>131</th>\n",
       "      <td>0.000149</td>\n",
       "      <td>detention_facility_raion</td>\n",
       "    </tr>\n",
       "    <tr>\n",
       "      <th>147</th>\n",
       "      <td>0.000101</td>\n",
       "      <td>build_count_mix</td>\n",
       "    </tr>\n",
       "    <tr>\n",
       "      <th>101</th>\n",
       "      <td>0.000038</td>\n",
       "      <td>big_market_raion</td>\n",
       "    </tr>\n",
       "  </tbody>\n",
       "</table>\n",
       "<p>148 rows × 2 columns</p>\n",
       "</div>"
      ],
      "text/plain": [
       "        Score                            feature\n",
       "2    0.053180                     month_year_cnt\n",
       "0    0.047496                              floor\n",
       "4    0.040120                       rel_kitch_sq\n",
       "1    0.035038                         build_year\n",
       "5    0.034652                           num_room\n",
       "32   0.028240                      big_market_km\n",
       "18   0.026197                shopping_centers_km\n",
       "3    0.024184                          rel_floor\n",
       "31   0.022056                     apartment_name\n",
       "16   0.020171                     green_part_500\n",
       "9    0.018769                      exhibition_km\n",
       "24   0.018096                        ice_rink_km\n",
       "7    0.018004                    green_part_1500\n",
       "13   0.017914                church_synagogue_km\n",
       "12   0.017342                              ts_km\n",
       "29   0.016692                     prom_part_3000\n",
       "19   0.015121                    green_part_3000\n",
       "21   0.015045                    incineration_km\n",
       "110  0.014837                cafe_avg_price_2000\n",
       "10   0.013859                 water_treatment_km\n",
       "30   0.013772                       trc_sqm_5000\n",
       "14   0.013696          railroad_station_avto_min\n",
       "15   0.013064        cafe_sum_5000_min_price_avg\n",
       "28   0.012536           railroad_station_avto_km\n",
       "20   0.012501           railroad_station_walk_km\n",
       "11   0.011228                            mkad_km\n",
       "39   0.010506                    office_sqm_5000\n",
       "61   0.010292        cafe_sum_3000_max_price_avg\n",
       "23   0.009788                    cafe_count_2000\n",
       "34   0.009680                    green_part_5000\n",
       "..        ...                                ...\n",
       "45   0.001387     school_education_centers_raion\n",
       "123  0.001265                          16_29_all\n",
       "105  0.001042                   build_count_wood\n",
       "85   0.001039                   build_count_slag\n",
       "67   0.001015                    ID_bus_terminal\n",
       "120  0.000961         cafe_count_2000_price_high\n",
       "143  0.000941            university_top_20_raion\n",
       "138  0.000932                    big_road1_1line\n",
       "103  0.000906          cafe_count_500_price_high\n",
       "54   0.000859  preschool_education_centers_raion\n",
       "79   0.000825                    children_school\n",
       "133  0.000817                          work_male\n",
       "134  0.000806                        water_1line\n",
       "107  0.000804               big_church_count_500\n",
       "141  0.000732                    radiation_raion\n",
       "100  0.000713                        7_14_female\n",
       "125  0.000712                  build_count_frame\n",
       "142  0.000702                           7_14_all\n",
       "111  0.000681                  mosque_count_5000\n",
       "145  0.000567       culture_objects_top_25_raion\n",
       "146  0.000566                          0_17_male\n",
       "108  0.000547               ID_railroad_terminal\n",
       "139  0.000413          thermal_power_plant_raion\n",
       "112  0.000409                           work_all\n",
       "99   0.000404                         young_male\n",
       "95   0.000242             culture_objects_top_25\n",
       "104  0.000192            railroad_terminal_raion\n",
       "131  0.000149           detention_facility_raion\n",
       "147  0.000101                    build_count_mix\n",
       "101  0.000038                   big_market_raion\n",
       "\n",
       "[148 rows x 2 columns]"
      ]
     },
     "execution_count": 232,
     "metadata": {},
     "output_type": "execute_result"
    }
   ],
   "source": [
    "GBM_importance"
   ]
  },
  {
   "cell_type": "markdown",
   "metadata": {},
   "source": [
    "## Stack results of three models by XGBoost"
   ]
  },
  {
   "cell_type": "code",
   "execution_count": 253,
   "metadata": {
    "collapsed": true
   },
   "outputs": [],
   "source": [
    "stack_features = pd.DataFrame({'Group1':xgb_feature,'Group2':rf_feature,'Group3':GBM_feature})\n",
    "stact_predict = pd.DataFrame({'Group1':xgb_predict,'Group2':rf_predict,'Group3':GBM_predict})"
   ]
  },
  {
   "cell_type": "code",
   "execution_count": 254,
   "metadata": {
    "collapsed": true
   },
   "outputs": [],
   "source": [
    "dtrain_stack = xgb.DMatrix(stack_features,label)\n",
    "dtest_stack = xgb.DMatrix(stact_predict)"
   ]
  },
  {
   "cell_type": "code",
   "execution_count": 240,
   "metadata": {
    "collapsed": true
   },
   "outputs": [],
   "source": [
    "params_stack = {\n",
    "    'eta': 0.05, ## Try 0.01,3,5\n",
    "    'max_depth': 3,## Try 4,5,6\n",
    "    'subsample': 0.5,\n",
    "    'colsample_bytree': 1,\n",
    "    'objective': 'reg:linear',\n",
    "    'eval_metric': 'rmse',\n",
    "    'silent': 1\n",
    "}"
   ]
  },
  {
   "cell_type": "code",
   "execution_count": 241,
   "metadata": {},
   "outputs": [
    {
     "name": "stdout",
     "output_type": "stream",
     "text": [
      "[0]\ttrain-rmse:7.84736e+06+46000.6\ttest-rmse:7.8468e+06+90864.5\n",
      "[50]\ttrain-rmse:1.72347e+06+15146.4\ttest-rmse:1.75164e+06+30959\n",
      "[100]\ttrain-rmse:1.55367e+06+11122.2\ttest-rmse:1.59721e+06+21755.8\n",
      "[150]\ttrain-rmse:1.53093e+06+9486.06\ttest-rmse:1.58583e+06+21195.5\n",
      "[200]\ttrain-rmse:1.51691e+06+9412.05\ttest-rmse:1.58043e+06+18921.1\n",
      "[250]\ttrain-rmse:1.50511e+06+8623.31\ttest-rmse:1.57693e+06+17954.3\n",
      "[300]\ttrain-rmse:1.49418e+06+8230.59\ttest-rmse:1.57391e+06+17534.6\n",
      "[350]\ttrain-rmse:1.48448e+06+7853.24\ttest-rmse:1.57273e+06+17070.3\n",
      "[400]\ttrain-rmse:1.47551e+06+7594.6\ttest-rmse:1.5711e+06+16486.9\n",
      "Performance does not improve from 402 rounds\n"
     ]
    },
    {
     "data": {
      "image/png": "[encoded data removed]",
      "text/plain": [
       "<matplotlib.figure.Figure at 0x7f08ef6dcba8>"
      ]
     },
     "metadata": {},
     "output_type": "display_data"
    }
   ],
   "source": [
    "xgb_cvalid = xgb.cv(params_stack, dtrain_stack, num_boost_round=1000, early_stopping_rounds=20,\n",
    "    verbose_eval=50, show_stdv=True,seed=42)\n",
    "xgb_cvalid[['train-rmse-mean', 'test-rmse-mean']].plot()\n",
    "print('Performance does not improve from '+str(len(xgb_cvalid))+' rounds')"
   ]
  },
  {
   "cell_type": "code",
   "execution_count": 242,
   "metadata": {
    "collapsed": true
   },
   "outputs": [],
   "source": [
    "stack_model = xgb.train(params_stack,dtrain_stack,num_boost_round=len(xgb_cvalid))"
   ]
  },
  {
   "cell_type": "code",
   "execution_count": 255,
   "metadata": {
    "collapsed": true
   },
   "outputs": [],
   "source": [
    "Final_pred = stack_model.predict(dtest_stack)"
   ]
  },
  {
   "cell_type": "code",
   "execution_count": 306,
   "metadata": {},
   "outputs": [],
   "source": [
    "Final_pred_mult =Final_pred*0.9734"
   ]
  },
  {
   "cell_type": "code",
   "execution_count": 307,
   "metadata": {},
   "outputs": [
    {
     "data": {
      "text/plain": [
       "array([ 5259320.5,  8067346.5,  5691758.5, ...,  5128262. ,  5068479.5,\n",
       "        8054352.5], dtype=float32)"
      ]
     },
     "execution_count": 307,
     "metadata": {},
     "output_type": "execute_result"
    }
   ],
   "source": [
    "Final_pred_mult"
   ]
  },
  {
   "cell_type": "markdown",
   "metadata": {},
   "source": [
    "## Check it with LB66 Prediction"
   ]
  },
  {
   "cell_type": "code",
   "execution_count": null,
   "metadata": {
    "collapsed": true
   },
   "outputs": [],
   "source": [
    "LB66 = pd.read_csv('sub.csv')['price_doc']"
   ]
  },
  {
   "cell_type": "code",
   "execution_count": 308,
   "metadata": {
    "collapsed": true
   },
   "outputs": [],
   "source": [
    "def mean_error(line1,line2):\n",
    "    error = [x-y for x,y in zip(line1,line2)]\n",
    "    return np.mean(error)"
   ]
  },
  {
   "cell_type": "code",
   "execution_count": 312,
   "metadata": {
    "collapsed": true
   },
   "outputs": [],
   "source": [
    "def Count_less_values(line1,line2):\n",
    "    lst = [1 if x<y else 0 for x,y in zip(line1,line2)]\n",
    "    return sum(lst)/len(test)"
   ]
  },
  {
   "cell_type": "code",
   "execution_count": 309,
   "metadata": {},
   "outputs": [
    {
     "data": {
      "text/plain": [
       "-167.00427434090315"
      ]
     },
     "execution_count": 309,
     "metadata": {},
     "output_type": "execute_result"
    }
   ],
   "source": [
    "mean_error(list(Final_pred_mult),LB66)"
   ]
  },
  {
   "cell_type": "code",
   "execution_count": 313,
   "metadata": {},
   "outputs": [
    {
     "data": {
      "text/plain": [
       "0.5"
      ]
     },
     "execution_count": 313,
     "metadata": {},
     "output_type": "execute_result"
    }
   ],
   "source": [
    "Count_less_values(list(Final_pred_mult),LB66)"
   ]
  },
  {
   "cell_type": "code",
   "execution_count": 314,
   "metadata": {
    "collapsed": true
   },
   "outputs": [],
   "source": [
    "sub = pd.DataFrame({'id':test['id'],'price_doc':Final_pred_mult})\n",
    "sub.to_csv('StackingRFXGBGBM.csv',index=False)"
   ]
  },
  {
   "cell_type": "code",
   "execution_count": 258,
   "metadata": {
    "collapsed": true
   },
   "outputs": [],
   "source": [
    "LB66 = pd.read_csv('sub.csv')['price_doc']"
   ]
  },
  {
   "cell_type": "code",
   "execution_count": null,
   "metadata": {
    "collapsed": true
   },
   "outputs": [],
   "source": []
  }
 ],
 "metadata": {
  "kernelspec": {
   "display_name": "Python 3",
   "language": "python",
   "name": "python3"
  },
  "language_info": {
   "codemirror_mode": {
    "name": "ipython",
    "version": 3
   },
   "file_extension": ".py",
   "mimetype": "text/x-python",
   "name": "python",
   "nbconvert_exporter": "python",
   "pygments_lexer": "ipython3",
   "version": "3.5.2"
  }
 },
 "nbformat": 4,
 "nbformat_minor": 2
}
