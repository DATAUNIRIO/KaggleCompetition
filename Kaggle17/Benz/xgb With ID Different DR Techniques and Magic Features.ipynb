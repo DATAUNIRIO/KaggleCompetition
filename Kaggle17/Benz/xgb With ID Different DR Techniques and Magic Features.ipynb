{
 "cells": [
  {
   "cell_type": "code",
   "execution_count": 171,
   "metadata": {
    "collapsed": true
   },
   "outputs": [],
   "source": [
    "import warnings\n",
    "warnings.filterwarnings('ignore')"
   ]
  },
  {
   "cell_type": "code",
   "execution_count": 174,
   "metadata": {
    "collapsed": true
   },
   "outputs": [],
   "source": [
    "%run Functions.py"
   ]
  },
  {
   "cell_type": "markdown",
   "metadata": {},
   "source": [
    "## Add ICA, PCA, Random Projections Features, and TruncatedSVD"
   ]
  },
  {
   "cell_type": "code",
   "execution_count": 26,
   "metadata": {
    "collapsed": true
   },
   "outputs": [],
   "source": [
    "train = pd.read_csv('data/train_c.csv')\n",
    "test = pd.read_csv('data/test_c.csv')"
   ]
  },
  {
   "cell_type": "code",
   "execution_count": 65,
   "metadata": {
    "collapsed": true
   },
   "outputs": [],
   "source": [
    "from sklearn.random_projection import GaussianRandomProjection\n",
    "from sklearn.random_projection import SparseRandomProjection\n",
    "from sklearn.decomposition import PCA\n",
    "from sklearn.decomposition import FastICA\n",
    "from sklearn.manifold import TSNE\n",
    "from sklearn.decomposition import TruncatedSVD"
   ]
  },
  {
   "cell_type": "code",
   "execution_count": 29,
   "metadata": {
    "collapsed": true
   },
   "outputs": [],
   "source": [
    "n_comp = 12"
   ]
  },
  {
   "cell_type": "code",
   "execution_count": 30,
   "metadata": {
    "collapsed": true
   },
   "outputs": [],
   "source": [
    "# PCA\n",
    "pca = PCA(n_components=n_comp, random_state=42)\n",
    "pca2_results_train = pca.fit_transform(train.drop([\"y\"], axis=1))\n",
    "pca2_results_test = pca.transform(test)\n",
    "# ICA\n",
    "ica = FastICA(n_components=n_comp, random_state=42)\n",
    "ica2_results_train = ica.fit_transform(train.drop([\"y\"], axis=1))\n",
    "ica2_results_test = ica.transform(test)\n",
    "# GRP\n",
    "grp = GaussianRandomProjection(n_components=n_comp, eps=0.1, random_state=42)\n",
    "grp_results_train = grp.fit_transform(train.drop([\"y\"], axis=1))\n",
    "grp_results_test = grp.transform(test)\n",
    "# SRP\n",
    "srp = SparseRandomProjection(n_components=n_comp, dense_output=True, random_state=42)\n",
    "srp_results_train = srp.fit_transform(train.drop([\"y\"], axis=1))\n",
    "srp_results_test = srp.transform(test)\n"
   ]
  },
  {
   "cell_type": "code",
   "execution_count": 31,
   "metadata": {
    "collapsed": true
   },
   "outputs": [],
   "source": [
    "for i in range(1, n_comp + 1):\n",
    "    train['pca_' + str(i)] = pca2_results_train[:, i - 1]\n",
    "    test['pca_' + str(i)] = pca2_results_test[:, i - 1]\n",
    "    train['ica_' + str(i)] = ica2_results_train[:, i - 1]\n",
    "    test['ica_' + str(i)] = ica2_results_test[:, i - 1]\n",
    "    train['grp_' + str(i)] = grp_results_train[:, i - 1]\n",
    "    test['grp_' + str(i)] = grp_results_test[:, i - 1]\n",
    "    train['srp_' + str(i)] = srp_results_train[:, i - 1]\n",
    "    test['srp_' + str(i)] = srp_results_test[:, i - 1]"
   ]
  },
  {
   "cell_type": "markdown",
   "metadata": {},
   "source": [
    "## Create Magic Features"
   ]
  },
  {
   "cell_type": "code",
   "execution_count": 32,
   "metadata": {
    "collapsed": true
   },
   "outputs": [],
   "source": [
    "cat = ['X0','X1','X2','X3','X4','X5','X6','X8']\n",
    "for i in range(len(cat)):\n",
    "    var = cat[i]\n",
    "    magic_mat = train[['ID',var,'y']]\n",
    "    magic_mat = magic_mat.groupby([var])['y'].mean()\n",
    "    magic_mat = pd.DataFrame({var:magic_mat.index,var+'_magic':list(magic_mat)})\n",
    "    mean_magic = magic_mat[var+'_magic'].mean()\n",
    "    train = train.merge(magic_mat,on=var,how='left')\n",
    "    test = test.merge(magic_mat,on=var,how = 'left')\n",
    "    test[var+'_magic'] = test[var+'_magic'].fillna(mean_magic)"
   ]
  },
  {
   "cell_type": "code",
   "execution_count": 33,
   "metadata": {
    "collapsed": true
   },
   "outputs": [],
   "source": [
    "for i in range(len(cat)):\n",
    "    var = cat[i]\n",
    "    magic_mat = train[['ID',var,'y']]\n",
    "    magic_mat = magic_mat.groupby([var])['y'].std()\n",
    "    magic_mat = pd.DataFrame({var:magic_mat.index,var+'_magic_std':list(magic_mat)})\n",
    "    mean_magic = magic_mat[var+'_magic_std'].std()\n",
    "    train = train.merge(magic_mat,on=var,how='left')\n",
    "    test = test.merge(magic_mat,on=var,how = 'left')\n",
    "    test[var+'_magic_std'] = test[var+'_magic_std'].fillna(mean_magic)"
   ]
  },
  {
   "cell_type": "markdown",
   "metadata": {},
   "source": [
    "## Do a feature selection through xgboost"
   ]
  },
  {
   "cell_type": "code",
   "execution_count": 48,
   "metadata": {
    "collapsed": true
   },
   "outputs": [],
   "source": [
    "y_mean = np.mean(train['y'])\n",
    "params = {\n",
    "    'n_trees': 520, \n",
    "    'eta': 0.005,\n",
    "    'max_depth': 2,\n",
    "    'subsample': 0.95,\n",
    "    'objective': 'reg:linear',\n",
    "    'eval_metric': 'rmse',\n",
    "    'base_score': y_mean, # base prediction = mean(target)\n",
    "    'silent': 1\n",
    "}"
   ]
  },
  {
   "cell_type": "code",
   "execution_count": 49,
   "metadata": {
    "collapsed": true
   },
   "outputs": [],
   "source": [
    "col = list(test.columns) ## Incorporating ID\n",
    "label = train['y']\n",
    "dtrain = xgb.DMatrix(train[col],label)\n",
    "dtest = xgb.DMatrix(test[col])"
   ]
  },
  {
   "cell_type": "code",
   "execution_count": 50,
   "metadata": {},
   "outputs": [
    {
     "name": "stdout",
     "output_type": "stream",
     "text": [
      "[0]\ttrain-rmse:12.6387+0.305907\ttest-rmse:12.6282+0.598708\n",
      "[50]\ttrain-rmse:11.1523+0.32754\ttest-rmse:11.1405+0.673195\n",
      "[100]\ttrain-rmse:10.1435+0.347891\ttest-rmse:10.1321+0.72863\n",
      "[150]\ttrain-rmse:9.47972+0.364346\ttest-rmse:9.47044+0.765941\n",
      "[200]\ttrain-rmse:9.05075+0.378378\ttest-rmse:9.04694+0.785669\n",
      "[250]\ttrain-rmse:8.7762+0.38862\ttest-rmse:8.78385+0.793339\n",
      "[300]\ttrain-rmse:8.59701+0.398049\ttest-rmse:8.62441+0.798385\n",
      "[350]\ttrain-rmse:8.4738+0.406016\ttest-rmse:8.52402+0.798797\n",
      "[400]\ttrain-rmse:8.38387+0.410101\ttest-rmse:8.45537+0.799337\n",
      "[450]\ttrain-rmse:8.31582+0.412146\ttest-rmse:8.40832+0.799615\n",
      "[500]\ttrain-rmse:8.26299+0.413489\ttest-rmse:8.37494+0.801243\n",
      "[550]\ttrain-rmse:8.219+0.413384\ttest-rmse:8.3503+0.803029\n",
      "[600]\ttrain-rmse:8.18064+0.41274\ttest-rmse:8.3317+0.803265\n",
      "[650]\ttrain-rmse:8.14536+0.410891\ttest-rmse:8.3177+0.802247\n",
      "[700]\ttrain-rmse:8.11283+0.40837\ttest-rmse:8.30732+0.800963\n",
      "[750]\ttrain-rmse:8.08005+0.404617\ttest-rmse:8.30036+0.798889\n",
      "[800]\ttrain-rmse:8.05163+0.401973\ttest-rmse:8.29428+0.797386\n",
      "[850]\ttrain-rmse:8.02296+0.397618\ttest-rmse:8.29059+0.794897\n",
      "[900]\ttrain-rmse:7.99413+0.392427\ttest-rmse:8.28863+0.792659\n",
      "[950]\ttrain-rmse:7.96866+0.387972\ttest-rmse:8.28733+0.790776\n",
      "[1000]\ttrain-rmse:7.9424+0.382328\ttest-rmse:8.28693+0.788734\n",
      "Performance does not improve from 987 rounds\n"
     ]
    }
   ],
   "source": [
    "xgb_cvalid = xgb.cv(params, dtrain, num_boost_round=2000, early_stopping_rounds=20,\n",
    "    verbose_eval=50, show_stdv=True,seed=42)\n",
    "xgb_cvalid[['train-rmse-mean', 'test-rmse-mean']].plot()\n",
    "print('Performance does not improve from '+str(len(xgb_cvalid))+' rounds')"
   ]
  },
  {
   "cell_type": "markdown",
   "metadata": {},
   "source": [
    "**Check Feature Importance**"
   ]
  },
  {
   "cell_type": "code",
   "execution_count": 52,
   "metadata": {
    "collapsed": true
   },
   "outputs": [],
   "source": [
    "model = xgb.train(params,dtrain,num_boost_round=987)"
   ]
  },
  {
   "cell_type": "code",
   "execution_count": 53,
   "metadata": {
    "collapsed": true
   },
   "outputs": [],
   "source": [
    "feature_score = get_feature_importance(model)"
   ]
  },
  {
   "cell_type": "code",
   "execution_count": 54,
   "metadata": {
    "collapsed": true
   },
   "outputs": [],
   "source": [
    "magic_related = [each for each in feature_score['Feature'] if 'magic' in each]"
   ]
  },
  {
   "cell_type": "code",
   "execution_count": 55,
   "metadata": {
    "collapsed": true
   },
   "outputs": [],
   "source": [
    "magic_score = feature_score[feature_score['Feature'].isin(magic_related)]"
   ]
  },
  {
   "cell_type": "code",
   "execution_count": 56,
   "metadata": {},
   "outputs": [
    {
     "data": {
      "text/html": [
       "<div>\n",
       "<table border=\"1\" class=\"dataframe\">\n",
       "  <thead>\n",
       "    <tr style=\"text-align: right;\">\n",
       "      <th></th>\n",
       "      <th>Feature</th>\n",
       "      <th>Score</th>\n",
       "    </tr>\n",
       "  </thead>\n",
       "  <tbody>\n",
       "    <tr>\n",
       "      <th>24</th>\n",
       "      <td>X0_magic</td>\n",
       "      <td>1222</td>\n",
       "    </tr>\n",
       "    <tr>\n",
       "      <th>41</th>\n",
       "      <td>X5_magic</td>\n",
       "      <td>215</td>\n",
       "    </tr>\n",
       "    <tr>\n",
       "      <th>33</th>\n",
       "      <td>X0_magic_std</td>\n",
       "      <td>74</td>\n",
       "    </tr>\n",
       "    <tr>\n",
       "      <th>49</th>\n",
       "      <td>X2_magic</td>\n",
       "      <td>65</td>\n",
       "    </tr>\n",
       "    <tr>\n",
       "      <th>15</th>\n",
       "      <td>X1_magic_std</td>\n",
       "      <td>60</td>\n",
       "    </tr>\n",
       "    <tr>\n",
       "      <th>56</th>\n",
       "      <td>X8_magic_std</td>\n",
       "      <td>16</td>\n",
       "    </tr>\n",
       "    <tr>\n",
       "      <th>44</th>\n",
       "      <td>X6_magic_std</td>\n",
       "      <td>4</td>\n",
       "    </tr>\n",
       "    <tr>\n",
       "      <th>23</th>\n",
       "      <td>X5_magic_std</td>\n",
       "      <td>3</td>\n",
       "    </tr>\n",
       "    <tr>\n",
       "      <th>51</th>\n",
       "      <td>X6_magic</td>\n",
       "      <td>3</td>\n",
       "    </tr>\n",
       "    <tr>\n",
       "      <th>25</th>\n",
       "      <td>X3_magic_std</td>\n",
       "      <td>2</td>\n",
       "    </tr>\n",
       "    <tr>\n",
       "      <th>42</th>\n",
       "      <td>X2_magic_std</td>\n",
       "      <td>1</td>\n",
       "    </tr>\n",
       "  </tbody>\n",
       "</table>\n",
       "</div>"
      ],
      "text/plain": [
       "         Feature  Score\n",
       "24      X0_magic   1222\n",
       "41      X5_magic    215\n",
       "33  X0_magic_std     74\n",
       "49      X2_magic     65\n",
       "15  X1_magic_std     60\n",
       "56  X8_magic_std     16\n",
       "44  X6_magic_std      4\n",
       "23  X5_magic_std      3\n",
       "51      X6_magic      3\n",
       "25  X3_magic_std      2\n",
       "42  X2_magic_std      1"
      ]
     },
     "execution_count": 56,
     "metadata": {},
     "output_type": "execute_result"
    }
   ],
   "source": [
    "magic_score"
   ]
  },
  {
   "cell_type": "markdown",
   "metadata": {},
   "source": [
    "**Looks All OK. Do a Five-Fold CV Before Submit**"
   ]
  },
  {
   "cell_type": "code",
   "execution_count": 57,
   "metadata": {
    "collapsed": true
   },
   "outputs": [],
   "source": [
    "train = train.sample(frac=1,random_state=42)"
   ]
  },
  {
   "cell_type": "code",
   "execution_count": 58,
   "metadata": {},
   "outputs": [
    {
     "name": "stdout",
     "output_type": "stream",
     "text": [
      "Training 1 Fold\n",
      "R2 Scored of Fold 1 is 0.577613273712\n",
      "RMSE of Fold 1 is 8.58192493189\n",
      "Training 2 Fold\n",
      "R2 Scored of Fold 2 is 0.480205599565\n",
      "RMSE of Fold 2 is 9.6639529229\n",
      "Training 3 Fold\n",
      "R2 Scored of Fold 3 is 0.585716460473\n",
      "RMSE of Fold 3 is 7.9691471779\n",
      "Training 4 Fold\n",
      "R2 Scored of Fold 4 is 0.656030001715\n",
      "RMSE of Fold 4 is 7.09585999462\n",
      "Training 5 Fold\n",
      "R2 Scored of Fold 5 is 0.560108010106\n",
      "RMSE of Fold 5 is 8.09931184328\n",
      "Start Training\n",
      "Calculating In-Bag R2 Score\n",
      "0.596103833789\n",
      "Calculating Out-Bag R2 Score\n",
      "0.571934669114\n",
      "Calculating In-Bag RMSE\n",
      "8.05714794804\n",
      "Calculating Out-Bag RMSE\n",
      "8.28203937412\n"
     ]
    }
   ],
   "source": [
    "Stack_model_6,Stack_pred_6,ID = get_xgb_stack_data(params,987,train,col,train['y'],test)"
   ]
  },
  {
   "cell_type": "markdown",
   "metadata": {},
   "source": [
    "**If we remove useless magic features?**"
   ]
  },
  {
   "cell_type": "code",
   "execution_count": 59,
   "metadata": {
    "collapsed": true
   },
   "outputs": [],
   "source": [
    "removed = ['X2_magic_std','X3_magic_std','X6_magic','X5_magic_std','X6_magic_std']\n",
    "col = [each for each in col if each not in removed]"
   ]
  },
  {
   "cell_type": "code",
   "execution_count": 61,
   "metadata": {
    "collapsed": true
   },
   "outputs": [],
   "source": [
    "label = train['y']\n",
    "dtrain = xgb.DMatrix(train[col],label)\n",
    "dtest = xgb.DMatrix(test[col])"
   ]
  },
  {
   "cell_type": "code",
   "execution_count": 62,
   "metadata": {},
   "outputs": [
    {
     "name": "stdout",
     "output_type": "stream",
     "text": [
      "[0]\ttrain-rmse:12.6391+0.276832\ttest-rmse:12.6304+0.546643\n",
      "[50]\ttrain-rmse:11.1522+0.317986\ttest-rmse:11.1443+0.606617\n",
      "[100]\ttrain-rmse:10.1435+0.352709\ttest-rmse:10.1368+0.662468\n",
      "[150]\ttrain-rmse:9.47843+0.380511\ttest-rmse:9.4737+0.709968\n",
      "[200]\ttrain-rmse:9.04946+0.400885\ttest-rmse:9.04767+0.747286\n",
      "[250]\ttrain-rmse:8.7754+0.414321\ttest-rmse:8.77931+0.775119\n",
      "[300]\ttrain-rmse:8.59615+0.423047\ttest-rmse:8.61553+0.798065\n",
      "[350]\ttrain-rmse:8.47243+0.428886\ttest-rmse:8.51216+0.81589\n",
      "[400]\ttrain-rmse:8.38364+0.431971\ttest-rmse:8.44365+0.829934\n",
      "[450]\ttrain-rmse:8.31712+0.433668\ttest-rmse:8.39611+0.839687\n",
      "[500]\ttrain-rmse:8.263+0.432146\ttest-rmse:8.36425+0.847174\n",
      "[550]\ttrain-rmse:8.21856+0.431113\ttest-rmse:8.33665+0.8522\n",
      "[600]\ttrain-rmse:8.17721+0.427156\ttest-rmse:8.3183+0.854338\n",
      "[650]\ttrain-rmse:8.14115+0.424744\ttest-rmse:8.30163+0.857693\n",
      "[700]\ttrain-rmse:8.10779+0.422011\ttest-rmse:8.28939+0.859386\n",
      "[750]\ttrain-rmse:8.07516+0.417538\ttest-rmse:8.27981+0.861671\n",
      "[800]\ttrain-rmse:8.04428+0.412098\ttest-rmse:8.27384+0.860797\n",
      "[850]\ttrain-rmse:8.01758+0.40857\ttest-rmse:8.26908+0.860403\n",
      "[900]\ttrain-rmse:7.99091+0.404796\ttest-rmse:8.2661+0.860237\n",
      "Performance does not improve from 912 rounds\n"
     ]
    }
   ],
   "source": [
    "xgb_cvalid = xgb.cv(params, dtrain, num_boost_round=2000, early_stopping_rounds=20,\n",
    "    verbose_eval=50, show_stdv=True,seed=42)\n",
    "xgb_cvalid[['train-rmse-mean', 'test-rmse-mean']].plot()\n",
    "print('Performance does not improve from '+str(len(xgb_cvalid))+' rounds')"
   ]
  },
  {
   "cell_type": "code",
   "execution_count": 63,
   "metadata": {},
   "outputs": [
    {
     "name": "stdout",
     "output_type": "stream",
     "text": [
      "Training 1 Fold\n",
      "R2 Scored of Fold 1 is 0.577576527585\n",
      "RMSE of Fold 1 is 8.58229822208\n",
      "Training 2 Fold\n",
      "R2 Scored of Fold 2 is 0.480345625252\n",
      "RMSE of Fold 2 is 9.66265116514\n",
      "Training 3 Fold\n",
      "R2 Scored of Fold 3 is 0.585072373084\n",
      "RMSE of Fold 3 is 7.97533959596\n",
      "Training 4 Fold\n",
      "R2 Scored of Fold 4 is 0.656487966464\n",
      "RMSE of Fold 4 is 7.09113467536\n",
      "Training 5 Fold\n",
      "R2 Scored of Fold 5 is 0.5608005359\n",
      "RMSE of Fold 5 is 8.09293392347\n",
      "Start Training\n",
      "Calculating In-Bag R2 Score\n",
      "0.593298786702\n",
      "Calculating Out-Bag R2 Score\n",
      "0.572056605657\n",
      "Calculating In-Bag RMSE\n",
      "8.0850778906\n",
      "Calculating Out-Bag RMSE\n",
      "8.2808715164\n"
     ]
    }
   ],
   "source": [
    "Stack_model_6_2,Stack_pred_6_2,ID = get_xgb_stack_data(params,912,train,col,train['y'],test)"
   ]
  },
  {
   "cell_type": "code",
   "execution_count": 64,
   "metadata": {
    "collapsed": true
   },
   "outputs": [],
   "source": [
    "save_results(Stack_model_6_2,Stack_pred_6_2,'xgb_depth2_Rounds638_0.5721_0.5932_All_Magic_Project_ncomp12_ID_correct.csv')"
   ]
  },
  {
   "cell_type": "markdown",
   "metadata": {},
   "source": [
    "## Add Truncated SVD and Original Magic Feature"
   ]
  },
  {
   "cell_type": "code",
   "execution_count": 79,
   "metadata": {
    "collapsed": true
   },
   "outputs": [],
   "source": [
    "train = pd.read_csv('data/train_c.csv')\n",
    "test = pd.read_csv('data/test_c.csv')"
   ]
  },
  {
   "cell_type": "code",
   "execution_count": 80,
   "metadata": {
    "collapsed": true
   },
   "outputs": [],
   "source": [
    "n_comp = 12"
   ]
  },
  {
   "cell_type": "code",
   "execution_count": 81,
   "metadata": {
    "collapsed": true
   },
   "outputs": [],
   "source": [
    "# PCA\n",
    "pca = PCA(n_components=n_comp, random_state=42)\n",
    "pca2_results_train = pca.fit_transform(train.drop([\"y\"], axis=1))\n",
    "pca2_results_test = pca.transform(test)\n",
    "# ICA\n",
    "ica = FastICA(n_components=n_comp, random_state=42)\n",
    "ica2_results_train = ica.fit_transform(train.drop([\"y\"], axis=1))\n",
    "ica2_results_test = ica.transform(test)\n",
    "# GRP\n",
    "grp = GaussianRandomProjection(n_components=n_comp, eps=0.1, random_state=42)\n",
    "grp_results_train = grp.fit_transform(train.drop([\"y\"], axis=1))\n",
    "grp_results_test = grp.transform(test)\n",
    "# SRP\n",
    "srp = SparseRandomProjection(n_components=n_comp, dense_output=True, random_state=42)\n",
    "srp_results_train = srp.fit_transform(train.drop([\"y\"], axis=1))\n",
    "srp_results_test = srp.transform(test)\n",
    "# tSVD\n",
    "tsvd = TruncatedSVD(n_components=n_comp, random_state=42)\n",
    "tsvd_results_train = tsvd.fit_transform(train.drop([\"y\"], axis=1))\n",
    "tsvd_results_test = tsvd.transform(test)"
   ]
  },
  {
   "cell_type": "code",
   "execution_count": 82,
   "metadata": {
    "collapsed": true
   },
   "outputs": [],
   "source": [
    "for i in range(1, n_comp + 1):\n",
    "    train['pca_' + str(i)] = pca2_results_train[:, i - 1]\n",
    "    test['pca_' + str(i)] = pca2_results_test[:, i - 1]\n",
    "    train['ica_' + str(i)] = ica2_results_train[:, i - 1]\n",
    "    test['ica_' + str(i)] = ica2_results_test[:, i - 1]\n",
    "    train['tsvd_' + str(i)] = tsvd_results_train[:, i - 1]\n",
    "    test['tsvd_' + str(i)] = tsvd_results_test[:, i - 1]\n",
    "    train['grp_' + str(i)] = grp_results_train[:, i - 1]\n",
    "    test['grp_' + str(i)] = grp_results_test[:, i - 1]\n",
    "    train['srp_' + str(i)] = srp_results_train[:, i - 1]\n",
    "    test['srp_' + str(i)] = srp_results_test[:, i - 1]"
   ]
  },
  {
   "cell_type": "code",
   "execution_count": 83,
   "metadata": {
    "collapsed": true
   },
   "outputs": [],
   "source": [
    "magic_mat = train[['ID','X0','y']]\n",
    "magic_mat = magic_mat.groupby(['X0'])['y'].mean()\n",
    "magic_mat = pd.DataFrame({'X0':magic_mat.index,'magic':list(magic_mat)})\n",
    "mean_magic = magic_mat['magic'].mean()\n",
    "train = train.merge(magic_mat,on='X0',how='left')\n",
    "test = test.merge(magic_mat,on='X0',how = 'left')\n",
    "test['magic'] = test['magic'].fillna(mean_magic)"
   ]
  },
  {
   "cell_type": "code",
   "execution_count": 84,
   "metadata": {
    "collapsed": true
   },
   "outputs": [],
   "source": [
    "y_mean = np.mean(train.y)\n",
    "params = {\n",
    "    'n_trees': 520, \n",
    "    'eta': 0.005,\n",
    "    'max_depth': 4,\n",
    "    'subsample': 0.93,\n",
    "    'objective': 'reg:linear',\n",
    "    'eval_metric': 'rmse',\n",
    "    'base_score': y_mean, # base prediction = mean(target)\n",
    "    'silent': 1\n",
    "}"
   ]
  },
  {
   "cell_type": "code",
   "execution_count": 85,
   "metadata": {
    "collapsed": true
   },
   "outputs": [],
   "source": [
    "dtrain = xgb.DMatrix(train.drop('y', axis=1), train.y)\n",
    "dtest = xgb.DMatrix(test)"
   ]
  },
  {
   "cell_type": "code",
   "execution_count": 86,
   "metadata": {},
   "outputs": [
    {
     "name": "stdout",
     "output_type": "stream",
     "text": [
      "[0]\ttrain-rmse:12.6395+0.179267\ttest-rmse:12.6371+0.352664\n",
      "[50]\ttrain-rmse:11.0716+0.217425\ttest-rmse:11.1468+0.412565\n",
      "[100]\ttrain-rmse:9.97346+0.245023\ttest-rmse:10.1388+0.467845\n",
      "[150]\ttrain-rmse:9.20947+0.25722\ttest-rmse:9.4792+0.517929\n",
      "[200]\ttrain-rmse:8.67615+0.253117\ttest-rmse:9.06343+0.555271\n",
      "[250]\ttrain-rmse:8.3063+0.245479\ttest-rmse:8.80711+0.584699\n",
      "[300]\ttrain-rmse:8.04632+0.237834\ttest-rmse:8.64871+0.60595\n",
      "[350]\ttrain-rmse:7.84561+0.22981\ttest-rmse:8.55732+0.620868\n",
      "[400]\ttrain-rmse:7.67191+0.221857\ttest-rmse:8.50526+0.631731\n",
      "[450]\ttrain-rmse:7.53252+0.21492\ttest-rmse:8.47599+0.636819\n",
      "[500]\ttrain-rmse:7.41873+0.209994\ttest-rmse:8.46139+0.64221\n",
      "[550]\ttrain-rmse:7.3249+0.202667\ttest-rmse:8.45713+0.645432\n",
      "Performance does not improve from 581 rounds\n"
     ]
    }
   ],
   "source": [
    "xgb_cvalid = xgb.cv(params, dtrain, num_boost_round=2000, early_stopping_rounds=20,\n",
    "    verbose_eval=50, show_stdv=True,seed=42)\n",
    "xgb_cvalid[['train-rmse-mean', 'test-rmse-mean']].plot()\n",
    "print('Performance does not improve from '+str(len(xgb_cvalid))+' rounds')"
   ]
  },
  {
   "cell_type": "markdown",
   "metadata": {},
   "source": [
    "**Stacking Data Preparation**"
   ]
  },
  {
   "cell_type": "code",
   "execution_count": 90,
   "metadata": {},
   "outputs": [
    {
     "name": "stdout",
     "output_type": "stream",
     "text": [
      "Training 1 Fold\n",
      "R2 Scored of Fold 1 is 0.569528086067\n",
      "RMSE of Fold 1 is 8.6636717841\n",
      "Training 2 Fold\n",
      "R2 Scored of Fold 2 is 0.476111372606\n",
      "RMSE of Fold 2 is 9.70193795064\n",
      "Training 3 Fold\n",
      "R2 Scored of Fold 3 is 0.570448436583\n",
      "RMSE of Fold 3 is 8.11466621832\n",
      "Training 4 Fold\n",
      "R2 Scored of Fold 4 is 0.593275499618\n",
      "RMSE of Fold 4 is 7.71604804341\n",
      "Training 5 Fold\n",
      "R2 Scored of Fold 5 is 0.553510999943\n",
      "RMSE of Fold 5 is 8.15981806571\n",
      "Start Training\n",
      "Calculating In-Bag R2 Score\n",
      "0.637825872726\n",
      "Calculating Out-Bag R2 Score\n",
      "0.552574878963\n",
      "Calculating In-Bag RMSE\n",
      "7.62966001101\n",
      "Calculating Out-Bag RMSE\n",
      "8.47122841244\n"
     ]
    }
   ],
   "source": [
    "train = train.sample(frac=1,random_state=42)\n",
    "col = test.columns\n",
    "Stack_model_7,Stack_pred_7,ID = get_xgb_stack_data(params,581,train,col,train['y'],test)"
   ]
  },
  {
   "cell_type": "code",
   "execution_count": 91,
   "metadata": {
    "collapsed": true
   },
   "outputs": [],
   "source": [
    "save_results(Stack_model_7,Stack_pred_7,'xgb_depth4_581Rounds_All_Decomp_magic_features_0.5526_0.6378.csv')"
   ]
  },
  {
   "cell_type": "markdown",
   "metadata": {},
   "source": [
    "## Try LightGBM Model"
   ]
  },
  {
   "cell_type": "markdown",
   "metadata": {},
   "source": [
    "Now we can see that, features of five decomposition algorithm as well as magic feature (Only X0) and ID will be the useful feature in this case. We need to think about stacking. How about lightGBM, the algorithm that really kick-ass in seberbank regression competition?"
   ]
  },
  {
   "cell_type": "code",
   "execution_count": 92,
   "metadata": {
    "collapsed": true
   },
   "outputs": [],
   "source": [
    "import lightgbm as lgb"
   ]
  },
  {
   "cell_type": "code",
   "execution_count": 143,
   "metadata": {
    "collapsed": true
   },
   "outputs": [],
   "source": [
    "def get_lgb_stack_data(params,rounds,train,col,label,test):\n",
    "    ID = []\n",
    "    train = train.reset_index(drop=True)\n",
    "    kf = KFold(n_splits=5,shuffle=False)\n",
    "    i=0\n",
    "    R2_Score = []\n",
    "    RMSE = []\n",
    "    for train_index, test_index in kf.split(train):\n",
    "        print(\"Training \"+str(i+1)+' Fold')\n",
    "        X_train, X_test = train.iloc[train_index,:], train.iloc[test_index,:]\n",
    "        y_train, y_test = label.iloc[train_index],label.iloc[test_index]\n",
    "        train_lgb=lgb.Dataset(X_train[col],y_train)\n",
    "        model = lgb.train(params,train_lgb,num_boost_round=rounds)\n",
    "        pred = model.predict(X_test[col])\n",
    "        X_test['label'] = list(y_test)\n",
    "        X_test['predicted'] = pred\n",
    "        r2 = r2_score(y_test,pred)\n",
    "        rmse = MSE(y_test,pred)**0.5\n",
    "        print('R2 Scored of Fold '+str(i+1)+' is '+str(r2))\n",
    "        R2_Score.append(r2)\n",
    "        RMSE.append(rmse)\n",
    "        print('RMSE of Fold '+str(i+1)+' is '+str(rmse))\n",
    "        ID.append(X_test['ID'])\n",
    "        if i==0:\n",
    "            Final = X_test\n",
    "        else:\n",
    "            Final = Final.append(X_test,ignore_index=True)\n",
    "        i+=1\n",
    "    lgb_train_ = lgb.Dataset(train[col],label)\n",
    "    print('Start Training')\n",
    "    model_ = lgb.train(params,lgb_train_,num_boost_round=rounds)\n",
    "    Final_pred = model_.predict(test[col])\n",
    "    Final_pred = pd.DataFrame({'ID':test['ID'],'y':Final_pred})\n",
    "    print('Calculating In-Bag R2 Score')\n",
    "    print(r2_score(label, model.predict(train[col])))\n",
    "    print('Calculating Out-Bag R2 Score')\n",
    "    print(np.mean(R2_Score))\n",
    "    print('Calculating In-Bag RMSE')\n",
    "    print(MSE(label, model.predict(train[col]))**0.5)\n",
    "    print('Calculating Out-Bag RMSE')\n",
    "    print(np.mean(RMSE))\n",
    "    return Final,Final_pred,ID"
   ]
  },
  {
   "cell_type": "code",
   "execution_count": 144,
   "metadata": {
    "collapsed": true
   },
   "outputs": [],
   "source": [
    "params = {\n",
    "        'objective': 'regression',\n",
    "            'metric': 'rmse',\n",
    "            'boosting': 'gbdt',\n",
    "            'learning_rate': 0.0045 , #small learn rate, large number of iterations\n",
    "            'verbose': 0,\n",
    "            'num_iterations': 550,\n",
    "            'bagging_fraction': 0.95,\n",
    "            'bagging_freq': 1,\n",
    "            'bagging_seed': 42,\n",
    "            'feature_fraction': 0.95,\n",
    "            'feature_fraction_seed': 42,\n",
    "            'max_bin': 100,\n",
    "            'max_depth': 4,\n",
    "            'num_rounds': 1200\n",
    "}"
   ]
  },
  {
   "cell_type": "code",
   "execution_count": 145,
   "metadata": {},
   "outputs": [
    {
     "name": "stdout",
     "output_type": "stream",
     "text": [
      "Training 1 Fold\n",
      "R2 Scored of Fold 1 is 0.576111386684\n",
      "RMSE of Fold 1 is 8.5971688349\n",
      "Training 2 Fold\n",
      "R2 Scored of Fold 2 is 0.472315126057\n",
      "RMSE of Fold 2 is 9.73702600687\n",
      "Training 3 Fold\n",
      "R2 Scored of Fold 3 is 0.571908964102\n",
      "RMSE of Fold 3 is 8.10085904615\n",
      "Training 4 Fold\n",
      "R2 Scored of Fold 4 is 0.639713487108\n",
      "RMSE of Fold 4 is 7.26220925047\n",
      "Training 5 Fold\n",
      "R2 Scored of Fold 5 is 0.550442569431\n",
      "RMSE of Fold 5 is 8.18780863736\n",
      "Start Training\n",
      "Calculating In-Bag R2 Score\n",
      "0.630834826665\n",
      "Calculating Out-Bag R2 Score\n",
      "0.562098306676\n",
      "Calculating In-Bag RMSE\n",
      "7.70294551685\n",
      "Calculating Out-Bag RMSE\n",
      "8.37701435515\n"
     ]
    }
   ],
   "source": [
    "Srack_model_8,Stack_pred_8,ID = get_lgb_stack_data(params,1200,train,col,label,test)"
   ]
  },
  {
   "cell_type": "code",
   "execution_count": 147,
   "metadata": {
    "collapsed": true
   },
   "outputs": [],
   "source": [
    "save_results(Srack_model_8,Stack_pred_8,'lgb_depth4_0.56_0.63_All_decomp_Magic_X0_ID.csv')"
   ]
  },
  {
   "cell_type": "markdown",
   "metadata": {},
   "source": [
    "## Final Sub Today: Stack LightGBM and Two xgb by using xgb"
   ]
  },
  {
   "cell_type": "code",
   "execution_count": 148,
   "metadata": {
    "collapsed": true
   },
   "outputs": [],
   "source": [
    "stack1,pred1 = read_data('subxgb_depth4_581Rounds_All_Decomp_magic_features_0.5526_0.6378.csv')"
   ]
  },
  {
   "cell_type": "code",
   "execution_count": 149,
   "metadata": {
    "collapsed": true
   },
   "outputs": [],
   "source": [
    "stack2,pred2 = read_data('subxbg_depth2_701Rounds_0.5634_0.6640_All_Magics.csv')"
   ]
  },
  {
   "cell_type": "code",
   "execution_count": 150,
   "metadata": {
    "collapsed": true
   },
   "outputs": [],
   "source": [
    "stack3,pred3 = read_data('sublgb_depth4_0.56_0.63_All_decomp_Magic_X0_ID.csv')"
   ]
  },
  {
   "cell_type": "code",
   "execution_count": 153,
   "metadata": {
    "collapsed": true
   },
   "outputs": [],
   "source": [
    "Stack1 = stack1[['ID','predicted']]\n",
    "Stack2 = stack2[['ID','predicted']]\n",
    "Stack3 = stack3[['ID','predicted','label','magic']]"
   ]
  },
  {
   "cell_type": "code",
   "execution_count": 154,
   "metadata": {
    "collapsed": true
   },
   "outputs": [],
   "source": [
    "Stack1.columns = ['ID','model1']\n",
    "Stack2.columns = ['ID','model2']\n",
    "Stack3.columns = ['ID','model3','label','magic']"
   ]
  },
  {
   "cell_type": "code",
   "execution_count": 155,
   "metadata": {
    "collapsed": true
   },
   "outputs": [],
   "source": [
    "Stack_train = Stack1.merge(Stack2,on='ID',how='left')\n",
    "Stack_train = Stack_train.merge(Stack3,on='ID',how='left')"
   ]
  },
  {
   "cell_type": "code",
   "execution_count": 157,
   "metadata": {
    "collapsed": true
   },
   "outputs": [],
   "source": [
    "pred1.columns = ['ID','model1']\n",
    "pred2.columns = ['ID','model2']\n",
    "pred3.columns = ['ID','model3']"
   ]
  },
  {
   "cell_type": "code",
   "execution_count": 159,
   "metadata": {
    "collapsed": true
   },
   "outputs": [],
   "source": [
    "Stack_pred = pred1.merge(pred2,on='ID',how='left')\n",
    "Stack_pred = Stack_pred.merge(pred3,on='ID',how='left')"
   ]
  },
  {
   "cell_type": "code",
   "execution_count": 162,
   "metadata": {
    "collapsed": true
   },
   "outputs": [],
   "source": [
    "## Create Magic Feature for pred_dataset\n",
    "Stack_pred = Stack_pred.merge(test[['ID','X0']],on='ID',how='left')"
   ]
  },
  {
   "cell_type": "code",
   "execution_count": 163,
   "metadata": {
    "collapsed": true
   },
   "outputs": [],
   "source": [
    "Stack_pred = Stack_pred.merge(magic_mat,on='X0',how = 'left')\n",
    "Stack_pred['magic'] = Stack_pred['magic'].fillna(mean_magic)"
   ]
  },
  {
   "cell_type": "code",
   "execution_count": 164,
   "metadata": {
    "collapsed": true
   },
   "outputs": [],
   "source": [
    "del Stack_pred['X0']"
   ]
  },
  {
   "cell_type": "markdown",
   "metadata": {},
   "source": [
    "**Try First Linear Regression**"
   ]
  },
  {
   "cell_type": "code",
   "execution_count": null,
   "metadata": {
    "collapsed": true
   },
   "outputs": [],
   "source": [
    "%run Functions.py"
   ]
  },
  {
   "cell_type": "code",
   "execution_count": 166,
   "metadata": {
    "collapsed": true
   },
   "outputs": [],
   "source": [
    "from sklearn.linear_model import LinearRegression\n",
    "from sklearn."
   ]
  },
  {
   "cell_type": "code",
   "execution_count": 175,
   "metadata": {},
   "outputs": [
    {
     "name": "stdout",
     "output_type": "stream",
     "text": [
      "R2 Scored of Fold 1 is 0.581889346373\n",
      "RMSE of Fold 1 is 8.5383744583\n",
      "R2 Scored of Fold 2 is 0.484759725093\n",
      "RMSE of Fold 2 is 9.62152491824\n",
      "R2 Scored of Fold 3 is 0.580119416192\n",
      "RMSE of Fold 3 is 8.02279887253\n",
      "R2 Scored of Fold 4 is 0.664346891921\n",
      "RMSE of Fold 4 is 7.00954926486\n",
      "R2 Scored of Fold 5 is 0.586514498755\n",
      "RMSE of Fold 5 is 7.85245102854\n",
      "Start Training\n",
      "Calculating In-Bag R2 Score\n",
      "0.577370731933\n",
      "Calculating Out-Bag R2 Score\n",
      "0.579525975667\n",
      "Calculating In-Bag RMSE\n",
      "8.24187928331\n",
      "Calculating Out-Bag RMSE\n",
      "8.20893970849\n"
     ]
    }
   ],
   "source": [
    "aa,bb,cc = get_sklearn_stack_data(LinearRegression(),Stack_train,Stack_pred.columns,Stack_train['label'],Stack_pred)"
   ]
  },
  {
   "cell_type": "code",
   "execution_count": 176,
   "metadata": {
    "collapsed": true
   },
   "outputs": [],
   "source": [
    "bb.to_csv('submission/Stacking_Attemp1_two_xgb_one_lgbt_plus_Linear_0.5774_0.5795.csv',index=False)"
   ]
  },
  {
   "cell_type": "code",
   "execution_count": null,
   "metadata": {
    "collapsed": true
   },
   "outputs": [],
   "source": []
  }
 ],
 "metadata": {
  "kernelspec": {
   "display_name": "Python 3",
   "language": "python",
   "name": "python3"
  },
  "language_info": {
   "codemirror_mode": {
    "name": "ipython",
    "version": 3
   },
   "file_extension": ".py",
   "mimetype": "text/x-python",
   "name": "python",
   "nbconvert_exporter": "python",
   "pygments_lexer": "ipython3",
   "version": "3.5.2"
  }
 },
 "nbformat": 4,
 "nbformat_minor": 2
}
