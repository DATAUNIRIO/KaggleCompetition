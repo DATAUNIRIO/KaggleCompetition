{
 "cells": [
  {
   "cell_type": "markdown",
   "metadata": {},
   "source": [
    "Starting Point. Naive XGB with PCA and Fast ICA features. Store results for stacking also. Also, try to include the magic features and ID in the model."
   ]
  },
  {
   "cell_type": "code",
   "execution_count": 156,
   "metadata": {},
   "outputs": [],
   "source": [
    "%matplotlib inline\n",
    "%run Functions.py"
   ]
  },
  {
   "cell_type": "code",
   "execution_count": 48,
   "metadata": {
    "collapsed": true
   },
   "outputs": [],
   "source": [
    "import warnings\n",
    "warnings.filterwarnings('ignore')"
   ]
  },
  {
   "cell_type": "code",
   "execution_count": 223,
   "metadata": {
    "collapsed": true
   },
   "outputs": [],
   "source": [
    "import xgboost as xgb\n",
    "from sklearn.model_selection import KFold\n",
    "from sklearn.metrics import r2_score\n",
    "import matplotlib.pyplot as plt\n",
    "train = pd.read_csv('data/train_c.csv')\n",
    "test = pd.read_csv('data/test_c.csv')"
   ]
  },
  {
   "cell_type": "markdown",
   "metadata": {},
   "source": [
    "**Prepare PCA/PCA Features**"
   ]
  },
  {
   "cell_type": "code",
   "execution_count": 224,
   "metadata": {
    "collapsed": true
   },
   "outputs": [],
   "source": [
    "from sklearn.decomposition import PCA, FastICA\n",
    "n_comp = 20\n",
    "\n",
    "# PCA\n",
    "pca = PCA(n_components=n_comp, random_state=42)\n",
    "pca2_results_train = pca.fit_transform(train.drop([\"y\"], axis=1))\n",
    "pca2_results_test = pca.transform(test)\n",
    "\n",
    "# ICA\n",
    "ica = FastICA(n_components=n_comp, random_state=42)\n",
    "ica2_results_train = ica.fit_transform(train.drop([\"y\"], axis=1))\n",
    "ica2_results_test = ica.transform(test)\n",
    "\n",
    "# Append decomposition components to datasets\n",
    "for i in range(1, n_comp+1):\n",
    "    train['pca_' + str(i)] = pca2_results_train[:,i-1]\n",
    "    test['pca_' + str(i)] = pca2_results_test[:, i-1]\n",
    "    \n",
    "    train['ica_' + str(i)] = ica2_results_train[:,i-1]\n",
    "    test['ica_' + str(i)] = ica2_results_test[:, i-1]\n",
    "    \n",
    "label = train[\"y\"]\n",
    "y_mean = np.mean(label)"
   ]
  },
  {
   "cell_type": "markdown",
   "metadata": {},
   "source": [
    "## Original"
   ]
  },
  {
   "cell_type": "code",
   "execution_count": 51,
   "metadata": {
    "collapsed": true
   },
   "outputs": [],
   "source": [
    "# prepare dict of params for xgboost to run with\n",
    "params = {\n",
    "    'n_trees': 500, \n",
    "    'eta': 0.005,\n",
    "    'max_depth': 4,\n",
    "    'subsample': 0.95,\n",
    "    'objective': 'reg:linear',\n",
    "    'eval_metric': 'rmse',\n",
    "    'base_score': y_mean, # base prediction = mean(target)\n",
    "    'silent': 1\n",
    "}"
   ]
  },
  {
   "cell_type": "code",
   "execution_count": 52,
   "metadata": {
    "collapsed": true
   },
   "outputs": [],
   "source": [
    "col = list(test.columns)[1:]"
   ]
  },
  {
   "cell_type": "code",
   "execution_count": 53,
   "metadata": {
    "collapsed": true
   },
   "outputs": [],
   "source": [
    "dtrain = xgb.DMatrix(train[col],label)\n",
    "dtest = xgb.DMatrix(test[col])"
   ]
  },
  {
   "cell_type": "code",
   "execution_count": 54,
   "metadata": {},
   "outputs": [
    {
     "name": "stdout",
     "output_type": "stream",
     "text": [
      "[0]\ttrain-rmse:12.6397+0.179397\ttest-rmse:12.6373+0.352742\n",
      "[50]\ttrain-rmse:11.0819+0.227932\ttest-rmse:11.1542+0.421412\n",
      "[100]\ttrain-rmse:9.99741+0.267214\ttest-rmse:10.1485+0.481267\n",
      "[150]\ttrain-rmse:9.25741+0.298283\ttest-rmse:9.49165+0.531394\n",
      "[200]\ttrain-rmse:8.75785+0.320606\ttest-rmse:9.07519+0.57259\n",
      "[250]\ttrain-rmse:8.42187+0.3356\ttest-rmse:8.81752+0.603745\n",
      "[300]\ttrain-rmse:8.19125+0.346645\ttest-rmse:8.66193+0.629895\n",
      "[350]\ttrain-rmse:8.00992+0.34462\ttest-rmse:8.57285+0.652287\n",
      "[400]\ttrain-rmse:7.86475+0.343391\ttest-rmse:8.52564+0.670495\n",
      "[450]\ttrain-rmse:7.74197+0.342036\ttest-rmse:8.50105+0.682156\n",
      "[500]\ttrain-rmse:7.61908+0.328162\ttest-rmse:8.48946+0.69033\n",
      "[550]\ttrain-rmse:7.50867+0.309231\ttest-rmse:8.48299+0.696632\n",
      "Performance does not improve from 577 rounds\n"
     ]
    },
    {
     "data": {
      "image/png": "[encoded data removed]",
      "text/plain": [
       "<matplotlib.figure.Figure at 0x7fad327b7b38>"
      ]
     },
     "metadata": {},
     "output_type": "display_data"
    }
   ],
   "source": [
    "xgb_cvalid = xgb.cv(params, dtrain, num_boost_round=1000, early_stopping_rounds=20,\n",
    "    verbose_eval=50, show_stdv=True,seed=42)\n",
    "xgb_cvalid[['train-rmse-mean', 'test-rmse-mean']].plot()\n",
    "print('Performance does not improve from '+str(len(xgb_cvalid))+' rounds')"
   ]
  },
  {
   "cell_type": "markdown",
   "metadata": {},
   "source": [
    "## Do Five Fold CV and Store Data"
   ]
  },
  {
   "cell_type": "code",
   "execution_count": 139,
   "metadata": {
    "collapsed": true
   },
   "outputs": [],
   "source": [
    "train = train.sample(frac=1,random_state=42)"
   ]
  },
  {
   "cell_type": "code",
   "execution_count": 61,
   "metadata": {},
   "outputs": [
    {
     "name": "stdout",
     "output_type": "stream",
     "text": [
      "Training 1 Fold\n",
      "R2 Scored of Fold 1 is 0.577925415464\n",
      "Training 2 Fold\n",
      "R2 Scored of Fold 2 is 0.437322236142\n",
      "Training 3 Fold\n",
      "R2 Scored of Fold 3 is 0.601450589252\n",
      "Training 4 Fold\n",
      "R2 Scored of Fold 4 is 0.604406875372\n",
      "Training 5 Fold\n",
      "R2 Scored of Fold 5 is 0.598623396209\n",
      "Start Training\n",
      "Calculating In-Bag R2 Score\n",
      "0.629483013432\n",
      "Calculating Out-Bag R2 Score\n",
      "0.563945702488\n"
     ]
    }
   ],
   "source": [
    "stack_train,stack_pred,ID_list = get_xgb_stack_data(params,577,train,col,train['y'],test)"
   ]
  },
  {
   "cell_type": "code",
   "execution_count": 78,
   "metadata": {
    "collapsed": true
   },
   "outputs": [],
   "source": [
    "save_results(stack_train,stack_pred,'xgb_depth2_557Rounds_0.5639_0.6295.csv')"
   ]
  },
  {
   "cell_type": "markdown",
   "metadata": {},
   "source": [
    "Second Fold is quite bad. Have a look."
   ]
  },
  {
   "cell_type": "code",
   "execution_count": 63,
   "metadata": {},
   "outputs": [],
   "source": [
    "second_id = ID_list[1]"
   ]
  },
  {
   "cell_type": "code",
   "execution_count": 65,
   "metadata": {},
   "outputs": [],
   "source": [
    "second_fold = train[train['ID'].isin(second_id)]"
   ]
  },
  {
   "cell_type": "code",
   "execution_count": 66,
   "metadata": {},
   "outputs": [
    {
     "data": {
      "text/plain": [
       "265.31999999999999"
      ]
     },
     "execution_count": 66,
     "metadata": {},
     "output_type": "execute_result"
    }
   ],
   "source": [
    "max(second_fold['y'])"
   ]
  },
  {
   "cell_type": "markdown",
   "metadata": {},
   "source": [
    "## Try to Remove it?"
   ]
  },
  {
   "cell_type": "code",
   "execution_count": 72,
   "metadata": {
    "collapsed": true
   },
   "outputs": [],
   "source": [
    "train = train[train['y']<265.3]\n",
    "label = train[\"y\"]"
   ]
  },
  {
   "cell_type": "code",
   "execution_count": 73,
   "metadata": {},
   "outputs": [],
   "source": [
    "col = list(test.columns)[1:]\n",
    "dtrain = xgb.DMatrix(train[col],label)\n",
    "dtest = xgb.DMatrix(test[col])"
   ]
  },
  {
   "cell_type": "code",
   "execution_count": 74,
   "metadata": {},
   "outputs": [
    {
     "name": "stdout",
     "output_type": "stream",
     "text": [
      "[0]\ttrain-rmse:12.3844+0.160767\ttest-rmse:12.3832+0.319295\n",
      "[50]\ttrain-rmse:10.7817+0.146818\ttest-rmse:10.8693+0.347927\n",
      "[100]\ttrain-rmse:9.65925+0.139595\ttest-rmse:9.83401+0.361134\n",
      "[150]\ttrain-rmse:8.88753+0.13736\ttest-rmse:9.14894+0.361446\n",
      "[200]\ttrain-rmse:8.36373+0.137606\ttest-rmse:8.70916+0.352756\n",
      "[250]\ttrain-rmse:8.011+0.138069\ttest-rmse:8.43347+0.340435\n",
      "[300]\ttrain-rmse:7.76976+0.138537\ttest-rmse:8.2645+0.331106\n",
      "[350]\ttrain-rmse:7.59694+0.138666\ttest-rmse:8.16581+0.324116\n",
      "[400]\ttrain-rmse:7.46474+0.141517\ttest-rmse:8.1095+0.317391\n",
      "[450]\ttrain-rmse:7.35721+0.139842\ttest-rmse:8.08077+0.313071\n",
      "[500]\ttrain-rmse:7.26516+0.136449\ttest-rmse:8.06493+0.30837\n",
      "[550]\ttrain-rmse:7.18733+0.133317\ttest-rmse:8.0583+0.305311\n",
      "[600]\ttrain-rmse:7.11799+0.130786\ttest-rmse:8.05417+0.302325\n",
      "Performance does not improve from 630 rounds\n"
     ]
    },
    {
     "data": {
      "image/png": "[encoded data removed]",
      "text/plain": [
       "<matplotlib.figure.Figure at 0x7fad31110b38>"
      ]
     },
     "metadata": {},
     "output_type": "display_data"
    }
   ],
   "source": [
    "xgb_cvalid = xgb.cv(params, dtrain, num_boost_round=1000, early_stopping_rounds=20,\n",
    "    verbose_eval=50, show_stdv=True,seed=42,feval=xgb_r2_score)\n",
    "xgb_cvalid[['train-rmse-mean', 'test-rmse-mean']].plot()\n",
    "print('Performance does not improve from '+str(len(xgb_cvalid))+' rounds')"
   ]
  },
  {
   "cell_type": "code",
   "execution_count": 75,
   "metadata": {},
   "outputs": [
    {
     "name": "stdout",
     "output_type": "stream",
     "text": [
      "Training 1 Fold\n",
      "R2 Scored of Fold 1 is 0.579560135979\n",
      "Training 2 Fold\n",
      "R2 Scored of Fold 2 is 0.549713687361\n",
      "Training 3 Fold\n",
      "R2 Scored of Fold 3 is 0.602171744755\n",
      "Training 4 Fold\n",
      "R2 Scored of Fold 4 is 0.607908210172\n",
      "Training 5 Fold\n",
      "R2 Scored of Fold 5 is 0.602018538657\n",
      "Start Training\n",
      "Calculating In-Bag R2 Score\n",
      "0.650764531228\n",
      "Calculating Out-Bag R2 Score\n",
      "0.588274463385\n"
     ]
    }
   ],
   "source": [
    "stack_train2,stack_pred2,ID_list2 = get_xgb_stack_data(params,630,train,col,train['y'],test)"
   ]
  },
  {
   "cell_type": "code",
   "execution_count": 79,
   "metadata": {
    "collapsed": true
   },
   "outputs": [],
   "source": [
    "save_results(stack_train2,stack_pred2,'xgb_depth2_Rounds630_0.5882_0.6507.csv')"
   ]
  },
  {
   "cell_type": "markdown",
   "metadata": {},
   "source": [
    "## Add Magic Features and ID"
   ]
  },
  {
   "cell_type": "code",
   "execution_count": 140,
   "metadata": {
    "collapsed": true
   },
   "outputs": [],
   "source": [
    "magic_mat = train[['ID','X0','y']]"
   ]
  },
  {
   "cell_type": "code",
   "execution_count": 141,
   "metadata": {},
   "outputs": [],
   "source": [
    "magic_mat = magic_mat.groupby(['X0'])['y'].mean()"
   ]
  },
  {
   "cell_type": "code",
   "execution_count": 142,
   "metadata": {},
   "outputs": [],
   "source": [
    "magic_mat = pd.DataFrame({'X0':magic_mat.index,'magic':list(magic_mat)})\n",
    "mean_magic = magic_mat['magic'].mean()"
   ]
  },
  {
   "cell_type": "code",
   "execution_count": 143,
   "metadata": {},
   "outputs": [
    {
     "data": {
      "text/plain": [
       "102.52746181380456"
      ]
     },
     "execution_count": 143,
     "metadata": {},
     "output_type": "execute_result"
    }
   ],
   "source": [
    "mean_magic"
   ]
  },
  {
   "cell_type": "code",
   "execution_count": 144,
   "metadata": {},
   "outputs": [],
   "source": [
    "train = train.merge(magic_mat,on='X0',how='left')"
   ]
  },
  {
   "cell_type": "markdown",
   "metadata": {},
   "source": [
    "**Do a simple testing**"
   ]
  },
  {
   "cell_type": "code",
   "execution_count": 145,
   "metadata": {},
   "outputs": [
    {
     "data": {
      "text/plain": [
       "0.26027924104822997"
      ]
     },
     "execution_count": 145,
     "metadata": {},
     "output_type": "execute_result"
    }
   ],
   "source": [
    "r2_score(train['magic'],train['y'])"
   ]
  },
  {
   "cell_type": "code",
   "execution_count": 146,
   "metadata": {
    "collapsed": true
   },
   "outputs": [],
   "source": [
    "test = test.merge(magic_mat,on='X0',how = 'left')"
   ]
  },
  {
   "cell_type": "code",
   "execution_count": 147,
   "metadata": {},
   "outputs": [],
   "source": [
    "test['magic'] = test['magic'].fillna(mean_magic)"
   ]
  },
  {
   "cell_type": "markdown",
   "metadata": {},
   "source": [
    "**Do a CV for both xgb and KFold**"
   ]
  },
  {
   "cell_type": "code",
   "execution_count": 150,
   "metadata": {
    "collapsed": true
   },
   "outputs": [],
   "source": [
    "train = train.sample(frac = 1 ,random_state=42)\n",
    "label = train['y']\n",
    "col = list(test.columns)[1:]\n",
    "dtrain = xgb.DMatrix(train[col],label)\n",
    "dtest = xgb.DMatrix(test[col])"
   ]
  },
  {
   "cell_type": "code",
   "execution_count": 160,
   "metadata": {},
   "outputs": [
    {
     "name": "stdout",
     "output_type": "stream",
     "text": [
      "[0]\ttrain-rmse:12.6376+0.276734\ttest-rmse:12.63+0.546938\n",
      "[50]\ttrain-rmse:11.0716+0.316007\ttest-rmse:11.1356+0.619953\n",
      "[100]\ttrain-rmse:9.9795+0.346766\ttest-rmse:10.1235+0.684702\n",
      "[150]\ttrain-rmse:9.22247+0.366708\ttest-rmse:9.45997+0.735861\n",
      "[200]\ttrain-rmse:8.69852+0.373979\ttest-rmse:9.03786+0.774386\n",
      "[250]\ttrain-rmse:8.32934+0.370375\ttest-rmse:8.77417+0.801049\n",
      "[300]\ttrain-rmse:8.06847+0.365836\ttest-rmse:8.61424+0.817613\n",
      "[350]\ttrain-rmse:7.86844+0.345875\ttest-rmse:8.52151+0.825393\n",
      "[400]\ttrain-rmse:7.7017+0.318021\ttest-rmse:8.46591+0.827506\n",
      "[450]\ttrain-rmse:7.56445+0.295545\ttest-rmse:8.43749+0.82727\n",
      "[500]\ttrain-rmse:7.45609+0.279292\ttest-rmse:8.42381+0.82577\n",
      "[550]\ttrain-rmse:7.35796+0.262182\ttest-rmse:8.41653+0.823521\n",
      "[600]\ttrain-rmse:7.2704+0.250445\ttest-rmse:8.4153+0.822144\n",
      "Performance does not improve from 590 rounds\n"
     ]
    },
    {
     "data": {
      "image/png": "[encoded data removed]",
      "text/plain": [
       "<matplotlib.figure.Figure at 0x7fad311a1c18>"
      ]
     },
     "metadata": {},
     "output_type": "display_data"
    }
   ],
   "source": [
    "xgb_cvalid = xgb.cv(params, dtrain, num_boost_round=1000, early_stopping_rounds=20,\n",
    "    verbose_eval=50, show_stdv=True,seed=42)\n",
    "xgb_cvalid[['train-rmse-mean', 'test-rmse-mean']].plot()\n",
    "print('Performance does not improve from '+str(len(xgb_cvalid))+' rounds')"
   ]
  },
  {
   "cell_type": "code",
   "execution_count": 152,
   "metadata": {},
   "outputs": [
    {
     "name": "stdout",
     "output_type": "stream",
     "text": [
      "Training 1 Fold\n",
      "R2 Scored of Fold 1 is 0.559502430888\n",
      "Training 2 Fold\n",
      "R2 Scored of Fold 2 is 0.471694948838\n",
      "Training 3 Fold\n",
      "R2 Scored of Fold 3 is 0.576965272066\n",
      "Training 4 Fold\n",
      "R2 Scored of Fold 4 is 0.604297365045\n",
      "Training 5 Fold\n",
      "R2 Scored of Fold 5 is 0.548207173926\n",
      "Start Training\n",
      "Calculating In-Bag R2 Score\n",
      "0.634822959798\n",
      "Calculating Out-Bag R2 Score\n",
      "0.552133438153\n"
     ]
    }
   ],
   "source": [
    "stack_train3,stack_pred3,ID_list3 = get_xgb_stack_data(params,590,train,col,train['y'],test)"
   ]
  },
  {
   "cell_type": "code",
   "execution_count": 155,
   "metadata": {},
   "outputs": [],
   "source": [
    "save_results(stack_train3,stack_pred3,'xgb_depth2_Rounds590_0.5639_0.6294.csv')"
   ]
  },
  {
   "cell_type": "code",
   "execution_count": 161,
   "metadata": {
    "collapsed": true
   },
   "outputs": [],
   "source": [
    "model = xgb.train(params,dtrain,num_boost_round=590)"
   ]
  },
  {
   "cell_type": "markdown",
   "metadata": {},
   "source": [
    "## Do same procedure to all categorical data?"
   ]
  },
  {
   "cell_type": "code",
   "execution_count": 225,
   "metadata": {
    "collapsed": true
   },
   "outputs": [],
   "source": [
    "cat = ['X0','X1','X2','X3','X4','X5','X6','X8']"
   ]
  },
  {
   "cell_type": "code",
   "execution_count": 226,
   "metadata": {
    "collapsed": true
   },
   "outputs": [],
   "source": [
    "#train = pd.read_csv('data/train_c.csv')\n",
    "#test = pd.read_csv('data/test_c.csv')"
   ]
  },
  {
   "cell_type": "code",
   "execution_count": 227,
   "metadata": {},
   "outputs": [],
   "source": [
    "for i in range(len(cat)):\n",
    "    var = cat[i]\n",
    "    magic_mat = train[['ID',var,'y']]\n",
    "    magic_mat = magic_mat.groupby([var])['y'].mean()\n",
    "    magic_mat = pd.DataFrame({var:magic_mat.index,var+'_magic':list(magic_mat)})\n",
    "    mean_magic = magic_mat[var+'_magic'].mean()\n",
    "    train = train.merge(magic_mat,on=var,how='left')\n",
    "    test = test.merge(magic_mat,on=var,how = 'left')\n",
    "    test[var+'_magic'] = test[var+'_magic'].fillna(mean_magic)"
   ]
  },
  {
   "cell_type": "code",
   "execution_count": 219,
   "metadata": {},
   "outputs": [
    {
     "name": "stdout",
     "output_type": "stream",
     "text": [
      "[0]\ttrain-rmse:12.6367+0.305796\ttest-rmse:12.6282+0.598816\n",
      "[50]\ttrain-rmse:11.0574+0.326955\ttest-rmse:11.14+0.680596\n",
      "[100]\ttrain-rmse:9.95092+0.341542\ttest-rmse:10.1292+0.738444\n",
      "[150]\ttrain-rmse:9.1835+0.346575\ttest-rmse:9.46313+0.777841\n",
      "[200]\ttrain-rmse:8.65219+0.342687\ttest-rmse:9.03587+0.799987\n",
      "[250]\ttrain-rmse:8.27784+0.331352\ttest-rmse:8.769+0.807766\n",
      "[300]\ttrain-rmse:8.01466+0.318846\ttest-rmse:8.60352+0.812606\n",
      "[350]\ttrain-rmse:7.8153+0.301921\ttest-rmse:8.50175+0.811864\n",
      "[400]\ttrain-rmse:7.65448+0.288744\ttest-rmse:8.44105+0.809086\n",
      "[450]\ttrain-rmse:7.52443+0.277672\ttest-rmse:8.40699+0.807124\n",
      "[500]\ttrain-rmse:7.4164+0.269206\ttest-rmse:8.387+0.803834\n",
      "[550]\ttrain-rmse:7.32405+0.262921\ttest-rmse:8.37695+0.799687\n",
      "[600]\ttrain-rmse:7.23541+0.251992\ttest-rmse:8.37223+0.798655\n",
      "[650]\ttrain-rmse:7.15721+0.243543\ttest-rmse:8.36853+0.79756\n",
      "[700]\ttrain-rmse:7.08389+0.235737\ttest-rmse:8.36701+0.794828\n",
      "Performance does not improve from 701 rounds\n"
     ]
    },
    {
     "data": {
      "image/png": "[encoded data removed]",
      "text/plain": [
       "<matplotlib.figure.Figure at 0x7fad30e19198>"
      ]
     },
     "metadata": {},
     "output_type": "display_data"
    }
   ],
   "source": [
    "train = train.sample(frac = 1 ,random_state=42)\n",
    "label = train['y']\n",
    "col = list(test.columns)[1:]\n",
    "dtrain = xgb.DMatrix(train[col],label)\n",
    "dtest = xgb.DMatrix(test[col])\n",
    "xgb_cvalid = xgb.cv(params, dtrain, num_boost_round=1000, early_stopping_rounds=20,\n",
    "    verbose_eval=50, show_stdv=True,seed=42)\n",
    "xgb_cvalid[['train-rmse-mean', 'test-rmse-mean']].plot()\n",
    "print('Performance does not improve from '+str(len(xgb_cvalid))+' rounds')"
   ]
  },
  {
   "cell_type": "code",
   "execution_count": 181,
   "metadata": {},
   "outputs": [
    {
     "data": {
      "text/html": [
       "<div>\n",
       "<table border=\"1\" class=\"dataframe\">\n",
       "  <thead>\n",
       "    <tr style=\"text-align: right;\">\n",
       "      <th></th>\n",
       "      <th>Feature</th>\n",
       "      <th>Score</th>\n",
       "    </tr>\n",
       "  </thead>\n",
       "  <tbody>\n",
       "    <tr>\n",
       "      <th>99</th>\n",
       "      <td>X0_magic</td>\n",
       "      <td>1326</td>\n",
       "    </tr>\n",
       "    <tr>\n",
       "      <th>13</th>\n",
       "      <td>X5_magic</td>\n",
       "      <td>570</td>\n",
       "    </tr>\n",
       "    <tr>\n",
       "      <th>4</th>\n",
       "      <td>X47</td>\n",
       "      <td>367</td>\n",
       "    </tr>\n",
       "    <tr>\n",
       "      <th>90</th>\n",
       "      <td>pca_1</td>\n",
       "      <td>362</td>\n",
       "    </tr>\n",
       "    <tr>\n",
       "      <th>55</th>\n",
       "      <td>ica_18</td>\n",
       "      <td>354</td>\n",
       "    </tr>\n",
       "    <tr>\n",
       "      <th>93</th>\n",
       "      <td>pca_13</td>\n",
       "      <td>318</td>\n",
       "    </tr>\n",
       "    <tr>\n",
       "      <th>87</th>\n",
       "      <td>ica_7</td>\n",
       "      <td>302</td>\n",
       "    </tr>\n",
       "    <tr>\n",
       "      <th>45</th>\n",
       "      <td>pca_9</td>\n",
       "      <td>300</td>\n",
       "    </tr>\n",
       "    <tr>\n",
       "      <th>57</th>\n",
       "      <td>pca_2</td>\n",
       "      <td>298</td>\n",
       "    </tr>\n",
       "    <tr>\n",
       "      <th>105</th>\n",
       "      <td>pca_8</td>\n",
       "      <td>280</td>\n",
       "    </tr>\n",
       "    <tr>\n",
       "      <th>58</th>\n",
       "      <td>pca_11</td>\n",
       "      <td>248</td>\n",
       "    </tr>\n",
       "    <tr>\n",
       "      <th>102</th>\n",
       "      <td>pca_18</td>\n",
       "      <td>243</td>\n",
       "    </tr>\n",
       "    <tr>\n",
       "      <th>39</th>\n",
       "      <td>ica_11</td>\n",
       "      <td>220</td>\n",
       "    </tr>\n",
       "    <tr>\n",
       "      <th>67</th>\n",
       "      <td>X0</td>\n",
       "      <td>212</td>\n",
       "    </tr>\n",
       "    <tr>\n",
       "      <th>72</th>\n",
       "      <td>pca_10</td>\n",
       "      <td>190</td>\n",
       "    </tr>\n",
       "    <tr>\n",
       "      <th>15</th>\n",
       "      <td>ica_17</td>\n",
       "      <td>188</td>\n",
       "    </tr>\n",
       "    <tr>\n",
       "      <th>40</th>\n",
       "      <td>pca_12</td>\n",
       "      <td>185</td>\n",
       "    </tr>\n",
       "    <tr>\n",
       "      <th>6</th>\n",
       "      <td>X1</td>\n",
       "      <td>166</td>\n",
       "    </tr>\n",
       "    <tr>\n",
       "      <th>0</th>\n",
       "      <td>ica_13</td>\n",
       "      <td>164</td>\n",
       "    </tr>\n",
       "    <tr>\n",
       "      <th>77</th>\n",
       "      <td>pca_5</td>\n",
       "      <td>154</td>\n",
       "    </tr>\n",
       "    <tr>\n",
       "      <th>120</th>\n",
       "      <td>ica_4</td>\n",
       "      <td>147</td>\n",
       "    </tr>\n",
       "    <tr>\n",
       "      <th>41</th>\n",
       "      <td>pca_3</td>\n",
       "      <td>140</td>\n",
       "    </tr>\n",
       "    <tr>\n",
       "      <th>27</th>\n",
       "      <td>ica_8</td>\n",
       "      <td>136</td>\n",
       "    </tr>\n",
       "    <tr>\n",
       "      <th>24</th>\n",
       "      <td>ica_16</td>\n",
       "      <td>128</td>\n",
       "    </tr>\n",
       "    <tr>\n",
       "      <th>42</th>\n",
       "      <td>ica_3</td>\n",
       "      <td>120</td>\n",
       "    </tr>\n",
       "    <tr>\n",
       "      <th>48</th>\n",
       "      <td>X5</td>\n",
       "      <td>119</td>\n",
       "    </tr>\n",
       "    <tr>\n",
       "      <th>107</th>\n",
       "      <td>ica_12</td>\n",
       "      <td>107</td>\n",
       "    </tr>\n",
       "    <tr>\n",
       "      <th>19</th>\n",
       "      <td>pca_6</td>\n",
       "      <td>98</td>\n",
       "    </tr>\n",
       "    <tr>\n",
       "      <th>50</th>\n",
       "      <td>ica_6</td>\n",
       "      <td>92</td>\n",
       "    </tr>\n",
       "    <tr>\n",
       "      <th>10</th>\n",
       "      <td>pca_20</td>\n",
       "      <td>92</td>\n",
       "    </tr>\n",
       "    <tr>\n",
       "      <th>...</th>\n",
       "      <td>...</td>\n",
       "      <td>...</td>\n",
       "    </tr>\n",
       "    <tr>\n",
       "      <th>29</th>\n",
       "      <td>X152</td>\n",
       "      <td>3</td>\n",
       "    </tr>\n",
       "    <tr>\n",
       "      <th>116</th>\n",
       "      <td>X105</td>\n",
       "      <td>2</td>\n",
       "    </tr>\n",
       "    <tr>\n",
       "      <th>101</th>\n",
       "      <td>X82</td>\n",
       "      <td>2</td>\n",
       "    </tr>\n",
       "    <tr>\n",
       "      <th>113</th>\n",
       "      <td>X271</td>\n",
       "      <td>2</td>\n",
       "    </tr>\n",
       "    <tr>\n",
       "      <th>106</th>\n",
       "      <td>X224</td>\n",
       "      <td>2</td>\n",
       "    </tr>\n",
       "    <tr>\n",
       "      <th>21</th>\n",
       "      <td>X96</td>\n",
       "      <td>2</td>\n",
       "    </tr>\n",
       "    <tr>\n",
       "      <th>25</th>\n",
       "      <td>X58</td>\n",
       "      <td>2</td>\n",
       "    </tr>\n",
       "    <tr>\n",
       "      <th>61</th>\n",
       "      <td>X182</td>\n",
       "      <td>2</td>\n",
       "    </tr>\n",
       "    <tr>\n",
       "      <th>33</th>\n",
       "      <td>X329</td>\n",
       "      <td>2</td>\n",
       "    </tr>\n",
       "    <tr>\n",
       "      <th>65</th>\n",
       "      <td>X283</td>\n",
       "      <td>2</td>\n",
       "    </tr>\n",
       "    <tr>\n",
       "      <th>35</th>\n",
       "      <td>X77</td>\n",
       "      <td>2</td>\n",
       "    </tr>\n",
       "    <tr>\n",
       "      <th>36</th>\n",
       "      <td>X139</td>\n",
       "      <td>2</td>\n",
       "    </tr>\n",
       "    <tr>\n",
       "      <th>100</th>\n",
       "      <td>X241</td>\n",
       "      <td>1</td>\n",
       "    </tr>\n",
       "    <tr>\n",
       "      <th>12</th>\n",
       "      <td>X103</td>\n",
       "      <td>1</td>\n",
       "    </tr>\n",
       "    <tr>\n",
       "      <th>80</th>\n",
       "      <td>X38</td>\n",
       "      <td>1</td>\n",
       "    </tr>\n",
       "    <tr>\n",
       "      <th>82</th>\n",
       "      <td>X3_magic</td>\n",
       "      <td>1</td>\n",
       "    </tr>\n",
       "    <tr>\n",
       "      <th>118</th>\n",
       "      <td>X218</td>\n",
       "      <td>1</td>\n",
       "    </tr>\n",
       "    <tr>\n",
       "      <th>53</th>\n",
       "      <td>X22</td>\n",
       "      <td>1</td>\n",
       "    </tr>\n",
       "    <tr>\n",
       "      <th>47</th>\n",
       "      <td>X27</td>\n",
       "      <td>1</td>\n",
       "    </tr>\n",
       "    <tr>\n",
       "      <th>43</th>\n",
       "      <td>X23</td>\n",
       "      <td>1</td>\n",
       "    </tr>\n",
       "    <tr>\n",
       "      <th>14</th>\n",
       "      <td>X306</td>\n",
       "      <td>1</td>\n",
       "    </tr>\n",
       "    <tr>\n",
       "      <th>74</th>\n",
       "      <td>X150</td>\n",
       "      <td>1</td>\n",
       "    </tr>\n",
       "    <tr>\n",
       "      <th>110</th>\n",
       "      <td>X275</td>\n",
       "      <td>1</td>\n",
       "    </tr>\n",
       "    <tr>\n",
       "      <th>17</th>\n",
       "      <td>X156</td>\n",
       "      <td>1</td>\n",
       "    </tr>\n",
       "    <tr>\n",
       "      <th>108</th>\n",
       "      <td>X31</td>\n",
       "      <td>1</td>\n",
       "    </tr>\n",
       "    <tr>\n",
       "      <th>94</th>\n",
       "      <td>X292</td>\n",
       "      <td>1</td>\n",
       "    </tr>\n",
       "    <tr>\n",
       "      <th>95</th>\n",
       "      <td>X75</td>\n",
       "      <td>1</td>\n",
       "    </tr>\n",
       "    <tr>\n",
       "      <th>96</th>\n",
       "      <td>X171</td>\n",
       "      <td>1</td>\n",
       "    </tr>\n",
       "    <tr>\n",
       "      <th>103</th>\n",
       "      <td>X131</td>\n",
       "      <td>1</td>\n",
       "    </tr>\n",
       "    <tr>\n",
       "      <th>28</th>\n",
       "      <td>X340</td>\n",
       "      <td>1</td>\n",
       "    </tr>\n",
       "  </tbody>\n",
       "</table>\n",
       "<p>122 rows × 2 columns</p>\n",
       "</div>"
      ],
      "text/plain": [
       "      Feature  Score\n",
       "99   X0_magic   1326\n",
       "13   X5_magic    570\n",
       "4         X47    367\n",
       "90      pca_1    362\n",
       "55     ica_18    354\n",
       "93     pca_13    318\n",
       "87      ica_7    302\n",
       "45      pca_9    300\n",
       "57      pca_2    298\n",
       "105     pca_8    280\n",
       "58     pca_11    248\n",
       "102    pca_18    243\n",
       "39     ica_11    220\n",
       "67         X0    212\n",
       "72     pca_10    190\n",
       "15     ica_17    188\n",
       "40     pca_12    185\n",
       "6          X1    166\n",
       "0      ica_13    164\n",
       "77      pca_5    154\n",
       "120     ica_4    147\n",
       "41      pca_3    140\n",
       "27      ica_8    136\n",
       "24     ica_16    128\n",
       "42      ica_3    120\n",
       "48         X5    119\n",
       "107    ica_12    107\n",
       "19      pca_6     98\n",
       "50      ica_6     92\n",
       "10     pca_20     92\n",
       "..        ...    ...\n",
       "29       X152      3\n",
       "116      X105      2\n",
       "101       X82      2\n",
       "113      X271      2\n",
       "106      X224      2\n",
       "21        X96      2\n",
       "25        X58      2\n",
       "61       X182      2\n",
       "33       X329      2\n",
       "65       X283      2\n",
       "35        X77      2\n",
       "36       X139      2\n",
       "100      X241      1\n",
       "12       X103      1\n",
       "80        X38      1\n",
       "82   X3_magic      1\n",
       "118      X218      1\n",
       "53        X22      1\n",
       "47        X27      1\n",
       "43        X23      1\n",
       "14       X306      1\n",
       "74       X150      1\n",
       "110      X275      1\n",
       "17       X156      1\n",
       "108       X31      1\n",
       "94       X292      1\n",
       "95        X75      1\n",
       "96       X171      1\n",
       "103      X131      1\n",
       "28       X340      1\n",
       "\n",
       "[122 rows x 2 columns]"
      ]
     },
     "execution_count": 181,
     "metadata": {},
     "output_type": "execute_result"
    }
   ],
   "source": [
    "model = xgb.train(params,dtrain,num_boost_round=701)\n",
    "get_feature_importance(model)"
   ]
  },
  {
   "cell_type": "code",
   "execution_count": 182,
   "metadata": {},
   "outputs": [
    {
     "name": "stdout",
     "output_type": "stream",
     "text": [
      "Training 1 Fold\n",
      "R2 Scored of Fold 1 is 0.574771664384\n",
      "Training 2 Fold\n",
      "R2 Scored of Fold 2 is 0.443657934686\n",
      "Training 3 Fold\n",
      "R2 Scored of Fold 3 is 0.605522245802\n",
      "Training 4 Fold\n",
      "R2 Scored of Fold 4 is 0.594195112219\n",
      "Training 5 Fold\n",
      "R2 Scored of Fold 5 is 0.59866661899\n",
      "Start Training\n",
      "Calculating In-Bag R2 Score\n",
      "0.663991359202\n",
      "Calculating Out-Bag R2 Score\n",
      "0.563362715216\n"
     ]
    }
   ],
   "source": [
    "stack_train4,stack_pred4,ID_list4 = get_xgb_stack_data(params,701,train,col,train['y'],test)"
   ]
  },
  {
   "cell_type": "code",
   "execution_count": 183,
   "metadata": {
    "collapsed": true
   },
   "outputs": [],
   "source": [
    "save_results(stack_train4,stack_pred4,'xbg_depth2_701Rounds_0.5634_0.6640_All_Magics.csv')"
   ]
  },
  {
   "cell_type": "markdown",
   "metadata": {},
   "source": [
    "## With Std"
   ]
  },
  {
   "cell_type": "code",
   "execution_count": 220,
   "metadata": {
    "collapsed": true
   },
   "outputs": [],
   "source": [
    "magic_var = []\n",
    "for i in range(len(cat)):\n",
    "    var = cat[i]\n",
    "    magic_var.append(var+'_magic')\n",
    "magic_var.remove('X0_magic')\n",
    "magic_var.remove('X5_magic')"
   ]
  },
  {
   "cell_type": "code",
   "execution_count": 228,
   "metadata": {},
   "outputs": [],
   "source": [
    "IDs = ['X0','X5']\n",
    "for i in range(len(cat)):\n",
    "    var = cat[i]\n",
    "    magic_mat = train[['ID',var,'y']]\n",
    "    magic_mat = magic_mat.groupby([var])['y'].std()\n",
    "    magic_mat = pd.DataFrame({var:magic_mat.index,var+'_magic_std':list(magic_mat)})\n",
    "    mean_magic = magic_mat[var+'_magic_std'].std()\n",
    "    train = train.merge(magic_mat,on=var,how='left')\n",
    "    test = test.merge(magic_mat,on=var,how = 'left')\n",
    "    test[var+'_magic_std'] = test[var+'_magic_std'].fillna(mean_magic)"
   ]
  },
  {
   "cell_type": "code",
   "execution_count": 230,
   "metadata": {},
   "outputs": [],
   "source": [
    "train = train.sample(frac = 1 ,random_state=42)\n",
    "label = train['y']\n",
    "col = list(test.columns)[1:]\n",
    "#col = [each for each in col if each not in magic_var]\n",
    "dtrain = xgb.DMatrix(train[col],label)\n",
    "dtest = xgb.DMatrix(test[col])"
   ]
  },
  {
   "cell_type": "code",
   "execution_count": 231,
   "metadata": {},
   "outputs": [
    {
     "name": "stdout",
     "output_type": "stream",
     "text": [
      "[0]\ttrain-rmse:12.6366+0.305737\ttest-rmse:12.6283+0.598697\n",
      "[50]\ttrain-rmse:11.05+0.321149\ttest-rmse:11.1448+0.675935\n",
      "[100]\ttrain-rmse:9.94256+0.335583\ttest-rmse:10.1365+0.731649\n",
      "[150]\ttrain-rmse:9.1735+0.341201\ttest-rmse:9.47125+0.768847\n",
      "[200]\ttrain-rmse:8.63806+0.335538\ttest-rmse:9.04443+0.789527\n",
      "[250]\ttrain-rmse:8.25627+0.319007\ttest-rmse:8.77748+0.798726\n",
      "[300]\ttrain-rmse:7.99268+0.307433\ttest-rmse:8.61127+0.802166\n",
      "[350]\ttrain-rmse:7.78706+0.288416\ttest-rmse:8.51131+0.799708\n",
      "[400]\ttrain-rmse:7.62626+0.276143\ttest-rmse:8.45039+0.797099\n",
      "[450]\ttrain-rmse:7.49387+0.265401\ttest-rmse:8.41558+0.793303\n",
      "[500]\ttrain-rmse:7.38047+0.255261\ttest-rmse:8.39528+0.786923\n",
      "[550]\ttrain-rmse:7.28525+0.248753\ttest-rmse:8.38744+0.780394\n",
      "Performance does not improve from 572 rounds\n"
     ]
    },
    {
     "data": {
      "image/png": "[encoded data removed]",
      "text/plain": [
       "<matplotlib.figure.Figure at 0x7fad30c78160>"
      ]
     },
     "metadata": {},
     "output_type": "display_data"
    }
   ],
   "source": [
    "xgb_cvalid = xgb.cv(params, dtrain, num_boost_round=1000, early_stopping_rounds=20,\n",
    "    verbose_eval=50, show_stdv=True,seed=42)\n",
    "xgb_cvalid[['train-rmse-mean', 'test-rmse-mean']].plot()\n",
    "print('Performance does not improve from '+str(len(xgb_cvalid))+' rounds')"
   ]
  },
  {
   "cell_type": "code",
   "execution_count": 232,
   "metadata": {
    "collapsed": true
   },
   "outputs": [],
   "source": [
    "model = xgb.train(params,dtrain,num_boost_round=572)"
   ]
  },
  {
   "cell_type": "code",
   "execution_count": 234,
   "metadata": {},
   "outputs": [
    {
     "name": "stdout",
     "output_type": "stream",
     "text": [
      "Training 1 Fold\n",
      "R2 Scored of Fold 1 is 0.577246995475\n",
      "Training 2 Fold\n",
      "R2 Scored of Fold 2 is 0.44495116449\n",
      "Training 3 Fold\n",
      "R2 Scored of Fold 3 is 0.604559779649\n",
      "Training 4 Fold\n",
      "R2 Scored of Fold 4 is 0.595121202684\n",
      "Training 5 Fold\n",
      "R2 Scored of Fold 5 is 0.598039707951\n",
      "Start Training\n",
      "Calculating In-Bag R2 Score\n",
      "0.650253283828\n",
      "Calculating Out-Bag R2 Score\n",
      "0.56398377005\n"
     ]
    }
   ],
   "source": [
    "stack_train5,stack_pred5,ID_list4 = get_xgb_stack_data(params,572,train,col,train['y'],test)"
   ]
  },
  {
   "cell_type": "code",
   "execution_count": 235,
   "metadata": {
    "collapsed": true
   },
   "outputs": [],
   "source": [
    "save_results(stack_train5,stack_pred5,'xgb_depth2_rounds572_0.563984_0.65025_All_Magic_std.csv')"
   ]
  },
  {
   "cell_type": "code",
   "execution_count": null,
   "metadata": {
    "collapsed": true
   },
   "outputs": [],
   "source": []
  }
 ],
 "metadata": {
  "kernelspec": {
   "display_name": "Python 3",
   "language": "python",
   "name": "python3"
  },
  "language_info": {
   "codemirror_mode": {
    "name": "ipython",
    "version": 3
   },
   "file_extension": ".py",
   "mimetype": "text/x-python",
   "name": "python",
   "nbconvert_exporter": "python",
   "pygments_lexer": "ipython3",
   "version": "3.5.2"
  }
 },
 "nbformat": 4,
 "nbformat_minor": 2
}
