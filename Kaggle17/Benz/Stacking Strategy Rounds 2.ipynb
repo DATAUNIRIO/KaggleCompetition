{
 "cells": [
  {
   "cell_type": "markdown",
   "metadata": {},
   "source": [
    "## First, try gradient boosting without magic feature"
   ]
  },
  {
   "cell_type": "code",
   "execution_count": 6,
   "metadata": {},
   "outputs": [],
   "source": [
    "from sklearn.ensemble import GradientBoostingRegressor\n",
    "import warnings\n",
    "warnings.filterwarnings('ignore')\n",
    "%run Functions.py"
   ]
  },
  {
   "cell_type": "code",
   "execution_count": 7,
   "metadata": {},
   "outputs": [],
   "source": [
    "train = pd.read_csv('data/train_c.csv')\n",
    "test = pd.read_csv('data/test_c.csv')"
   ]
  },
  {
   "cell_type": "code",
   "execution_count": 11,
   "metadata": {
    "collapsed": true
   },
   "outputs": [],
   "source": [
    "train,test = get_additional_features(train,test)\n",
    "col = test.columns"
   ]
  },
  {
   "cell_type": "code",
   "execution_count": 12,
   "metadata": {},
   "outputs": [],
   "source": [
    "gb1 = GradientBoostingRegressor(n_estimators=1000,max_features=0.95,learning_rate=0.005,max_depth=4)"
   ]
  },
  {
   "cell_type": "code",
   "execution_count": 13,
   "metadata": {},
   "outputs": [
    {
     "name": "stdout",
     "output_type": "stream",
     "text": [
      "Training 1 Fold\n",
      "R2 Scored of Fold 1 is -1.12145401894\n",
      "RMSE of Fold 1 is 17.9983582514\n",
      "Training 2 Fold\n",
      "R2 Scored of Fold 2 is 0.435685110191\n",
      "RMSE of Fold 2 is 10.7305840654\n",
      "Training 3 Fold\n",
      "R2 Scored of Fold 3 is 0.582815698482\n",
      "RMSE of Fold 3 is 7.9741359325\n",
      "Training 4 Fold\n",
      "R2 Scored of Fold 4 is 0.52912272281\n",
      "RMSE of Fold 4 is 8.64138807407\n",
      "Training 5 Fold\n",
      "R2 Scored of Fold 5 is 0.0137256337587\n",
      "RMSE of Fold 5 is 11.4087577269\n",
      "Start Training\n",
      "Calculating In-Bag R2 Score\n",
      "0.674962280129\n",
      "Calculating Out-Bag R2 Score\n",
      "0.0879790292594\n",
      "Calculating In-Bag RMSE\n",
      "7.22792014518\n",
      "Calculating Out-Bag RMSE\n",
      "11.35064481\n"
     ]
    }
   ],
   "source": [
    "gb1_train,gb1_test,ID = get_sklearn_stack_data(gb1,train,col,train['y'],test)"
   ]
  },
  {
   "cell_type": "code",
   "execution_count": 14,
   "metadata": {
    "collapsed": true
   },
   "outputs": [],
   "source": [
    "gb1_test.to_csv('GBDT_1000Rounds_WithoutMagic_For_Comparison.csv',index=False)"
   ]
  },
  {
   "cell_type": "code",
   "execution_count": 37,
   "metadata": {
    "collapsed": true
   },
   "outputs": [],
   "source": [
    "save_results(gb1_train,gb1_test,'GBDT_1000Rounds_WithoutMagic_For_Comparison.csv')"
   ]
  },
  {
   "cell_type": "markdown",
   "metadata": {},
   "source": [
    "## Try: Lasso Without magic feature"
   ]
  },
  {
   "cell_type": "code",
   "execution_count": 15,
   "metadata": {
    "collapsed": true
   },
   "outputs": [],
   "source": [
    "from sklearn.linear_model import Lasso"
   ]
  },
  {
   "cell_type": "code",
   "execution_count": 16,
   "metadata": {
    "collapsed": true
   },
   "outputs": [],
   "source": [
    "las1 = Lasso(alpha=5,random_state=42)"
   ]
  },
  {
   "cell_type": "code",
   "execution_count": 17,
   "metadata": {},
   "outputs": [
    {
     "name": "stdout",
     "output_type": "stream",
     "text": [
      "Training 1 Fold\n",
      "R2 Scored of Fold 1 is 0.143337224026\n",
      "RMSE of Fold 1 is 11.4372345772\n",
      "Training 2 Fold\n",
      "R2 Scored of Fold 2 is 0.0879449830023\n",
      "RMSE of Fold 2 is 13.6418454416\n",
      "Training 3 Fold\n",
      "R2 Scored of Fold 3 is 0.140304204579\n",
      "RMSE of Fold 3 is 11.4470098666\n",
      "Training 4 Fold\n",
      "R2 Scored of Fold 4 is 0.141085302528\n",
      "RMSE of Fold 4 is 11.6709083767\n",
      "Training 5 Fold\n",
      "R2 Scored of Fold 5 is 0.154912322122\n",
      "RMSE of Fold 5 is 10.5606431905\n",
      "Start Training\n",
      "Calculating In-Bag R2 Score\n",
      "0.145449460807\n",
      "Calculating Out-Bag R2 Score\n",
      "0.133516807251\n",
      "Calculating In-Bag RMSE\n",
      "11.7196688555\n",
      "Calculating Out-Bag RMSE\n",
      "11.7515282905\n"
     ]
    }
   ],
   "source": [
    "las1_train,las1_test,ID = get_sklearn_stack_data(las1,train,col,train['y'],test)"
   ]
  },
  {
   "cell_type": "code",
   "execution_count": 18,
   "metadata": {
    "collapsed": true
   },
   "outputs": [],
   "source": [
    "las1_test.to_csv('Lasso_alpha5_without_magic_test.csv',index=False)"
   ]
  },
  {
   "cell_type": "markdown",
   "metadata": {},
   "source": [
    "**Horrible results**"
   ]
  },
  {
   "cell_type": "markdown",
   "metadata": {},
   "source": [
    "## lightgbm"
   ]
  },
  {
   "cell_type": "code",
   "execution_count": 19,
   "metadata": {
    "collapsed": true
   },
   "outputs": [],
   "source": [
    "import lightgbm as lgb"
   ]
  },
  {
   "cell_type": "code",
   "execution_count": 20,
   "metadata": {
    "collapsed": true
   },
   "outputs": [],
   "source": [
    "params = {\n",
    "        'objective': 'regression',\n",
    "            'metric': 'rmse',\n",
    "            'boosting': 'gbdt',\n",
    "            'learning_rate': 0.0045 , #small learn rate, large number of iterations\n",
    "            'verbose': 0,\n",
    "            'num_iterations': 550,\n",
    "            'bagging_fraction': 0.95,\n",
    "            'bagging_freq': 1,\n",
    "            'bagging_seed': 42,\n",
    "            'feature_fraction': 0.95,\n",
    "            'feature_fraction_seed': 42,\n",
    "            'max_bin': 100,\n",
    "            'max_depth': 4,\n",
    "            'num_rounds': 1200\n",
    "        }"
   ]
  },
  {
   "cell_type": "code",
   "execution_count": 21,
   "metadata": {},
   "outputs": [
    {
     "name": "stdout",
     "output_type": "stream",
     "text": [
      "Training 1 Fold\n",
      "R2 Scored of Fold 1 is 0.405331375509\n",
      "RMSE of Fold 1 is 9.52913748746\n",
      "Training 2 Fold\n",
      "R2 Scored of Fold 2 is 0.439583033111\n",
      "RMSE of Fold 2 is 10.6934598734\n",
      "Training 3 Fold\n",
      "R2 Scored of Fold 3 is 0.594790131372\n",
      "RMSE of Fold 3 is 7.85886199951\n",
      "Training 4 Fold\n",
      "R2 Scored of Fold 4 is 0.537890382543\n",
      "RMSE of Fold 4 is 8.56055941872\n",
      "Training 5 Fold\n",
      "R2 Scored of Fold 5 is 0.661403965389\n",
      "RMSE of Fold 5 is 6.68467686777\n",
      "Start Training\n",
      "Calculating In-Bag R2 Score\n",
      "0.626576449225\n",
      "Calculating Out-Bag R2 Score\n",
      "0.527799777585\n",
      "Calculating In-Bag RMSE\n",
      "7.74724546613\n",
      "Calculating Out-Bag RMSE\n",
      "8.66533912938\n"
     ]
    }
   ],
   "source": [
    "lgb_train,lgb_test,ID = get_lgb_stack_data(params,1200,train,col,train['y'],test)"
   ]
  },
  {
   "cell_type": "code",
   "execution_count": 35,
   "metadata": {
    "collapsed": true
   },
   "outputs": [],
   "source": [
    "lgb_train.to_csv('StackingData/StackingInput_lgb_without_magic.csv',index=False)"
   ]
  },
  {
   "cell_type": "code",
   "execution_count": 36,
   "metadata": {
    "collapsed": true
   },
   "outputs": [],
   "source": [
    "lgb_test.to_csv('submission/sublgb_without_magic.csv',index=False)"
   ]
  },
  {
   "cell_type": "markdown",
   "metadata": {},
   "source": [
    "## Average two GBDT Sub"
   ]
  },
  {
   "cell_type": "code",
   "execution_count": 23,
   "metadata": {
    "collapsed": true
   },
   "outputs": [],
   "source": [
    "gbdt_1 = pd.read_csv('submission/subGBDT_1000trees_depth4_0.55_0.69.csv')"
   ]
  },
  {
   "cell_type": "code",
   "execution_count": 24,
   "metadata": {
    "collapsed": true
   },
   "outputs": [],
   "source": [
    "Average = 0.5*gb1_test['y'] + 0.5*gbdt_1['y']"
   ]
  },
  {
   "cell_type": "code",
   "execution_count": 27,
   "metadata": {},
   "outputs": [],
   "source": [
    "sub=pd.DataFrame({\"ID\":test['ID'],'y':Average})\n",
    "sub.to_csv('Average_two_GBDT.csv',index=False)"
   ]
  },
  {
   "cell_type": "markdown",
   "metadata": {},
   "source": [
    "## OK, start today's main submission"
   ]
  },
  {
   "cell_type": "markdown",
   "metadata": {},
   "source": [
    "## Trial 1: Two xgb: With Magic and Without Magic"
   ]
  },
  {
   "cell_type": "code",
   "execution_count": 29,
   "metadata": {},
   "outputs": [],
   "source": [
    "xgb_nomagic = pd.read_csv('submission/subStackThenAveragedXGB.csv')"
   ]
  },
  {
   "cell_type": "code",
   "execution_count": 30,
   "metadata": {
    "collapsed": true
   },
   "outputs": [],
   "source": [
    "xgb_withmagic = pd.read_csv('submission/subxgb_depth4_581Rounds_All_Decomp_magic_features_0.5526_0.6378.csv')"
   ]
  },
  {
   "cell_type": "code",
   "execution_count": 33,
   "metadata": {
    "collapsed": true
   },
   "outputs": [],
   "source": [
    "Average = xgb_nomagic['y']*0.75+xgb_withmagic['y']*0.25"
   ]
  },
  {
   "cell_type": "code",
   "execution_count": 34,
   "metadata": {
    "collapsed": true
   },
   "outputs": [],
   "source": [
    "sub=pd.DataFrame({\"ID\":test['ID'],'y':Average})\n",
    "sub.to_csv('submission/Average_two_xgb_magic_nomagic_0.75_0.25.csv',index=False)"
   ]
  },
  {
   "cell_type": "markdown",
   "metadata": {},
   "source": [
    "## Trial 2: Average xgb,GBDT,lightGBM on the second level"
   ]
  },
  {
   "cell_type": "code",
   "execution_count": 38,
   "metadata": {
    "collapsed": true
   },
   "outputs": [],
   "source": [
    "Average = 0.7*xgb_nomagic['y'] + 0.15*lgb_test['y'] + 0.15*gb1_test['y']"
   ]
  },
  {
   "cell_type": "code",
   "execution_count": 39,
   "metadata": {
    "collapsed": true
   },
   "outputs": [],
   "source": [
    "sub=pd.DataFrame({\"ID\":test['ID'],'y':Average})\n",
    "sub.to_csv('submission/Average_non_magic_xgblgbgbdt_0.7_0.15_0.15.csv',index=False)"
   ]
  },
  {
   "cell_type": "markdown",
   "metadata": {},
   "source": [
    "## Trial 3: Stacking xgb, GBDT and LightGBM with Lasso"
   ]
  },
  {
   "cell_type": "code",
   "execution_count": 41,
   "metadata": {},
   "outputs": [],
   "source": [
    "lgb_train,lgb_test = read_data('sublgb_without_magic.csv')"
   ]
  },
  {
   "cell_type": "code",
   "execution_count": 43,
   "metadata": {},
   "outputs": [],
   "source": [
    "gbdt_train,gbdt_test = read_data('subGBDT_1000Rounds_WithoutMagic_For_Comparison.csv')"
   ]
  },
  {
   "cell_type": "code",
   "execution_count": 45,
   "metadata": {
    "collapsed": true
   },
   "outputs": [],
   "source": [
    "y_mean = np.mean(train.y)"
   ]
  },
  {
   "cell_type": "code",
   "execution_count": 46,
   "metadata": {},
   "outputs": [],
   "source": [
    "xgb_params = {\n",
    "    'n_trees': 520, \n",
    "    'eta': 0.0045,\n",
    "    'max_depth': 4,\n",
    "    'subsample': 0.93,\n",
    "    'objective': 'reg:linear',\n",
    "    'eval_metric': 'rmse',\n",
    "    'base_score': y_mean, # base prediction = mean(target)\n",
    "    'silent': 1\n",
    "}"
   ]
  },
  {
   "cell_type": "code",
   "execution_count": 49,
   "metadata": {},
   "outputs": [
    {
     "name": "stdout",
     "output_type": "stream",
     "text": [
      "Training 1 Fold\n",
      "R2 Scored of Fold 1 is 0.135929170964\n",
      "RMSE of Fold 1 is 11.4865802816\n",
      "Training 2 Fold\n",
      "R2 Scored of Fold 2 is 0.437593717334\n",
      "RMSE of Fold 2 is 10.7124223828\n",
      "Training 3 Fold\n",
      "R2 Scored of Fold 3 is 0.586799917984\n",
      "RMSE of Fold 3 is 7.93596703829\n",
      "Training 4 Fold\n",
      "R2 Scored of Fold 4 is 0.540938596045\n",
      "RMSE of Fold 4 is 8.53227869704\n",
      "Training 5 Fold\n",
      "R2 Scored of Fold 5 is 0.446273561585\n",
      "RMSE of Fold 5 is 8.54844486172\n",
      "Start Training\n",
      "Calculating In-Bag R2 Score\n",
      "0.637114103361\n",
      "Calculating Out-Bag R2 Score\n",
      "0.429506992783\n",
      "Calculating In-Bag RMSE\n",
      "7.63715332044\n",
      "Calculating Out-Bag RMSE\n",
      "9.44313865229\n"
     ]
    }
   ],
   "source": [
    "#def get_xgb_stack_data(params,rounds,train,col,label,test):\n",
    "xgb_train,xgb_test,ID = get_xgb_stack_data(xgb_params,1250,train,col,train.y,test)"
   ]
  },
  {
   "cell_type": "code",
   "execution_count": 50,
   "metadata": {
    "collapsed": true
   },
   "outputs": [],
   "source": [
    "save_results(xgb_train,xgb_test,'StackThenAveragedXGB.csv')"
   ]
  },
  {
   "cell_type": "markdown",
   "metadata": {},
   "source": [
    "## Level2"
   ]
  },
  {
   "cell_type": "code",
   "execution_count": 52,
   "metadata": {
    "collapsed": true
   },
   "outputs": [],
   "source": [
    "stack_train = pd.DataFrame()\n",
    "stack_train['ID'] = xgb_train['ID']\n",
    "stack_train['y'] = xgb_train['y']\n",
    "stack_train['xgb'] = xgb_train['predicted']\n",
    "lgb_train = lgb_train[['ID','predicted']]\n",
    "lgb_train.columns = ['ID','lgb']\n",
    "stack_train = stack_train.merge(lgb_train,on='ID',how='left')\n",
    "gbdt_train = gbdt_train[['ID','predicted']]\n",
    "gbdt_train.columns = ['ID','gbdt']\n",
    "stack_train = stack_train.merge(gbdt_train,on='ID',how='left')"
   ]
  },
  {
   "cell_type": "code",
   "execution_count": 54,
   "metadata": {},
   "outputs": [],
   "source": [
    "stack_test = xgb_test\n",
    "stack_test.columns = ['ID','xgb']\n",
    "stack_test['lgb']=lgb_test['y']\n",
    "stack_test['gbdt'] = gbdt_test['y']"
   ]
  },
  {
   "cell_type": "code",
   "execution_count": 62,
   "metadata": {},
   "outputs": [],
   "source": [
    "las = Lasso(alpha=0.5,random_state=42)"
   ]
  },
  {
   "cell_type": "code",
   "execution_count": 63,
   "metadata": {
    "collapsed": true
   },
   "outputs": [],
   "source": [
    "col = stack_test.columns"
   ]
  },
  {
   "cell_type": "code",
   "execution_count": 74,
   "metadata": {},
   "outputs": [
    {
     "name": "stdout",
     "output_type": "stream",
     "text": [
      "Training 1 Fold\n",
      "R2 Scored of Fold 1 is 0.32908690313\n",
      "RMSE of Fold 1 is 10.1216010519\n",
      "Training 2 Fold\n",
      "R2 Scored of Fold 2 is 0.413296252623\n",
      "RMSE of Fold 2 is 10.9413783866\n",
      "Training 3 Fold\n",
      "R2 Scored of Fold 3 is 0.594684838112\n",
      "RMSE of Fold 3 is 7.85988299075\n",
      "Training 4 Fold\n",
      "R2 Scored of Fold 4 is 0.536576580585\n",
      "RMSE of Fold 4 is 8.57271984212\n",
      "Training 5 Fold\n",
      "R2 Scored of Fold 5 is 0.628575981962\n",
      "RMSE of Fold 5 is 7.00123212277\n",
      "Start Training\n",
      "Calculating In-Bag R2 Score\n",
      "0.545908786038\n",
      "Calculating Out-Bag R2 Score\n",
      "0.500444111282\n",
      "Calculating In-Bag RMSE\n",
      "8.54314964891\n",
      "Calculating Out-Bag RMSE\n",
      "8.89936287883\n"
     ]
    }
   ],
   "source": [
    "strain,stest,ID = get_sklearn_stack_data(las,stack_train,col,stack_train['y'],stack_test)"
   ]
  },
  {
   "cell_type": "markdown",
   "metadata": {},
   "source": [
    "## xgb?"
   ]
  },
  {
   "cell_type": "code",
   "execution_count": 72,
   "metadata": {
    "collapsed": true
   },
   "outputs": [],
   "source": [
    "params = {\n",
    "    'eta': 0.005,\n",
    "    'max_depth': 2,\n",
    "    'objective': 'reg:linear',\n",
    "    'eval_metric': 'rmse',\n",
    "    'base_score': y_mean, # base prediction = mean(target)\n",
    "    'silent': 1\n",
    "}"
   ]
  },
  {
   "cell_type": "code",
   "execution_count": 73,
   "metadata": {},
   "outputs": [
    {
     "name": "stdout",
     "output_type": "stream",
     "text": [
      "Training 1 Fold\n",
      "R2 Scored of Fold 1 is 0.24648505742\n",
      "RMSE of Fold 1 is 10.7265982488\n",
      "Training 2 Fold\n",
      "R2 Scored of Fold 2 is 0.43205677416\n",
      "RMSE of Fold 2 is 10.7650256359\n",
      "Training 3 Fold\n",
      "R2 Scored of Fold 3 is 0.600678809385\n",
      "RMSE of Fold 3 is 7.8015488906\n",
      "Training 4 Fold\n",
      "R2 Scored of Fold 4 is 0.509076356415\n",
      "RMSE of Fold 4 is 8.82341318353\n",
      "Training 5 Fold\n",
      "R2 Scored of Fold 5 is 0.599594786673\n",
      "RMSE of Fold 5 is 7.2692456713\n",
      "Start Training\n",
      "Calculating In-Bag R2 Score\n",
      "0.569639301336\n",
      "Calculating Out-Bag R2 Score\n",
      "0.477578356811\n",
      "Calculating In-Bag RMSE\n",
      "8.31692501831\n",
      "Calculating Out-Bag RMSE\n",
      "9.07716632602\n"
     ]
    }
   ],
   "source": [
    "strain,stest,ID = get_xgb_stack_data(params,1250,stack_train,col,stack_train['y'],stack_test)"
   ]
  },
  {
   "cell_type": "code",
   "execution_count": 75,
   "metadata": {
    "collapsed": true
   },
   "outputs": [],
   "source": [
    "save_results(strain,stest,'stack_xgb_lgb_gbdt_by_las.csv')"
   ]
  },
  {
   "cell_type": "markdown",
   "metadata": {},
   "source": [
    "## Average Results--- Last Try Today"
   ]
  },
  {
   "cell_type": "code",
   "execution_count": 76,
   "metadata": {
    "collapsed": true
   },
   "outputs": [],
   "source": [
    "input1 = pd.read_csv('submission/Repro_Ker_2.csv')"
   ]
  },
  {
   "cell_type": "code",
   "execution_count": 77,
   "metadata": {
    "collapsed": true
   },
   "outputs": [],
   "source": [
    "Average = 0.7*input1.y + 0.15*lgb_test['y'] + 0.15*gb1_test['y']"
   ]
  },
  {
   "cell_type": "code",
   "execution_count": 78,
   "metadata": {
    "collapsed": true
   },
   "outputs": [],
   "source": [
    "sub=pd.DataFrame({\"ID\":test['ID'],'y':Average})\n",
    "sub.to_csv('submission/Average_LB_Magic_lgbgbdt_0.7_0.15_0.15.csv',index=False)"
   ]
  },
  {
   "cell_type": "code",
   "execution_count": null,
   "metadata": {
    "collapsed": true
   },
   "outputs": [],
   "source": []
  }
 ],
 "metadata": {
  "kernelspec": {
   "display_name": "Python 3",
   "language": "python",
   "name": "python3"
  },
  "language_info": {
   "codemirror_mode": {
    "name": "ipython",
    "version": 3
   },
   "file_extension": ".py",
   "mimetype": "text/x-python",
   "name": "python",
   "nbconvert_exporter": "python",
   "pygments_lexer": "ipython3",
   "version": "3.5.2"
  }
 },
 "nbformat": 4,
 "nbformat_minor": 2
}
