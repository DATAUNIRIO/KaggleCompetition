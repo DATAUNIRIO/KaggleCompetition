{
 "cells": [
  {
   "cell_type": "code",
   "execution_count": 54,
   "metadata": {},
   "outputs": [],
   "source": [
    "import warnings\n",
    "warnings.filterwarnings('ignore')\n",
    "import pandas as pd\n",
    "import numpy as np\n",
    "%run Functions.py"
   ]
  },
  {
   "cell_type": "code",
   "execution_count": 64,
   "metadata": {
    "collapsed": true
   },
   "outputs": [],
   "source": [
    "train = pd.read_csv('data/train.csv')\n",
    "test = pd.read_csv('data/test.csv')"
   ]
  },
  {
   "cell_type": "code",
   "execution_count": 65,
   "metadata": {},
   "outputs": [],
   "source": [
    "cat = []\n",
    "for each in train.columns:\n",
    "    if train[each].dtype == 'object':\n",
    "        cat.append(each)"
   ]
  },
  {
   "cell_type": "code",
   "execution_count": 66,
   "metadata": {},
   "outputs": [],
   "source": [
    "col = test.columns\n",
    "label = train.y"
   ]
  },
  {
   "cell_type": "code",
   "execution_count": 67,
   "metadata": {},
   "outputs": [],
   "source": [
    "import itertools\n",
    "for f_1, f_2 in itertools.combinations(cat, 2):\n",
    "    train[f_1+'_'+f_2] = train[f_1]+train[f_2]\n",
    "    test[f_1+'_'+f_2] = test[f_1]+test[f_2]"
   ]
  },
  {
   "cell_type": "code",
   "execution_count": 68,
   "metadata": {},
   "outputs": [],
   "source": [
    "interaction = [each for each in test.columns if each not in col]\n",
    "interaction.append('ID')"
   ]
  },
  {
   "cell_type": "code",
   "execution_count": 69,
   "metadata": {
    "collapsed": true
   },
   "outputs": [],
   "source": [
    "from sklearn.preprocessing import LabelEncoder\n",
    "for c in train.columns:\n",
    "    if train[c].dtype == 'object':\n",
    "        lbl = LabelEncoder()\n",
    "        lbl.fit(list(train[c].values) + list(test[c].values))\n",
    "        train[c] = lbl.transform(list(train[c].values))\n",
    "        test[c] = lbl.transform(list(test[c].values))"
   ]
  },
  {
   "cell_type": "code",
   "execution_count": 70,
   "metadata": {},
   "outputs": [],
   "source": [
    "train_ = train[col]\n",
    "train_['y'] = label\n",
    "test_ = test[col]\n",
    "train_,test_ = get_additional_features(train_,test_)"
   ]
  },
  {
   "cell_type": "code",
   "execution_count": 71,
   "metadata": {
    "collapsed": true
   },
   "outputs": [],
   "source": [
    "interaction_data_train = train[interaction]\n",
    "interaction_data_test = test[interaction]"
   ]
  },
  {
   "cell_type": "code",
   "execution_count": 72,
   "metadata": {
    "collapsed": true
   },
   "outputs": [],
   "source": [
    "train_ = train_.merge(interaction_data_train,on='ID',how='left')\n",
    "test_ = test_.merge(interaction_data_test,on='ID',how='left')"
   ]
  },
  {
   "cell_type": "markdown",
   "metadata": {},
   "source": [
    "## Same xgb, see the in-bag R2 and submission"
   ]
  },
  {
   "cell_type": "code",
   "execution_count": 73,
   "metadata": {
    "collapsed": true
   },
   "outputs": [],
   "source": [
    "y_train = train_['y'].values\n",
    "y_mean = np.mean(y_train)"
   ]
  },
  {
   "cell_type": "code",
   "execution_count": 74,
   "metadata": {
    "collapsed": true
   },
   "outputs": [],
   "source": [
    "xgb_params = {\n",
    "    'n_trees': 520, \n",
    "    'eta': 0.0045,\n",
    "    'max_depth': 4,\n",
    "    'subsample': 0.93,\n",
    "    'objective': 'reg:linear',\n",
    "    'eval_metric': 'rmse',\n",
    "    'base_score': y_mean, # base prediction = mean(target)\n",
    "    'silent': 1\n",
    "}\n",
    "# NOTE: Make sure that the class is labeled 'class' in the data file\n",
    "\n",
    "dtrain = xgb.DMatrix(train_.drop('y', axis=1), y_train)\n",
    "dtest = xgb.DMatrix(test_)"
   ]
  },
  {
   "cell_type": "code",
   "execution_count": 75,
   "metadata": {},
   "outputs": [
    {
     "name": "stdout",
     "output_type": "stream",
     "text": [
      "[0]\ttrain-rmse:12.6434+0.179136\ttest-rmse:12.6406+0.352672\n",
      "[50]\ttrain-rmse:11.2221+0.21883\ttest-rmse:11.2706+0.409113\n",
      "[100]\ttrain-rmse:10.1983+0.249851\ttest-rmse:10.31+0.460678\n",
      "[150]\ttrain-rmse:9.47225+0.275362\ttest-rmse:9.65252+0.503929\n",
      "[200]\ttrain-rmse:8.96341+0.294506\ttest-rmse:9.21214+0.54279\n",
      "[250]\ttrain-rmse:8.6072+0.308728\ttest-rmse:8.9227+0.573775\n",
      "[300]\ttrain-rmse:8.35821+0.319074\ttest-rmse:8.73444+0.599122\n",
      "[350]\ttrain-rmse:8.17246+0.324461\ttest-rmse:8.62072+0.618221\n",
      "[400]\ttrain-rmse:8.01312+0.316835\ttest-rmse:8.55208+0.632229\n",
      "[450]\ttrain-rmse:7.88217+0.309381\ttest-rmse:8.51+0.64496\n",
      "[500]\ttrain-rmse:7.7703+0.303667\ttest-rmse:8.48281+0.653668\n",
      "[550]\ttrain-rmse:7.66813+0.294556\ttest-rmse:8.4673+0.659792\n",
      "[600]\ttrain-rmse:7.56979+0.28123\ttest-rmse:8.45758+0.662973\n",
      "[650]\ttrain-rmse:7.47809+0.262059\ttest-rmse:8.45319+0.665341\n",
      "[700]\ttrain-rmse:7.39069+0.24672\ttest-rmse:8.45328+0.666564\n",
      "Performance does not improve from 684 rounds\n"
     ]
    }
   ],
   "source": [
    "xgb_cvalid = xgb.cv(xgb_params, dtrain, num_boost_round=2000, early_stopping_rounds=20,\n",
    "    verbose_eval=50, show_stdv=True,seed=42)\n",
    "xgb_cvalid[['train-rmse-mean', 'test-rmse-mean']].plot()\n",
    "print('Performance does not improve from '+str(len(xgb_cvalid))+' rounds')"
   ]
  },
  {
   "cell_type": "code",
   "execution_count": null,
   "metadata": {
    "collapsed": true
   },
   "outputs": [],
   "source": [
    "[750]\ttrain-rmse:7.37314+0.243044\ttest-rmse:8.43692+0.648636\n",
    "Performance does not improve from 758 rounds\n"
   ]
  },
  {
   "cell_type": "code",
   "execution_count": 79,
   "metadata": {
    "collapsed": true
   },
   "outputs": [],
   "source": [
    "num_boost_rounds = 1250\n",
    "# train model\n",
    "model = xgb.train(dict(xgb_params, silent=0), dtrain, num_boost_round=num_boost_rounds)\n",
    "feature_import = get_feature_importance(model)"
   ]
  },
  {
   "cell_type": "code",
   "execution_count": 78,
   "metadata": {},
   "outputs": [],
   "source": [
    "pred = model.predict(dtest)\n",
    "sub = pd.DataFrame({'ID':test['ID'],'y':pred})\n",
    "sub.to_csv('xgb_with_cat_interaction_interaction_not_in_decomp.csv',index=False)"
   ]
  },
  {
   "cell_type": "code",
   "execution_count": 80,
   "metadata": {},
   "outputs": [
    {
     "data": {
      "text/plain": [
       "0.27362487019282578"
      ]
     },
     "execution_count": 80,
     "metadata": {},
     "output_type": "execute_result"
    }
   ],
   "source": [
    "r2_score(model.predict(dtrain),train.y)"
   ]
  },
  {
   "cell_type": "code",
   "execution_count": 86,
   "metadata": {},
   "outputs": [],
   "source": [
    "cc = feature_import[feature_import['Score']>1]"
   ]
  },
  {
   "cell_type": "code",
   "execution_count": 84,
   "metadata": {},
   "outputs": [
    {
     "data": {
      "text/plain": [
       "(160, 2)"
      ]
     },
     "execution_count": 84,
     "metadata": {},
     "output_type": "execute_result"
    }
   ],
   "source": [
    "feature_import.shape"
   ]
  },
  {
   "cell_type": "markdown",
   "metadata": {},
   "source": [
    "## Add magic features with interaction"
   ]
  },
  {
   "cell_type": "code",
   "execution_count": 88,
   "metadata": {
    "collapsed": true
   },
   "outputs": [],
   "source": [
    "train = pd.read_csv('data/train.csv')\n",
    "test = pd.read_csv('data/test.csv')"
   ]
  },
  {
   "cell_type": "code",
   "execution_count": 89,
   "metadata": {
    "collapsed": true
   },
   "outputs": [],
   "source": [
    "cat = []\n",
    "for each in train.columns:\n",
    "    if train[each].dtype == 'object':\n",
    "        cat.append(each)\n",
    "col = test.columns\n",
    "label = train.y\n",
    "import itertools\n",
    "for f_1, f_2 in itertools.combinations(cat, 2):\n",
    "    train[f_1+'_'+f_2] = train[f_1]+train[f_2]\n",
    "    test[f_1+'_'+f_2] = test[f_1]+test[f_2]\n",
    "interaction = [each for each in test.columns if each not in col]\n",
    "interaction.append('ID')\n",
    "from sklearn.preprocessing import LabelEncoder\n",
    "for c in train.columns:\n",
    "    if train[c].dtype == 'object':\n",
    "        lbl = LabelEncoder()\n",
    "        lbl.fit(list(train[c].values) + list(test[c].values))\n",
    "        train[c] = lbl.transform(list(train[c].values))\n",
    "        test[c] = lbl.transform(list(test[c].values))\n",
    "train_ = train[col]\n",
    "train_['y'] = label\n",
    "test_ = test[col]\n",
    "train_,test_ = get_additional_features(train_,test_,magic=True)\n",
    "interaction_data_train = train[interaction]\n",
    "interaction_data_test = test[interaction]\n",
    "train_ = train_.merge(interaction_data_train,on='ID',how='left')\n",
    "test_ = test_.merge(interaction_data_test,on='ID',how='left')"
   ]
  },
  {
   "cell_type": "code",
   "execution_count": 90,
   "metadata": {},
   "outputs": [
    {
     "name": "stdout",
     "output_type": "stream",
     "text": [
      "[0]\ttrain-rmse:12.6432+0.179191\ttest-rmse:12.6405+0.352625\n",
      "[50]\ttrain-rmse:11.2062+0.214776\ttest-rmse:11.2714+0.406888\n",
      "[100]\ttrain-rmse:10.1657+0.24127\ttest-rmse:10.3081+0.459205\n",
      "[150]\ttrain-rmse:9.41013+0.252893\ttest-rmse:9.64641+0.506925\n",
      "[200]\ttrain-rmse:8.87086+0.256222\ttest-rmse:9.20212+0.547106\n",
      "[250]\ttrain-rmse:8.4783+0.249193\ttest-rmse:8.91182+0.577377\n",
      "[300]\ttrain-rmse:8.19271+0.243771\ttest-rmse:8.72723+0.598862\n",
      "[350]\ttrain-rmse:7.98521+0.238248\ttest-rmse:8.61083+0.615516\n",
      "[400]\ttrain-rmse:7.82443+0.236464\ttest-rmse:8.53854+0.629305\n",
      "[450]\ttrain-rmse:7.6839+0.232856\ttest-rmse:8.49387+0.639788\n",
      "[500]\ttrain-rmse:7.56056+0.223861\ttest-rmse:8.467+0.64509\n",
      "[550]\ttrain-rmse:7.45038+0.214731\ttest-rmse:8.45279+0.649665\n",
      "[600]\ttrain-rmse:7.35879+0.203955\ttest-rmse:8.44591+0.65256\n",
      "Performance does not improve from 620 rounds\n"
     ]
    }
   ],
   "source": [
    "y_train = train_['y'].values\n",
    "y_mean = np.mean(y_train)\n",
    "xgb_params = {\n",
    "    'n_trees': 520, \n",
    "    'eta': 0.0045,\n",
    "    'max_depth': 4,\n",
    "    'subsample': 0.93,\n",
    "    'objective': 'reg:linear',\n",
    "    'eval_metric': 'rmse',\n",
    "    'base_score': y_mean, # base prediction = mean(target)\n",
    "    'silent': 1\n",
    "}\n",
    "# NOTE: Make sure that the class is labeled 'class' in the data file\n",
    "\n",
    "dtrain = xgb.DMatrix(train_.drop('y', axis=1), y_train)\n",
    "dtest = xgb.DMatrix(test_)\n",
    "xgb_cvalid = xgb.cv(xgb_params, dtrain, num_boost_round=2000, early_stopping_rounds=20,\n",
    "    verbose_eval=50, show_stdv=True,seed=42)\n",
    "xgb_cvalid[['train-rmse-mean', 'test-rmse-mean']].plot()\n",
    "print('Performance does not improve from '+str(len(xgb_cvalid))+' rounds')"
   ]
  },
  {
   "cell_type": "code",
   "execution_count": 91,
   "metadata": {
    "collapsed": true
   },
   "outputs": [],
   "source": [
    "num_boost_rounds = 1250\n",
    "# train model\n",
    "model = xgb.train(dict(xgb_params, silent=0), dtrain, num_boost_round=num_boost_rounds)\n",
    "feature_import = get_feature_importance(model)"
   ]
  },
  {
   "cell_type": "code",
   "execution_count": 92,
   "metadata": {},
   "outputs": [
    {
     "data": {
      "text/plain": [
       "0.45929919565364163"
      ]
     },
     "execution_count": 92,
     "metadata": {},
     "output_type": "execute_result"
    }
   ],
   "source": [
    "r2_score(model.predict(dtrain),train.y)"
   ]
  },
  {
   "cell_type": "code",
   "execution_count": 93,
   "metadata": {
    "collapsed": true
   },
   "outputs": [],
   "source": [
    "pred = model.predict(dtest)\n",
    "sub = pd.DataFrame({'ID':test['ID'],'y':pred})\n",
    "sub.to_csv('xgb_with_cat_interaction_interaction_not_in_decomp_and_Magic_feature.csv',index=False)"
   ]
  },
  {
   "cell_type": "markdown",
   "metadata": {},
   "source": [
    "## Only decom and magic features but many rounds"
   ]
  },
  {
   "cell_type": "code",
   "execution_count": 94,
   "metadata": {
    "collapsed": true
   },
   "outputs": [],
   "source": [
    "train = pd.read_csv('data/train_c.csv')\n",
    "test = pd.read_csv('data/test_c.csv')"
   ]
  },
  {
   "cell_type": "code",
   "execution_count": 95,
   "metadata": {
    "collapsed": true
   },
   "outputs": [],
   "source": [
    "train,test = get_additional_features(train,test,magic=True)"
   ]
  },
  {
   "cell_type": "code",
   "execution_count": 96,
   "metadata": {
    "collapsed": true
   },
   "outputs": [],
   "source": [
    "col = test.columns"
   ]
  },
  {
   "cell_type": "code",
   "execution_count": 97,
   "metadata": {
    "collapsed": true
   },
   "outputs": [],
   "source": [
    "dtrain = xgb.DMatrix(train[col],train['y'])\n",
    "dtest = xgb.DMatrix(test)"
   ]
  },
  {
   "cell_type": "code",
   "execution_count": 99,
   "metadata": {
    "collapsed": true
   },
   "outputs": [],
   "source": [
    "model = xgb.train(xgb_params,dtrain,num_boost_round=1250)"
   ]
  },
  {
   "cell_type": "code",
   "execution_count": 100,
   "metadata": {
    "collapsed": true
   },
   "outputs": [],
   "source": [
    "pred = model.predict(dtest)"
   ]
  },
  {
   "cell_type": "code",
   "execution_count": 102,
   "metadata": {},
   "outputs": [
    {
     "data": {
      "text/plain": [
       "0.46257635679369347"
      ]
     },
     "execution_count": 102,
     "metadata": {},
     "output_type": "execute_result"
    }
   ],
   "source": [
    "r2_score(model.predict(dtrain),train.y)"
   ]
  },
  {
   "cell_type": "code",
   "execution_count": 103,
   "metadata": {
    "collapsed": true
   },
   "outputs": [],
   "source": [
    "sub = pd.DataFrame({'ID':test['ID'],'y':pred})"
   ]
  },
  {
   "cell_type": "code",
   "execution_count": 104,
   "metadata": {
    "collapsed": true
   },
   "outputs": [],
   "source": [
    "sub.to_csv('xgb_1250Rounds_Alldecomp_magic.csv',index=False)"
   ]
  },
  {
   "cell_type": "code",
   "execution_count": null,
   "metadata": {
    "collapsed": true
   },
   "outputs": [],
   "source": []
  }
 ],
 "metadata": {
  "kernelspec": {
   "display_name": "Python 3",
   "language": "python",
   "name": "python3"
  },
  "language_info": {
   "codemirror_mode": {
    "name": "ipython",
    "version": 3
   },
   "file_extension": ".py",
   "mimetype": "text/x-python",
   "name": "python",
   "nbconvert_exporter": "python",
   "pygments_lexer": "ipython3",
   "version": "3.5.2"
  }
 },
 "nbformat": 4,
 "nbformat_minor": 2
}
