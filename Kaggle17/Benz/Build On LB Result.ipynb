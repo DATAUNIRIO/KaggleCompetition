{
 "cells": [
  {
   "cell_type": "markdown",
   "metadata": {},
   "source": [
    "## Try Different Ensemble Methods"
   ]
  },
  {
   "cell_type": "code",
   "execution_count": 2,
   "metadata": {},
   "outputs": [],
   "source": [
    "import warnings\n",
    "warnings.filterwarnings('ignore')\n",
    "%run Functions.py"
   ]
  },
  {
   "cell_type": "code",
   "execution_count": 17,
   "metadata": {
    "collapsed": true
   },
   "outputs": [],
   "source": [
    "train = pd.read_csv('data/train_c.csv')\n",
    "test = pd.read_csv('data/test_c.csv')"
   ]
  },
  {
   "cell_type": "code",
   "execution_count": 22,
   "metadata": {
    "collapsed": true
   },
   "outputs": [],
   "source": [
    "train,test = get_additional_features(train,test)\n",
    "train = train.sample(frac=1,random_state=42)"
   ]
  },
  {
   "cell_type": "code",
   "execution_count": 23,
   "metadata": {
    "collapsed": true
   },
   "outputs": [],
   "source": [
    "col = test.columns"
   ]
  },
  {
   "cell_type": "markdown",
   "metadata": {},
   "source": [
    "## Different Sklearn Model Fitting"
   ]
  },
  {
   "cell_type": "markdown",
   "metadata": {},
   "source": [
    "## GBDT"
   ]
  },
  {
   "cell_type": "code",
   "execution_count": 20,
   "metadata": {
    "collapsed": true
   },
   "outputs": [],
   "source": [
    "from sklearn.ensemble import GradientBoostingRegressor"
   ]
  },
  {
   "cell_type": "code",
   "execution_count": 37,
   "metadata": {
    "collapsed": true
   },
   "outputs": [],
   "source": [
    "gbdt = GradientBoostingRegressor(n_estimators=600,subsample=0.95,max_features=1,max_depth=3,random_state=42)"
   ]
  },
  {
   "cell_type": "code",
   "execution_count": 38,
   "metadata": {},
   "outputs": [
    {
     "name": "stdout",
     "output_type": "stream",
     "text": [
      "Training 1 Fold\n",
      "R2 Scored of Fold 1 is 0.547611772746\n",
      "RMSE of Fold 1 is 8.39131695671\n",
      "Training 2 Fold\n",
      "R2 Scored of Fold 2 is 0.413707471482\n",
      "RMSE of Fold 2 is 10.5053750353\n",
      "Training 3 Fold\n",
      "R2 Scored of Fold 3 is 0.559258845243\n",
      "RMSE of Fold 3 is 8.25738846358\n",
      "Training 4 Fold\n",
      "R2 Scored of Fold 4 is 0.592731204536\n",
      "RMSE of Fold 4 is 7.77134013852\n",
      "Training 5 Fold\n",
      "R2 Scored of Fold 5 is 0.504996471476\n",
      "RMSE of Fold 5 is 8.76344571285\n",
      "Start Training\n",
      "Calculating In-Bag R2 Score\n",
      "0.633373286069\n",
      "Calculating Out-Bag R2 Score\n",
      "0.523661153096\n",
      "Calculating In-Bag RMSE\n",
      "7.6764162751\n",
      "Calculating Out-Bag RMSE\n",
      "8.73777326139\n"
     ]
    }
   ],
   "source": [
    "gbdt_train,gbdt_test,ID = get_sklearn_stack_data(gbdt,train,col,train['y'],test)"
   ]
  },
  {
   "cell_type": "markdown",
   "metadata": {},
   "source": [
    "## Lasso"
   ]
  },
  {
   "cell_type": "code",
   "execution_count": 46,
   "metadata": {
    "collapsed": true
   },
   "outputs": [],
   "source": [
    "from sklearn.linear_model import Lasso\n",
    "las = Lasso(alpha=0.01)"
   ]
  },
  {
   "cell_type": "code",
   "execution_count": 47,
   "metadata": {},
   "outputs": [
    {
     "name": "stdout",
     "output_type": "stream",
     "text": [
      "Training 1 Fold\n",
      "R2 Scored of Fold 1 is 0.584286468708\n",
      "RMSE of Fold 1 is 8.0439906797\n",
      "Training 2 Fold\n",
      "R2 Scored of Fold 2 is 0.428075052594\n",
      "RMSE of Fold 2 is 10.3758551836\n",
      "Training 3 Fold\n",
      "R2 Scored of Fold 3 is 0.57672867781\n",
      "RMSE of Fold 3 is 8.09208313673\n",
      "Training 4 Fold\n",
      "R2 Scored of Fold 4 is 0.591665270971\n",
      "RMSE of Fold 4 is 7.7815033517\n",
      "Training 5 Fold\n",
      "R2 Scored of Fold 5 is 0.583087487658\n",
      "RMSE of Fold 5 is 8.04253978538\n",
      "Start Training\n",
      "Calculating In-Bag R2 Score\n",
      "0.577591474995\n",
      "Calculating Out-Bag R2 Score\n",
      "0.552768591548\n",
      "Calculating In-Bag RMSE\n",
      "8.2397265984\n",
      "Calculating Out-Bag RMSE\n",
      "8.46719442742\n"
     ]
    }
   ],
   "source": [
    "las_train,las_test,ID = get_sklearn_stack_data(las,train,col,train['y'],test)"
   ]
  },
  {
   "cell_type": "markdown",
   "metadata": {},
   "source": [
    "## Random Forest"
   ]
  },
  {
   "cell_type": "code",
   "execution_count": 73,
   "metadata": {
    "collapsed": true
   },
   "outputs": [],
   "source": [
    "from sklearn.ensemble import RandomForestRegressor\n",
    "rf = RandomForestRegressor(n_estimators=800,max_features=0.95,max_depth=4,n_jobs=-1,random_state=42)"
   ]
  },
  {
   "cell_type": "code",
   "execution_count": 74,
   "metadata": {},
   "outputs": [
    {
     "name": "stdout",
     "output_type": "stream",
     "text": [
      "Training 1 Fold\n",
      "R2 Scored of Fold 1 is 0.587421600232\n",
      "RMSE of Fold 1 is 8.01360112699\n",
      "Training 2 Fold\n",
      "R2 Scored of Fold 2 is 0.438367713908\n",
      "RMSE of Fold 2 is 10.282066635\n",
      "Training 3 Fold\n",
      "R2 Scored of Fold 3 is 0.595705131447\n",
      "RMSE of Fold 3 is 7.90860760733\n",
      "Training 4 Fold\n",
      "R2 Scored of Fold 4 is 0.609490453225\n",
      "RMSE of Fold 4 is 7.60976380922\n",
      "Training 5 Fold\n",
      "R2 Scored of Fold 5 is 0.598060284617\n",
      "RMSE of Fold 5 is 7.89680135892\n",
      "Start Training\n",
      "Calculating In-Bag R2 Score\n",
      "0.596541124306\n",
      "Calculating Out-Bag R2 Score\n",
      "0.565809036686\n",
      "Calculating In-Bag RMSE\n",
      "8.05278494973\n",
      "Calculating Out-Bag RMSE\n",
      "8.34216810749\n"
     ]
    }
   ],
   "source": [
    "rf_train,rf_test,ID = get_sklearn_stack_data(rf,train,col,train['y'],test)"
   ]
  },
  {
   "cell_type": "markdown",
   "metadata": {},
   "source": [
    "## Light GBM"
   ]
  },
  {
   "cell_type": "code",
   "execution_count": 84,
   "metadata": {
    "collapsed": true
   },
   "outputs": [],
   "source": [
    "params = params = {\n",
    "            'objective': 'regression',\n",
    "            'metric': 'rmse',\n",
    "            'boosting': 'gbdt',\n",
    "            'learning_rate': 0.0045 , #small learn rate, large number of iterations\n",
    "            'verbose': 0,\n",
    "            'num_iterations': 500,\n",
    "            'bagging_fraction': 0.95,\n",
    "            'bagging_freq': 1,\n",
    "            'bagging_seed': 42,\n",
    "            'feature_fraction': 0.95,\n",
    "            'feature_fraction_seed': 42,\n",
    "            'max_bin': 100,\n",
    "            'max_depth': 3,\n",
    "            'num_rounds': 800\n",
    "        }"
   ]
  },
  {
   "cell_type": "code",
   "execution_count": 85,
   "metadata": {},
   "outputs": [
    {
     "name": "stdout",
     "output_type": "stream",
     "text": [
      "Training 1 Fold\n",
      "R2 Scored of Fold 1 is 0.601814133337\n",
      "RMSE of Fold 1 is 7.87258573237\n",
      "Training 2 Fold\n",
      "R2 Scored of Fold 2 is 0.442328279141\n",
      "RMSE of Fold 2 is 10.2457485279\n",
      "Training 3 Fold\n",
      "R2 Scored of Fold 3 is 0.604293752034\n",
      "RMSE of Fold 3 is 7.82415359369\n",
      "Training 4 Fold\n",
      "R2 Scored of Fold 4 is 0.619551074047\n",
      "RMSE of Fold 4 is 7.51109977137\n",
      "Training 5 Fold\n",
      "R2 Scored of Fold 5 is 0.595608359975\n",
      "RMSE of Fold 5 is 7.92085088938\n",
      "Start Training\n",
      "Calculating In-Bag R2 Score\n",
      "0.586607721176\n",
      "Calculating Out-Bag R2 Score\n",
      "0.572719119707\n",
      "Calculating In-Bag RMSE\n",
      "8.15131440739\n",
      "Calculating Out-Bag RMSE\n",
      "8.27488770294\n"
     ]
    }
   ],
   "source": [
    "lgb_train, lgb_test,ID = get_lgb_stack_data(params,800,train,col,train['y'],test)"
   ]
  },
  {
   "cell_type": "markdown",
   "metadata": {},
   "source": [
    "## Stacking those four models, with xgb"
   ]
  },
  {
   "cell_type": "code",
   "execution_count": 89,
   "metadata": {
    "collapsed": true
   },
   "outputs": [],
   "source": [
    "train_stack = pd.DataFrame()\n",
    "train_stack['ID'] = gbdt_train['ID']\n",
    "train_stack['y'] = gbdt_train['label']\n",
    "train_stack['model1'] = gbdt_train['predicted']\n",
    "train_stack['model2'] = las_train['predicted']\n",
    "train_stack['model3'] = rf_train['predicted']\n",
    "train_stack['model4'] = lgb_train['predicted']"
   ]
  },
  {
   "cell_type": "code",
   "execution_count": 91,
   "metadata": {
    "collapsed": true
   },
   "outputs": [],
   "source": [
    "test_stack = pd.DataFrame()\n",
    "test_stack['model1'] = gbdt_test['y']\n",
    "test_stack['model2'] = las_test['y']\n",
    "test_stack['model3'] = rf_test['y']\n",
    "test_stack['model4'] = lgb_test['y']"
   ]
  },
  {
   "cell_type": "code",
   "execution_count": 94,
   "metadata": {
    "collapsed": true
   },
   "outputs": [],
   "source": [
    "y_mean = np.mean(train.y)"
   ]
  },
  {
   "cell_type": "code",
   "execution_count": 103,
   "metadata": {
    "collapsed": true
   },
   "outputs": [],
   "source": [
    "params = {\n",
    "    'eta': 0.005,\n",
    "    'max_depth': 2,\n",
    "    'objective': 'reg:linear',\n",
    "    'eval_metric': 'rmse',\n",
    "    'base_score': y_mean, # base prediction = mean(target)\n",
    "    'silent': 1\n",
    "}"
   ]
  },
  {
   "cell_type": "code",
   "execution_count": 104,
   "metadata": {},
   "outputs": [
    {
     "data": {
      "text/plain": [
       "100.66931812782133"
      ]
     },
     "execution_count": 104,
     "metadata": {},
     "output_type": "execute_result"
    }
   ],
   "source": [
    "y_mean"
   ]
  },
  {
   "cell_type": "code",
   "execution_count": 105,
   "metadata": {
    "collapsed": true
   },
   "outputs": [],
   "source": [
    "col = test_stack.columns\n",
    "dtrain = xgb.DMatrix(train_stack[col], train_stack['y'])\n",
    "dtest = xgb.DMatrix(test_stack[col])"
   ]
  },
  {
   "cell_type": "code",
   "execution_count": 106,
   "metadata": {},
   "outputs": [
    {
     "name": "stdout",
     "output_type": "stream",
     "text": [
      "[0]\ttrain-rmse:12.6383+0.305925\ttest-rmse:12.6279+0.598657\n",
      "[50]\ttrain-rmse:11.1425+0.329333\ttest-rmse:11.1328+0.669345\n",
      "[100]\ttrain-rmse:10.1269+0.35097\ttest-rmse:10.1193+0.722135\n",
      "[150]\ttrain-rmse:9.45305+0.36999\ttest-rmse:9.44951+0.758414\n",
      "[200]\ttrain-rmse:9.01564+0.383783\ttest-rmse:9.02251+0.784844\n",
      "[250]\ttrain-rmse:8.73291+0.395121\ttest-rmse:8.75607+0.801707\n",
      "[300]\ttrain-rmse:8.5501+0.404035\ttest-rmse:8.58889+0.811879\n",
      "[350]\ttrain-rmse:8.43014+0.411723\ttest-rmse:8.48214+0.816475\n",
      "[400]\ttrain-rmse:8.35182+0.416767\ttest-rmse:8.41466+0.817739\n",
      "[450]\ttrain-rmse:8.3002+0.420466\ttest-rmse:8.3725+0.817775\n",
      "[500]\ttrain-rmse:8.26508+0.423153\ttest-rmse:8.34653+0.817391\n",
      "[550]\ttrain-rmse:8.23951+0.425676\ttest-rmse:8.33139+0.816391\n",
      "[600]\ttrain-rmse:8.21889+0.427553\ttest-rmse:8.32343+0.815737\n",
      "[650]\ttrain-rmse:8.20132+0.427417\ttest-rmse:8.31981+0.815773\n",
      "[700]\ttrain-rmse:8.18681+0.428288\ttest-rmse:8.31748+0.815108\n",
      "[750]\ttrain-rmse:8.17382+0.429602\ttest-rmse:8.31581+0.814357\n",
      "[800]\ttrain-rmse:8.16039+0.430839\ttest-rmse:8.31475+0.814594\n",
      "[850]\ttrain-rmse:8.13845+0.426839\ttest-rmse:8.31433+0.814839\n",
      "Performance does not improve from 870 rounds\n"
     ]
    }
   ],
   "source": [
    "xgb_cvalid = xgb.cv(params, dtrain, num_boost_round=2000, early_stopping_rounds=20,\n",
    "    verbose_eval=50, show_stdv=True,seed=42)\n",
    "xgb_cvalid[['train-rmse-mean', 'test-rmse-mean']].plot()\n",
    "print('Performance does not improve from '+str(len(xgb_cvalid))+' rounds')"
   ]
  },
  {
   "cell_type": "code",
   "execution_count": 108,
   "metadata": {
    "collapsed": true
   },
   "outputs": [],
   "source": [
    "test_stack['ID'] = test['ID']"
   ]
  },
  {
   "cell_type": "code",
   "execution_count": 109,
   "metadata": {},
   "outputs": [
    {
     "name": "stdout",
     "output_type": "stream",
     "text": [
      "Training 1 Fold\n",
      "R2 Scored of Fold 1 is 0.599274966754\n",
      "RMSE of Fold 1 is 7.89764694316\n",
      "Training 2 Fold\n",
      "R2 Scored of Fold 2 is 0.420784811507\n",
      "RMSE of Fold 2 is 10.4417755106\n",
      "Training 3 Fold\n",
      "R2 Scored of Fold 3 is 0.599439203767\n",
      "RMSE of Fold 3 is 7.87200088823\n",
      "Training 4 Fold\n",
      "R2 Scored of Fold 4 is 0.619612686662\n",
      "RMSE of Fold 4 is 7.51049154618\n",
      "Training 5 Fold\n",
      "R2 Scored of Fold 5 is 0.593011971561\n",
      "RMSE of Fold 5 is 7.9462380373\n",
      "Start Training\n",
      "Calculating In-Bag R2 Score\n",
      "0.579361659482\n",
      "Calculating Out-Bag R2 Score\n",
      "0.56642472805\n",
      "Calculating In-Bag RMSE\n",
      "8.22244330559\n",
      "Calculating Out-Bag RMSE\n",
      "8.33363058509\n"
     ]
    }
   ],
   "source": [
    "stack_four_train,stack_four_test, ID = get_xgb_stack_data(params,870,train_stack,col,train_stack['y'],test_stack)"
   ]
  },
  {
   "cell_type": "code",
   "execution_count": 110,
   "metadata": {
    "collapsed": true
   },
   "outputs": [],
   "source": [
    "save_results(stack_four_train,stack_four_test,'Stacking_Four_Models_With_xgb.csv')"
   ]
  },
  {
   "cell_type": "markdown",
   "metadata": {},
   "source": [
    "## Average Yesterday's stacking and LB's result"
   ]
  },
  {
   "cell_type": "code",
   "execution_count": 111,
   "metadata": {
    "collapsed": true
   },
   "outputs": [],
   "source": [
    "stack_three_train,stack_three_test = read_data('subStacking_gbdt_lgbm_lasso_with_xgb_rounds_777.csv')"
   ]
  },
  {
   "cell_type": "code",
   "execution_count": 114,
   "metadata": {
    "collapsed": true
   },
   "outputs": [],
   "source": [
    "best_current = pd.read_csv('submission/Repro_Ker_2.csv')"
   ]
  },
  {
   "cell_type": "code",
   "execution_count": 115,
   "metadata": {
    "collapsed": true
   },
   "outputs": [],
   "source": [
    "Average = 0.75*best_current['y'] + 0.25*stack_three_test['y']"
   ]
  },
  {
   "cell_type": "code",
   "execution_count": 116,
   "metadata": {
    "collapsed": true
   },
   "outputs": [],
   "source": [
    "sub = pd.DataFrame({'ID':test['ID'],'y':Average})"
   ]
  },
  {
   "cell_type": "code",
   "execution_count": 117,
   "metadata": {
    "collapsed": true
   },
   "outputs": [],
   "source": [
    "sub.to_csv('submission/Average_Sklearnstacking_Best.csv',index=False)"
   ]
  },
  {
   "cell_type": "markdown",
   "metadata": {},
   "source": [
    "## Average Stacking With Magic xgb and LB's result"
   ]
  },
  {
   "cell_type": "code",
   "execution_count": 118,
   "metadata": {
    "collapsed": true
   },
   "outputs": [],
   "source": [
    "average = pd.read_csv('submission/weighted_Stacking_bestxgb_Stacking_0.25.csv')"
   ]
  },
  {
   "cell_type": "code",
   "execution_count": 119,
   "metadata": {
    "collapsed": true
   },
   "outputs": [],
   "source": [
    "Average = 0.75*best_current['y'] + 0.25*average['y']"
   ]
  },
  {
   "cell_type": "code",
   "execution_count": 120,
   "metadata": {
    "collapsed": true
   },
   "outputs": [],
   "source": [
    "sub = pd.DataFrame({'ID':test['ID'],'y':Average})"
   ]
  },
  {
   "cell_type": "code",
   "execution_count": 121,
   "metadata": {
    "collapsed": true
   },
   "outputs": [],
   "source": [
    "sub.to_csv('submission/Average_LB_And_Current_Average.csv',index=False)"
   ]
  },
  {
   "cell_type": "markdown",
   "metadata": {
    "collapsed": true
   },
   "source": [
    "## How about averaging LB's result and my sklearn stacked model?"
   ]
  },
  {
   "cell_type": "code",
   "execution_count": 4,
   "metadata": {},
   "outputs": [],
   "source": [
    "LB_result = pd.read_csv('submission/stacked-models.csv')"
   ]
  },
  {
   "cell_type": "code",
   "execution_count": 5,
   "metadata": {
    "collapsed": true
   },
   "outputs": [],
   "source": [
    "stack_three_train,stack_three_test = read_data('subStacking_gbdt_lgbm_lasso_with_xgb_rounds_777.csv')"
   ]
  },
  {
   "cell_type": "code",
   "execution_count": 6,
   "metadata": {
    "collapsed": true
   },
   "outputs": [],
   "source": [
    "Average = 0.75*LB_result['y'] + 0.25*stack_three_test['y']"
   ]
  },
  {
   "cell_type": "code",
   "execution_count": 8,
   "metadata": {},
   "outputs": [],
   "source": [
    "sub = pd.DataFrame({'ID':stack_three_test['ID'],'y':Average})"
   ]
  },
  {
   "cell_type": "code",
   "execution_count": 9,
   "metadata": {
    "collapsed": true
   },
   "outputs": [],
   "source": [
    "sub.to_csv('submission/Average_LB_Sklearn_Stacking.csv',index=False)"
   ]
  },
  {
   "cell_type": "code",
   "execution_count": null,
   "metadata": {
    "collapsed": true
   },
   "outputs": [],
   "source": []
  }
 ],
 "metadata": {
  "kernelspec": {
   "display_name": "Python 3",
   "language": "python",
   "name": "python3"
  },
  "language_info": {
   "codemirror_mode": {
    "name": "ipython",
    "version": 3
   },
   "file_extension": ".py",
   "mimetype": "text/x-python",
   "name": "python",
   "nbconvert_exporter": "python",
   "pygments_lexer": "ipython3",
   "version": "3.5.2"
  }
 },
 "nbformat": 4,
 "nbformat_minor": 2
}
