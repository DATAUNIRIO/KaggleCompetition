{
 "cells": [
  {
   "cell_type": "code",
   "execution_count": 4,
   "metadata": {
    "collapsed": true
   },
   "outputs": [],
   "source": [
    "import warnings\n",
    "warnings.filterwarnings('ignore')\n",
    "%run Functions.py"
   ]
  },
  {
   "cell_type": "code",
   "execution_count": 5,
   "metadata": {
    "collapsed": true
   },
   "outputs": [],
   "source": [
    "train = pd.read_csv('data/train_c.csv')\n",
    "test = pd.read_csv('data/test_c.csv')"
   ]
  },
  {
   "cell_type": "code",
   "execution_count": 6,
   "metadata": {
    "collapsed": true
   },
   "outputs": [],
   "source": [
    "train,test = get_additional_features(train,test,magic=False)"
   ]
  },
  {
   "cell_type": "markdown",
   "metadata": {},
   "source": [
    "## Model 1: GBDT"
   ]
  },
  {
   "cell_type": "code",
   "execution_count": 8,
   "metadata": {},
   "outputs": [
    {
     "name": "stdout",
     "output_type": "stream",
     "text": [
      "Training 1 Fold\n",
      "R2 Scored of Fold 1 is -2.51468699269\n",
      "RMSE of Fold 1 is 23.1664457022\n",
      "Training 2 Fold\n",
      "R2 Scored of Fold 2 is 0.42550157235\n",
      "RMSE of Fold 2 is 10.8269723747\n",
      "Training 3 Fold\n",
      "R2 Scored of Fold 3 is 0.571767204667\n",
      "RMSE of Fold 3 is 8.07903738315\n",
      "Training 4 Fold\n",
      "R2 Scored of Fold 4 is 0.529137429404\n",
      "RMSE of Fold 4 is 8.64125312768\n",
      "Training 5 Fold\n",
      "R2 Scored of Fold 5 is 0.249526882522\n",
      "RMSE of Fold 5 is 9.95192409346\n",
      "Start Training\n",
      "Calculating In-Bag R2 Score\n",
      "0.677339583666\n",
      "Calculating Out-Bag R2 Score\n",
      "-0.147750780749\n",
      "Calculating In-Bag RMSE\n",
      "7.20143938119\n",
      "Calculating Out-Bag RMSE\n",
      "12.1331265362\n"
     ]
    }
   ],
   "source": [
    "from sklearn.ensemble import GradientBoostingRegressor\n",
    "col = test.columns\n",
    "gb1 = GradientBoostingRegressor(n_estimators=1000,max_features=0.95,learning_rate=0.005,max_depth=4)\n",
    "gb1_train,gb1_test = get_sklearn_stack_data(gb1,train,col,train['y'],test)"
   ]
  },
  {
   "cell_type": "markdown",
   "metadata": {},
   "source": [
    "## Model 2: lgb"
   ]
  },
  {
   "cell_type": "code",
   "execution_count": 10,
   "metadata": {},
   "outputs": [
    {
     "name": "stdout",
     "output_type": "stream",
     "text": [
      "Training 1 Fold\n",
      "R2 Scored of Fold 1 is 0.392935226846\n",
      "RMSE of Fold 1 is 9.62794490979\n",
      "Training 2 Fold\n",
      "R2 Scored of Fold 2 is 0.445326565495\n",
      "RMSE of Fold 2 is 10.6385218432\n",
      "Training 3 Fold\n",
      "R2 Scored of Fold 3 is 0.595935251881\n",
      "RMSE of Fold 3 is 7.84774959608\n",
      "Training 4 Fold\n",
      "R2 Scored of Fold 4 is 0.537189216766\n",
      "RMSE of Fold 4 is 8.56705148892\n",
      "Training 5 Fold\n",
      "R2 Scored of Fold 5 is 0.610236463069\n",
      "RMSE of Fold 5 is 7.17199682513\n",
      "Start Training\n",
      "Calculating In-Bag R2 Score\n",
      "0.589304339798\n",
      "Calculating Out-Bag R2 Score\n",
      "0.516324544811\n",
      "Calculating In-Bag RMSE\n",
      "8.12468479788\n",
      "Calculating Out-Bag RMSE\n",
      "8.77065293262\n"
     ]
    }
   ],
   "source": [
    "params = {\n",
    "            'objective': 'regression',\n",
    "            'metric': 'rmse',\n",
    "            'boosting': 'gbdt',\n",
    "            'learning_rate': 0.0045 , #small learn rate, large number of iterations\n",
    "            'verbose': 0,\n",
    "            'num_iterations': 500,\n",
    "            'bagging_fraction': 0.95,\n",
    "            'bagging_freq': 1,\n",
    "            'bagging_seed': 42,\n",
    "            'feature_fraction': 0.95,\n",
    "            'feature_fraction_seed': 42,\n",
    "            'max_bin': 100,\n",
    "            'max_depth': 3,\n",
    "            'num_rounds': 1000\n",
    "        }\n",
    "lgb_train, lgb_test = get_lgb_stack_data(params,1000,train,col,train['y'],test)"
   ]
  },
  {
   "cell_type": "markdown",
   "metadata": {},
   "source": [
    "## Model3: xgb"
   ]
  },
  {
   "cell_type": "code",
   "execution_count": 14,
   "metadata": {},
   "outputs": [
    {
     "name": "stdout",
     "output_type": "stream",
     "text": [
      "Training 1 Fold\n",
      "R2 Scored of Fold 1 is -3.28989812295\n",
      "RMSE of Fold 1 is 25.5940827511\n",
      "Training 2 Fold\n",
      "R2 Scored of Fold 2 is 0.433195031888\n",
      "RMSE of Fold 2 is 10.7542327267\n",
      "Training 3 Fold\n",
      "R2 Scored of Fold 3 is 0.586389170167\n",
      "RMSE of Fold 3 is 7.93991049281\n",
      "Training 4 Fold\n",
      "R2 Scored of Fold 4 is 0.524419669288\n",
      "RMSE of Fold 4 is 8.68443531519\n",
      "Training 5 Fold\n",
      "R2 Scored of Fold 5 is 0.375149269854\n",
      "RMSE of Fold 5 is 9.08087349568\n",
      "Start Training\n",
      "Calculating In-Bag R2 Score\n",
      "0.635691675237\n",
      "Calculating Out-Bag R2 Score\n",
      "-0.274148996351\n",
      "Calculating In-Bag RMSE\n",
      "7.65210646008\n",
      "Calculating Out-Bag RMSE\n",
      "12.4107069563\n"
     ]
    }
   ],
   "source": [
    "y_mean = np.mean(train.y)\n",
    "xgb_params = {\n",
    "        'n_trees': 520, \n",
    "        'eta': 0.0045,\n",
    "        'max_depth': 4,\n",
    "        'subsample': 0.93,\n",
    "        'objective': 'reg:linear',\n",
    "        'eval_metric': 'rmse',\n",
    "        'base_score': y_mean, # base prediction = mean(target)\n",
    "        'silent': True,\n",
    "        'seed': 42,\n",
    "    }\n",
    "xgb_train, xgb_test = get_xgb_stack_data(xgb_params,1250,train,col,train['y'],test)"
   ]
  },
  {
   "cell_type": "markdown",
   "metadata": {},
   "source": [
    "## Model 4: Lasso with Magic"
   ]
  },
  {
   "cell_type": "code",
   "execution_count": 18,
   "metadata": {
    "collapsed": true
   },
   "outputs": [],
   "source": [
    "train = pd.read_csv('data/train_c.csv')\n",
    "test = pd.read_csv('data/test_c.csv')\n",
    "train,test = get_additional_features(train,test,magic=True)\n",
    "col = test.columns"
   ]
  },
  {
   "cell_type": "code",
   "execution_count": 19,
   "metadata": {
    "collapsed": true
   },
   "outputs": [],
   "source": [
    "from sklearn.linear_model import Lasso"
   ]
  },
  {
   "cell_type": "code",
   "execution_count": 20,
   "metadata": {},
   "outputs": [
    {
     "name": "stdout",
     "output_type": "stream",
     "text": [
      "Training 1 Fold\n",
      "R2 Scored of Fold 1 is 0.626692158964\n",
      "RMSE of Fold 1 is 7.55004667508\n",
      "Training 2 Fold\n",
      "R2 Scored of Fold 2 is 0.451603223839\n",
      "RMSE of Fold 2 is 10.578158084\n",
      "Training 3 Fold\n",
      "R2 Scored of Fold 3 is 0.604652087853\n",
      "RMSE of Fold 3 is 7.76263883468\n",
      "Training 4 Fold\n",
      "R2 Scored of Fold 4 is 0.544009741963\n",
      "RMSE of Fold 4 is 8.50369009623\n",
      "Training 5 Fold\n",
      "R2 Scored of Fold 5 is 0.641373063165\n",
      "RMSE of Fold 5 is 6.87956436386\n",
      "Start Training\n",
      "Calculating In-Bag R2 Score\n",
      "0.575435112803\n",
      "Calculating Out-Bag R2 Score\n",
      "0.573666055157\n",
      "Calculating In-Bag RMSE\n",
      "8.26073140263\n",
      "Calculating Out-Bag RMSE\n",
      "8.25481961077\n"
     ]
    }
   ],
   "source": [
    "las1 = Lasso(alpha=5,random_state=42)\n",
    "las1_train,las1_test = get_sklearn_stack_data(las1,train,col,train['y'],test)"
   ]
  },
  {
   "cell_type": "markdown",
   "metadata": {},
   "source": [
    "## Try: Stacking four models with xgb"
   ]
  },
  {
   "cell_type": "code",
   "execution_count": 21,
   "metadata": {
    "collapsed": true
   },
   "outputs": [],
   "source": [
    "stack_train = gb1_train[['label','predicted']]\n",
    "stack_train.columns = ['y','gbdt']\n",
    "stack_train['las'] = las1_train['predicted']\n",
    "stack_train['lgb'] = lgb_train['predicted']\n",
    "stack_train['xgb'] = xgb_train['predicted']"
   ]
  },
  {
   "cell_type": "code",
   "execution_count": 22,
   "metadata": {
    "collapsed": true
   },
   "outputs": [],
   "source": [
    "stack_test = pd.DataFrame({'gbdt':gb1_test['y'],'xgb':xgb_test['y'],'las':las1_test['y'],'lgb':lgb_test['y']})"
   ]
  },
  {
   "cell_type": "code",
   "execution_count": 23,
   "metadata": {
    "collapsed": true
   },
   "outputs": [],
   "source": [
    "col = stack_test.columns"
   ]
  },
  {
   "cell_type": "code",
   "execution_count": 24,
   "metadata": {
    "collapsed": true
   },
   "outputs": [],
   "source": [
    "params = {\n",
    "    'eta': 0.005,\n",
    "    'max_depth': 2,\n",
    "    'objective': 'reg:linear',\n",
    "    'eval_metric': 'rmse',\n",
    "    'base_score': y_mean, # base prediction = mean(target)\n",
    "    'silent': 1\n",
    "}"
   ]
  },
  {
   "cell_type": "code",
   "execution_count": 25,
   "metadata": {},
   "outputs": [
    {
     "name": "stdout",
     "output_type": "stream",
     "text": [
      "[0]\ttrain-rmse:12.641+0.179047\ttest-rmse:12.6376+0.352979\n",
      "[50]\ttrain-rmse:11.154+0.221898\ttest-rmse:11.1584+0.416284\n",
      "[100]\ttrain-rmse:10.1442+0.257133\ttest-rmse:10.1553+0.472986\n",
      "[150]\ttrain-rmse:9.47778+0.283096\ttest-rmse:9.49482+0.520715\n",
      "[200]\ttrain-rmse:9.04766+0.302162\ttest-rmse:9.07161+0.556564\n",
      "[250]\ttrain-rmse:8.77171+0.314994\ttest-rmse:8.80443+0.581305\n",
      "[300]\ttrain-rmse:8.59297+0.322364\ttest-rmse:8.63845+0.596148\n",
      "[350]\ttrain-rmse:8.47518+0.325443\ttest-rmse:8.5362+0.608529\n",
      "[400]\ttrain-rmse:8.39667+0.326192\ttest-rmse:8.47117+0.619434\n",
      "[450]\ttrain-rmse:8.34257+0.326162\ttest-rmse:8.42987+0.627002\n",
      "[500]\ttrain-rmse:8.30412+0.325737\ttest-rmse:8.40322+0.632197\n",
      "[550]\ttrain-rmse:8.27598+0.325296\ttest-rmse:8.3858+0.636377\n",
      "[600]\ttrain-rmse:8.25015+0.324509\ttest-rmse:8.37363+0.639779\n",
      "[650]\ttrain-rmse:8.22786+0.322959\ttest-rmse:8.36508+0.641881\n",
      "[700]\ttrain-rmse:8.1971+0.316296\ttest-rmse:8.3583+0.644187\n",
      "[750]\ttrain-rmse:8.17349+0.314434\ttest-rmse:8.35344+0.646074\n",
      "[800]\ttrain-rmse:8.16144+0.317999\ttest-rmse:8.35013+0.64781\n",
      "[850]\ttrain-rmse:8.15049+0.321066\ttest-rmse:8.3479+0.649624\n",
      "[900]\ttrain-rmse:8.13233+0.319655\ttest-rmse:8.34573+0.651636\n",
      "[950]\ttrain-rmse:8.11372+0.316555\ttest-rmse:8.34441+0.653336\n",
      "[1000]\ttrain-rmse:8.08907+0.307153\ttest-rmse:8.34298+0.654911\n",
      "Performance does not improve from 1031 rounds\n"
     ]
    }
   ],
   "source": [
    "dtrain = xgb.DMatrix(stack_train[col],stack_train.y)\n",
    "dtest = xgb.DMatrix(stack_test)\n",
    "xgb_cvalid = xgb.cv(params, dtrain, num_boost_round=2000, early_stopping_rounds=20,\n",
    "    verbose_eval=50, show_stdv=True,seed=42)\n",
    "print('Performance does not improve from '+str(len(xgb_cvalid))+' rounds')"
   ]
  },
  {
   "cell_type": "code",
   "execution_count": 27,
   "metadata": {
    "collapsed": true
   },
   "outputs": [],
   "source": [
    "model = xgb.train(params,dtrain,num_boost_round=1031)"
   ]
  },
  {
   "cell_type": "code",
   "execution_count": 28,
   "metadata": {
    "collapsed": true
   },
   "outputs": [],
   "source": [
    "pred = model.predict(dtest)"
   ]
  },
  {
   "cell_type": "code",
   "execution_count": 29,
   "metadata": {
    "collapsed": true
   },
   "outputs": [],
   "source": [
    "sub= pd.DataFrame({'ID':test['ID'],'y':pred})\n",
    "sub.to_csv('submission/stacking_four_models_with_xgb_together.csv',index=False)"
   ]
  },
  {
   "cell_type": "markdown",
   "metadata": {},
   "source": [
    "## Stack First Three with xgb then average with independent xgb"
   ]
  },
  {
   "cell_type": "code",
   "execution_count": 30,
   "metadata": {
    "collapsed": true
   },
   "outputs": [],
   "source": [
    "del stack_train['xgb']\n",
    "del stack_test['xgb']"
   ]
  },
  {
   "cell_type": "code",
   "execution_count": 31,
   "metadata": {
    "collapsed": true
   },
   "outputs": [],
   "source": [
    "col = stack_test.columns"
   ]
  },
  {
   "cell_type": "code",
   "execution_count": 32,
   "metadata": {},
   "outputs": [
    {
     "name": "stdout",
     "output_type": "stream",
     "text": [
      "[0]\ttrain-rmse:12.641+0.179047\ttest-rmse:12.6376+0.352979\n",
      "[50]\ttrain-rmse:11.154+0.221898\ttest-rmse:11.1584+0.416284\n",
      "[100]\ttrain-rmse:10.1442+0.257133\ttest-rmse:10.1553+0.472986\n",
      "[150]\ttrain-rmse:9.47778+0.283096\ttest-rmse:9.49482+0.520715\n",
      "[200]\ttrain-rmse:9.04766+0.302162\ttest-rmse:9.07161+0.556564\n",
      "[250]\ttrain-rmse:8.77171+0.314994\ttest-rmse:8.80443+0.581305\n",
      "[300]\ttrain-rmse:8.59298+0.322354\ttest-rmse:8.63837+0.596031\n",
      "[350]\ttrain-rmse:8.47524+0.32536\ttest-rmse:8.53575+0.607896\n",
      "[400]\ttrain-rmse:8.39687+0.325916\ttest-rmse:8.47004+0.617829\n",
      "[450]\ttrain-rmse:8.34308+0.325365\ttest-rmse:8.42818+0.624992\n",
      "[500]\ttrain-rmse:8.30503+0.324314\ttest-rmse:8.4005+0.630758\n",
      "[550]\ttrain-rmse:8.27748+0.323413\ttest-rmse:8.38275+0.635503\n",
      "[600]\ttrain-rmse:8.256+0.323437\ttest-rmse:8.37114+0.639964\n",
      "[650]\ttrain-rmse:8.2349+0.322743\ttest-rmse:8.36397+0.642319\n",
      "[700]\ttrain-rmse:8.2128+0.321939\ttest-rmse:8.35807+0.644216\n",
      "[750]\ttrain-rmse:8.19621+0.323724\ttest-rmse:8.35435+0.64558\n",
      "[800]\ttrain-rmse:8.18461+0.328669\ttest-rmse:8.35211+0.647069\n",
      "[850]\ttrain-rmse:8.17388+0.332882\ttest-rmse:8.35057+0.648411\n",
      "[900]\ttrain-rmse:8.16396+0.335969\ttest-rmse:8.34858+0.650041\n",
      "[950]\ttrain-rmse:8.13915+0.328461\ttest-rmse:8.34622+0.652733\n",
      "[1000]\ttrain-rmse:8.10548+0.313455\ttest-rmse:8.34497+0.655551\n",
      "Performance does not improve from 1012 rounds\n"
     ]
    }
   ],
   "source": [
    "dtrain = xgb.DMatrix(stack_train[col],stack_train.y)\n",
    "dtest = xgb.DMatrix(stack_test)\n",
    "xgb_cvalid = xgb.cv(params, dtrain, num_boost_round=2000, early_stopping_rounds=20,\n",
    "    verbose_eval=50, show_stdv=True,seed=42)\n",
    "print('Performance does not improve from '+str(len(xgb_cvalid))+' rounds')"
   ]
  },
  {
   "cell_type": "code",
   "execution_count": 35,
   "metadata": {
    "collapsed": true
   },
   "outputs": [],
   "source": [
    "model = xgb.train(params,dtrain,num_boost_round=1012)\n",
    "pred = model.predict(dtest)"
   ]
  },
  {
   "cell_type": "code",
   "execution_count": 37,
   "metadata": {
    "collapsed": true
   },
   "outputs": [],
   "source": [
    "Average = xgb_test.y*0.73 + pred*0.27\n",
    "sub = pd.DataFrame({'ID':test['ID'],'y':Average})"
   ]
  },
  {
   "cell_type": "code",
   "execution_count": 38,
   "metadata": {
    "collapsed": true
   },
   "outputs": [],
   "source": [
    "sub.to_csv('submission/Stack_then_Average_sklearn_xgb_Tree_no_magic.csv',index=False)"
   ]
  },
  {
   "cell_type": "markdown",
   "metadata": {
    "collapsed": true
   },
   "source": [
    "## Add a little tensorflow submission?"
   ]
  },
  {
   "cell_type": "code",
   "execution_count": 43,
   "metadata": {
    "collapsed": true
   },
   "outputs": [],
   "source": [
    "y1 = sub.y\n",
    "y2 = pd.read_csv('submission/tensorflow_results.csv').y"
   ]
  },
  {
   "cell_type": "code",
   "execution_count": 44,
   "metadata": {},
   "outputs": [],
   "source": [
    "Average = 0.85*y1 + 0.15*y2"
   ]
  },
  {
   "cell_type": "code",
   "execution_count": 45,
   "metadata": {
    "collapsed": true
   },
   "outputs": [],
   "source": [
    "sub = pd.DataFrame({'ID':test['ID'],'y':Average})\n",
    "sub.to_csv('submission/Stack_sklearn_average_xgb_average_tf.csv',index=False)"
   ]
  },
  {
   "cell_type": "code",
   "execution_count": null,
   "metadata": {
    "collapsed": true
   },
   "outputs": [],
   "source": []
  }
 ],
 "metadata": {
  "kernelspec": {
   "display_name": "Python 3",
   "language": "python",
   "name": "python3"
  },
  "language_info": {
   "codemirror_mode": {
    "name": "ipython",
    "version": 3
   },
   "file_extension": ".py",
   "mimetype": "text/x-python",
   "name": "python",
   "nbconvert_exporter": "python",
   "pygments_lexer": "ipython3",
   "version": "3.5.2"
  }
 },
 "nbformat": 4,
 "nbformat_minor": 2
}
