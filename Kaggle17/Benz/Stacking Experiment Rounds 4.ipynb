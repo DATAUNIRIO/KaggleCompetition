{
 "cells": [
  {
   "cell_type": "code",
   "execution_count": 3,
   "metadata": {},
   "outputs": [],
   "source": [
    "import warnings\n",
    "warnings.filterwarnings('ignore')\n",
    "%run Functions.py"
   ]
  },
  {
   "cell_type": "markdown",
   "metadata": {},
   "source": [
    "## Try: stack lgb, gbdt and lasso"
   ]
  },
  {
   "cell_type": "code",
   "execution_count": 16,
   "metadata": {
    "collapsed": true
   },
   "outputs": [],
   "source": [
    "train = pd.read_csv('data/train_c.csv')\n",
    "test = pd.read_csv('data/test_c.csv')"
   ]
  },
  {
   "cell_type": "code",
   "execution_count": 17,
   "metadata": {
    "collapsed": true
   },
   "outputs": [],
   "source": [
    "train,test = get_additional_features(train,test)"
   ]
  },
  {
   "cell_type": "code",
   "execution_count": 20,
   "metadata": {},
   "outputs": [],
   "source": [
    "from sklearn.ensemble import GradientBoostingRegressor\n",
    "gb1 = GradientBoostingRegressor(n_estimators=1000,max_features=0.95,learning_rate=0.005,max_depth=4)"
   ]
  },
  {
   "cell_type": "code",
   "execution_count": 21,
   "metadata": {},
   "outputs": [
    {
     "name": "stdout",
     "output_type": "stream",
     "text": [
      "Training 1 Fold\n",
      "R2 Scored of Fold 1 is -3.44065135942\n",
      "RMSE of Fold 1 is 26.0399064247\n",
      "Training 2 Fold\n",
      "R2 Scored of Fold 2 is 0.425515508414\n",
      "RMSE of Fold 2 is 10.8268410547\n",
      "Training 3 Fold\n",
      "R2 Scored of Fold 3 is 0.573080655758\n",
      "RMSE of Fold 3 is 8.06663808799\n",
      "Training 4 Fold\n",
      "R2 Scored of Fold 4 is 0.525980306451\n",
      "RMSE of Fold 4 is 8.6701744335\n",
      "Training 5 Fold\n",
      "R2 Scored of Fold 5 is 0.275718244648\n",
      "RMSE of Fold 5 is 9.77672180402\n",
      "Start Training\n",
      "Calculating In-Bag R2 Score\n",
      "0.678429919803\n",
      "Calculating Out-Bag R2 Score\n",
      "-0.328071328829\n",
      "Calculating In-Bag RMSE\n",
      "7.18926150965\n",
      "Calculating Out-Bag RMSE\n",
      "12.676056361\n"
     ]
    }
   ],
   "source": [
    "gb1_train,gb1_test = get_sklearn_stack_data(gb1,train,col,train['y'],test)"
   ]
  },
  {
   "cell_type": "code",
   "execution_count": 23,
   "metadata": {},
   "outputs": [
    {
     "name": "stdout",
     "output_type": "stream",
     "text": [
      "Training 1 Fold\n",
      "R2 Scored of Fold 1 is 0.451102251015\n",
      "RMSE of Fold 1 is 9.15507286827\n",
      "Training 2 Fold\n",
      "R2 Scored of Fold 2 is 0.445738534345\n",
      "RMSE of Fold 2 is 10.6345703706\n",
      "Training 3 Fold\n",
      "R2 Scored of Fold 3 is 0.597202945376\n",
      "RMSE of Fold 3 is 7.83542934735\n",
      "Training 4 Fold\n",
      "R2 Scored of Fold 4 is 0.538355835163\n",
      "RMSE of Fold 4 is 8.55624708837\n",
      "Training 5 Fold\n",
      "R2 Scored of Fold 5 is 0.619903738856\n",
      "RMSE of Fold 5 is 7.08249511468\n",
      "Start Training\n",
      "Calculating In-Bag R2 Score\n",
      "0.582991333496\n",
      "Calculating Out-Bag R2 Score\n",
      "0.530460660951\n",
      "Calculating In-Bag RMSE\n",
      "8.18689093521\n",
      "Calculating Out-Bag RMSE\n",
      "8.65276295786\n"
     ]
    }
   ],
   "source": [
    "params = {\n",
    "            'objective': 'regression',\n",
    "            'metric': 'rmse',\n",
    "            'boosting': 'gbdt',\n",
    "            'learning_rate': 0.0045 , #small learn rate, large number of iterations\n",
    "            'verbose': 0,\n",
    "            'num_iterations': 500,\n",
    "            'bagging_fraction': 0.95,\n",
    "            'bagging_freq': 1,\n",
    "            'bagging_seed': 42,\n",
    "            'feature_fraction': 0.95,\n",
    "            'feature_fraction_seed': 42,\n",
    "            'max_bin': 100,\n",
    "            'max_depth': 3,\n",
    "            'num_rounds': 800\n",
    "        }\n",
    "lgb_train, lgb_test = get_lgb_stack_data(params,800,train,col,train['y'],test)"
   ]
  },
  {
   "cell_type": "code",
   "execution_count": 29,
   "metadata": {
    "collapsed": true
   },
   "outputs": [],
   "source": [
    "train = pd.read_csv('data/train_c.csv')\n",
    "test = pd.read_csv('data/test_c.csv')\n",
    "train,test = get_additional_features(train,test,magic=True)\n",
    "col = test.columns"
   ]
  },
  {
   "cell_type": "code",
   "execution_count": 30,
   "metadata": {},
   "outputs": [],
   "source": [
    "from sklearn.linear_model import Lasso"
   ]
  },
  {
   "cell_type": "code",
   "execution_count": 31,
   "metadata": {},
   "outputs": [
    {
     "name": "stdout",
     "output_type": "stream",
     "text": [
      "Training 1 Fold\n",
      "R2 Scored of Fold 1 is 0.626692158964\n",
      "RMSE of Fold 1 is 7.55004667508\n",
      "Training 2 Fold\n",
      "R2 Scored of Fold 2 is 0.451603223839\n",
      "RMSE of Fold 2 is 10.578158084\n",
      "Training 3 Fold\n",
      "R2 Scored of Fold 3 is 0.604652087853\n",
      "RMSE of Fold 3 is 7.76263883468\n",
      "Training 4 Fold\n",
      "R2 Scored of Fold 4 is 0.544009741963\n",
      "RMSE of Fold 4 is 8.50369009623\n",
      "Training 5 Fold\n",
      "R2 Scored of Fold 5 is 0.641373063165\n",
      "RMSE of Fold 5 is 6.87956436386\n",
      "Start Training\n",
      "Calculating In-Bag R2 Score\n",
      "0.575435112803\n",
      "Calculating Out-Bag R2 Score\n",
      "0.573666055157\n",
      "Calculating In-Bag RMSE\n",
      "8.26073140263\n",
      "Calculating Out-Bag RMSE\n",
      "8.25481961077\n"
     ]
    }
   ],
   "source": [
    "las1 = Lasso(alpha=5,random_state=42)\n",
    "las1_train,las1_test = get_sklearn_stack_data(las1,train,col,train['y'],test)"
   ]
  },
  {
   "cell_type": "code",
   "execution_count": 35,
   "metadata": {},
   "outputs": [],
   "source": [
    "stack_train = gb1_train[['predicted','label']]\n",
    "stack_train.columns = ['gbdt','y']\n",
    "stack_train['las'] = las1_train['predicted']\n",
    "stack_train['lgb'] = lgb_train['predicted']"
   ]
  },
  {
   "cell_type": "code",
   "execution_count": 36,
   "metadata": {
    "collapsed": true
   },
   "outputs": [],
   "source": [
    "stack_test = pd.DataFrame({'gbdt':gb1_test.y,'las':las1_test.y,'lgb':lgb_test.y})"
   ]
  },
  {
   "cell_type": "markdown",
   "metadata": {},
   "source": [
    "## Stack by xgb"
   ]
  },
  {
   "cell_type": "code",
   "execution_count": 38,
   "metadata": {
    "collapsed": true
   },
   "outputs": [],
   "source": [
    "y_mean = np.mean(train.y)"
   ]
  },
  {
   "cell_type": "code",
   "execution_count": 39,
   "metadata": {
    "collapsed": true
   },
   "outputs": [],
   "source": [
    "params = {\n",
    "    'eta': 0.005,\n",
    "    'max_depth': 2,\n",
    "    'objective': 'reg:linear',\n",
    "    'eval_metric': 'rmse',\n",
    "    'base_score': y_mean, # base prediction = mean(target)\n",
    "    'silent': 1\n",
    "}\n",
    "col = stack_test.columns"
   ]
  },
  {
   "cell_type": "code",
   "execution_count": 41,
   "metadata": {},
   "outputs": [],
   "source": [
    "dtrain = xgb.DMatrix(stack_train[col], stack_train['y'])\n",
    "dtest = xgb.DMatrix(stack_test[col])"
   ]
  },
  {
   "cell_type": "code",
   "execution_count": 42,
   "metadata": {},
   "outputs": [
    {
     "name": "stdout",
     "output_type": "stream",
     "text": [
      "[0]\ttrain-rmse:12.641+0.179047\ttest-rmse:12.6376+0.35297\n",
      "[50]\ttrain-rmse:11.1542+0.221609\ttest-rmse:11.1588+0.415992\n",
      "[100]\ttrain-rmse:10.1441+0.257381\ttest-rmse:10.1551+0.471679\n",
      "[150]\ttrain-rmse:9.47565+0.283985\ttest-rmse:9.4924+0.518174\n",
      "[200]\ttrain-rmse:9.04352+0.302893\ttest-rmse:9.06608+0.55474\n",
      "[250]\ttrain-rmse:8.76672+0.315735\ttest-rmse:8.79695+0.579789\n",
      "[300]\ttrain-rmse:8.58792+0.323216\ttest-rmse:8.63065+0.595001\n",
      "[350]\ttrain-rmse:8.47009+0.326381\ttest-rmse:8.52796+0.606951\n",
      "[400]\ttrain-rmse:8.39119+0.327276\ttest-rmse:8.46248+0.616615\n",
      "[450]\ttrain-rmse:8.33662+0.327407\ttest-rmse:8.42041+0.623853\n",
      "[500]\ttrain-rmse:8.29786+0.327312\ttest-rmse:8.3929+0.628981\n",
      "[550]\ttrain-rmse:8.26919+0.327864\ttest-rmse:8.37537+0.633927\n",
      "[600]\ttrain-rmse:8.24364+0.325654\ttest-rmse:8.36371+0.637962\n",
      "[650]\ttrain-rmse:8.22284+0.323133\ttest-rmse:8.35607+0.640737\n",
      "[700]\ttrain-rmse:8.20195+0.322726\ttest-rmse:8.35046+0.643098\n",
      "[750]\ttrain-rmse:8.18263+0.322556\ttest-rmse:8.34654+0.645025\n",
      "[800]\ttrain-rmse:8.1723+0.326254\ttest-rmse:8.34449+0.646688\n",
      "[850]\ttrain-rmse:8.1626+0.329999\ttest-rmse:8.34295+0.648137\n",
      "[900]\ttrain-rmse:8.14901+0.331708\ttest-rmse:8.34069+0.648813\n",
      "[950]\ttrain-rmse:8.12649+0.326664\ttest-rmse:8.33901+0.649798\n",
      "[1000]\ttrain-rmse:8.09662+0.313566\ttest-rmse:8.33828+0.651018\n",
      "[1050]\ttrain-rmse:8.068+0.299454\ttest-rmse:8.33825+0.651671\n",
      "Performance does not improve from 1036 rounds\n"
     ]
    }
   ],
   "source": [
    "xgb_cvalid = xgb.cv(params, dtrain, num_boost_round=2000, early_stopping_rounds=20,\n",
    "    verbose_eval=50, show_stdv=True,seed=42)\n",
    "xgb_cvalid[['train-rmse-mean', 'test-rmse-mean']].plot()\n",
    "print('Performance does not improve from '+str(len(xgb_cvalid))+' rounds')"
   ]
  },
  {
   "cell_type": "code",
   "execution_count": 43,
   "metadata": {
    "collapsed": true
   },
   "outputs": [],
   "source": [
    "model = xgb.train(params,dtrain,num_boost_round=1200)"
   ]
  },
  {
   "cell_type": "code",
   "execution_count": 44,
   "metadata": {
    "collapsed": true
   },
   "outputs": [],
   "source": [
    "pred = model.predict(dtest)"
   ]
  },
  {
   "cell_type": "code",
   "execution_count": 45,
   "metadata": {
    "collapsed": true
   },
   "outputs": [],
   "source": [
    "sub = pd.DataFrame({'ID':test['ID'],'y':pred})"
   ]
  },
  {
   "cell_type": "code",
   "execution_count": 46,
   "metadata": {
    "collapsed": true
   },
   "outputs": [],
   "source": [
    "leaks = {\n",
    "    1:71.34112,\n",
    "    12:109.30903,\n",
    "    23:115.21953,\n",
    "    28:92.00675,\n",
    "    42:87.73572,\n",
    "    43:129.79876,\n",
    "    45:99.55671,\n",
    "    57:116.02167,\n",
    "    3977:132.08556,\n",
    "    88:90.33211,\n",
    "    89:130.55165,\n",
    "    93:105.79792,\n",
    "    94:103.04672,\n",
    "    1001:111.65212,\n",
    "    104:92.37968,\n",
    "    72:110.54742,\n",
    "    78:125.28849,\n",
    "    105:108.5069,\n",
    "    110:83.31692,\n",
    "    1004:91.472,\n",
    "    1008:106.71967,\n",
    "    1009:108.21841,\n",
    "    973:106.76189,\n",
    "    8002:95.84858,\n",
    "    8007:87.44019,\n",
    "    1644:99.14157,\n",
    "    337:101.23135,\n",
    "    253:115.93724,\n",
    "    8416:96.84773,\n",
    "    259:93.33662,\n",
    "    262:75.35182,\n",
    "    1652:89.77625\n",
    "    }\n",
    "sub['y'] = sub.apply(lambda r: leaks[int(r['ID'])] if int(r['ID']) in leaks else r['y'], axis=1)"
   ]
  },
  {
   "cell_type": "code",
   "execution_count": 47,
   "metadata": {
    "collapsed": true
   },
   "outputs": [],
   "source": [
    "sub.to_csv('submission/sklearn_lgb_stacking_with_leak_no_magic.csv',index=False)"
   ]
  },
  {
   "cell_type": "markdown",
   "metadata": {},
   "source": [
    "## Create basic XGB model"
   ]
  },
  {
   "cell_type": "code",
   "execution_count": 63,
   "metadata": {
    "collapsed": true
   },
   "outputs": [],
   "source": [
    "train = pd.read_csv('data/train_c.csv')\n",
    "test = pd.read_csv('data/test_c.csv')\n",
    "train,test = get_additional_features(train,test,magic=True)"
   ]
  },
  {
   "cell_type": "code",
   "execution_count": 51,
   "metadata": {},
   "outputs": [],
   "source": [
    "xgb_params = {\n",
    "        'n_trees': 520, \n",
    "        'eta': 0.0045,\n",
    "        'max_depth': 4,\n",
    "        'subsample': 0.93,\n",
    "        'objective': 'reg:linear',\n",
    "        'eval_metric': 'rmse',\n",
    "        'base_score': y_mean, # base prediction = mean(target)\n",
    "        'silent': True,\n",
    "        'seed': 42,\n",
    "    }\n",
    "    # NOTE: Make sure that the class is labeled 'class' in the data file\n",
    "col = test.columns\n",
    "dtrain = xgb.DMatrix(train[col],train.y)\n",
    "dtest = xgb.DMatrix(test[col])\n",
    "    \n",
    "num_boost_rounds = 1250\n",
    "    # train model\n",
    "model = xgb.train(dict(xgb_params, silent=0), dtrain, num_boost_round=num_boost_rounds)\n",
    "y_pred = model.predict(dtest)"
   ]
  },
  {
   "cell_type": "code",
   "execution_count": 55,
   "metadata": {
    "collapsed": true
   },
   "outputs": [],
   "source": [
    "Average = 0.4*pred + 0.6*y_pred"
   ]
  },
  {
   "cell_type": "code",
   "execution_count": 56,
   "metadata": {
    "collapsed": true
   },
   "outputs": [],
   "source": [
    "sub = pd.DataFrame({'ID':test['ID'],'y':Average})\n",
    "sub['y'] = sub.apply(lambda r: leaks[int(r['ID'])] if int(r['ID']) in leaks else r['y'], axis=1)"
   ]
  },
  {
   "cell_type": "code",
   "execution_count": 57,
   "metadata": {
    "collapsed": true
   },
   "outputs": [],
   "source": [
    "sub.to_csv('submission/Average_xgb_and_stack_0.4_0.6.csv',index=False)"
   ]
  },
  {
   "cell_type": "markdown",
   "metadata": {},
   "source": [
    "## Stacking xgb, lgbt, GBDT with Lasso+Magic"
   ]
  },
  {
   "cell_type": "code",
   "execution_count": 58,
   "metadata": {},
   "outputs": [
    {
     "name": "stdout",
     "output_type": "stream",
     "text": [
      "Training 1 Fold\n",
      "R2 Scored of Fold 1 is -3.28989812295\n",
      "RMSE of Fold 1 is 25.5940827511\n",
      "Training 2 Fold\n",
      "R2 Scored of Fold 2 is 0.433195031888\n",
      "RMSE of Fold 2 is 10.7542327267\n",
      "Training 3 Fold\n",
      "R2 Scored of Fold 3 is 0.586389170167\n",
      "RMSE of Fold 3 is 7.93991049281\n",
      "Training 4 Fold\n",
      "R2 Scored of Fold 4 is 0.524419669288\n",
      "RMSE of Fold 4 is 8.68443531519\n",
      "Training 5 Fold\n",
      "R2 Scored of Fold 5 is 0.375149269854\n",
      "RMSE of Fold 5 is 9.08087349568\n",
      "Start Training\n",
      "Calculating In-Bag R2 Score\n",
      "0.635691675237\n",
      "Calculating Out-Bag R2 Score\n",
      "-0.274148996351\n",
      "Calculating In-Bag RMSE\n",
      "7.65210646008\n",
      "Calculating Out-Bag RMSE\n",
      "12.4107069563\n"
     ]
    }
   ],
   "source": [
    "xgb_train,xgb_test = get_xgb_stack_data(xgb_params,1250,train,col,train.y,test)"
   ]
  },
  {
   "cell_type": "code",
   "execution_count": 64,
   "metadata": {},
   "outputs": [],
   "source": [
    "stack_train['xgb'] = xgb_train['predicted']\n",
    "stack_test['xgb'] = xgb_test['y']\n",
    "stack_train['magic'] = train['magic']\n",
    "stack_test['magic'] = test['magic']"
   ]
  },
  {
   "cell_type": "code",
   "execution_count": 62,
   "metadata": {},
   "outputs": [],
   "source": [
    "del stack_train['las']\n",
    "del stack_test['las']"
   ]
  },
  {
   "cell_type": "code",
   "execution_count": 69,
   "metadata": {},
   "outputs": [],
   "source": [
    "las = Lasso(alpha = 5,random_state=42)\n",
    "col = stack_test.columns\n",
    "stack_train['ID'] = train['ID']\n",
    "stack_test['ID'] = test['ID']"
   ]
  },
  {
   "cell_type": "code",
   "execution_count": 70,
   "metadata": {},
   "outputs": [
    {
     "name": "stdout",
     "output_type": "stream",
     "text": [
      "Training 1 Fold\n",
      "R2 Scored of Fold 1 is 0.643152803909\n",
      "RMSE of Fold 1 is 7.38171417144\n",
      "Training 2 Fold\n",
      "R2 Scored of Fold 2 is 0.447745570512\n",
      "RMSE of Fold 2 is 10.6152984873\n",
      "Training 3 Fold\n",
      "R2 Scored of Fold 3 is 0.605933672338\n",
      "RMSE of Fold 3 is 7.75004669409\n",
      "Training 4 Fold\n",
      "R2 Scored of Fold 4 is 0.551590607532\n",
      "RMSE of Fold 4 is 8.4327066531\n",
      "Training 5 Fold\n",
      "R2 Scored of Fold 5 is 0.643243661066\n",
      "RMSE of Fold 5 is 6.86159900448\n",
      "Start Training\n",
      "Calculating In-Bag R2 Score\n",
      "0.573121310536\n",
      "Calculating Out-Bag R2 Score\n",
      "0.578333263072\n",
      "Calculating In-Bag RMSE\n",
      "8.28321056752\n",
      "Calculating Out-Bag RMSE\n",
      "8.20827300208\n"
     ]
    }
   ],
   "source": [
    "training_stack,testing_stack = get_sklearn_stack_data(las,stack_train,col,stack_train['y'],stack_test)"
   ]
  },
  {
   "cell_type": "code",
   "execution_count": 71,
   "metadata": {},
   "outputs": [
    {
     "data": {
      "text/html": [
       "<div>\n",
       "<table border=\"1\" class=\"dataframe\">\n",
       "  <thead>\n",
       "    <tr style=\"text-align: right;\">\n",
       "      <th></th>\n",
       "      <th>ID</th>\n",
       "      <th>y</th>\n",
       "    </tr>\n",
       "  </thead>\n",
       "  <tbody>\n",
       "    <tr>\n",
       "      <th>0</th>\n",
       "      <td>1</td>\n",
       "      <td>79.251021</td>\n",
       "    </tr>\n",
       "    <tr>\n",
       "      <th>1</th>\n",
       "      <td>2</td>\n",
       "      <td>94.100424</td>\n",
       "    </tr>\n",
       "    <tr>\n",
       "      <th>2</th>\n",
       "      <td>3</td>\n",
       "      <td>79.251021</td>\n",
       "    </tr>\n",
       "    <tr>\n",
       "      <th>3</th>\n",
       "      <td>4</td>\n",
       "      <td>79.251021</td>\n",
       "    </tr>\n",
       "    <tr>\n",
       "      <th>4</th>\n",
       "      <td>5</td>\n",
       "      <td>111.967670</td>\n",
       "    </tr>\n",
       "    <tr>\n",
       "      <th>5</th>\n",
       "      <td>8</td>\n",
       "      <td>94.403449</td>\n",
       "    </tr>\n",
       "    <tr>\n",
       "      <th>6</th>\n",
       "      <td>10</td>\n",
       "      <td>111.912064</td>\n",
       "    </tr>\n",
       "    <tr>\n",
       "      <th>7</th>\n",
       "      <td>11</td>\n",
       "      <td>94.291564</td>\n",
       "    </tr>\n",
       "    <tr>\n",
       "      <th>8</th>\n",
       "      <td>12</td>\n",
       "      <td>115.716896</td>\n",
       "    </tr>\n",
       "    <tr>\n",
       "      <th>9</th>\n",
       "      <td>14</td>\n",
       "      <td>94.946158</td>\n",
       "    </tr>\n",
       "    <tr>\n",
       "      <th>10</th>\n",
       "      <td>15</td>\n",
       "      <td>115.716896</td>\n",
       "    </tr>\n",
       "    <tr>\n",
       "      <th>11</th>\n",
       "      <td>16</td>\n",
       "      <td>103.362911</td>\n",
       "    </tr>\n",
       "    <tr>\n",
       "      <th>12</th>\n",
       "      <td>17</td>\n",
       "      <td>93.624427</td>\n",
       "    </tr>\n",
       "    <tr>\n",
       "      <th>13</th>\n",
       "      <td>19</td>\n",
       "      <td>94.946158</td>\n",
       "    </tr>\n",
       "    <tr>\n",
       "      <th>14</th>\n",
       "      <td>20</td>\n",
       "      <td>104.251191</td>\n",
       "    </tr>\n",
       "    <tr>\n",
       "      <th>15</th>\n",
       "      <td>21</td>\n",
       "      <td>93.624427</td>\n",
       "    </tr>\n",
       "    <tr>\n",
       "      <th>16</th>\n",
       "      <td>22</td>\n",
       "      <td>115.716896</td>\n",
       "    </tr>\n",
       "    <tr>\n",
       "      <th>17</th>\n",
       "      <td>23</td>\n",
       "      <td>93.624427</td>\n",
       "    </tr>\n",
       "    <tr>\n",
       "      <th>18</th>\n",
       "      <td>26</td>\n",
       "      <td>95.421616</td>\n",
       "    </tr>\n",
       "    <tr>\n",
       "      <th>19</th>\n",
       "      <td>28</td>\n",
       "      <td>94.403449</td>\n",
       "    </tr>\n",
       "    <tr>\n",
       "      <th>20</th>\n",
       "      <td>29</td>\n",
       "      <td>93.624427</td>\n",
       "    </tr>\n",
       "    <tr>\n",
       "      <th>21</th>\n",
       "      <td>33</td>\n",
       "      <td>93.624427</td>\n",
       "    </tr>\n",
       "    <tr>\n",
       "      <th>22</th>\n",
       "      <td>35</td>\n",
       "      <td>95.421616</td>\n",
       "    </tr>\n",
       "    <tr>\n",
       "      <th>23</th>\n",
       "      <td>41</td>\n",
       "      <td>93.624427</td>\n",
       "    </tr>\n",
       "    <tr>\n",
       "      <th>24</th>\n",
       "      <td>42</td>\n",
       "      <td>94.403449</td>\n",
       "    </tr>\n",
       "    <tr>\n",
       "      <th>25</th>\n",
       "      <td>43</td>\n",
       "      <td>115.716896</td>\n",
       "    </tr>\n",
       "    <tr>\n",
       "      <th>26</th>\n",
       "      <td>45</td>\n",
       "      <td>103.362911</td>\n",
       "    </tr>\n",
       "    <tr>\n",
       "      <th>27</th>\n",
       "      <td>46</td>\n",
       "      <td>103.362911</td>\n",
       "    </tr>\n",
       "    <tr>\n",
       "      <th>28</th>\n",
       "      <td>51</td>\n",
       "      <td>94.291564</td>\n",
       "    </tr>\n",
       "    <tr>\n",
       "      <th>29</th>\n",
       "      <td>53</td>\n",
       "      <td>79.251021</td>\n",
       "    </tr>\n",
       "    <tr>\n",
       "      <th>...</th>\n",
       "      <td>...</td>\n",
       "      <td>...</td>\n",
       "    </tr>\n",
       "    <tr>\n",
       "      <th>4179</th>\n",
       "      <td>8361</td>\n",
       "      <td>111.530658</td>\n",
       "    </tr>\n",
       "    <tr>\n",
       "      <th>4180</th>\n",
       "      <td>8363</td>\n",
       "      <td>103.795940</td>\n",
       "    </tr>\n",
       "    <tr>\n",
       "      <th>4181</th>\n",
       "      <td>8364</td>\n",
       "      <td>94.100424</td>\n",
       "    </tr>\n",
       "    <tr>\n",
       "      <th>4182</th>\n",
       "      <td>8365</td>\n",
       "      <td>95.421616</td>\n",
       "    </tr>\n",
       "    <tr>\n",
       "      <th>4183</th>\n",
       "      <td>8366</td>\n",
       "      <td>102.390169</td>\n",
       "    </tr>\n",
       "    <tr>\n",
       "      <th>4184</th>\n",
       "      <td>8370</td>\n",
       "      <td>111.912064</td>\n",
       "    </tr>\n",
       "    <tr>\n",
       "      <th>4185</th>\n",
       "      <td>8372</td>\n",
       "      <td>91.812321</td>\n",
       "    </tr>\n",
       "    <tr>\n",
       "      <th>4186</th>\n",
       "      <td>8376</td>\n",
       "      <td>95.421616</td>\n",
       "    </tr>\n",
       "    <tr>\n",
       "      <th>4187</th>\n",
       "      <td>8377</td>\n",
       "      <td>111.912064</td>\n",
       "    </tr>\n",
       "    <tr>\n",
       "      <th>4188</th>\n",
       "      <td>8379</td>\n",
       "      <td>111.912064</td>\n",
       "    </tr>\n",
       "    <tr>\n",
       "      <th>4189</th>\n",
       "      <td>8380</td>\n",
       "      <td>94.235123</td>\n",
       "    </tr>\n",
       "    <tr>\n",
       "      <th>4190</th>\n",
       "      <td>8381</td>\n",
       "      <td>111.909133</td>\n",
       "    </tr>\n",
       "    <tr>\n",
       "      <th>4191</th>\n",
       "      <td>8386</td>\n",
       "      <td>94.235123</td>\n",
       "    </tr>\n",
       "    <tr>\n",
       "      <th>4192</th>\n",
       "      <td>8388</td>\n",
       "      <td>103.362911</td>\n",
       "    </tr>\n",
       "    <tr>\n",
       "      <th>4193</th>\n",
       "      <td>8389</td>\n",
       "      <td>94.291564</td>\n",
       "    </tr>\n",
       "    <tr>\n",
       "      <th>4194</th>\n",
       "      <td>8391</td>\n",
       "      <td>111.967670</td>\n",
       "    </tr>\n",
       "    <tr>\n",
       "      <th>4195</th>\n",
       "      <td>8394</td>\n",
       "      <td>95.421616</td>\n",
       "    </tr>\n",
       "    <tr>\n",
       "      <th>4196</th>\n",
       "      <td>8396</td>\n",
       "      <td>103.795940</td>\n",
       "    </tr>\n",
       "    <tr>\n",
       "      <th>4197</th>\n",
       "      <td>8398</td>\n",
       "      <td>103.362911</td>\n",
       "    </tr>\n",
       "    <tr>\n",
       "      <th>4198</th>\n",
       "      <td>8400</td>\n",
       "      <td>111.909133</td>\n",
       "    </tr>\n",
       "    <tr>\n",
       "      <th>4199</th>\n",
       "      <td>8401</td>\n",
       "      <td>93.624427</td>\n",
       "    </tr>\n",
       "    <tr>\n",
       "      <th>4200</th>\n",
       "      <td>8404</td>\n",
       "      <td>93.624427</td>\n",
       "    </tr>\n",
       "    <tr>\n",
       "      <th>4201</th>\n",
       "      <td>8407</td>\n",
       "      <td>94.946158</td>\n",
       "    </tr>\n",
       "    <tr>\n",
       "      <th>4202</th>\n",
       "      <td>8408</td>\n",
       "      <td>111.455557</td>\n",
       "    </tr>\n",
       "    <tr>\n",
       "      <th>4203</th>\n",
       "      <td>8409</td>\n",
       "      <td>111.455557</td>\n",
       "    </tr>\n",
       "    <tr>\n",
       "      <th>4204</th>\n",
       "      <td>8410</td>\n",
       "      <td>103.795940</td>\n",
       "    </tr>\n",
       "    <tr>\n",
       "      <th>4205</th>\n",
       "      <td>8411</td>\n",
       "      <td>94.100424</td>\n",
       "    </tr>\n",
       "    <tr>\n",
       "      <th>4206</th>\n",
       "      <td>8413</td>\n",
       "      <td>94.403449</td>\n",
       "    </tr>\n",
       "    <tr>\n",
       "      <th>4207</th>\n",
       "      <td>8414</td>\n",
       "      <td>111.909133</td>\n",
       "    </tr>\n",
       "    <tr>\n",
       "      <th>4208</th>\n",
       "      <td>8416</td>\n",
       "      <td>94.100424</td>\n",
       "    </tr>\n",
       "  </tbody>\n",
       "</table>\n",
       "<p>4209 rows × 2 columns</p>\n",
       "</div>"
      ],
      "text/plain": [
       "        ID           y\n",
       "0        1   79.251021\n",
       "1        2   94.100424\n",
       "2        3   79.251021\n",
       "3        4   79.251021\n",
       "4        5  111.967670\n",
       "5        8   94.403449\n",
       "6       10  111.912064\n",
       "7       11   94.291564\n",
       "8       12  115.716896\n",
       "9       14   94.946158\n",
       "10      15  115.716896\n",
       "11      16  103.362911\n",
       "12      17   93.624427\n",
       "13      19   94.946158\n",
       "14      20  104.251191\n",
       "15      21   93.624427\n",
       "16      22  115.716896\n",
       "17      23   93.624427\n",
       "18      26   95.421616\n",
       "19      28   94.403449\n",
       "20      29   93.624427\n",
       "21      33   93.624427\n",
       "22      35   95.421616\n",
       "23      41   93.624427\n",
       "24      42   94.403449\n",
       "25      43  115.716896\n",
       "26      45  103.362911\n",
       "27      46  103.362911\n",
       "28      51   94.291564\n",
       "29      53   79.251021\n",
       "...    ...         ...\n",
       "4179  8361  111.530658\n",
       "4180  8363  103.795940\n",
       "4181  8364   94.100424\n",
       "4182  8365   95.421616\n",
       "4183  8366  102.390169\n",
       "4184  8370  111.912064\n",
       "4185  8372   91.812321\n",
       "4186  8376   95.421616\n",
       "4187  8377  111.912064\n",
       "4188  8379  111.912064\n",
       "4189  8380   94.235123\n",
       "4190  8381  111.909133\n",
       "4191  8386   94.235123\n",
       "4192  8388  103.362911\n",
       "4193  8389   94.291564\n",
       "4194  8391  111.967670\n",
       "4195  8394   95.421616\n",
       "4196  8396  103.795940\n",
       "4197  8398  103.362911\n",
       "4198  8400  111.909133\n",
       "4199  8401   93.624427\n",
       "4200  8404   93.624427\n",
       "4201  8407   94.946158\n",
       "4202  8408  111.455557\n",
       "4203  8409  111.455557\n",
       "4204  8410  103.795940\n",
       "4205  8411   94.100424\n",
       "4206  8413   94.403449\n",
       "4207  8414  111.909133\n",
       "4208  8416   94.100424\n",
       "\n",
       "[4209 rows x 2 columns]"
      ]
     },
     "execution_count": 71,
     "metadata": {},
     "output_type": "execute_result"
    }
   ],
   "source": [
    "testing_stack"
   ]
  },
  {
   "cell_type": "code",
   "execution_count": null,
   "metadata": {
    "collapsed": true
   },
   "outputs": [],
   "source": []
  }
 ],
 "metadata": {
  "kernelspec": {
   "display_name": "Python 3",
   "language": "python",
   "name": "python3"
  },
  "language_info": {
   "codemirror_mode": {
    "name": "ipython",
    "version": 3
   },
   "file_extension": ".py",
   "mimetype": "text/x-python",
   "name": "python",
   "nbconvert_exporter": "python",
   "pygments_lexer": "ipython3",
   "version": "3.5.2"
  }
 },
 "nbformat": 4,
 "nbformat_minor": 2
}
