﻿{
 "metadata": {
  "kernelspec": {
   "display_name": "Python 3",
   "language": "python",
   "name": "python3"
  },
  "language_info": {
   "codemirror_mode": {
    "name": "ipython",
    "version": 3
   },
   "file_extension": ".py",
   "mimetype": "text/x-python",
   "name": "python",
   "nbconvert_exporter": "python",
   "pygments_lexer": "ipython3",
   "version": "3.5.2"
  }
 },
 "nbformat": 4,
 "nbformat_minor": 0,
 "cells": [
  {
   "cell_type": "markdown",
   "source": "# Regression: Predict Allstate Claims Severity",
   "metadata": {}
  },
  {
   "cell_type": "markdown",
   "source": "## Fire up packages",
   "metadata": {}
  },
  {
   "cell_type": "code",
   "source": "import sklearn\nimport matplotlib.pyplot as plt\n%matplotlib inline\nimport pandas\nfrom sklearn.cross_validation import train_test_split\nimport numpy\nimport xgboost as xgb",
   "execution_count": 15,
   "outputs": [],
   "metadata": {}
  },
  {
   "cell_type": "markdown",
   "source": "## Load Training Data",
   "metadata": {}
  },
  {
   "cell_type": "code",
   "source": "train=pandas.read_csv(\"../input/train.csv\")\ntrain.head()",
   "execution_count": 2,
   "outputs": [
    {
     "data": {
      "text/html": "<div>\n<table border=\"1\" class=\"dataframe\">\n  <thead>\n    <tr style=\"text-align: right;\">\n      <th></th>\n      <th>id</th>\n      <th>cat1</th>\n      <th>cat2</th>\n      <th>cat3</th>\n      <th>cat4</th>\n      <th>cat5</th>\n      <th>cat6</th>\n      <th>cat7</th>\n      <th>cat8</th>\n      <th>cat9</th>\n      <th>...</th>\n      <th>cont6</th>\n      <th>cont7</th>\n      <th>cont8</th>\n      <th>cont9</th>\n      <th>cont10</th>\n      <th>cont11</th>\n      <th>cont12</th>\n      <th>cont13</th>\n      <th>cont14</th>\n      <th>loss</th>\n    </tr>\n  </thead>\n  <tbody>\n    <tr>\n      <th>0</th>\n      <td>1</td>\n      <td>A</td>\n      <td>B</td>\n      <td>A</td>\n      <td>B</td>\n      <td>A</td>\n      <td>A</td>\n      <td>A</td>\n      <td>A</td>\n      <td>B</td>\n      <td>...</td>\n      <td>0.718367</td>\n      <td>0.335060</td>\n      <td>0.30260</td>\n      <td>0.67135</td>\n      <td>0.83510</td>\n      <td>0.569745</td>\n      <td>0.594646</td>\n      <td>0.822493</td>\n      <td>0.714843</td>\n      <td>2213.18</td>\n    </tr>\n    <tr>\n      <th>1</th>\n      <td>2</td>\n      <td>A</td>\n      <td>B</td>\n      <td>A</td>\n      <td>A</td>\n      <td>A</td>\n      <td>A</td>\n      <td>A</td>\n      <td>A</td>\n      <td>B</td>\n      <td>...</td>\n      <td>0.438917</td>\n      <td>0.436585</td>\n      <td>0.60087</td>\n      <td>0.35127</td>\n      <td>0.43919</td>\n      <td>0.338312</td>\n      <td>0.366307</td>\n      <td>0.611431</td>\n      <td>0.304496</td>\n      <td>1283.60</td>\n    </tr>\n    <tr>\n      <th>2</th>\n      <td>5</td>\n      <td>A</td>\n      <td>B</td>\n      <td>A</td>\n      <td>A</td>\n      <td>B</td>\n      <td>A</td>\n      <td>A</td>\n      <td>A</td>\n      <td>B</td>\n      <td>...</td>\n      <td>0.289648</td>\n      <td>0.315545</td>\n      <td>0.27320</td>\n      <td>0.26076</td>\n      <td>0.32446</td>\n      <td>0.381398</td>\n      <td>0.373424</td>\n      <td>0.195709</td>\n      <td>0.774425</td>\n      <td>3005.09</td>\n    </tr>\n    <tr>\n      <th>3</th>\n      <td>10</td>\n      <td>B</td>\n      <td>B</td>\n      <td>A</td>\n      <td>B</td>\n      <td>A</td>\n      <td>A</td>\n      <td>A</td>\n      <td>A</td>\n      <td>B</td>\n      <td>...</td>\n      <td>0.440945</td>\n      <td>0.391128</td>\n      <td>0.31796</td>\n      <td>0.32128</td>\n      <td>0.44467</td>\n      <td>0.327915</td>\n      <td>0.321570</td>\n      <td>0.605077</td>\n      <td>0.602642</td>\n      <td>939.85</td>\n    </tr>\n    <tr>\n      <th>4</th>\n      <td>11</td>\n      <td>A</td>\n      <td>B</td>\n      <td>A</td>\n      <td>B</td>\n      <td>A</td>\n      <td>A</td>\n      <td>A</td>\n      <td>A</td>\n      <td>B</td>\n      <td>...</td>\n      <td>0.178193</td>\n      <td>0.247408</td>\n      <td>0.24564</td>\n      <td>0.22089</td>\n      <td>0.21230</td>\n      <td>0.204687</td>\n      <td>0.202213</td>\n      <td>0.246011</td>\n      <td>0.432606</td>\n      <td>2763.85</td>\n    </tr>\n  </tbody>\n</table>\n<p>5 rows × 132 columns</p>\n</div>",
      "text/plain": "   id cat1 cat2 cat3 cat4 cat5 cat6 cat7 cat8 cat9   ...        cont6  \\\n0   1    A    B    A    B    A    A    A    A    B   ...     0.718367   \n1   2    A    B    A    A    A    A    A    A    B   ...     0.438917   \n2   5    A    B    A    A    B    A    A    A    B   ...     0.289648   \n3  10    B    B    A    B    A    A    A    A    B   ...     0.440945   \n4  11    A    B    A    B    A    A    A    A    B   ...     0.178193   \n\n      cont7    cont8    cont9   cont10    cont11    cont12    cont13  \\\n0  0.335060  0.30260  0.67135  0.83510  0.569745  0.594646  0.822493   \n1  0.436585  0.60087  0.35127  0.43919  0.338312  0.366307  0.611431   \n2  0.315545  0.27320  0.26076  0.32446  0.381398  0.373424  0.195709   \n3  0.391128  0.31796  0.32128  0.44467  0.327915  0.321570  0.605077   \n4  0.247408  0.24564  0.22089  0.21230  0.204687  0.202213  0.246011   \n\n     cont14     loss  \n0  0.714843  2213.18  \n1  0.304496  1283.60  \n2  0.774425  3005.09  \n3  0.602642   939.85  \n4  0.432606  2763.85  \n\n[5 rows x 132 columns]"
     },
     "execution_count": 2,
     "metadata": {},
     "output_type": "execute_result"
    }
   ],
   "metadata": {}
  },
  {
   "cell_type": "code",
   "source": "del train['id']",
   "execution_count": 3,
   "outputs": [],
   "metadata": {}
  },
  {
   "cell_type": "markdown",
   "source": "## Briefly explore the response variable",
   "metadata": {}
  },
  {
   "cell_type": "markdown",
   "source": "**As we have a high dimensional dataset, feature engineering will be quite time consuming if I check the co-variate one by one. Therefore, I first focus on exploring the response variable. PCA might also be a good choice to reduce dimension if necessary.**",
   "metadata": {}
  },
  {
   "cell_type": "code",
   "source": "training,testing = train_test_split(train,test_size=0.2,random_state=42)\nprint(training.shape)\nprint(testing.shape)",
   "execution_count": 4,
   "outputs": [
    {
     "name": "stdout",
     "output_type": "stream",
     "text": "(150654, 131)\n(37664, 131)\n"
    }
   ],
   "metadata": {}
  },
  {
   "cell_type": "code",
   "source": "Response= training['loss']",
   "execution_count": 5,
   "outputs": [],
   "metadata": {}
  },
  {
   "cell_type": "markdown",
   "source": "### 1. See the mean, sd and median of response variable",
   "metadata": {}
  },
  {
   "cell_type": "code",
   "source": "print ('Mean of Response Variable'+' '+'is'+' '+ str(numpy.mean(Response)))\nprint ('Median of Response Variable'+' '+'is'+' '+ str(numpy.median(Response)))\nprint ('Standard Deviation of Response Variable'+' '+'is'+' '+ str(numpy.std(Response)))",
   "execution_count": 6,
   "outputs": [
    {
     "name": "stdout",
     "output_type": "stream",
     "text": "Mean of Response Variable is 3039.631596041271\nMedian of Response Variable is 2115.895\nStandard Deviation of Response Variable is 2915.8471150915266\n"
    }
   ],
   "metadata": {}
  },
  {
   "cell_type": "markdown",
   "source": "### 2:Check whether the response variable is normally distributed",
   "metadata": {}
  },
  {
   "cell_type": "code",
   "source": "import statsmodels.api as sm\nfig=sm.qqplot(Response)",
   "execution_count": 7,
   "outputs": [
    {
     "data": {
      "image/png": "[encoded data removed]",
      "text/plain": "<matplotlib.figure.Figure at 0x7f13306536d8>"
     },
     "metadata": {},
     "output_type": "display_data"
    }
   ],
   "metadata": {}
  },
  {
   "cell_type": "markdown",
   "source": "**We can see that the normality of response variable is quite bad. The response variable seems to be exponentially distributed. Therefore, we transform it into the logarithm form and re-plot the qq-plot.**",
   "metadata": {}
  },
  {
   "cell_type": "code",
   "source": "training=training.reset_index(drop=True)\ntesting = testing.reset_index(drop=True)\ntraining['logloss']=numpy.log(training['loss'])\nfig2=sm.qqplot(training['logloss'])",
   "execution_count": 8,
   "outputs": [
    {
     "data": {
      "image/png": "[encoded data removed]",
      "text/plain": "<matplotlib.figure.Figure at 0x7f132f2829e8>"
     },
     "metadata": {},
     "output_type": "display_data"
    }
   ],
   "metadata": {}
  },
  {
   "cell_type": "markdown",
   "source": "**The noramlity of the logthrim response variable is not bad. So we set it as the new lable.**",
   "metadata": {}
  },
  {
   "cell_type": "markdown",
   "source": "## Convert categorical variables and process real test data",
   "metadata": {}
  },
  {
   "cell_type": "code",
   "source": "features = training.columns\ncat_feature=list(features[0:116])\ntest=pandas.read_csv(\"../input/test.csv\")\nfor each in cat_feature:\n    training[each]=pandas.factorize(training[each], sort=True)[0]\n    testing[each]=pandas.factorize(testing[each],sort=True)[0]\n    test[each]=pandas.factorize(test[each],sort=True)[0]",
   "execution_count": 9,
   "outputs": [],
   "metadata": {}
  },
  {
   "cell_type": "markdown",
   "source": "## Preliminary model selection: try five different regressors at first",
   "metadata": {}
  },
  {
   "cell_type": "code",
   "source": "from sklearn.metrics import mean_absolute_error as mae\nfrom sklearn.linear_model import LinearRegression\nfrom sklearn.ensemble import RandomForestRegressor\nfrom sklearn.linear_model import Lasso\nfrom sklearn.tree import DecisionTreeRegressor\nfrom sklearn.ensemble import GradientBoostingRegressor\nPredictors= training.ix[:,0:130]\nPredictors_test= testing.ix[:,0:130]",
   "execution_count": 10,
   "outputs": [],
   "metadata": {}
  },
  {
   "cell_type": "code",
   "source": "Regressors = [LinearRegression(),Lasso(),DecisionTreeRegressor()\n              #,RandomForestRegressor(n_estimator=200),\n              #GradientBoostingRegressor(learning_rate=0.3,criterion='mae')\n             ]\nMAE=[]\nModel_Name=[]\nfor reg in Regressors:\n    Model=reg.fit(Predictors,training['logloss'])\n    Prediction= numpy.exp(Model.predict(Predictors_test))\n    eva = mae(testing['loss'],Prediction)\n    MAE.append(eva)\n    Name=reg.__class__.__name__\n    Model_Name.append(Name)\n    print('Accuracy of'+ ' '+Name+' '+'is'+' '+str(eva))",
   "execution_count": 11,
   "outputs": [
    {
     "name": "stdout",
     "output_type": "stream",
     "text": "Accuracy of LinearRegression is 1283.91190791\nAccuracy of Lasso is 1775.44117566\nAccuracy of DecisionTreeRegressor is 1733.98228223\n"
    }
   ],
   "metadata": {}
  },
  {
   "cell_type": "markdown",
   "source": "**I also tried Random Forest Regressor locally. With the number of estimators set to 200, it produced a prediction with MAE of 1212.42750158. However, the running time is incredibly long and boring. For Gradient Boosting Regressor, the accuracy is 1183.90923254, with the learning rate setting to 0.3.**",
   "metadata": {}
  },
  {
   "cell_type": "code",
   "source": "MAE.append(1212.42750158)\nMAE.append(1183.90923254)\nModel_Name.append('RandomForestRegressor')\nModel_Name.append('GradientBoostingRegressor')",
   "execution_count": 12,
   "outputs": [],
   "metadata": {}
  },
  {
   "cell_type": "code",
   "source": "Index = [1,2,3,4,5]\nplt.bar(Index,MAE)\nplt.xticks(Index, Model_Name,rotation=45)\nplt.ylabel('MAE')\nplt.xlabel('Model')\nplt.title('MAE of Models')",
   "execution_count": 13,
   "outputs": [
    {
     "data": {
      "text/plain": "<matplotlib.text.Text at 0x7f131fe04390>"
     },
     "execution_count": 13,
     "metadata": {},
     "output_type": "execute_result"
    },
    {
     "data": {
      "image/png": "[encoded data removed]",
      "text/plain": "<matplotlib.figure.Figure at 0x7f131fddfa58>"
     },
     "metadata": {},
     "output_type": "display_data"
    }
   ],
   "metadata": {}
  },
  {
   "cell_type": "markdown",
   "source": "**We can see that rf and gb models are better than the other three models. In the next step, I will try to implement Extreme Gradient Boosting model and compare the performance between it and Gradient Boosting model.**",
   "metadata": {}
  },
  {
   "cell_type": "markdown",
   "source": "## Try Extreme Boosting Model",
   "metadata": {}
  },
  {
   "cell_type": "markdown",
   "source": "**We first, have to transform the dataset into the ideal form in order to make XGboost running**",
   "execution_count": null,
   "outputs": [],
   "metadata": {}
  },
  {
   "cell_type": "code",
   "source": "training_array = numpy.array(Predictors)\ntesting_array = numpy.array(Predictors_test)",
   "execution_count": 16,
   "outputs": [],
   "metadata": {}
  },
  {
   "cell_type": "markdown",
   "source": "**Then I tune the parameters of model. My role of thumb is : finding the balance point between number of rounds and the learning rate.**",
   "execution_count": null,
   "outputs": [],
   "metadata": {}
  },
  {
   "cell_type": "code",
   "source": "dtrain = xgb.DMatrix(training_array, label=training['logloss'])\ndtest = xgb.DMatrix(testing_array)\nxgb_params = {\n    'seed':0,\n    'colsample_bytree': 0.7,\n    'subsample': 0.7,\n    'learning_rate': 0.075,\n    'objective': 'reg:linear',\n    'max_depth': 6,\n    'min_child_weight': 1,\n    'eval_metric': 'mae',\n}\nxgb_model=xgb.train(xgb_params, dtrain,750,verbose_eval=50)\nxgb_pred=numpy.exp(xgb_model.predict(dtest))\nprint('Accuracy of XGboost model is'+' '+str(mae(testing['loss'],xgb_pred)))",
   "execution_count": 49,
   "outputs": [
    {
     "name": "stdout",
     "output_type": "stream",
     "text": "Accuracy of XGboost model is 1146.6803273\n"
    }
   ],
   "metadata": {}
  },
  {
   "cell_type": "markdown",
   "source": "**The XGboost model performs way better than the Gradient boosting model and random forest, in terms of both accuracy and running time.**",
   "execution_count": null,
   "outputs": [],
   "metadata": {}
  },
  {
   "cell_type": "markdown",
   "source": "## Retrain the model and generate the output file",
   "execution_count": null,
   "outputs": [],
   "metadata": {}
  },
  {
   "cell_type": "code",
   "source": "features=Predictors.columns\ntrain['logloss']=numpy.log(train['loss'])\nfor each in cat_feature:\n    train[each]=pandas.factorize(train[each], sort=True)[0]\ndel test['id']",
   "execution_count": 50,
   "outputs": [],
   "metadata": {}
  },
  {
   "cell_type": "code",
   "source": "train_array=numpy.array(train[features])\ntrain_d=xgb.DMatrix(train_array,label=train['logloss'])\ntest_array=numpy.array(test)\ntest_d=xgb.DMatrix(test_array)",
   "execution_count": 58,
   "outputs": [],
   "metadata": {}
  },
  {
   "cell_type": "code",
   "source": "Final_model=xgb.train(xgb_params, train_d,750,verbose_eval=50)\nPrediction_Final=numpy.exp(Final_model.predict(test_d))",
   "execution_count": 59,
   "outputs": [],
   "metadata": {}
  },
  {
   "cell_type": "code",
   "source": "submission = pandas.read_csv('../input/sample_submission.csv')\nsubmission.iloc[:, 1] = Prediction_Final\nsubmission.to_csv('sub_xgb.csv', index=None)",
   "execution_count": 63,
   "outputs": [],
   "metadata": {}
  },
  {
   "cell_type": "markdown",
   "source": "## Question from a Newbie",
   "execution_count": null,
   "outputs": [],
   "metadata": {}
  },
  {
   "cell_type": "markdown",
   "source": "**I am still a newbie of Machine learning, so I always have questions. If someone can offer help, I will be really grateful.**\n\n**Question is: How can we decide the initial parameter of a model and tune it with a specific rule? The decision is made based on what? Experience? Volume of dataset ?  Can some cool Kaggler give me a rule of thumb on parameter initializing and tuning?**\n\n# Thanks in advance!",
   "execution_count": null,
   "outputs": [],
   "metadata": {}
  },
  {
   "cell_type": "code",
   "source": null,
   "execution_count": null,
   "outputs": [],
   "metadata": {}
  }
 ]
}