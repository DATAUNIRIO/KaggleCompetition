﻿{
 "metadata": {
  "kernelspec": {
   "display_name": "Python 3",
   "language": "python",
   "name": "python3"
  },
  "language_info": {
   "codemirror_mode": {
    "name": "ipython",
    "version": 3
   },
   "file_extension": ".py",
   "mimetype": "text/x-python",
   "name": "python",
   "nbconvert_exporter": "python",
   "pygments_lexer": "ipython3",
   "version": "3.5.2"
  }
 },
 "nbformat": 4,
 "nbformat_minor": 0,
 "cells": [
  {
   "cell_type": "markdown",
   "source": "# Exploring the first presidential debate by data mining",
   "metadata": {}
  },
  {
   "cell_type": "markdown",
   "source": "## Fire up everything",
   "metadata": {}
  },
  {
   "cell_type": "code",
   "source": "import matplotlib.pyplot as plt\n%matplotlib inline\nimport pandas\nimport numpy\nfrom subprocess import check_output\nprint(check_output([\"ls\", \"../input\"]).decode(\"utf8\"))",
   "execution_count": 1,
   "outputs": [],
   "metadata": {}
  },
  {
   "cell_type": "code",
   "source": "debate = pandas.read_csv('../input/debate.csv',encoding = 'iso-8859-1')\ndebate.head(10)",
   "execution_count": 1,
   "outputs": [],
   "metadata": {}
  },
  {
   "cell_type": "markdown",
   "source": "**The data set is not in the form we want, so the first step of the analysis will be data frame transformation. In this project, I just focus on the presidential debate between Trump and Clinton.**",
   "metadata": {}
  },
  {
   "cell_type": "markdown",
   "source": "## Dataframe Transformation",
   "metadata": {}
  },
  {
   "cell_type": "markdown",
   "source": "**A. See when does the host interrupt, or try to interrupt the debate of a certain candidate**",
   "metadata": {}
  },
  {
   "cell_type": "code",
   "source": "Debate=debate[debate['Date']=='2016-09-26']",
   "execution_count": 1,
   "outputs": [],
   "metadata": {}
  },
  {
   "cell_type": "markdown",
   "source": "**We can see that the host always tends to warm up the whole debate and greet audience/candidate. We first delete those data without useful information.**",
   "metadata": {}
  },
  {
   "cell_type": "code",
   "source": "print(Debate['Speaker'].unique())\nprint(Debate[Debate['Speaker']=='Audience']['Text'].unique())\nprint(len(Debate[Debate['Speaker']=='Clinton']))\nprint(len(Debate[Debate['Speaker']=='Trump']))\nprint(len(Debate[Debate['Speaker']=='Holt']))\nprint(len(Debate[Debate['Speaker']=='Audience']))",
   "execution_count": 1,
   "outputs": [],
   "metadata": {}
  },
  {
   "cell_type": "markdown",
   "source": "**Checking the script quickly, we can delete the heading and ending of the data set directly since it mainly focuses on the greeting by the moderator.**",
   "metadata": {}
  },
  {
   "cell_type": "code",
   "source": "Debate=Debate.iloc[7:350,:].reset_index(drop=True)",
   "execution_count": 1,
   "outputs": [],
   "metadata": {}
  },
  {
   "cell_type": "markdown",
   "source": "**As the debate is something mainly between two candidates, we can assume that when the moderator get involved in, the specific candidate is getting interrupted.**",
   "metadata": {}
  },
  {
   "cell_type": "code",
   "source": "Interrupt_clinton=[]\nInterrupt_trump=[]\nfor i in range(len(Debate)-1):\n    if Debate['Speaker'][i]=='Clinton' and Debate['Speaker'][i+1]=='Holt':\n        Interrupt_clinton.append(i)\n    elif Debate['Speaker'][i]=='Trump' and Debate['Speaker'][i+1]=='Holt':\n        Interrupt_trump.append(i)",
   "execution_count": 1,
   "outputs": [],
   "metadata": {}
  },
  {
   "cell_type": "markdown",
   "source": "**B. See when the audience laugh/applaud**",
   "metadata": {}
  },
  {
   "cell_type": "code",
   "source": "Laugh_clinton=[]\nApplaud_clinton=[]\nLaugh_Trump=[]\nApplaud_Trump=[]\nfor i in range(len(Debate)-1):\n    if Debate['Speaker'][i]=='Clinton' and Debate['Text'][i+1]=='(APPLAUSE)':\n        Applaud_clinton.append(i)\n    elif Debate['Speaker'][i]=='Trump' and Debate['Text'][i+1]=='(APPLAUSE)':\n        Applaud_Trump.append(i)\n    elif Debate['Speaker'][i]=='Clinton' and Debate['Text'][i+1]=='(LAUGHTER)':\n        Laugh_clinton.append(i)\n    elif Debate['Speaker'][i]=='Trump' and Debate['Text'][i+1]=='(LAUGHTER)':\n        Laugh_Trump.append(i)",
   "execution_count": 1,
   "outputs": [],
   "metadata": {}
  },
  {
   "cell_type": "markdown",
   "source": "**C: Let's create a new data frame**",
   "metadata": {}
  },
  {
   "cell_type": "code",
   "source": "Laugh=[]\nInterupted=[]\nApplause=[]\nInteruptted_text=[]\nfor i in range(len(Debate)):\n    if i in Laugh_clinton or i in Laugh_Trump:\n        Laugh.append(1)\n    else:\n        Laugh.append(0)\n    if i in Applaud_clinton or i in Applaud_Trump:\n        Applause.append(1)\n    else:\n        Applause.append(0)\n    if i in Interrupt_clinton or i in Interrupt_trump:\n        Interupted.append(1)\n        Interuptted_text.append(Debate['Text'][i+1])\n    else:\n        Interupted.append(0)\n        Interuptted_text.append('No Interruption')\n    ",
   "execution_count": 1,
   "outputs": [],
   "metadata": {}
  },
  {
   "cell_type": "code",
   "source": "Debate.insert(4,'Laugh',Laugh)\nDebate.insert(5,'Interupted',Interupted)\nDebate.insert(6,'Interupted Text',Interuptted_text)\nDebate.insert(7,'Applause',Applause)\ndel Debate['Line']\ndel Debate['Date']",
   "execution_count": 1,
   "outputs": [],
   "metadata": {}
  },
  {
   "cell_type": "code",
   "source": "Debate=Debate[Debate['Speaker']!='Holt']\nDebate=Debate[Debate['Speaker']!='Audience']\nDebate=Debate[Debate['Speaker']!='CANDIDATES']",
   "execution_count": 1,
   "outputs": [],
   "metadata": {}
  },
  {
   "cell_type": "markdown",
   "source": "**Finally, we got a data frame in **",
   "metadata": {}
  },
  {
   "cell_type": "code",
   "source": "Debate.head()",
   "execution_count": 1,
   "outputs": [],
   "metadata": {}
  },
  {
   "cell_type": "markdown",
   "source": "## Analyzing the presidential debate ",
   "metadata": {}
  },
  {
   "cell_type": "markdown",
   "source": "**Overall, what do the candidates said during the presidential debate?**",
   "metadata": {}
  },
  {
   "cell_type": "code",
   "source": "from wordcloud import WordCloud\nimport re\nimport nltk\nfrom nltk.corpus import stopwords",
   "execution_count": 1,
   "outputs": [],
   "metadata": {}
  },
  {
   "cell_type": "code",
   "source": "def to_words(content):\n    letters_only = re.sub(\"[^a-zA-Z]\", \" \", content) \n    words = letters_only.lower().split()                             \n    stops = set(stopwords.words(\"english\"))                  \n    meaningful_words = [w for w in words if not w in stops] \n    return( \" \".join( meaningful_words )) ",
   "execution_count": 1,
   "outputs": [],
   "metadata": {}
  },
  {
   "cell_type": "code",
   "source": "def wordcloud(candidate):\n    df=Debate[Debate['Speaker']==candidate]\n    clean_text=[]\n    for each in df['Text']:\n        clean_text.append(to_words(each))\n    if candidate=='Trump':\n        color='black'\n    else:\n        color='white'\n    wordcloud = WordCloud(background_color=color,\n                      width=3000,\n                      height=2500\n                     ).generate(clean_text[0])\n    print('==='*30)\n    print('word cloud of '+candidate+' is plotted below')\n    plt.figure(1,figsize=(8,8))\n    plt.imshow(wordcloud)\n    plt.axis('off')\n    plt.show()",
   "execution_count": 1,
   "outputs": [],
   "metadata": {}
  },
  {
   "cell_type": "code",
   "source": "wordcloud('Trump')\nwordcloud('Clinton')",
   "execution_count": 1,
   "outputs": [],
   "metadata": {}
  },
  {
   "cell_type": "markdown",
   "source": "**Hope the word cloud can provide you with an outline of the political standpoint of the candidates.**\n\n**With different viewpoint, the audience and mediator are gonna make different reactions. Next, we will check how many times the candidate is interrupted/applauded/causing laugh during the debate.**",
   "metadata": {}
  },
  {
   "cell_type": "code",
   "source": "ind = numpy.arange(3)\ntrump=(len(Laugh_Trump),len(Applaud_Trump),len(Interrupt_trump))\nclinton=(len(Laugh_clinton),len(Applaud_clinton),len(Interrupt_clinton))\nfig, ax = plt.subplots()\nwidth=0.35\nrects1 = ax.bar(ind, trump,width, color='r')\nrects2 = ax.bar(ind+width , clinton, width,color='y')\nax.set_ylabel('Counts')\nax.set_title('Counts of behavior of mediator and audience')\nax.set_xticks(ind)\nax.set_xticklabels(('Making laugh','Making applaud','Be interrupted'),rotation=45)\nax.legend((rects1[0], rects2[0]), ('Trump', 'Clinton'))\nplt.show()",
   "execution_count": 1,
   "outputs": [],
   "metadata": {}
  },
  {
   "cell_type": "markdown",
   "source": "**We can see that Trump was more frequently interrupted/questioned by the host than Clinton. The reason behind this may be the fact that Trump was a little bit more radical than Clinton**",
   "metadata": {}
  },
  {
   "cell_type": "markdown",
   "source": "**So, people are maybe curious: how many words did the candidate said before being interrupted/questioned by the mediator?  And what did the candidate say when he was questioning/interrupting the candidate?** ",
   "metadata": {}
  },
  {
   "cell_type": "code",
   "source": "def interruption_analytic(candidate):\n    if candidate=='Trump':\n        color1='black'\n        color2='r'\n    else:\n        color1='white'\n        color2='y'\n    df=Debate[Debate['Speaker']==candidate]\n    df=df[df['Interupted']==1]\n    length=[]\n    text=[]\n    for each in df['Text']:\n        text.append(to_words(each))\n        length.append(len(to_words(each).split()))\n    print(\"=\"*40+'Analytic of '+candidate+'='*40)\n    plt.hist(length,facecolor=color2)\n    plt.title(\"Histogram of the count of words when being interrupted/questioned.\")\n    plt.xlabel(\"Value\")\n    plt.ylabel(\"Frequency\")\n    plt.figure(1,figsize=(8,8))\n    wordcloud = WordCloud(background_color=color1,\n                      width=3000,\n                      height=2500\n                     ).generate(text[0])\n    plt.figure(2,figsize=(8,8))\n    plt.imshow(wordcloud)\n    plt.axis('off')\n    plt.show()\n    ",
   "execution_count": 1,
   "outputs": [],
   "metadata": {}
  },
  {
   "cell_type": "code",
   "source": "interruption_analytic('Trump')",
   "execution_count": 1,
   "outputs": [],
   "metadata": {}
  },
  {
   "cell_type": "code",
   "source": "interruption_analytic('Clinton')",
   "execution_count": 1,
   "outputs": [],
   "metadata": {}
  },
  {
   "cell_type": "markdown",
   "source": "**Let us take a look at few conversations between mediators and candidates.**",
   "metadata": {}
  },
  {
   "cell_type": "code",
   "source": "trump_interupt=Debate[Debate['Speaker']=='Trump']\ntrump_interupt=trump_interupt[trump_interupt['Interupted']==1].reset_index(drop=True)\nclinton_interupt=Debate[Debate['Speaker']=='Clinton']\nclinton_interupt=clinton_interupt[clinton_interupt['Interupted']==1].reset_index(drop=True)",
   "execution_count": 1,
   "outputs": [],
   "metadata": {}
  },
  {
   "cell_type": "code",
   "source": "print('='*30+'Trump part'+'='*30)\nprint('Trump '+'\\n'+trump_interupt['Text'][11])\nprint('Holt'+'\\n'+trump_interupt['Interupted Text'][11])\nprint('Trump '+'\\n'+trump_interupt['Text'][23])\nprint('Holt'+'\\n'+trump_interupt['Interupted Text'][23])\nprint('Trump '+'\\n'+trump_interupt['Text'][38])\nprint('Holt'+'\\n'+trump_interupt['Interupted Text'][38])\nprint('Trump '+'\\n'+trump_interupt['Text'][44])\nprint('Holt'+'\\n'+trump_interupt['Interupted Text'][44])\nprint('='*30+'Clinton part'+'='*30)\nprint('Clinton '+'\\n'+clinton_interupt['Text'][12])\nprint('Holt'+'\\n'+clinton_interupt['Interupted Text'][12])\nprint('Clinton '+'\\n'+clinton_interupt['Text'][17])\nprint('Holt'+'\\n'+clinton_interupt['Interupted Text'][17])",
   "execution_count": 1,
   "outputs": [],
   "metadata": {}
  },
  {
   "cell_type": "markdown",
   "source": "**We can find that Trump was consistently interrupted/questioned, even when he just said a few words. In contrary, Clinton has relatively uninterrupted speech, if you just take a look into the word count histogram of the speech before being interrupted.  Given few examples of the debates, we can find that Trump is a little bit 'in-experienced' in comparison with Clinton.**",
   "metadata": {}
  },
  {
   "cell_type": "markdown",
   "source": "##Conclusion",
   "metadata": {}
  },
  {
   "cell_type": "markdown",
   "source": "**The volume of data set is small so I do not implement any machine learning technique in my analysis. In contrary, I choose to look at the data itself and find several funny stuff.**\n\n**1. Trump is always interrupted, or the mediator is not patient enough to listen to him. Will this be a trend of his popularity?** \n\n**2. Clinton and Trump, their political standpoints are truly different and featured. WHO WILL WIN? NOBODY KNOWS.**",
   "metadata": {}
  }
 ]
}