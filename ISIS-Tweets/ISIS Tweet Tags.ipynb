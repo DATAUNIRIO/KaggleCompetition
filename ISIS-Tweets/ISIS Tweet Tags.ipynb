﻿{
 "metadata": {
  "kernelspec": {
   "display_name": "Python 3",
   "language": "python",
   "name": "python3"
  },
  "language_info": {
   "codemirror_mode": {
    "name": "ipython",
    "version": 3
   },
   "file_extension": ".py",
   "mimetype": "text/x-python",
   "name": "python",
   "nbconvert_exporter": "python",
   "pygments_lexer": "ipython3",
   "version": "3.5.2"
  }
 },
 "nbformat": 4,
 "nbformat_minor": 0,
 "cells": [
  {
   "cell_type": "markdown",
   "source": "# Social Network Analysis for ISIS",
   "metadata": {}
  },
  {
   "cell_type": "markdown",
   "source": "New to Network Analysis, but very happy to learn",
   "metadata": {}
  },
  {
   "cell_type": "markdown",
   "source": "## Before we get started",
   "metadata": {}
  },
  {
   "cell_type": "code",
   "source": "import sklearn\nimport pandas as pd\nimport numpy as np\nimport copy\nimport matplotlib.pyplot as plt\n%matplotlib inline\nimport re",
   "execution_count": 1,
   "outputs": [],
   "metadata": {}
  },
  {
   "cell_type": "code",
   "source": "df = pd.read_csv('../input/tweets.csv')",
   "execution_count": 2,
   "outputs": [],
   "metadata": {}
  },
  {
   "cell_type": "code",
   "source": "print(df.shape)",
   "execution_count": 3,
   "outputs": [],
   "metadata": {}
  },
  {
   "cell_type": "code",
   "source": "index = []\nfor i in range(len(df['tweets'])):\n    if '@' in df['tweets'][i]:\n        index.append(i)\n        \nWith_mention = df.iloc[index,:].reset_index(drop=True)\nWith_mention['Tagged_User'] = With_mention['tweets'].apply(lambda x: re.findall(r'@([A-Za-z0-9_]+)',str(x)))\nUser = With_mention['username'].unique()\nWith_mention['Tagged_User_Co'] = With_mention['Tagged_User'].apply(lambda x: list(set(x).intersection(User)) )\nWith_mention['Co_length'] = With_mention['Tagged_User_Co'].apply(lambda x: len(x))\nWith_mention_2 = With_mention[With_mention['Co_length']>0].reset_index(drop=True)",
   "execution_count": 4,
   "outputs": [],
   "metadata": {}
  },
  {
   "cell_type": "markdown",
   "source": "## Isis Mentions Network",
   "metadata": {}
  },
  {
   "cell_type": "markdown",
   "source": "We first create a data frame which contains the information of individual tagging activities in each row.",
   "metadata": {}
  },
  {
   "cell_type": "code",
   "source": "for i in range(len(With_mention['tweets'])):\n    frame = With_mention.iloc[i,:]\n    for j in range(len(frame['Tagged_User'])):\n        tmp = pd.DataFrame({'User':[frame['username']],'Mentions':[frame['Tagged_User'][j]],'Time': [frame['time']],'User_numberstatuses':[frame['numberstatuses']],'User_followers':[frame['followers']],'Weight': [1]})\n        if i==0 and j==0:\n            Mention_net = tmp\n        else:\n            Mention_net = Mention_net.append(tmp, ignore_index=True)\n    ",
   "execution_count": 5,
   "outputs": [],
   "metadata": {}
  },
  {
   "cell_type": "markdown",
   "source": "Then, in order to be more prepared for some extra analysis, a similar data frame will be created that only contains the interactivity between users in the data frame.",
   "metadata": {}
  },
  {
   "cell_type": "code",
   "source": "for i in range(len(With_mention_2['tweets'])):\n    frame = With_mention_2.iloc[i,:]\n    for j in range(len(frame['Tagged_User_Co'])):\n        Mentioned_follower = list(df[df['username']==frame['Tagged_User_Co'][j]]['followers'])[0]\n        Mehtioned_statuses = list(df[df['username']==frame['Tagged_User_Co'][j]]['numberstatuses'])[0] \n        tmp = pd.DataFrame({'Mentioned_statuses':[Mehtioned_statuses],'Mentioned_followers':[Mentioned_follower],'User':[frame['username']],'Mentions':[frame['Tagged_User_Co'][j]],'Time': [frame['time']],'User_numberstatuses':[frame['numberstatuses']],'User_followers':[frame['followers']],'Weight': [1]})\n        if i==0 and j==0:\n            Mention_net_2 = tmp\n        else:\n            Mention_net_2 = Mention_net_2.append(tmp, ignore_index=True)\n    ",
   "execution_count": 6,
   "outputs": [],
   "metadata": {}
  },
  {
   "cell_type": "code",
   "source": "Mention_net = Mention_net[Mention_net['User']!=Mention_net['Mentions']]\nMention_net_2 = Mention_net_2[Mention_net_2['User']!=Mention_net_2['Mentions']]",
   "execution_count": 7,
   "outputs": [],
   "metadata": {}
  },
  {
   "cell_type": "code",
   "source": "Mention_net = Mention_net.reset_index(drop=True)\nMention_net_2 = Mention_net_2.reset_index(drop=True)",
   "execution_count": 8,
   "outputs": [],
   "metadata": {}
  },
  {
   "cell_type": "markdown",
   "source": "**A glimpse to the new data frame**",
   "metadata": {}
  },
  {
   "cell_type": "code",
   "source": "Mention_net.head(5)",
   "execution_count": 9,
   "outputs": [],
   "metadata": {}
  },
  {
   "cell_type": "markdown",
   "source": "## In and out degree of network",
   "metadata": {}
  },
  {
   "cell_type": "markdown",
   "source": "It is insightful to see how many times a user mentions others and how many times a user is mentioned by the others. For targeting the potential terrorist, in and out degree on social media may be a helpful indicators.",
   "metadata": {}
  },
  {
   "cell_type": "code",
   "source": "In_degree = Mention_net.groupby(by=['Mentions'],as_index=False)['Weight'].sum()\nOut_degree= Mention_net.groupby(by=['User'],as_index=False)['Weight'].sum()",
   "execution_count": 10,
   "outputs": [],
   "metadata": {}
  },
  {
   "cell_type": "code",
   "source": "In_degree = pd.DataFrame(In_degree).sort_values(by='Weight',ascending=False).reset_index(drop=True)\nOut_degree = pd.DataFrame(Out_degree).sort_values(by='Weight',ascending=False).reset_index(drop=True)",
   "execution_count": 11,
   "outputs": [],
   "metadata": {}
  },
  {
   "cell_type": "code",
   "source": "print( 'Most mentioned user is '+str(In_degree['Mentions'][0])+' with ' + str(In_degree['Weight'][0])+' times mentioned by the other users.')\nprint( 'Most active user is '+str(Out_degree['User'][0])+' with ' + str(Out_degree['Weight'][0])+' times mentioning other users.')",
   "execution_count": 12,
   "outputs": [],
   "metadata": {}
  },
  {
   "cell_type": "markdown",
   "source": "Similarly, in the second data frame where all users and tagged users are in the original data set, we can also see the names of most active and mentioned user.",
   "metadata": {}
  },
  {
   "cell_type": "code",
   "source": "In_degree_2 = Mention_net_2.groupby(by=['Mentions'],as_index=False)['Weight'].sum()\nOut_degree_2= Mention_net_2.groupby(by=['User'],as_index=False)['Weight'].sum()",
   "execution_count": 13,
   "outputs": [],
   "metadata": {}
  },
  {
   "cell_type": "code",
   "source": "In_degree_2 = pd.DataFrame(In_degree_2).sort_values(by='Weight',ascending=False).reset_index(drop=True)\nOut_degree_2 = pd.DataFrame(Out_degree_2).sort_values(by='Weight',ascending=False).reset_index(drop=True)",
   "execution_count": 14,
   "outputs": [],
   "metadata": {}
  },
  {
   "cell_type": "code",
   "source": "print( 'Most mentioned user is '+str(In_degree_2['Mentions'][0])+' with ' + str(In_degree['Weight'][0])+' times mentioned by the other users.')\nprint( 'Most active user is '+str(Out_degree_2['User'][0])+' with ' + str(Out_degree['Weight'][0])+' times mentioning other users.')",
   "execution_count": 15,
   "outputs": [],
   "metadata": {}
  },
  {
   "cell_type": "markdown",
   "source": "People should be careful with the one who is consistently active in ISIS social networks, **both actively and passively** involved should be paid with attention.",
   "metadata": {}
  },
  {
   "cell_type": "markdown",
   "source": "## Draw network graphs for the ISIS Twitter Network",
   "metadata": {}
  },
  {
   "cell_type": "markdown",
   "source": "**Network across the whole Tweet**",
   "metadata": {}
  },
  {
   "cell_type": "code",
   "source": "network1 = Mention_net.iloc[:,[0,2,5]]\nnetwork1 = network1.groupby(by=['Mentions','User'],as_index='False')['Weight'].sum().reset_index(name='Weight')\nnetwork1= pd.DataFrame(network1).sort_values(by='Weight',ascending=False).reset_index(drop=True)\nnetwork1 = network1[network1['Weight']>20]\nimport networkx as nx",
   "execution_count": 61,
   "outputs": [],
   "metadata": {}
  },
  {
   "cell_type": "code",
   "source": "print('The 10 most frequent tagged user pairs are ')\nnetwork1.iloc[0:9,:]",
   "execution_count": 62,
   "outputs": [],
   "metadata": {}
  },
  {
   "cell_type": "markdown",
   "source": "God! melvynlion always tag the other people on Tweet. Maybe he is a key to dig out the social network of ISIS pro!",
   "metadata": {}
  },
  {
   "cell_type": "code",
   "source": "G = nx.Graph()\nfor i in range(len(network1['User'])):\n    G.add_edge(network1['User'][i],network1['Mentions'][i],weight=network1['Weight'][i])",
   "execution_count": 63,
   "outputs": [],
   "metadata": {}
  },
  {
   "cell_type": "markdown",
   "source": "Let's  visualize the networks of part of the active users!",
   "metadata": {}
  },
  {
   "cell_type": "code",
   "source": "plt.figure(1)\nplt.figure(figsize=(14,14))\nd=d = nx.degree(G)\nnx.draw_circular(G,node_color='g', edge_color='#909090', node_size=[v*100 for v in d.values()],with_labels=True)\nplt.axis('equal')",
   "execution_count": 93,
   "outputs": [],
   "metadata": {}
  },
  {
   "cell_type": "code",
   "source": "d = nx.degree(G)",
   "execution_count": 90,
   "outputs": [],
   "metadata": {}
  },
  {
   "cell_type": "code",
   "source": "d",
   "execution_count": 91,
   "outputs": [],
   "metadata": {}
  },
  {
   "cell_type": "markdown",
   "source": "Some nodes have really intensive links from/to the other people, right?",
   "metadata": {}
  },
  {
   "cell_type": "markdown",
   "source": "**Network within the ISIS pro teams**",
   "metadata": {}
  },
  {
   "cell_type": "code",
   "source": "network2 = Mention_net_2.iloc[:,[2,4,7]]\nnetwork2 = network2.groupby(by=['Mentions','User'],as_index='False')['Weight'].sum().reset_index(name='Weight')\nnetwork2= pd.DataFrame(network2).sort_values(by='Weight',ascending=False).reset_index(drop=True)\nnetwork2 = network2[network2['Weight']>10]\nimport networkx as nx",
   "execution_count": 76,
   "outputs": [],
   "metadata": {}
  },
  {
   "cell_type": "code",
   "source": "print('The 10 most frequent tagged user pairs within the ISIS pro are ')\nnetwork2.iloc[0:9,:]",
   "execution_count": 77,
   "outputs": [],
   "metadata": {}
  },
  {
   "cell_type": "code",
   "source": "G = nx.Graph()\nfor i in range(len(network2['User'])):\n    G.add_edge(network2['User'][i],network2['Mentions'][i],weight=network2['Weight'][i])\nplt.figure(2)\nplt.figure(figsize=(14,14))\nd=d = nx.degree(G)\nnx.draw_circular(G,node_color='g', edge_color='#909090', node_size=[v*100 for v in d.values()],with_labels=True)\nplt.axis('equal')",
   "execution_count": 94,
   "outputs": [],
   "metadata": {}
  },
  {
   "cell_type": "markdown",
   "source": "The second network is somehow sparse in comparison with the first network graph.",
   "metadata": {}
  },
  {
   "cell_type": "markdown",
   "source": "## Conclusion",
   "metadata": {}
  },
  {
   "cell_type": "markdown",
   "source": "Counting the number of tagging/being tagged may be helpful to identify the supporters of ISIS. If you are interested, you can also perform text mining on the Tweets. For the further exploration, one can cluster the Tweet users by the content of their Tweets. The text mining techniques may be helpful.",
   "metadata": {}
  },
  {
   "cell_type": "code",
   "source": "",
   "execution_count": null,
   "outputs": [],
   "metadata": {}
  }
 ]
}