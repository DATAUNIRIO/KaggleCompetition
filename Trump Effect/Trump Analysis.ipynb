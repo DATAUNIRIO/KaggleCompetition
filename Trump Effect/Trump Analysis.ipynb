{
 "cells": [
  {
   "cell_type": "markdown",
   "metadata": {},
   "source": [
    "# Who will vote for Trump? Quick and Dirty Analysis"
   ]
  },
  {
   "cell_type": "markdown",
   "metadata": {},
   "source": [
    "###### Author: Jiashen Liu, Data Scientist at Quantillion"
   ]
  },
  {
   "cell_type": "markdown",
   "metadata": {},
   "source": [
    "Final Objective: To see who will actually vote for Trump based on the survey data. We just consider US data only in the below analysis."
   ]
  },
  {
   "cell_type": "markdown",
   "metadata": {},
   "source": [
    "## 0. Load Data From Xlsx "
   ]
  },
  {
   "cell_type": "code",
   "execution_count": 1,
   "metadata": {
    "collapsed": true
   },
   "outputs": [],
   "source": [
    "import pandas as pd"
   ]
  },
  {
   "cell_type": "markdown",
   "metadata": {},
   "source": [
    "**We put everything in a single data frame for convenience. Since we got two dataset, we create a function to load xls sheet, parser each sheet and put everything together.**"
   ]
  },
  {
   "cell_type": "markdown",
   "metadata": {},
   "source": [
    "**In each xlsx sheet, the first sheet represents an integrated sheet with all useful information. The other sheet can be viewed as a one-hot-encoding form of the column. So we first remove the column with the same name as one of the sheet and join the remaining part of main table with the corresponding sheet.**"
   ]
  },
  {
   "cell_type": "code",
   "execution_count": 2,
   "metadata": {
    "collapsed": true
   },
   "outputs": [],
   "source": [
    "def load_data(data_set):\n",
    "    xls = pd.ExcelFile(data_set)\n",
    "    required_tabs = xls.sheet_names\n",
    "    main_table = xls.parse(required_tabs[0])\n",
    "    del_col = ['[aud] social_networks_regularly_used','[aud] member_organization','[aud] social_media_activity_rank',\n",
    "              '[dem] ethnicity','[dem] origin','[question] important_issues_when_voting',\n",
    "               '[question] preferred_type_of_political_leader',\n",
    "               '[question] ranking_importance_of_issues_when_voting',\n",
    "               '[dem] ethnic_background'\n",
    "              ]\n",
    "    for col in del_col:\n",
    "        try:\n",
    "            del main_table[col]\n",
    "        except Exception:\n",
    "            pass\n",
    "    for i in range(1,len(required_tabs)):\n",
    "        tmp = xls.parse(required_tabs[i])\n",
    "        main_table = pd.merge(main_table,tmp,how='left',on=['[meta] uuid','[meta] uuid'])\n",
    "    return main_table"
   ]
  },
  {
   "cell_type": "code",
   "execution_count": 3,
   "metadata": {
    "collapsed": true
   },
   "outputs": [],
   "source": [
    "us_data = load_data('dalia_research_challenge_us.xlsx')"
   ]
  },
  {
   "cell_type": "code",
   "execution_count": 4,
   "metadata": {},
   "outputs": [
    {
     "name": "stdout",
     "output_type": "stream",
     "text": [
      "(1052, 142)\n"
     ]
    }
   ],
   "source": [
    "print(us_data.shape)"
   ]
  },
  {
   "cell_type": "markdown",
   "metadata": {},
   "source": [
    "**We got a really wide data set for people's political landscapes of both US and EU.**"
   ]
  },
  {
   "cell_type": "markdown",
   "metadata": {},
   "source": [
    "## 1. ML Feature Selection"
   ]
  },
  {
   "cell_type": "markdown",
   "metadata": {},
   "source": [
    "**By using the feature selection mechanism of ML model, we will choose around 10 most important features to analyze the driving force behind people's election behavior. **"
   ]
  },
  {
   "cell_type": "code",
   "execution_count": 5,
   "metadata": {
    "collapsed": true
   },
   "outputs": [],
   "source": [
    "del us_data['[meta] uuid']"
   ]
  },
  {
   "cell_type": "code",
   "execution_count": 6,
   "metadata": {
    "collapsed": true
   },
   "outputs": [],
   "source": [
    "del us_data['[meta] weight']"
   ]
  },
  {
   "cell_type": "code",
   "execution_count": 7,
   "metadata": {
    "collapsed": true
   },
   "outputs": [],
   "source": [
    "del us_data['[dem] country_code']"
   ]
  },
  {
   "cell_type": "code",
   "execution_count": 8,
   "metadata": {},
   "outputs": [
    {
     "data": {
      "text/html": [
       "<div>\n",
       "<table border=\"1\" class=\"dataframe\">\n",
       "  <thead>\n",
       "    <tr style=\"text-align: right;\">\n",
       "      <th></th>\n",
       "      <th>[dem] age</th>\n",
       "      <th>[dem] gender</th>\n",
       "      <th>[dem] education_level</th>\n",
       "      <th>[dem] degree_of_urbanisation</th>\n",
       "      <th>[dem] residency</th>\n",
       "      <th>[dem] household_size</th>\n",
       "      <th>[dem] immigration</th>\n",
       "      <th>[dem] settlement_size</th>\n",
       "      <th>[dem] hometown</th>\n",
       "      <th>[dem] religion</th>\n",
       "      <th>...</th>\n",
       "      <th>Less immigration_y</th>\n",
       "      <th>Better schools_y</th>\n",
       "      <th>Better healthcare_y</th>\n",
       "      <th>Higher wages_y</th>\n",
       "      <th>Higher pensions_y</th>\n",
       "      <th>Better enforcement of law and order_y</th>\n",
       "      <th>Equal rights for minority groups_y</th>\n",
       "      <th>Lower costs of living (e.g. rent, water, energy)_y</th>\n",
       "      <th>Better public services (e.g. transportation, waste management)_y</th>\n",
       "      <th>Better infrastructure (e.g. roads, sidewalks)_y</th>\n",
       "    </tr>\n",
       "  </thead>\n",
       "  <tbody>\n",
       "    <tr>\n",
       "      <th>0</th>\n",
       "      <td>46</td>\n",
       "      <td>male</td>\n",
       "      <td>I have completed a university or equivalent de...</td>\n",
       "      <td>city</td>\n",
       "      <td>Yes, as a citizen</td>\n",
       "      <td>1</td>\n",
       "      <td>My grandparents moved here</td>\n",
       "      <td>Town with 1 000 - 50 000 people</td>\n",
       "      <td>Yes</td>\n",
       "      <td>Buddhist</td>\n",
       "      <td>...</td>\n",
       "      <td>1.0</td>\n",
       "      <td>NaN</td>\n",
       "      <td>NaN</td>\n",
       "      <td>NaN</td>\n",
       "      <td>NaN</td>\n",
       "      <td>NaN</td>\n",
       "      <td>NaN</td>\n",
       "      <td>NaN</td>\n",
       "      <td>NaN</td>\n",
       "      <td>NaN</td>\n",
       "    </tr>\n",
       "    <tr>\n",
       "      <th>1</th>\n",
       "      <td>26</td>\n",
       "      <td>male</td>\n",
       "      <td>I have completed a university or equivalent de...</td>\n",
       "      <td>city</td>\n",
       "      <td>Yes, as a citizen</td>\n",
       "      <td>1</td>\n",
       "      <td>My family has been here for a longer time</td>\n",
       "      <td>City with 250 000 - 1 million people</td>\n",
       "      <td>No</td>\n",
       "      <td>Other</td>\n",
       "      <td>...</td>\n",
       "      <td>NaN</td>\n",
       "      <td>4.0</td>\n",
       "      <td>2.0</td>\n",
       "      <td>NaN</td>\n",
       "      <td>NaN</td>\n",
       "      <td>NaN</td>\n",
       "      <td>3.0</td>\n",
       "      <td>5.0</td>\n",
       "      <td>NaN</td>\n",
       "      <td>NaN</td>\n",
       "    </tr>\n",
       "    <tr>\n",
       "      <th>2</th>\n",
       "      <td>27</td>\n",
       "      <td>female</td>\n",
       "      <td>I completed high school or obtained an equival...</td>\n",
       "      <td>rural</td>\n",
       "      <td>Yes, as a citizen</td>\n",
       "      <td>1</td>\n",
       "      <td>My family has been here for a longer time</td>\n",
       "      <td>Town with 1 000 - 50 000 people</td>\n",
       "      <td>Yes</td>\n",
       "      <td>Other</td>\n",
       "      <td>...</td>\n",
       "      <td>4.0</td>\n",
       "      <td>NaN</td>\n",
       "      <td>1.0</td>\n",
       "      <td>NaN</td>\n",
       "      <td>NaN</td>\n",
       "      <td>NaN</td>\n",
       "      <td>5.0</td>\n",
       "      <td>2.0</td>\n",
       "      <td>NaN</td>\n",
       "      <td>NaN</td>\n",
       "    </tr>\n",
       "    <tr>\n",
       "      <th>3</th>\n",
       "      <td>37</td>\n",
       "      <td>female</td>\n",
       "      <td>I have completed a university or equivalent de...</td>\n",
       "      <td>city</td>\n",
       "      <td>Yes, as a citizen</td>\n",
       "      <td>5 or more</td>\n",
       "      <td>My family has been here for a longer time</td>\n",
       "      <td>City with 50 000 - 250 000 people</td>\n",
       "      <td>No</td>\n",
       "      <td>Other</td>\n",
       "      <td>...</td>\n",
       "      <td>NaN</td>\n",
       "      <td>NaN</td>\n",
       "      <td>1.0</td>\n",
       "      <td>NaN</td>\n",
       "      <td>NaN</td>\n",
       "      <td>NaN</td>\n",
       "      <td>NaN</td>\n",
       "      <td>NaN</td>\n",
       "      <td>NaN</td>\n",
       "      <td>NaN</td>\n",
       "    </tr>\n",
       "    <tr>\n",
       "      <th>4</th>\n",
       "      <td>49</td>\n",
       "      <td>male</td>\n",
       "      <td>I completed high school or obtained an equival...</td>\n",
       "      <td>city</td>\n",
       "      <td>Yes, as a citizen</td>\n",
       "      <td>3</td>\n",
       "      <td>My family has been here for a longer time</td>\n",
       "      <td>City with 5 million - 10 million people</td>\n",
       "      <td>No</td>\n",
       "      <td>None / not religious</td>\n",
       "      <td>...</td>\n",
       "      <td>NaN</td>\n",
       "      <td>NaN</td>\n",
       "      <td>NaN</td>\n",
       "      <td>2.0</td>\n",
       "      <td>NaN</td>\n",
       "      <td>NaN</td>\n",
       "      <td>NaN</td>\n",
       "      <td>3.0</td>\n",
       "      <td>NaN</td>\n",
       "      <td>NaN</td>\n",
       "    </tr>\n",
       "  </tbody>\n",
       "</table>\n",
       "<p>5 rows × 139 columns</p>\n",
       "</div>"
      ],
      "text/plain": [
       "   [dem] age [dem] gender                              [dem] education_level  \\\n",
       "0         46         male  I have completed a university or equivalent de...   \n",
       "1         26         male  I have completed a university or equivalent de...   \n",
       "2         27       female  I completed high school or obtained an equival...   \n",
       "3         37       female  I have completed a university or equivalent de...   \n",
       "4         49         male  I completed high school or obtained an equival...   \n",
       "\n",
       "  [dem] degree_of_urbanisation    [dem] residency [dem] household_size  \\\n",
       "0                         city  Yes, as a citizen                    1   \n",
       "1                         city  Yes, as a citizen                    1   \n",
       "2                        rural  Yes, as a citizen                    1   \n",
       "3                         city  Yes, as a citizen            5 or more   \n",
       "4                         city  Yes, as a citizen                    3   \n",
       "\n",
       "                           [dem] immigration  \\\n",
       "0                 My grandparents moved here   \n",
       "1  My family has been here for a longer time   \n",
       "2  My family has been here for a longer time   \n",
       "3  My family has been here for a longer time   \n",
       "4  My family has been here for a longer time   \n",
       "\n",
       "                     [dem] settlement_size [dem] hometown  \\\n",
       "0          Town with 1 000 - 50 000 people            Yes   \n",
       "1     City with 250 000 - 1 million people             No   \n",
       "2          Town with 1 000 - 50 000 people            Yes   \n",
       "3        City with 50 000 - 250 000 people             No   \n",
       "4  City with 5 million - 10 million people             No   \n",
       "\n",
       "         [dem] religion                       ...                        \\\n",
       "0              Buddhist                       ...                         \n",
       "1                 Other                       ...                         \n",
       "2                 Other                       ...                         \n",
       "3                 Other                       ...                         \n",
       "4  None / not religious                       ...                         \n",
       "\n",
       "  Less immigration_y Better schools_y Better healthcare_y Higher wages_y  \\\n",
       "0                1.0              NaN                 NaN            NaN   \n",
       "1                NaN              4.0                 2.0            NaN   \n",
       "2                4.0              NaN                 1.0            NaN   \n",
       "3                NaN              NaN                 1.0            NaN   \n",
       "4                NaN              NaN                 NaN            2.0   \n",
       "\n",
       "  Higher pensions_y Better enforcement of law and order_y  \\\n",
       "0               NaN                                   NaN   \n",
       "1               NaN                                   NaN   \n",
       "2               NaN                                   NaN   \n",
       "3               NaN                                   NaN   \n",
       "4               NaN                                   NaN   \n",
       "\n",
       "  Equal rights for minority groups_y  \\\n",
       "0                                NaN   \n",
       "1                                3.0   \n",
       "2                                5.0   \n",
       "3                                NaN   \n",
       "4                                NaN   \n",
       "\n",
       "  Lower costs of living (e.g. rent, water, energy)_y  \\\n",
       "0                                                NaN   \n",
       "1                                                5.0   \n",
       "2                                                2.0   \n",
       "3                                                NaN   \n",
       "4                                                3.0   \n",
       "\n",
       "  Better public services (e.g. transportation, waste management)_y  \\\n",
       "0                                                NaN                 \n",
       "1                                                NaN                 \n",
       "2                                                NaN                 \n",
       "3                                                NaN                 \n",
       "4                                                NaN                 \n",
       "\n",
       "  Better infrastructure (e.g. roads, sidewalks)_y  \n",
       "0                                             NaN  \n",
       "1                                             NaN  \n",
       "2                                             NaN  \n",
       "3                                             NaN  \n",
       "4                                             NaN  \n",
       "\n",
       "[5 rows x 139 columns]"
      ]
     },
     "execution_count": 8,
     "metadata": {},
     "output_type": "execute_result"
    }
   ],
   "source": [
    "us_data.head()"
   ]
  },
  {
   "cell_type": "markdown",
   "metadata": {},
   "source": [
    "**In this case, since the data set is extremely wide, we choose to use machine learning method to decide: which features are more important for US citizen's choice. After trying several models, we will get the feature importance from the result. Then using EDA will be helpful to inteprete the result.**"
   ]
  },
  {
   "cell_type": "markdown",
   "metadata": {},
   "source": [
    "**The label of data set will be the one people are gonna vote for, either Trump, Clinton, Others or Nobody. Let's first count the number of unique label.**"
   ]
  },
  {
   "cell_type": "code",
   "execution_count": 9,
   "metadata": {
    "collapsed": true
   },
   "outputs": [],
   "source": [
    "Label_count = us_data['[question] vote_for_in_us_election'].value_counts().reset_index()"
   ]
  },
  {
   "cell_type": "code",
   "execution_count": 10,
   "metadata": {
    "collapsed": true
   },
   "outputs": [],
   "source": [
    "Label_count.columns = ['Choice','Count']"
   ]
  },
  {
   "cell_type": "code",
   "execution_count": 11,
   "metadata": {},
   "outputs": [
    {
     "data": {
      "text/html": [
       "<div>\n",
       "<table border=\"1\" class=\"dataframe\">\n",
       "  <thead>\n",
       "    <tr style=\"text-align: right;\">\n",
       "      <th></th>\n",
       "      <th>Choice</th>\n",
       "      <th>Count</th>\n",
       "    </tr>\n",
       "  </thead>\n",
       "  <tbody>\n",
       "    <tr>\n",
       "      <th>0</th>\n",
       "      <td>I did not vote</td>\n",
       "      <td>351</td>\n",
       "    </tr>\n",
       "    <tr>\n",
       "      <th>1</th>\n",
       "      <td>Donald Trump</td>\n",
       "      <td>319</td>\n",
       "    </tr>\n",
       "    <tr>\n",
       "      <th>2</th>\n",
       "      <td>Hillary Clinton</td>\n",
       "      <td>293</td>\n",
       "    </tr>\n",
       "    <tr>\n",
       "      <th>3</th>\n",
       "      <td>Other candidate</td>\n",
       "      <td>89</td>\n",
       "    </tr>\n",
       "  </tbody>\n",
       "</table>\n",
       "</div>"
      ],
      "text/plain": [
       "            Choice  Count\n",
       "0   I did not vote    351\n",
       "1     Donald Trump    319\n",
       "2  Hillary Clinton    293\n",
       "3  Other candidate     89"
      ]
     },
     "execution_count": 11,
     "metadata": {},
     "output_type": "execute_result"
    }
   ],
   "source": [
    "Label_count"
   ]
  },
  {
   "cell_type": "markdown",
   "metadata": {},
   "source": [
    "**Let's draw plots for it.**"
   ]
  },
  {
   "cell_type": "code",
   "execution_count": 12,
   "metadata": {
    "collapsed": true
   },
   "outputs": [],
   "source": [
    "import matplotlib.pyplot as plt\n",
    "from ggplot import *\n",
    "import seaborn as seb"
   ]
  },
  {
   "cell_type": "code",
   "execution_count": 13,
   "metadata": {},
   "outputs": [
    {
     "data": {
      "text/plain": [
       "([<matplotlib.patches.Wedge at 0x7fba332f7668>,\n",
       "  <matplotlib.patches.Wedge at 0x7fba33304860>,\n",
       "  <matplotlib.patches.Wedge at 0x7fba3330ba58>,\n",
       "  <matplotlib.patches.Wedge at 0x7fba33312c50>],\n",
       " [<matplotlib.text.Text at 0x7fba332f7e48>,\n",
       "  <matplotlib.text.Text at 0x7fba33304f60>,\n",
       "  <matplotlib.text.Text at 0x7fba33312278>,\n",
       "  <matplotlib.text.Text at 0x7fba33317470>],\n",
       " [<matplotlib.text.Text at 0x7fba33304320>,\n",
       "  <matplotlib.text.Text at 0x7fba3330b518>,\n",
       "  <matplotlib.text.Text at 0x7fba33312710>,\n",
       "  <matplotlib.text.Text at 0x7fba33317908>])"
      ]
     },
     "execution_count": 13,
     "metadata": {},
     "output_type": "execute_result"
    }
   ],
   "source": [
    "colors = [\"#E13F29\", \"#D69A80\", \"#D63B59\", \"#AE5552\"]\n",
    "plt.pie(\n",
    "    Label_count['Count'],\n",
    "    labels=Label_count['Choice'],\n",
    "    shadow=False,\n",
    "    colors= colors,\n",
    "    explode =(0, 0.2, 0, 0),\n",
    "    startangle=90,\n",
    "    autopct='%1.1f%%',\n",
    "    )"
   ]
  },
  {
   "cell_type": "code",
   "execution_count": 14,
   "metadata": {},
   "outputs": [
    {
     "data": {
      "image/png": "[encoded data removed]",
      "text/plain": [
       "<matplotlib.figure.Figure at 0x7fba335a86a0>"
      ]
     },
     "metadata": {},
     "output_type": "display_data"
    }
   ],
   "source": [
    "plt.axis('equal')\n",
    "plt.show()"
   ]
  },
  {
   "cell_type": "markdown",
   "metadata": {},
   "source": [
    "**Obviously, Trump has the advantage. Otherwise he will not be the president...**"
   ]
  },
  {
   "cell_type": "markdown",
   "metadata": {},
   "source": [
    "**Let's see which features are most important factors behind people's behaviour. Firstly, we need to deal with the missing values. Quickily set them to -999.**"
   ]
  },
  {
   "cell_type": "code",
   "execution_count": 15,
   "metadata": {
    "collapsed": true
   },
   "outputs": [],
   "source": [
    "us_data = us_data.fillna(-999)"
   ]
  },
  {
   "cell_type": "markdown",
   "metadata": {},
   "source": [
    "**Let's keep the data set and try several classic feature selection methods. We will use models to select features. Models will be: Lasso and Tree models as they are extremely classic. Before everything happens, FACTORIZE DATA!**"
   ]
  },
  {
   "cell_type": "code",
   "execution_count": 33,
   "metadata": {
    "collapsed": true
   },
   "outputs": [],
   "source": [
    "us_data_bak = load_data('dalia_research_challenge_us.xlsx')"
   ]
  },
  {
   "cell_type": "code",
   "execution_count": 17,
   "metadata": {
    "collapsed": true
   },
   "outputs": [],
   "source": [
    "data_feature = us_data.columns\n",
    "for each in data_feature:\n",
    "    us_data[each] = pd.factorize(us_data[each], sort=True)[0]"
   ]
  },
  {
   "cell_type": "code",
   "execution_count": 18,
   "metadata": {},
   "outputs": [
    {
     "data": {
      "text/html": [
       "<div>\n",
       "<table border=\"1\" class=\"dataframe\">\n",
       "  <thead>\n",
       "    <tr style=\"text-align: right;\">\n",
       "      <th></th>\n",
       "      <th>[dem] age</th>\n",
       "      <th>[dem] gender</th>\n",
       "      <th>[dem] education_level</th>\n",
       "      <th>[dem] degree_of_urbanisation</th>\n",
       "      <th>[dem] residency</th>\n",
       "      <th>[dem] household_size</th>\n",
       "      <th>[dem] immigration</th>\n",
       "      <th>[dem] settlement_size</th>\n",
       "      <th>[dem] hometown</th>\n",
       "      <th>[dem] religion</th>\n",
       "      <th>...</th>\n",
       "      <th>Less immigration_y</th>\n",
       "      <th>Better schools_y</th>\n",
       "      <th>Better healthcare_y</th>\n",
       "      <th>Higher wages_y</th>\n",
       "      <th>Higher pensions_y</th>\n",
       "      <th>Better enforcement of law and order_y</th>\n",
       "      <th>Equal rights for minority groups_y</th>\n",
       "      <th>Lower costs of living (e.g. rent, water, energy)_y</th>\n",
       "      <th>Better public services (e.g. transportation, waste management)_y</th>\n",
       "      <th>Better infrastructure (e.g. roads, sidewalks)_y</th>\n",
       "    </tr>\n",
       "  </thead>\n",
       "  <tbody>\n",
       "    <tr>\n",
       "      <th>0</th>\n",
       "      <td>32</td>\n",
       "      <td>1</td>\n",
       "      <td>2</td>\n",
       "      <td>0</td>\n",
       "      <td>2</td>\n",
       "      <td>1</td>\n",
       "      <td>2</td>\n",
       "      <td>6</td>\n",
       "      <td>1</td>\n",
       "      <td>0</td>\n",
       "      <td>...</td>\n",
       "      <td>1</td>\n",
       "      <td>0</td>\n",
       "      <td>0</td>\n",
       "      <td>0</td>\n",
       "      <td>0</td>\n",
       "      <td>0</td>\n",
       "      <td>0</td>\n",
       "      <td>0</td>\n",
       "      <td>0</td>\n",
       "      <td>0</td>\n",
       "    </tr>\n",
       "    <tr>\n",
       "      <th>1</th>\n",
       "      <td>12</td>\n",
       "      <td>1</td>\n",
       "      <td>2</td>\n",
       "      <td>0</td>\n",
       "      <td>2</td>\n",
       "      <td>1</td>\n",
       "      <td>1</td>\n",
       "      <td>1</td>\n",
       "      <td>0</td>\n",
       "      <td>5</td>\n",
       "      <td>...</td>\n",
       "      <td>0</td>\n",
       "      <td>4</td>\n",
       "      <td>2</td>\n",
       "      <td>0</td>\n",
       "      <td>0</td>\n",
       "      <td>0</td>\n",
       "      <td>3</td>\n",
       "      <td>5</td>\n",
       "      <td>0</td>\n",
       "      <td>0</td>\n",
       "    </tr>\n",
       "    <tr>\n",
       "      <th>2</th>\n",
       "      <td>13</td>\n",
       "      <td>0</td>\n",
       "      <td>0</td>\n",
       "      <td>1</td>\n",
       "      <td>2</td>\n",
       "      <td>1</td>\n",
       "      <td>1</td>\n",
       "      <td>6</td>\n",
       "      <td>1</td>\n",
       "      <td>5</td>\n",
       "      <td>...</td>\n",
       "      <td>4</td>\n",
       "      <td>0</td>\n",
       "      <td>1</td>\n",
       "      <td>0</td>\n",
       "      <td>0</td>\n",
       "      <td>0</td>\n",
       "      <td>5</td>\n",
       "      <td>2</td>\n",
       "      <td>0</td>\n",
       "      <td>0</td>\n",
       "    </tr>\n",
       "    <tr>\n",
       "      <th>3</th>\n",
       "      <td>23</td>\n",
       "      <td>0</td>\n",
       "      <td>2</td>\n",
       "      <td>0</td>\n",
       "      <td>2</td>\n",
       "      <td>5</td>\n",
       "      <td>1</td>\n",
       "      <td>3</td>\n",
       "      <td>0</td>\n",
       "      <td>5</td>\n",
       "      <td>...</td>\n",
       "      <td>0</td>\n",
       "      <td>0</td>\n",
       "      <td>1</td>\n",
       "      <td>0</td>\n",
       "      <td>0</td>\n",
       "      <td>0</td>\n",
       "      <td>0</td>\n",
       "      <td>0</td>\n",
       "      <td>0</td>\n",
       "      <td>0</td>\n",
       "    </tr>\n",
       "    <tr>\n",
       "      <th>4</th>\n",
       "      <td>35</td>\n",
       "      <td>1</td>\n",
       "      <td>0</td>\n",
       "      <td>0</td>\n",
       "      <td>2</td>\n",
       "      <td>3</td>\n",
       "      <td>1</td>\n",
       "      <td>2</td>\n",
       "      <td>0</td>\n",
       "      <td>3</td>\n",
       "      <td>...</td>\n",
       "      <td>0</td>\n",
       "      <td>0</td>\n",
       "      <td>0</td>\n",
       "      <td>2</td>\n",
       "      <td>0</td>\n",
       "      <td>0</td>\n",
       "      <td>0</td>\n",
       "      <td>3</td>\n",
       "      <td>0</td>\n",
       "      <td>0</td>\n",
       "    </tr>\n",
       "  </tbody>\n",
       "</table>\n",
       "<p>5 rows × 139 columns</p>\n",
       "</div>"
      ],
      "text/plain": [
       "   [dem] age  [dem] gender  [dem] education_level  \\\n",
       "0         32             1                      2   \n",
       "1         12             1                      2   \n",
       "2         13             0                      0   \n",
       "3         23             0                      2   \n",
       "4         35             1                      0   \n",
       "\n",
       "   [dem] degree_of_urbanisation  [dem] residency  [dem] household_size  \\\n",
       "0                             0                2                     1   \n",
       "1                             0                2                     1   \n",
       "2                             1                2                     1   \n",
       "3                             0                2                     5   \n",
       "4                             0                2                     3   \n",
       "\n",
       "   [dem] immigration  [dem] settlement_size  [dem] hometown  [dem] religion  \\\n",
       "0                  2                      6               1               0   \n",
       "1                  1                      1               0               5   \n",
       "2                  1                      6               1               5   \n",
       "3                  1                      3               0               5   \n",
       "4                  1                      2               0               3   \n",
       "\n",
       "                        ...                         Less immigration_y  \\\n",
       "0                       ...                                          1   \n",
       "1                       ...                                          0   \n",
       "2                       ...                                          4   \n",
       "3                       ...                                          0   \n",
       "4                       ...                                          0   \n",
       "\n",
       "   Better schools_y  Better healthcare_y  Higher wages_y  Higher pensions_y  \\\n",
       "0                 0                    0               0                  0   \n",
       "1                 4                    2               0                  0   \n",
       "2                 0                    1               0                  0   \n",
       "3                 0                    1               0                  0   \n",
       "4                 0                    0               2                  0   \n",
       "\n",
       "   Better enforcement of law and order_y  Equal rights for minority groups_y  \\\n",
       "0                                      0                                   0   \n",
       "1                                      0                                   3   \n",
       "2                                      0                                   5   \n",
       "3                                      0                                   0   \n",
       "4                                      0                                   0   \n",
       "\n",
       "   Lower costs of living (e.g. rent, water, energy)_y  \\\n",
       "0                                                  0    \n",
       "1                                                  5    \n",
       "2                                                  2    \n",
       "3                                                  0    \n",
       "4                                                  3    \n",
       "\n",
       "   Better public services (e.g. transportation, waste management)_y  \\\n",
       "0                                                  0                  \n",
       "1                                                  0                  \n",
       "2                                                  0                  \n",
       "3                                                  0                  \n",
       "4                                                  0                  \n",
       "\n",
       "   Better infrastructure (e.g. roads, sidewalks)_y  \n",
       "0                                                0  \n",
       "1                                                0  \n",
       "2                                                0  \n",
       "3                                                0  \n",
       "4                                                0  \n",
       "\n",
       "[5 rows x 139 columns]"
      ]
     },
     "execution_count": 18,
     "metadata": {},
     "output_type": "execute_result"
    }
   ],
   "source": [
    "us_data.head()"
   ]
  },
  {
   "cell_type": "markdown",
   "metadata": {},
   "source": [
    "**As we do not know which model can fit this data set better, I choose to try four classic ML model first to see which one has the best out-of-sample result. Then export the feature importance of model.**"
   ]
  },
  {
   "cell_type": "code",
   "execution_count": 19,
   "metadata": {
    "collapsed": true
   },
   "outputs": [],
   "source": [
    "from sklearn.model_selection import train_test_split\n",
    "train,test = train_test_split(us_data,test_size = 0.2, random_state=42)\n",
    "features = train.ix[:,train.columns!='[question] vote_for_in_us_election']\n",
    "label = train['[question] vote_for_in_us_election']"
   ]
  },
  {
   "cell_type": "markdown",
   "metadata": {},
   "source": [
    "**Simple ML Pipline**"
   ]
  },
  {
   "cell_type": "code",
   "execution_count": 20,
   "metadata": {
    "collapsed": true
   },
   "outputs": [],
   "source": [
    "from sklearn.linear_model import LogisticRegression\n",
    "from sklearn.neighbors import KNeighborsClassifier\n",
    "from sklearn.tree import DecisionTreeClassifier\n",
    "from sklearn.ensemble import RandomForestClassifier\n",
    "from sklearn.metrics import accuracy_score"
   ]
  },
  {
   "cell_type": "code",
   "execution_count": 21,
   "metadata": {
    "collapsed": true
   },
   "outputs": [],
   "source": [
    "Classifiers = [\n",
    "    LogisticRegression(C=0.01,solver='liblinear',max_iter=300),\n",
    "    KNeighborsClassifier(4),\n",
    "    DecisionTreeClassifier(),\n",
    "    RandomForestClassifier(n_estimators=600,random_state=44)]"
   ]
  },
  {
   "cell_type": "code",
   "execution_count": 22,
   "metadata": {},
   "outputs": [
    {
     "name": "stdout",
     "output_type": "stream",
     "text": [
      "Accuracy of LogisticRegressionis 0.597156398104\n",
      "Accuracy of KNeighborsClassifieris 0.473933649289\n",
      "Accuracy of DecisionTreeClassifieris 0.521327014218\n",
      "Accuracy of RandomForestClassifieris 0.682464454976\n"
     ]
    }
   ],
   "source": [
    "for clf in Classifiers:\n",
    "    fit = clf.fit(features,label)\n",
    "    pred = clf.predict(test.ix[:,test.columns!='[question] vote_for_in_us_election'])\n",
    "    accuracy = accuracy_score(pred,test['[question] vote_for_in_us_election'])\n",
    "    print('Accuracy of '+clf.__class__.__name__+'is '+str(accuracy)) "
   ]
  },
  {
   "cell_type": "markdown",
   "metadata": {},
   "source": [
    "**Pretty bad out-sample accuracy. But the objective is not to train a classifier, so if we just choose the important features, it should be enough to make the decision.**"
   ]
  },
  {
   "cell_type": "code",
   "execution_count": 23,
   "metadata": {
    "collapsed": true
   },
   "outputs": [],
   "source": [
    "feature_importance = pd.DataFrame({'Feature':features.columns,'Importance':clf.feature_importances_}).sort_values(['Importance','Feature'],ascending = [0,1])"
   ]
  },
  {
   "cell_type": "code",
   "execution_count": 24,
   "metadata": {
    "collapsed": true
   },
   "outputs": [],
   "source": [
    "feature_importance = feature_importance.reset_index()"
   ]
  },
  {
   "cell_type": "code",
   "execution_count": 25,
   "metadata": {
    "collapsed": true
   },
   "outputs": [],
   "source": [
    "feature_importance = feature_importance.ix[0:10,:]"
   ]
  },
  {
   "cell_type": "code",
   "execution_count": 26,
   "metadata": {},
   "outputs": [
    {
     "data": {
      "text/html": [
       "<div>\n",
       "<table border=\"1\" class=\"dataframe\">\n",
       "  <thead>\n",
       "    <tr style=\"text-align: right;\">\n",
       "      <th></th>\n",
       "      <th>index</th>\n",
       "      <th>Feature</th>\n",
       "      <th>Importance</th>\n",
       "    </tr>\n",
       "  </thead>\n",
       "  <tbody>\n",
       "    <tr>\n",
       "      <th>0</th>\n",
       "      <td>34</td>\n",
       "      <td>[question] vote_next_national_election</td>\n",
       "      <td>0.055431</td>\n",
       "    </tr>\n",
       "    <tr>\n",
       "      <th>1</th>\n",
       "      <td>33</td>\n",
       "      <td>[question] frequency_of_voting</td>\n",
       "      <td>0.043411</td>\n",
       "    </tr>\n",
       "    <tr>\n",
       "      <th>2</th>\n",
       "      <td>0</td>\n",
       "      <td>[dem] age</td>\n",
       "      <td>0.025959</td>\n",
       "    </tr>\n",
       "    <tr>\n",
       "      <th>3</th>\n",
       "      <td>53</td>\n",
       "      <td>[question] gender_discrimination_importance</td>\n",
       "      <td>0.022159</td>\n",
       "    </tr>\n",
       "    <tr>\n",
       "      <th>4</th>\n",
       "      <td>119</td>\n",
       "      <td>… has the right experience</td>\n",
       "      <td>0.020141</td>\n",
       "    </tr>\n",
       "    <tr>\n",
       "      <th>5</th>\n",
       "      <td>23</td>\n",
       "      <td>[dem] economy_country_next12months</td>\n",
       "      <td>0.018748</td>\n",
       "    </tr>\n",
       "    <tr>\n",
       "      <th>6</th>\n",
       "      <td>118</td>\n",
       "      <td>… speaks his / her mind</td>\n",
       "      <td>0.017722</td>\n",
       "    </tr>\n",
       "    <tr>\n",
       "      <th>7</th>\n",
       "      <td>55</td>\n",
       "      <td>[question] worldview</td>\n",
       "      <td>0.015910</td>\n",
       "    </tr>\n",
       "    <tr>\n",
       "      <th>8</th>\n",
       "      <td>44</td>\n",
       "      <td>[question] country_direction_past5years</td>\n",
       "      <td>0.015219</td>\n",
       "    </tr>\n",
       "    <tr>\n",
       "      <th>9</th>\n",
       "      <td>10</td>\n",
       "      <td>[dem] employment_status</td>\n",
       "      <td>0.014802</td>\n",
       "    </tr>\n",
       "    <tr>\n",
       "      <th>10</th>\n",
       "      <td>15</td>\n",
       "      <td>[dem] income_net_monthly</td>\n",
       "      <td>0.013528</td>\n",
       "    </tr>\n",
       "  </tbody>\n",
       "</table>\n",
       "</div>"
      ],
      "text/plain": [
       "    index                                      Feature  Importance\n",
       "0      34       [question] vote_next_national_election    0.055431\n",
       "1      33               [question] frequency_of_voting    0.043411\n",
       "2       0                                    [dem] age    0.025959\n",
       "3      53  [question] gender_discrimination_importance    0.022159\n",
       "4     119                   … has the right experience    0.020141\n",
       "5      23           [dem] economy_country_next12months    0.018748\n",
       "6     118                      … speaks his / her mind    0.017722\n",
       "7      55                         [question] worldview    0.015910\n",
       "8      44      [question] country_direction_past5years    0.015219\n",
       "9      10                      [dem] employment_status    0.014802\n",
       "10     15                     [dem] income_net_monthly    0.013528"
      ]
     },
     "execution_count": 26,
     "metadata": {},
     "output_type": "execute_result"
    }
   ],
   "source": [
    "feature_importance"
   ]
  },
  {
   "cell_type": "markdown",
   "metadata": {},
   "source": [
    "**Now, ten most important features selected by a machine learning model are provided above. Let us explore them one by one.**"
   ]
  },
  {
   "cell_type": "markdown",
   "metadata": {},
   "source": [
    "## 2. Exploratory Data Analysis on selected features."
   ]
  },
  {
   "cell_type": "markdown",
   "metadata": {},
   "source": [
    "**Let's break them down one by one.**"
   ]
  },
  {
   "cell_type": "markdown",
   "metadata": {},
   "source": [
    "**A: Vote Next National Election + Voting Frequency**"
   ]
  },
  {
   "cell_type": "code",
   "execution_count": 34,
   "metadata": {
    "collapsed": true
   },
   "outputs": [],
   "source": [
    "VNE = us_data_bak.groupby(['[question] vote_next_national_election','[question] vote_for_in_us_election']).size().reset_index()"
   ]
  },
  {
   "cell_type": "code",
   "execution_count": 35,
   "metadata": {
    "collapsed": true
   },
   "outputs": [],
   "source": [
    "VNE.columns = ['Vote_Next_Election','Vote_For_Whom','Count']"
   ]
  },
  {
   "cell_type": "code",
   "execution_count": 36,
   "metadata": {
    "collapsed": true
   },
   "outputs": [],
   "source": [
    "VNE['Next_Election'] = pd.factorize(VNE['Vote_Next_Election'], sort=True)[0]"
   ]
  },
  {
   "cell_type": "code",
   "execution_count": 37,
   "metadata": {},
   "outputs": [
    {
     "data": {
      "text/html": [
       "<div>\n",
       "<table border=\"1\" class=\"dataframe\">\n",
       "  <thead>\n",
       "    <tr style=\"text-align: right;\">\n",
       "      <th></th>\n",
       "      <th>Vote_Next_Election</th>\n",
       "      <th>Vote_For_Whom</th>\n",
       "      <th>Count</th>\n",
       "      <th>Next_Election</th>\n",
       "    </tr>\n",
       "  </thead>\n",
       "  <tbody>\n",
       "    <tr>\n",
       "      <th>0</th>\n",
       "      <td>I'm not eligible to vote</td>\n",
       "      <td>Donald Trump</td>\n",
       "      <td>7</td>\n",
       "      <td>0</td>\n",
       "    </tr>\n",
       "    <tr>\n",
       "      <th>1</th>\n",
       "      <td>I'm not eligible to vote</td>\n",
       "      <td>Hillary Clinton</td>\n",
       "      <td>4</td>\n",
       "      <td>0</td>\n",
       "    </tr>\n",
       "    <tr>\n",
       "      <th>2</th>\n",
       "      <td>I'm not eligible to vote</td>\n",
       "      <td>I did not vote</td>\n",
       "      <td>62</td>\n",
       "      <td>0</td>\n",
       "    </tr>\n",
       "    <tr>\n",
       "      <th>3</th>\n",
       "      <td>No, I will definitely not vote</td>\n",
       "      <td>Donald Trump</td>\n",
       "      <td>5</td>\n",
       "      <td>1</td>\n",
       "    </tr>\n",
       "    <tr>\n",
       "      <th>4</th>\n",
       "      <td>No, I will definitely not vote</td>\n",
       "      <td>Hillary Clinton</td>\n",
       "      <td>5</td>\n",
       "      <td>1</td>\n",
       "    </tr>\n",
       "    <tr>\n",
       "      <th>5</th>\n",
       "      <td>No, I will definitely not vote</td>\n",
       "      <td>I did not vote</td>\n",
       "      <td>49</td>\n",
       "      <td>1</td>\n",
       "    </tr>\n",
       "    <tr>\n",
       "      <th>6</th>\n",
       "      <td>No, I will definitely not vote</td>\n",
       "      <td>Other candidate</td>\n",
       "      <td>2</td>\n",
       "      <td>1</td>\n",
       "    </tr>\n",
       "    <tr>\n",
       "      <th>7</th>\n",
       "      <td>No, I will probably not vote</td>\n",
       "      <td>Donald Trump</td>\n",
       "      <td>9</td>\n",
       "      <td>2</td>\n",
       "    </tr>\n",
       "    <tr>\n",
       "      <th>8</th>\n",
       "      <td>No, I will probably not vote</td>\n",
       "      <td>Hillary Clinton</td>\n",
       "      <td>11</td>\n",
       "      <td>2</td>\n",
       "    </tr>\n",
       "    <tr>\n",
       "      <th>9</th>\n",
       "      <td>No, I will probably not vote</td>\n",
       "      <td>I did not vote</td>\n",
       "      <td>82</td>\n",
       "      <td>2</td>\n",
       "    </tr>\n",
       "    <tr>\n",
       "      <th>10</th>\n",
       "      <td>No, I will probably not vote</td>\n",
       "      <td>Other candidate</td>\n",
       "      <td>7</td>\n",
       "      <td>2</td>\n",
       "    </tr>\n",
       "    <tr>\n",
       "      <th>11</th>\n",
       "      <td>Yes, I will definitely vote</td>\n",
       "      <td>Donald Trump</td>\n",
       "      <td>220</td>\n",
       "      <td>3</td>\n",
       "    </tr>\n",
       "    <tr>\n",
       "      <th>12</th>\n",
       "      <td>Yes, I will definitely vote</td>\n",
       "      <td>Hillary Clinton</td>\n",
       "      <td>226</td>\n",
       "      <td>3</td>\n",
       "    </tr>\n",
       "    <tr>\n",
       "      <th>13</th>\n",
       "      <td>Yes, I will definitely vote</td>\n",
       "      <td>I did not vote</td>\n",
       "      <td>79</td>\n",
       "      <td>3</td>\n",
       "    </tr>\n",
       "    <tr>\n",
       "      <th>14</th>\n",
       "      <td>Yes, I will definitely vote</td>\n",
       "      <td>Other candidate</td>\n",
       "      <td>60</td>\n",
       "      <td>3</td>\n",
       "    </tr>\n",
       "    <tr>\n",
       "      <th>15</th>\n",
       "      <td>Yes, I will probably vote</td>\n",
       "      <td>Donald Trump</td>\n",
       "      <td>78</td>\n",
       "      <td>4</td>\n",
       "    </tr>\n",
       "    <tr>\n",
       "      <th>16</th>\n",
       "      <td>Yes, I will probably vote</td>\n",
       "      <td>Hillary Clinton</td>\n",
       "      <td>47</td>\n",
       "      <td>4</td>\n",
       "    </tr>\n",
       "    <tr>\n",
       "      <th>17</th>\n",
       "      <td>Yes, I will probably vote</td>\n",
       "      <td>I did not vote</td>\n",
       "      <td>79</td>\n",
       "      <td>4</td>\n",
       "    </tr>\n",
       "    <tr>\n",
       "      <th>18</th>\n",
       "      <td>Yes, I will probably vote</td>\n",
       "      <td>Other candidate</td>\n",
       "      <td>20</td>\n",
       "      <td>4</td>\n",
       "    </tr>\n",
       "  </tbody>\n",
       "</table>\n",
       "</div>"
      ],
      "text/plain": [
       "                Vote_Next_Election    Vote_For_Whom  Count  Next_Election\n",
       "0         I'm not eligible to vote     Donald Trump      7              0\n",
       "1         I'm not eligible to vote  Hillary Clinton      4              0\n",
       "2         I'm not eligible to vote   I did not vote     62              0\n",
       "3   No, I will definitely not vote     Donald Trump      5              1\n",
       "4   No, I will definitely not vote  Hillary Clinton      5              1\n",
       "5   No, I will definitely not vote   I did not vote     49              1\n",
       "6   No, I will definitely not vote  Other candidate      2              1\n",
       "7     No, I will probably not vote     Donald Trump      9              2\n",
       "8     No, I will probably not vote  Hillary Clinton     11              2\n",
       "9     No, I will probably not vote   I did not vote     82              2\n",
       "10    No, I will probably not vote  Other candidate      7              2\n",
       "11     Yes, I will definitely vote     Donald Trump    220              3\n",
       "12     Yes, I will definitely vote  Hillary Clinton    226              3\n",
       "13     Yes, I will definitely vote   I did not vote     79              3\n",
       "14     Yes, I will definitely vote  Other candidate     60              3\n",
       "15       Yes, I will probably vote     Donald Trump     78              4\n",
       "16       Yes, I will probably vote  Hillary Clinton     47              4\n",
       "17       Yes, I will probably vote   I did not vote     79              4\n",
       "18       Yes, I will probably vote  Other candidate     20              4"
      ]
     },
     "execution_count": 37,
     "metadata": {},
     "output_type": "execute_result"
    }
   ],
   "source": [
    "VNE"
   ]
  },
  {
   "cell_type": "code",
   "execution_count": 38,
   "metadata": {
    "collapsed": true
   },
   "outputs": [],
   "source": [
    "gg = ggplot(VNE,aes(x='Next_Election',weight='Count'))+geom_bar()+ggtitle('Count of Next Election Voting By Different Current Voting Pattern')+facet_wrap('Vote_For_Whom')"
   ]
  },
  {
   "cell_type": "code",
   "execution_count": 39,
   "metadata": {},
   "outputs": [
    {
     "data": {
      "image/png": "[encoded data removed]",
      "text/plain": [
       "<matplotlib.figure.Figure at 0x7fba2ce60588>"
      ]
     },
     "metadata": {},
     "output_type": "display_data"
    },
    {
     "data": {
      "text/plain": [
       "<ggplot: (8777349619748)>"
      ]
     },
     "execution_count": 39,
     "metadata": {},
     "output_type": "execute_result"
    }
   ],
   "source": [
    "gg"
   ]
  },
  {
   "cell_type": "markdown",
   "metadata": {},
   "source": [
    "**Where**"
   ]
  },
  {
   "cell_type": "code",
   "execution_count": 40,
   "metadata": {},
   "outputs": [
    {
     "data": {
      "text/plain": [
       "Vote_Next_Election              Next_Election\n",
       "I'm not eligible to vote        0                3\n",
       "No, I will definitely not vote  1                4\n",
       "No, I will probably not vote    2                4\n",
       "Yes, I will definitely vote     3                4\n",
       "Yes, I will probably vote       4                4\n",
       "dtype: int64"
      ]
     },
     "execution_count": 40,
     "metadata": {},
     "output_type": "execute_result"
    }
   ],
   "source": [
    "VNE.groupby(['Vote_Next_Election','Next_Election']).size()"
   ]
  },
  {
   "cell_type": "markdown",
   "metadata": {},
   "source": [
    "**Voting Frequency seems to be a similar variable here. Although this may cause multicolinearity, but as a EDA we just combine the analysis together.**"
   ]
  },
  {
   "cell_type": "code",
   "execution_count": 41,
   "metadata": {},
   "outputs": [
    {
     "name": "stdout",
     "output_type": "stream",
     "text": [
      "['Rarely' 'Never' 'I have never been eligible to vote' 'Always'\n",
      " 'Most of the time' 'Sometimes']\n"
     ]
    }
   ],
   "source": [
    "print(us_data_bak['[question] frequency_of_voting'].unique())"
   ]
  },
  {
   "cell_type": "code",
   "execution_count": 42,
   "metadata": {
    "collapsed": true
   },
   "outputs": [],
   "source": [
    "VTF = us_data_bak.groupby(['[question] frequency_of_voting','[question] vote_for_in_us_election']).size().reset_index()"
   ]
  },
  {
   "cell_type": "code",
   "execution_count": 43,
   "metadata": {
    "collapsed": true
   },
   "outputs": [],
   "source": [
    "VTF.columns = ['Voting Frequency','Vote For Whom','Count']"
   ]
  },
  {
   "cell_type": "code",
   "execution_count": 44,
   "metadata": {
    "collapsed": true
   },
   "outputs": [],
   "source": [
    "plt.style.use('ggplot')\n",
    "colors = plt.rcParams['axes.prop_cycle']"
   ]
  },
  {
   "cell_type": "code",
   "execution_count": 45,
   "metadata": {},
   "outputs": [
    {
     "data": {
      "text/plain": [
       "<matplotlib.legend.Legend at 0x7fba2cb804a8>"
      ]
     },
     "execution_count": 45,
     "metadata": {},
     "output_type": "execute_result"
    }
   ],
   "source": [
    "fig, axes = plt.subplots(nrows=2, ncols=2)\n",
    "facet = VTF['Vote For Whom'].unique()\n",
    "for ax, lb in zip(axes.flat, facet):\n",
    "    df = VTF[VTF['Vote For Whom']==lb]\n",
    "    ax.pie(df['Count'], labels=['','','','','',''], autopct='%.2f')\n",
    "    ax.set(ylabel='', title=lb, aspect='equal')\n",
    "axes[0, 0].legend(bbox_to_anchor=(0, 0.5),labels=df['Voting Frequency'])"
   ]
  },
  {
   "cell_type": "code",
   "execution_count": 46,
   "metadata": {},
   "outputs": [
    {
     "data": {
      "image/png": "[encoded data removed]",
      "text/plain": [
       "<matplotlib.figure.Figure at 0x7fba2c8df6d8>"
      ]
     },
     "metadata": {},
     "output_type": "display_data"
    }
   ],
   "source": [
    "plt.show()"
   ]
  },
  {
   "cell_type": "markdown",
   "metadata": {},
   "source": [
    "**So, it is obvious to see that: people who have already decided not to vote in the future election do not vote this time. THerefore, it is important to know whether people care about election before guessing his/her political landscape.**"
   ]
  },
  {
   "cell_type": "markdown",
   "metadata": {},
   "source": [
    "**B: Age Distribution among Voters**"
   ]
  },
  {
   "cell_type": "markdown",
   "metadata": {},
   "source": [
    "**Let's just quickily go through the Age distribution between different groups.**"
   ]
  },
  {
   "cell_type": "code",
   "execution_count": 47,
   "metadata": {
    "collapsed": true
   },
   "outputs": [],
   "source": [
    "gg = ggplot(us_data_bak,aes(x='[dem] age'))+theme_bw()+ geom_density()+facet_wrap('[question] vote_for_in_us_election')"
   ]
  },
  {
   "cell_type": "code",
   "execution_count": 48,
   "metadata": {},
   "outputs": [
    {
     "data": {
      "image/png": "[encoded data removed]",
      "text/plain": [
       "<matplotlib.figure.Figure at 0x7fba2c85c4e0>"
      ]
     },
     "metadata": {},
     "output_type": "display_data"
    },
    {
     "data": {
      "text/plain": [
       "<ggplot: (-9223363259505550220)>"
      ]
     },
     "execution_count": 48,
     "metadata": {},
     "output_type": "execute_result"
    }
   ],
   "source": [
    "gg"
   ]
  },
  {
   "cell_type": "markdown",
   "metadata": {},
   "source": [
    "**You can see that people around 40 -50 are more likely ti vote for Trump. ALso, young guys and girls are less likely to vote for someone, seems they do not care.**"
   ]
  },
  {
   "cell_type": "markdown",
   "metadata": {},
   "source": [
    "**Let's exclude the voters who do not have the right to vote.**"
   ]
  },
  {
   "cell_type": "code",
   "execution_count": 49,
   "metadata": {
    "collapsed": true
   },
   "outputs": [],
   "source": [
    "gg = ggplot(us_data_bak[us_data_bak['[question] frequency_of_voting']!='I have never been eligible to vote'],aes(x='[dem] age'))+theme_bw()+ geom_density()+facet_wrap('[question] vote_for_in_us_election')"
   ]
  },
  {
   "cell_type": "code",
   "execution_count": 50,
   "metadata": {},
   "outputs": [
    {
     "data": {
      "image/png": "[encoded data removed]",
      "text/plain": [
       "<matplotlib.figure.Figure at 0x7fba2c629550>"
      ]
     },
     "metadata": {},
     "output_type": "display_data"
    },
    {
     "data": {
      "text/plain": [
       "<ggplot: (8777349111458)>"
      ]
     },
     "execution_count": 50,
     "metadata": {},
     "output_type": "execute_result"
    }
   ],
   "source": [
    "gg"
   ]
  },
  {
   "cell_type": "markdown",
   "metadata": {},
   "source": [
    "**The shape of histogram of the group who did not to vote has changed. See how many 'useless' individual voters as they probably are not adult. How come they do survey on them!**"
   ]
  },
  {
   "cell_type": "markdown",
   "metadata": {},
   "source": [
    "**In short, middle-aged voters are more willing to vote for Trump BOSS!**"
   ]
  },
  {
   "cell_type": "markdown",
   "metadata": {},
   "source": [
    "**C: Gender Descrimination**"
   ]
  },
  {
   "cell_type": "code",
   "execution_count": 51,
   "metadata": {},
   "outputs": [
    {
     "name": "stdout",
     "output_type": "stream",
     "text": [
      "['Yes, somewhat' 'Yes, very' 'No, not really' 'No, not at all']\n"
     ]
    }
   ],
   "source": [
    "print(us_data_bak['[question] gender_discrimination_importance'].unique())"
   ]
  },
  {
   "cell_type": "code",
   "execution_count": 52,
   "metadata": {
    "collapsed": true
   },
   "outputs": [],
   "source": [
    "GDE = us_data_bak.groupby(['[question] gender_discrimination_importance','[question] vote_for_in_us_election']).size().reset_index()"
   ]
  },
  {
   "cell_type": "code",
   "execution_count": 53,
   "metadata": {
    "collapsed": true
   },
   "outputs": [],
   "source": [
    "GDE.columns = ['Gender Descrimination Importance','Vote For Whom','Count']"
   ]
  },
  {
   "cell_type": "code",
   "execution_count": 54,
   "metadata": {
    "collapsed": true
   },
   "outputs": [],
   "source": [
    "gg = ggplot(GDE,aes(x='Gender Descrimination Importance',weight='Count'))+geom_bar()+facet_wrap('Vote For Whom')"
   ]
  },
  {
   "cell_type": "code",
   "execution_count": 55,
   "metadata": {},
   "outputs": [
    {
     "data": {
      "image/png": "[encoded data removed]",
      "text/plain": [
       "<matplotlib.figure.Figure at 0x7fba2c4a4b00>"
      ]
     },
     "metadata": {},
     "output_type": "display_data"
    },
    {
     "data": {
      "text/plain": [
       "<ggplot: (-9223363259505794009)>"
      ]
     },
     "execution_count": 55,
     "metadata": {},
     "output_type": "execute_result"
    }
   ],
   "source": [
    "gg"
   ]
  },
  {
   "cell_type": "markdown",
   "metadata": {},
   "source": [
    "**That says something. We can see that a lot of Trump's supporters do not really think that Gender Descrimination matters! In contrary, as the traditional political rockstar, Clinton's support does care about this issue.**"
   ]
  },
  {
   "cell_type": "code",
   "execution_count": 58,
   "metadata": {
    "collapsed": true
   },
   "outputs": [],
   "source": [
    "us_data_bak['Monthly_Income_Num'] = us_data_bak['[dem] income_net_monthly'].apply(lambda x:transfer_income(x))"
   ]
  },
  {
   "cell_type": "markdown",
   "metadata": {},
   "source": [
    "**D: Voter's idea about country's past and future**"
   ]
  },
  {
   "cell_type": "code",
   "execution_count": 69,
   "metadata": {},
   "outputs": [
    {
     "name": "stdout",
     "output_type": "stream",
     "text": [
      "['… get a little worse' \"Don't know\" '… get a little better'\n",
      " '… stay the same' '… get a lot better' '… get a lot worse']\n"
     ]
    }
   ],
   "source": [
    "print(us_data_bak['[dem] economy_country_next12months'].unique())"
   ]
  },
  {
   "cell_type": "code",
   "execution_count": 71,
   "metadata": {},
   "outputs": [
    {
     "name": "stdout",
     "output_type": "stream",
     "text": [
      "['… somewhat wrong' '… neither wrong nor right' '… very wrong'\n",
      " '… somewhat right' '… very right']\n"
     ]
    }
   ],
   "source": [
    "print(us_data_bak['[question] country_direction_past5years'].unique())"
   ]
  },
  {
   "cell_type": "code",
   "execution_count": 92,
   "metadata": {},
   "outputs": [],
   "source": [
    "def Score_PF(phase,term):\n",
    "    if phase =='Past':\n",
    "        if term == '… very wrong':\n",
    "            return -2\n",
    "        elif term == '… somewhat wrong':\n",
    "            return -1\n",
    "        elif term == '… neither wrong nor right':\n",
    "            return 0\n",
    "        elif term == '… somewhat right':\n",
    "            return 1\n",
    "        else:\n",
    "            return 2\n",
    "    else:\n",
    "        if term== '… get a lot worse':\n",
    "            return  -2\n",
    "        elif term == '… get a little worse':\n",
    "            return -1\n",
    "        elif term == '… get a little better':\n",
    "            return 1\n",
    "        elif term == '… get a lot better':\n",
    "            return 2\n",
    "        else:\n",
    "            return 0      "
   ]
  },
  {
   "cell_type": "code",
   "execution_count": 93,
   "metadata": {},
   "outputs": [],
   "source": [
    "PAF = us_data_bak.groupby(['[dem] economy_country_next12months','[question] country_direction_past5years','[question] vote_for_in_us_election']).size().reset_index()"
   ]
  },
  {
   "cell_type": "code",
   "execution_count": 94,
   "metadata": {
    "collapsed": true
   },
   "outputs": [],
   "source": [
    "PAF.columns = ['Future','Past','Vote for Whom','Count']"
   ]
  },
  {
   "cell_type": "code",
   "execution_count": 95,
   "metadata": {},
   "outputs": [],
   "source": [
    "PAF['Future_Score'] = PAF['Future'].apply(lambda x:Score_PF('Future',x))"
   ]
  },
  {
   "cell_type": "code",
   "execution_count": 96,
   "metadata": {
    "collapsed": true
   },
   "outputs": [],
   "source": [
    "PAF['Past_Score'] = PAF['Past'].apply(lambda x:Score_PF('Past',x))"
   ]
  },
  {
   "cell_type": "code",
   "execution_count": 99,
   "metadata": {},
   "outputs": [],
   "source": [
    "gg = ggplot(PAF,aes(x='Future_Score',y='Past_Score'))+geom_point(aes(size='Count'))+facet_wrap('Vote for Whom')"
   ]
  },
  {
   "cell_type": "code",
   "execution_count": 100,
   "metadata": {},
   "outputs": [
    {
     "data": {
      "image/png": "[encoded data removed]",
      "text/plain": [
       "<matplotlib.figure.Figure at 0x7fba2c28c2e8>"
      ]
     },
     "metadata": {},
     "output_type": "display_data"
    },
    {
     "data": {
      "text/plain": [
       "<ggplot: (-9223363259506325525)>"
      ]
     },
     "execution_count": 100,
     "metadata": {},
     "output_type": "execute_result"
    }
   ],
   "source": [
    "gg"
   ]
  },
  {
   "cell_type": "markdown",
   "metadata": {},
   "source": [
    "**Let's first put some explanations on the scoring system. Either Past or future, larger scores represent more positive attitude. So we can see that, Trump's supporters are gonna have a negative attitude for the past five years, but are quite confident about the future. Hillary, on the other hands, has the supporters who are ok with the past but not the future. So they want to stay the same.**"
   ]
  },
  {
   "cell_type": "markdown",
   "metadata": {},
   "source": [
    "**E: People's employment status and Wordview**"
   ]
  },
  {
   "cell_type": "code",
   "execution_count": 117,
   "metadata": {},
   "outputs": [],
   "source": [
    "def employ_score(text):\n",
    "    if text=='Not employed, currently NOT looking for work':\n",
    "        return 'No Work No Look'\n",
    "    elif text == 'Not employed, currently looking for work':\n",
    "        return 'No Work Look'\n",
    "    elif text == 'Disabled, not able to work':\n",
    "        return 'No Work Ability'\n",
    "    elif text == 'Self\\xad-employed / Freelancer':\n",
    "        return 'FreeLancer'\n",
    "    elif text == 'Employed, working 1 to \\xad29 hours per week':\n",
    "        return '1-29 Hrs'\n",
    "    elif text == 'Employed, working 30 or more hours per week':\n",
    "        return '30+ Hrs'\n",
    "    elif text == 'In school, university or practical training':\n",
    "        return 'Student'\n",
    "    elif text == 'Entrepreneur / Employer':\n",
    "        return 'Employer'\n",
    "    else:\n",
    "        return 'Unknown'"
   ]
  },
  {
   "cell_type": "code",
   "execution_count": 119,
   "metadata": {
    "collapsed": true
   },
   "outputs": [],
   "source": [
    "def wordview(text):\n",
    "    if text == 'Our lives are threatened by terrorists, criminals, and immigrants and our priority should be to protect ourselves.':\n",
    "        return 'Negative'\n",
    "    else:\n",
    "        return 'Positive'"
   ]
  },
  {
   "cell_type": "code",
   "execution_count": 184,
   "metadata": {},
   "outputs": [
    {
     "data": {
      "text/plain": [
       "array(['Donald Trump', 'Hillary Clinton', 'I did not vote',\n",
       "       'Other candidate'], dtype=object)"
      ]
     },
     "execution_count": 184,
     "metadata": {},
     "output_type": "execute_result"
    }
   ],
   "source": [
    "ESW['Vote for Whom'].unique()"
   ]
  },
  {
   "cell_type": "code",
   "execution_count": 185,
   "metadata": {
    "collapsed": true
   },
   "outputs": [],
   "source": [
    "def Name_Trans(name):\n",
    "    if name=='Donald Trump':\n",
    "        return 'DT'\n",
    "    elif name=='Hillary Clinton':\n",
    "        return 'HC'\n",
    "    elif name =='I did not vote':\n",
    "        return 'ID'\n",
    "    else:\n",
    "        return 'Others'"
   ]
  },
  {
   "cell_type": "code",
   "execution_count": 103,
   "metadata": {
    "collapsed": true
   },
   "outputs": [],
   "source": [
    "ESW = us_data_bak.groupby(['[dem] employment_status','[question] worldview','[question] vote_for_in_us_election']).size().reset_index()"
   ]
  },
  {
   "cell_type": "code",
   "execution_count": 107,
   "metadata": {},
   "outputs": [],
   "source": [
    "ESW.columns = ['Employment_Status','World_View','Vote for Whom','Count']"
   ]
  },
  {
   "cell_type": "code",
   "execution_count": 120,
   "metadata": {
    "collapsed": true
   },
   "outputs": [],
   "source": [
    "ESW['Employment'] = ESW['Employment_Status'].apply(lambda x:employ_score(x))"
   ]
  },
  {
   "cell_type": "code",
   "execution_count": 121,
   "metadata": {
    "collapsed": true
   },
   "outputs": [],
   "source": [
    "ESW['WorldView'] = ESW['World_View'].apply(lambda x:wordview(x))"
   ]
  },
  {
   "cell_type": "code",
   "execution_count": 128,
   "metadata": {},
   "outputs": [],
   "source": [
    "gg = ggplot(ESW,aes(x='Vote for Whom',weight='Count'))+geom_bar()+facet_wrap('WorldView')"
   ]
  },
  {
   "cell_type": "code",
   "execution_count": 129,
   "metadata": {},
   "outputs": [
    {
     "data": {
      "image/png": "[encoded data removed]",
      "text/plain": [
       "<matplotlib.figure.Figure at 0x7fba2809f0b8>"
      ]
     },
     "metadata": {},
     "output_type": "display_data"
    },
    {
     "data": {
      "text/plain": [
       "<ggplot: (-9223363259510251744)>"
      ]
     },
     "execution_count": 129,
     "metadata": {},
     "output_type": "execute_result"
    }
   ],
   "source": [
    "gg"
   ]
  },
  {
   "cell_type": "code",
   "execution_count": 186,
   "metadata": {
    "collapsed": true
   },
   "outputs": [],
   "source": [
    "ESW['Vote for Whom Abbr']=ESW['Vote for Whom'].apply(lambda x:Name_Trans(x))"
   ]
  },
  {
   "cell_type": "code",
   "execution_count": 187,
   "metadata": {
    "collapsed": true
   },
   "outputs": [],
   "source": [
    "gg = ggplot(ESW,aes(x='Vote for Whom Abbr',weight='Count'))+geom_bar()+facet_wrap('Employment')"
   ]
  },
  {
   "cell_type": "code",
   "execution_count": 188,
   "metadata": {},
   "outputs": [
    {
     "data": {
      "image/png": "[encoded data removed]",
      "text/plain": [
       "<matplotlib.figure.Figure at 0x7fba23a28940>"
      ]
     },
     "metadata": {},
     "output_type": "display_data"
    },
    {
     "data": {
      "text/plain": [
       "<ggplot: (8777338963299)>"
      ]
     },
     "execution_count": 188,
     "metadata": {},
     "output_type": "execute_result"
    }
   ],
   "source": [
    "gg"
   ]
  },
  {
   "cell_type": "markdown",
   "metadata": {},
   "source": [
    "**Trump's supporters are mostly have negative attitiude against immigrants. ALso, Student are more likely to support Clinton, while many people who support Trump will not always have a stable job.**"
   ]
  },
  {
   "cell_type": "markdown",
   "metadata": {},
   "source": [
    "## 3. Short Conclusion"
   ]
  },
  {
   "cell_type": "markdown",
   "metadata": {},
   "source": [
    "This analysis is quite quick and dirty... Suitable for a event like recruitment. Overall pipeline: Data loading and transformation --- ML for feature seletion ---EDA for visualization and analysis. Maybe a good pipeline for a quite wide data set with many variables yet no time to go through them one by one."
   ]
  },
  {
   "cell_type": "code",
   "execution_count": null,
   "metadata": {
    "collapsed": true
   },
   "outputs": [],
   "source": []
  }
 ],
 "metadata": {
  "kernelspec": {
   "display_name": "Python 3",
   "language": "python",
   "name": "python3"
  },
  "language_info": {
   "codemirror_mode": {
    "name": "ipython",
    "version": 3
   },
   "file_extension": ".py",
   "mimetype": "text/x-python",
   "name": "python",
   "nbconvert_exporter": "python",
   "pygments_lexer": "ipython3",
   "version": "3.5.2"
  }
 },
 "nbformat": 4,
 "nbformat_minor": 2
}
