{
 "cells": [
  {
   "cell_type": "code",
   "execution_count": 1,
   "metadata": {
    "collapsed": true
   },
   "outputs": [],
   "source": [
    "def get_xgb_stack_data(params,rounds,train,col,label):\n",
    "    train = train.reset_index(drop=True)\n",
    "    kf = KFold(n_splits=5,shuffle=False)\n",
    "    i=0\n",
    "    for train_index, test_index in kf.split(train):\n",
    "        print(\"TRAIN:\", train_index, \"TEST:\", test_index)\n",
    "        X_train, X_test = train.iloc[train_index,:], train.iloc[test_index,:]\n",
    "        y_train, y_test = label[train_index],label[test_index]\n",
    "        dtrain = xgb.DMatrix(X_train[col],y_train)\n",
    "        dtest = xgb.DMatrix(X_test[col])\n",
    "        model = xgb.train(params,dtrain,num_boost_round=rounds)\n",
    "        pred = model.predict(dtest)\n",
    "        X_test['label'] = y_test\n",
    "        X_test['predicted'] = pred\n",
    "        if i==0:\n",
    "            Final = X_test\n",
    "        else:\n",
    "            Final = Final.append(X_test,ignore_index=True)\n",
    "        i+=1\n",
    "    return Final"
   ]
  },
  {
   "cell_type": "code",
   "execution_count": 2,
   "metadata": {
    "collapsed": true
   },
   "outputs": [],
   "source": [
    "def get_sklearn_stack_data(model,train,col,label):\n",
    "    train = train.reset_index(drop=True)\n",
    "    kf = KFold(n_splits=5,shuffle=False)\n",
    "    i=0\n",
    "    for train_index, test_index in kf.split(train):\n",
    "        print(\"TRAIN:\", train_index, \"TEST:\", test_index)\n",
    "        X_train, X_test = train.iloc[train_index,:], train.iloc[test_index,:]\n",
    "        y_train, y_test = label[train_index],label[test_index]\n",
    "        model.fit(X_train[col],y_train)\n",
    "        pred = model.predict(X_test)\n",
    "        X_test['label'] = y_test\n",
    "        X_test['predicted'] = pred\n",
    "        if i==0:\n",
    "            Final = X_test\n",
    "        else:\n",
    "            Final = Final.append(X_test,ignore_index=True)\n",
    "        i+=1\n",
    "    return Final"
   ]
  },
  {
   "cell_type": "code",
   "execution_count": 3,
   "metadata": {
    "collapsed": true
   },
   "outputs": [],
   "source": [
    "def get_additional_features(train,test,macro):\n",
    "    # Add month-year\n",
    "    train['timestamp'] = pd.to_datetime(train['timestamp'])\n",
    "    month_year = (train.timestamp.dt.month + train.timestamp.dt.year * 100)\n",
    "    month_year_cnt_map = month_year.value_counts().to_dict()\n",
    "    train['month_year_cnt'] = month_year.map(month_year_cnt_map)\n",
    "    test['timestamp'] = pd.to_datetime(test['timestamp'])\n",
    "    month_year = (test.timestamp.dt.month + test.timestamp.dt.year * 100)\n",
    "    month_year_cnt_map = month_year.value_counts().to_dict()\n",
    "    test['month_year_cnt'] = month_year.map(month_year_cnt_map)\n",
    "    # Add week-year count\n",
    "    week_year = (train.timestamp.dt.weekofyear + train.timestamp.dt.year * 100)\n",
    "    week_year_cnt_map = week_year.value_counts().to_dict()\n",
    "    train['week_year_cnt'] = week_year.map(week_year_cnt_map)\n",
    "    week_year = (test.timestamp.dt.weekofyear + test.timestamp.dt.year * 100)\n",
    "    week_year_cnt_map = week_year.value_counts().to_dict()\n",
    "    test['week_year_cnt'] = week_year.map(week_year_cnt_map)\n",
    "    # Add month and day-of-week\n",
    "    train['month'] = train.timestamp.dt.month\n",
    "    train['dow'] = train.timestamp.dt.dayofweek\n",
    "    test['month'] = test.timestamp.dt.month\n",
    "    test['dow'] = test.timestamp.dt.dayofweek\n",
    "    # Other feature engineering\n",
    "    train['rel_floor'] = train['floor'] / train['max_floor'].astype(float)\n",
    "    train['rel_kitch_sq'] = train['kitch_sq'] / train['full_sq'].astype(float)\n",
    "    test['rel_floor'] = test['floor'] / test['max_floor'].astype(float)\n",
    "    test['rel_kitch_sq'] = test['kitch_sq'] / test['full_sq'].astype(float)\n",
    "    train.apartment_name=train.sub_area.astype(str) + train['metro_km_avto'].astype(str)\n",
    "    test.apartment_name=test.sub_area.astype(str) + train['metro_km_avto'].astype(str)\n",
    "    train['room_size'] = train['life_sq'] / train['num_room'].astype(float)\n",
    "    test['room_size'] = test['life_sq'] / test['num_room'].astype(float)\n",
    "    macro_cols = ['timestamp',\"balance_trade\", \"balance_trade_growth\", \"eurrub\", \"average_provision_of_build_contract\",\n",
    "    \"micex_rgbi_tr\", \"micex_cbi_tr\", \"deposits_rate\", \"mortgage_value\", \"mortgage_rate\",\n",
    "    \"income_per_cap\", \"rent_price_4+room_bus\", \"museum_visitis_per_100_cap\", \"apartment_build\"]\n",
    "    macro = macro[macro_cols]\n",
    "    train = train.merge(macro,how='left',on='timestamp')\n",
    "    test = test.merge(macro,how='left',on='timestamp')\n",
    "    def get_ratio_preschool(df):\n",
    "        df['ratio_preschool'] = df['children_preschool'] / (df['children_school'] + 1)\n",
    "        return df\n",
    "\n",
    "    train = get_ratio_preschool(train)\n",
    "    test = get_ratio_preschool(test)\n",
    "\n",
    "    def get_extra_area(df):\n",
    "        df['extra_area'] = df['full_sq'] - df['life_sq']\n",
    "        return df\n",
    "\n",
    "    train = get_extra_area(train)\n",
    "    test = get_extra_area(test)\n",
    "\n",
    "    def get_floor_ratio(df):\n",
    "        df['floor_ratio'] = df['max_floor'] - df['floor']\n",
    "        return df\n",
    "\n",
    "    train = get_floor_ratio(train)\n",
    "    test = get_floor_ratio(test)\n",
    "\n",
    "    def get_room_avg_size(df):\n",
    "        df['room_avg_size'] = (df['life_sq'] - df['kitch_sq']) / (df['num_room'] + 1)\n",
    "        return df\n",
    "\n",
    "    train = get_room_avg_size(train)\n",
    "    test = get_room_avg_size(test)\n",
    "    return train,test"
   ]
  }
 ],
 "metadata": {
  "kernelspec": {
   "display_name": "Python 3",
   "language": "python",
   "name": "python3"
  },
  "language_info": {
   "codemirror_mode": {
    "name": "ipython",
    "version": 3
   },
   "file_extension": ".py",
   "mimetype": "text/x-python",
   "name": "python",
   "nbconvert_exporter": "python",
   "pygments_lexer": "ipython3",
   "version": "3.5.2"
  }
 },
 "nbformat": 4,
 "nbformat_minor": 2
}
