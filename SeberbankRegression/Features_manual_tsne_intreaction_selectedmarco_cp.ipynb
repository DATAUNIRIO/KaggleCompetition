{
 "cells": [
  {
   "cell_type": "code",
   "execution_count": 2,
   "metadata": {},
   "outputs": [],
   "source": [
    "import pandas as pd\n",
    "import numpy as np\n",
    "import xgboost as xgb\n",
    "from ggplot import *\n",
    "import matplotlib.pyplot as plt\n",
    "import seaborn as sns\n",
    "%matplotlib inline"
   ]
  },
  {
   "cell_type": "code",
   "execution_count": 16,
   "metadata": {},
   "outputs": [],
   "source": [
    "train = pd.read_csv('train_c.csv')\n",
    "test = pd.read_csv('test_c.csv')"
   ]
  },
  {
   "cell_type": "markdown",
   "metadata": {},
   "source": [
    "# Current best result. No other feature"
   ]
  },
  {
   "cell_type": "code",
   "execution_count": 33,
   "metadata": {},
   "outputs": [
    {
     "name": "stdout",
     "output_type": "stream",
     "text": [
      "[0]\ttrain-rmse:7.7958e+06\ttest-rmse:7.80037e+06\n",
      "[50]\ttrain-rmse:2.39694e+06\ttest-rmse:2.76631e+06\n",
      "[100]\ttrain-rmse:2.07912e+06\ttest-rmse:2.59791e+06\n",
      "[150]\ttrain-rmse:1.97156e+06\ttest-rmse:2.56523e+06\n",
      "[200]\ttrain-rmse:1.89038e+06\ttest-rmse:2.54726e+06\n",
      "[250]\ttrain-rmse:1.82037e+06\ttest-rmse:2.53597e+06\n",
      "[300]\ttrain-rmse:1.76422e+06\ttest-rmse:2.53101e+06\n",
      "[350]\ttrain-rmse:1.7127e+06\ttest-rmse:2.52498e+06\n",
      "Performance does not improve from 372 rounds\n"
     ]
    },
    {
     "data": {
      "image/png": "[encoded data removed]",
      "text/plain": [
       "<matplotlib.figure.Figure at 0x10fd39990>"
      ]
     },
     "metadata": {},
     "output_type": "display_data"
    }
   ],
   "source": [
    "# params = {\n",
    "#     'eta': 0.05, ## Try 0.01,3,5\n",
    "#     'max_depth': 5,## Try 4,5,6\n",
    "#     'subsample': 0.7,\n",
    "#     'colsample_bytree': 0.7,\n",
    "#     'objective': 'reg:linear',\n",
    "#     'eval_metric': 'rmse',\n",
    "#     'silent': 1\n",
    "# }\n",
    "# xgb_cvalid = xgb.cv(params, dtrain, num_boost_round=1000, early_stopping_rounds=20,\n",
    "#     verbose_eval=50, show_stdv=False,seed=42)\n",
    "# xgb_cvalid[['train-rmse-mean', 'test-rmse-mean']].plot()\n",
    "# print('Performance does not improve from '+str(len(xgb_cvalid))+' rounds')"
   ]
  },
  {
   "cell_type": "markdown",
   "metadata": {},
   "source": [
    "# Add hand made feature, and tsne"
   ]
  },
  {
   "cell_type": "code",
   "execution_count": 17,
   "metadata": {
    "collapsed": true
   },
   "outputs": [],
   "source": [
    "def get_ratio_preschool(df):\n",
    "    df['ratio_preschool'] = df['children_preschool'] / (df['children_school'] + 1)\n",
    "    return df\n",
    "\n",
    "train = get_ratio_preschool(train)\n",
    "test = get_ratio_preschool(test)"
   ]
  },
  {
   "cell_type": "code",
   "execution_count": 18,
   "metadata": {
    "collapsed": true
   },
   "outputs": [],
   "source": [
    "def get_extra_area(df):\n",
    "    df['extra_area'] = df['full_sq'] - df['life_sq']\n",
    "    return df\n",
    "\n",
    "train = get_extra_area(train)\n",
    "test = get_extra_area(test)"
   ]
  },
  {
   "cell_type": "code",
   "execution_count": 19,
   "metadata": {
    "collapsed": true
   },
   "outputs": [],
   "source": [
    "def get_floor_ratio(df):\n",
    "    df['floor_ratio'] = df['max_floor'] - df['floor']\n",
    "    return df\n",
    "\n",
    "train = get_floor_ratio(train)\n",
    "test = get_floor_ratio(test)"
   ]
  },
  {
   "cell_type": "code",
   "execution_count": 20,
   "metadata": {
    "collapsed": true
   },
   "outputs": [],
   "source": [
    "def get_room_avg_size(df):\n",
    "    df['room_avg_size'] = (df['life_sq'] - df['kitch_sq']) / (df['num_room'] + 1)\n",
    "    return df\n",
    "\n",
    "train = get_room_avg_size(train)\n",
    "test = get_room_avg_size(test)"
   ]
  },
  {
   "cell_type": "code",
   "execution_count": 21,
   "metadata": {
    "collapsed": true
   },
   "outputs": [],
   "source": [
    "tsne_results = np.load('tsne_all.npy')\n",
    "train['tsne_1'] = tsne_results[:train.shape[0],0]\n",
    "train['tsne_2'] = tsne_results[:train.shape[0],1]\n",
    "test['tsne_1'] = tsne_results[train.shape[0]:,0]\n",
    "test['tsne_2'] = tsne_results[train.shape[0]:,1]"
   ]
  },
  {
   "cell_type": "code",
   "execution_count": 22,
   "metadata": {
    "collapsed": true
   },
   "outputs": [],
   "source": [
    "df_kremlin = pd.read_csv('subarea_from_kremlin.csv')\n",
    "df_kremlin = df_kremlin[['sub_area', 'distance_from_kremlin']]"
   ]
  },
  {
   "cell_type": "code",
   "execution_count": 23,
   "metadata": {},
   "outputs": [],
   "source": [
    "train_raw = pd.read_csv('train.csv')\n",
    "test_raw = pd.read_csv('test.csv')\n",
    "train_raw = pd.merge(train_raw, df_kremlin,how='left', on='sub_area')\n",
    "test_raw = pd.merge(test_raw, df_kremlin,how='left', on='sub_area')\n",
    "train['distance_from_kremlin'] = train_raw['distance_from_kremlin']\n",
    "test['distance_from_kremlin'] = test_raw['distance_from_kremlin']"
   ]
  },
  {
   "cell_type": "markdown",
   "metadata": {},
   "source": [
    "## Add macro features"
   ]
  },
  {
   "cell_type": "code",
   "execution_count": 24,
   "metadata": {},
   "outputs": [],
   "source": [
    "macro_cols = [\"balance_trade\", \"balance_trade_growth\", \"eurrub\", \"average_provision_of_build_contract\",\n",
    "\"micex_rgbi_tr\", \"micex_cbi_tr\", \"deposits_rate\", \"mortgage_value\", \"mortgage_rate\",\n",
    "\"income_per_cap\", \"rent_price_4+room_bus\", \"museum_visitis_per_100_cap\", \"apartment_build\"]\n",
    "\n",
    "df_macro = pd.read_csv(\"macro_c.csv\",  usecols=['timestamp'] + macro_cols)\n",
    "\n",
    "train = pd.merge_ordered(train, df_macro, on='timestamp', how='left')\n",
    "test = pd.merge_ordered(test, df_macro, on='timestamp', how='left')"
   ]
  },
  {
   "cell_type": "markdown",
   "metadata": {},
   "source": [
    "# data cleaning accoring to https://www.kaggle.com/gunjaagarwal/final-xgboost-try/code"
   ]
  },
  {
   "cell_type": "code",
   "execution_count": 30,
   "metadata": {},
   "outputs": [],
   "source": [
    "bad_index = train[train.life_sq > train.full_sq].index\n",
    "train.ix[bad_index, \"life_sq\"] = np.NaN\n",
    "\n",
    "# equal_index = [601,1896,2791]\n",
    "# test.ix[equal_index, \"life_sq\"] = test.ix[equal_index, \"full_sq\"]\n",
    "\n",
    "bad_index = test[test.life_sq > test.full_sq].index\n",
    "test.ix[bad_index, \"life_sq\"] = np.NaN"
   ]
  },
  {
   "cell_type": "code",
   "execution_count": 29,
   "metadata": {
    "collapsed": true
   },
   "outputs": [],
   "source": [
    "bad_index = train[train.life_sq < 5].index\n",
    "train.ix[bad_index, \"life_sq\"] = np.NaN\n",
    "bad_index = test[test.life_sq < 5].index\n",
    "test.ix[bad_index, \"life_sq\"] = np.NaN\n",
    "\n",
    "bad_index = train[train.full_sq < 5].index\n",
    "train.ix[bad_index, \"full_sq\"] = np.NaN\n",
    "bad_index = test[test.full_sq < 5].index\n",
    "test.ix[bad_index, \"full_sq\"] = np.NaN"
   ]
  },
  {
   "cell_type": "code",
   "execution_count": 31,
   "metadata": {
    "collapsed": true
   },
   "outputs": [],
   "source": [
    "# kitch_is_build_year = [13117]\n",
    "# train.ix[kitch_is_build_year, \"build_year\"] = train.ix[kitch_is_build_year, \"kitch_sq\"]"
   ]
  },
  {
   "cell_type": "code",
   "execution_count": 32,
   "metadata": {
    "collapsed": true
   },
   "outputs": [],
   "source": [
    "bad_index = train[train.kitch_sq >= train.life_sq].index\n",
    "train.ix[bad_index, \"kitch_sq\"] = np.NaN\n",
    "bad_index = test[test.kitch_sq >= test.life_sq].index\n",
    "test.ix[bad_index, \"kitch_sq\"] = np.NaN"
   ]
  },
  {
   "cell_type": "code",
   "execution_count": 33,
   "metadata": {
    "collapsed": true
   },
   "outputs": [],
   "source": [
    "bad_index = train[(train.kitch_sq == 0).values + (train.kitch_sq == 1).values].index\n",
    "train.ix[bad_index, \"kitch_sq\"] = np.NaN\n",
    "bad_index = test[(test.kitch_sq == 0).values + (test.kitch_sq == 1).values].index\n",
    "test.ix[bad_index, \"kitch_sq\"] = np.NaN"
   ]
  },
  {
   "cell_type": "code",
   "execution_count": 34,
   "metadata": {
    "collapsed": true
   },
   "outputs": [],
   "source": [
    "bad_index = train[(train.full_sq > 210) & (train.life_sq / train.full_sq < 0.3)].index\n",
    "train.ix[bad_index, \"full_sq\"] = np.NaN\n",
    "bad_index = test[(test.full_sq > 150) & (test.life_sq / test.full_sq < 0.3)].index\n",
    "test.ix[bad_index, \"full_sq\"] = np.NaN"
   ]
  },
  {
   "cell_type": "code",
   "execution_count": 35,
   "metadata": {
    "collapsed": true
   },
   "outputs": [],
   "source": [
    "bad_index = train[train.life_sq > 300].index\n",
    "train.ix[bad_index, [\"life_sq\", \"full_sq\"]] = np.NaN\n",
    "bad_index = test[test.life_sq > 200].index\n",
    "test.ix[bad_index, [\"life_sq\", \"full_sq\"]] = np.NaN"
   ]
  },
  {
   "cell_type": "code",
   "execution_count": 36,
   "metadata": {},
   "outputs": [
    {
     "data": {
      "text/plain": [
       "0    0.638246\n",
       "1    0.361754\n",
       "Name: product_type, dtype: float64"
      ]
     },
     "execution_count": 36,
     "metadata": {},
     "output_type": "execute_result"
    }
   ],
   "source": [
    "train.product_type.value_counts(normalize= True)"
   ]
  },
  {
   "cell_type": "code",
   "execution_count": 37,
   "metadata": {},
   "outputs": [
    {
     "data": {
      "text/plain": [
       " 0    0.652310\n",
       " 1    0.343383\n",
       "-1    0.004307\n",
       "Name: product_type, dtype: float64"
      ]
     },
     "execution_count": 37,
     "metadata": {},
     "output_type": "execute_result"
    }
   ],
   "source": [
    "test.product_type.value_counts(normalize= True)"
   ]
  },
  {
   "cell_type": "code",
   "execution_count": 38,
   "metadata": {
    "collapsed": true
   },
   "outputs": [],
   "source": [
    "bad_index = train[train.build_year < 1500].index\n",
    "train.ix[bad_index, \"build_year\"] = np.NaN\n",
    "bad_index = test[test.build_year < 1500].index\n",
    "test.ix[bad_index, \"build_year\"] = np.NaN"
   ]
  },
  {
   "cell_type": "code",
   "execution_count": 39,
   "metadata": {
    "collapsed": true
   },
   "outputs": [],
   "source": [
    "bad_index = train[train.num_room == 0].index \n",
    "train.ix[bad_index, \"num_room\"] = np.NaN\n",
    "bad_index = test[test.num_room == 0].index \n",
    "test.ix[bad_index, \"num_room\"] = np.NaN"
   ]
  },
  {
   "cell_type": "code",
   "execution_count": 40,
   "metadata": {
    "collapsed": true
   },
   "outputs": [],
   "source": [
    "# bad_index = [10076, 11621, 17764, 19390, 24007, 26713, 29172]\n",
    "# train.ix[bad_index, \"num_room\"] = np.NaN\n",
    "# bad_index = [3174, 7313]\n",
    "# test.ix[bad_index, \"num_room\"] = np.NaN"
   ]
  },
  {
   "cell_type": "code",
   "execution_count": 41,
   "metadata": {
    "collapsed": true
   },
   "outputs": [],
   "source": [
    "bad_index = train[(train.floor == 0).values * (train.max_floor == 0).values].index\n",
    "train.ix[bad_index, [\"max_floor\", \"floor\"]] = np.NaN\n",
    "bad_index = train[train.floor == 0].index\n",
    "train.ix[bad_index, \"floor\"] = np.NaN\n",
    "bad_index = train[train.max_floor == 0].index\n",
    "train.ix[bad_index, \"max_floor\"] = np.NaN\n",
    "bad_index = test[test.max_floor == 0].index\n",
    "test.ix[bad_index, \"max_floor\"] = np.NaN\n",
    "bad_index = train[train.floor > train.max_floor].index\n",
    "train.ix[bad_index, \"max_floor\"] = np.NaN\n",
    "bad_index = test[test.floor > test.max_floor].index\n",
    "test.ix[bad_index, \"max_floor\"] = np.NaN"
   ]
  },
  {
   "cell_type": "code",
   "execution_count": 42,
   "metadata": {},
   "outputs": [
    {
     "data": {
      "text/plain": [
       "count     30295.000000\n",
       "mean          7.673081\n",
       "std           5.319135\n",
       "min           1.000000\n",
       "50%           7.000000\n",
       "99.99%       40.911800\n",
       "max          77.000000\n",
       "Name: floor, dtype: float64"
      ]
     },
     "execution_count": 42,
     "metadata": {},
     "output_type": "execute_result"
    }
   ],
   "source": [
    "train.floor.describe(percentiles= [0.9999])"
   ]
  },
  {
   "cell_type": "code",
   "execution_count": 43,
   "metadata": {},
   "outputs": [],
   "source": [
    "# bad_index = [23584]\n",
    "# train.ix[bad_index, \"floor\"] = np.NaN"
   ]
  },
  {
   "cell_type": "code",
   "execution_count": 44,
   "metadata": {},
   "outputs": [
    {
     "data": {
      "text/plain": [
       "2.0    2662\n",
       "1.0    2266\n",
       "3.0    1913\n",
       "4.0     127\n",
       "Name: state, dtype: int64"
      ]
     },
     "execution_count": 44,
     "metadata": {},
     "output_type": "execute_result"
    }
   ],
   "source": [
    "train.material.value_counts()\n",
    "test.material.value_counts()\n",
    "train.state.value_counts()\n",
    "bad_index = train[train.state == 33].index\n",
    "train.ix[bad_index, \"state\"] = np.NaN\n",
    "test.state.value_counts()"
   ]
  },
  {
   "cell_type": "code",
   "execution_count": 45,
   "metadata": {
    "collapsed": true
   },
   "outputs": [],
   "source": [
    "# brings error down a lot by removing extreme price per sqm\n",
    "train.loc[train.full_sq == 0, 'full_sq'] = 50\n",
    "train = train[train.price_doc/train.full_sq <= 600000]\n",
    "train = train[train.price_doc/train.full_sq >= 10000]"
   ]
  },
  {
   "cell_type": "code",
   "execution_count": 48,
   "metadata": {},
   "outputs": [],
   "source": [
    "# Add month-year\n",
    "train['timestamp'] = pd.to_datetime(train['timestamp'])\n",
    "month_year = (train.timestamp.dt.month + train.timestamp.dt.year * 100)\n",
    "month_year_cnt_map = month_year.value_counts().to_dict()\n",
    "train['month_year_cnt'] = month_year.map(month_year_cnt_map)\n",
    "\n",
    "test['timestamp'] = pd.to_datetime(test['timestamp'])\n",
    "month_year = (test.timestamp.dt.month + test.timestamp.dt.year * 100)\n",
    "month_year_cnt_map = month_year.value_counts().to_dict()\n",
    "test['month_year_cnt'] = month_year.map(month_year_cnt_map)"
   ]
  },
  {
   "cell_type": "code",
   "execution_count": 49,
   "metadata": {},
   "outputs": [],
   "source": [
    "# Add week-year count\n",
    "week_year = (train.timestamp.dt.weekofyear + train.timestamp.dt.year * 100)\n",
    "week_year_cnt_map = week_year.value_counts().to_dict()\n",
    "train['week_year_cnt'] = week_year.map(week_year_cnt_map)\n",
    "\n",
    "week_year = (test.timestamp.dt.weekofyear + test.timestamp.dt.year * 100)\n",
    "week_year_cnt_map = week_year.value_counts().to_dict()\n",
    "test['week_year_cnt'] = week_year.map(week_year_cnt_map)"
   ]
  },
  {
   "cell_type": "code",
   "execution_count": 50,
   "metadata": {
    "collapsed": true
   },
   "outputs": [],
   "source": [
    "# Add month and day-of-week\n",
    "train['month'] = train.timestamp.dt.month\n",
    "train['dow'] = train.timestamp.dt.dayofweek\n",
    "\n",
    "test['month'] = test.timestamp.dt.month\n",
    "test['dow'] = test.timestamp.dt.dayofweek"
   ]
  },
  {
   "cell_type": "code",
   "execution_count": 52,
   "metadata": {},
   "outputs": [],
   "source": [
    "# Other feature engineering\n",
    "train['rel_floor'] = train['floor'] / train['max_floor'].astype(float)\n",
    "train['rel_kitch_sq'] = train['kitch_sq'] / train['full_sq'].astype(float)\n",
    "\n",
    "test['rel_floor'] = test['floor'] / test['max_floor'].astype(float)\n",
    "test['rel_kitch_sq'] = test['kitch_sq'] / test['full_sq'].astype(float)\n",
    "\n",
    "train.apartment_name=train.sub_area.astype(str) + train['metro_km_avto'].astype(str)\n",
    "test.apartment_name=test.sub_area.astype(str) + train['metro_km_avto'].astype(str)\n",
    "\n",
    "train['room_size'] = train['life_sq'] / train['num_room'].astype(float)\n",
    "test['room_size'] = test['life_sq'] / test['num_room'].astype(float)"
   ]
  },
  {
   "cell_type": "markdown",
   "metadata": {},
   "source": [
    "# Add interaction feature of top 10 features"
   ]
  },
  {
   "cell_type": "code",
   "execution_count": 91,
   "metadata": {
    "scrolled": true
   },
   "outputs": [
    {
     "data": {
      "text/plain": [
       "['full_sq',\n",
       " 'life_sq',\n",
       " 'extra_area',\n",
       " 'floor',\n",
       " 'build_year',\n",
       " 'max_floor',\n",
       " 'rel_kitch_sq',\n",
       " 'micex_cbi_tr',\n",
       " 'eurrub',\n",
       " 'kitch_sq',\n",
       " 'micex_rgbi_tr',\n",
       " 'tsne_1',\n",
       " 'kindergarten_km',\n",
       " 'state',\n",
       " 'room_avg_size',\n",
       " 'floor_ratio',\n",
       " 'hospice_morgue_km',\n",
       " 'railroad_km',\n",
       " 'num_room',\n",
       " 'room_size',\n",
       " 'balance_trade',\n",
       " 'mosque_km',\n",
       " 'school_km',\n",
       " 'public_healthcare_km',\n",
       " 'radiation_km',\n",
       " 'tsne_2',\n",
       " 'green_zone_km',\n",
       " 'workplaces_km',\n",
       " 'cemetery_km',\n",
       " 'theater_km',\n",
       " 'build_year']"
      ]
     },
     "execution_count": 91,
     "metadata": {},
     "output_type": "execute_result"
    }
   ],
   "source": [
    "N = 30\n",
    "topN_features = get_feature_importance(model).Feature.tolist()[:N] + ['build_year']\n",
    "topN_features"
   ]
  },
  {
   "cell_type": "code",
   "execution_count": 92,
   "metadata": {},
   "outputs": [],
   "source": [
    "from sklearn import preprocessing\n",
    "for f in topN_features:\n",
    "    train['norm_'+f] = (train[f] - train[f].min())/(train[f].max() - train[f].min())\n",
    "    test['norm_'+f] = (test[f] - test[f].min())/(test[f].max() - test[f].min())"
   ]
  },
  {
   "cell_type": "code",
   "execution_count": 95,
   "metadata": {},
   "outputs": [],
   "source": [
    "import itertools\n",
    "for f_1, f_2 in itertools.combinations(topN_features, 2):\n",
    "    train['x_'+f_1+'_'+f_2] = train['norm_'+f_1] * train['norm_'+f_2]\n",
    "    test['x_'+f_1+'_'+f_2] = test['norm_'+f_1] * test['norm_'+f_2]"
   ]
  },
  {
   "cell_type": "code",
   "execution_count": 96,
   "metadata": {},
   "outputs": [],
   "source": [
    "norm_feature_name_list = ['norm_'+f for f in topN_features]\n",
    "train = train.drop(norm_feature_name_list, axis=1)\n",
    "test = test.drop(norm_feature_name_list, axis=1)"
   ]
  },
  {
   "cell_type": "markdown",
   "metadata": {},
   "source": [
    "## only keep `x_` feature in top 100"
   ]
  },
  {
   "cell_type": "code",
   "execution_count": 113,
   "metadata": {},
   "outputs": [
    {
     "name": "stdout",
     "output_type": "stream",
     "text": [
      "109\n",
      "['x_full_sq_extra_area', 'x_full_sq_micex_cbi_tr', 'x_full_sq_tsne_2', 'x_full_sq_tsne_1', 'x_full_sq_micex_rgbi_tr', 'x_full_sq_floor', 'x_extra_area_build_year', 'x_full_sq_eurrub', 'x_full_sq_state', 'x_full_sq_num_room', 'x_full_sq_life_sq', 'x_full_sq_floor_ratio', 'x_floor_railroad_km', 'x_micex_rgbi_tr_public_healthcare_km', 'x_build_year_room_avg_size', 'x_full_sq_cemetery_km', 'x_full_sq_school_km', 'x_public_healthcare_km_workplaces_km', 'x_full_sq_kindergarten_km', 'x_school_km_cemetery_km', 'x_full_sq_kitch_sq', 'x_life_sq_floor', 'x_life_sq_school_km', 'x_full_sq_balance_trade', 'x_full_sq_max_floor', 'x_kitch_sq_cemetery_km', 'x_mosque_km_workplaces_km', 'x_full_sq_room_avg_size', 'x_max_floor_floor_ratio', 'x_green_zone_km_theater_km', 'x_micex_cbi_tr_micex_rgbi_tr', 'x_life_sq_micex_rgbi_tr', 'x_build_year_state', 'x_rel_kitch_sq_mosque_km', 'x_life_sq_kitch_sq', 'x_floor_eurrub', 'x_life_sq_micex_cbi_tr', 'x_full_sq_workplaces_km', 'x_kitch_sq_state', 'x_mosque_km_public_healthcare_km', 'x_extra_area_state', 'x_life_sq_railroad_km', 'x_kindergarten_km_theater_km', 'x_extra_area_floor', 'x_full_sq_build_year', 'x_full_sq_railroad_km', 'x_hospice_morgue_km_workplaces_km', 'x_workplaces_km_theater_km', 'x_public_healthcare_km_theater_km', 'x_mosque_km_theater_km', 'x_full_sq_public_healthcare_km', 'x_life_sq_public_healthcare_km', 'x_floor_hospice_morgue_km', 'x_extra_area_micex_rgbi_tr', 'x_max_floor_eurrub', 'x_kindergarten_km_workplaces_km', 'x_radiation_km_cemetery_km', 'x_micex_cbi_tr_workplaces_km', 'x_tsne_1_num_room', 'x_floor_num_room', 'x_state_cemetery_km', 'x_life_sq_green_zone_km', 'x_rel_kitch_sq_public_healthcare_km', 'x_micex_cbi_tr_railroad_km', 'x_rel_kitch_sq_floor_ratio', 'x_school_km_theater_km', 'x_hospice_morgue_km_mosque_km', 'x_micex_rgbi_tr_theater_km', 'x_public_healthcare_km_green_zone_km', 'x_build_year_balance_trade', 'x_full_sq_radiation_km', 'x_max_floor_tsne_1', 'x_full_sq_hospice_morgue_km', 'x_life_sq_tsne_1', 'x_floor_tsne_1', 'x_kindergarten_km_floor_ratio', 'x_kindergarten_km_mosque_km', 'x_floor_ratio_public_healthcare_km', 'x_tsne_1_railroad_km', 'x_rel_kitch_sq_state', 'x_kindergarten_km_green_zone_km', 'x_kindergarten_km_cemetery_km', 'x_public_healthcare_km_cemetery_km', 'x_life_sq_theater_km', 'x_extra_area_micex_cbi_tr', 'x_kitch_sq_tsne_2', 'x_life_sq_state', 'x_tsne_1_hospice_morgue_km', 'x_life_sq_kindergarten_km', 'x_kitch_sq_balance_trade', 'x_floor_micex_rgbi_tr', 'x_rel_kitch_sq_kindergarten_km', 'x_green_zone_km_cemetery_km', 'x_tsne_1_workplaces_km', 'x_build_year_max_floor', 'x_kindergarten_km_public_healthcare_km', 'x_state_floor_ratio', 'x_micex_rgbi_tr_green_zone_km', 'x_railroad_km_cemetery_km', 'x_life_sq_hospice_morgue_km', 'x_tsne_2_cemetery_km', 'x_micex_rgbi_tr_balance_trade', 'x_hospice_morgue_km_radiation_km', 'x_micex_cbi_tr_public_healthcare_km', 'x_balance_trade_cemetery_km', 'x_life_sq_eurrub', 'x_micex_cbi_tr_floor_ratio', 'x_micex_rgbi_tr_tsne_1', 'x_railroad_km_workplaces_km']\n",
      "354\n",
      "465\n"
     ]
    }
   ],
   "source": [
    "x_topN = 200\n",
    "total_topN_features = get_feature_importance(model).Feature.tolist()[:x_topN]\n",
    "top_x_features = [f for f in total_topN_features if f[:2] == 'x_']\n",
    "print len(top_x_features)\n",
    "print top_x_features\n",
    "\n",
    "drop_x_feature_list = ['x_'+f_1+'_'+f_2 for f_1, f_2 in itertools.combinations(topN_features, 2) if 'x_'+f_1+'_'+f_2 not in top_x_features]\n",
    "print len(drop_x_feature_list)\n",
    "\n",
    "print len(list(itertools.combinations(topN_features, 2)))\n",
    "\n",
    "train = train.drop(drop_x_feature_list, axis=1)\n",
    "test = test.drop(drop_x_feature_list, axis=1)"
   ]
  },
  {
   "cell_type": "code",
   "execution_count": null,
   "metadata": {
    "collapsed": true
   },
   "outputs": [],
   "source": []
  },
  {
   "cell_type": "code",
   "execution_count": null,
   "metadata": {
    "collapsed": true
   },
   "outputs": [],
   "source": []
  },
  {
   "cell_type": "code",
   "execution_count": null,
   "metadata": {
    "collapsed": true
   },
   "outputs": [],
   "source": []
  },
  {
   "cell_type": "markdown",
   "metadata": {},
   "source": [
    "# Run CV"
   ]
  },
  {
   "cell_type": "code",
   "execution_count": 114,
   "metadata": {
    "collapsed": true
   },
   "outputs": [],
   "source": [
    "col = list(test.columns)[2:]\n",
    "\n",
    "label = train['price_doc']* .968 + 10"
   ]
  },
  {
   "cell_type": "code",
   "execution_count": 115,
   "metadata": {
    "collapsed": true
   },
   "outputs": [],
   "source": [
    "dtrain = xgb.DMatrix(train[col],label)\n",
    "dtest = xgb.DMatrix(test[col])"
   ]
  },
  {
   "cell_type": "code",
   "execution_count": 122,
   "metadata": {},
   "outputs": [
    {
     "name": "stdout",
     "output_type": "stream",
     "text": [
      "[0]\ttrain-rmse:7.91895e+06\ttest-rmse:7.92752e+06\n",
      "[50]\ttrain-rmse:2.29957e+06\ttest-rmse:2.6613e+06\n",
      "[100]\ttrain-rmse:1.98879e+06\ttest-rmse:2.48025e+06\n",
      "[150]\ttrain-rmse:1.86569e+06\ttest-rmse:2.43401e+06\n",
      "[200]\ttrain-rmse:1.77747e+06\ttest-rmse:2.41413e+06\n",
      "[250]\ttrain-rmse:1.70559e+06\ttest-rmse:2.40194e+06\n",
      "[300]\ttrain-rmse:1.63589e+06\ttest-rmse:2.39527e+06\n",
      "[350]\ttrain-rmse:1.5725e+06\ttest-rmse:2.39137e+06\n",
      "[400]\ttrain-rmse:1.5176e+06\ttest-rmse:2.38818e+06\n",
      "[450]\ttrain-rmse:1.46681e+06\ttest-rmse:2.38694e+06\n",
      "[500]\ttrain-rmse:1.41699e+06\ttest-rmse:2.38651e+06\n",
      "[550]\ttrain-rmse:1.37175e+06\ttest-rmse:2.38696e+06\n",
      "Performance does not improve from 512 rounds\n"
     ]
    },
    {
     "data": {
      "image/png": "[encoded data removed]",
      "text/plain": [
       "<matplotlib.figure.Figure at 0x10f51ab90>"
      ]
     },
     "metadata": {},
     "output_type": "display_data"
    }
   ],
   "source": [
    "params = {\n",
    "    'eta': 0.05, ## Try 0.01,3,5\n",
    "    'max_depth': 5,## Try 4,5,6\n",
    "    'subsample': 0.7,\n",
    "    'colsample_bytree': 0.7,\n",
    "    'objective': 'reg:linear',\n",
    "    'eval_metric': 'rmse',\n",
    "    'silent': 1\n",
    "}\n",
    "\n",
    "xgb_cvalid = xgb.cv(params, dtrain, num_boost_round=1000, early_stopping_rounds=50,\n",
    "    verbose_eval=50, show_stdv=False,seed=42)\n",
    "xgb_cvalid[['train-rmse-mean', 'test-rmse-mean']].plot()\n",
    "print('Performance does not improve from '+str(len(xgb_cvalid))+' rounds')\n"
   ]
  },
  {
   "cell_type": "markdown",
   "metadata": {
    "collapsed": true
   },
   "source": [
    "# Make prediction"
   ]
  },
  {
   "cell_type": "code",
   "execution_count": null,
   "metadata": {},
   "outputs": [],
   "source": [
    "#model = xgb.train(params,dtrain,num_boost_round=len(xgb_cvalid))\n",
    "model = xgb.train(params,dtrain,num_boost_round=250)"
   ]
  },
  {
   "cell_type": "code",
   "execution_count": null,
   "metadata": {},
   "outputs": [],
   "source": [
    "prediction = model.predict(dtest)\n",
    "sub = pd.DataFrame({'id':test['id'],'price_doc':prediction})"
   ]
  },
  {
   "cell_type": "code",
   "execution_count": 129,
   "metadata": {
    "collapsed": true
   },
   "outputs": [],
   "source": [
    "sub.to_csv('xgb_0.95label_all_feature_data_clean_interactive_2.csv',index=False)"
   ]
  },
  {
   "cell_type": "code",
   "execution_count": 130,
   "metadata": {
    "scrolled": true
   },
   "outputs": [
    {
     "data": {
      "text/plain": [
       "<matplotlib.figure.Figure at 0x10f6b8050>"
      ]
     },
     "metadata": {},
     "output_type": "display_data"
    },
    {
     "data": {
      "image/png": "[encoded data removed]",
      "text/plain": [
       "<matplotlib.figure.Figure at 0x10f4db2d0>"
      ]
     },
     "metadata": {},
     "output_type": "display_data"
    }
   ],
   "source": [
    "def get_feature_importance(model):\n",
    "    Importance = model.get_fscore()\n",
    "    Importance = list(Importance.items())\n",
    "    Feature= []\n",
    "    Score = []\n",
    "    for each in Importance:\n",
    "        Feature.append(each[0])\n",
    "        Score.append(each[1])\n",
    "    df = pd.DataFrame({'Feature':Feature,'Score':Score}).sort_values(by=['Score'],ascending=[0])\n",
    "    return df  \n",
    "\n",
    "def plot_importance(model):\n",
    "    FImportance = get_feature_importance(model).iloc[0:50,]\n",
    "    plt.figure()\n",
    "    FImportance.plot(kind='barh', x='Feature', y='Score', legend=False, figsize=(6, 10))\n",
    "    plt.title('XGBoost Feature Importance')\n",
    "    plt.show()\n",
    "    \n",
    "plot_importance(model)"
   ]
  },
  {
   "cell_type": "code",
   "execution_count": null,
   "metadata": {
    "collapsed": true
   },
   "outputs": [],
   "source": []
  }
 ],
 "metadata": {
  "kernelspec": {
   "display_name": "Python 3",
   "language": "python",
   "name": "python3"
  },
  "language_info": {
   "codemirror_mode": {
    "name": "ipython",
    "version": 3
   },
   "file_extension": ".py",
   "mimetype": "text/x-python",
   "name": "python",
   "nbconvert_exporter": "python",
   "pygments_lexer": "ipython3",
   "version": "3.5.2"
  },
  "toc": {
   "nav_menu": {
    "height": "49px",
    "width": "252px"
   },
   "navigate_menu": true,
   "number_sections": true,
   "sideBar": true,
   "threshold": 4,
   "toc_cell": false,
   "toc_section_display": "block",
   "toc_window_display": false
  }
 },
 "nbformat": 4,
 "nbformat_minor": 2
}
