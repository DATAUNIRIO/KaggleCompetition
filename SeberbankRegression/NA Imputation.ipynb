{
 "cells": [
  {
   "cell_type": "markdown",
   "metadata": {},
   "source": [
    "## Impute Missing Values By Models"
   ]
  },
  {
   "cell_type": "code",
   "execution_count": 38,
   "metadata": {},
   "outputs": [],
   "source": [
    "%matplotlib inline\n",
    "import pandas as pd\n",
    "import numpy as np\n",
    "import xgboost as xgb\n",
    "import warnings\n",
    "warnings.filterwarnings('ignore')"
   ]
  },
  {
   "cell_type": "markdown",
   "metadata": {},
   "source": [
    "## Load Data"
   ]
  },
  {
   "cell_type": "code",
   "execution_count": 39,
   "metadata": {
    "collapsed": true
   },
   "outputs": [],
   "source": [
    "train = pd.read_csv('train.csv')\n",
    "test = pd.read_csv('test.csv')"
   ]
  },
  {
   "cell_type": "code",
   "execution_count": 40,
   "metadata": {
    "collapsed": true
   },
   "outputs": [],
   "source": [
    "#clean data\n",
    "bad_index = train[train.life_sq > train.full_sq].index\n",
    "train.ix[bad_index, \"life_sq\"] = np.NaN\n",
    "equal_index = [601,1896,2791]\n",
    "test.ix[equal_index, \"life_sq\"] = test.ix[equal_index, \"full_sq\"]\n",
    "bad_index = test[test.life_sq > test.full_sq].index\n",
    "test.ix[bad_index, \"life_sq\"] = np.NaN\n",
    "bad_index = train[train.life_sq < 5].index\n",
    "train.ix[bad_index, \"life_sq\"] = np.NaN\n",
    "bad_index = test[test.life_sq < 5].index\n",
    "test.ix[bad_index, \"life_sq\"] = np.NaN\n",
    "bad_index = train[train.full_sq < 5].index\n",
    "train.ix[bad_index, \"full_sq\"] = np.NaN\n",
    "bad_index = test[test.full_sq < 5].index\n",
    "test.ix[bad_index, \"full_sq\"] = np.NaN\n",
    "kitch_is_build_year = [13117]\n",
    "train.ix[kitch_is_build_year, \"build_year\"] = train.ix[kitch_is_build_year, \"kitch_sq\"]\n",
    "bad_index = train[train.kitch_sq >= train.life_sq].index\n",
    "train.ix[bad_index, \"kitch_sq\"] = np.NaN\n",
    "bad_index = test[test.kitch_sq >= test.life_sq].index\n",
    "test.ix[bad_index, \"kitch_sq\"] = np.NaN\n",
    "bad_index = train[(train.kitch_sq == 0).values + (train.kitch_sq == 1).values].index\n",
    "train.ix[bad_index, \"kitch_sq\"] = np.NaN\n",
    "bad_index = test[(test.kitch_sq == 0).values + (test.kitch_sq == 1).values].index\n",
    "test.ix[bad_index, \"kitch_sq\"] = np.NaN\n",
    "bad_index = train[(train.full_sq > 210) & (train.life_sq / train.full_sq < 0.3)].index\n",
    "train.ix[bad_index, \"full_sq\"] = np.NaN\n",
    "bad_index = test[(test.full_sq > 150) & (test.life_sq / test.full_sq < 0.3)].index\n",
    "test.ix[bad_index, \"full_sq\"] = np.NaN\n",
    "bad_index = train[train.life_sq > 300].index\n",
    "train.ix[bad_index, [\"life_sq\", \"full_sq\"]] = np.NaN\n",
    "bad_index = test[test.life_sq > 200].index\n",
    "test.ix[bad_index, [\"life_sq\", \"full_sq\"]] = np.NaN\n",
    "bad_index = train[train['state']>10].index\n",
    "train.ix[bad_index,'state']=np.NaN\n",
    "bad_index = train[train['build_year']>3000].index\n",
    "train.ix[bad_index,'build_year'] = np.NaN\n",
    "bad_index = test[test['state']>10].index\n",
    "test.ix[bad_index,'state']=np.NaN\n",
    "bad_index = test[test['build_year']>3000].index\n",
    "test.ix[bad_index,'build_year'] = np.NaN\n",
    "bad_index = train[train.build_year < 1500].index\n",
    "train.ix[bad_index, \"build_year\"] = np.NaN\n",
    "bad_index = test[test.build_year < 1500].index\n",
    "test.ix[bad_index, \"build_year\"] = np.NaN\n",
    "bad_index = train[train.num_room == 0].index \n",
    "train.ix[bad_index, \"num_room\"] = np.NaN\n",
    "bad_index = test[test.num_room == 0].index \n",
    "test.ix[bad_index, \"num_room\"] = np.NaN\n",
    "bad_index = [10076, 11621, 17764, 19390, 24007, 26713, 29172]\n",
    "train.ix[bad_index, \"num_room\"] = np.NaN\n",
    "bad_index = [3174, 7313]\n",
    "test.ix[bad_index, \"num_room\"] = np.NaN\n",
    "bad_index = train[(train.floor == 0).values * (train.max_floor == 0).values].index\n",
    "train.ix[bad_index, [\"max_floor\", \"floor\"]] = np.NaN\n",
    "bad_index = train[train.floor == 0].index\n",
    "train.ix[bad_index, \"floor\"] = np.NaN\n",
    "bad_index = train[train.max_floor == 0].index\n",
    "train.ix[bad_index, \"max_floor\"] = np.NaN\n",
    "bad_index = test[test.max_floor == 0].index\n",
    "test.ix[bad_index, \"max_floor\"] = np.NaN\n",
    "bad_index = train[train.floor > train.max_floor].index\n",
    "train.ix[bad_index, \"max_floor\"] = np.NaN\n",
    "bad_index = test[test.floor > test.max_floor].index\n",
    "test.ix[bad_index, \"max_floor\"] = np.NaN\n",
    "bad_index = [23584]\n",
    "train.ix[bad_index, \"floor\"] = np.NaN\n",
    "bad_index = train[train.state == 33].index\n",
    "train.ix[bad_index, \"state\"] = np.NaN\n",
    "# brings error down a lot by removing extreme price per sqm\n",
    "train.loc[train.full_sq == 0, 'full_sq'] = 50\n",
    "train = train[train.price_doc/train.full_sq <= 600000]\n",
    "train = train[train.price_doc/train.full_sq >= 10000]"
   ]
  },
  {
   "cell_type": "code",
   "execution_count": 42,
   "metadata": {
    "collapsed": true
   },
   "outputs": [],
   "source": [
    "num_train = len(train)\n",
    "price_doc = train['price_doc']"
   ]
  },
  {
   "cell_type": "code",
   "execution_count": 5,
   "metadata": {
    "collapsed": true
   },
   "outputs": [],
   "source": [
    "train['set_marker'] = [0]*num_train\n",
    "test['set_marker'] = [1]*len(test)"
   ]
  },
  {
   "cell_type": "code",
   "execution_count": 6,
   "metadata": {
    "collapsed": true
   },
   "outputs": [],
   "source": [
    "col = list(test.columns)\n",
    "col.remove('timestamp')\n",
    "All_data = pd.concat([train[col],test[col]])"
   ]
  },
  {
   "cell_type": "code",
   "execution_count": 7,
   "metadata": {
    "collapsed": true
   },
   "outputs": [],
   "source": [
    "cat = []\n",
    "for c in All_data.columns:\n",
    "    if All_data[c].dtype == 'object':\n",
    "        All_data[c] = pd.factorize(All_data[c], sort=True)[0]\n",
    "        cat.append(c)"
   ]
  },
  {
   "cell_type": "code",
   "execution_count": 8,
   "metadata": {
    "collapsed": true
   },
   "outputs": [],
   "source": [
    "### Additional Cat Features\n",
    "add_cat = [each for each in list(All_data.columns) if 'ID' in each]\n",
    "#add_cat.append('build_year')\n",
    "cat = cat+add_cat"
   ]
  },
  {
   "cell_type": "code",
   "execution_count": 9,
   "metadata": {
    "collapsed": true
   },
   "outputs": [],
   "source": [
    "for dd in add_cat:\n",
    "    All_data[dd] = pd.factorize(All_data[dd],sort=True)[0]"
   ]
  },
  {
   "cell_type": "code",
   "execution_count": 10,
   "metadata": {
    "collapsed": true
   },
   "outputs": [],
   "source": [
    "All_data['id'] = range(len(All_data))"
   ]
  },
  {
   "cell_type": "markdown",
   "metadata": {},
   "source": [
    "## Counting Missing Values "
   ]
  },
  {
   "cell_type": "code",
   "execution_count": 11,
   "metadata": {
    "collapsed": true
   },
   "outputs": [],
   "source": [
    "NA_Count = pd.DataFrame({'Sum of NA':All_data.isnull().sum()}).sort(['Sum of NA'],ascending=[0])\n",
    "NA_Count['Percentage'] = NA_Count['Sum of NA']/All_data.shape[1]"
   ]
  },
  {
   "cell_type": "markdown",
   "metadata": {},
   "source": [
    "We just try to impute missing values that have obvious impact on the price."
   ]
  },
  {
   "cell_type": "code",
   "execution_count": 12,
   "metadata": {
    "collapsed": true
   },
   "outputs": [],
   "source": [
    "imputed_values = ['kitch_sq','build_year','state','max_floor','num_room','material','life_sq']"
   ]
  },
  {
   "cell_type": "markdown",
   "metadata": {},
   "source": [
    "## CV Imputation Model"
   ]
  },
  {
   "cell_type": "code",
   "execution_count": 13,
   "metadata": {
    "collapsed": true
   },
   "outputs": [],
   "source": [
    "from sklearn.preprocessing import LabelEncoder"
   ]
  },
  {
   "cell_type": "code",
   "execution_count": 14,
   "metadata": {
    "collapsed": true
   },
   "outputs": [],
   "source": [
    "def impute_cv(col,params,type_='reg'):\n",
    "    if col != 'max_floor':\n",
    "        train_set = All_data[All_data[col].notnull()]\n",
    "        predict_set = All_data[All_data[col].isnull()]\n",
    "    else:\n",
    "        train_set = All_data[All_data[col].notnull()]\n",
    "        predict_set = All_data[All_data[col].isnull()&All_data['floor'].notnull()]\n",
    "    if type_!='reg':\n",
    "        train_set[col] = LabelEncoder().fit_transform(train_set[col])\n",
    "    cols = list(train_set)[1:]\n",
    "    cols.remove('set_marker')\n",
    "    cols.remove(col)\n",
    "    dtrain = xgb.DMatrix(train_set[cols],train_set[col])\n",
    "    cv = xgb.cv(params,dtrain,num_boost_round=1000,early_stopping_rounds=20,verbose_eval=50, show_stdv=False)\n",
    "    print(len(cv))"
   ]
  },
  {
   "cell_type": "code",
   "execution_count": 15,
   "metadata": {
    "collapsed": true
   },
   "outputs": [],
   "source": [
    "def impute_value(col,params,rounds,type_='reg'):\n",
    "    train_set = All_data[All_data[col].notnull()]\n",
    "    predict_set = All_data[All_data[col].isnull()]\n",
    "    if type_!='reg':\n",
    "        train_set[col] = LabelEncoder().fit_transform(train_set[col])\n",
    "    cols = list(train_set)[1:]\n",
    "    cols.remove('set_marker')\n",
    "    cols.remove(col)\n",
    "    dtrain = xgb.DMatrix(train_set[cols],train_set[col])\n",
    "    model = xgb.train(params,dtrain,num_boost_round = rounds)\n",
    "    dtest = xgb.DMatrix(predict_set[cols])\n",
    "    predicted_value = model.predict(dtest)\n",
    "    predict_set[col] = predicted_value\n",
    "    return pd.concat([train_set,predict_set])"
   ]
  },
  {
   "cell_type": "code",
   "execution_count": 16,
   "metadata": {
    "collapsed": true
   },
   "outputs": [],
   "source": [
    "param_lifesq = {\n",
    "    #'booster':'gblinear',\n",
    "    'eta': 0.05,\n",
    "    'max_depth': 5,\n",
    "    'subsample': 0.7,\n",
    "    'colsample_bytree': 0.7,\n",
    "    'objective': 'reg:linear',\n",
    "    'eval_metric': 'rmse',\n",
    "    'silent': 1\n",
    "}\n",
    "All_data = impute_value('life_sq',param_lifesq,328)"
   ]
  },
  {
   "cell_type": "code",
   "execution_count": 17,
   "metadata": {
    "collapsed": true
   },
   "outputs": [],
   "source": [
    "param_kitchensq = {\n",
    "    #'booster':'gblinear',\n",
    "    'eta': 0.05,\n",
    "    'max_depth': 4,\n",
    "    'subsample': 0.7,\n",
    "    'colsample_bytree': 0.7,\n",
    "    'objective': 'reg:linear',\n",
    "    'eval_metric': 'rmse',\n",
    "    'silent': 1\n",
    "}\n",
    "All_data = impute_value('kitch_sq',param_kitchensq,470)"
   ]
  },
  {
   "cell_type": "code",
   "execution_count": 18,
   "metadata": {
    "collapsed": true
   },
   "outputs": [],
   "source": [
    "param_state = {\n",
    "    #'booster':'gblinear',\n",
    "    'eta': 0.05,\n",
    "    'max_depth': 2,\n",
    "    'subsample': 0.7,\n",
    "    'colsample_bytree':0.7,\n",
    "    'objective': 'multi:softmax',\n",
    "    'num_class':4,\n",
    "    'silent': 1\n",
    "}\n",
    "All_data=impute_value('state',param_state,305,'clf')"
   ]
  },
  {
   "cell_type": "code",
   "execution_count": 19,
   "metadata": {
    "collapsed": true
   },
   "outputs": [],
   "source": [
    "param_year = {\n",
    "    #'booster':'gblinear',\n",
    "    'eta': 0.05,\n",
    "    'max_depth': 5,\n",
    "    'subsample': 0.7,\n",
    "    'colsample_bytree':0.7,\n",
    "    'objective': 'reg:linear',\n",
    "    'silent': 1\n",
    "}\n",
    "All_data=impute_value('build_year',param_year,709)"
   ]
  },
  {
   "cell_type": "code",
   "execution_count": 20,
   "metadata": {
    "collapsed": true
   },
   "outputs": [],
   "source": [
    "All_data['build_year'] = round(All_data['build_year'])"
   ]
  },
  {
   "cell_type": "code",
   "execution_count": 21,
   "metadata": {
    "collapsed": true
   },
   "outputs": [],
   "source": [
    "param_maxfloor = {\n",
    "    #'booster':'gblinear',\n",
    "    'eta': 0.05,\n",
    "    'max_depth': 5,\n",
    "    'subsample': 0.7,\n",
    "    'colsample_bytree':0.7,\n",
    "    'objective': 'reg:linear',\n",
    "    'silent': 1\n",
    "}\n",
    "All_data= impute_value('max_floor',param_maxfloor,450)\n",
    "All_data['max_floor'] = round(All_data['max_floor'])\n",
    "indexs = All_data[All_data['floor'].isnull()].index\n",
    "All_data.ix[indexs,'max_floor'] = np.nan"
   ]
  },
  {
   "cell_type": "code",
   "execution_count": 22,
   "metadata": {
    "collapsed": true
   },
   "outputs": [],
   "source": [
    "param_room = {\n",
    "    #'booster':'gblinear',\n",
    "    'eta': 0.05,\n",
    "    'max_depth': 5,\n",
    "    'subsample': 0.7,\n",
    "    'colsample_bytree':0.7,\n",
    "    'objective': 'reg:linear',\n",
    "    'silent': 1\n",
    "}\n",
    "All_data = impute_value('num_room',param_room,600)\n",
    "All_data['num_room'] = round(All_data['num_room'])"
   ]
  },
  {
   "cell_type": "code",
   "execution_count": 23,
   "metadata": {},
   "outputs": [],
   "source": [
    "param_material = {\n",
    "    #'booster':'gblinear',\n",
    "    'eta': 0.05,\n",
    "    'max_depth': 5,\n",
    "    'subsample': 0.7,\n",
    "    'colsample_bytree':0.7,\n",
    "    'objective': 'multi:softmax',\n",
    "    'num_class':6,\n",
    "    'silent': 1\n",
    "}\n",
    "All_data = impute_value('material',param_material,250,'clf')"
   ]
  },
  {
   "cell_type": "code",
   "execution_count": 31,
   "metadata": {
    "collapsed": true
   },
   "outputs": [],
   "source": [
    "All_data = All_data.sort_values(['id'],ascending=1)"
   ]
  },
  {
   "cell_type": "code",
   "execution_count": 36,
   "metadata": {},
   "outputs": [],
   "source": [
    "train_filled = All_data[All_data['set_marker']==0]\n",
    "test_filled = All_data[All_data['set_marker']==1]"
   ]
  },
  {
   "cell_type": "code",
   "execution_count": 37,
   "metadata": {
    "collapsed": true
   },
   "outputs": [],
   "source": [
    "del train_filled['id']\n",
    "del test_filled['id']\n",
    "del train_filled['set_marker']\n",
    "del test_filled['set_marker']"
   ]
  },
  {
   "cell_type": "code",
   "execution_count": 43,
   "metadata": {
    "collapsed": true
   },
   "outputs": [],
   "source": [
    "train_filled['price_doc'] = price_doc"
   ]
  },
  {
   "cell_type": "code",
   "execution_count": 46,
   "metadata": {
    "collapsed": true
   },
   "outputs": [],
   "source": [
    "train_filled.to_csv('train_filled.csv',index=False)\n",
    "test_filled.to_csv('test_filled.csv',index=False)"
   ]
  },
  {
   "cell_type": "markdown",
   "metadata": {},
   "source": [
    "**Extra Move: Deal with life sq that is larger than full_sq**"
   ]
  },
  {
   "cell_type": "code",
   "execution_count": 54,
   "metadata": {
    "collapsed": true
   },
   "outputs": [],
   "source": [
    "index = train_filled.query('full_sq<=life_sq').index"
   ]
  },
  {
   "cell_type": "code",
   "execution_count": 56,
   "metadata": {},
   "outputs": [],
   "source": [
    "train_filled.ix[index,'life_sq'] = train_filled.ix[index,'full_sq']*0.8"
   ]
  },
  {
   "cell_type": "code",
   "execution_count": 57,
   "metadata": {},
   "outputs": [],
   "source": [
    "index = test_filled.query('full_sq<=life_sq').index\n",
    "test_filled.ix[index,'life_sq'] = test_filled.ix[index,'full_sq']*0.8"
   ]
  },
  {
   "cell_type": "markdown",
   "metadata": {},
   "source": [
    "# Experiment: Fit XGBOOST With 0.95 Label with new dataset"
   ]
  },
  {
   "cell_type": "code",
   "execution_count": 59,
   "metadata": {
    "collapsed": true
   },
   "outputs": [],
   "source": [
    "col = list(test_filled.columns)\n",
    "label = train_filled['price_doc']*0.95+10"
   ]
  },
  {
   "cell_type": "code",
   "execution_count": 60,
   "metadata": {
    "collapsed": true
   },
   "outputs": [],
   "source": [
    "dtrain = xgb.DMatrix(train_filled[col],label)\n",
    "dtest = xgb.DMatrix(test_filled[col])"
   ]
  },
  {
   "cell_type": "code",
   "execution_count": 77,
   "metadata": {
    "collapsed": true
   },
   "outputs": [],
   "source": [
    "params = {\n",
    "    'eta': 0.07, ## Try 0.01,3,5\n",
    "    'max_depth': 3,## Try 4,5,6\n",
    "    'subsample': 0.7,\n",
    "    'colsample_bytree': 0.7,\n",
    "    'objective': 'reg:linear',\n",
    "    'eval_metric': 'rmse',\n",
    "    'silent': 1\n",
    "}"
   ]
  },
  {
   "cell_type": "code",
   "execution_count": 78,
   "metadata": {},
   "outputs": [
    {
     "name": "stdout",
     "output_type": "stream",
     "text": [
      "[0]\ttrain-rmse:7.66605e+06\ttest-rmse:7.6711e+06\n",
      "[50]\ttrain-rmse:2.52233e+06\ttest-rmse:2.69124e+06\n",
      "[100]\ttrain-rmse:2.32054e+06\ttest-rmse:2.54676e+06\n",
      "[150]\ttrain-rmse:2.23476e+06\ttest-rmse:2.5132e+06\n",
      "[200]\ttrain-rmse:2.16777e+06\ttest-rmse:2.48588e+06\n",
      "[250]\ttrain-rmse:2.11143e+06\ttest-rmse:2.46581e+06\n",
      "[300]\ttrain-rmse:2.06559e+06\ttest-rmse:2.45498e+06\n",
      "[350]\ttrain-rmse:2.02667e+06\ttest-rmse:2.44775e+06\n",
      "[400]\ttrain-rmse:1.99332e+06\ttest-rmse:2.442e+06\n",
      "[450]\ttrain-rmse:1.96185e+06\ttest-rmse:2.43293e+06\n",
      "[500]\ttrain-rmse:1.93267e+06\ttest-rmse:2.42452e+06\n",
      "[550]\ttrain-rmse:1.90498e+06\ttest-rmse:2.41871e+06\n",
      "[600]\ttrain-rmse:1.88147e+06\ttest-rmse:2.41511e+06\n",
      "[650]\ttrain-rmse:1.85958e+06\ttest-rmse:2.41016e+06\n",
      "Performance does not improve from 672 rounds\n"
     ]
    },
    {
     "data": {
      "image/png": "[encoded data removed]",
      "text/plain": [
       "<matplotlib.figure.Figure at 0x7f9d6e2b91d0>"
      ]
     },
     "metadata": {},
     "output_type": "display_data"
    }
   ],
   "source": [
    "xgb_cvalid = xgb.cv(params, dtrain, num_boost_round=1000, early_stopping_rounds=20,\n",
    "    verbose_eval=50, show_stdv=False,seed=42)\n",
    "xgb_cvalid[['train-rmse-mean', 'test-rmse-mean']].plot()\n",
    "\n",
    "print('Performance does not improve from '+str(len(xgb_cvalid))+' rounds')"
   ]
  },
  {
   "cell_type": "code",
   "execution_count": null,
   "metadata": {
    "collapsed": true
   },
   "outputs": [],
   "source": [
    "depth 4\n",
    "[0]\ttrain-rmse:7.78794e+06\ttest-rmse:7.79231e+06\n",
    "[50]\ttrain-rmse:2.50129e+06\ttest-rmse:2.72129e+06\n",
    "[100]\ttrain-rmse:2.21127e+06\ttest-rmse:2.51832e+06\n",
    "[150]\ttrain-rmse:2.11924e+06\ttest-rmse:2.4796e+06\n",
    "[200]\ttrain-rmse:2.04932e+06\ttest-rmse:2.45305e+06\n",
    "[250]\ttrain-rmse:1.99495e+06\ttest-rmse:2.43957e+06\n",
    "[300]\ttrain-rmse:1.94462e+06\ttest-rmse:2.42923e+06\n",
    "[350]\ttrain-rmse:1.90324e+06\ttest-rmse:2.4223e+06\n",
    "[400]\ttrain-rmse:1.86579e+06\ttest-rmse:2.41756e+06\n",
    "[450]\ttrain-rmse:1.82896e+06\ttest-rmse:2.41196e+06\n",
    "[500]\ttrain-rmse:1.79516e+06\ttest-rmse:2.40551e+06\n",
    "[550]\ttrain-rmse:1.76368e+06\ttest-rmse:2.40229e+06\n",
    "[600]\ttrain-rmse:1.73457e+06\ttest-rmse:2.4003e+06\n",
    "[650]\ttrain-rmse:1.70934e+06\ttest-rmse:2.39834e+06\n",
    "[700]\ttrain-rmse:1.68411e+06\ttest-rmse:2.3966e+06\n",
    "[750]\ttrain-rmse:1.66048e+06\ttest-rmse:2.39496e+06\n",
    "[800]\ttrain-rmse:1.63862e+06\ttest-rmse:2.39363e+06\n",
    "[850]\ttrain-rmse:1.61562e+06\ttest-rmse:2.39281e+06\n",
    "[900]\ttrain-rmse:1.59478e+06\ttest-rmse:2.39138e+06\n",
    "Performance does not improve from 907 rounds\n",
    "depth 5 colsample 0.5\n",
    "[0]\ttrain-rmse:7.78284e+06\ttest-rmse:7.78669e+06\n",
    "[50]\ttrain-rmse:2.37051e+06\ttest-rmse:2.68688e+06\n",
    "[100]\ttrain-rmse:2.06046e+06\ttest-rmse:2.50315e+06\n",
    "[150]\ttrain-rmse:1.95511e+06\ttest-rmse:2.46631e+06\n",
    "[200]\ttrain-rmse:1.87565e+06\ttest-rmse:2.44376e+06\n",
    "[250]\ttrain-rmse:1.81136e+06\ttest-rmse:2.43215e+06\n",
    "[300]\ttrain-rmse:1.75556e+06\ttest-rmse:2.42479e+06\n",
    "[350]\ttrain-rmse:1.70175e+06\ttest-rmse:2.41688e+06\n",
    "[400]\ttrain-rmse:1.65626e+06\ttest-rmse:2.41305e+06\n",
    "[450]\ttrain-rmse:1.61382e+06\ttest-rmse:2.41056e+06\n",
    "[500]\ttrain-rmse:1.57572e+06\ttest-rmse:2.40891e+06\n",
    "[550]\ttrain-rmse:1.53905e+06\ttest-rmse:2.40891e+06\n",
    "Performance does not improve from 542 rounds\n",
    "\n",
    "depth 6\n",
    "[0]\ttrain-rmse:7.77669e+06\ttest-rmse:7.78435e+06\n",
    "[50]\ttrain-rmse:2.18274e+06\ttest-rmse:2.63951e+06\n",
    "[100]\ttrain-rmse:1.86747e+06\ttest-rmse:2.47467e+06\n",
    "[150]\ttrain-rmse:1.75422e+06\ttest-rmse:2.44494e+06\n",
    "[200]\ttrain-rmse:1.66756e+06\ttest-rmse:2.43103e+06\n",
    "[250]\ttrain-rmse:1.59503e+06\ttest-rmse:2.42332e+06\n",
    "[300]\ttrain-rmse:1.52951e+06\ttest-rmse:2.4195e+06\n",
    "Performance does not improve from 322 rounds\n",
    "\n",
    "depth 5\n",
    "[0]\ttrain-rmse:7.78141e+06\ttest-rmse:7.78765e+06\n",
    "[50]\ttrain-rmse:2.33646e+06\ttest-rmse:2.67022e+06\n",
    "[100]\ttrain-rmse:2.04217e+06\ttest-rmse:2.49268e+06\n",
    "[150]\ttrain-rmse:1.93966e+06\ttest-rmse:2.45639e+06\n",
    "[200]\ttrain-rmse:1.85933e+06\ttest-rmse:2.43493e+06\n",
    "[250]\ttrain-rmse:1.79328e+06\ttest-rmse:2.4214e+06\n",
    "[300]\ttrain-rmse:1.73983e+06\ttest-rmse:2.41515e+06\n",
    "[350]\ttrain-rmse:1.68843e+06\ttest-rmse:2.41061e+06\n",
    "[400]\ttrain-rmse:1.64079e+06\ttest-rmse:2.40763e+06\n",
    "[450]\ttrain-rmse:1.60132e+06\ttest-rmse:2.40427e+06\n",
    "Performance does not improve from 439 rounds"
   ]
  },
  {
   "cell_type": "code",
   "execution_count": 63,
   "metadata": {
    "collapsed": true
   },
   "outputs": [],
   "source": [
    "model = xgb.train(params,dtrain,num_boost_round=len(xgb_cvalid))"
   ]
  },
  {
   "cell_type": "code",
   "execution_count": 64,
   "metadata": {
    "collapsed": true
   },
   "outputs": [],
   "source": [
    "def get_feature_importance(model):\n",
    "    Importance = model.get_fscore()\n",
    "    Importance = list(Importance.items())\n",
    "    Feature= []\n",
    "    Score = []\n",
    "    for each in Importance:\n",
    "        Feature.append(each[0])\n",
    "        Score.append(each[1])\n",
    "    df = pd.DataFrame({'Feature':Feature,'Score':Score}).sort_values(by=['Score'],ascending=[0])\n",
    "    return df    "
   ]
  },
  {
   "cell_type": "code",
   "execution_count": 65,
   "metadata": {},
   "outputs": [
    {
     "data": {
      "text/html": [
       "<div>\n",
       "<table border=\"1\" class=\"dataframe\">\n",
       "  <thead>\n",
       "    <tr style=\"text-align: right;\">\n",
       "      <th></th>\n",
       "      <th>Feature</th>\n",
       "      <th>Score</th>\n",
       "    </tr>\n",
       "  </thead>\n",
       "  <tbody>\n",
       "    <tr>\n",
       "      <th>179</th>\n",
       "      <td>full_sq</td>\n",
       "      <td>1309</td>\n",
       "    </tr>\n",
       "    <tr>\n",
       "      <th>64</th>\n",
       "      <td>life_sq</td>\n",
       "      <td>499</td>\n",
       "    </tr>\n",
       "    <tr>\n",
       "      <th>132</th>\n",
       "      <td>build_year</td>\n",
       "      <td>415</td>\n",
       "    </tr>\n",
       "    <tr>\n",
       "      <th>58</th>\n",
       "      <td>floor</td>\n",
       "      <td>411</td>\n",
       "    </tr>\n",
       "    <tr>\n",
       "      <th>87</th>\n",
       "      <td>kitch_sq</td>\n",
       "      <td>344</td>\n",
       "    </tr>\n",
       "    <tr>\n",
       "      <th>55</th>\n",
       "      <td>max_floor</td>\n",
       "      <td>337</td>\n",
       "    </tr>\n",
       "    <tr>\n",
       "      <th>149</th>\n",
       "      <td>state</td>\n",
       "      <td>165</td>\n",
       "    </tr>\n",
       "    <tr>\n",
       "      <th>12</th>\n",
       "      <td>num_room</td>\n",
       "      <td>125</td>\n",
       "    </tr>\n",
       "    <tr>\n",
       "      <th>13</th>\n",
       "      <td>green_zone_km</td>\n",
       "      <td>121</td>\n",
       "    </tr>\n",
       "    <tr>\n",
       "      <th>109</th>\n",
       "      <td>kindergarten_km</td>\n",
       "      <td>120</td>\n",
       "    </tr>\n",
       "    <tr>\n",
       "      <th>3</th>\n",
       "      <td>industrial_km</td>\n",
       "      <td>116</td>\n",
       "    </tr>\n",
       "    <tr>\n",
       "      <th>211</th>\n",
       "      <td>railroad_km</td>\n",
       "      <td>109</td>\n",
       "    </tr>\n",
       "    <tr>\n",
       "      <th>246</th>\n",
       "      <td>metro_min_avto</td>\n",
       "      <td>95</td>\n",
       "    </tr>\n",
       "    <tr>\n",
       "      <th>21</th>\n",
       "      <td>public_healthcare_km</td>\n",
       "      <td>91</td>\n",
       "    </tr>\n",
       "    <tr>\n",
       "      <th>142</th>\n",
       "      <td>public_transport_station_km</td>\n",
       "      <td>87</td>\n",
       "    </tr>\n",
       "    <tr>\n",
       "      <th>182</th>\n",
       "      <td>metro_km_avto</td>\n",
       "      <td>87</td>\n",
       "    </tr>\n",
       "    <tr>\n",
       "      <th>160</th>\n",
       "      <td>catering_km</td>\n",
       "      <td>87</td>\n",
       "    </tr>\n",
       "    <tr>\n",
       "      <th>73</th>\n",
       "      <td>park_km</td>\n",
       "      <td>85</td>\n",
       "    </tr>\n",
       "    <tr>\n",
       "      <th>116</th>\n",
       "      <td>ttk_km</td>\n",
       "      <td>85</td>\n",
       "    </tr>\n",
       "    <tr>\n",
       "      <th>17</th>\n",
       "      <td>fitness_km</td>\n",
       "      <td>84</td>\n",
       "    </tr>\n",
       "    <tr>\n",
       "      <th>60</th>\n",
       "      <td>material</td>\n",
       "      <td>84</td>\n",
       "    </tr>\n",
       "    <tr>\n",
       "      <th>205</th>\n",
       "      <td>radiation_km</td>\n",
       "      <td>84</td>\n",
       "    </tr>\n",
       "    <tr>\n",
       "      <th>107</th>\n",
       "      <td>water_km</td>\n",
       "      <td>83</td>\n",
       "    </tr>\n",
       "    <tr>\n",
       "      <th>117</th>\n",
       "      <td>cemetery_km</td>\n",
       "      <td>82</td>\n",
       "    </tr>\n",
       "    <tr>\n",
       "      <th>252</th>\n",
       "      <td>swim_pool_km</td>\n",
       "      <td>78</td>\n",
       "    </tr>\n",
       "    <tr>\n",
       "      <th>242</th>\n",
       "      <td>school_km</td>\n",
       "      <td>77</td>\n",
       "    </tr>\n",
       "    <tr>\n",
       "      <th>76</th>\n",
       "      <td>hospice_morgue_km</td>\n",
       "      <td>77</td>\n",
       "    </tr>\n",
       "    <tr>\n",
       "      <th>115</th>\n",
       "      <td>university_km</td>\n",
       "      <td>76</td>\n",
       "    </tr>\n",
       "    <tr>\n",
       "      <th>133</th>\n",
       "      <td>nuclear_reactor_km</td>\n",
       "      <td>75</td>\n",
       "    </tr>\n",
       "    <tr>\n",
       "      <th>130</th>\n",
       "      <td>theater_km</td>\n",
       "      <td>74</td>\n",
       "    </tr>\n",
       "    <tr>\n",
       "      <th>...</th>\n",
       "      <td>...</td>\n",
       "      <td>...</td>\n",
       "    </tr>\n",
       "    <tr>\n",
       "      <th>153</th>\n",
       "      <td>cafe_count_1500_na_price</td>\n",
       "      <td>4</td>\n",
       "    </tr>\n",
       "    <tr>\n",
       "      <th>167</th>\n",
       "      <td>cafe_count_5000_price_500</td>\n",
       "      <td>4</td>\n",
       "    </tr>\n",
       "    <tr>\n",
       "      <th>170</th>\n",
       "      <td>young_female</td>\n",
       "      <td>4</td>\n",
       "    </tr>\n",
       "    <tr>\n",
       "      <th>8</th>\n",
       "      <td>mosque_count_5000</td>\n",
       "      <td>4</td>\n",
       "    </tr>\n",
       "    <tr>\n",
       "      <th>86</th>\n",
       "      <td>additional_education_raion</td>\n",
       "      <td>3</td>\n",
       "    </tr>\n",
       "    <tr>\n",
       "      <th>82</th>\n",
       "      <td>cafe_count_500_price_high</td>\n",
       "      <td>3</td>\n",
       "    </tr>\n",
       "    <tr>\n",
       "      <th>68</th>\n",
       "      <td>cafe_count_3000_price_500</td>\n",
       "      <td>3</td>\n",
       "    </tr>\n",
       "    <tr>\n",
       "      <th>119</th>\n",
       "      <td>cafe_count_500_price_4000</td>\n",
       "      <td>3</td>\n",
       "    </tr>\n",
       "    <tr>\n",
       "      <th>244</th>\n",
       "      <td>female_f</td>\n",
       "      <td>3</td>\n",
       "    </tr>\n",
       "    <tr>\n",
       "      <th>114</th>\n",
       "      <td>big_church_count_500</td>\n",
       "      <td>3</td>\n",
       "    </tr>\n",
       "    <tr>\n",
       "      <th>168</th>\n",
       "      <td>raion_build_count_with_builddate_info</td>\n",
       "      <td>3</td>\n",
       "    </tr>\n",
       "    <tr>\n",
       "      <th>212</th>\n",
       "      <td>7_14_male</td>\n",
       "      <td>3</td>\n",
       "    </tr>\n",
       "    <tr>\n",
       "      <th>222</th>\n",
       "      <td>big_road1_1line</td>\n",
       "      <td>3</td>\n",
       "    </tr>\n",
       "    <tr>\n",
       "      <th>97</th>\n",
       "      <td>build_count_wood</td>\n",
       "      <td>3</td>\n",
       "    </tr>\n",
       "    <tr>\n",
       "      <th>31</th>\n",
       "      <td>7_14_female</td>\n",
       "      <td>3</td>\n",
       "    </tr>\n",
       "    <tr>\n",
       "      <th>104</th>\n",
       "      <td>work_female</td>\n",
       "      <td>3</td>\n",
       "    </tr>\n",
       "    <tr>\n",
       "      <th>111</th>\n",
       "      <td>church_count_500</td>\n",
       "      <td>2</td>\n",
       "    </tr>\n",
       "    <tr>\n",
       "      <th>19</th>\n",
       "      <td>build_count_mix</td>\n",
       "      <td>2</td>\n",
       "    </tr>\n",
       "    <tr>\n",
       "      <th>227</th>\n",
       "      <td>culture_objects_top_25_raion</td>\n",
       "      <td>2</td>\n",
       "    </tr>\n",
       "    <tr>\n",
       "      <th>92</th>\n",
       "      <td>radiation_raion</td>\n",
       "      <td>2</td>\n",
       "    </tr>\n",
       "    <tr>\n",
       "      <th>147</th>\n",
       "      <td>big_church_count_1000</td>\n",
       "      <td>2</td>\n",
       "    </tr>\n",
       "    <tr>\n",
       "      <th>75</th>\n",
       "      <td>church_count_1000</td>\n",
       "      <td>2</td>\n",
       "    </tr>\n",
       "    <tr>\n",
       "      <th>248</th>\n",
       "      <td>0_6_male</td>\n",
       "      <td>2</td>\n",
       "    </tr>\n",
       "    <tr>\n",
       "      <th>83</th>\n",
       "      <td>0_13_female</td>\n",
       "      <td>1</td>\n",
       "    </tr>\n",
       "    <tr>\n",
       "      <th>100</th>\n",
       "      <td>young_male</td>\n",
       "      <td>1</td>\n",
       "    </tr>\n",
       "    <tr>\n",
       "      <th>34</th>\n",
       "      <td>cafe_count_2000_price_high</td>\n",
       "      <td>1</td>\n",
       "    </tr>\n",
       "    <tr>\n",
       "      <th>66</th>\n",
       "      <td>oil_chemistry_raion</td>\n",
       "      <td>1</td>\n",
       "    </tr>\n",
       "    <tr>\n",
       "      <th>196</th>\n",
       "      <td>leisure_count_2000</td>\n",
       "      <td>1</td>\n",
       "    </tr>\n",
       "    <tr>\n",
       "      <th>185</th>\n",
       "      <td>work_male</td>\n",
       "      <td>1</td>\n",
       "    </tr>\n",
       "    <tr>\n",
       "      <th>225</th>\n",
       "      <td>0_17_all</td>\n",
       "      <td>1</td>\n",
       "    </tr>\n",
       "  </tbody>\n",
       "</table>\n",
       "<p>268 rows × 2 columns</p>\n",
       "</div>"
      ],
      "text/plain": [
       "                                   Feature  Score\n",
       "179                                full_sq   1309\n",
       "64                                 life_sq    499\n",
       "132                             build_year    415\n",
       "58                                   floor    411\n",
       "87                                kitch_sq    344\n",
       "55                               max_floor    337\n",
       "149                                  state    165\n",
       "12                                num_room    125\n",
       "13                           green_zone_km    121\n",
       "109                        kindergarten_km    120\n",
       "3                            industrial_km    116\n",
       "211                            railroad_km    109\n",
       "246                         metro_min_avto     95\n",
       "21                    public_healthcare_km     91\n",
       "142            public_transport_station_km     87\n",
       "182                          metro_km_avto     87\n",
       "160                            catering_km     87\n",
       "73                                 park_km     85\n",
       "116                                 ttk_km     85\n",
       "17                              fitness_km     84\n",
       "60                                material     84\n",
       "205                           radiation_km     84\n",
       "107                               water_km     83\n",
       "117                            cemetery_km     82\n",
       "252                           swim_pool_km     78\n",
       "242                              school_km     77\n",
       "76                       hospice_morgue_km     77\n",
       "115                          university_km     76\n",
       "133                     nuclear_reactor_km     75\n",
       "130                             theater_km     74\n",
       "..                                     ...    ...\n",
       "153               cafe_count_1500_na_price      4\n",
       "167              cafe_count_5000_price_500      4\n",
       "170                           young_female      4\n",
       "8                        mosque_count_5000      4\n",
       "86              additional_education_raion      3\n",
       "82               cafe_count_500_price_high      3\n",
       "68               cafe_count_3000_price_500      3\n",
       "119              cafe_count_500_price_4000      3\n",
       "244                               female_f      3\n",
       "114                   big_church_count_500      3\n",
       "168  raion_build_count_with_builddate_info      3\n",
       "212                              7_14_male      3\n",
       "222                        big_road1_1line      3\n",
       "97                        build_count_wood      3\n",
       "31                             7_14_female      3\n",
       "104                            work_female      3\n",
       "111                       church_count_500      2\n",
       "19                         build_count_mix      2\n",
       "227           culture_objects_top_25_raion      2\n",
       "92                         radiation_raion      2\n",
       "147                  big_church_count_1000      2\n",
       "75                       church_count_1000      2\n",
       "248                               0_6_male      2\n",
       "83                             0_13_female      1\n",
       "100                             young_male      1\n",
       "34              cafe_count_2000_price_high      1\n",
       "66                     oil_chemistry_raion      1\n",
       "196                     leisure_count_2000      1\n",
       "185                              work_male      1\n",
       "225                               0_17_all      1\n",
       "\n",
       "[268 rows x 2 columns]"
      ]
     },
     "execution_count": 65,
     "metadata": {},
     "output_type": "execute_result"
    }
   ],
   "source": [
    "get_feature_importance(model)"
   ]
  },
  {
   "cell_type": "code",
   "execution_count": 66,
   "metadata": {
    "collapsed": true
   },
   "outputs": [],
   "source": [
    "pred = model.predict(dtest)"
   ]
  },
  {
   "cell_type": "code",
   "execution_count": 68,
   "metadata": {},
   "outputs": [],
   "source": [
    "sub = pd.DataFrame({'id':test['id'],'price_doc':pred})"
   ]
  },
  {
   "cell_type": "code",
   "execution_count": 69,
   "metadata": {
    "collapsed": true
   },
   "outputs": [],
   "source": [
    "sub.to_csv('NA_FilledByXGB.csv',index=False)"
   ]
  },
  {
   "cell_type": "code",
   "execution_count": null,
   "metadata": {
    "collapsed": true
   },
   "outputs": [],
   "source": []
  }
 ],
 "metadata": {
  "kernelspec": {
   "display_name": "Python 3",
   "language": "python",
   "name": "python3"
  },
  "language_info": {
   "codemirror_mode": {
    "name": "ipython",
    "version": 3
   },
   "file_extension": ".py",
   "mimetype": "text/x-python",
   "name": "python",
   "nbconvert_exporter": "python",
   "pygments_lexer": "ipython3",
   "version": "3.5.2"
  }
 },
 "nbformat": 4,
 "nbformat_minor": 2
}
