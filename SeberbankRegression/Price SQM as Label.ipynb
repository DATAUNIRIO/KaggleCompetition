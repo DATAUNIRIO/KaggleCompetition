{
 "cells": [
  {
   "cell_type": "code",
   "execution_count": 2,
   "metadata": {},
   "outputs": [
    {
     "name": "stderr",
     "output_type": "stream",
     "text": [
      "/home/jiashen/env3/lib/python3.5/site-packages/sklearn/cross_validation.py:44: DeprecationWarning: This module was deprecated in version 0.18 in favor of the model_selection module into which all the refactored classes and functions are moved. Also note that the interface of the new CV iterators are different from that of this module. This module will be removed in 0.20.\n",
      "  \"This module will be removed in 0.20.\", DeprecationWarning)\n"
     ]
    }
   ],
   "source": [
    "import pandas as pd\n",
    "import numpy as np\n",
    "import xgboost as xgb"
   ]
  },
  {
   "cell_type": "code",
   "execution_count": 3,
   "metadata": {},
   "outputs": [],
   "source": [
    "train = pd.read_csv('train_clean.csv')\n",
    "test = pd.read_csv('test_clean.csv')"
   ]
  },
  {
   "cell_type": "code",
   "execution_count": 4,
   "metadata": {
    "collapsed": true
   },
   "outputs": [],
   "source": [
    "fullsq_fill = np.mean(train[train['full_sq'].notnull()]['full_sq'])\n",
    "train['full_sq'] = train['full_sq'].fillna(fullsq_fill)\n",
    "fullsq_fill = np.mean(test[test['full_sq'].notnull()]['full_sq'])\n",
    "test['full_sq'] = test['full_sq'].fillna(fullsq_fill)"
   ]
  },
  {
   "cell_type": "code",
   "execution_count": 5,
   "metadata": {
    "collapsed": true
   },
   "outputs": [],
   "source": [
    "Price_sqm = [x/y for x,y in zip(list(train['price_doc']*0.95+10),list(train['full_sq']))]"
   ]
  },
  {
   "cell_type": "code",
   "execution_count": 6,
   "metadata": {
    "collapsed": true
   },
   "outputs": [],
   "source": [
    "train['Price_sqm'] = Price_sqm"
   ]
  },
  {
   "cell_type": "code",
   "execution_count": 7,
   "metadata": {
    "collapsed": true
   },
   "outputs": [],
   "source": [
    "train['life_sq_ratio'] = train['life_sq']/train['full_sq']\n",
    "train['kitch_sq_ratio'] = train['kitch_sq']/train['full_sq']\n",
    "test['life_sq_ratio'] = test['life_sq']/test['full_sq']\n",
    "test['kitch_sq_ratio'] = test['kitch_sq']/test['full_sq']"
   ]
  },
  {
   "cell_type": "code",
   "execution_count": 8,
   "metadata": {
    "collapsed": true
   },
   "outputs": [],
   "source": [
    "col = list(test.columns)[2:]\n",
    "col = [each for each in col if each not in ['full_sq','life_sq','kitch_sq']]\n",
    "label = train['Price_sqm']"
   ]
  },
  {
   "cell_type": "code",
   "execution_count": 9,
   "metadata": {
    "collapsed": true
   },
   "outputs": [],
   "source": [
    "dtrain = xgb.DMatrix(train[col],label)"
   ]
  },
  {
   "cell_type": "code",
   "execution_count": 10,
   "metadata": {},
   "outputs": [
    {
     "name": "stdout",
     "output_type": "stream",
     "text": [
      "[0]\ttrain-rmse:133514+614.879\ttest-rmse:133512+1250.17\n",
      "[50]\ttrain-rmse:34906.2+508.618\ttest-rmse:37402.7+1748.64\n",
      "[100]\ttrain-rmse:30887.3+338.079\ttest-rmse:35262.3+1798.06\n",
      "[150]\ttrain-rmse:29474.8+330.452\ttest-rmse:35047.9+1865.59\n",
      "[200]\ttrain-rmse:28375+398.788\ttest-rmse:34936.3+1866.63\n",
      "[250]\ttrain-rmse:27454.8+379.765\ttest-rmse:34875.4+1886.71\n",
      "275\n"
     ]
    }
   ],
   "source": [
    "params = {\n",
    "   'eta': 0.05, ## Try 0.01,3,5\n",
    "   'max_depth': 5,## Try 4,5,6\n",
    "   'subsample': 0.7,\n",
    "   'colsample_bytree': 0.7,\n",
    "   'objective': 'reg:linear',\n",
    "    'eval_metric': 'rmse',\n",
    "    'silent': 1\n",
    "}\n",
    "xgb_cvalid = xgb.cv(params, dtrain, num_boost_round=1000, early_stopping_rounds=20,\n",
    "     verbose_eval=50, show_stdv=True,seed=42)\n",
    "print(len(xgb_cvalid))"
   ]
  },
  {
   "cell_type": "code",
   "execution_count": 11,
   "metadata": {
    "collapsed": true
   },
   "outputs": [],
   "source": [
    "dtest = xgb.DMatrix(test[col])"
   ]
  },
  {
   "cell_type": "code",
   "execution_count": 12,
   "metadata": {
    "collapsed": true
   },
   "outputs": [],
   "source": [
    "model = xgb.train(params,dtrain,num_boost_round=len(xgb_cvalid))"
   ]
  },
  {
   "cell_type": "code",
   "execution_count": 13,
   "metadata": {
    "collapsed": true
   },
   "outputs": [],
   "source": [
    "pred = model.predict(dtest)*test['full_sq']"
   ]
  },
  {
   "cell_type": "code",
   "execution_count": 15,
   "metadata": {},
   "outputs": [],
   "source": [
    "sub = pd.DataFrame({'id':test['id'],'price_doc':pred})"
   ]
  },
  {
   "cell_type": "code",
   "execution_count": 16,
   "metadata": {
    "collapsed": true
   },
   "outputs": [],
   "source": [
    "sub.to_csv('Price_SQRM_as_Label_With_Basic_Features_0.95label.csv',index=False)"
   ]
  },
  {
   "cell_type": "code",
   "execution_count": null,
   "metadata": {
    "collapsed": true
   },
   "outputs": [],
   "source": []
  }
 ],
 "metadata": {
  "kernelspec": {
   "display_name": "Python 3",
   "language": "python",
   "name": "python3"
  },
  "language_info": {
   "codemirror_mode": {
    "name": "ipython",
    "version": 3
   },
   "file_extension": ".py",
   "mimetype": "text/x-python",
   "name": "python",
   "nbconvert_exporter": "python",
   "pygments_lexer": "ipython3",
   "version": "3.5.2"
  }
 },
 "nbformat": 4,
 "nbformat_minor": 2
}
