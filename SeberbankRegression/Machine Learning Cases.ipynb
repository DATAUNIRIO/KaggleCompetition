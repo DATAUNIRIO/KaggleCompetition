{
 "cells": [
  {
   "cell_type": "code",
   "execution_count": 1,
   "metadata": {
    "collapsed": true
   },
   "outputs": [],
   "source": [
    "import pandas as pd\n",
    "import numpy as np"
   ]
  },
  {
   "cell_type": "code",
   "execution_count": 2,
   "metadata": {
    "collapsed": true
   },
   "outputs": [],
   "source": [
    "train = pd.read_csv('train.csv')\n",
    "test = pd.read_csv('test.csv')\n",
    "macro = pd.read_csv('Clean_macro.csv')"
   ]
  },
  {
   "cell_type": "code",
   "execution_count": 3,
   "metadata": {
    "collapsed": true
   },
   "outputs": [],
   "source": [
    "del train['id']\n",
    "del test['id']"
   ]
  },
  {
   "cell_type": "markdown",
   "metadata": {},
   "source": [
    "Clean macro data\n",
    "for i in range(macro.shape[0]):\n",
    "    for j in range(1,macro.shape[1]):\n",
    "        try:\n",
    "            macro.ix[i,j] = macro.ix[i,j].replace(',','')\n",
    "        except Exception:\n",
    "            pass"
   ]
  },
  {
   "cell_type": "code",
   "execution_count": 4,
   "metadata": {
    "collapsed": true
   },
   "outputs": [],
   "source": [
    "# Get Macro Variables\n",
    "macro_vars = list(macro.columns)\n",
    "macro_vars.remove('timestamp')"
   ]
  },
  {
   "cell_type": "markdown",
   "metadata": {},
   "source": [
    "Further Cleansing\n",
    "for each in macro_vars:\n",
    "    macro[each] = macro[each].replace('#!',None)"
   ]
  },
  {
   "cell_type": "markdown",
   "metadata": {},
   "source": [
    "Numeric Transformation\n",
    "for each in macro_vars:\n",
    "    macro[each] = list(np.array(macro[each]).astype(np.float))"
   ]
  },
  {
   "cell_type": "markdown",
   "metadata": {},
   "source": [
    "macro.to_csv('Clean_macro.csv')"
   ]
  },
  {
   "cell_type": "code",
   "execution_count": 5,
   "metadata": {
    "collapsed": true
   },
   "outputs": [],
   "source": [
    "train_columns = list(train.columns)\n",
    "train_columns.remove('timestamp')\n",
    "for each in train_columns:\n",
    "    if train[each].dtype == 'O':\n",
    "        train[each]=pd.factorize(train[each], sort=True)[0]\n",
    "        test[each]=pd.factorize(test[each], sort=True)[0]"
   ]
  },
  {
   "cell_type": "code",
   "execution_count": 6,
   "metadata": {
    "collapsed": true
   },
   "outputs": [],
   "source": [
    "## function to calculate NA Values\n",
    "def NA_Countf(data):\n",
    "    NA_Count = pd.DataFrame({'Sum of NA':data.isnull().sum()}).sort_values(by=['Sum of NA'],ascending=[0])\n",
    "    NA_Count['Percentage'] = NA_Count['Sum of NA']/data.shape[1]\n",
    "    NA_Count = NA_Count[NA_Count['Percentage']>0]\n",
    "    return NA_Count"
   ]
  },
  {
   "cell_type": "code",
   "execution_count": 7,
   "metadata": {
    "collapsed": true
   },
   "outputs": [],
   "source": [
    "## Train, test and Macro NA Counts\n",
    "NA_Train = NA_Countf(train)\n",
    "NA_Test = NA_Countf(test)\n",
    "NA_Macro = NA_Countf(macro)"
   ]
  },
  {
   "cell_type": "code",
   "execution_count": 8,
   "metadata": {},
   "outputs": [
    {
     "name": "stdout",
     "output_type": "stream",
     "text": [
      "True\n",
      "0\n",
      "0\n"
     ]
    }
   ],
   "source": [
    "## Check whether train and test have different columns\n",
    "print(len(list(NA_Train.columns))==len(list(NA_Test.columns)))\n",
    "Non_OL = [each for each in list(NA_Train.columns) if each not in list(NA_Test.columns)]\n",
    "print(len(Non_OL))\n",
    "Non_OL = [each for each in list(NA_Test.columns) if each not in list(NA_Train.columns)]\n",
    "print(len(Non_OL))"
   ]
  },
  {
   "cell_type": "code",
   "execution_count": 9,
   "metadata": {
    "collapsed": true
   },
   "outputs": [],
   "source": [
    "## Macro_NA Dealing\n",
    "MA_DropD = NA_Macro[NA_Macro['Percentage']>0.5].index.tolist()\n",
    "MA_Dealing = [each for each in NA_Macro.index.tolist() if each not in MA_DropD]"
   ]
  },
  {
   "cell_type": "code",
   "execution_count": 10,
   "metadata": {
    "collapsed": true
   },
   "outputs": [],
   "source": [
    "## Use Median Values to fill the NA in those columns\n",
    "for each in MA_Dealing:\n",
    "    Drop_NA = list(macro[each].dropna())\n",
    "    Drop_NA = list(np.array(Drop_NA).astype(np.float))\n",
    "    fill_value = np.median(Drop_NA) \n",
    "    macro[each] = macro[each].fillna(fill_value)"
   ]
  },
  {
   "cell_type": "code",
   "execution_count": 11,
   "metadata": {
    "collapsed": true
   },
   "outputs": [],
   "source": [
    "## Prepare Final Macro Data\n",
    "Macro_Kept = [each for each in list(macro.columns) if each not in MA_DropD]\n",
    "macro = macro[Macro_Kept]"
   ]
  },
  {
   "cell_type": "code",
   "execution_count": 12,
   "metadata": {},
   "outputs": [
    {
     "name": "stdout",
     "output_type": "stream",
     "text": [
      "['hospital_beds_raion', 'build_year', 'state', 'cafe_avg_price_500', 'cafe_sum_500_max_price_avg', 'cafe_sum_500_min_price_avg', 'max_floor', 'material', 'num_room', 'kitch_sq', 'preschool_quota', 'school_quota', 'cafe_sum_1000_max_price_avg', 'cafe_sum_1000_min_price_avg', 'cafe_avg_price_1000', 'life_sq', 'build_count_after_1995', 'build_count_foam', 'raion_build_count_with_material_info', 'build_count_block', 'build_count_wood', 'build_count_frame', 'build_count_brick', 'build_count_1946-1970', 'build_count_panel', 'build_count_monolith', 'build_count_slag', 'build_count_mix', 'raion_build_count_with_builddate_info', 'build_count_before_1920', 'build_count_1921-1945', 'build_count_1971-1995', 'cafe_avg_price_1500', 'cafe_sum_1500_max_price_avg', 'cafe_sum_1500_min_price_avg', 'cafe_sum_2000_max_price_avg', 'cafe_sum_2000_min_price_avg', 'cafe_avg_price_2000', 'cafe_avg_price_3000', 'cafe_sum_3000_max_price_avg', 'cafe_sum_3000_min_price_avg', 'cafe_sum_5000_min_price_avg', 'cafe_sum_5000_max_price_avg', 'cafe_avg_price_5000', 'prom_part_5000', 'floor']\n"
     ]
    }
   ],
   "source": [
    "## Train, test NA Values Dealing\n",
    "Train_drop = NA_Train[NA_Train['Percentage']>=0.5].index.tolist()\n",
    "print(Train_drop)"
   ]
  },
  {
   "cell_type": "code",
   "execution_count": 13,
   "metadata": {
    "collapsed": true
   },
   "outputs": [],
   "source": [
    "## Some features should not be dropped \n",
    "Train_drop.remove('build_year')\n",
    "Train_drop.remove('state')\n",
    "Train_drop.remove('max_floor')\n",
    "Train_drop.remove('material')\n",
    "Train_drop.remove('num_room')\n",
    "Train_drop.remove('kitch_sq')\n",
    "Train_drop.remove('life_sq')\n",
    "Train_drop.remove('floor')"
   ]
  },
  {
   "cell_type": "code",
   "execution_count": 14,
   "metadata": {
    "collapsed": true
   },
   "outputs": [],
   "source": [
    "KeptV = [each for each in list(train.columns) if each not in Train_drop]"
   ]
  },
  {
   "cell_type": "code",
   "execution_count": 15,
   "metadata": {
    "collapsed": true
   },
   "outputs": [],
   "source": [
    "DealtV = [each for each in NA_Train.index.tolist() if each not in Train_drop]"
   ]
  },
  {
   "cell_type": "code",
   "execution_count": 16,
   "metadata": {
    "collapsed": true
   },
   "outputs": [],
   "source": [
    "## Fill NA in table by median values\n",
    "for each in DealtV:\n",
    "    Drop_NA = list(train[each].dropna())\n",
    "    Drop_NA = list(np.array(Drop_NA).astype(np.float))\n",
    "    fill_value = np.median(Drop_NA) \n",
    "    train[each] = train[each].fillna(fill_value)\n",
    "    test[each] = test[each].fillna(fill_value)"
   ]
  },
  {
   "cell_type": "code",
   "execution_count": 17,
   "metadata": {
    "collapsed": true
   },
   "outputs": [],
   "source": [
    "train = train[KeptV]"
   ]
  },
  {
   "cell_type": "code",
   "execution_count": 18,
   "metadata": {
    "collapsed": true
   },
   "outputs": [],
   "source": [
    "T_KeptV = KeptV\n",
    "T_KeptV.remove('price_doc')\n",
    "test = test[T_KeptV]"
   ]
  },
  {
   "cell_type": "code",
   "execution_count": 19,
   "metadata": {
    "collapsed": true
   },
   "outputs": [],
   "source": [
    "## Merge train,test and macro data together\n",
    "train = train.merge(macro,how='left',on='timestamp')\n",
    "test = test.merge(macro,how='left',on='timestamp')"
   ]
  },
  {
   "cell_type": "code",
   "execution_count": 20,
   "metadata": {},
   "outputs": [
    {
     "data": {
      "text/html": [
       "<div>\n",
       "<table border=\"1\" class=\"dataframe\">\n",
       "  <thead>\n",
       "    <tr style=\"text-align: right;\">\n",
       "      <th></th>\n",
       "      <th>timestamp</th>\n",
       "      <th>full_sq</th>\n",
       "      <th>life_sq</th>\n",
       "      <th>floor</th>\n",
       "      <th>max_floor</th>\n",
       "      <th>material</th>\n",
       "      <th>build_year</th>\n",
       "      <th>num_room</th>\n",
       "      <th>kitch_sq</th>\n",
       "      <th>state</th>\n",
       "      <th>...</th>\n",
       "      <th>average_provision_of_build_contract</th>\n",
       "      <th>rts</th>\n",
       "      <th>micex</th>\n",
       "      <th>micex_rgbi_tr</th>\n",
       "      <th>micex_cbi_tr</th>\n",
       "      <th>deposits_value</th>\n",
       "      <th>deposits_growth</th>\n",
       "      <th>mortgage_value</th>\n",
       "      <th>mortgage_rate</th>\n",
       "      <th>fixed_basket</th>\n",
       "    </tr>\n",
       "  </thead>\n",
       "  <tbody>\n",
       "    <tr>\n",
       "      <th>0</th>\n",
       "      <td>2011-08-20</td>\n",
       "      <td>43</td>\n",
       "      <td>27.0</td>\n",
       "      <td>4.0</td>\n",
       "      <td>12.0</td>\n",
       "      <td>1.0</td>\n",
       "      <td>1979.0</td>\n",
       "      <td>2.0</td>\n",
       "      <td>6.0</td>\n",
       "      <td>2.0</td>\n",
       "      <td>...</td>\n",
       "      <td>5.76</td>\n",
       "      <td>1575.33</td>\n",
       "      <td>1438.74</td>\n",
       "      <td>131.16</td>\n",
       "      <td>204.78</td>\n",
       "      <td>10618898</td>\n",
       "      <td>0.009740</td>\n",
       "      <td>323275</td>\n",
       "      <td>11.84</td>\n",
       "      <td>12838.36</td>\n",
       "    </tr>\n",
       "    <tr>\n",
       "      <th>1</th>\n",
       "      <td>2011-08-23</td>\n",
       "      <td>34</td>\n",
       "      <td>19.0</td>\n",
       "      <td>3.0</td>\n",
       "      <td>12.0</td>\n",
       "      <td>1.0</td>\n",
       "      <td>1979.0</td>\n",
       "      <td>2.0</td>\n",
       "      <td>6.0</td>\n",
       "      <td>2.0</td>\n",
       "      <td>...</td>\n",
       "      <td>5.76</td>\n",
       "      <td>1578.91</td>\n",
       "      <td>1444.11</td>\n",
       "      <td>131.45</td>\n",
       "      <td>204.92</td>\n",
       "      <td>10618898</td>\n",
       "      <td>0.009740</td>\n",
       "      <td>323275</td>\n",
       "      <td>11.84</td>\n",
       "      <td>12838.36</td>\n",
       "    </tr>\n",
       "    <tr>\n",
       "      <th>2</th>\n",
       "      <td>2011-08-27</td>\n",
       "      <td>43</td>\n",
       "      <td>29.0</td>\n",
       "      <td>2.0</td>\n",
       "      <td>12.0</td>\n",
       "      <td>1.0</td>\n",
       "      <td>1979.0</td>\n",
       "      <td>2.0</td>\n",
       "      <td>6.0</td>\n",
       "      <td>2.0</td>\n",
       "      <td>...</td>\n",
       "      <td>5.76</td>\n",
       "      <td>1596.17</td>\n",
       "      <td>1458.84</td>\n",
       "      <td>131.08</td>\n",
       "      <td>204.84</td>\n",
       "      <td>10618898</td>\n",
       "      <td>0.009740</td>\n",
       "      <td>323275</td>\n",
       "      <td>11.84</td>\n",
       "      <td>12838.36</td>\n",
       "    </tr>\n",
       "    <tr>\n",
       "      <th>3</th>\n",
       "      <td>2011-09-01</td>\n",
       "      <td>89</td>\n",
       "      <td>50.0</td>\n",
       "      <td>9.0</td>\n",
       "      <td>12.0</td>\n",
       "      <td>1.0</td>\n",
       "      <td>1979.0</td>\n",
       "      <td>2.0</td>\n",
       "      <td>6.0</td>\n",
       "      <td>2.0</td>\n",
       "      <td>...</td>\n",
       "      <td>5.76</td>\n",
       "      <td>1703.86</td>\n",
       "      <td>1551.58</td>\n",
       "      <td>131.45</td>\n",
       "      <td>205.42</td>\n",
       "      <td>10720911</td>\n",
       "      <td>0.009607</td>\n",
       "      <td>386388</td>\n",
       "      <td>11.92</td>\n",
       "      <td>12856.97</td>\n",
       "    </tr>\n",
       "    <tr>\n",
       "      <th>4</th>\n",
       "      <td>2011-09-05</td>\n",
       "      <td>77</td>\n",
       "      <td>77.0</td>\n",
       "      <td>4.0</td>\n",
       "      <td>12.0</td>\n",
       "      <td>1.0</td>\n",
       "      <td>1979.0</td>\n",
       "      <td>2.0</td>\n",
       "      <td>6.0</td>\n",
       "      <td>2.0</td>\n",
       "      <td>...</td>\n",
       "      <td>5.76</td>\n",
       "      <td>1617.01</td>\n",
       "      <td>1492.83</td>\n",
       "      <td>131.19</td>\n",
       "      <td>198.24</td>\n",
       "      <td>10920215</td>\n",
       "      <td>0.018590</td>\n",
       "      <td>386388</td>\n",
       "      <td>11.92</td>\n",
       "      <td>12856.97</td>\n",
       "    </tr>\n",
       "  </tbody>\n",
       "</table>\n",
       "<p>5 rows × 272 columns</p>\n",
       "</div>"
      ],
      "text/plain": [
       "    timestamp  full_sq  life_sq  floor  max_floor  material  build_year  \\\n",
       "0  2011-08-20       43     27.0    4.0       12.0       1.0      1979.0   \n",
       "1  2011-08-23       34     19.0    3.0       12.0       1.0      1979.0   \n",
       "2  2011-08-27       43     29.0    2.0       12.0       1.0      1979.0   \n",
       "3  2011-09-01       89     50.0    9.0       12.0       1.0      1979.0   \n",
       "4  2011-09-05       77     77.0    4.0       12.0       1.0      1979.0   \n",
       "\n",
       "   num_room  kitch_sq  state      ...       \\\n",
       "0       2.0       6.0    2.0      ...        \n",
       "1       2.0       6.0    2.0      ...        \n",
       "2       2.0       6.0    2.0      ...        \n",
       "3       2.0       6.0    2.0      ...        \n",
       "4       2.0       6.0    2.0      ...        \n",
       "\n",
       "   average_provision_of_build_contract      rts    micex  micex_rgbi_tr  \\\n",
       "0                                 5.76  1575.33  1438.74         131.16   \n",
       "1                                 5.76  1578.91  1444.11         131.45   \n",
       "2                                 5.76  1596.17  1458.84         131.08   \n",
       "3                                 5.76  1703.86  1551.58         131.45   \n",
       "4                                 5.76  1617.01  1492.83         131.19   \n",
       "\n",
       "   micex_cbi_tr  deposits_value  deposits_growth  mortgage_value  \\\n",
       "0        204.78        10618898         0.009740          323275   \n",
       "1        204.92        10618898         0.009740          323275   \n",
       "2        204.84        10618898         0.009740          323275   \n",
       "3        205.42        10720911         0.009607          386388   \n",
       "4        198.24        10920215         0.018590          386388   \n",
       "\n",
       "   mortgage_rate  fixed_basket  \n",
       "0          11.84      12838.36  \n",
       "1          11.84      12838.36  \n",
       "2          11.84      12838.36  \n",
       "3          11.92      12856.97  \n",
       "4          11.92      12856.97  \n",
       "\n",
       "[5 rows x 272 columns]"
      ]
     },
     "execution_count": 20,
     "metadata": {},
     "output_type": "execute_result"
    }
   ],
   "source": [
    "train.head()"
   ]
  },
  {
   "cell_type": "code",
   "execution_count": 21,
   "metadata": {},
   "outputs": [
    {
     "name": "stdout",
     "output_type": "stream",
     "text": [
      "(30471, 272)\n",
      "(7662, 271)\n"
     ]
    }
   ],
   "source": [
    "print(train.shape)\n",
    "print(test.shape)"
   ]
  },
  {
   "cell_type": "code",
   "execution_count": 22,
   "metadata": {
    "collapsed": true
   },
   "outputs": [],
   "source": [
    "train['log_price']= np.log(train['price_doc'])"
   ]
  },
  {
   "cell_type": "code",
   "execution_count": 40,
   "metadata": {
    "collapsed": true
   },
   "outputs": [],
   "source": [
    "del train['timestamp']\n",
    "del test['timestamp']"
   ]
  },
  {
   "cell_type": "code",
   "execution_count": 41,
   "metadata": {
    "collapsed": true
   },
   "outputs": [],
   "source": [
    "from sklearn.model_selection import train_test_split"
   ]
  },
  {
   "cell_type": "code",
   "execution_count": 42,
   "metadata": {
    "collapsed": true
   },
   "outputs": [],
   "source": [
    "training,testing = train_test_split(train,test_size=0.2,random_state=42)"
   ]
  },
  {
   "cell_type": "code",
   "execution_count": 43,
   "metadata": {
    "collapsed": true
   },
   "outputs": [],
   "source": [
    "features_col = list(train.columns)\n",
    "features_col.remove('log_price')\n",
    "features_col.remove('price_doc')"
   ]
  },
  {
   "cell_type": "code",
   "execution_count": 44,
   "metadata": {},
   "outputs": [],
   "source": [
    "features = training[features_col]\n",
    "Label = training['log_price']\n",
    "testingf = testing[features_col]\n",
    "testingL = testing['price_doc']"
   ]
  },
  {
   "cell_type": "code",
   "execution_count": 45,
   "metadata": {
    "collapsed": true
   },
   "outputs": [],
   "source": [
    "## Define Cost Function\n",
    "def RMSLE(prediction,actual):\n",
    "    leng = len(prediction)\n",
    "    pred_add = [each+1 for each in prediction]\n",
    "    actual_add = [each+1 for each in actual]\n",
    "    log_pred = list(np.log(pred_add))\n",
    "    log_actual = list(np.log(actual_add))\n",
    "    minus = [i-j for i,j in zip(log_pred,log_actual)]\n",
    "    return np.power(sum(np.power(minus,2))/leng,0.5)"
   ]
  },
  {
   "cell_type": "code",
   "execution_count": 46,
   "metadata": {},
   "outputs": [],
   "source": [
    "import xgboost as xgb"
   ]
  },
  {
   "cell_type": "code",
   "execution_count": 47,
   "metadata": {},
   "outputs": [],
   "source": [
    "from sklearn.tree import DecisionTreeRegressor\n",
    "from sklearn.metrics import mean_squared_error as mse"
   ]
  },
  {
   "cell_type": "code",
   "execution_count": 52,
   "metadata": {},
   "outputs": [],
   "source": [
    "## First, use the Decision Tree Regressor to select the appropriate tree size.\n",
    "mdepth = range(1,11)\n",
    "rmse_g = []\n",
    "rmsle_g = []\n",
    "for each in mdepth:\n",
    "    dt_clf = DecisionTreeRegressor(criterion='mse',max_depth=each)\n",
    "    dt_clf.fit(features,Label)\n",
    "    pred = dt_clf.predict(testingf)\n",
    "    true_pred = np.exp(pred)\n",
    "    rmse = mse(testingL,true_pred)**0.5\n",
    "    rmsle = RMSLE(true_pred,testingL)\n",
    "    rmse_g.append(rmse)\n",
    "    rmsle_g.append(rmsle)"
   ]
  },
  {
   "cell_type": "code",
   "execution_count": 55,
   "metadata": {},
   "outputs": [],
   "source": [
    "Summary = pd.DataFrame({'Depth':mdepth,'RMSE':rmse_g,'RMSLE':rmsle_g})"
   ]
  },
  {
   "cell_type": "code",
   "execution_count": 56,
   "metadata": {
    "collapsed": true
   },
   "outputs": [],
   "source": [
    "from ggplot import *"
   ]
  },
  {
   "cell_type": "code",
   "execution_count": 57,
   "metadata": {},
   "outputs": [
    {
     "data": {
      "image/png": "[encoded data removed]",
      "text/plain": [
       "<matplotlib.figure.Figure at 0x7fa043ab3fd0>"
      ]
     },
     "metadata": {},
     "output_type": "display_data"
    },
    {
     "name": "stdout",
     "output_type": "stream",
     "text": [
      "<ggplot: (-9223363266460601393)>\n"
     ]
    }
   ],
   "source": [
    "g = ggplot(Summary,aes(x='Depth',y='RMSE'))+geom_point()+geom_line()\n",
    "print(g)"
   ]
  },
  {
   "cell_type": "code",
   "execution_count": 58,
   "metadata": {},
   "outputs": [
    {
     "data": {
      "image/png": "[encoded data removed]",
      "text/plain": [
       "<matplotlib.figure.Figure at 0x7fa043ab3be0>"
      ]
     },
     "metadata": {},
     "output_type": "display_data"
    },
    {
     "name": "stdout",
     "output_type": "stream",
     "text": [
      "<ggplot: (8770394174363)>\n"
     ]
    }
   ],
   "source": [
    "g = ggplot(Summary,aes(x='Depth',y='RMSLE'))+geom_point()+geom_line()\n",
    "print(g)"
   ]
  },
  {
   "cell_type": "code",
   "execution_count": 60,
   "metadata": {
    "collapsed": true
   },
   "outputs": [],
   "source": [
    "## Max Depth is set to 5\n",
    "train_DMatrix = xgb.DMatrix(features, label=Label)\n",
    "test_DMatrix = xgb.DMatrix(testingf)"
   ]
  },
  {
   "cell_type": "code",
   "execution_count": 68,
   "metadata": {},
   "outputs": [],
   "source": [
    "## Get GridSearchCV From Sklearn\n",
    "from sklearn.grid_search import GridSearchCV  \n",
    "from xgboost.sklearn import XGBRegressor\n",
    "import matplotlib.pyplot as plt\n",
    "import matplotlib"
   ]
  },
  {
   "cell_type": "code",
   "execution_count": 86,
   "metadata": {
    "collapsed": true
   },
   "outputs": [],
   "source": [
    "## Define a model fit function\n",
    "def modelfit(alg, dtrain=training, predictors=features_col,dtest=testing,cv_folds=5):\n",
    "    xgb_param = alg.get_xgb_params()\n",
    "    xgtrain = xgb.DMatrix(dtrain[predictors].values, label=dtrain['log_price'].values)\n",
    "    cvresult = xgb.cv(xgb_param, xgtrain, num_boost_round=alg.get_params()['n_estimators'], nfold=cv_folds,\n",
    "            metrics='rmse')\n",
    "    alg.set_params(n_estimators=cvresult.shape[0])\n",
    "    #Fit the algorithm on the data\n",
    "    alg.fit(dtrain[predictors], dtrain['log_price'],eval_metric='rmse')\n",
    "    #Predict training set:\n",
    "    dtest_predictions = alg.predict(dtest[predictors])\n",
    "    dtest_predictions = np.exp(dtrain_predictions)\n",
    "    #RMSE And RMSLE Report\n",
    "    RMSE_model = mse(dtest['price_doc'],dtrain_predictions)**0.5\n",
    "    RMSLE_model = RMSLE(dtrain_predictions,dtest['price_doc'])\n",
    "    #Print model report:\n",
    "    print(\"\\nModel Report\")\n",
    "    print('RMSE of Model: '+str(RMSE_model))\n",
    "    print('RMSLE of Model: '+str(RMSLE_model))\n",
    "    feat_imp = pd.Series(alg.booster().get_fscore()).sort_values(ascending=False)\n",
    "    feat_imp.plot(kind='bar', title='Feature Importances')\n",
    "    plt.ylabel('Feature Importance Score')"
   ]
  },
  {
   "cell_type": "code",
   "execution_count": 87,
   "metadata": {},
   "outputs": [
    {
     "ename": "KeyboardInterrupt",
     "evalue": "",
     "output_type": "error",
     "traceback": [
      "\u001b[0;31m---------------------------------------------------------------------------\u001b[0m",
      "\u001b[0;31mKeyboardInterrupt\u001b[0m                         Traceback (most recent call last)",
      "\u001b[0;32m<ipython-input-87-965ad20786f9>\u001b[0m in \u001b[0;36m<module>\u001b[0;34m()\u001b[0m\n\u001b[1;32m     11\u001b[0m  \u001b[0mscale_pos_weight\u001b[0m\u001b[0;34m=\u001b[0m\u001b[0;36m1\u001b[0m\u001b[0;34m,\u001b[0m\u001b[0;34m\u001b[0m\u001b[0m\n\u001b[1;32m     12\u001b[0m  seed=27)\n\u001b[0;32m---> 13\u001b[0;31m \u001b[0mmodelfit\u001b[0m\u001b[0;34m(\u001b[0m\u001b[0mxgb1\u001b[0m\u001b[0;34m)\u001b[0m\u001b[0;34m\u001b[0m\u001b[0m\n\u001b[0m",
      "\u001b[0;32m<ipython-input-86-63560b7720f3>\u001b[0m in \u001b[0;36mmodelfit\u001b[0;34m(alg, dtrain, predictors, dtest, cv_folds)\u001b[0m\n\u001b[1;32m      4\u001b[0m     \u001b[0mxgtrain\u001b[0m \u001b[0;34m=\u001b[0m \u001b[0mxgb\u001b[0m\u001b[0;34m.\u001b[0m\u001b[0mDMatrix\u001b[0m\u001b[0;34m(\u001b[0m\u001b[0mdtrain\u001b[0m\u001b[0;34m[\u001b[0m\u001b[0mpredictors\u001b[0m\u001b[0;34m]\u001b[0m\u001b[0;34m.\u001b[0m\u001b[0mvalues\u001b[0m\u001b[0;34m,\u001b[0m \u001b[0mlabel\u001b[0m\u001b[0;34m=\u001b[0m\u001b[0mdtrain\u001b[0m\u001b[0;34m[\u001b[0m\u001b[0;34m'log_price'\u001b[0m\u001b[0;34m]\u001b[0m\u001b[0;34m.\u001b[0m\u001b[0mvalues\u001b[0m\u001b[0;34m)\u001b[0m\u001b[0;34m\u001b[0m\u001b[0m\n\u001b[1;32m      5\u001b[0m     cvresult = xgb.cv(xgb_param, xgtrain, num_boost_round=alg.get_params()['n_estimators'], nfold=cv_folds,\n\u001b[0;32m----> 6\u001b[0;31m             metrics='rmse')\n\u001b[0m\u001b[1;32m      7\u001b[0m     \u001b[0malg\u001b[0m\u001b[0;34m.\u001b[0m\u001b[0mset_params\u001b[0m\u001b[0;34m(\u001b[0m\u001b[0mn_estimators\u001b[0m\u001b[0;34m=\u001b[0m\u001b[0mcvresult\u001b[0m\u001b[0;34m.\u001b[0m\u001b[0mshape\u001b[0m\u001b[0;34m[\u001b[0m\u001b[0;36m0\u001b[0m\u001b[0;34m]\u001b[0m\u001b[0;34m)\u001b[0m\u001b[0;34m\u001b[0m\u001b[0m\n\u001b[1;32m      8\u001b[0m     \u001b[0;31m#Fit the algorithm on the data\u001b[0m\u001b[0;34m\u001b[0m\u001b[0;34m\u001b[0m\u001b[0m\n",
      "\u001b[0;32m/home/jiashen/env3/lib/python3.5/site-packages/xgboost/training.py\u001b[0m in \u001b[0;36mcv\u001b[0;34m(params, dtrain, num_boost_round, nfold, stratified, folds, metrics, obj, feval, maximize, early_stopping_rounds, fpreproc, as_pandas, verbose_eval, show_stdv, seed, callbacks)\u001b[0m\n\u001b[1;32m    398\u001b[0m                            evaluation_result_list=None))\n\u001b[1;32m    399\u001b[0m         \u001b[0;32mfor\u001b[0m \u001b[0mfold\u001b[0m \u001b[0;32min\u001b[0m \u001b[0mcvfolds\u001b[0m\u001b[0;34m:\u001b[0m\u001b[0;34m\u001b[0m\u001b[0m\n\u001b[0;32m--> 400\u001b[0;31m             \u001b[0mfold\u001b[0m\u001b[0;34m.\u001b[0m\u001b[0mupdate\u001b[0m\u001b[0;34m(\u001b[0m\u001b[0mi\u001b[0m\u001b[0;34m,\u001b[0m \u001b[0mobj\u001b[0m\u001b[0;34m)\u001b[0m\u001b[0;34m\u001b[0m\u001b[0m\n\u001b[0m\u001b[1;32m    401\u001b[0m         \u001b[0mres\u001b[0m \u001b[0;34m=\u001b[0m \u001b[0maggcv\u001b[0m\u001b[0;34m(\u001b[0m\u001b[0;34m[\u001b[0m\u001b[0mf\u001b[0m\u001b[0;34m.\u001b[0m\u001b[0meval\u001b[0m\u001b[0;34m(\u001b[0m\u001b[0mi\u001b[0m\u001b[0;34m,\u001b[0m \u001b[0mfeval\u001b[0m\u001b[0;34m)\u001b[0m \u001b[0;32mfor\u001b[0m \u001b[0mf\u001b[0m \u001b[0;32min\u001b[0m \u001b[0mcvfolds\u001b[0m\u001b[0;34m]\u001b[0m\u001b[0;34m)\u001b[0m\u001b[0;34m\u001b[0m\u001b[0m\n\u001b[1;32m    402\u001b[0m \u001b[0;34m\u001b[0m\u001b[0m\n",
      "\u001b[0;32m/home/jiashen/env3/lib/python3.5/site-packages/xgboost/training.py\u001b[0m in \u001b[0;36mupdate\u001b[0;34m(self, iteration, fobj)\u001b[0m\n\u001b[1;32m    217\u001b[0m     \u001b[0;32mdef\u001b[0m \u001b[0mupdate\u001b[0m\u001b[0;34m(\u001b[0m\u001b[0mself\u001b[0m\u001b[0;34m,\u001b[0m \u001b[0miteration\u001b[0m\u001b[0;34m,\u001b[0m \u001b[0mfobj\u001b[0m\u001b[0;34m)\u001b[0m\u001b[0;34m:\u001b[0m\u001b[0;34m\u001b[0m\u001b[0m\n\u001b[1;32m    218\u001b[0m         \u001b[0;34m\"\"\"\"Update the boosters for one iteration\"\"\"\u001b[0m\u001b[0;34m\u001b[0m\u001b[0m\n\u001b[0;32m--> 219\u001b[0;31m         \u001b[0mself\u001b[0m\u001b[0;34m.\u001b[0m\u001b[0mbst\u001b[0m\u001b[0;34m.\u001b[0m\u001b[0mupdate\u001b[0m\u001b[0;34m(\u001b[0m\u001b[0mself\u001b[0m\u001b[0;34m.\u001b[0m\u001b[0mdtrain\u001b[0m\u001b[0;34m,\u001b[0m \u001b[0miteration\u001b[0m\u001b[0;34m,\u001b[0m \u001b[0mfobj\u001b[0m\u001b[0;34m)\u001b[0m\u001b[0;34m\u001b[0m\u001b[0m\n\u001b[0m\u001b[1;32m    220\u001b[0m \u001b[0;34m\u001b[0m\u001b[0m\n\u001b[1;32m    221\u001b[0m     \u001b[0;32mdef\u001b[0m \u001b[0meval\u001b[0m\u001b[0;34m(\u001b[0m\u001b[0mself\u001b[0m\u001b[0;34m,\u001b[0m \u001b[0miteration\u001b[0m\u001b[0;34m,\u001b[0m \u001b[0mfeval\u001b[0m\u001b[0;34m)\u001b[0m\u001b[0;34m:\u001b[0m\u001b[0;34m\u001b[0m\u001b[0m\n",
      "\u001b[0;32m/home/jiashen/env3/lib/python3.5/site-packages/xgboost/core.py\u001b[0m in \u001b[0;36mupdate\u001b[0;34m(self, dtrain, iteration, fobj)\u001b[0m\n\u001b[1;32m    804\u001b[0m \u001b[0;34m\u001b[0m\u001b[0m\n\u001b[1;32m    805\u001b[0m         \u001b[0;32mif\u001b[0m \u001b[0mfobj\u001b[0m \u001b[0;32mis\u001b[0m \u001b[0;32mNone\u001b[0m\u001b[0;34m:\u001b[0m\u001b[0;34m\u001b[0m\u001b[0m\n\u001b[0;32m--> 806\u001b[0;31m             \u001b[0m_check_call\u001b[0m\u001b[0;34m(\u001b[0m\u001b[0m_LIB\u001b[0m\u001b[0;34m.\u001b[0m\u001b[0mXGBoosterUpdateOneIter\u001b[0m\u001b[0;34m(\u001b[0m\u001b[0mself\u001b[0m\u001b[0;34m.\u001b[0m\u001b[0mhandle\u001b[0m\u001b[0;34m,\u001b[0m \u001b[0miteration\u001b[0m\u001b[0;34m,\u001b[0m \u001b[0mdtrain\u001b[0m\u001b[0;34m.\u001b[0m\u001b[0mhandle\u001b[0m\u001b[0;34m)\u001b[0m\u001b[0;34m)\u001b[0m\u001b[0;34m\u001b[0m\u001b[0m\n\u001b[0m\u001b[1;32m    807\u001b[0m         \u001b[0;32melse\u001b[0m\u001b[0;34m:\u001b[0m\u001b[0;34m\u001b[0m\u001b[0m\n\u001b[1;32m    808\u001b[0m             \u001b[0mpred\u001b[0m \u001b[0;34m=\u001b[0m \u001b[0mself\u001b[0m\u001b[0;34m.\u001b[0m\u001b[0mpredict\u001b[0m\u001b[0;34m(\u001b[0m\u001b[0mdtrain\u001b[0m\u001b[0;34m)\u001b[0m\u001b[0;34m\u001b[0m\u001b[0m\n",
      "\u001b[0;31mKeyboardInterrupt\u001b[0m: "
     ]
    }
   ],
   "source": [
    "## Step 1: Choose a relatively large learning rate and estimators to tune tree-parameters\n",
    "xgb1 = XGBRegressor(\n",
    " learning_rate =0.1,\n",
    " n_estimators= 1000,\n",
    " max_depth=5,\n",
    " min_child_weight=1,\n",
    " gamma=0,\n",
    " subsample=0.8,\n",
    " colsample_bytree=0.8,\n",
    " objective= 'reg:linear',\n",
    " scale_pos_weight=1,\n",
    " seed=27)\n",
    "modelfit(xgb1)"
   ]
  },
  {
   "cell_type": "code",
   "execution_count": 84,
   "metadata": {},
   "outputs": [
    {
     "data": {
      "text/plain": [
       "(24376, 272)"
      ]
     },
     "execution_count": 84,
     "metadata": {},
     "output_type": "execute_result"
    }
   ],
   "source": [
    "training.shape"
   ]
  },
  {
   "cell_type": "code",
   "execution_count": 85,
   "metadata": {},
   "outputs": [
    {
     "data": {
      "text/plain": [
       "(6095, 272)"
      ]
     },
     "execution_count": 85,
     "metadata": {},
     "output_type": "execute_result"
    }
   ],
   "source": [
    "testing.shape"
   ]
  },
  {
   "cell_type": "code",
   "execution_count": null,
   "metadata": {
    "collapsed": true
   },
   "outputs": [],
   "source": []
  }
 ],
 "metadata": {
  "kernelspec": {
   "display_name": "Python 3",
   "language": "python",
   "name": "python3"
  },
  "language_info": {
   "codemirror_mode": {
    "name": "ipython",
    "version": 3
   },
   "file_extension": ".py",
   "mimetype": "text/x-python",
   "name": "python",
   "nbconvert_exporter": "python",
   "pygments_lexer": "ipython3",
   "version": "3.5.2"
  }
 },
 "nbformat": 4,
 "nbformat_minor": 2
}
