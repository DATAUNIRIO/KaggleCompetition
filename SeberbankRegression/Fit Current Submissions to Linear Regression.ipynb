{
 "cells": [
  {
   "cell_type": "code",
   "execution_count": 1,
   "metadata": {
    "collapsed": true
   },
   "outputs": [],
   "source": [
    "%matplotlib inline\n",
    "import pandas as pd\n",
    "import numpy as np"
   ]
  },
  {
   "cell_type": "code",
   "execution_count": 2,
   "metadata": {
    "collapsed": true
   },
   "outputs": [],
   "source": [
    "LB031199 = pd.read_csv('xgb_0.95label.csv')['price_doc']\n",
    "LB032269 = pd.read_csv('xgb_0.95label_all_feature_data_clean.csv')['price_doc']\n",
    "LB031743 = pd.read_csv('xgb_0.95label_tsne.csv')['price_doc']\n",
    "LB031671 = pd.read_csv('xgb_0.95label_tsne_kremlin_others.csv')['price_doc']\n",
    "LB031932 = pd.read_csv('xgb_0.95label_tsne_kremlin_others_macro_feature.csv')['price_doc']\n",
    "LB033258 = pd.read_csv('xgb_0.95label_tsne_kremlin_others_macro_intresection.csv')['price_doc']\n",
    "LB031638 = pd.read_csv('xgb_0.95label_tsne_kremlin_others_param_tuning.csv')['price_doc']\n",
    "LB031340 = pd.read_csv('Submission_xgb2.csv')['price_doc']\n",
    "LB035899 = pd.read_csv('xgb_0.95label_all_feature_data_clean_interactive.csv')['price_doc']\n",
    "id_ = pd.read_csv('xgb_0.95label.csv')['id']"
   ]
  },
  {
   "cell_type": "code",
   "execution_count": 17,
   "metadata": {
    "collapsed": true
   },
   "outputs": [],
   "source": [
    "All_result = pd.DataFrame({'id':id_,'LB031199':LB031199,'LB035899':LB035899,'LB03119':LB031199,'LB032269':LB032269,'LB031743':LB031743,'LB031671':LB031671,'LB031932':LB031932,'LB033258':LB033258,'LB031638':LB031638})"
   ]
  },
  {
   "cell_type": "code",
   "execution_count": 18,
   "metadata": {
    "collapsed": true
   },
   "outputs": [],
   "source": [
    "train = pd.read_csv('train_c.csv')"
   ]
  },
  {
   "cell_type": "code",
   "execution_count": 19,
   "metadata": {
    "collapsed": true
   },
   "outputs": [],
   "source": [
    "All_result['True_Value'] = train['price_doc']"
   ]
  },
  {
   "cell_type": "code",
   "execution_count": 20,
   "metadata": {
    "collapsed": true
   },
   "outputs": [],
   "source": [
    "from sklearn.linear_model import LinearRegression\n",
    "from sklearn.metrics import mean_squared_error as MSE"
   ]
  },
  {
   "cell_type": "code",
   "execution_count": 21,
   "metadata": {
    "collapsed": true
   },
   "outputs": [],
   "source": [
    "col = list(All_result.columns)\n",
    "col.remove('id')\n",
    "col.remove('True_Value')"
   ]
  },
  {
   "cell_type": "code",
   "execution_count": 22,
   "metadata": {},
   "outputs": [
    {
     "name": "stdout",
     "output_type": "stream",
     "text": [
      "2.03E+13\n"
     ]
    }
   ],
   "source": [
    "reg = LinearRegression(fit_intercept =True)\n",
    "reg.fit(All_result[col],All_result['True_Value'])\n",
    "InbagPred = reg.predict(All_result[col])\n",
    "RMSE = MSE(InbagPred,All_result['True_Value'])\n",
    "print(\"{:.2E}\".format(RMSE))"
   ]
  },
  {
   "cell_type": "code",
   "execution_count": 23,
   "metadata": {},
   "outputs": [
    {
     "data": {
      "text/plain": [
       "array([ 0.04044141,  0.04044141,  0.10894686,  0.02539496, -0.10360806,\n",
       "        0.01423091, -0.0408592 , -0.09084694,  0.02222056])"
      ]
     },
     "execution_count": 23,
     "metadata": {},
     "output_type": "execute_result"
    }
   ],
   "source": [
    "reg.coef_"
   ]
  },
  {
   "cell_type": "code",
   "execution_count": null,
   "metadata": {
    "collapsed": true
   },
   "outputs": [],
   "source": [
    "'LB031340':LB031340,"
   ]
  }
 ],
 "metadata": {
  "kernelspec": {
   "display_name": "Python 3",
   "language": "python",
   "name": "python3"
  },
  "language_info": {
   "codemirror_mode": {
    "name": "ipython",
    "version": 3
   },
   "file_extension": ".py",
   "mimetype": "text/x-python",
   "name": "python",
   "nbconvert_exporter": "python",
   "pygments_lexer": "ipython3",
   "version": "3.5.2"
  }
 },
 "nbformat": 4,
 "nbformat_minor": 2
}
