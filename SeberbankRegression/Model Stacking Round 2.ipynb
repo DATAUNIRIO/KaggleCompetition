{
 "cells": [
  {
   "cell_type": "code",
   "execution_count": 91,
   "metadata": {},
   "outputs": [],
   "source": [
    "%run Functions.py"
   ]
  },
  {
   "cell_type": "code",
   "execution_count": 53,
   "metadata": {
    "collapsed": true
   },
   "outputs": [],
   "source": [
    "import numpy as np\n",
    "from ggplot import *\n",
    "import warnings\n",
    "warnings.filterwarnings('ignore')"
   ]
  },
  {
   "cell_type": "markdown",
   "metadata": {},
   "source": [
    "## Stacking Different SKlearn Models"
   ]
  },
  {
   "cell_type": "code",
   "execution_count": 70,
   "metadata": {
    "collapsed": true
   },
   "outputs": [],
   "source": [
    "train = pd.read_csv('train_clean.csv')\n",
    "test = pd.read_csv('test_clean.csv')\n",
    "macro = pd.read_csv('macro_c.csv')"
   ]
  },
  {
   "cell_type": "markdown",
   "metadata": {},
   "source": [
    "**Get additional features for train and test datasets**"
   ]
  },
  {
   "cell_type": "code",
   "execution_count": 71,
   "metadata": {},
   "outputs": [],
   "source": [
    "train,test = get_additional_features(train,test,macro)\n",
    "train = train.fillna(-999)\n",
    "test = test.fillna(-999)"
   ]
  },
  {
   "cell_type": "markdown",
   "metadata": {},
   "source": [
    "## Input 1: RandomForest Regression"
   ]
  },
  {
   "cell_type": "code",
   "execution_count": 73,
   "metadata": {
    "collapsed": true
   },
   "outputs": [],
   "source": [
    "from sklearn.ensemble import RandomForestRegressor"
   ]
  },
  {
   "cell_type": "code",
   "execution_count": 74,
   "metadata": {
    "collapsed": true
   },
   "outputs": [],
   "source": [
    "rf = RandomForestRegressor(n_estimators= 100,criterion='mse',max_features= 'auto',random_state=42,n_jobs=-1,min_samples_leaf=8)"
   ]
  },
  {
   "cell_type": "code",
   "execution_count": 75,
   "metadata": {
    "collapsed": true
   },
   "outputs": [],
   "source": [
    "col = list(test.columns)[2:]"
   ]
  },
  {
   "cell_type": "code",
   "execution_count": 76,
   "metadata": {},
   "outputs": [
    {
     "name": "stdout",
     "output_type": "stream",
     "text": [
      "TRAIN: [ 5853  5854  5855 ..., 29259 29260 29261] TEST: [   0    1    2 ..., 5850 5851 5852]\n",
      "TRAIN: [    0     1     2 ..., 29259 29260 29261] TEST: [ 5853  5854  5855 ..., 11703 11704 11705]\n",
      "TRAIN: [    0     1     2 ..., 29259 29260 29261] TEST: [11706 11707 11708 ..., 17555 17556 17557]\n",
      "TRAIN: [    0     1     2 ..., 29259 29260 29261] TEST: [17558 17559 17560 ..., 23407 23408 23409]\n",
      "TRAIN: [    0     1     2 ..., 23407 23408 23409] TEST: [23410 23411 23412 ..., 29259 29260 29261]\n",
      "Start Training\n"
     ]
    }
   ],
   "source": [
    "RF_Train,RF_Pred = get_sklearn_stack_data(rf,train,col,0.95*train['price_doc']+10,test)"
   ]
  },
  {
   "cell_type": "markdown",
   "metadata": {},
   "source": [
    "## Input 2: Gradient Boosting Regression"
   ]
  },
  {
   "cell_type": "code",
   "execution_count": 78,
   "metadata": {
    "collapsed": true
   },
   "outputs": [],
   "source": [
    "from sklearn.ensemble import GradientBoostingRegressor"
   ]
  },
  {
   "cell_type": "code",
   "execution_count": 79,
   "metadata": {
    "collapsed": true
   },
   "outputs": [],
   "source": [
    "gbt = GradientBoostingRegressor(learning_rate = 0.05,n_estimators = 300,max_depth = 6,max_features = 0.7)"
   ]
  },
  {
   "cell_type": "code",
   "execution_count": 80,
   "metadata": {},
   "outputs": [
    {
     "name": "stdout",
     "output_type": "stream",
     "text": [
      "TRAIN: [ 5853  5854  5855 ..., 29259 29260 29261] TEST: [   0    1    2 ..., 5850 5851 5852]\n",
      "TRAIN: [    0     1     2 ..., 29259 29260 29261] TEST: [ 5853  5854  5855 ..., 11703 11704 11705]\n",
      "TRAIN: [    0     1     2 ..., 29259 29260 29261] TEST: [11706 11707 11708 ..., 17555 17556 17557]\n",
      "TRAIN: [    0     1     2 ..., 29259 29260 29261] TEST: [17558 17559 17560 ..., 23407 23408 23409]\n",
      "TRAIN: [    0     1     2 ..., 23407 23408 23409] TEST: [23410 23411 23412 ..., 29259 29260 29261]\n",
      "Start Training\n"
     ]
    }
   ],
   "source": [
    "GBT_Train,GBT_Pred = get_sklearn_stack_data(gbt,train,col,0.95*train['price_doc']+10,test)"
   ]
  },
  {
   "cell_type": "markdown",
   "metadata": {},
   "source": [
    "## Input 3: Elastic Net"
   ]
  },
  {
   "cell_type": "code",
   "execution_count": 81,
   "metadata": {
    "collapsed": true
   },
   "outputs": [],
   "source": [
    "from sklearn.linear_model import ElasticNet"
   ]
  },
  {
   "cell_type": "code",
   "execution_count": 82,
   "metadata": {},
   "outputs": [
    {
     "name": "stdout",
     "output_type": "stream",
     "text": [
      "TRAIN: [ 5853  5854  5855 ..., 29259 29260 29261] TEST: [   0    1    2 ..., 5850 5851 5852]\n",
      "TRAIN: [    0     1     2 ..., 29259 29260 29261] TEST: [ 5853  5854  5855 ..., 11703 11704 11705]\n",
      "TRAIN: [    0     1     2 ..., 29259 29260 29261] TEST: [11706 11707 11708 ..., 17555 17556 17557]\n",
      "TRAIN: [    0     1     2 ..., 29259 29260 29261] TEST: [17558 17559 17560 ..., 23407 23408 23409]\n",
      "TRAIN: [    0     1     2 ..., 23407 23408 23409] TEST: [23410 23411 23412 ..., 29259 29260 29261]\n",
      "Start Training\n"
     ]
    }
   ],
   "source": [
    "enet = ElasticNet(alpha=200,l1_ratio=1) ## Become Ridge Actually\n",
    "EN_Train,EN_Pred = get_sklearn_stack_data(enet,train,col,0.95*train['price_doc']+10,test)"
   ]
  },
  {
   "cell_type": "markdown",
   "metadata": {},
   "source": [
    "## Input 4: XGBoost With Additional Features"
   ]
  },
  {
   "cell_type": "code",
   "execution_count": 94,
   "metadata": {
    "collapsed": true
   },
   "outputs": [],
   "source": [
    "train = pd.read_csv('train_clean.csv')\n",
    "test = pd.read_csv('test_clean.csv')\n",
    "train,test = get_additional_features(train,test,macro)"
   ]
  },
  {
   "cell_type": "code",
   "execution_count": 95,
   "metadata": {
    "collapsed": true
   },
   "outputs": [],
   "source": [
    "col = list(test.columns)[2:]"
   ]
  },
  {
   "cell_type": "code",
   "execution_count": 97,
   "metadata": {
    "collapsed": true
   },
   "outputs": [],
   "source": [
    "dtrain = xgb.DMatrix(train[col],train['price_doc']*0.95+10)"
   ]
  },
  {
   "cell_type": "code",
   "execution_count": 98,
   "metadata": {
    "collapsed": true
   },
   "outputs": [],
   "source": [
    "params1 = {\n",
    "    'eta': 0.05, ## Try 0.01,3,5\n",
    "    'max_depth': 5,## Try 4,5,6\n",
    "    'subsample': 0.7,\n",
    "    'colsample_bytree': 0.7,\n",
    "    'objective': 'reg:linear',\n",
    "    'eval_metric': 'rmse',\n",
    "    'silent': 1\n",
    "}"
   ]
  },
  {
   "cell_type": "code",
   "execution_count": 99,
   "metadata": {},
   "outputs": [
    {
     "name": "stdout",
     "output_type": "stream",
     "text": [
      "[0]\ttrain-rmse:7.94246e+06\ttest-rmse:7.9481e+06\n",
      "[50]\ttrain-rmse:2.13359e+06\ttest-rmse:2.54057e+06\n",
      "[100]\ttrain-rmse:1.78606e+06\ttest-rmse:2.36385e+06\n",
      "[150]\ttrain-rmse:1.66918e+06\ttest-rmse:2.33625e+06\n",
      "[200]\ttrain-rmse:1.57831e+06\ttest-rmse:2.31639e+06\n",
      "[250]\ttrain-rmse:1.50492e+06\ttest-rmse:2.30487e+06\n",
      "[300]\ttrain-rmse:1.44553e+06\ttest-rmse:2.29495e+06\n",
      "[350]\ttrain-rmse:1.39281e+06\ttest-rmse:2.28973e+06\n",
      "[400]\ttrain-rmse:1.34553e+06\ttest-rmse:2.28595e+06\n",
      "[450]\ttrain-rmse:1.30081e+06\ttest-rmse:2.28405e+06\n",
      "[500]\ttrain-rmse:1.26158e+06\ttest-rmse:2.28342e+06\n",
      "[550]\ttrain-rmse:1.22528e+06\ttest-rmse:2.28128e+06\n"
     ]
    }
   ],
   "source": [
    "xgb_cvalid = xgb.cv(params1, dtrain, num_boost_round=1000, early_stopping_rounds=20,\n",
    "    verbose_eval=50, show_stdv=False,seed=42)"
   ]
  },
  {
   "cell_type": "code",
   "execution_count": 100,
   "metadata": {},
   "outputs": [
    {
     "name": "stdout",
     "output_type": "stream",
     "text": [
      "554\n"
     ]
    }
   ],
   "source": [
    "print(len(xgb_cvalid))"
   ]
  },
  {
   "cell_type": "code",
   "execution_count": 101,
   "metadata": {
    "collapsed": true
   },
   "outputs": [],
   "source": [
    "label1 = train['price_doc']*0.95+10\n",
    "nrounds1 = 554"
   ]
  },
  {
   "cell_type": "code",
   "execution_count": 102,
   "metadata": {},
   "outputs": [
    {
     "name": "stdout",
     "output_type": "stream",
     "text": [
      "TRAIN: [ 5853  5854  5855 ..., 29259 29260 29261] TEST: [   0    1    2 ..., 5850 5851 5852]\n",
      "TRAIN: [    0     1     2 ..., 29259 29260 29261] TEST: [ 5853  5854  5855 ..., 11703 11704 11705]\n",
      "TRAIN: [    0     1     2 ..., 29259 29260 29261] TEST: [11706 11707 11708 ..., 17555 17556 17557]\n",
      "TRAIN: [    0     1     2 ..., 29259 29260 29261] TEST: [17558 17559 17560 ..., 23407 23408 23409]\n",
      "TRAIN: [    0     1     2 ..., 23407 23408 23409] TEST: [23410 23411 23412 ..., 29259 29260 29261]\n",
      "Start Training\n"
     ]
    }
   ],
   "source": [
    "xgb1_Train,xgb1_Test = get_xgb_stack_data(params1,nrounds1,train,col,label1,test)"
   ]
  },
  {
   "cell_type": "markdown",
   "metadata": {},
   "source": [
    "## Input 5: XGBoost with Original Features"
   ]
  },
  {
   "cell_type": "code",
   "execution_count": 103,
   "metadata": {
    "collapsed": true
   },
   "outputs": [],
   "source": [
    "train = pd.read_csv('train_clean.csv')\n",
    "test = pd.read_csv('test_clean.csv')"
   ]
  },
  {
   "cell_type": "code",
   "execution_count": 104,
   "metadata": {
    "collapsed": true
   },
   "outputs": [],
   "source": [
    "col = list(test.columns)[2:]"
   ]
  },
  {
   "cell_type": "code",
   "execution_count": 105,
   "metadata": {},
   "outputs": [
    {
     "name": "stdout",
     "output_type": "stream",
     "text": [
      "[0]\ttrain-rmse:7.94259e+06\ttest-rmse:7.94835e+06\n",
      "[50]\ttrain-rmse:2.14214e+06\ttest-rmse:2.55265e+06\n",
      "[100]\ttrain-rmse:1.80711e+06\ttest-rmse:2.3833e+06\n",
      "[150]\ttrain-rmse:1.68467e+06\ttest-rmse:2.35247e+06\n",
      "[200]\ttrain-rmse:1.60159e+06\ttest-rmse:2.33181e+06\n",
      "[250]\ttrain-rmse:1.5381e+06\ttest-rmse:2.32198e+06\n",
      "[300]\ttrain-rmse:1.48355e+06\ttest-rmse:2.3155e+06\n",
      "[350]\ttrain-rmse:1.43542e+06\ttest-rmse:2.31321e+06\n",
      "[400]\ttrain-rmse:1.38895e+06\ttest-rmse:2.30794e+06\n",
      "400\n"
     ]
    }
   ],
   "source": [
    "dtrain = xgb.DMatrix(train[col],train['price_doc']*0.95+10)\n",
    "params2 = {\n",
    "    'eta': 0.05, ## Try 0.01,3,5\n",
    "    'max_depth': 5,## Try 4,5,6\n",
    "    'subsample': 0.7,\n",
    "    'colsample_bytree': 0.7,\n",
    "    'objective': 'reg:linear',\n",
    "    'eval_metric': 'rmse',\n",
    "    'silent': 1\n",
    "}\n",
    "xgb_cvalid = xgb.cv(params2, dtrain, num_boost_round=1000, early_stopping_rounds=20,\n",
    "    verbose_eval=50, show_stdv=False,seed=42)\n",
    "print(len(xgb_cvalid))"
   ]
  },
  {
   "cell_type": "code",
   "execution_count": 106,
   "metadata": {
    "collapsed": true
   },
   "outputs": [],
   "source": [
    "label2 = 0.95*train['price_doc']+10\n",
    "nround2 = 400"
   ]
  },
  {
   "cell_type": "code",
   "execution_count": 108,
   "metadata": {},
   "outputs": [
    {
     "name": "stdout",
     "output_type": "stream",
     "text": [
      "TRAIN: [ 5853  5854  5855 ..., 29259 29260 29261] TEST: [   0    1    2 ..., 5850 5851 5852]\n",
      "TRAIN: [    0     1     2 ..., 29259 29260 29261] TEST: [ 5853  5854  5855 ..., 11703 11704 11705]\n",
      "TRAIN: [    0     1     2 ..., 29259 29260 29261] TEST: [11706 11707 11708 ..., 17555 17556 17557]\n",
      "TRAIN: [    0     1     2 ..., 29259 29260 29261] TEST: [17558 17559 17560 ..., 23407 23408 23409]\n",
      "TRAIN: [    0     1     2 ..., 23407 23408 23409] TEST: [23410 23411 23412 ..., 29259 29260 29261]\n",
      "Start Training\n"
     ]
    }
   ],
   "source": [
    "xgb2_Train,xgb2_Test = get_xgb_stack_data(params2,nround2,train,col,label2,test)"
   ]
  },
  {
   "cell_type": "markdown",
   "metadata": {},
   "source": [
    "## Input 6: XGBoost With Additional Features + Prices House Per Time"
   ]
  },
  {
   "cell_type": "code",
   "execution_count": 110,
   "metadata": {
    "collapsed": true
   },
   "outputs": [],
   "source": [
    "train = pd.read_csv('train_clean.csv')\n",
    "test = pd.read_csv('test_clean.csv')\n",
    "train,test = get_additional_features(train,test,macro)"
   ]
  },
  {
   "cell_type": "code",
   "execution_count": 111,
   "metadata": {
    "collapsed": true
   },
   "outputs": [],
   "source": [
    "price = pd.read_csv('moscow_avg_price.csv')"
   ]
  },
  {
   "cell_type": "code",
   "execution_count": 113,
   "metadata": {},
   "outputs": [],
   "source": [
    "price = price[['timestamp','moscow_avg_price_avg_rub','moscow_avg_price_low_rub']]"
   ]
  },
  {
   "cell_type": "code",
   "execution_count": 114,
   "metadata": {
    "collapsed": true
   },
   "outputs": [],
   "source": [
    "price['timestamp'] = pd.to_datetime(price['timestamp'])"
   ]
  },
  {
   "cell_type": "code",
   "execution_count": 115,
   "metadata": {
    "collapsed": true
   },
   "outputs": [],
   "source": [
    "train = train.merge(price,on='timestamp',how='left')\n",
    "test = test.merge(price,on='timestamp',how='left')"
   ]
  },
  {
   "cell_type": "code",
   "execution_count": 117,
   "metadata": {},
   "outputs": [
    {
     "name": "stdout",
     "output_type": "stream",
     "text": [
      "[0]\ttrain-rmse:7.94257e+06\ttest-rmse:7.94813e+06\n",
      "[50]\ttrain-rmse:2.12844e+06\ttest-rmse:2.54503e+06\n",
      "[100]\ttrain-rmse:1.77994e+06\ttest-rmse:2.35871e+06\n",
      "[150]\ttrain-rmse:1.66482e+06\ttest-rmse:2.32385e+06\n",
      "[200]\ttrain-rmse:1.57173e+06\ttest-rmse:2.3039e+06\n",
      "[250]\ttrain-rmse:1.50211e+06\ttest-rmse:2.29097e+06\n",
      "[300]\ttrain-rmse:1.4433e+06\ttest-rmse:2.28311e+06\n",
      "[350]\ttrain-rmse:1.38899e+06\ttest-rmse:2.27806e+06\n",
      "[400]\ttrain-rmse:1.33946e+06\ttest-rmse:2.27455e+06\n",
      "[450]\ttrain-rmse:1.29632e+06\ttest-rmse:2.27239e+06\n",
      "443\n"
     ]
    }
   ],
   "source": [
    "col = list(test.columns)[2:]\n",
    "dtrain = xgb.DMatrix(train[col],train['price_doc']*0.95+10)\n",
    "params3 = {\n",
    "    'eta': 0.05, ## Try 0.01,3,5\n",
    "    'max_depth': 5,## Try 4,5,6\n",
    "    'subsample': 0.7,\n",
    "    'colsample_bytree': 0.7,\n",
    "    'objective': 'reg:linear',\n",
    "    'eval_metric': 'rmse',\n",
    "    'silent': 1\n",
    "}\n",
    "xgb_cvalid = xgb.cv(params3, dtrain, num_boost_round=1000, early_stopping_rounds=20,\n",
    "    verbose_eval=50, show_stdv=False,seed=42)\n",
    "print(len(xgb_cvalid))"
   ]
  },
  {
   "cell_type": "code",
   "execution_count": 118,
   "metadata": {},
   "outputs": [
    {
     "name": "stdout",
     "output_type": "stream",
     "text": [
      "TRAIN: [ 5853  5854  5855 ..., 29259 29260 29261] TEST: [   0    1    2 ..., 5850 5851 5852]\n",
      "TRAIN: [    0     1     2 ..., 29259 29260 29261] TEST: [ 5853  5854  5855 ..., 11703 11704 11705]\n",
      "TRAIN: [    0     1     2 ..., 29259 29260 29261] TEST: [11706 11707 11708 ..., 17555 17556 17557]\n",
      "TRAIN: [    0     1     2 ..., 29259 29260 29261] TEST: [17558 17559 17560 ..., 23407 23408 23409]\n",
      "TRAIN: [    0     1     2 ..., 23407 23408 23409] TEST: [23410 23411 23412 ..., 29259 29260 29261]\n",
      "Start Training\n"
     ]
    }
   ],
   "source": [
    "label3 = 0.95*train['price_doc']+10\n",
    "nround3 = 443\n",
    "xgb3_Train,xgb3_Test = get_xgb_stack_data(params3,nround3,train,col,label3,test)"
   ]
  },
  {
   "cell_type": "markdown",
   "metadata": {},
   "source": [
    "## Level 2 XGBoost: Stack All"
   ]
  },
  {
   "cell_type": "code",
   "execution_count": 231,
   "metadata": {
    "collapsed": true
   },
   "outputs": [],
   "source": [
    "train_level2 = pd.DataFrame({'rf':RF_Train['predicted'],'gbt':GBT_Train['predicted'],'ENet':EN_Train['predicted'],'xgb1':xgb1_Train['predicted'],'xgb2':xgb2_Train['predicted'],'xgb3':xgb3_Train['predicted'],'label':xgb3_Train['label']})"
   ]
  },
  {
   "cell_type": "code",
   "execution_count": 232,
   "metadata": {
    "collapsed": true
   },
   "outputs": [],
   "source": [
    "test_level2 = pd.DataFrame({'rf':RF_Pred,'gbt':GBT_Pred,'ENet':EN_Pred,'xgb1':xgb1_Test,'xgb2':xgb2_Test,'xgb3':xgb3_Test})"
   ]
  },
  {
   "cell_type": "code",
   "execution_count": 207,
   "metadata": {},
   "outputs": [],
   "source": [
    "col = list(test_level2.columns)\n",
    "train_level2 = train_level2.iloc[num:,:]\n",
    "label = train_level2['label']\n",
    "dtrain = xgb.DMatrix(train_level2[col],label)"
   ]
  },
  {
   "cell_type": "code",
   "execution_count": 208,
   "metadata": {
    "collapsed": true
   },
   "outputs": [],
   "source": [
    "params = {\n",
    "   'eta': 0.03, ## Try 0.01,3,5\n",
    "   'max_depth': 2,## Try 4,5,6\n",
    "   'subsample': 1,\n",
    "   'colsample_bytree':1,\n",
    "   'objective': 'reg:linear',\n",
    "    'eval_metric': 'rmse',\n",
    "    'silent': 1\n",
    "}"
   ]
  },
  {
   "cell_type": "code",
   "execution_count": 209,
   "metadata": {},
   "outputs": [
    {
     "name": "stdout",
     "output_type": "stream",
     "text": [
      "[0]\ttrain-rmse:8.25881e+06\ttest-rmse:8.25852e+06\n",
      "[50]\ttrain-rmse:2.86339e+06\ttest-rmse:2.92721e+06\n",
      "[100]\ttrain-rmse:2.15927e+06\ttest-rmse:2.27513e+06\n",
      "[150]\ttrain-rmse:2.0679e+06\ttest-rmse:2.2379e+06\n"
     ]
    }
   ],
   "source": [
    "xgb_cvalid = xgb.cv(params, dtrain, num_boost_round=1000, early_stopping_rounds=20,\n",
    "    verbose_eval=50, show_stdv=False,seed=42)"
   ]
  },
  {
   "cell_type": "code",
   "execution_count": 210,
   "metadata": {},
   "outputs": [
    {
     "data": {
      "text/plain": [
       "136"
      ]
     },
     "execution_count": 210,
     "metadata": {},
     "output_type": "execute_result"
    }
   ],
   "source": [
    "len(xgb_cvalid)"
   ]
  },
  {
   "cell_type": "code",
   "execution_count": 211,
   "metadata": {},
   "outputs": [],
   "source": [
    "level2_model = xgb.train(params,dtrain,num_boost_round=136)"
   ]
  },
  {
   "cell_type": "code",
   "execution_count": 212,
   "metadata": {},
   "outputs": [],
   "source": [
    "dtest = xgb.DMatrix(test_level2)"
   ]
  },
  {
   "cell_type": "code",
   "execution_count": 213,
   "metadata": {
    "collapsed": true
   },
   "outputs": [],
   "source": [
    "def get_feature_importance(model):\n",
    "    Importance = model.get_fscore()\n",
    "    Importance = list(Importance.items())\n",
    "    Feature= []\n",
    "    Score = []\n",
    "    for each in Importance:\n",
    "        Feature.append(each[0])\n",
    "        Score.append(each[1])\n",
    "    df = pd.DataFrame({'Feature':Feature,'Score':Score}).sort_values(by=['Score'],ascending=[0])\n",
    "    return df    "
   ]
  },
  {
   "cell_type": "code",
   "execution_count": 214,
   "metadata": {},
   "outputs": [
    {
     "data": {
      "text/html": [
       "<div>\n",
       "<table border=\"1\" class=\"dataframe\">\n",
       "  <thead>\n",
       "    <tr style=\"text-align: right;\">\n",
       "      <th></th>\n",
       "      <th>Feature</th>\n",
       "      <th>Score</th>\n",
       "    </tr>\n",
       "  </thead>\n",
       "  <tbody>\n",
       "    <tr>\n",
       "      <th>1</th>\n",
       "      <td>xgb3</td>\n",
       "      <td>131</td>\n",
       "    </tr>\n",
       "    <tr>\n",
       "      <th>0</th>\n",
       "      <td>xgb2</td>\n",
       "      <td>81</td>\n",
       "    </tr>\n",
       "    <tr>\n",
       "      <th>3</th>\n",
       "      <td>rf</td>\n",
       "      <td>72</td>\n",
       "    </tr>\n",
       "    <tr>\n",
       "      <th>2</th>\n",
       "      <td>xgb1</td>\n",
       "      <td>47</td>\n",
       "    </tr>\n",
       "    <tr>\n",
       "      <th>5</th>\n",
       "      <td>gbt</td>\n",
       "      <td>46</td>\n",
       "    </tr>\n",
       "    <tr>\n",
       "      <th>4</th>\n",
       "      <td>ENet</td>\n",
       "      <td>29</td>\n",
       "    </tr>\n",
       "  </tbody>\n",
       "</table>\n",
       "</div>"
      ],
      "text/plain": [
       "  Feature  Score\n",
       "1    xgb3    131\n",
       "0    xgb2     81\n",
       "3      rf     72\n",
       "2    xgb1     47\n",
       "5     gbt     46\n",
       "4    ENet     29"
      ]
     },
     "execution_count": 214,
     "metadata": {},
     "output_type": "execute_result"
    }
   ],
   "source": [
    "get_feature_importance(level2_model)"
   ]
  },
  {
   "cell_type": "code",
   "execution_count": 215,
   "metadata": {
    "collapsed": true
   },
   "outputs": [],
   "source": [
    "pred = level2_model.predict(dtest)"
   ]
  },
  {
   "cell_type": "code",
   "execution_count": 216,
   "metadata": {},
   "outputs": [],
   "source": [
    "sub = pd.DataFrame({'id':test['id'],'price_doc':pred})"
   ]
  },
  {
   "cell_type": "code",
   "execution_count": 217,
   "metadata": {},
   "outputs": [],
   "source": [
    "sub.to_csv('Stacking_3SKlearn_3xgb_correct222.csv',index=False)"
   ]
  },
  {
   "cell_type": "markdown",
   "metadata": {},
   "source": [
    "## Level 2 Stacking: Only XGBoost"
   ]
  },
  {
   "cell_type": "code",
   "execution_count": 218,
   "metadata": {
    "collapsed": true
   },
   "outputs": [],
   "source": [
    "train_level2_2 = pd.DataFrame({'rf':RF_Train['predicted'],'xgb2':xgb2_Train['predicted'],'xgb3':xgb3_Train['predicted'],'label':xgb3_Train['label']})\n",
    "test_level2_2 = pd.DataFrame({'rf':RF_Pred,'xgb2':xgb2_Test,'xgb3':xgb3_Test})"
   ]
  },
  {
   "cell_type": "code",
   "execution_count": 219,
   "metadata": {},
   "outputs": [],
   "source": [
    "#num = round(0.2*len(train_level2_2))"
   ]
  },
  {
   "cell_type": "code",
   "execution_count": 220,
   "metadata": {
    "collapsed": true
   },
   "outputs": [],
   "source": [
    "#train_level2_2 = train_level2_2.iloc[num:,:]\n",
    "col = list(test_level2_2.columns)"
   ]
  },
  {
   "cell_type": "code",
   "execution_count": 221,
   "metadata": {},
   "outputs": [],
   "source": [
    "label = train_level2_2['label']\n",
    "dtrain = xgb.DMatrix(train_level2_2[col],label)\n",
    "dtest = xgb.DMatrix(test_level2_2)"
   ]
  },
  {
   "cell_type": "code",
   "execution_count": 222,
   "metadata": {},
   "outputs": [
    {
     "name": "stdout",
     "output_type": "stream",
     "text": [
      "[0]\ttrain-rmse:8.08991e+06\ttest-rmse:8.09027e+06\n",
      "[50]\ttrain-rmse:2.93899e+06\ttest-rmse:2.98985e+06\n",
      "[100]\ttrain-rmse:2.30371e+06\ttest-rmse:2.40704e+06\n",
      "[150]\ttrain-rmse:2.22778e+06\ttest-rmse:2.37673e+06\n"
     ]
    }
   ],
   "source": [
    "xgb_cvalid = xgb.cv(params, dtrain, num_boost_round=1000, early_stopping_rounds=20,\n",
    "    verbose_eval=50, show_stdv=False,seed=42)"
   ]
  },
  {
   "cell_type": "code",
   "execution_count": 223,
   "metadata": {},
   "outputs": [
    {
     "data": {
      "text/plain": [
       "144"
      ]
     },
     "execution_count": 223,
     "metadata": {},
     "output_type": "execute_result"
    }
   ],
   "source": [
    "len(xgb_cvalid)"
   ]
  },
  {
   "cell_type": "code",
   "execution_count": 224,
   "metadata": {
    "collapsed": true
   },
   "outputs": [],
   "source": [
    "model = xgb.train(params,dtrain,num_boost_round=144)"
   ]
  },
  {
   "cell_type": "code",
   "execution_count": 225,
   "metadata": {},
   "outputs": [],
   "source": [
    "pred = model.predict(dtest)"
   ]
  },
  {
   "cell_type": "code",
   "execution_count": 226,
   "metadata": {},
   "outputs": [],
   "source": [
    "sub2 = pd.DataFrame({'id':test['id'],'price_doc':pred})"
   ]
  },
  {
   "cell_type": "code",
   "execution_count": 227,
   "metadata": {
    "collapsed": true
   },
   "outputs": [],
   "source": [
    "sub2.to_csv('Stacking_xgb3_and_2_and_RF_corrected333.csv',index=False)"
   ]
  },
  {
   "cell_type": "markdown",
   "metadata": {},
   "source": [
    "## Get yesterday's stacking input"
   ]
  },
  {
   "cell_type": "code",
   "execution_count": 233,
   "metadata": {
    "collapsed": true
   },
   "outputs": [],
   "source": [
    "train_input = pd.read_csv('Stacking_Input.csv')\n",
    "test_input = pd.read_csv('Stacking_test_input.csv')"
   ]
  },
  {
   "cell_type": "code",
   "execution_count": 234,
   "metadata": {
    "collapsed": true
   },
   "outputs": [],
   "source": [
    "del train_input['label']"
   ]
  },
  {
   "cell_type": "code",
   "execution_count": 235,
   "metadata": {},
   "outputs": [
    {
     "data": {
      "text/plain": [
       "(29262, 7)"
      ]
     },
     "execution_count": 235,
     "metadata": {},
     "output_type": "execute_result"
    }
   ],
   "source": [
    "train_level2.shape"
   ]
  },
  {
   "cell_type": "code",
   "execution_count": 236,
   "metadata": {},
   "outputs": [],
   "source": [
    "new_train = pd.concat([train_level2,train_input],axis=1)"
   ]
  },
  {
   "cell_type": "code",
   "execution_count": 237,
   "metadata": {
    "collapsed": true
   },
   "outputs": [],
   "source": [
    "new_test = pd.concat([test_level2,test_input],axis=1)"
   ]
  },
  {
   "cell_type": "code",
   "execution_count": 239,
   "metadata": {},
   "outputs": [],
   "source": [
    "col = list(new_test.columns)"
   ]
  },
  {
   "cell_type": "code",
   "execution_count": 240,
   "metadata": {
    "collapsed": true
   },
   "outputs": [],
   "source": [
    "params = {\n",
    "   'eta': 0.03, ## Try 0.01,3,5\n",
    "   'max_depth': 2,## Try 4,5,6\n",
    "   'subsample': 1,\n",
    "   'colsample_bytree':1,\n",
    "   'objective': 'reg:linear',\n",
    "    'eval_metric': 'rmse',\n",
    "    'silent': 1\n",
    "}"
   ]
  },
  {
   "cell_type": "code",
   "execution_count": 244,
   "metadata": {},
   "outputs": [],
   "source": [
    "dtrain = xgb.DMatrix(new_train[col],new_train['label'])\n",
    "dtest = xgb.DMatrix(new_test)"
   ]
  },
  {
   "cell_type": "code",
   "execution_count": 245,
   "metadata": {},
   "outputs": [
    {
     "name": "stdout",
     "output_type": "stream",
     "text": [
      "[0]\ttrain-rmse:8.08958e+06\ttest-rmse:8.09049e+06\n",
      "[50]\ttrain-rmse:2.90971e+06\ttest-rmse:2.97815e+06\n",
      "[100]\ttrain-rmse:2.25399e+06\ttest-rmse:2.38663e+06\n",
      "[150]\ttrain-rmse:2.1614e+06\ttest-rmse:2.35052e+06\n"
     ]
    }
   ],
   "source": [
    "xgb_cvalid = xgb.cv(params, dtrain, num_boost_round=1000, early_stopping_rounds=20,\n",
    "    verbose_eval=50, show_stdv=False,seed=42)"
   ]
  },
  {
   "cell_type": "code",
   "execution_count": 246,
   "metadata": {},
   "outputs": [
    {
     "name": "stdout",
     "output_type": "stream",
     "text": [
      "168\n"
     ]
    }
   ],
   "source": [
    "model = xgb.train(params,dtrain,num_boost_round=len(xgb_cvalid))\n",
    "print(len(xgb_cvalid))"
   ]
  },
  {
   "cell_type": "code",
   "execution_count": 248,
   "metadata": {},
   "outputs": [],
   "source": [
    "FI=get_feature_importance(model)"
   ]
  },
  {
   "cell_type": "code",
   "execution_count": 252,
   "metadata": {
    "collapsed": true
   },
   "outputs": [],
   "source": [
    "Models = FI['Feature'][:6]"
   ]
  },
  {
   "cell_type": "code",
   "execution_count": 254,
   "metadata": {},
   "outputs": [],
   "source": [
    "dtrain = xgb.DMatrix(new_train[Models],new_train['label'])\n",
    "dtest = xgb.DMatrix(new_test[Models])"
   ]
  },
  {
   "cell_type": "code",
   "execution_count": 255,
   "metadata": {},
   "outputs": [
    {
     "name": "stdout",
     "output_type": "stream",
     "text": [
      "[0]\ttrain-rmse:8.08958e+06\ttest-rmse:8.09049e+06\n",
      "[50]\ttrain-rmse:2.91337e+06\ttest-rmse:2.97464e+06\n",
      "[100]\ttrain-rmse:2.26092e+06\ttest-rmse:2.37958e+06\n",
      "[150]\ttrain-rmse:2.17232e+06\ttest-rmse:2.33255e+06\n",
      "[200]\ttrain-rmse:2.13482e+06\ttest-rmse:2.32212e+06\n"
     ]
    }
   ],
   "source": [
    "xgb_cvalid = xgb.cv(params, dtrain, num_boost_round=1000, early_stopping_rounds=20,\n",
    "    verbose_eval=50, show_stdv=False,seed=42)"
   ]
  },
  {
   "cell_type": "code",
   "execution_count": 256,
   "metadata": {
    "collapsed": true
   },
   "outputs": [],
   "source": [
    "model = xgb.train(params,dtrain,num_boost_round=len(xgb_cvalid))"
   ]
  },
  {
   "cell_type": "code",
   "execution_count": 258,
   "metadata": {
    "collapsed": true
   },
   "outputs": [],
   "source": [
    "pred = model.predict(dtest)"
   ]
  },
  {
   "cell_type": "code",
   "execution_count": 260,
   "metadata": {},
   "outputs": [],
   "source": [
    "sub = pd.DataFrame({'id':test['id'],'price_doc':pred})"
   ]
  },
  {
   "cell_type": "code",
   "execution_count": 261,
   "metadata": {
    "collapsed": true
   },
   "outputs": [],
   "source": [
    "sub.to_csv('Stacking_0628_FinalRounds.csv',index=False)"
   ]
  },
  {
   "cell_type": "code",
   "execution_count": 263,
   "metadata": {},
   "outputs": [],
   "source": [
    "new_train.to_csv('Stacking_Input_Saved_0628.csv',index=False)\n",
    "new_test.to_csv('Stacking_Test_Saved_0628.csv',index=False)"
   ]
  },
  {
   "cell_type": "code",
   "execution_count": null,
   "metadata": {
    "collapsed": true
   },
   "outputs": [],
   "source": []
  }
 ],
 "metadata": {
  "kernelspec": {
   "display_name": "Python 3",
   "language": "python",
   "name": "python3"
  },
  "language_info": {
   "codemirror_mode": {
    "name": "ipython",
    "version": 3
   },
   "file_extension": ".py",
   "mimetype": "text/x-python",
   "name": "python",
   "nbconvert_exporter": "python",
   "pygments_lexer": "ipython3",
   "version": "3.5.2"
  }
 },
 "nbformat": 4,
 "nbformat_minor": 2
}
