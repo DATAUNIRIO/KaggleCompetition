{
 "cells": [
  {
   "cell_type": "markdown",
   "metadata": {},
   "source": [
    "## Load Packages and Dataset"
   ]
  },
  {
   "cell_type": "code",
   "execution_count": 1,
   "metadata": {
    "collapsed": true
   },
   "outputs": [],
   "source": [
    "%matplotlib inline\n",
    "import pandas as pd\n",
    "import numpy as np\n",
    "from ggplot import *\n",
    "import datetime"
   ]
  },
  {
   "cell_type": "code",
   "execution_count": 2,
   "metadata": {
    "collapsed": true
   },
   "outputs": [],
   "source": [
    "train = pd.read_csv('train_c.csv',parse_dates=['timestamp'])\n",
    "test = pd.read_csv('test_c.csv',parse_dates=['timestamp'])"
   ]
  },
  {
   "cell_type": "markdown",
   "metadata": {},
   "source": [
    "## Extra Feature Engineering From Kernel"
   ]
  },
  {
   "cell_type": "code",
   "execution_count": 5,
   "metadata": {
    "collapsed": true
   },
   "outputs": [],
   "source": [
    "# Add month-year\n",
    "month_year = (train.timestamp.dt.month + train.timestamp.dt.year * 100)\n",
    "month_year_cnt_map = month_year.value_counts().to_dict()\n",
    "train['month_year_cnt'] = month_year.map(month_year_cnt_map)\n",
    "\n",
    "month_year = (test.timestamp.dt.month + test.timestamp.dt.year * 100)\n",
    "month_year_cnt_map = month_year.value_counts().to_dict()\n",
    "test['month_year_cnt'] = month_year.map(month_year_cnt_map)\n",
    "\n",
    "# Add week-year count\n",
    "week_year = (train.timestamp.dt.weekofyear + train.timestamp.dt.year * 100)\n",
    "week_year_cnt_map = week_year.value_counts().to_dict()\n",
    "train['week_year_cnt'] = week_year.map(week_year_cnt_map)\n",
    "\n",
    "week_year = (test.timestamp.dt.weekofyear + test.timestamp.dt.year * 100)\n",
    "week_year_cnt_map = week_year.value_counts().to_dict()\n",
    "test['week_year_cnt'] = week_year.map(week_year_cnt_map)\n",
    "\n",
    "# Add month and day-of-week\n",
    "train['month'] = train.timestamp.dt.month\n",
    "train['dow'] = train.timestamp.dt.dayofweek\n",
    "\n",
    "test['month'] = test.timestamp.dt.month\n",
    "test['dow'] = test.timestamp.dt.dayofweek\n",
    "\n",
    "# Other feature engineering\n",
    "train['rel_floor'] = train['floor'] / train['max_floor'].astype(float)\n",
    "train['rel_kitch_sq'] = train['kitch_sq'] / train['full_sq'].astype(float)\n",
    "\n",
    "test['rel_floor'] = test['floor'] / test['max_floor'].astype(float)\n",
    "test['rel_kitch_sq'] = test['kitch_sq'] / test['full_sq'].astype(float)\n",
    "\n",
    "train['apartment_name']=train.sub_area.astype(str) + train['metro_km_avto'].astype(str)\n",
    "test['apartment_name']=test.sub_area.astype(str) + train['metro_km_avto'].astype(str)\n",
    "\n",
    "train['room_size'] = train['life_sq'] / train['num_room'].astype(float)\n",
    "test['room_size'] = test['life_sq'] / test['num_room'].astype(float)"
   ]
  },
  {
   "cell_type": "code",
   "execution_count": 6,
   "metadata": {
    "collapsed": true
   },
   "outputs": [],
   "source": [
    "train['apartment_name'] = pd.factorize(train['apartment_name'],sort=True)[0]\n",
    "test['apartment_name'] = pd.factorize(test['apartment_name'],sort=True)[0]"
   ]
  },
  {
   "cell_type": "markdown",
   "metadata": {},
   "source": [
    "## Level 1: Base model fitting"
   ]
  },
  {
   "cell_type": "code",
   "execution_count": 16,
   "metadata": {
    "collapsed": true
   },
   "outputs": [],
   "source": [
    "col = list(test.columns)[3:]"
   ]
  },
  {
   "cell_type": "code",
   "execution_count": 17,
   "metadata": {
    "collapsed": true
   },
   "outputs": [],
   "source": [
    "train_new = train[col]\n",
    "test_new = test[col]\n",
    "label = train['price_doc']*0.96+10"
   ]
  },
  {
   "cell_type": "markdown",
   "metadata": {},
   "source": [
    "### xgboost"
   ]
  },
  {
   "cell_type": "code",
   "execution_count": 19,
   "metadata": {},
   "outputs": [],
   "source": [
    "import xgboost as xgb"
   ]
  },
  {
   "cell_type": "code",
   "execution_count": 20,
   "metadata": {
    "collapsed": true
   },
   "outputs": [],
   "source": [
    "dtrain1 = xgb.DMatrix(train_new,label)\n",
    "dtest1 = xgb.DMatrix(test_new)"
   ]
  },
  {
   "cell_type": "code",
   "execution_count": 25,
   "metadata": {
    "collapsed": true
   },
   "outputs": [],
   "source": [
    "params_xgb = {\n",
    "    'eta': 0.05, ## Try 0.01,3,5\n",
    "    'max_depth': 4,## Try 4,5,6\n",
    "    'subsample': 0.7,\n",
    "    'colsample_bytree': 0.7,\n",
    "    'objective': 'reg:linear',\n",
    "    'eval_metric': 'rmse',\n",
    "    'silent': 1\n",
    "}"
   ]
  },
  {
   "cell_type": "code",
   "execution_count": 26,
   "metadata": {},
   "outputs": [
    {
     "name": "stdout",
     "output_type": "stream",
     "text": [
      "[0]\ttrain-rmse:7.89928e+06+47065.9\ttest-rmse:7.90123e+06+96323.2\n",
      "[50]\ttrain-rmse:2.89864e+06+32631.7\ttest-rmse:3.14053e+06+69847\n",
      "[100]\ttrain-rmse:2.54898e+06+34093\ttest-rmse:2.91099e+06+65596\n",
      "[150]\ttrain-rmse:2.39865e+06+27165\ttest-rmse:2.84661e+06+68160.9\n",
      "[200]\ttrain-rmse:2.30536e+06+21736\ttest-rmse:2.81109e+06+71853\n",
      "[250]\ttrain-rmse:2.2341e+06+21903.8\ttest-rmse:2.7889e+06+70608.5\n",
      "[300]\ttrain-rmse:2.17511e+06+24204.7\ttest-rmse:2.77318e+06+69375.5\n",
      "[350]\ttrain-rmse:2.12693e+06+23998.6\ttest-rmse:2.76103e+06+68365\n",
      "[400]\ttrain-rmse:2.08467e+06+24384.2\ttest-rmse:2.75347e+06+65949.2\n",
      "[450]\ttrain-rmse:2.04305e+06+23567.4\ttest-rmse:2.74554e+06+64378.8\n",
      "[500]\ttrain-rmse:2.00421e+06+22803.5\ttest-rmse:2.73772e+06+65773.3\n",
      "[550]\ttrain-rmse:1.96676e+06+22002.6\ttest-rmse:2.73385e+06+66298.2\n",
      "[600]\ttrain-rmse:1.932e+06+22155\ttest-rmse:2.7303e+06+65578.7\n",
      "[650]\ttrain-rmse:1.89999e+06+20544.6\ttest-rmse:2.7273e+06+65911.3\n",
      "[700]\ttrain-rmse:1.86974e+06+20450.6\ttest-rmse:2.72429e+06+65032.4\n",
      "Performance does not improve from 682 rounds\n"
     ]
    },
    {
     "data": {
      "image/png": "[encoded data removed]",
      "text/plain": [
       "<matplotlib.figure.Figure at 0x7f10e8efddd8>"
      ]
     },
     "metadata": {},
     "output_type": "display_data"
    }
   ],
   "source": [
    "xgb_cvalid = xgb.cv(params_xgb, dtrain1, num_boost_round=1000, early_stopping_rounds=20,\n",
    "    verbose_eval=50, show_stdv=True,seed=42)\n",
    "xgb_cvalid[['train-rmse-mean', 'test-rmse-mean']].plot()\n",
    "print('Performance does not improve from '+str(len(xgb_cvalid))+' rounds')"
   ]
  },
  {
   "cell_type": "code",
   "execution_count": null,
   "metadata": {
    "collapsed": true
   },
   "outputs": [],
   "source": [
    "#params_xgb = {\n",
    " #   'eta': 0.05, ## Try 0.01,3,5\n",
    "  #  'max_depth': 5,## Try 4,5,6\n",
    "   # 'subsample': 0.7,\n",
    "    #'colsample_bytree': 0.7,\n",
    "    #'objective': 'reg:linear',\n",
    "    #'eval_metric': 'rmse',\n",
    "     #'silent': 1\n",
    "#}\n",
    "#[0]\ttrain-rmse:7.89125e+06+47275.3\ttest-rmse:7.89619e+06+96049.9\n",
    "#[50]\ttrain-rmse:2.66124e+06+22045.6\ttest-rmse:3.03451e+06+64959.7\n",
    "#[100]\ttrain-rmse:2.30641e+06+29802.6\ttest-rmse:2.8353e+06+58962.5\n",
    "#[150]\ttrain-rmse:2.1698e+06+27120.3\ttest-rmse:2.78755e+06+61657.4\n",
    "#[200]\ttrain-rmse:2.07804e+06+24472\ttest-rmse:2.76043e+06+64101.7\n",
    "#[250]\ttrain-rmse:2.00356e+06+21581.1\ttest-rmse:2.7421e+06+64511.8\n",
    "#[300]\ttrain-rmse:1.93493e+06+23984.5\ttest-rmse:2.73101e+06+64473.7\n",
    "#[350]\ttrain-rmse:1.87679e+06+21164.2\ttest-rmse:2.72119e+06+65093.2\n",
    "#[400]\ttrain-rmse:1.82286e+06+19606.7\ttest-rmse:2.71599e+06+64031.6\n",
    "#Performance does not improve from 421 rounds\n",
    "\n",
    "#params_xgb = {\n",
    " #   'eta': 0.05, ## Try 0.01,3,5\n",
    "  #  'max_depth': 6,## Try 4,5,6\n",
    "   # 'subsample': 0.7,\n",
    "    #'colsample_bytree': 0.7,\n",
    "    #'objective': 'reg:linear',\n",
    "    #'eval_metric': 'rmse',\n",
    "    #'silent': 1\n",
    "#}\n",
    "\n",
    "#[0]\ttrain-rmse:7.88544e+06+46620.4\ttest-rmse:7.89448e+06+96002.4\n",
    "#[50]\ttrain-rmse:2.46276e+06+6222.96\ttest-rmse:2.97979e+06+67623.3\n",
    "#[100]\ttrain-rmse:2.10138e+06+20908.6\ttest-rmse:2.79651e+06+60589\n",
    "#[150]\ttrain-rmse:1.95701e+06+18164.9\ttest-rmse:2.75416e+06+61128.2\n",
    "#[200]\ttrain-rmse:1.85513e+06+21631.1\ttest-rmse:2.73254e+06+60260.4\n",
    "#[250]\ttrain-rmse:1.76935e+06+24714.9\ttest-rmse:2.72129e+06+58609.5\n",
    "#[300]\ttrain-rmse:1.688e+06+22948.4\ttest-rmse:2.71327e+06+58349.4\n",
    "#[350]\ttrain-rmse:1.62268e+06+21844\ttest-rmse:2.70891e+06+57253.3\n",
    "#Performance does not improve from 344 rounds\n",
    "\n",
    "#params_xgb = {\n",
    " #   'eta': 0.05, ## Try 0.01,3,5\n",
    " #   'max_depth': 4,## Try 4,5,6\n",
    " #   'subsample': 0.7,\n",
    " #   'colsample_bytree': 0.7,\n",
    " #   'objective': 'reg:linear',\n",
    " #   'eval_metric': 'rmse',\n",
    " #   'silent': 1\n",
    "#}\n",
    "\n",
    "#[0]\ttrain-rmse:7.89928e+06+47065.9\ttest-rmse:7.90123e+06+96323.2\n",
    "#[50]\ttrain-rmse:2.89864e+06+32631.7\ttest-rmse:3.14053e+06+69847\n",
    "#[100]\ttrain-rmse:2.54898e+06+34093\ttest-rmse:2.91099e+06+65596\n",
    "#[150]\ttrain-rmse:2.39865e+06+27165\ttest-rmse:2.84661e+06+68160.9\n",
    "#[200]\ttrain-rmse:2.30536e+06+21736\ttest-rmse:2.81109e+06+71853\n",
    "#[250]\ttrain-rmse:2.2341e+06+21903.8\ttest-rmse:2.7889e+06+70608.5\n",
    "#[300]\ttrain-rmse:2.17511e+06+24204.7\ttest-rmse:2.77318e+06+69375.5\n",
    "#[350]\ttrain-rmse:2.12693e+06+23998.6\ttest-rmse:2.76103e+06+68365\n",
    "#[400]\ttrain-rmse:2.08467e+06+24384.2\ttest-rmse:2.75347e+06+65949.2\n",
    "#[450]\ttrain-rmse:2.04305e+06+23567.4\ttest-rmse:2.74554e+06+64378.8\n",
    "#[500]\ttrain-rmse:2.00421e+06+22803.5\ttest-rmse:2.73772e+06+65773.3\n",
    "#[550]\ttrain-rmse:1.96676e+06+22002.6\ttest-rmse:2.73385e+06+66298.2\n",
    "#[600]\ttrain-rmse:1.932e+06+22155\ttest-rmse:2.7303e+06+65578.7\n",
    "#[650]\ttrain-rmse:1.89999e+06+20544.6\ttest-rmse:2.7273e+06+65911.3\n",
    "#[700]\ttrain-rmse:1.86974e+06+20450.6\ttest-rmse:2.72429e+06+65032.4\n",
    "#Performance does not improve from 682 rounds"
   ]
  },
  {
   "cell_type": "code",
   "execution_count": 34,
   "metadata": {
    "collapsed": true
   },
   "outputs": [],
   "source": [
    "params_xgb = {\n",
    "    'eta': 0.05, ## Try 0.01,3,5\n",
    "    'max_depth': 5,## Try 4,5,6\n",
    "    'subsample': 0.7,\n",
    "    'colsample_bytree': 0.7,\n",
    "    'objective': 'reg:linear',\n",
    "    'eval_metric': 'rmse',\n",
    "    'silent': 1\n",
    "}"
   ]
  },
  {
   "cell_type": "code",
   "execution_count": 35,
   "metadata": {
    "collapsed": true
   },
   "outputs": [],
   "source": [
    "xgb_model = xgb.train(params_xgb,dtrain1,num_boost_round=421)"
   ]
  },
  {
   "cell_type": "code",
   "execution_count": 36,
   "metadata": {},
   "outputs": [],
   "source": [
    "xgb_feature = xgb_model.predict(dtrain1)\n",
    "xgb_predict = xgb_model.predict(dtest1)"
   ]
  },
  {
   "cell_type": "markdown",
   "metadata": {},
   "source": [
    "### Random Forest"
   ]
  },
  {
   "cell_type": "code",
   "execution_count": 37,
   "metadata": {
    "collapsed": true
   },
   "outputs": [],
   "source": [
    "from sklearn.ensemble import RandomForestRegressor\n",
    "from sklearn.metrics import mean_squared_error as MSE"
   ]
  },
  {
   "cell_type": "code",
   "execution_count": 46,
   "metadata": {},
   "outputs": [],
   "source": [
    "train_new = train_new.replace([np.inf, -np.inf], np.nan)\n",
    "test_new = test_new.replace([np.inf, -np.inf], np.nan)\n",
    "train_new = train_new.fillna(-999)\n",
    "test_new = test_new.fillna(-999)"
   ]
  },
  {
   "cell_type": "code",
   "execution_count": 47,
   "metadata": {
    "collapsed": true
   },
   "outputs": [],
   "source": [
    "training = train_new.iloc[:round(len(train_new)*0.8),]\n",
    "testing = train_new.iloc[round(len(train_new)*0.8):,]"
   ]
  },
  {
   "cell_type": "code",
   "execution_count": 48,
   "metadata": {},
   "outputs": [],
   "source": [
    "label_train = label[:round(len(train_new)*0.8)]\n",
    "label_test =  label[round(len(train_new)*0.8):]"
   ]
  },
  {
   "cell_type": "code",
   "execution_count": 64,
   "metadata": {},
   "outputs": [
    {
     "data": {
      "text/plain": [
       "RandomForestRegressor(bootstrap=True, criterion='mse', max_depth=None,\n",
       "           max_features='auto', max_leaf_nodes=None,\n",
       "           min_impurity_split=1e-07, min_samples_leaf=8,\n",
       "           min_samples_split=2, min_weight_fraction_leaf=0.0,\n",
       "           n_estimators=100, n_jobs=-1, oob_score=False, random_state=42,\n",
       "           verbose=0, warm_start=False)"
      ]
     },
     "execution_count": 64,
     "metadata": {},
     "output_type": "execute_result"
    }
   ],
   "source": [
    "rf = RandomForestRegressor(n_estimators= 100,criterion='mse',max_features= 'auto',random_state=42,n_jobs=-1,min_samples_leaf=8)\n",
    "rf.fit(training,label_train)"
   ]
  },
  {
   "cell_type": "code",
   "execution_count": 65,
   "metadata": {},
   "outputs": [
    {
     "name": "stdout",
     "output_type": "stream",
     "text": [
      "2.03e+06\n",
      "3.11e+06\n"
     ]
    }
   ],
   "source": [
    "intrain_predict = rf.predict(training)\n",
    "outtrain_predict = rf.predict(testing)\n",
    "intrain_RMSE = MSE(intrain_predict,label_train)**0.5\n",
    "outtrain_RMSE = MSE(outtrain_predict,label_test)**0.5\n",
    "print('%.2e' %intrain_RMSE)\n",
    "print('%.2e' %outtrain_RMSE)"
   ]
  },
  {
   "cell_type": "code",
   "execution_count": null,
   "metadata": {
    "collapsed": true
   },
   "outputs": [],
   "source": [
    "#RandomForestRegressor(n_estimators= 500,criterion='rmse',max_features= 'auto',max_depth=5,random_state=42,n_jobs=-1)\n",
    "#2.95e+06\n",
    "#3.54e+06\n",
    "#rf = RandomForestRegressor(n_estimators= 500,criterion='mse',max_features= 'auto',max_depth=5,random_state=42,n_jobs=-1)\n",
    "#2.99e+06\n",
    "#3.59e+06\n",
    "#rf = RandomForestRegressor(n_estimators= 500,criterion='mse', min_samples_leaf = 8,max_features= 20 ,max_depth=5,random_state=42,n_jobs=-1)\n",
    "#3.36e+06\n",
    "#3.99e+06\n",
    "#rf = RandomForestRegressor(n_estimators= 500,criterion='mse', min_samples_leaf = 8,max_features= 20,random_state=42,n_jobs=-1)\n",
    "#2.41e+06\n",
    "#3.40e+06\n",
    "#rf = RandomForestRegressor(n_estimators= 100,criterion='mse',max_features= 'auto',random_state=42,n_jobs=-1)\n",
    "#1.07e+06\n",
    "#3.08e+06\n",
    "#rf = RandomForestRegressor(n_estimators= 100,criterion='mse',max_features= 'auto',random_state=42,n_jobs=-1,min_samples_leaf=8)\n",
    "#2.03e+06\n",
    "#3.11e+06\n"
   ]
  },
  {
   "cell_type": "code",
   "execution_count": 67,
   "metadata": {},
   "outputs": [
    {
     "data": {
      "text/plain": [
       "RandomForestRegressor(bootstrap=True, criterion='mse', max_depth=None,\n",
       "           max_features='auto', max_leaf_nodes=None,\n",
       "           min_impurity_split=1e-07, min_samples_leaf=8,\n",
       "           min_samples_split=2, min_weight_fraction_leaf=0.0,\n",
       "           n_estimators=100, n_jobs=-1, oob_score=False, random_state=42,\n",
       "           verbose=0, warm_start=False)"
      ]
     },
     "execution_count": 67,
     "metadata": {},
     "output_type": "execute_result"
    }
   ],
   "source": [
    "rf = RandomForestRegressor(n_estimators= 100,criterion='mse',max_features= 'auto',random_state=42,n_jobs=-1,min_samples_leaf=8)\n",
    "rf.fit(train_new,label)"
   ]
  },
  {
   "cell_type": "code",
   "execution_count": 70,
   "metadata": {},
   "outputs": [],
   "source": [
    "rf_feature = rf.predict(train_new)\n",
    "rf_predict = rf.predict(test_new)"
   ]
  },
  {
   "cell_type": "markdown",
   "metadata": {},
   "source": [
    "### Gradient Boosting"
   ]
  },
  {
   "cell_type": "code",
   "execution_count": 73,
   "metadata": {
    "collapsed": true
   },
   "outputs": [],
   "source": [
    "from sklearn.ensemble import GradientBoostingRegressor"
   ]
  },
  {
   "cell_type": "code",
   "execution_count": 78,
   "metadata": {},
   "outputs": [
    {
     "data": {
      "text/plain": [
       "GradientBoostingRegressor(alpha=0.9, criterion='friedman_mse', init=None,\n",
       "             learning_rate=0.05, loss='ls', max_depth=4, max_features=0.7,\n",
       "             max_leaf_nodes=None, min_impurity_split=1e-07,\n",
       "             min_samples_leaf=1, min_samples_split=2,\n",
       "             min_weight_fraction_leaf=0.0, n_estimators=500,\n",
       "             presort='auto', random_state=42, subsample=0.7, verbose=0,\n",
       "             warm_start=False)"
      ]
     },
     "execution_count": 78,
     "metadata": {},
     "output_type": "execute_result"
    }
   ],
   "source": [
    "gbr = GradientBoostingRegressor(learning_rate=0.05,n_estimators=500,max_depth=4,max_features = 0.7,subsample = 0.7,random_state=42)\n",
    "gbr.fit(training,label_train)"
   ]
  },
  {
   "cell_type": "code",
   "execution_count": 79,
   "metadata": {},
   "outputs": [
    {
     "name": "stdout",
     "output_type": "stream",
     "text": [
      "2.05e+06\n",
      "2.87e+06\n"
     ]
    }
   ],
   "source": [
    "intrain_predict = gbr.predict(training)\n",
    "outtrain_predict = gbr.predict(testing)\n",
    "intrain_RMSE = MSE(intrain_predict,label_train)**0.5\n",
    "outtrain_RMSE = MSE(outtrain_predict,label_test)**0.5\n",
    "print('%.2e' %intrain_RMSE)\n",
    "print('%.2e' %outtrain_RMSE)"
   ]
  },
  {
   "cell_type": "code",
   "execution_count": null,
   "metadata": {
    "collapsed": true
   },
   "outputs": [],
   "source": [
    "#gbr = GradientBoostingRegressor(learning_rate=0.05,n_estimators=800,max_depth=5,max_features = 0.7,subsample = 0.7,random_state=42)\n",
    "#1.60e+06\n",
    "#2.82e+06\n",
    "#gbr = GradientBoostingRegressor(learning_rate=0.05,n_estimators=800,max_depth=4,max_features = 0.7,subsample = 0.7,random_state=42)\n",
    "#1.89e+06\n",
    "#2.85e+06\n",
    "#gbr = GradientBoostingRegressor(learning_rate=0.05,n_estimators=500,max_depth=4,max_features = 0.7,subsample = 0.7,random_state=42)\n",
    "#2.05e+06\n",
    "#2.87e+06"
   ]
  },
  {
   "cell_type": "code",
   "execution_count": 80,
   "metadata": {
    "collapsed": true
   },
   "outputs": [],
   "source": [
    "gbr = GradientBoostingRegressor(learning_rate=0.05,n_estimators=800,max_depth=4,max_features = 0.7,subsample = 0.7,random_state=42)"
   ]
  },
  {
   "cell_type": "code",
   "execution_count": 81,
   "metadata": {},
   "outputs": [
    {
     "data": {
      "text/plain": [
       "GradientBoostingRegressor(alpha=0.9, criterion='friedman_mse', init=None,\n",
       "             learning_rate=0.05, loss='ls', max_depth=4, max_features=0.7,\n",
       "             max_leaf_nodes=None, min_impurity_split=1e-07,\n",
       "             min_samples_leaf=1, min_samples_split=2,\n",
       "             min_weight_fraction_leaf=0.0, n_estimators=800,\n",
       "             presort='auto', random_state=42, subsample=0.7, verbose=0,\n",
       "             warm_start=False)"
      ]
     },
     "execution_count": 81,
     "metadata": {},
     "output_type": "execute_result"
    }
   ],
   "source": [
    "gbr.fit(train_new,label)"
   ]
  },
  {
   "cell_type": "code",
   "execution_count": 82,
   "metadata": {
    "collapsed": true
   },
   "outputs": [],
   "source": [
    "GBM_feature = gbr.predict(train_new)\n",
    "GBM_predict = gbr.predict(test_new)"
   ]
  },
  {
   "cell_type": "markdown",
   "metadata": {},
   "source": [
    "## Stack results of three models by XGBoost"
   ]
  },
  {
   "cell_type": "code",
   "execution_count": 91,
   "metadata": {},
   "outputs": [],
   "source": [
    "stack_features = pd.DataFrame({'xgb':xgb_feature,'rf':rf_feature,'gbm':GBM_feature,'full_sq':train['full_sq']})\n",
    "stact_predict = pd.DataFrame({'xgb':xgb_predict,'rf':rf_predict,'gbm':GBM_predict,'full_sq':test['full_sq']})"
   ]
  },
  {
   "cell_type": "code",
   "execution_count": 92,
   "metadata": {},
   "outputs": [],
   "source": [
    "stack_features.to_csv('stack_features.csv',index=False)\n",
    "stact_predict.to_csv('stack_predictors.csv',index=False)"
   ]
  },
  {
   "cell_type": "code",
   "execution_count": 95,
   "metadata": {
    "collapsed": true
   },
   "outputs": [],
   "source": [
    "dtrain_stack = xgb.DMatrix(stack_features,label)\n",
    "dtest_stack = xgb.DMatrix(stact_predict)"
   ]
  },
  {
   "cell_type": "code",
   "execution_count": 105,
   "metadata": {
    "collapsed": true
   },
   "outputs": [],
   "source": [
    "params_stack = {\n",
    "    'eta': 0.05, ## Try 0.01,3,5\n",
    "    'max_depth': 5,## Try 4,5,6\n",
    "    'subsample': 0.5,\n",
    "    'colsample_bytree': 1,\n",
    "    'objective': 'reg:linear',\n",
    "    'eval_metric': 'rmse',\n",
    "    'silent': 1\n",
    "}"
   ]
  },
  {
   "cell_type": "code",
   "execution_count": 106,
   "metadata": {},
   "outputs": [
    {
     "name": "stdout",
     "output_type": "stream",
     "text": [
      "[0]\ttrain-rmse:7.8428e+06+45607.1\ttest-rmse:7.84327e+06+91066.5\n",
      "[50]\ttrain-rmse:1.53112e+06+17609.6\ttest-rmse:1.6033e+06+48421.5\n",
      "[100]\ttrain-rmse:1.33099e+06+15513.5\ttest-rmse:1.44777e+06+34836.1\n",
      "[150]\ttrain-rmse:1.29285e+06+16634\ttest-rmse:1.43664e+06+30593.1\n",
      "[200]\ttrain-rmse:1.26334e+06+15215.9\ttest-rmse:1.43518e+06+29500.7\n",
      "Performance does not improve from 228 rounds\n"
     ]
    },
    {
     "data": {
      "image/png": "[encoded data removed]",
      "text/plain": [
       "<matplotlib.figure.Figure at 0x7f10e17e5208>"
      ]
     },
     "metadata": {},
     "output_type": "display_data"
    }
   ],
   "source": [
    "xgb_cvalid = xgb.cv(params_stack, dtrain_stack, num_boost_round=1000, early_stopping_rounds=20,\n",
    "    verbose_eval=50, show_stdv=True,seed=42)\n",
    "xgb_cvalid[['train-rmse-mean', 'test-rmse-mean']].plot()\n",
    "print('Performance does not improve from '+str(len(xgb_cvalid))+' rounds')"
   ]
  },
  {
   "cell_type": "code",
   "execution_count": null,
   "metadata": {
    "collapsed": true
   },
   "outputs": [],
   "source": [
    "#[500]\ttrain-rmse:1.30227e+06+9897.72\ttest-rmse:1.44622e+06+28288\n",
    "#Performance does not improve from 483 rounds"
   ]
  },
  {
   "cell_type": "code",
   "execution_count": 107,
   "metadata": {
    "collapsed": true
   },
   "outputs": [],
   "source": [
    "stack_model = xgb.train(params_stack,dtrain_stack,num_boost_round=len(xgb_cvalid))"
   ]
  },
  {
   "cell_type": "code",
   "execution_count": 108,
   "metadata": {
    "collapsed": true
   },
   "outputs": [],
   "source": [
    "Final_pred = stack_model.predict(dtest_stack)"
   ]
  },
  {
   "cell_type": "code",
   "execution_count": 109,
   "metadata": {},
   "outputs": [
    {
     "data": {
      "text/plain": [
       "array([ 5228931. ,  8544244. ,  5826495. , ...,  2438545. ,  4443043.5,\n",
       "        8203061.5], dtype=float32)"
      ]
     },
     "execution_count": 109,
     "metadata": {},
     "output_type": "execute_result"
    }
   ],
   "source": [
    "Final_pred"
   ]
  },
  {
   "cell_type": "code",
   "execution_count": 168,
   "metadata": {
    "collapsed": true
   },
   "outputs": [],
   "source": [
    "## Put them together\n",
    "sub = pd.DataFrame({'id':test['id'],'price_doc':Final_pred})\n",
    "sub.to_csv('Stacking_Add_Full_Sq_at_Level_2.csv',index=False)"
   ]
  },
  {
   "cell_type": "code",
   "execution_count": null,
   "metadata": {
    "collapsed": true
   },
   "outputs": [],
   "source": []
  }
 ],
 "metadata": {
  "kernelspec": {
   "display_name": "Python 3",
   "language": "python",
   "name": "python3"
  },
  "language_info": {
   "codemirror_mode": {
    "name": "ipython",
    "version": 3
   },
   "file_extension": ".py",
   "mimetype": "text/x-python",
   "name": "python",
   "nbconvert_exporter": "python",
   "pygments_lexer": "ipython3",
   "version": "3.5.2"
  }
 },
 "nbformat": 4,
 "nbformat_minor": 2
}
