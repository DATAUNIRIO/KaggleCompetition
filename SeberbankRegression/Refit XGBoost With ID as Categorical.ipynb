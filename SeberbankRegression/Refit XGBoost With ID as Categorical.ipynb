{
 "cells": [
  {
   "cell_type": "code",
   "execution_count": 1,
   "metadata": {
    "collapsed": true
   },
   "outputs": [],
   "source": [
    "import pandas as pd\n",
    "import numpy as np"
   ]
  },
  {
   "cell_type": "code",
   "execution_count": 23,
   "metadata": {
    "collapsed": true
   },
   "outputs": [],
   "source": [
    "train = pd.read_csv('train_c.csv')\n",
    "test = pd.read_csv('test_c.csv')"
   ]
  },
  {
   "cell_type": "code",
   "execution_count": 24,
   "metadata": {
    "collapsed": true
   },
   "outputs": [],
   "source": [
    "col = list(test.columns)[2:]\n",
    "ID_related = [each for each in col if 'ID' in each]"
   ]
  },
  {
   "cell_type": "code",
   "execution_count": 25,
   "metadata": {},
   "outputs": [
    {
     "data": {
      "text/plain": [
       "['ID_metro',\n",
       " 'ID_railroad_station_walk',\n",
       " 'ID_railroad_station_avto',\n",
       " 'ID_big_road1',\n",
       " 'ID_big_road2',\n",
       " 'ID_railroad_terminal',\n",
       " 'ID_bus_terminal']"
      ]
     },
     "execution_count": 25,
     "metadata": {},
     "output_type": "execute_result"
    }
   ],
   "source": [
    "ID_related"
   ]
  },
  {
   "cell_type": "code",
   "execution_count": 26,
   "metadata": {
    "collapsed": true
   },
   "outputs": [],
   "source": [
    "for each in ID_related:\n",
    "    train[each]=pd.factorize(train[each], sort=True)[0]\n",
    "    test[each]=pd.factorize(test[each],sort=True)[0]"
   ]
  },
  {
   "cell_type": "markdown",
   "metadata": {},
   "source": [
    "## Refit them to xgboost first"
   ]
  },
  {
   "cell_type": "code",
   "execution_count": 35,
   "metadata": {
    "collapsed": true
   },
   "outputs": [],
   "source": [
    "def get_feature_importance(model):\n",
    "    Importance = model.get_fscore()\n",
    "    Importance = list(Importance.items())\n",
    "    Feature= []\n",
    "    Score = []\n",
    "    for each in Importance:\n",
    "        Feature.append(each[0])\n",
    "        Score.append(each[1])\n",
    "    df = pd.DataFrame({'Feature':Feature,'Score':Score}).sort_values(by=['Score'],ascending=[0])\n",
    "    return df    "
   ]
  },
  {
   "cell_type": "code",
   "execution_count": 30,
   "metadata": {},
   "outputs": [
    {
     "name": "stderr",
     "output_type": "stream",
     "text": [
      "/home/jiashen/env3/lib/python3.5/site-packages/sklearn/cross_validation.py:44: DeprecationWarning: This module was deprecated in version 0.18 in favor of the model_selection module into which all the refactored classes and functions are moved. Also note that the interface of the new CV iterators are different from that of this module. This module will be removed in 0.20.\n",
      "  \"This module will be removed in 0.20.\", DeprecationWarning)\n"
     ]
    }
   ],
   "source": [
    "import xgboost as xgb"
   ]
  },
  {
   "cell_type": "code",
   "execution_count": 28,
   "metadata": {
    "collapsed": true
   },
   "outputs": [],
   "source": [
    "label = train['price_doc']*0.95+10"
   ]
  },
  {
   "cell_type": "code",
   "execution_count": 31,
   "metadata": {},
   "outputs": [],
   "source": [
    "dtrain = xgb.DMatrix(train[col],label)\n",
    "dtest = xgb.DMatrix(test[col])"
   ]
  },
  {
   "cell_type": "code",
   "execution_count": 32,
   "metadata": {
    "collapsed": true
   },
   "outputs": [],
   "source": [
    "params = {\n",
    "    'eta': 0.05, ## Try 0.01,3,5\n",
    "    'max_depth': 5,## Try 4,5,6\n",
    "    'subsample': 0.7,\n",
    "    'colsample_bytree': 0.7,\n",
    "    'objective': 'reg:linear',\n",
    "    'eval_metric': 'rmse',\n",
    "    'silent': 1\n",
    "}"
   ]
  },
  {
   "cell_type": "code",
   "execution_count": 33,
   "metadata": {},
   "outputs": [
    {
     "name": "stdout",
     "output_type": "stream",
     "text": [
      "[0]\ttrain-rmse:7.7958e+06\ttest-rmse:7.80037e+06\n",
      "[50]\ttrain-rmse:2.39673e+06\ttest-rmse:2.76554e+06\n",
      "[100]\ttrain-rmse:2.08028e+06\ttest-rmse:2.60207e+06\n",
      "[150]\ttrain-rmse:1.96621e+06\ttest-rmse:2.56766e+06\n",
      "[200]\ttrain-rmse:1.88547e+06\ttest-rmse:2.54829e+06\n",
      "[250]\ttrain-rmse:1.81905e+06\ttest-rmse:2.53698e+06\n",
      "[300]\ttrain-rmse:1.76224e+06\ttest-rmse:2.53218e+06\n",
      "[350]\ttrain-rmse:1.71035e+06\ttest-rmse:2.52561e+06\n",
      "[400]\ttrain-rmse:1.66281e+06\ttest-rmse:2.52316e+06\n",
      "[450]\ttrain-rmse:1.61891e+06\ttest-rmse:2.52188e+06\n",
      "Performance does not improve from 450 rounds\n"
     ]
    }
   ],
   "source": [
    "xgb_cvalid = xgb.cv(params, dtrain, num_boost_round=1000, early_stopping_rounds=20,\n",
    "    verbose_eval=50, show_stdv=False,seed=42)\n",
    "xgb_cvalid[['train-rmse-mean', 'test-rmse-mean']].plot()\n",
    "print('Performance does not improve from '+str(len(xgb_cvalid))+' rounds')"
   ]
  },
  {
   "cell_type": "code",
   "execution_count": 34,
   "metadata": {
    "collapsed": true
   },
   "outputs": [],
   "source": [
    "model = xgb.train(params,dtrain,num_boost_round=len(xgb_cvalid))"
   ]
  },
  {
   "cell_type": "code",
   "execution_count": 36,
   "metadata": {
    "collapsed": true
   },
   "outputs": [],
   "source": [
    "feature_importance = get_feature_importance(model)"
   ]
  },
  {
   "cell_type": "code",
   "execution_count": 39,
   "metadata": {
    "collapsed": true
   },
   "outputs": [],
   "source": [
    "features = list(feature_importance['Feature'])"
   ]
  },
  {
   "cell_type": "markdown",
   "metadata": {},
   "source": [
    "## Fit model on scored features only"
   ]
  },
  {
   "cell_type": "code",
   "execution_count": 40,
   "metadata": {
    "collapsed": true
   },
   "outputs": [],
   "source": [
    "dtrain = xgb.DMatrix(train[features],label)\n",
    "dtest = xgb.DMatrix(test[features])"
   ]
  },
  {
   "cell_type": "code",
   "execution_count": 41,
   "metadata": {},
   "outputs": [
    {
     "name": "stdout",
     "output_type": "stream",
     "text": [
      "[0]\ttrain-rmse:7.79522e+06\ttest-rmse:7.79928e+06\n",
      "[50]\ttrain-rmse:2.39988e+06\ttest-rmse:2.76922e+06\n",
      "[100]\ttrain-rmse:2.07451e+06\ttest-rmse:2.60385e+06\n",
      "[150]\ttrain-rmse:1.96488e+06\ttest-rmse:2.5683e+06\n",
      "[200]\ttrain-rmse:1.87885e+06\ttest-rmse:2.55077e+06\n",
      "[250]\ttrain-rmse:1.81153e+06\ttest-rmse:2.54036e+06\n",
      "[300]\ttrain-rmse:1.75277e+06\ttest-rmse:2.53154e+06\n",
      "[350]\ttrain-rmse:1.70301e+06\ttest-rmse:2.53002e+06\n",
      "[400]\ttrain-rmse:1.65549e+06\ttest-rmse:2.52552e+06\n",
      "[450]\ttrain-rmse:1.61311e+06\ttest-rmse:2.52289e+06\n",
      "[500]\ttrain-rmse:1.57576e+06\ttest-rmse:2.5228e+06\n",
      "Performance does not improve from 489 rounds\n"
     ]
    }
   ],
   "source": [
    "xgb_cvalid = xgb.cv(params, dtrain, num_boost_round=1000, early_stopping_rounds=20,\n",
    "    verbose_eval=50, show_stdv=False,seed=42)\n",
    "xgb_cvalid[['train-rmse-mean', 'test-rmse-mean']].plot()\n",
    "print('Performance does not improve from '+str(len(xgb_cvalid))+' rounds')"
   ]
  },
  {
   "cell_type": "code",
   "execution_count": null,
   "metadata": {
    "collapsed": true
   },
   "outputs": [],
   "source": []
  }
 ],
 "metadata": {
  "kernelspec": {
   "display_name": "Python 3",
   "language": "python",
   "name": "python3"
  },
  "language_info": {
   "codemirror_mode": {
    "name": "ipython",
    "version": 3
   },
   "file_extension": ".py",
   "mimetype": "text/x-python",
   "name": "python",
   "nbconvert_exporter": "python",
   "pygments_lexer": "ipython3",
   "version": "3.5.2"
  }
 },
 "nbformat": 4,
 "nbformat_minor": 2
}
