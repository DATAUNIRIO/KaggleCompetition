{
 "cells": [
  {
   "cell_type": "code",
   "execution_count": 1,
   "metadata": {},
   "outputs": [
    {
     "name": "stderr",
     "output_type": "stream",
     "text": [
      "/home/jiashen/env3/lib/python3.5/site-packages/sklearn/cross_validation.py:44: DeprecationWarning: This module was deprecated in version 0.18 in favor of the model_selection module into which all the refactored classes and functions are moved. Also note that the interface of the new CV iterators are different from that of this module. This module will be removed in 0.20.\n",
      "  \"This module will be removed in 0.20.\", DeprecationWarning)\n"
     ]
    }
   ],
   "source": [
    "%matplotlib inline\n",
    "import pandas as pd\n",
    "import numpy as np\n",
    "import xgboost as xgb"
   ]
  },
  {
   "cell_type": "markdown",
   "metadata": {},
   "source": [
    "# Single Model Fitting"
   ]
  },
  {
   "cell_type": "markdown",
   "metadata": {},
   "source": [
    "## Original Feature + 0.95 Label + Average Price"
   ]
  },
  {
   "cell_type": "code",
   "execution_count": 2,
   "metadata": {
    "collapsed": true
   },
   "outputs": [],
   "source": [
    "train = pd.read_csv('train_c.csv')\n",
    "test = pd.read_csv('test_c.csv')"
   ]
  },
  {
   "cell_type": "code",
   "execution_count": 5,
   "metadata": {
    "collapsed": true
   },
   "outputs": [],
   "source": [
    "price = pd.read_csv('moscow_avg_price.csv')[['timestamp','moscow_avg_price_avg_rub']]"
   ]
  },
  {
   "cell_type": "code",
   "execution_count": 6,
   "metadata": {},
   "outputs": [
    {
     "data": {
      "text/html": [
       "<div>\n",
       "<table border=\"1\" class=\"dataframe\">\n",
       "  <thead>\n",
       "    <tr style=\"text-align: right;\">\n",
       "      <th></th>\n",
       "      <th>timestamp</th>\n",
       "      <th>moscow_avg_price_avg_rub</th>\n",
       "    </tr>\n",
       "  </thead>\n",
       "  <tbody>\n",
       "    <tr>\n",
       "      <th>0</th>\n",
       "      <td>2011-01-01</td>\n",
       "      <td>137590.544872</td>\n",
       "    </tr>\n",
       "    <tr>\n",
       "      <th>1</th>\n",
       "      <td>2011-01-02</td>\n",
       "      <td>137499.198718</td>\n",
       "    </tr>\n",
       "    <tr>\n",
       "      <th>2</th>\n",
       "      <td>2011-01-03</td>\n",
       "      <td>137407.852564</td>\n",
       "    </tr>\n",
       "    <tr>\n",
       "      <th>3</th>\n",
       "      <td>2011-01-04</td>\n",
       "      <td>137316.506410</td>\n",
       "    </tr>\n",
       "    <tr>\n",
       "      <th>4</th>\n",
       "      <td>2011-01-05</td>\n",
       "      <td>137225.160256</td>\n",
       "    </tr>\n",
       "    <tr>\n",
       "      <th>5</th>\n",
       "      <td>2011-01-06</td>\n",
       "      <td>137133.814103</td>\n",
       "    </tr>\n",
       "    <tr>\n",
       "      <th>6</th>\n",
       "      <td>2011-01-07</td>\n",
       "      <td>137042.467949</td>\n",
       "    </tr>\n",
       "    <tr>\n",
       "      <th>7</th>\n",
       "      <td>2011-01-08</td>\n",
       "      <td>136951.121795</td>\n",
       "    </tr>\n",
       "    <tr>\n",
       "      <th>8</th>\n",
       "      <td>2011-01-09</td>\n",
       "      <td>136859.775641</td>\n",
       "    </tr>\n",
       "    <tr>\n",
       "      <th>9</th>\n",
       "      <td>2011-01-10</td>\n",
       "      <td>136768.429487</td>\n",
       "    </tr>\n",
       "    <tr>\n",
       "      <th>10</th>\n",
       "      <td>2011-01-11</td>\n",
       "      <td>136677.083333</td>\n",
       "    </tr>\n",
       "    <tr>\n",
       "      <th>11</th>\n",
       "      <td>2011-01-12</td>\n",
       "      <td>136585.737179</td>\n",
       "    </tr>\n",
       "    <tr>\n",
       "      <th>12</th>\n",
       "      <td>2011-01-13</td>\n",
       "      <td>136494.391026</td>\n",
       "    </tr>\n",
       "    <tr>\n",
       "      <th>13</th>\n",
       "      <td>2011-01-14</td>\n",
       "      <td>136403.044872</td>\n",
       "    </tr>\n",
       "    <tr>\n",
       "      <th>14</th>\n",
       "      <td>2011-01-15</td>\n",
       "      <td>136311.698718</td>\n",
       "    </tr>\n",
       "    <tr>\n",
       "      <th>15</th>\n",
       "      <td>2011-01-16</td>\n",
       "      <td>136220.352564</td>\n",
       "    </tr>\n",
       "    <tr>\n",
       "      <th>16</th>\n",
       "      <td>2011-01-17</td>\n",
       "      <td>136129.006410</td>\n",
       "    </tr>\n",
       "    <tr>\n",
       "      <th>17</th>\n",
       "      <td>2011-01-18</td>\n",
       "      <td>136037.660256</td>\n",
       "    </tr>\n",
       "    <tr>\n",
       "      <th>18</th>\n",
       "      <td>2011-01-19</td>\n",
       "      <td>135946.314103</td>\n",
       "    </tr>\n",
       "    <tr>\n",
       "      <th>19</th>\n",
       "      <td>2011-01-20</td>\n",
       "      <td>135854.967949</td>\n",
       "    </tr>\n",
       "    <tr>\n",
       "      <th>20</th>\n",
       "      <td>2011-01-21</td>\n",
       "      <td>135763.621795</td>\n",
       "    </tr>\n",
       "    <tr>\n",
       "      <th>21</th>\n",
       "      <td>2011-01-22</td>\n",
       "      <td>135672.275641</td>\n",
       "    </tr>\n",
       "    <tr>\n",
       "      <th>22</th>\n",
       "      <td>2011-01-23</td>\n",
       "      <td>135580.929487</td>\n",
       "    </tr>\n",
       "    <tr>\n",
       "      <th>23</th>\n",
       "      <td>2011-01-24</td>\n",
       "      <td>135489.583333</td>\n",
       "    </tr>\n",
       "    <tr>\n",
       "      <th>24</th>\n",
       "      <td>2011-01-25</td>\n",
       "      <td>135443.910256</td>\n",
       "    </tr>\n",
       "    <tr>\n",
       "      <th>25</th>\n",
       "      <td>2011-01-26</td>\n",
       "      <td>135398.237179</td>\n",
       "    </tr>\n",
       "    <tr>\n",
       "      <th>26</th>\n",
       "      <td>2011-01-27</td>\n",
       "      <td>135352.564103</td>\n",
       "    </tr>\n",
       "    <tr>\n",
       "      <th>27</th>\n",
       "      <td>2011-01-28</td>\n",
       "      <td>135306.891026</td>\n",
       "    </tr>\n",
       "    <tr>\n",
       "      <th>28</th>\n",
       "      <td>2011-01-29</td>\n",
       "      <td>135261.217949</td>\n",
       "    </tr>\n",
       "    <tr>\n",
       "      <th>29</th>\n",
       "      <td>2011-01-30</td>\n",
       "      <td>135215.544872</td>\n",
       "    </tr>\n",
       "    <tr>\n",
       "      <th>...</th>\n",
       "      <td>...</td>\n",
       "      <td>...</td>\n",
       "    </tr>\n",
       "    <tr>\n",
       "      <th>1947</th>\n",
       "      <td>2016-05-01</td>\n",
       "      <td>172454.326923</td>\n",
       "    </tr>\n",
       "    <tr>\n",
       "      <th>1948</th>\n",
       "      <td>2016-05-02</td>\n",
       "      <td>172545.673077</td>\n",
       "    </tr>\n",
       "    <tr>\n",
       "      <th>1949</th>\n",
       "      <td>2016-05-03</td>\n",
       "      <td>172637.019231</td>\n",
       "    </tr>\n",
       "    <tr>\n",
       "      <th>1950</th>\n",
       "      <td>2016-05-04</td>\n",
       "      <td>172728.365385</td>\n",
       "    </tr>\n",
       "    <tr>\n",
       "      <th>1951</th>\n",
       "      <td>2016-05-05</td>\n",
       "      <td>172819.711538</td>\n",
       "    </tr>\n",
       "    <tr>\n",
       "      <th>1952</th>\n",
       "      <td>2016-05-06</td>\n",
       "      <td>172911.057692</td>\n",
       "    </tr>\n",
       "    <tr>\n",
       "      <th>1953</th>\n",
       "      <td>2016-05-07</td>\n",
       "      <td>173002.403846</td>\n",
       "    </tr>\n",
       "    <tr>\n",
       "      <th>1954</th>\n",
       "      <td>2016-05-08</td>\n",
       "      <td>173093.750000</td>\n",
       "    </tr>\n",
       "    <tr>\n",
       "      <th>1955</th>\n",
       "      <td>2016-05-09</td>\n",
       "      <td>173086.137821</td>\n",
       "    </tr>\n",
       "    <tr>\n",
       "      <th>1956</th>\n",
       "      <td>2016-05-10</td>\n",
       "      <td>173078.525641</td>\n",
       "    </tr>\n",
       "    <tr>\n",
       "      <th>1957</th>\n",
       "      <td>2016-05-11</td>\n",
       "      <td>173070.913462</td>\n",
       "    </tr>\n",
       "    <tr>\n",
       "      <th>1958</th>\n",
       "      <td>2016-05-12</td>\n",
       "      <td>173063.301282</td>\n",
       "    </tr>\n",
       "    <tr>\n",
       "      <th>1959</th>\n",
       "      <td>2016-05-13</td>\n",
       "      <td>173055.689103</td>\n",
       "    </tr>\n",
       "    <tr>\n",
       "      <th>1960</th>\n",
       "      <td>2016-05-14</td>\n",
       "      <td>173048.076923</td>\n",
       "    </tr>\n",
       "    <tr>\n",
       "      <th>1961</th>\n",
       "      <td>2016-05-15</td>\n",
       "      <td>173040.464744</td>\n",
       "    </tr>\n",
       "    <tr>\n",
       "      <th>1962</th>\n",
       "      <td>2016-05-16</td>\n",
       "      <td>173032.852564</td>\n",
       "    </tr>\n",
       "    <tr>\n",
       "      <th>1963</th>\n",
       "      <td>2016-05-17</td>\n",
       "      <td>173025.240385</td>\n",
       "    </tr>\n",
       "    <tr>\n",
       "      <th>1964</th>\n",
       "      <td>2016-05-18</td>\n",
       "      <td>173017.628205</td>\n",
       "    </tr>\n",
       "    <tr>\n",
       "      <th>1965</th>\n",
       "      <td>2016-05-19</td>\n",
       "      <td>173010.016026</td>\n",
       "    </tr>\n",
       "    <tr>\n",
       "      <th>1966</th>\n",
       "      <td>2016-05-20</td>\n",
       "      <td>173002.403846</td>\n",
       "    </tr>\n",
       "    <tr>\n",
       "      <th>1967</th>\n",
       "      <td>2016-05-21</td>\n",
       "      <td>172994.791667</td>\n",
       "    </tr>\n",
       "    <tr>\n",
       "      <th>1968</th>\n",
       "      <td>2016-05-22</td>\n",
       "      <td>172987.179487</td>\n",
       "    </tr>\n",
       "    <tr>\n",
       "      <th>1969</th>\n",
       "      <td>2016-05-23</td>\n",
       "      <td>172979.567308</td>\n",
       "    </tr>\n",
       "    <tr>\n",
       "      <th>1970</th>\n",
       "      <td>2016-05-24</td>\n",
       "      <td>172971.955128</td>\n",
       "    </tr>\n",
       "    <tr>\n",
       "      <th>1971</th>\n",
       "      <td>2016-05-25</td>\n",
       "      <td>172964.342949</td>\n",
       "    </tr>\n",
       "    <tr>\n",
       "      <th>1972</th>\n",
       "      <td>2016-05-26</td>\n",
       "      <td>172956.730769</td>\n",
       "    </tr>\n",
       "    <tr>\n",
       "      <th>1973</th>\n",
       "      <td>2016-05-27</td>\n",
       "      <td>172949.118590</td>\n",
       "    </tr>\n",
       "    <tr>\n",
       "      <th>1974</th>\n",
       "      <td>2016-05-28</td>\n",
       "      <td>172941.506410</td>\n",
       "    </tr>\n",
       "    <tr>\n",
       "      <th>1975</th>\n",
       "      <td>2016-05-29</td>\n",
       "      <td>172933.894231</td>\n",
       "    </tr>\n",
       "    <tr>\n",
       "      <th>1976</th>\n",
       "      <td>2016-05-30</td>\n",
       "      <td>172926.282051</td>\n",
       "    </tr>\n",
       "  </tbody>\n",
       "</table>\n",
       "<p>1977 rows × 2 columns</p>\n",
       "</div>"
      ],
      "text/plain": [
       "       timestamp  moscow_avg_price_avg_rub\n",
       "0     2011-01-01             137590.544872\n",
       "1     2011-01-02             137499.198718\n",
       "2     2011-01-03             137407.852564\n",
       "3     2011-01-04             137316.506410\n",
       "4     2011-01-05             137225.160256\n",
       "5     2011-01-06             137133.814103\n",
       "6     2011-01-07             137042.467949\n",
       "7     2011-01-08             136951.121795\n",
       "8     2011-01-09             136859.775641\n",
       "9     2011-01-10             136768.429487\n",
       "10    2011-01-11             136677.083333\n",
       "11    2011-01-12             136585.737179\n",
       "12    2011-01-13             136494.391026\n",
       "13    2011-01-14             136403.044872\n",
       "14    2011-01-15             136311.698718\n",
       "15    2011-01-16             136220.352564\n",
       "16    2011-01-17             136129.006410\n",
       "17    2011-01-18             136037.660256\n",
       "18    2011-01-19             135946.314103\n",
       "19    2011-01-20             135854.967949\n",
       "20    2011-01-21             135763.621795\n",
       "21    2011-01-22             135672.275641\n",
       "22    2011-01-23             135580.929487\n",
       "23    2011-01-24             135489.583333\n",
       "24    2011-01-25             135443.910256\n",
       "25    2011-01-26             135398.237179\n",
       "26    2011-01-27             135352.564103\n",
       "27    2011-01-28             135306.891026\n",
       "28    2011-01-29             135261.217949\n",
       "29    2011-01-30             135215.544872\n",
       "...          ...                       ...\n",
       "1947  2016-05-01             172454.326923\n",
       "1948  2016-05-02             172545.673077\n",
       "1949  2016-05-03             172637.019231\n",
       "1950  2016-05-04             172728.365385\n",
       "1951  2016-05-05             172819.711538\n",
       "1952  2016-05-06             172911.057692\n",
       "1953  2016-05-07             173002.403846\n",
       "1954  2016-05-08             173093.750000\n",
       "1955  2016-05-09             173086.137821\n",
       "1956  2016-05-10             173078.525641\n",
       "1957  2016-05-11             173070.913462\n",
       "1958  2016-05-12             173063.301282\n",
       "1959  2016-05-13             173055.689103\n",
       "1960  2016-05-14             173048.076923\n",
       "1961  2016-05-15             173040.464744\n",
       "1962  2016-05-16             173032.852564\n",
       "1963  2016-05-17             173025.240385\n",
       "1964  2016-05-18             173017.628205\n",
       "1965  2016-05-19             173010.016026\n",
       "1966  2016-05-20             173002.403846\n",
       "1967  2016-05-21             172994.791667\n",
       "1968  2016-05-22             172987.179487\n",
       "1969  2016-05-23             172979.567308\n",
       "1970  2016-05-24             172971.955128\n",
       "1971  2016-05-25             172964.342949\n",
       "1972  2016-05-26             172956.730769\n",
       "1973  2016-05-27             172949.118590\n",
       "1974  2016-05-28             172941.506410\n",
       "1975  2016-05-29             172933.894231\n",
       "1976  2016-05-30             172926.282051\n",
       "\n",
       "[1977 rows x 2 columns]"
      ]
     },
     "execution_count": 6,
     "metadata": {},
     "output_type": "execute_result"
    }
   ],
   "source": [
    "price"
   ]
  },
  {
   "cell_type": "code",
   "execution_count": 187,
   "metadata": {
    "collapsed": true
   },
   "outputs": [],
   "source": [
    "price = pd.read_csv('moscow_avg_price.csv')"
   ]
  },
  {
   "cell_type": "code",
   "execution_count": 16,
   "metadata": {
    "collapsed": true
   },
   "outputs": [],
   "source": [
    "train = train.merge(price,on='timestamp',how = 'left')\n",
    "test = test.merge(price,on = 'timestamp', how = 'left')"
   ]
  },
  {
   "cell_type": "code",
   "execution_count": 19,
   "metadata": {
    "collapsed": true
   },
   "outputs": [],
   "source": [
    "train['moscow_avg_price_rub'] = train['moscow_avg_price_rub']/train['full_sq']\n",
    "test['moscow_avg_price_rub'] = test['moscow_avg_price_rub']/test['full_sq']"
   ]
  },
  {
   "cell_type": "code",
   "execution_count": 23,
   "metadata": {
    "collapsed": true
   },
   "outputs": [],
   "source": [
    "train = train.replace(np.inf, np.nan)\n",
    "test = test.replace(np.inf,np.nan)"
   ]
  },
  {
   "cell_type": "code",
   "execution_count": 33,
   "metadata": {
    "collapsed": true
   },
   "outputs": [],
   "source": [
    "def get_feature_importance(model):\n",
    "    Importance = model.get_fscore()\n",
    "    Importance = list(Importance.items())\n",
    "    Feature= []\n",
    "    Score = []\n",
    "    for each in Importance:\n",
    "        Feature.append(each[0])\n",
    "        Score.append(each[1])\n",
    "    df = pd.DataFrame({'Feature':Feature,'Score':Score}).sort_values(by=['Score'],ascending=[0])\n",
    "    return df    "
   ]
  },
  {
   "cell_type": "markdown",
   "metadata": {},
   "source": [
    "**Fit the model**"
   ]
  },
  {
   "cell_type": "code",
   "execution_count": 27,
   "metadata": {
    "collapsed": true
   },
   "outputs": [],
   "source": [
    "label = train['price_doc']*0.95 + 10\n",
    "col = list(test.columns)[2:]"
   ]
  },
  {
   "cell_type": "code",
   "execution_count": 28,
   "metadata": {
    "collapsed": true
   },
   "outputs": [],
   "source": [
    "dtrain = xgb.DMatrix(train[col],label)\n",
    "dtest = xgb.DMatrix(test[col])"
   ]
  },
  {
   "cell_type": "code",
   "execution_count": 39,
   "metadata": {},
   "outputs": [
    {
     "name": "stdout",
     "output_type": "stream",
     "text": [
      "[0]\ttrain-rmse:7.7947e+06+45478\ttest-rmse:7.79967e+06+95275.6\n",
      "[50]\ttrain-rmse:2.37387e+06+40432.6\ttest-rmse:2.73536e+06+82409.3\n",
      "[100]\ttrain-rmse:2.07026e+06+26538.8\ttest-rmse:2.58058e+06+103695\n",
      "[150]\ttrain-rmse:1.95881e+06+25371.1\ttest-rmse:2.54896e+06+104488\n",
      "[200]\ttrain-rmse:1.87585e+06+18308.2\ttest-rmse:2.53077e+06+103705\n",
      "[250]\ttrain-rmse:1.80625e+06+20571\ttest-rmse:2.51933e+06+102223\n",
      "[300]\ttrain-rmse:1.74894e+06+18545.7\ttest-rmse:2.51221e+06+100952\n",
      "[350]\ttrain-rmse:1.69543e+06+16569.4\ttest-rmse:2.50903e+06+98330.5\n",
      "[400]\ttrain-rmse:1.64934e+06+14140.5\ttest-rmse:2.50469e+06+99086\n",
      "Performance doesnt improve from: 412\n"
     ]
    }
   ],
   "source": [
    "params = {\n",
    "   'eta': 0.05, ## Try 0.01,3,5\n",
    "   'max_depth': 5,## Try 4,5,6\n",
    "   'subsample': 0.7,\n",
    "   'colsample_bytree': 0.7,\n",
    "   'objective': 'reg:linear',\n",
    "    'eval_metric': 'rmse',\n",
    "    'silent': 1\n",
    "}\n",
    "xgb_cvalid = xgb.cv(params, dtrain, num_boost_round=1000, early_stopping_rounds=20,\n",
    "     verbose_eval=50, show_stdv=True,seed=42)\n",
    "print('Performance doesnt improve from: '+str(len(xgb_cvalid)))"
   ]
  },
  {
   "cell_type": "markdown",
   "metadata": {
    "collapsed": true
   },
   "source": [
    "Create a submission for this"
   ]
  },
  {
   "cell_type": "code",
   "execution_count": 43,
   "metadata": {},
   "outputs": [
    {
     "data": {
      "text/html": [
       "<div>\n",
       "<table border=\"1\" class=\"dataframe\">\n",
       "  <thead>\n",
       "    <tr style=\"text-align: right;\">\n",
       "      <th></th>\n",
       "      <th>Feature</th>\n",
       "      <th>Score</th>\n",
       "    </tr>\n",
       "  </thead>\n",
       "  <tbody>\n",
       "    <tr>\n",
       "      <th>15</th>\n",
       "      <td>full_sq</td>\n",
       "      <td>1053</td>\n",
       "    </tr>\n",
       "    <tr>\n",
       "      <th>188</th>\n",
       "      <td>moscow_avg_price_rub</td>\n",
       "      <td>535</td>\n",
       "    </tr>\n",
       "    <tr>\n",
       "      <th>98</th>\n",
       "      <td>life_sq</td>\n",
       "      <td>444</td>\n",
       "    </tr>\n",
       "    <tr>\n",
       "      <th>127</th>\n",
       "      <td>floor</td>\n",
       "      <td>358</td>\n",
       "    </tr>\n",
       "    <tr>\n",
       "      <th>37</th>\n",
       "      <td>max_floor</td>\n",
       "      <td>301</td>\n",
       "    </tr>\n",
       "    <tr>\n",
       "      <th>192</th>\n",
       "      <td>build_year</td>\n",
       "      <td>296</td>\n",
       "    </tr>\n",
       "    <tr>\n",
       "      <th>196</th>\n",
       "      <td>kitch_sq</td>\n",
       "      <td>147</td>\n",
       "    </tr>\n",
       "    <tr>\n",
       "      <th>187</th>\n",
       "      <td>state</td>\n",
       "      <td>127</td>\n",
       "    </tr>\n",
       "    <tr>\n",
       "      <th>82</th>\n",
       "      <td>num_room</td>\n",
       "      <td>121</td>\n",
       "    </tr>\n",
       "    <tr>\n",
       "      <th>41</th>\n",
       "      <td>radiation_km</td>\n",
       "      <td>111</td>\n",
       "    </tr>\n",
       "    <tr>\n",
       "      <th>173</th>\n",
       "      <td>kindergarten_km</td>\n",
       "      <td>107</td>\n",
       "    </tr>\n",
       "    <tr>\n",
       "      <th>262</th>\n",
       "      <td>railroad_km</td>\n",
       "      <td>105</td>\n",
       "    </tr>\n",
       "    <tr>\n",
       "      <th>209</th>\n",
       "      <td>metro_min_avto</td>\n",
       "      <td>88</td>\n",
       "    </tr>\n",
       "    <tr>\n",
       "      <th>168</th>\n",
       "      <td>material</td>\n",
       "      <td>85</td>\n",
       "    </tr>\n",
       "    <tr>\n",
       "      <th>28</th>\n",
       "      <td>big_road2_km</td>\n",
       "      <td>79</td>\n",
       "    </tr>\n",
       "    <tr>\n",
       "      <th>179</th>\n",
       "      <td>public_transport_station_km</td>\n",
       "      <td>78</td>\n",
       "    </tr>\n",
       "    <tr>\n",
       "      <th>5</th>\n",
       "      <td>green_zone_km</td>\n",
       "      <td>78</td>\n",
       "    </tr>\n",
       "    <tr>\n",
       "      <th>147</th>\n",
       "      <td>swim_pool_km</td>\n",
       "      <td>74</td>\n",
       "    </tr>\n",
       "    <tr>\n",
       "      <th>169</th>\n",
       "      <td>cemetery_km</td>\n",
       "      <td>73</td>\n",
       "    </tr>\n",
       "    <tr>\n",
       "      <th>156</th>\n",
       "      <td>hospice_morgue_km</td>\n",
       "      <td>72</td>\n",
       "    </tr>\n",
       "  </tbody>\n",
       "</table>\n",
       "</div>"
      ],
      "text/plain": [
       "                         Feature  Score\n",
       "15                       full_sq   1053\n",
       "188         moscow_avg_price_rub    535\n",
       "98                       life_sq    444\n",
       "127                        floor    358\n",
       "37                     max_floor    301\n",
       "192                   build_year    296\n",
       "196                     kitch_sq    147\n",
       "187                        state    127\n",
       "82                      num_room    121\n",
       "41                  radiation_km    111\n",
       "173              kindergarten_km    107\n",
       "262                  railroad_km    105\n",
       "209               metro_min_avto     88\n",
       "168                     material     85\n",
       "28                  big_road2_km     79\n",
       "179  public_transport_station_km     78\n",
       "5                  green_zone_km     78\n",
       "147                 swim_pool_km     74\n",
       "169                  cemetery_km     73\n",
       "156            hospice_morgue_km     72"
      ]
     },
     "execution_count": 43,
     "metadata": {},
     "output_type": "execute_result"
    }
   ],
   "source": [
    "model = xgb.train(params,dtrain,num_boost_round=412) ## Overfitting with all iterations?\n",
    "feature_importance = get_feature_importance(model)\n",
    "feature_importance.iloc[0:20,:]"
   ]
  },
  {
   "cell_type": "code",
   "execution_count": 41,
   "metadata": {
    "collapsed": true
   },
   "outputs": [],
   "source": [
    "pred = model.predict(dtest)\n",
    "sub = pd.DataFrame({'id':test['id'],'price_doc':pred})"
   ]
  },
  {
   "cell_type": "code",
   "execution_count": 42,
   "metadata": {
    "collapsed": true
   },
   "outputs": [],
   "source": [
    "sub.to_csv('xgb+original+average_priceNoLambda.csv',index=False)"
   ]
  },
  {
   "cell_type": "markdown",
   "metadata": {},
   "source": [
    "**LB: 0.32441 All Iterations**"
   ]
  },
  {
   "cell_type": "markdown",
   "metadata": {},
   "source": [
    "## Subsampled Data set with Gap as the target"
   ]
  },
  {
   "cell_type": "code",
   "execution_count": 60,
   "metadata": {
    "collapsed": true
   },
   "outputs": [],
   "source": [
    "train = pd.read_csv('train_clean.csv')\n",
    "test = pd.read_csv('test_clean.csv')\n",
    "train = train.merge(price,on='timestamp',how = 'left')\n",
    "test = test.merge(price,on = 'timestamp', how = 'left')"
   ]
  },
  {
   "cell_type": "code",
   "execution_count": 61,
   "metadata": {
    "collapsed": true
   },
   "outputs": [],
   "source": [
    "fullsq_fill = np.mean(train[train['full_sq'].notnull()]['full_sq'])\n",
    "train['full_sq'] = train['full_sq'].fillna(fullsq_fill)\n",
    "fullsq_fill = np.mean(test[test['full_sq'].notnull()]['full_sq'])\n",
    "test['full_sq'] = test['full_sq'].fillna(fullsq_fill)"
   ]
  },
  {
   "cell_type": "code",
   "execution_count": 62,
   "metadata": {
    "collapsed": true
   },
   "outputs": [],
   "source": [
    "#train['moscow_avg_price_low_rub'] = train['moscow_avg_price_low_rub']/train['full_sq']\n",
    "#test['moscow_avg_price_low_rub'] = test['moscow_avg_price_low_rub']/test['full_sq']"
   ]
  },
  {
   "cell_type": "code",
   "execution_count": 63,
   "metadata": {
    "collapsed": true
   },
   "outputs": [],
   "source": [
    "train = train.replace(np.inf, np.nan)\n",
    "test = test.replace(np.inf,np.nan)"
   ]
  },
  {
   "cell_type": "code",
   "execution_count": 64,
   "metadata": {
    "collapsed": true
   },
   "outputs": [],
   "source": [
    "# Add month-year\n",
    "train['timestamp'] = pd.to_datetime(train['timestamp'])\n",
    "month_year = (train.timestamp.dt.month + train.timestamp.dt.year * 100)\n",
    "month_year_cnt_map = month_year.value_counts().to_dict()\n",
    "train['month_year_cnt'] = month_year.map(month_year_cnt_map)\n",
    "test['timestamp'] = pd.to_datetime(test['timestamp'])\n",
    "month_year = (test.timestamp.dt.month + test.timestamp.dt.year * 100)\n",
    "month_year_cnt_map = month_year.value_counts().to_dict()\n",
    "test['month_year_cnt'] = month_year.map(month_year_cnt_map)\n",
    "# Add week-year count\n",
    "week_year = (train.timestamp.dt.weekofyear + train.timestamp.dt.year * 100)\n",
    "week_year_cnt_map = week_year.value_counts().to_dict()\n",
    "train['week_year_cnt'] = week_year.map(week_year_cnt_map)\n",
    "week_year = (test.timestamp.dt.weekofyear + test.timestamp.dt.year * 100)\n",
    "week_year_cnt_map = week_year.value_counts().to_dict()\n",
    "test['week_year_cnt'] = week_year.map(week_year_cnt_map)\n",
    "# Add month and day-of-week\n",
    "train['month'] = train.timestamp.dt.month\n",
    "train['dow'] = train.timestamp.dt.dayofweek\n",
    "test['month'] = test.timestamp.dt.month\n",
    "test['dow'] = test.timestamp.dt.dayofweek\n",
    "# Other feature engineering\n",
    "train['rel_floor'] = train['floor'] / train['max_floor'].astype(float)\n",
    "train['rel_kitch_sq'] = train['kitch_sq'] / train['full_sq'].astype(float)\n",
    "test['rel_floor'] = test['floor'] / test['max_floor'].astype(float)\n",
    "test['rel_kitch_sq'] = test['kitch_sq'] / test['full_sq'].astype(float)\n",
    "train.apartment_name=train.sub_area.astype(str) + train['metro_km_avto'].astype(str)\n",
    "test.apartment_name=test.sub_area.astype(str) + train['metro_km_avto'].astype(str)\n",
    "train['room_size'] = train['life_sq'] / train['num_room'].astype(float)\n",
    "test['room_size'] = test['life_sq'] / test['num_room'].astype(float)"
   ]
  },
  {
   "cell_type": "code",
   "execution_count": 65,
   "metadata": {
    "collapsed": true
   },
   "outputs": [],
   "source": [
    "macro_cols = ['timestamp',\"balance_trade\", \"balance_trade_growth\", \"eurrub\", \"average_provision_of_build_contract\",\n",
    "\"micex_rgbi_tr\", \"micex_cbi_tr\", \"deposits_rate\", \"mortgage_value\", \"mortgage_rate\",\n",
    "\"income_per_cap\", \"rent_price_4+room_bus\", \"museum_visitis_per_100_cap\", \"apartment_build\"]\n",
    "macro = pd.read_csv('macro_c.csv')[macro_cols]"
   ]
  },
  {
   "cell_type": "code",
   "execution_count": 66,
   "metadata": {
    "collapsed": true
   },
   "outputs": [],
   "source": [
    "train = train.merge(macro,how='left',on='timestamp')\n",
    "test = test.merge(macro,how='left',on='timestamp')"
   ]
  },
  {
   "cell_type": "code",
   "execution_count": 67,
   "metadata": {
    "collapsed": true
   },
   "outputs": [],
   "source": [
    "def get_ratio_preschool(df):\n",
    "    df['ratio_preschool'] = df['children_preschool'] / (df['children_school'] + 1)\n",
    "    return df\n",
    "\n",
    "train = get_ratio_preschool(train)\n",
    "test = get_ratio_preschool(test)\n",
    "\n",
    "def get_extra_area(df):\n",
    "    df['extra_area'] = df['full_sq'] - df['life_sq']\n",
    "    return df\n",
    "\n",
    "train = get_extra_area(train)\n",
    "test = get_extra_area(test)\n",
    "\n",
    "def get_floor_ratio(df):\n",
    "    df['floor_ratio'] = df['max_floor'] - df['floor']\n",
    "    return df\n",
    "\n",
    "train = get_floor_ratio(train)\n",
    "test = get_floor_ratio(test)\n",
    "\n",
    "def get_room_avg_size(df):\n",
    "    df['room_avg_size'] = (df['life_sq'] - df['kitch_sq']) / (df['num_room'] + 1)\n",
    "    return df\n",
    "\n",
    "train = get_room_avg_size(train)\n",
    "test = get_room_avg_size(test)"
   ]
  },
  {
   "cell_type": "markdown",
   "metadata": {},
   "source": [
    "**Bold Move**"
   ]
  },
  {
   "cell_type": "code",
   "execution_count": 68,
   "metadata": {},
   "outputs": [
    {
     "data": {
      "text/plain": [
       "(29262, 317)"
      ]
     },
     "execution_count": 68,
     "metadata": {},
     "output_type": "execute_result"
    }
   ],
   "source": [
    "train = train[train.moscow_avg_price_avg_rub.notnull()]\n",
    "train.shape"
   ]
  },
  {
   "cell_type": "code",
   "execution_count": 69,
   "metadata": {
    "collapsed": true
   },
   "outputs": [],
   "source": [
    "Price_sqm = [x/y for x,y in zip(list(train['price_doc']*0.95+10),list(train['full_sq']))]\n",
    "Price_gap = Price_sqm - train['moscow_avg_price_avg_rub']"
   ]
  },
  {
   "cell_type": "code",
   "execution_count": 70,
   "metadata": {
    "collapsed": true
   },
   "outputs": [],
   "source": [
    "train['Price_sqm'] = Price_sqm"
   ]
  },
  {
   "cell_type": "markdown",
   "metadata": {},
   "source": [
    "**Create New Features of SQ and Drop Redundant Ones**"
   ]
  },
  {
   "cell_type": "code",
   "execution_count": 71,
   "metadata": {
    "collapsed": true
   },
   "outputs": [],
   "source": [
    "train['life_sq_ratio'] = train['life_sq']/train['full_sq']\n",
    "train['kitch_sq_ratio'] = train['kitch_sq']/train['full_sq']\n",
    "test['life_sq_ratio'] = test['life_sq']/test['full_sq']\n",
    "test['kitch_sq_ratio'] = test['kitch_sq']/test['full_sq']"
   ]
  },
  {
   "cell_type": "code",
   "execution_count": 72,
   "metadata": {
    "collapsed": true
   },
   "outputs": [],
   "source": [
    "col = list(test.columns)[2:]\n",
    "col = [each for each in col if each not in ['full_sq','life_sq','kitch_sq']]\n",
    "label = train['Price_sqm']"
   ]
  },
  {
   "cell_type": "code",
   "execution_count": 76,
   "metadata": {
    "collapsed": true
   },
   "outputs": [],
   "source": [
    "dtrain = xgb.DMatrix(train[col],label)"
   ]
  },
  {
   "cell_type": "code",
   "execution_count": 77,
   "metadata": {},
   "outputs": [
    {
     "name": "stdout",
     "output_type": "stream",
     "text": [
      "[0]\ttrain-rmse:133513+614.99\ttest-rmse:133515+1251.11\n",
      "[50]\ttrain-rmse:34585+457.082\ttest-rmse:37293.6+1771.24\n",
      "[100]\ttrain-rmse:30287.3+321.5\ttest-rmse:35066+1807.64\n",
      "[150]\ttrain-rmse:28702.1+330.564\ttest-rmse:34718.2+1825.5\n",
      "[200]\ttrain-rmse:27513.2+270.886\ttest-rmse:34574.5+1841.89\n",
      "[250]\ttrain-rmse:26443.2+286.621\ttest-rmse:34450.9+1844.59\n",
      "[300]\ttrain-rmse:25481.9+297.655\ttest-rmse:34371.8+1847.45\n",
      "[350]\ttrain-rmse:24685.8+343.849\ttest-rmse:34321.7+1860.16\n",
      "353\n"
     ]
    }
   ],
   "source": [
    "params = {\n",
    "   'eta': 0.05, ## Try 0.01,3,5\n",
    "   'max_depth': 5,## Try 4,5,6\n",
    "   'subsample': 0.7,\n",
    "   'colsample_bytree': 0.7,\n",
    "   'objective': 'reg:linear',\n",
    "    'eval_metric': 'rmse',\n",
    "    'silent': 1\n",
    "}\n",
    "xgb_cvalid = xgb.cv(params, dtrain, num_boost_round=1000, early_stopping_rounds=20,\n",
    "     verbose_eval=50, show_stdv=True,seed=42)\n",
    "print(len(xgb_cvalid))"
   ]
  },
  {
   "cell_type": "code",
   "execution_count": null,
   "metadata": {
    "collapsed": true
   },
   "outputs": [],
   "source": [
    "[0]\ttrain-rmse:133513+614.837\ttest-rmse:133514+1251.8\n",
    "[50]\ttrain-rmse:34749.9+362.496\ttest-rmse:37396.1+1828.55\n",
    "[100]\ttrain-rmse:30665.1+342.071\ttest-rmse:35201.6+1791.8\n",
    "[150]\ttrain-rmse:29086+269.026\ttest-rmse:34881.4+1834.53\n",
    "[200]\ttrain-rmse:27856.7+264.026\ttest-rmse:34727.2+1822.09\n",
    "[250]\ttrain-rmse:26773+252.794\ttest-rmse:34665.8+1827.22\n",
    "[300]\ttrain-rmse:25856.5+275.036\ttest-rmse:34597.8+1823.6\n",
    "[350]\ttrain-rmse:25017.1+275.499\ttest-rmse:34568.2+1875.36\n",
    "[400]\ttrain-rmse:24257.9+281.502\ttest-rmse:34547.2+1871.69\n",
    "400"
   ]
  },
  {
   "cell_type": "code",
   "execution_count": 78,
   "metadata": {
    "collapsed": true
   },
   "outputs": [],
   "source": [
    "dtrain = xgb.DMatrix(train[col],label)\n",
    "model = xgb.train(params,dtrain,num_boost_round=353)"
   ]
  },
  {
   "cell_type": "code",
   "execution_count": 79,
   "metadata": {
    "collapsed": true
   },
   "outputs": [],
   "source": [
    "feature_importance = get_feature_importance(model).iloc[0:20,:]"
   ]
  },
  {
   "cell_type": "code",
   "execution_count": 80,
   "metadata": {},
   "outputs": [
    {
     "data": {
      "text/html": [
       "<div>\n",
       "<table border=\"1\" class=\"dataframe\">\n",
       "  <thead>\n",
       "    <tr style=\"text-align: right;\">\n",
       "      <th></th>\n",
       "      <th>Feature</th>\n",
       "      <th>Score</th>\n",
       "    </tr>\n",
       "  </thead>\n",
       "  <tbody>\n",
       "    <tr>\n",
       "      <th>258</th>\n",
       "      <td>floor</td>\n",
       "      <td>376</td>\n",
       "    </tr>\n",
       "    <tr>\n",
       "      <th>264</th>\n",
       "      <td>extra_area</td>\n",
       "      <td>371</td>\n",
       "    </tr>\n",
       "    <tr>\n",
       "      <th>168</th>\n",
       "      <td>build_year</td>\n",
       "      <td>293</td>\n",
       "    </tr>\n",
       "    <tr>\n",
       "      <th>92</th>\n",
       "      <td>max_floor</td>\n",
       "      <td>282</td>\n",
       "    </tr>\n",
       "    <tr>\n",
       "      <th>47</th>\n",
       "      <td>moscow_avg_price_avg_rub</td>\n",
       "      <td>250</td>\n",
       "    </tr>\n",
       "    <tr>\n",
       "      <th>113</th>\n",
       "      <td>life_sq_ratio</td>\n",
       "      <td>188</td>\n",
       "    </tr>\n",
       "    <tr>\n",
       "      <th>237</th>\n",
       "      <td>num_room</td>\n",
       "      <td>135</td>\n",
       "    </tr>\n",
       "    <tr>\n",
       "      <th>202</th>\n",
       "      <td>rel_kitch_sq</td>\n",
       "      <td>134</td>\n",
       "    </tr>\n",
       "    <tr>\n",
       "      <th>108</th>\n",
       "      <td>room_avg_size</td>\n",
       "      <td>106</td>\n",
       "    </tr>\n",
       "    <tr>\n",
       "      <th>222</th>\n",
       "      <td>week_year_cnt</td>\n",
       "      <td>101</td>\n",
       "    </tr>\n",
       "    <tr>\n",
       "      <th>198</th>\n",
       "      <td>material</td>\n",
       "      <td>97</td>\n",
       "    </tr>\n",
       "    <tr>\n",
       "      <th>188</th>\n",
       "      <td>state</td>\n",
       "      <td>96</td>\n",
       "    </tr>\n",
       "    <tr>\n",
       "      <th>9</th>\n",
       "      <td>metro_min_avto</td>\n",
       "      <td>95</td>\n",
       "    </tr>\n",
       "    <tr>\n",
       "      <th>169</th>\n",
       "      <td>room_size</td>\n",
       "      <td>92</td>\n",
       "    </tr>\n",
       "    <tr>\n",
       "      <th>64</th>\n",
       "      <td>water_km</td>\n",
       "      <td>92</td>\n",
       "    </tr>\n",
       "    <tr>\n",
       "      <th>28</th>\n",
       "      <td>kindergarten_km</td>\n",
       "      <td>88</td>\n",
       "    </tr>\n",
       "    <tr>\n",
       "      <th>102</th>\n",
       "      <td>railroad_km</td>\n",
       "      <td>76</td>\n",
       "    </tr>\n",
       "    <tr>\n",
       "      <th>269</th>\n",
       "      <td>month_year_cnt</td>\n",
       "      <td>76</td>\n",
       "    </tr>\n",
       "    <tr>\n",
       "      <th>85</th>\n",
       "      <td>rel_floor</td>\n",
       "      <td>76</td>\n",
       "    </tr>\n",
       "    <tr>\n",
       "      <th>24</th>\n",
       "      <td>metro_min_walk</td>\n",
       "      <td>75</td>\n",
       "    </tr>\n",
       "  </tbody>\n",
       "</table>\n",
       "</div>"
      ],
      "text/plain": [
       "                      Feature  Score\n",
       "258                     floor    376\n",
       "264                extra_area    371\n",
       "168                build_year    293\n",
       "92                  max_floor    282\n",
       "47   moscow_avg_price_avg_rub    250\n",
       "113             life_sq_ratio    188\n",
       "237                  num_room    135\n",
       "202              rel_kitch_sq    134\n",
       "108             room_avg_size    106\n",
       "222             week_year_cnt    101\n",
       "198                  material     97\n",
       "188                     state     96\n",
       "9              metro_min_avto     95\n",
       "169                 room_size     92\n",
       "64                   water_km     92\n",
       "28            kindergarten_km     88\n",
       "102               railroad_km     76\n",
       "269            month_year_cnt     76\n",
       "85                  rel_floor     76\n",
       "24             metro_min_walk     75"
      ]
     },
     "execution_count": 80,
     "metadata": {},
     "output_type": "execute_result"
    }
   ],
   "source": [
    "feature_importance"
   ]
  },
  {
   "cell_type": "code",
   "execution_count": 81,
   "metadata": {
    "collapsed": true
   },
   "outputs": [],
   "source": [
    "dtest = xgb.DMatrix(test[col])"
   ]
  },
  {
   "cell_type": "code",
   "execution_count": 82,
   "metadata": {
    "collapsed": true
   },
   "outputs": [],
   "source": [
    "pred = model.predict(dtest)\n",
    "Actual_predict = (pred)*test['full_sq']"
   ]
  },
  {
   "cell_type": "code",
   "execution_count": 83,
   "metadata": {
    "collapsed": true
   },
   "outputs": [],
   "source": [
    "sub = pd.DataFrame({'id':test['id'],'price_doc':Actual_predict})\n",
    "sub.to_csv('Retesting3+xgb+additional+subsampled+average_price+0.95label.csv',index=False)"
   ]
  },
  {
   "cell_type": "markdown",
   "metadata": {},
   "source": [
    "**0.31364**"
   ]
  },
  {
   "cell_type": "markdown",
   "metadata": {},
   "source": [
    "## Subsampled Data set with Feature Average Price using gb:linear"
   ]
  },
  {
   "cell_type": "code",
   "execution_count": 257,
   "metadata": {
    "collapsed": true
   },
   "outputs": [],
   "source": [
    "train = pd.read_csv('train_clean.csv')\n",
    "test = pd.read_csv('test_clean.csv')"
   ]
  },
  {
   "cell_type": "code",
   "execution_count": 258,
   "metadata": {
    "collapsed": true
   },
   "outputs": [],
   "source": [
    "# Add month-year\n",
    "train['timestamp'] = pd.to_datetime(train['timestamp'])\n",
    "month_year = (train.timestamp.dt.month + train.timestamp.dt.year * 100)\n",
    "month_year_cnt_map = month_year.value_counts().to_dict()\n",
    "train['month_year_cnt'] = month_year.map(month_year_cnt_map)\n",
    "test['timestamp'] = pd.to_datetime(test['timestamp'])\n",
    "month_year = (test.timestamp.dt.month + test.timestamp.dt.year * 100)\n",
    "month_year_cnt_map = month_year.value_counts().to_dict()\n",
    "test['month_year_cnt'] = month_year.map(month_year_cnt_map)\n",
    "# Add week-year count\n",
    "week_year = (train.timestamp.dt.weekofyear + train.timestamp.dt.year * 100)\n",
    "week_year_cnt_map = week_year.value_counts().to_dict()\n",
    "train['week_year_cnt'] = week_year.map(week_year_cnt_map)\n",
    "week_year = (test.timestamp.dt.weekofyear + test.timestamp.dt.year * 100)\n",
    "week_year_cnt_map = week_year.value_counts().to_dict()\n",
    "test['week_year_cnt'] = week_year.map(week_year_cnt_map)\n",
    "# Add month and day-of-week\n",
    "train['month'] = train.timestamp.dt.month\n",
    "train['dow'] = train.timestamp.dt.dayofweek\n",
    "test['month'] = test.timestamp.dt.month\n",
    "test['dow'] = test.timestamp.dt.dayofweek\n",
    "# Other feature engineering\n",
    "train['rel_floor'] = train['floor'] / train['max_floor'].astype(float)\n",
    "train['rel_kitch_sq'] = train['kitch_sq'] / train['full_sq'].astype(float)\n",
    "test['rel_floor'] = test['floor'] / test['max_floor'].astype(float)\n",
    "test['rel_kitch_sq'] = test['kitch_sq'] / test['full_sq'].astype(float)\n",
    "train.apartment_name=train.sub_area.astype(str) + train['metro_km_avto'].astype(str)\n",
    "test.apartment_name=test.sub_area.astype(str) + train['metro_km_avto'].astype(str)\n",
    "train['room_size'] = train['life_sq'] / train['num_room'].astype(float)\n",
    "test['room_size'] = test['life_sq'] / test['num_room'].astype(float)"
   ]
  },
  {
   "cell_type": "code",
   "execution_count": 259,
   "metadata": {
    "collapsed": true
   },
   "outputs": [],
   "source": [
    "macro_cols = ['timestamp',\"balance_trade\", \"balance_trade_growth\", \"eurrub\", \"average_provision_of_build_contract\",\n",
    "\"micex_rgbi_tr\", \"micex_cbi_tr\", \"deposits_rate\", \"mortgage_value\", \"mortgage_rate\",\n",
    "\"income_per_cap\", \"rent_price_4+room_bus\", \"museum_visitis_per_100_cap\", \"apartment_build\"]\n",
    "macro = pd.read_csv('macro_c.csv')[macro_cols]"
   ]
  },
  {
   "cell_type": "code",
   "execution_count": 260,
   "metadata": {
    "collapsed": true
   },
   "outputs": [],
   "source": [
    "train = train.merge(macro,how='left',on='timestamp')\n",
    "test = test.merge(macro,how='left',on='timestamp')"
   ]
  },
  {
   "cell_type": "code",
   "execution_count": 261,
   "metadata": {
    "collapsed": true
   },
   "outputs": [],
   "source": [
    "def get_ratio_preschool(df):\n",
    "    df['ratio_preschool'] = df['children_preschool'] / (df['children_school'] + 1)\n",
    "    return df\n",
    "\n",
    "train = get_ratio_preschool(train)\n",
    "test = get_ratio_preschool(test)\n",
    "\n",
    "def get_extra_area(df):\n",
    "    df['extra_area'] = df['full_sq'] - df['life_sq']\n",
    "    return df\n",
    "\n",
    "train = get_extra_area(train)\n",
    "test = get_extra_area(test)\n",
    "\n",
    "def get_floor_ratio(df):\n",
    "    df['floor_ratio'] = df['max_floor'] - df['floor']\n",
    "    return df\n",
    "\n",
    "train = get_floor_ratio(train)\n",
    "test = get_floor_ratio(test)\n",
    "\n",
    "def get_room_avg_size(df):\n",
    "    df['room_avg_size'] = (df['life_sq'] - df['kitch_sq']) / (df['num_room'] + 1)\n",
    "    return df\n",
    "\n",
    "train = get_room_avg_size(train)\n",
    "test = get_room_avg_size(test)"
   ]
  },
  {
   "cell_type": "code",
   "execution_count": 262,
   "metadata": {
    "collapsed": true
   },
   "outputs": [],
   "source": [
    "fullsq_fill = np.mean(train[train['full_sq'].notnull()]['full_sq'])\n",
    "train['full_sq'] = train['full_sq'].fillna(fullsq_fill)\n",
    "fullsq_fill = np.mean(test[test['full_sq'].notnull()]['full_sq'])\n",
    "test['full_sq'] = test['full_sq'].fillna(fullsq_fill)"
   ]
  },
  {
   "cell_type": "code",
   "execution_count": 263,
   "metadata": {
    "collapsed": true
   },
   "outputs": [],
   "source": [
    "train['avg_price'] = train['price_doc']/train['full_sq']"
   ]
  },
  {
   "cell_type": "markdown",
   "metadata": {},
   "source": [
    "**Calculate the average price per sqrm for each sub area**"
   ]
  },
  {
   "cell_type": "code",
   "execution_count": 284,
   "metadata": {
    "collapsed": true
   },
   "outputs": [],
   "source": [
    "price = train.groupby(['sub_area'])['avg_price'].mean()\n",
    "sub_area = price.index"
   ]
  },
  {
   "cell_type": "code",
   "execution_count": 289,
   "metadata": {
    "collapsed": true
   },
   "outputs": [],
   "source": [
    "subarea_avg = pd.DataFrame({'sub_area':sub_area,'sub_avg_price':price}).reset_index(drop=True)"
   ]
  },
  {
   "cell_type": "code",
   "execution_count": 290,
   "metadata": {
    "collapsed": true
   },
   "outputs": [],
   "source": [
    "train = train.merge(subarea_avg,how='left',on='sub_area')\n",
    "test = test.merge(subarea_avg,how='left',on='sub_area')"
   ]
  },
  {
   "cell_type": "code",
   "execution_count": 291,
   "metadata": {
    "collapsed": true
   },
   "outputs": [],
   "source": [
    "del train['avg_price']"
   ]
  },
  {
   "cell_type": "code",
   "execution_count": 294,
   "metadata": {
    "collapsed": true
   },
   "outputs": [],
   "source": [
    "col = list(test.columns)[2:]\n",
    "label = train['price_doc']"
   ]
  },
  {
   "cell_type": "code",
   "execution_count": 295,
   "metadata": {
    "collapsed": true
   },
   "outputs": [],
   "source": [
    "dtrain = xgb.DMatrix(train[col],label)"
   ]
  },
  {
   "cell_type": "code",
   "execution_count": 296,
   "metadata": {},
   "outputs": [
    {
     "name": "stdout",
     "output_type": "stream",
     "text": [
      "[0]\ttrain-rmse:8.3586e+06+16274.1\ttest-rmse:8.36429e+06+26572.4\n",
      "[50]\ttrain-rmse:2.21799e+06+26375.4\ttest-rmse:2.66704e+06+108087\n",
      "[100]\ttrain-rmse:1.88487e+06+11029\ttest-rmse:2.49606e+06+117576\n",
      "[150]\ttrain-rmse:1.76283e+06+8308.07\ttest-rmse:2.46068e+06+115387\n",
      "[200]\ttrain-rmse:1.66958e+06+3675.63\ttest-rmse:2.43904e+06+115952\n",
      "[250]\ttrain-rmse:1.59469e+06+7365.5\ttest-rmse:2.42396e+06+115038\n",
      "[300]\ttrain-rmse:1.52901e+06+6984.82\ttest-rmse:2.41548e+06+112460\n",
      "[350]\ttrain-rmse:1.47478e+06+9523.39\ttest-rmse:2.40856e+06+112232\n",
      "374\n"
     ]
    }
   ],
   "source": [
    "params = {\n",
    "   'eta': 0.05, ## Try 0.01,3,5\n",
    "   'max_depth': 5,## Try 4,5,6\n",
    "   'subsample': 0.7,\n",
    "   'colsample_bytree': 0.7,\n",
    "   'objective': 'reg:linear',\n",
    "    'eval_metric': 'rmse',\n",
    "    'silent': 1\n",
    "}\n",
    "xgb_cvalid = xgb.cv(params, dtrain, num_boost_round=1000, early_stopping_rounds=20,\n",
    "     verbose_eval=50, show_stdv=True,seed=42)\n",
    "print(len(xgb_cvalid))"
   ]
  },
  {
   "cell_type": "code",
   "execution_count": 297,
   "metadata": {
    "collapsed": true
   },
   "outputs": [],
   "source": [
    "model = xgb.train(params,dtrain,num_boost_round=len(xgb_cvalid))"
   ]
  },
  {
   "cell_type": "code",
   "execution_count": 298,
   "metadata": {
    "collapsed": true
   },
   "outputs": [],
   "source": [
    "dtest = xgb.DMatrix(test[col])"
   ]
  },
  {
   "cell_type": "code",
   "execution_count": 299,
   "metadata": {
    "collapsed": true
   },
   "outputs": [],
   "source": [
    "pred = model.predict(dtest)"
   ]
  },
  {
   "cell_type": "code",
   "execution_count": 300,
   "metadata": {
    "collapsed": true
   },
   "outputs": [],
   "source": [
    "sub_avg_price = pd.DataFrame({'id':test['id'],'price_doc':pred})"
   ]
  },
  {
   "cell_type": "code",
   "execution_count": 301,
   "metadata": {
    "collapsed": true
   },
   "outputs": [],
   "source": [
    "sub_avg_price.to_csv('Average_Sub_Area_Price+original_label.csv',index=False)"
   ]
  },
  {
   "cell_type": "code",
   "execution_count": null,
   "metadata": {
    "collapsed": true
   },
   "outputs": [],
   "source": []
  }
 ],
 "metadata": {
  "kernelspec": {
   "display_name": "Python 3",
   "language": "python",
   "name": "python3"
  },
  "language_info": {
   "codemirror_mode": {
    "name": "ipython",
    "version": 3
   },
   "file_extension": ".py",
   "mimetype": "text/x-python",
   "name": "python",
   "nbconvert_exporter": "python",
   "pygments_lexer": "ipython3",
   "version": "3.5.2"
  }
 },
 "nbformat": 4,
 "nbformat_minor": 2
}
